{
 "cells": [
  {
   "cell_type": "markdown",
   "id": "c229d6a2-3416-4092-8bea-9984145ced3c",
   "metadata": {},
   "source": [
    "# Base Model"
   ]
  },
  {
   "cell_type": "code",
   "execution_count": 1,
   "id": "49c412a2-12c3-4ca1-95fa-e860ceb4d016",
   "metadata": {},
   "outputs": [],
   "source": [
    "# imports\n",
    "import pandas as pd\n",
    "import numpy as np\n",
    "from tqdm import tqdm\n",
    "\n",
    "from sklearn.preprocessing import MultiLabelBinarizer\n",
    "from skmultilearn.model_selection import IterativeStratification\n",
    "from sklearn.multiclass import OneVsRestClassifier\n",
    "from nltk.tokenize import sent_tokenize, word_tokenize\n",
    "from nltk.stem import PorterStemmer\n",
    "from nltk.corpus import stopwords\n",
    "\n",
    "from sklearn.model_selection import train_test_split, GridSearchCV \n",
    "from sklearn.pipeline import Pipeline \n",
    "from sklearn.naive_bayes import MultinomialNB \n",
    "from sklearn.metrics import confusion_matrix, ConfusionMatrixDisplay\n",
    "from sklearn.feature_extraction.text import TfidfVectorizer\n",
    "from sklearn.metrics import classification_report\n",
    "\n",
    "import matplotlib.pyplot as plt"
   ]
  },
  {
   "cell_type": "code",
   "execution_count": 2,
   "id": "8a6db8b8-2869-4614-a338-3718af805731",
   "metadata": {},
   "outputs": [],
   "source": [
    "df = pd.read_csv('./datasets/all_movies_rated_only_cleaned_02.csv')"
   ]
  },
  {
   "cell_type": "code",
   "execution_count": 3,
   "id": "b02b93e3-c648-4fd3-a8f8-3cb8ea5e102f",
   "metadata": {},
   "outputs": [
    {
     "data": {
      "text/html": [
       "<div>\n",
       "<style scoped>\n",
       "    .dataframe tbody tr th:only-of-type {\n",
       "        vertical-align: middle;\n",
       "    }\n",
       "\n",
       "    .dataframe tbody tr th {\n",
       "        vertical-align: top;\n",
       "    }\n",
       "\n",
       "    .dataframe thead th {\n",
       "        text-align: right;\n",
       "    }\n",
       "</style>\n",
       "<table border=\"1\" class=\"dataframe\">\n",
       "  <thead>\n",
       "    <tr style=\"text-align: right;\">\n",
       "      <th></th>\n",
       "      <th>Genre</th>\n",
       "      <th>Title</th>\n",
       "      <th>Year_produced</th>\n",
       "      <th>Certificate</th>\n",
       "      <th>Ratings</th>\n",
       "      <th>Description</th>\n",
       "      <th>Actors</th>\n",
       "      <th>Actor_1</th>\n",
       "      <th>Actor_2</th>\n",
       "      <th>Actor_3</th>\n",
       "      <th>Actor_4</th>\n",
       "      <th>Description_length</th>\n",
       "      <th>Description_word_count</th>\n",
       "      <th>labels</th>\n",
       "    </tr>\n",
       "  </thead>\n",
       "  <tbody>\n",
       "    <tr>\n",
       "      <th>0</th>\n",
       "      <td>Comedy</td>\n",
       "      <td>Beef</td>\n",
       "      <td>(2023– )</td>\n",
       "      <td>TV-MA</td>\n",
       "      <td>8.2</td>\n",
       "      <td>Two people let a road rage incident burrow int...</td>\n",
       "      <td>['Steven Yeun', 'Ali Wong', 'Joseph Lee', 'You...</td>\n",
       "      <td>Steven Yeun</td>\n",
       "      <td>Ali Wong</td>\n",
       "      <td>Joseph Lee</td>\n",
       "      <td>Young Mazino</td>\n",
       "      <td>110</td>\n",
       "      <td>19</td>\n",
       "      <td>1</td>\n",
       "    </tr>\n",
       "    <tr>\n",
       "      <th>1</th>\n",
       "      <td>Comedy</td>\n",
       "      <td>Succession</td>\n",
       "      <td>(2018–2023)</td>\n",
       "      <td>TV-MA</td>\n",
       "      <td>8.8</td>\n",
       "      <td>The Roy family is known for controlling the bi...</td>\n",
       "      <td>['Nicholas Braun', 'Brian Cox', 'Kieran Culkin...</td>\n",
       "      <td>Nicholas Braun</td>\n",
       "      <td>Brian Cox</td>\n",
       "      <td>Kieran Culkin</td>\n",
       "      <td>Peter Friedman</td>\n",
       "      <td>173</td>\n",
       "      <td>28</td>\n",
       "      <td>1</td>\n",
       "    </tr>\n",
       "    <tr>\n",
       "      <th>2</th>\n",
       "      <td>Comedy</td>\n",
       "      <td>The Super Mario Bros. Movie</td>\n",
       "      <td>(2023)</td>\n",
       "      <td>PG</td>\n",
       "      <td>7.3</td>\n",
       "      <td>The story of The Super Mario Bros. on their jo...</td>\n",
       "      <td>['Chris Pratt', 'Anya Taylor-Joy', 'Charlie Da...</td>\n",
       "      <td>Chris Pratt</td>\n",
       "      <td>Anya Taylor-Joy</td>\n",
       "      <td>Charlie Day</td>\n",
       "      <td>Jack Black</td>\n",
       "      <td>81</td>\n",
       "      <td>14</td>\n",
       "      <td>1</td>\n",
       "    </tr>\n",
       "    <tr>\n",
       "      <th>3</th>\n",
       "      <td>Comedy</td>\n",
       "      <td>Ted Lasso</td>\n",
       "      <td>(2020– )</td>\n",
       "      <td>TV-MA</td>\n",
       "      <td>8.8</td>\n",
       "      <td>American college football coach Ted Lasso head...</td>\n",
       "      <td>['Jason Sudeikis', 'Brett Goldstein', 'Hannah ...</td>\n",
       "      <td>Jason Sudeikis</td>\n",
       "      <td>Brett Goldstein</td>\n",
       "      <td>Hannah Waddingham</td>\n",
       "      <td>Brendan Hunt</td>\n",
       "      <td>132</td>\n",
       "      <td>20</td>\n",
       "      <td>1</td>\n",
       "    </tr>\n",
       "    <tr>\n",
       "      <th>4</th>\n",
       "      <td>Comedy</td>\n",
       "      <td>Ghosted</td>\n",
       "      <td>(2023)</td>\n",
       "      <td>13+</td>\n",
       "      <td>5.8</td>\n",
       "      <td>Cole falls head over heels for enigmatic Sadie...</td>\n",
       "      <td>['Chris Evans', 'Ana de Armas', 'Adrien Brody'...</td>\n",
       "      <td>Chris Evans</td>\n",
       "      <td>Ana de Armas</td>\n",
       "      <td>Adrien Brody</td>\n",
       "      <td>Mike Moh</td>\n",
       "      <td>232</td>\n",
       "      <td>41</td>\n",
       "      <td>0</td>\n",
       "    </tr>\n",
       "  </tbody>\n",
       "</table>\n",
       "</div>"
      ],
      "text/plain": [
       "    Genre                        Title Year_produced Certificate  Ratings  \\\n",
       "0  Comedy                         Beef      (2023– )       TV-MA      8.2   \n",
       "1  Comedy                   Succession   (2018–2023)       TV-MA      8.8   \n",
       "2  Comedy  The Super Mario Bros. Movie        (2023)          PG      7.3   \n",
       "3  Comedy                    Ted Lasso      (2020– )       TV-MA      8.8   \n",
       "4  Comedy                      Ghosted        (2023)         13+      5.8   \n",
       "\n",
       "                                         Description  \\\n",
       "0  Two people let a road rage incident burrow int...   \n",
       "1  The Roy family is known for controlling the bi...   \n",
       "2  The story of The Super Mario Bros. on their jo...   \n",
       "3  American college football coach Ted Lasso head...   \n",
       "4  Cole falls head over heels for enigmatic Sadie...   \n",
       "\n",
       "                                              Actors         Actor_1  \\\n",
       "0  ['Steven Yeun', 'Ali Wong', 'Joseph Lee', 'You...     Steven Yeun   \n",
       "1  ['Nicholas Braun', 'Brian Cox', 'Kieran Culkin...  Nicholas Braun   \n",
       "2  ['Chris Pratt', 'Anya Taylor-Joy', 'Charlie Da...     Chris Pratt   \n",
       "3  ['Jason Sudeikis', 'Brett Goldstein', 'Hannah ...  Jason Sudeikis   \n",
       "4  ['Chris Evans', 'Ana de Armas', 'Adrien Brody'...     Chris Evans   \n",
       "\n",
       "           Actor_2            Actor_3         Actor_4  Description_length  \\\n",
       "0         Ali Wong         Joseph Lee    Young Mazino                 110   \n",
       "1        Brian Cox      Kieran Culkin  Peter Friedman                 173   \n",
       "2  Anya Taylor-Joy        Charlie Day      Jack Black                  81   \n",
       "3  Brett Goldstein  Hannah Waddingham    Brendan Hunt                 132   \n",
       "4     Ana de Armas       Adrien Brody        Mike Moh                 232   \n",
       "\n",
       "   Description_word_count  labels  \n",
       "0                      19       1  \n",
       "1                      28       1  \n",
       "2                      14       1  \n",
       "3                      20       1  \n",
       "4                      41       0  "
      ]
     },
     "execution_count": 3,
     "metadata": {},
     "output_type": "execute_result"
    }
   ],
   "source": [
    "df.head()"
   ]
  },
  {
   "cell_type": "code",
   "execution_count": 4,
   "id": "ba929235-df5e-486b-9ae9-9e92d7502792",
   "metadata": {},
   "outputs": [
    {
     "data": {
      "text/plain": [
       "(190248, 14)"
      ]
     },
     "execution_count": 4,
     "metadata": {},
     "output_type": "execute_result"
    }
   ],
   "source": [
    "df.shape"
   ]
  },
  {
   "cell_type": "markdown",
   "id": "9dd2cbc8-a281-4b0e-a975-43a31118427a",
   "metadata": {},
   "source": [
    "## Data Preprocessing"
   ]
  },
  {
   "cell_type": "markdown",
   "id": "60cf5ac6-ca8a-4752-aef3-2d1a0434c352",
   "metadata": {},
   "source": [
    "## Drop unnecessary columns"
   ]
  },
  {
   "cell_type": "markdown",
   "id": "bfb5ea68-15d8-405c-bd23-24f6d472aaa3",
   "metadata": {},
   "source": [
    "Strategy:\n",
    "1. Drop website, actors, ratings and Id"
   ]
  },
  {
   "cell_type": "code",
   "execution_count": 5,
   "id": "9b2eab4d-1d24-4cda-97d3-584b996f0e33",
   "metadata": {},
   "outputs": [],
   "source": [
    "df.drop(columns = ['Actors'], inplace = True)"
   ]
  },
  {
   "cell_type": "code",
   "execution_count": 6,
   "id": "014a0c5f-5133-43b0-a660-7b8b065537bc",
   "metadata": {},
   "outputs": [
    {
     "data": {
      "text/html": [
       "<div>\n",
       "<style scoped>\n",
       "    .dataframe tbody tr th:only-of-type {\n",
       "        vertical-align: middle;\n",
       "    }\n",
       "\n",
       "    .dataframe tbody tr th {\n",
       "        vertical-align: top;\n",
       "    }\n",
       "\n",
       "    .dataframe thead th {\n",
       "        text-align: right;\n",
       "    }\n",
       "</style>\n",
       "<table border=\"1\" class=\"dataframe\">\n",
       "  <thead>\n",
       "    <tr style=\"text-align: right;\">\n",
       "      <th></th>\n",
       "      <th>Genre</th>\n",
       "      <th>Title</th>\n",
       "      <th>Year_produced</th>\n",
       "      <th>Certificate</th>\n",
       "      <th>Ratings</th>\n",
       "      <th>Description</th>\n",
       "      <th>Actor_1</th>\n",
       "      <th>Actor_2</th>\n",
       "      <th>Actor_3</th>\n",
       "      <th>Actor_4</th>\n",
       "      <th>Description_length</th>\n",
       "      <th>Description_word_count</th>\n",
       "      <th>labels</th>\n",
       "    </tr>\n",
       "  </thead>\n",
       "  <tbody>\n",
       "    <tr>\n",
       "      <th>0</th>\n",
       "      <td>Comedy</td>\n",
       "      <td>Beef</td>\n",
       "      <td>(2023– )</td>\n",
       "      <td>TV-MA</td>\n",
       "      <td>8.2</td>\n",
       "      <td>Two people let a road rage incident burrow int...</td>\n",
       "      <td>Steven Yeun</td>\n",
       "      <td>Ali Wong</td>\n",
       "      <td>Joseph Lee</td>\n",
       "      <td>Young Mazino</td>\n",
       "      <td>110</td>\n",
       "      <td>19</td>\n",
       "      <td>1</td>\n",
       "    </tr>\n",
       "    <tr>\n",
       "      <th>1</th>\n",
       "      <td>Comedy</td>\n",
       "      <td>Succession</td>\n",
       "      <td>(2018–2023)</td>\n",
       "      <td>TV-MA</td>\n",
       "      <td>8.8</td>\n",
       "      <td>The Roy family is known for controlling the bi...</td>\n",
       "      <td>Nicholas Braun</td>\n",
       "      <td>Brian Cox</td>\n",
       "      <td>Kieran Culkin</td>\n",
       "      <td>Peter Friedman</td>\n",
       "      <td>173</td>\n",
       "      <td>28</td>\n",
       "      <td>1</td>\n",
       "    </tr>\n",
       "    <tr>\n",
       "      <th>2</th>\n",
       "      <td>Comedy</td>\n",
       "      <td>The Super Mario Bros. Movie</td>\n",
       "      <td>(2023)</td>\n",
       "      <td>PG</td>\n",
       "      <td>7.3</td>\n",
       "      <td>The story of The Super Mario Bros. on their jo...</td>\n",
       "      <td>Chris Pratt</td>\n",
       "      <td>Anya Taylor-Joy</td>\n",
       "      <td>Charlie Day</td>\n",
       "      <td>Jack Black</td>\n",
       "      <td>81</td>\n",
       "      <td>14</td>\n",
       "      <td>1</td>\n",
       "    </tr>\n",
       "    <tr>\n",
       "      <th>3</th>\n",
       "      <td>Comedy</td>\n",
       "      <td>Ted Lasso</td>\n",
       "      <td>(2020– )</td>\n",
       "      <td>TV-MA</td>\n",
       "      <td>8.8</td>\n",
       "      <td>American college football coach Ted Lasso head...</td>\n",
       "      <td>Jason Sudeikis</td>\n",
       "      <td>Brett Goldstein</td>\n",
       "      <td>Hannah Waddingham</td>\n",
       "      <td>Brendan Hunt</td>\n",
       "      <td>132</td>\n",
       "      <td>20</td>\n",
       "      <td>1</td>\n",
       "    </tr>\n",
       "    <tr>\n",
       "      <th>4</th>\n",
       "      <td>Comedy</td>\n",
       "      <td>Ghosted</td>\n",
       "      <td>(2023)</td>\n",
       "      <td>13+</td>\n",
       "      <td>5.8</td>\n",
       "      <td>Cole falls head over heels for enigmatic Sadie...</td>\n",
       "      <td>Chris Evans</td>\n",
       "      <td>Ana de Armas</td>\n",
       "      <td>Adrien Brody</td>\n",
       "      <td>Mike Moh</td>\n",
       "      <td>232</td>\n",
       "      <td>41</td>\n",
       "      <td>0</td>\n",
       "    </tr>\n",
       "  </tbody>\n",
       "</table>\n",
       "</div>"
      ],
      "text/plain": [
       "    Genre                        Title Year_produced Certificate  Ratings  \\\n",
       "0  Comedy                         Beef      (2023– )       TV-MA      8.2   \n",
       "1  Comedy                   Succession   (2018–2023)       TV-MA      8.8   \n",
       "2  Comedy  The Super Mario Bros. Movie        (2023)          PG      7.3   \n",
       "3  Comedy                    Ted Lasso      (2020– )       TV-MA      8.8   \n",
       "4  Comedy                      Ghosted        (2023)         13+      5.8   \n",
       "\n",
       "                                         Description         Actor_1  \\\n",
       "0  Two people let a road rage incident burrow int...     Steven Yeun   \n",
       "1  The Roy family is known for controlling the bi...  Nicholas Braun   \n",
       "2  The story of The Super Mario Bros. on their jo...     Chris Pratt   \n",
       "3  American college football coach Ted Lasso head...  Jason Sudeikis   \n",
       "4  Cole falls head over heels for enigmatic Sadie...     Chris Evans   \n",
       "\n",
       "           Actor_2            Actor_3         Actor_4  Description_length  \\\n",
       "0         Ali Wong         Joseph Lee    Young Mazino                 110   \n",
       "1        Brian Cox      Kieran Culkin  Peter Friedman                 173   \n",
       "2  Anya Taylor-Joy        Charlie Day      Jack Black                  81   \n",
       "3  Brett Goldstein  Hannah Waddingham    Brendan Hunt                 132   \n",
       "4     Ana de Armas       Adrien Brody        Mike Moh                 232   \n",
       "\n",
       "   Description_word_count  labels  \n",
       "0                      19       1  \n",
       "1                      28       1  \n",
       "2                      14       1  \n",
       "3                      20       1  \n",
       "4                      41       0  "
      ]
     },
     "execution_count": 6,
     "metadata": {},
     "output_type": "execute_result"
    }
   ],
   "source": [
    "df.head()"
   ]
  },
  {
   "cell_type": "code",
   "execution_count": 7,
   "id": "90bb85b4-d1d0-4da5-96ed-e18ab8d5dcc5",
   "metadata": {},
   "outputs": [
    {
     "data": {
      "text/plain": [
       "(190248, 13)"
      ]
     },
     "execution_count": 7,
     "metadata": {},
     "output_type": "execute_result"
    }
   ],
   "source": [
    "df.shape"
   ]
  },
  {
   "cell_type": "markdown",
   "id": "0e0ae902-7ddb-4f4b-a318-6a8269432c0f",
   "metadata": {},
   "source": [
    "remarks: Columns has been dropped."
   ]
  },
  {
   "cell_type": "code",
   "execution_count": 8,
   "id": "98f3529d-eeca-47bf-bc53-e031bbea6715",
   "metadata": {},
   "outputs": [],
   "source": [
    "df['Description'].fillna('-', inplace=True)\n",
    "df['Actor_1'].fillna('-', inplace=True)\n",
    "df['Actor_2'].fillna('-', inplace=True)\n",
    "df['Actor_3'].fillna('-', inplace=True)\n",
    "df['Actor_4'].fillna('-', inplace=True)"
   ]
  },
  {
   "cell_type": "code",
   "execution_count": 9,
   "id": "ed12458c-cfdb-4bfc-a8c1-c336d8ede08d",
   "metadata": {},
   "outputs": [],
   "source": [
    "df['Ratings'] = df['Ratings'].astype(str)"
   ]
  },
  {
   "cell_type": "code",
   "execution_count": 10,
   "id": "75bd81ae-416f-4b75-82f6-6346258d52c9",
   "metadata": {},
   "outputs": [
    {
     "data": {
      "text/plain": [
       "Index(['Genre', 'Title', 'Year_produced', 'Certificate', 'Ratings',\n",
       "       'Description', 'Actor_1', 'Actor_2', 'Actor_3', 'Actor_4',\n",
       "       'Description_length', 'Description_word_count', 'labels'],\n",
       "      dtype='object')"
      ]
     },
     "execution_count": 10,
     "metadata": {},
     "output_type": "execute_result"
    }
   ],
   "source": [
    "df.columns"
   ]
  },
  {
   "cell_type": "code",
   "execution_count": 11,
   "id": "87fb2fa2-7a19-435a-aef3-e2de0cccddff",
   "metadata": {},
   "outputs": [],
   "source": [
    "X = df.drop(columns = ['Genre','Ratings', 'Year_produced', 'labels', 'Description_length', 'Description_word_count'])"
   ]
  },
  {
   "cell_type": "code",
   "execution_count": 12,
   "id": "66531e56-1054-4dc1-bc82-4d8c34ab536d",
   "metadata": {},
   "outputs": [
    {
     "data": {
      "text/html": [
       "<div>\n",
       "<style scoped>\n",
       "    .dataframe tbody tr th:only-of-type {\n",
       "        vertical-align: middle;\n",
       "    }\n",
       "\n",
       "    .dataframe tbody tr th {\n",
       "        vertical-align: top;\n",
       "    }\n",
       "\n",
       "    .dataframe thead th {\n",
       "        text-align: right;\n",
       "    }\n",
       "</style>\n",
       "<table border=\"1\" class=\"dataframe\">\n",
       "  <thead>\n",
       "    <tr style=\"text-align: right;\">\n",
       "      <th></th>\n",
       "      <th>Title</th>\n",
       "      <th>Certificate</th>\n",
       "      <th>Description</th>\n",
       "      <th>Actor_1</th>\n",
       "      <th>Actor_2</th>\n",
       "      <th>Actor_3</th>\n",
       "      <th>Actor_4</th>\n",
       "    </tr>\n",
       "  </thead>\n",
       "  <tbody>\n",
       "    <tr>\n",
       "      <th>0</th>\n",
       "      <td>Beef</td>\n",
       "      <td>TV-MA</td>\n",
       "      <td>Two people let a road rage incident burrow int...</td>\n",
       "      <td>Steven Yeun</td>\n",
       "      <td>Ali Wong</td>\n",
       "      <td>Joseph Lee</td>\n",
       "      <td>Young Mazino</td>\n",
       "    </tr>\n",
       "    <tr>\n",
       "      <th>1</th>\n",
       "      <td>Succession</td>\n",
       "      <td>TV-MA</td>\n",
       "      <td>The Roy family is known for controlling the bi...</td>\n",
       "      <td>Nicholas Braun</td>\n",
       "      <td>Brian Cox</td>\n",
       "      <td>Kieran Culkin</td>\n",
       "      <td>Peter Friedman</td>\n",
       "    </tr>\n",
       "    <tr>\n",
       "      <th>2</th>\n",
       "      <td>The Super Mario Bros. Movie</td>\n",
       "      <td>PG</td>\n",
       "      <td>The story of The Super Mario Bros. on their jo...</td>\n",
       "      <td>Chris Pratt</td>\n",
       "      <td>Anya Taylor-Joy</td>\n",
       "      <td>Charlie Day</td>\n",
       "      <td>Jack Black</td>\n",
       "    </tr>\n",
       "    <tr>\n",
       "      <th>3</th>\n",
       "      <td>Ted Lasso</td>\n",
       "      <td>TV-MA</td>\n",
       "      <td>American college football coach Ted Lasso head...</td>\n",
       "      <td>Jason Sudeikis</td>\n",
       "      <td>Brett Goldstein</td>\n",
       "      <td>Hannah Waddingham</td>\n",
       "      <td>Brendan Hunt</td>\n",
       "    </tr>\n",
       "    <tr>\n",
       "      <th>4</th>\n",
       "      <td>Ghosted</td>\n",
       "      <td>13+</td>\n",
       "      <td>Cole falls head over heels for enigmatic Sadie...</td>\n",
       "      <td>Chris Evans</td>\n",
       "      <td>Ana de Armas</td>\n",
       "      <td>Adrien Brody</td>\n",
       "      <td>Mike Moh</td>\n",
       "    </tr>\n",
       "  </tbody>\n",
       "</table>\n",
       "</div>"
      ],
      "text/plain": [
       "                         Title Certificate  \\\n",
       "0                         Beef       TV-MA   \n",
       "1                   Succession       TV-MA   \n",
       "2  The Super Mario Bros. Movie          PG   \n",
       "3                    Ted Lasso       TV-MA   \n",
       "4                      Ghosted         13+   \n",
       "\n",
       "                                         Description         Actor_1  \\\n",
       "0  Two people let a road rage incident burrow int...     Steven Yeun   \n",
       "1  The Roy family is known for controlling the bi...  Nicholas Braun   \n",
       "2  The story of The Super Mario Bros. on their jo...     Chris Pratt   \n",
       "3  American college football coach Ted Lasso head...  Jason Sudeikis   \n",
       "4  Cole falls head over heels for enigmatic Sadie...     Chris Evans   \n",
       "\n",
       "           Actor_2            Actor_3         Actor_4  \n",
       "0         Ali Wong         Joseph Lee    Young Mazino  \n",
       "1        Brian Cox      Kieran Culkin  Peter Friedman  \n",
       "2  Anya Taylor-Joy        Charlie Day      Jack Black  \n",
       "3  Brett Goldstein  Hannah Waddingham    Brendan Hunt  \n",
       "4     Ana de Armas       Adrien Brody        Mike Moh  "
      ]
     },
     "execution_count": 12,
     "metadata": {},
     "output_type": "execute_result"
    }
   ],
   "source": [
    "X.head()"
   ]
  },
  {
   "cell_type": "code",
   "execution_count": 13,
   "id": "f34ed2f2-1200-4782-9c6f-73184ca83c06",
   "metadata": {},
   "outputs": [],
   "source": [
    "stemmer = PorterStemmer(mode=PorterStemmer.NLTK_EXTENSIONS)"
   ]
  },
  {
   "cell_type": "code",
   "execution_count": 14,
   "id": "9cbd57fb-835f-452b-8d86-ced5c32ed3d6",
   "metadata": {},
   "outputs": [
    {
     "name": "stderr",
     "output_type": "stream",
     "text": [
      "100%|████████████████████████████████████████████| 7/7 [04:08<00:00, 35.50s/it]\n"
     ]
    }
   ],
   "source": [
    "new_tokenize_X = pd.DataFrame()\n",
    "for i in tqdm(range(len(X.columns))):\n",
    "    tokenize_X = df[X.columns[i]].apply(lambda x: word_tokenize(str(x).lower()))\n",
    "    stem_X = tokenize_X.apply(lambda tokens: [stemmer.stem(token) for token in tokens])\n",
    "    new_tokenize_X[X.columns[i]] = stem_X"
   ]
  },
  {
   "cell_type": "code",
   "execution_count": 15,
   "id": "3db18e70-540e-4042-994a-a36adf1d9cc6",
   "metadata": {},
   "outputs": [
    {
     "data": {
      "text/html": [
       "<div>\n",
       "<style scoped>\n",
       "    .dataframe tbody tr th:only-of-type {\n",
       "        vertical-align: middle;\n",
       "    }\n",
       "\n",
       "    .dataframe tbody tr th {\n",
       "        vertical-align: top;\n",
       "    }\n",
       "\n",
       "    .dataframe thead th {\n",
       "        text-align: right;\n",
       "    }\n",
       "</style>\n",
       "<table border=\"1\" class=\"dataframe\">\n",
       "  <thead>\n",
       "    <tr style=\"text-align: right;\">\n",
       "      <th></th>\n",
       "      <th>Title</th>\n",
       "      <th>Certificate</th>\n",
       "      <th>Description</th>\n",
       "      <th>Actor_1</th>\n",
       "      <th>Actor_2</th>\n",
       "      <th>Actor_3</th>\n",
       "      <th>Actor_4</th>\n",
       "    </tr>\n",
       "  </thead>\n",
       "  <tbody>\n",
       "    <tr>\n",
       "      <th>0</th>\n",
       "      <td>[beef]</td>\n",
       "      <td>[tv-ma]</td>\n",
       "      <td>[two, peopl, let, a, road, rage, incid, burrow...</td>\n",
       "      <td>[steven, yeun]</td>\n",
       "      <td>[ali, wong]</td>\n",
       "      <td>[joseph, lee]</td>\n",
       "      <td>[young, mazino]</td>\n",
       "    </tr>\n",
       "    <tr>\n",
       "      <th>1</th>\n",
       "      <td>[success]</td>\n",
       "      <td>[tv-ma]</td>\n",
       "      <td>[the, roy, famili, is, known, for, control, th...</td>\n",
       "      <td>[nichola, braun]</td>\n",
       "      <td>[brian, cox]</td>\n",
       "      <td>[kieran, culkin]</td>\n",
       "      <td>[peter, friedman]</td>\n",
       "    </tr>\n",
       "    <tr>\n",
       "      <th>2</th>\n",
       "      <td>[the, super, mario, bros., movi]</td>\n",
       "      <td>[pg]</td>\n",
       "      <td>[the, stori, of, the, super, mario, bros., on,...</td>\n",
       "      <td>[chri, pratt]</td>\n",
       "      <td>[anya, taylor-joy]</td>\n",
       "      <td>[charli, day]</td>\n",
       "      <td>[jack, black]</td>\n",
       "    </tr>\n",
       "    <tr>\n",
       "      <th>3</th>\n",
       "      <td>[ted, lasso]</td>\n",
       "      <td>[tv-ma]</td>\n",
       "      <td>[american, colleg, footbal, coach, ted, lasso,...</td>\n",
       "      <td>[jason, sudeiki]</td>\n",
       "      <td>[brett, goldstein]</td>\n",
       "      <td>[hannah, waddingham]</td>\n",
       "      <td>[brendan, hunt]</td>\n",
       "    </tr>\n",
       "    <tr>\n",
       "      <th>4</th>\n",
       "      <td>[ghost]</td>\n",
       "      <td>[13+]</td>\n",
       "      <td>[cole, fall, head, over, heel, for, enigmat, s...</td>\n",
       "      <td>[chri, evan]</td>\n",
       "      <td>[ana, de, arma]</td>\n",
       "      <td>[adrien, brodi]</td>\n",
       "      <td>[mike, moh]</td>\n",
       "    </tr>\n",
       "  </tbody>\n",
       "</table>\n",
       "</div>"
      ],
      "text/plain": [
       "                              Title Certificate  \\\n",
       "0                            [beef]     [tv-ma]   \n",
       "1                         [success]     [tv-ma]   \n",
       "2  [the, super, mario, bros., movi]        [pg]   \n",
       "3                      [ted, lasso]     [tv-ma]   \n",
       "4                           [ghost]       [13+]   \n",
       "\n",
       "                                         Description           Actor_1  \\\n",
       "0  [two, peopl, let, a, road, rage, incid, burrow...    [steven, yeun]   \n",
       "1  [the, roy, famili, is, known, for, control, th...  [nichola, braun]   \n",
       "2  [the, stori, of, the, super, mario, bros., on,...     [chri, pratt]   \n",
       "3  [american, colleg, footbal, coach, ted, lasso,...  [jason, sudeiki]   \n",
       "4  [cole, fall, head, over, heel, for, enigmat, s...      [chri, evan]   \n",
       "\n",
       "              Actor_2               Actor_3            Actor_4  \n",
       "0         [ali, wong]         [joseph, lee]    [young, mazino]  \n",
       "1        [brian, cox]      [kieran, culkin]  [peter, friedman]  \n",
       "2  [anya, taylor-joy]         [charli, day]      [jack, black]  \n",
       "3  [brett, goldstein]  [hannah, waddingham]    [brendan, hunt]  \n",
       "4     [ana, de, arma]       [adrien, brodi]        [mike, moh]  "
      ]
     },
     "execution_count": 15,
     "metadata": {},
     "output_type": "execute_result"
    }
   ],
   "source": [
    "new_tokenize_X.head()"
   ]
  },
  {
   "cell_type": "code",
   "execution_count": 16,
   "id": "f68a0a55-1d0d-49f3-be06-6a53e8db296d",
   "metadata": {},
   "outputs": [
    {
     "name": "stdout",
     "output_type": "stream",
     "text": [
      "CPU times: total: 500 ms\n",
      "Wall time: 565 ms\n"
     ]
    }
   ],
   "source": [
    "%%time\n",
    "X_df = pd.DataFrame()\n",
    "for i in range(len(new_tokenize_X.columns)):\n",
    "    convert_to_string = new_tokenize_X[new_tokenize_X.columns[i]].apply(lambda x: ' '.join(x) if x else '')\n",
    "    X_df[new_tokenize_X.columns[i]] = convert_to_string"
   ]
  },
  {
   "cell_type": "code",
   "execution_count": 17,
   "id": "6c957614-601a-4659-883b-cd95bb220266",
   "metadata": {},
   "outputs": [
    {
     "data": {
      "text/html": [
       "<div>\n",
       "<style scoped>\n",
       "    .dataframe tbody tr th:only-of-type {\n",
       "        vertical-align: middle;\n",
       "    }\n",
       "\n",
       "    .dataframe tbody tr th {\n",
       "        vertical-align: top;\n",
       "    }\n",
       "\n",
       "    .dataframe thead th {\n",
       "        text-align: right;\n",
       "    }\n",
       "</style>\n",
       "<table border=\"1\" class=\"dataframe\">\n",
       "  <thead>\n",
       "    <tr style=\"text-align: right;\">\n",
       "      <th></th>\n",
       "      <th>Title</th>\n",
       "      <th>Certificate</th>\n",
       "      <th>Description</th>\n",
       "      <th>Actor_1</th>\n",
       "      <th>Actor_2</th>\n",
       "      <th>Actor_3</th>\n",
       "      <th>Actor_4</th>\n",
       "    </tr>\n",
       "  </thead>\n",
       "  <tbody>\n",
       "    <tr>\n",
       "      <th>0</th>\n",
       "      <td>beef</td>\n",
       "      <td>tv-ma</td>\n",
       "      <td>two peopl let a road rage incid burrow into th...</td>\n",
       "      <td>steven yeun</td>\n",
       "      <td>ali wong</td>\n",
       "      <td>joseph lee</td>\n",
       "      <td>young mazino</td>\n",
       "    </tr>\n",
       "    <tr>\n",
       "      <th>1</th>\n",
       "      <td>success</td>\n",
       "      <td>tv-ma</td>\n",
       "      <td>the roy famili is known for control the bigges...</td>\n",
       "      <td>nichola braun</td>\n",
       "      <td>brian cox</td>\n",
       "      <td>kieran culkin</td>\n",
       "      <td>peter friedman</td>\n",
       "    </tr>\n",
       "    <tr>\n",
       "      <th>2</th>\n",
       "      <td>the super mario bros. movi</td>\n",
       "      <td>pg</td>\n",
       "      <td>the stori of the super mario bros. on their jo...</td>\n",
       "      <td>chri pratt</td>\n",
       "      <td>anya taylor-joy</td>\n",
       "      <td>charli day</td>\n",
       "      <td>jack black</td>\n",
       "    </tr>\n",
       "    <tr>\n",
       "      <th>3</th>\n",
       "      <td>ted lasso</td>\n",
       "      <td>tv-ma</td>\n",
       "      <td>american colleg footbal coach ted lasso head t...</td>\n",
       "      <td>jason sudeiki</td>\n",
       "      <td>brett goldstein</td>\n",
       "      <td>hannah waddingham</td>\n",
       "      <td>brendan hunt</td>\n",
       "    </tr>\n",
       "    <tr>\n",
       "      <th>4</th>\n",
       "      <td>ghost</td>\n",
       "      <td>13+</td>\n",
       "      <td>cole fall head over heel for enigmat sadi , bu...</td>\n",
       "      <td>chri evan</td>\n",
       "      <td>ana de arma</td>\n",
       "      <td>adrien brodi</td>\n",
       "      <td>mike moh</td>\n",
       "    </tr>\n",
       "  </tbody>\n",
       "</table>\n",
       "</div>"
      ],
      "text/plain": [
       "                        Title Certificate  \\\n",
       "0                        beef       tv-ma   \n",
       "1                     success       tv-ma   \n",
       "2  the super mario bros. movi          pg   \n",
       "3                   ted lasso       tv-ma   \n",
       "4                       ghost         13+   \n",
       "\n",
       "                                         Description        Actor_1  \\\n",
       "0  two peopl let a road rage incid burrow into th...    steven yeun   \n",
       "1  the roy famili is known for control the bigges...  nichola braun   \n",
       "2  the stori of the super mario bros. on their jo...     chri pratt   \n",
       "3  american colleg footbal coach ted lasso head t...  jason sudeiki   \n",
       "4  cole fall head over heel for enigmat sadi , bu...      chri evan   \n",
       "\n",
       "           Actor_2            Actor_3         Actor_4  \n",
       "0         ali wong         joseph lee    young mazino  \n",
       "1        brian cox      kieran culkin  peter friedman  \n",
       "2  anya taylor-joy         charli day      jack black  \n",
       "3  brett goldstein  hannah waddingham    brendan hunt  \n",
       "4      ana de arma       adrien brodi        mike moh  "
      ]
     },
     "execution_count": 17,
     "metadata": {},
     "output_type": "execute_result"
    }
   ],
   "source": [
    "X_df.head()"
   ]
  },
  {
   "cell_type": "code",
   "execution_count": 18,
   "id": "8cbe5c12-7f7d-416b-85a5-44d49a4e435c",
   "metadata": {},
   "outputs": [],
   "source": [
    "X = X_df['Title'] + ' ' + X_df['Certificate'] + ' ' + X_df['Description'] + ' ' + X_df['Actor_1'] + ' ' + X_df['Actor_2'] + ' ' + X_df['Actor_3'] + ' ' + X_df['Actor_4']"
   ]
  },
  {
   "cell_type": "markdown",
   "id": "43e0a04d-4921-4a2c-8ce9-ab9c4d79ac63",
   "metadata": {},
   "source": [
    "Remarks: tokenizing, stemming completed."
   ]
  },
  {
   "cell_type": "code",
   "execution_count": 19,
   "id": "9584562f-c467-44c2-bfbb-9a9fd174644b",
   "metadata": {},
   "outputs": [],
   "source": [
    "y = df['labels']"
   ]
  },
  {
   "cell_type": "code",
   "execution_count": 20,
   "id": "0364e3e3-145a-4a00-878b-10d7a3acaf36",
   "metadata": {},
   "outputs": [
    {
     "data": {
      "text/plain": [
       "1    0.532915\n",
       "0    0.467085\n",
       "Name: labels, dtype: float64"
      ]
     },
     "execution_count": 20,
     "metadata": {},
     "output_type": "execute_result"
    }
   ],
   "source": [
    "y.value_counts(normalize=True )"
   ]
  },
  {
   "cell_type": "markdown",
   "id": "b71a106e-b49d-4f4b-92a9-df71504dba0e",
   "metadata": {},
   "source": [
    "Train Test Split"
   ]
  },
  {
   "cell_type": "code",
   "execution_count": 21,
   "id": "c7290883-ec0c-4cba-a376-d9bb78f1c5b9",
   "metadata": {},
   "outputs": [],
   "source": [
    "X.reset_index(drop=True, inplace=True)\n",
    "y.reset_index(drop=True, inplace=True)"
   ]
  },
  {
   "cell_type": "code",
   "execution_count": 22,
   "id": "1c7d42bd-a744-48a7-9bf1-ebc08f49aaf8",
   "metadata": {},
   "outputs": [
    {
     "data": {
      "text/plain": [
       "0    beef tv-ma two peopl let a road rage incid bur...\n",
       "1    success tv-ma the roy famili is known for cont...\n",
       "2    the super mario bros. movi pg the stori of the...\n",
       "3    ted lasso tv-ma american colleg footbal coach ...\n",
       "4    ghost 13+ cole fall head over heel for enigmat...\n",
       "dtype: object"
      ]
     },
     "execution_count": 22,
     "metadata": {},
     "output_type": "execute_result"
    }
   ],
   "source": [
    "X.head()"
   ]
  },
  {
   "cell_type": "code",
   "execution_count": 23,
   "id": "75422bf5-c30b-4abd-b659-1e66a117e84e",
   "metadata": {},
   "outputs": [
    {
     "data": {
      "text/plain": [
       "0    1\n",
       "1    1\n",
       "2    1\n",
       "3    1\n",
       "4    0\n",
       "Name: labels, dtype: int64"
      ]
     },
     "execution_count": 23,
     "metadata": {},
     "output_type": "execute_result"
    }
   ],
   "source": [
    "y.head()"
   ]
  },
  {
   "cell_type": "code",
   "execution_count": 24,
   "id": "a34da8c2-948e-4e6c-9e01-6c22d84234a0",
   "metadata": {},
   "outputs": [],
   "source": [
    "X_train, X_test, y_train, y_test = train_test_split(X, y, random_state=42)"
   ]
  },
  {
   "cell_type": "code",
   "execution_count": 25,
   "id": "9273d3ab-6504-4c05-be8c-0dd52c781863",
   "metadata": {},
   "outputs": [
    {
     "name": "stdout",
     "output_type": "stream",
     "text": [
      "X_train shape: (142686,)\n",
      "X_test shape: (47562,)\n",
      "y_train shape: (142686,)\n",
      "y_test shape: (47562,)\n"
     ]
    }
   ],
   "source": [
    "print(\"X_train shape:\", X_train.shape)\n",
    "print(\"X_test shape:\", X_test.shape)\n",
    "print(\"y_train shape:\", y_train.shape)\n",
    "print(\"y_test shape:\", y_test.shape)\n"
   ]
  },
  {
   "cell_type": "code",
   "execution_count": 26,
   "id": "055ee73a-bab5-4e8b-96b0-9f22b883d088",
   "metadata": {},
   "outputs": [],
   "source": [
    "tfidf = TfidfVectorizer(stop_words = 'english')"
   ]
  },
  {
   "cell_type": "markdown",
   "id": "103cd889-c62d-4a96-914b-fbbe92aae20f",
   "metadata": {
    "tags": []
   },
   "source": [
    "## Naive Bayes Model"
   ]
  },
  {
   "cell_type": "code",
   "execution_count": 41,
   "id": "8065872e-e0ff-4f40-bac0-0f85ddbcef73",
   "metadata": {},
   "outputs": [],
   "source": [
    "nb = MultinomialNB()"
   ]
  },
  {
   "cell_type": "code",
   "execution_count": 54,
   "id": "5ec708ff-e0a5-4b80-9751-853d86d95ff0",
   "metadata": {},
   "outputs": [],
   "source": [
    "pipe_nb_gs = Pipeline([('tfidf',tfidf),('nb',nb)])"
   ]
  },
  {
   "cell_type": "code",
   "execution_count": 58,
   "id": "5c92b6d3-557d-4d7b-abc6-5e906b35eb7e",
   "metadata": {},
   "outputs": [],
   "source": [
    "pipe_nb_gs_params = {'nb__alpha':[0.1,0.5]}"
   ]
  },
  {
   "cell_type": "code",
   "execution_count": 59,
   "id": "b1b3e24a-7da7-4875-93d8-4f1ce942227b",
   "metadata": {},
   "outputs": [],
   "source": [
    "nb_gs = GridSearchCV(pipe_nb_gs, pipe_nb_gs_params, cv=5, verbose=1, error_score='raise')"
   ]
  },
  {
   "cell_type": "code",
   "execution_count": 60,
   "id": "3a3b63f7-f00f-44a6-81c4-e18f174c52bf",
   "metadata": {
    "scrolled": true,
    "tags": []
   },
   "outputs": [
    {
     "name": "stdout",
     "output_type": "stream",
     "text": [
      "Fitting 5 folds for each of 2 candidates, totalling 10 fits\n"
     ]
    }
   ],
   "source": [
    "nb_model = nb_gs.fit(X_train, y_train)"
   ]
  },
  {
   "cell_type": "code",
   "execution_count": 61,
   "id": "7c8aa951-c3cf-4fcb-92a6-f9ff3e77e2d2",
   "metadata": {},
   "outputs": [],
   "source": [
    "pred_test = nb_gs.predict(X_test)"
   ]
  },
  {
   "cell_type": "code",
   "execution_count": 62,
   "id": "13802947-d8e6-490e-96bf-d854ef64e908",
   "metadata": {},
   "outputs": [],
   "source": [
    "pred_train = nb_gs.predict(X_train)"
   ]
  },
  {
   "cell_type": "code",
   "execution_count": 63,
   "id": "0c9698c8-9995-4137-a99e-1a15372ddf19",
   "metadata": {},
   "outputs": [
    {
     "data": {
      "text/plain": [
       "0.870344672918156"
      ]
     },
     "execution_count": 63,
     "metadata": {},
     "output_type": "execute_result"
    }
   ],
   "source": [
    "nb_model.score(X_train,y_train)"
   ]
  },
  {
   "cell_type": "code",
   "execution_count": 64,
   "id": "33821163-488e-48cf-af79-cc4d25fea48f",
   "metadata": {},
   "outputs": [
    {
     "data": {
      "text/plain": [
       "0.81428451284639"
      ]
     },
     "execution_count": 64,
     "metadata": {},
     "output_type": "execute_result"
    }
   ],
   "source": [
    "nb_model.score(X_test,y_test)"
   ]
  },
  {
   "cell_type": "code",
   "execution_count": 65,
   "id": "95b1db67-851a-41a9-8755-36f2450528d8",
   "metadata": {},
   "outputs": [
    {
     "data": {
      "text/plain": [
       "{'nb__alpha': 0.1}"
      ]
     },
     "execution_count": 65,
     "metadata": {},
     "output_type": "execute_result"
    }
   ],
   "source": [
    "nb_gs.best_params_"
   ]
  },
  {
   "cell_type": "code",
   "execution_count": 66,
   "id": "bb33bb82-713b-486c-8525-04e267743286",
   "metadata": {},
   "outputs": [
    {
     "name": "stdout",
     "output_type": "stream",
     "text": [
      "              precision    recall  f1-score   support\n",
      "\n",
      "         Bad       0.78      0.85      0.81     22119\n",
      "        Good       0.85      0.79      0.82     25443\n",
      "\n",
      "    accuracy                           0.81     47562\n",
      "   macro avg       0.81      0.82      0.81     47562\n",
      "weighted avg       0.82      0.81      0.81     47562\n",
      "\n"
     ]
    }
   ],
   "source": [
    "print(classification_report(y_test, pred_test, target_names=['Bad', 'Good']))"
   ]
  },
  {
   "cell_type": "code",
   "execution_count": 67,
   "id": "d03c2054-228c-463c-adae-0d4ed963f0e3",
   "metadata": {},
   "outputs": [
    {
     "name": "stdout",
     "output_type": "stream",
     "text": [
      "              precision    recall  f1-score   support\n",
      "\n",
      "         Bad       0.84      0.90      0.87     66743\n",
      "        Good       0.91      0.84      0.87     75943\n",
      "\n",
      "    accuracy                           0.87    142686\n",
      "   macro avg       0.87      0.87      0.87    142686\n",
      "weighted avg       0.87      0.87      0.87    142686\n",
      "\n"
     ]
    }
   ],
   "source": [
    "print(classification_report(y_train, pred_train, target_names=['Bad', 'Good']))"
   ]
  },
  {
   "cell_type": "code",
   "execution_count": 68,
   "id": "45e7213c-263a-4496-bcfb-3811f048bb80",
   "metadata": {},
   "outputs": [
    {
     "data": {
      "image/png": "[encoded data removed]",
      "text/plain": [
       "<Figure size 432x288 with 2 Axes>"
      ]
     },
     "metadata": {
      "needs_background": "light"
     },
     "output_type": "display_data"
    }
   ],
   "source": [
    "# plot confusion matrix\n",
    "cm = confusion_matrix(y_test, pred_test)\n",
    "disp = ConfusionMatrixDisplay(confusion_matrix=cm, display_labels=['Bad', 'Good'])\n",
    "disp.plot();\n",
    "\n",
    "plt.title(\"Confusion Matrix\")\n",
    "plt.show()"
   ]
  },
  {
   "cell_type": "markdown",
   "id": "99775e27-d2ee-44fa-9b3a-9a5e6a1fdcf2",
   "metadata": {},
   "source": [
    "# Base Model Discussion"
   ]
  },
  {
   "cell_type": "markdown",
   "id": "40a5925d-2032-468b-8ac1-6f733c7d9680",
   "metadata": {},
   "source": [
    "In analyzing the given confusion matrix, it is evident that the model performs well in terms of true positive and true negative predictions. However, the presence of a high number of false positive cases is concerning. False positives occur when the model incorrectly predicts instances as positive when they actually belong to the negative class. This can lead to potential misclassifications and incorrect decisions.\n",
    "\n",
    "To gain a more comprehensive understanding of the model's performance, accuracy metrics are provided. The training accuracy is 87.0%, indicating that the model correctly predicts around 87% of the cases in the training set. On the other hand, the testing accuracy is 81.4%, which is slightly lower than the training accuracy. This discrepancy of approximately 6% suggests the presence of overfitting, where the model is excessively tailored to the training data and struggles to generalize well to unseen data.\n",
    "\n",
    "To improve the model's performance, two key areas need to be addressed. First, the high number of false positive cases should be reduced. This can be achieved by adjusting the model's threshold or applying different classification techniques that are more effective in handling false positives. By reducing false positives, the model will be more accurate in identifying instances belonging to the correct class.\n",
    "\n",
    "Second, the issue of overfitting needs to be addressed. Overfitting occurs when the model becomes too specific to the training data and fails to generalize well to new data.\n",
    "\n",
    "The aim of model improvement is to reduce presence of overfitting and reducing number of false positive cases."
   ]
  }
 ],
 "metadata": {
  "kernelspec": {
   "display_name": "Python 3 (ipykernel)",
   "language": "python",
   "name": "python3"
  },
  "language_info": {
   "codemirror_mode": {
    "name": "ipython",
    "version": 3
   },
   "file_extension": ".py",
   "mimetype": "text/x-python",
   "name": "python",
   "nbconvert_exporter": "python",
   "pygments_lexer": "ipython3",
   "version": "3.10.9"
  }
 },
 "nbformat": 4,
 "nbformat_minor": 5
}
