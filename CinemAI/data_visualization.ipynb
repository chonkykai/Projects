{
 "cells": [
  {
   "cell_type": "markdown",
   "id": "7b281876-a404-4c92-95fe-043560776197",
   "metadata": {},
   "source": [
    "# Data Visualization"
   ]
  },
  {
   "cell_type": "code",
   "execution_count": 1,
   "id": "abf09c58-41c7-48d2-b865-b2650bc3e7f6",
   "metadata": {},
   "outputs": [],
   "source": [
    "#import libries\n",
    "import numpy as np\n",
    "import pandas as pd\n",
    "import re\n",
    "\n",
    "import seaborn as sns\n",
    "import matplotlib.pyplot as plt"
   ]
  },
  {
   "cell_type": "code",
   "execution_count": 2,
   "id": "6d29f2e7-071b-47c4-a24b-9f66c5d950af",
   "metadata": {},
   "outputs": [],
   "source": [
    "df = pd.read_csv('datasets/all_movies_rated_only_cleaned_02.csv')"
   ]
  },
  {
   "cell_type": "code",
   "execution_count": 3,
   "id": "d4073581-3df8-4989-9945-5bb9d11cdb1c",
   "metadata": {},
   "outputs": [
    {
     "data": {
      "text/html": [
       "<div>\n",
       "<style scoped>\n",
       "    .dataframe tbody tr th:only-of-type {\n",
       "        vertical-align: middle;\n",
       "    }\n",
       "\n",
       "    .dataframe tbody tr th {\n",
       "        vertical-align: top;\n",
       "    }\n",
       "\n",
       "    .dataframe thead th {\n",
       "        text-align: right;\n",
       "    }\n",
       "</style>\n",
       "<table border=\"1\" class=\"dataframe\">\n",
       "  <thead>\n",
       "    <tr style=\"text-align: right;\">\n",
       "      <th></th>\n",
       "      <th>Genre</th>\n",
       "      <th>Title</th>\n",
       "      <th>Year_produced</th>\n",
       "      <th>Certificate</th>\n",
       "      <th>Ratings</th>\n",
       "      <th>Description</th>\n",
       "      <th>Actors</th>\n",
       "      <th>Actor_1</th>\n",
       "      <th>Actor_2</th>\n",
       "      <th>Actor_3</th>\n",
       "      <th>Actor_4</th>\n",
       "      <th>Description_length</th>\n",
       "      <th>Description_word_count</th>\n",
       "      <th>labels</th>\n",
       "    </tr>\n",
       "  </thead>\n",
       "  <tbody>\n",
       "    <tr>\n",
       "      <th>0</th>\n",
       "      <td>Comedy</td>\n",
       "      <td>Beef</td>\n",
       "      <td>(2023– )</td>\n",
       "      <td>TV-MA</td>\n",
       "      <td>8.2</td>\n",
       "      <td>Two people let a road rage incident burrow int...</td>\n",
       "      <td>['Steven Yeun', 'Ali Wong', 'Joseph Lee', 'You...</td>\n",
       "      <td>Steven Yeun</td>\n",
       "      <td>Ali Wong</td>\n",
       "      <td>Joseph Lee</td>\n",
       "      <td>Young Mazino</td>\n",
       "      <td>110</td>\n",
       "      <td>19</td>\n",
       "      <td>1</td>\n",
       "    </tr>\n",
       "    <tr>\n",
       "      <th>1</th>\n",
       "      <td>Comedy</td>\n",
       "      <td>Succession</td>\n",
       "      <td>(2018–2023)</td>\n",
       "      <td>TV-MA</td>\n",
       "      <td>8.8</td>\n",
       "      <td>The Roy family is known for controlling the bi...</td>\n",
       "      <td>['Nicholas Braun', 'Brian Cox', 'Kieran Culkin...</td>\n",
       "      <td>Nicholas Braun</td>\n",
       "      <td>Brian Cox</td>\n",
       "      <td>Kieran Culkin</td>\n",
       "      <td>Peter Friedman</td>\n",
       "      <td>173</td>\n",
       "      <td>28</td>\n",
       "      <td>1</td>\n",
       "    </tr>\n",
       "    <tr>\n",
       "      <th>2</th>\n",
       "      <td>Comedy</td>\n",
       "      <td>The Super Mario Bros. Movie</td>\n",
       "      <td>(2023)</td>\n",
       "      <td>PG</td>\n",
       "      <td>7.3</td>\n",
       "      <td>The story of The Super Mario Bros. on their jo...</td>\n",
       "      <td>['Chris Pratt', 'Anya Taylor-Joy', 'Charlie Da...</td>\n",
       "      <td>Chris Pratt</td>\n",
       "      <td>Anya Taylor-Joy</td>\n",
       "      <td>Charlie Day</td>\n",
       "      <td>Jack Black</td>\n",
       "      <td>81</td>\n",
       "      <td>14</td>\n",
       "      <td>1</td>\n",
       "    </tr>\n",
       "    <tr>\n",
       "      <th>3</th>\n",
       "      <td>Comedy</td>\n",
       "      <td>Ted Lasso</td>\n",
       "      <td>(2020– )</td>\n",
       "      <td>TV-MA</td>\n",
       "      <td>8.8</td>\n",
       "      <td>American college football coach Ted Lasso head...</td>\n",
       "      <td>['Jason Sudeikis', 'Brett Goldstein', 'Hannah ...</td>\n",
       "      <td>Jason Sudeikis</td>\n",
       "      <td>Brett Goldstein</td>\n",
       "      <td>Hannah Waddingham</td>\n",
       "      <td>Brendan Hunt</td>\n",
       "      <td>132</td>\n",
       "      <td>20</td>\n",
       "      <td>1</td>\n",
       "    </tr>\n",
       "    <tr>\n",
       "      <th>4</th>\n",
       "      <td>Comedy</td>\n",
       "      <td>Ghosted</td>\n",
       "      <td>(2023)</td>\n",
       "      <td>13+</td>\n",
       "      <td>5.8</td>\n",
       "      <td>Cole falls head over heels for enigmatic Sadie...</td>\n",
       "      <td>['Chris Evans', 'Ana de Armas', 'Adrien Brody'...</td>\n",
       "      <td>Chris Evans</td>\n",
       "      <td>Ana de Armas</td>\n",
       "      <td>Adrien Brody</td>\n",
       "      <td>Mike Moh</td>\n",
       "      <td>232</td>\n",
       "      <td>41</td>\n",
       "      <td>0</td>\n",
       "    </tr>\n",
       "  </tbody>\n",
       "</table>\n",
       "</div>"
      ],
      "text/plain": [
       "    Genre                        Title Year_produced Certificate  Ratings  \\\n",
       "0  Comedy                         Beef      (2023– )       TV-MA      8.2   \n",
       "1  Comedy                   Succession   (2018–2023)       TV-MA      8.8   \n",
       "2  Comedy  The Super Mario Bros. Movie        (2023)          PG      7.3   \n",
       "3  Comedy                    Ted Lasso      (2020– )       TV-MA      8.8   \n",
       "4  Comedy                      Ghosted        (2023)         13+      5.8   \n",
       "\n",
       "                                         Description  \\\n",
       "0  Two people let a road rage incident burrow int...   \n",
       "1  The Roy family is known for controlling the bi...   \n",
       "2  The story of The Super Mario Bros. on their jo...   \n",
       "3  American college football coach Ted Lasso head...   \n",
       "4  Cole falls head over heels for enigmatic Sadie...   \n",
       "\n",
       "                                              Actors         Actor_1  \\\n",
       "0  ['Steven Yeun', 'Ali Wong', 'Joseph Lee', 'You...     Steven Yeun   \n",
       "1  ['Nicholas Braun', 'Brian Cox', 'Kieran Culkin...  Nicholas Braun   \n",
       "2  ['Chris Pratt', 'Anya Taylor-Joy', 'Charlie Da...     Chris Pratt   \n",
       "3  ['Jason Sudeikis', 'Brett Goldstein', 'Hannah ...  Jason Sudeikis   \n",
       "4  ['Chris Evans', 'Ana de Armas', 'Adrien Brody'...     Chris Evans   \n",
       "\n",
       "           Actor_2            Actor_3         Actor_4  Description_length  \\\n",
       "0         Ali Wong         Joseph Lee    Young Mazino                 110   \n",
       "1        Brian Cox      Kieran Culkin  Peter Friedman                 173   \n",
       "2  Anya Taylor-Joy        Charlie Day      Jack Black                  81   \n",
       "3  Brett Goldstein  Hannah Waddingham    Brendan Hunt                 132   \n",
       "4     Ana de Armas       Adrien Brody        Mike Moh                 232   \n",
       "\n",
       "   Description_word_count  labels  \n",
       "0                      19       1  \n",
       "1                      28       1  \n",
       "2                      14       1  \n",
       "3                      20       1  \n",
       "4                      41       0  "
      ]
     },
     "execution_count": 3,
     "metadata": {},
     "output_type": "execute_result"
    }
   ],
   "source": [
    "df.head()"
   ]
  },
  {
   "cell_type": "code",
   "execution_count": 4,
   "id": "4c79342a-a220-4c5e-a6b4-021dd98b7843",
   "metadata": {},
   "outputs": [
    {
     "data": {
      "text/plain": [
       "(190248, 14)"
      ]
     },
     "execution_count": 4,
     "metadata": {},
     "output_type": "execute_result"
    }
   ],
   "source": [
    "df.shape"
   ]
  },
  {
   "cell_type": "code",
   "execution_count": 5,
   "id": "b26e9d05-f9ad-4692-adc2-9eb14ffca094",
   "metadata": {},
   "outputs": [
    {
     "data": {
      "text/plain": [
       "Genre                      object\n",
       "Title                      object\n",
       "Year_produced              object\n",
       "Certificate                object\n",
       "Ratings                   float64\n",
       "Description                object\n",
       "Actors                     object\n",
       "Actor_1                    object\n",
       "Actor_2                    object\n",
       "Actor_3                    object\n",
       "Actor_4                    object\n",
       "Description_length          int64\n",
       "Description_word_count      int64\n",
       "labels                      int64\n",
       "dtype: object"
      ]
     },
     "execution_count": 5,
     "metadata": {},
     "output_type": "execute_result"
    }
   ],
   "source": [
    "df.dtypes"
   ]
  },
  {
   "cell_type": "markdown",
   "id": "f98576e1-d90d-4f34-af2b-69a8083f71b8",
   "metadata": {},
   "source": [
    "## Histogram: Plot of Ratings"
   ]
  },
  {
   "cell_type": "code",
   "execution_count": 6,
   "id": "b3c1a241-68b8-41ac-9c2a-c8d609763179",
   "metadata": {},
   "outputs": [
    {
     "data": {
      "text/plain": [
       "<matplotlib.legend.Legend at 0x1ec499e88e0>"
      ]
     },
     "execution_count": 6,
     "metadata": {},
     "output_type": "execute_result"
    },
    {
     "data": {
      "image/png": "[encoded data removed]",
      "text/plain": [
       "<Figure size 720x360 with 1 Axes>"
      ]
     },
     "metadata": {
      "needs_background": "light"
     },
     "output_type": "display_data"
    }
   ],
   "source": [
    "fig, ax = plt.subplots(figsize=(10,5))\n",
    "plt.title('Histogram: Ratings')\n",
    "sns.histplot(x = df['Ratings'], kde = True, bins = 100)\n",
    "\n",
    "# calculate the interquartile range\n",
    "q1 = np.percentile(df['Ratings'], 25)\n",
    "q3 = np.percentile(df['Ratings'], 75)\n",
    "iqr = q3 - q1\n",
    "\n",
    "ax.axvline(q1, color='red', linestyle='--', label='25th percentile')\n",
    "ax.axvline(q3, color='red', linestyle='--', label='75th percentile')\n",
    "\n",
    "# calculate median, maximum, and minimum values\n",
    "median = np.median(df['Ratings'])\n",
    "maximum = np.max(df['Ratings'])\n",
    "minimum = np.min(df['Ratings'])\n",
    "\n",
    "ax.axvline(median, color='b', linestyle='--', label='Median')\n",
    "ax.axvline(maximum, color='g', linestyle='--', label='Maximum')\n",
    "ax.axvline(minimum, color='g', linestyle='--', label='Minimum')\n",
    "\n",
    "plt.legend()"
   ]
  },
  {
   "cell_type": "markdown",
   "id": "8e4dcb3a-9b13-4481-b83f-506230f49491",
   "metadata": {},
   "source": [
    "Observations:\n",
    "1. This is interesting as generally, one would think that most movies have a median rating of 5. Turns out that it is observed that the median of movie ratings are located at 6.\n",
    "2. This means that movies below 6 are not classified as 'good' movies according to movie reviewers."
   ]
  },
  {
   "cell_type": "markdown",
   "id": "878fe27b-ffbe-439d-adf1-ba87cb117e2b",
   "metadata": {},
   "source": [
    "## Countplot: Count of Movie Genres"
   ]
  },
  {
   "cell_type": "code",
   "execution_count": 7,
   "id": "9e8f7c20-28ba-4450-83f2-76bb0bff036c",
   "metadata": {},
   "outputs": [
    {
     "data": {
      "image/png": "[encoded data removed]",
      "text/plain": [
       "<Figure size 720x720 with 1 Axes>"
      ]
     },
     "metadata": {
      "needs_background": "light"
     },
     "output_type": "display_data"
    }
   ],
   "source": [
    "plt.figure(figsize=(10, 10))\n",
    "ax = sns.countplot(y=df['Genre'])\n",
    "\n",
    "# Get the top three categories\n",
    "top_three = df['Genre'].value_counts().nlargest(3).index\n",
    "# Set different colors for the top three categories\n",
    "colors = ['blue' if x in top_three else 'gray' for x in df['Genre'].unique()]\n",
    "\n",
    "# Plot the count with different colors\n",
    "sns.countplot(y=df['Genre'], palette=colors)\n",
    "\n",
    "plt.title('Count of Movie Genres', fontsize=15)\n",
    "plt.show()\n"
   ]
  },
  {
   "cell_type": "markdown",
   "id": "9461e9b3-3b3b-4881-8559-41dd77e53508",
   "metadata": {},
   "source": [
    "Observations\n",
    "1. This count plot shows that the top 3 movie genres are Comedy, Drama and Action-comedy.\n",
    "2. This shows that high number of film maker chose to produce their movie in the a/m genres. This also can be translated as high amount of audience tends towards the a/m movie genres.\n",
    "3. For aspiring movie directors, this means that if they produce a movie in these 3 genres, it would target a wide audience. "
   ]
  },
  {
   "cell_type": "markdown",
   "id": "e2e36563-ad84-4c53-9a4d-92117a734023",
   "metadata": {},
   "source": [
    "## Count plot: Count of Movie Certificates"
   ]
  },
  {
   "cell_type": "code",
   "execution_count": 8,
   "id": "f34701f7-a11d-4fbd-8182-db2f45157861",
   "metadata": {},
   "outputs": [
    {
     "data": {
      "image/png": "[encoded data removed]",
      "text/plain": [
       "<Figure size 720x720 with 1 Axes>"
      ]
     },
     "metadata": {
      "needs_background": "light"
     },
     "output_type": "display_data"
    }
   ],
   "source": [
    "plt.figure(figsize=(10, 10))\n",
    "ax = sns.countplot(y=df['Certificate'])\n",
    "\n",
    "# Get the top three categories\n",
    "top_three = df['Certificate'].value_counts().nlargest(3).index\n",
    "# Set different colors for the top three categories\n",
    "colors = ['blue' if x in top_three else 'gray' for x in df['Certificate'].unique()]\n",
    "\n",
    "# Plot the count with different colors\n",
    "sns.countplot(y=df['Certificate'], palette=colors)\n",
    "\n",
    "plt.title('Count of Movie Certificates', fontsize=15)\n",
    "plt.show()\n"
   ]
  },
  {
   "cell_type": "markdown",
   "id": "78239c24-3a63-42cf-83e8-b642a7b6acf2",
   "metadata": {},
   "source": [
    "Observations:\n",
    "1. It is observed that movies rated 16+, R and TV-14 are most popular.\n",
    "2. Hence, movie directors can consider producing a movie rated in the a/m genres so as to hit a wide range of audience."
   ]
  },
  {
   "cell_type": "code",
   "execution_count": 9,
   "id": "757329fc-1c71-4e33-b6e6-28284c9a3510",
   "metadata": {},
   "outputs": [
    {
     "data": {
      "text/plain": [
       "Mel Blanc         548\n",
       "Masako Nozawa     422\n",
       "Junko Takeuchi    384\n",
       "Jackie Chan       351\n",
       "Jeff Bennett      318\n",
       "Name: Actor_1, dtype: int64"
      ]
     },
     "execution_count": 9,
     "metadata": {},
     "output_type": "execute_result"
    }
   ],
   "source": [
    "top10 = df['Actor_1'].value_counts().head(10)\n",
    "top10.head()"
   ]
  },
  {
   "cell_type": "code",
   "execution_count": 10,
   "id": "992b4909-a7f0-4fb5-b408-d2abc4a47f57",
   "metadata": {},
   "outputs": [],
   "source": [
    "top = pd.DataFrame(top10)"
   ]
  },
  {
   "cell_type": "code",
   "execution_count": 11,
   "id": "132db4e0-a9cc-4a63-8ddb-5e6220df75e7",
   "metadata": {},
   "outputs": [
    {
     "data": {
      "text/html": [
       "<div>\n",
       "<style scoped>\n",
       "    .dataframe tbody tr th:only-of-type {\n",
       "        vertical-align: middle;\n",
       "    }\n",
       "\n",
       "    .dataframe tbody tr th {\n",
       "        vertical-align: top;\n",
       "    }\n",
       "\n",
       "    .dataframe thead th {\n",
       "        text-align: right;\n",
       "    }\n",
       "</style>\n",
       "<table border=\"1\" class=\"dataframe\">\n",
       "  <thead>\n",
       "    <tr style=\"text-align: right;\">\n",
       "      <th></th>\n",
       "      <th>Actor_1</th>\n",
       "    </tr>\n",
       "  </thead>\n",
       "  <tbody>\n",
       "    <tr>\n",
       "      <th>Mel Blanc</th>\n",
       "      <td>548</td>\n",
       "    </tr>\n",
       "    <tr>\n",
       "      <th>Masako Nozawa</th>\n",
       "      <td>422</td>\n",
       "    </tr>\n",
       "    <tr>\n",
       "      <th>Junko Takeuchi</th>\n",
       "      <td>384</td>\n",
       "    </tr>\n",
       "    <tr>\n",
       "      <th>Jackie Chan</th>\n",
       "      <td>351</td>\n",
       "    </tr>\n",
       "    <tr>\n",
       "      <th>Jeff Bennett</th>\n",
       "      <td>318</td>\n",
       "    </tr>\n",
       "  </tbody>\n",
       "</table>\n",
       "</div>"
      ],
      "text/plain": [
       "                Actor_1\n",
       "Mel Blanc           548\n",
       "Masako Nozawa       422\n",
       "Junko Takeuchi      384\n",
       "Jackie Chan         351\n",
       "Jeff Bennett        318"
      ]
     },
     "execution_count": 11,
     "metadata": {},
     "output_type": "execute_result"
    }
   ],
   "source": [
    "top.head()"
   ]
  },
  {
   "cell_type": "markdown",
   "id": "d6dbd8d8-c7ca-4bf1-bea4-331b2fd48e24",
   "metadata": {},
   "source": [
    "## Bar plot: Top Actors of All Time"
   ]
  },
  {
   "cell_type": "code",
   "execution_count": 12,
   "id": "7b01e947-e20a-4a7b-9135-279bbfcae190",
   "metadata": {},
   "outputs": [
    {
     "data": {
      "image/png": "[encoded data removed]",
      "text/plain": [
       "<Figure size 720x360 with 1 Axes>"
      ]
     },
     "metadata": {
      "needs_background": "light"
     },
     "output_type": "display_data"
    }
   ],
   "source": [
    "fig, ax = plt.subplots(figsize=(10,5))\n",
    "sns.barplot(x = top['Actor_1'], y = top.index)\n",
    "plt.xticks(rotation=0);\n",
    "\n",
    "plt.title(\"Bar Plot: Top Actors of all time\")\n",
    "plt.show()"
   ]
  },
  {
   "cell_type": "markdown",
   "id": "1ae7c8a2-4b27-4806-954a-659ba9011fb0",
   "metadata": {},
   "source": [
    "Observations:\n",
    "1. From the bar plot, these are the top actors that are starred in most movies.\n",
    "2. Movie directors can consider these actors as it is proof that they are starred in most movies.\n",
    "3. It is noteworthy to do further investigations such as checking on these actors background as they might have retired from the industry."
   ]
  },
  {
   "cell_type": "markdown",
   "id": "4cb5105e-6d27-44c8-913a-fdb7a9172d31",
   "metadata": {},
   "source": [
    "## Analysing Data From Top Movie Certificate Ratings"
   ]
  },
  {
   "cell_type": "code",
   "execution_count": 13,
   "id": "dbd2a0db-e7da-46a5-9794-16a9ddfdf58c",
   "metadata": {},
   "outputs": [
    {
     "data": {
      "text/plain": [
       "R        41497\n",
       "16+      33722\n",
       "TV-14    22585\n",
       "Name: Certificate, dtype: int64"
      ]
     },
     "execution_count": 13,
     "metadata": {},
     "output_type": "execute_result"
    }
   ],
   "source": [
    "df['Certificate'].value_counts().nlargest(3)"
   ]
  },
  {
   "cell_type": "code",
   "execution_count": 14,
   "id": "a85dc047-456e-437a-b018-1cda0dad5aa2",
   "metadata": {},
   "outputs": [],
   "source": [
    "R_rating = df[df['Certificate'] == 'R']"
   ]
  },
  {
   "cell_type": "code",
   "execution_count": 15,
   "id": "cafbbf82-b318-4962-8e23-2b2bdc24ec05",
   "metadata": {},
   "outputs": [
    {
     "data": {
      "text/html": [
       "<div>\n",
       "<style scoped>\n",
       "    .dataframe tbody tr th:only-of-type {\n",
       "        vertical-align: middle;\n",
       "    }\n",
       "\n",
       "    .dataframe tbody tr th {\n",
       "        vertical-align: top;\n",
       "    }\n",
       "\n",
       "    .dataframe thead th {\n",
       "        text-align: right;\n",
       "    }\n",
       "</style>\n",
       "<table border=\"1\" class=\"dataframe\">\n",
       "  <thead>\n",
       "    <tr style=\"text-align: right;\">\n",
       "      <th></th>\n",
       "      <th>Genre</th>\n",
       "      <th>Title</th>\n",
       "      <th>Year_produced</th>\n",
       "      <th>Certificate</th>\n",
       "      <th>Ratings</th>\n",
       "      <th>Description</th>\n",
       "      <th>Actors</th>\n",
       "      <th>Actor_1</th>\n",
       "      <th>Actor_2</th>\n",
       "      <th>Actor_3</th>\n",
       "      <th>Actor_4</th>\n",
       "      <th>Description_length</th>\n",
       "      <th>Description_word_count</th>\n",
       "      <th>labels</th>\n",
       "    </tr>\n",
       "  </thead>\n",
       "  <tbody>\n",
       "    <tr>\n",
       "      <th>6</th>\n",
       "      <td>Comedy</td>\n",
       "      <td>Beau Is Afraid</td>\n",
       "      <td>(2023)</td>\n",
       "      <td>R</td>\n",
       "      <td>7.2</td>\n",
       "      <td>Following the sudden death of his mother, a mi...</td>\n",
       "      <td>['Joaquin Phoenix', 'Patti LuPone', 'Amy Ryan'...</td>\n",
       "      <td>Joaquin Phoenix</td>\n",
       "      <td>Patti LuPone</td>\n",
       "      <td>Amy Ryan</td>\n",
       "      <td>Nathan Lane</td>\n",
       "      <td>164</td>\n",
       "      <td>26</td>\n",
       "      <td>1</td>\n",
       "    </tr>\n",
       "    <tr>\n",
       "      <th>9</th>\n",
       "      <td>Comedy</td>\n",
       "      <td>Renfield</td>\n",
       "      <td>(2023)</td>\n",
       "      <td>R</td>\n",
       "      <td>6.7</td>\n",
       "      <td>Renfield, Dracula's henchman and inmate at the...</td>\n",
       "      <td>['Nicholas Hoult', 'Nicolas Cage', 'Awkwafina'...</td>\n",
       "      <td>Nicholas Hoult</td>\n",
       "      <td>Nicolas Cage</td>\n",
       "      <td>Awkwafina</td>\n",
       "      <td>Ben Schwartz</td>\n",
       "      <td>180</td>\n",
       "      <td>31</td>\n",
       "      <td>1</td>\n",
       "    </tr>\n",
       "    <tr>\n",
       "      <th>12</th>\n",
       "      <td>Comedy</td>\n",
       "      <td>Cocaine Bear</td>\n",
       "      <td>(2023)</td>\n",
       "      <td>R</td>\n",
       "      <td>6.0</td>\n",
       "      <td>An oddball group of cops, criminals, tourists ...</td>\n",
       "      <td>['Keri Russell', 'Alden Ehrenreich', \"O'Shea J...</td>\n",
       "      <td>Keri Russell</td>\n",
       "      <td>Alden Ehrenreich</td>\n",
       "      <td>O'Shea Jackson Jr.</td>\n",
       "      <td>Ray Liotta</td>\n",
       "      <td>177</td>\n",
       "      <td>28</td>\n",
       "      <td>0</td>\n",
       "    </tr>\n",
       "    <tr>\n",
       "      <th>19</th>\n",
       "      <td>Comedy</td>\n",
       "      <td>Operation Fortune: Ruse de guerre</td>\n",
       "      <td>(2023)</td>\n",
       "      <td>R</td>\n",
       "      <td>6.3</td>\n",
       "      <td>Special agent Orson Fortune and his team of op...</td>\n",
       "      <td>['Jason Statham', 'Aubrey Plaza', 'Cary Elwes'...</td>\n",
       "      <td>Jason Statham</td>\n",
       "      <td>Aubrey Plaza</td>\n",
       "      <td>Cary Elwes</td>\n",
       "      <td>Hugh Grant</td>\n",
       "      <td>226</td>\n",
       "      <td>38</td>\n",
       "      <td>0</td>\n",
       "    </tr>\n",
       "    <tr>\n",
       "      <th>20</th>\n",
       "      <td>Comedy</td>\n",
       "      <td>Everything Everywhere All at Once</td>\n",
       "      <td>(2022)</td>\n",
       "      <td>R</td>\n",
       "      <td>7.9</td>\n",
       "      <td>A middle-aged Chinese immigrant is swept up in...</td>\n",
       "      <td>['Michelle Yeoh', 'Stephanie Hsu', 'Jamie Lee ...</td>\n",
       "      <td>Michelle Yeoh</td>\n",
       "      <td>Stephanie Hsu</td>\n",
       "      <td>Jamie Lee Curtis</td>\n",
       "      <td>Ke Huy Quan</td>\n",
       "      <td>185</td>\n",
       "      <td>31</td>\n",
       "      <td>1</td>\n",
       "    </tr>\n",
       "  </tbody>\n",
       "</table>\n",
       "</div>"
      ],
      "text/plain": [
       "     Genre                              Title Year_produced Certificate  \\\n",
       "6   Comedy                     Beau Is Afraid        (2023)           R   \n",
       "9   Comedy                           Renfield        (2023)           R   \n",
       "12  Comedy                       Cocaine Bear        (2023)           R   \n",
       "19  Comedy  Operation Fortune: Ruse de guerre        (2023)           R   \n",
       "20  Comedy  Everything Everywhere All at Once        (2022)           R   \n",
       "\n",
       "    Ratings                                        Description  \\\n",
       "6       7.2  Following the sudden death of his mother, a mi...   \n",
       "9       6.7  Renfield, Dracula's henchman and inmate at the...   \n",
       "12      6.0  An oddball group of cops, criminals, tourists ...   \n",
       "19      6.3  Special agent Orson Fortune and his team of op...   \n",
       "20      7.9  A middle-aged Chinese immigrant is swept up in...   \n",
       "\n",
       "                                               Actors          Actor_1  \\\n",
       "6   ['Joaquin Phoenix', 'Patti LuPone', 'Amy Ryan'...  Joaquin Phoenix   \n",
       "9   ['Nicholas Hoult', 'Nicolas Cage', 'Awkwafina'...   Nicholas Hoult   \n",
       "12  ['Keri Russell', 'Alden Ehrenreich', \"O'Shea J...     Keri Russell   \n",
       "19  ['Jason Statham', 'Aubrey Plaza', 'Cary Elwes'...    Jason Statham   \n",
       "20  ['Michelle Yeoh', 'Stephanie Hsu', 'Jamie Lee ...    Michelle Yeoh   \n",
       "\n",
       "             Actor_2             Actor_3       Actor_4  Description_length  \\\n",
       "6       Patti LuPone            Amy Ryan   Nathan Lane                 164   \n",
       "9       Nicolas Cage           Awkwafina  Ben Schwartz                 180   \n",
       "12  Alden Ehrenreich  O'Shea Jackson Jr.    Ray Liotta                 177   \n",
       "19      Aubrey Plaza          Cary Elwes    Hugh Grant                 226   \n",
       "20     Stephanie Hsu    Jamie Lee Curtis   Ke Huy Quan                 185   \n",
       "\n",
       "    Description_word_count  labels  \n",
       "6                       26       1  \n",
       "9                       31       1  \n",
       "12                      28       0  \n",
       "19                      38       0  \n",
       "20                      31       1  "
      ]
     },
     "execution_count": 15,
     "metadata": {},
     "output_type": "execute_result"
    }
   ],
   "source": [
    "R_rating.head()"
   ]
  },
  {
   "cell_type": "markdown",
   "id": "2fb5d059-5fa2-437c-8ed9-8227ae2c9d26",
   "metadata": {},
   "source": [
    "### Histogram: R-ratings"
   ]
  },
  {
   "cell_type": "code",
   "execution_count": 16,
   "id": "7a64d579-f42a-4930-8c2e-3ac355d8f794",
   "metadata": {},
   "outputs": [
    {
     "data": {
      "text/plain": [
       "<matplotlib.legend.Legend at 0x1ec40aabd60>"
      ]
     },
     "execution_count": 16,
     "metadata": {},
     "output_type": "execute_result"
    },
    {
     "data": {
      "image/png": "[encoded data removed]",
      "text/plain": [
       "<Figure size 720x360 with 1 Axes>"
      ]
     },
     "metadata": {
      "needs_background": "light"
     },
     "output_type": "display_data"
    }
   ],
   "source": [
    "fig, ax = plt.subplots(figsize=(10,5))\n",
    "plt.title('Histogram: R - Ratings')\n",
    "sns.histplot(x = R_rating ['Ratings'], kde = True, bins = 80)\n",
    "\n",
    "# calculate the interquartile range\n",
    "q1 = np.percentile(R_rating ['Ratings'], 25)\n",
    "q3 = np.percentile(R_rating ['Ratings'], 75)\n",
    "iqr = q3 - q1\n",
    "\n",
    "ax.axvline(q1, color='red', linestyle='--', label='25th percentile')\n",
    "ax.axvline(q3, color='red', linestyle='--', label='75th percentile')\n",
    "\n",
    "# calculate median, maximum, and minimum values\n",
    "median = np.median(R_rating ['Ratings'])\n",
    "maximum = np.max(R_rating ['Ratings'])\n",
    "minimum = np.min(R_rating ['Ratings'])\n",
    "\n",
    "ax.axvline(median, color='b', linestyle='--', label='Median')\n",
    "ax.axvline(maximum, color='g', linestyle='--', label='Maximum')\n",
    "ax.axvline(minimum, color='g', linestyle='--', label='Minimum')\n",
    "\n",
    "plt.legend()"
   ]
  },
  {
   "cell_type": "markdown",
   "id": "5c4160d3-927a-465c-b1f9-d730a06657c6",
   "metadata": {},
   "source": [
    "Observations:\n",
    "1. It seems that the median for R-ratings are rated at 5.7."
   ]
  },
  {
   "cell_type": "markdown",
   "id": "644621dd-00dd-46d3-8156-2d2744566932",
   "metadata": {},
   "source": [
    "### Histogram: 16+"
   ]
  },
  {
   "cell_type": "code",
   "execution_count": 17,
   "id": "23394861-02c1-4b94-b7b0-59a04dd72a58",
   "metadata": {},
   "outputs": [],
   "source": [
    "rating_16 = df[df['Certificate'] == '16+']"
   ]
  },
  {
   "cell_type": "code",
   "execution_count": 18,
   "id": "e097682f-b002-467d-a98c-92b8813582a4",
   "metadata": {},
   "outputs": [
    {
     "data": {
      "text/plain": [
       "<matplotlib.legend.Legend at 0x1ec40dcdc30>"
      ]
     },
     "execution_count": 18,
     "metadata": {},
     "output_type": "execute_result"
    },
    {
     "data": {
      "image/png": "[encoded data removed]",
      "text/plain": [
       "<Figure size 720x360 with 1 Axes>"
      ]
     },
     "metadata": {
      "needs_background": "light"
     },
     "output_type": "display_data"
    }
   ],
   "source": [
    "fig, ax = plt.subplots(figsize=(10,5))\n",
    "plt.title('Histogram: R16+ Ratings')\n",
    "sns.histplot(x = rating_16['Ratings'], kde = True, bins = 90)\n",
    "\n",
    "# calculate the interquartile range\n",
    "q1 = np.percentile(rating_16['Ratings'], 25)\n",
    "q3 = np.percentile(rating_16['Ratings'], 75)\n",
    "iqr = q3 - q1\n",
    "\n",
    "ax.axvline(q1, color='red', linestyle='--', label='25th percentile')\n",
    "ax.axvline(q3, color='red', linestyle='--', label='75th percentile')\n",
    "\n",
    "# calculate median, maximum, and minimum values\n",
    "median = np.median(rating_16['Ratings'])\n",
    "maximum = np.max(rating_16['Ratings'])\n",
    "minimum = np.min(rating_16['Ratings'])\n",
    "\n",
    "ax.axvline(median, color='b', linestyle='--', label='Median')\n",
    "ax.axvline(maximum, color='g', linestyle='--', label='Maximum')\n",
    "ax.axvline(minimum, color='g', linestyle='--', label='Minimum')\n",
    "\n",
    "plt.legend()"
   ]
  },
  {
   "cell_type": "markdown",
   "id": "39c1ce0a-4e69-4681-a2c1-f94d7b0bc520",
   "metadata": {},
   "source": [
    "Observations:\n",
    "1. It is observed that the median for 16+ rating is >6."
   ]
  },
  {
   "cell_type": "markdown",
   "id": "26567640-3349-44f9-93a5-03a2503f1e11",
   "metadata": {},
   "source": [
    "### Histogram: TV-14"
   ]
  },
  {
   "cell_type": "code",
   "execution_count": 19,
   "id": "a51ee09c-fe1e-4bc3-a098-c9b157a018c7",
   "metadata": {},
   "outputs": [],
   "source": [
    "TV14_rating = df[df['Certificate'] == 'TV-14']"
   ]
  },
  {
   "cell_type": "code",
   "execution_count": 34,
   "id": "5ce284fa-6604-4486-872b-edf05d137d98",
   "metadata": {},
   "outputs": [
    {
     "data": {
      "text/plain": [
       "<matplotlib.legend.Legend at 0x1ec40a6b040>"
      ]
     },
     "execution_count": 34,
     "metadata": {},
     "output_type": "execute_result"
    },
    {
     "data": {
      "image/png": "[encoded data removed]",
      "text/plain": [
       "<Figure size 720x360 with 1 Axes>"
      ]
     },
     "metadata": {
      "needs_background": "light"
     },
     "output_type": "display_data"
    }
   ],
   "source": [
    "fig, ax = plt.subplots(figsize=(10,5))\n",
    "plt.title('Histogram: TV-14 Ratings')\n",
    "sns.histplot(x = TV14_rating['Ratings'], kde = True, bins = 95)\n",
    "\n",
    "# calculate the interquartile range\n",
    "q1 = np.percentile(TV14_rating['Ratings'], 25)\n",
    "q3 = np.percentile(TV14_rating['Ratings'], 75)\n",
    "iqr = q3 - q1\n",
    "\n",
    "ax.axvline(q1, color='red', linestyle='--', label='25th percentile')\n",
    "ax.axvline(q3, color='red', linestyle='--', label='75th percentile')\n",
    "\n",
    "# calculate median, maximum, and minimum values\n",
    "median = np.median(TV14_rating['Ratings'])\n",
    "maximum = np.max(TV14_rating['Ratings'])\n",
    "minimum = np.min(TV14_rating['Ratings'])\n",
    "\n",
    "ax.axvline(median, color='b', linestyle='--', label='Median')\n",
    "ax.axvline(maximum, color='g', linestyle='--', label='Maximum')\n",
    "ax.axvline(minimum, color='g', linestyle='--', label='Minimum')\n",
    "\n",
    "plt.legend()"
   ]
  },
  {
   "cell_type": "markdown",
   "id": "70ff96a8-0700-4cb3-8cdb-ff64826fc2f4",
   "metadata": {},
   "source": [
    "Observations:\n",
    "1. It is observed that the median for TV-14 rating is >6."
   ]
  },
  {
   "cell_type": "markdown",
   "id": "fe05ff2f-eed6-44c4-9591-12c22413b088",
   "metadata": {},
   "source": [
    "## Checking Description Length"
   ]
  },
  {
   "cell_type": "markdown",
   "id": "1452f50f-da52-4660-9ff1-9c3b065c4b59",
   "metadata": {},
   "source": [
    "The next lines of code is to check the length of each description."
   ]
  },
  {
   "cell_type": "code",
   "execution_count": 21,
   "id": "e78415f5-73fc-402a-a43f-ab6c792131f0",
   "metadata": {},
   "outputs": [
    {
     "data": {
      "text/html": [
       "<div>\n",
       "<style scoped>\n",
       "    .dataframe tbody tr th:only-of-type {\n",
       "        vertical-align: middle;\n",
       "    }\n",
       "\n",
       "    .dataframe tbody tr th {\n",
       "        vertical-align: top;\n",
       "    }\n",
       "\n",
       "    .dataframe thead th {\n",
       "        text-align: right;\n",
       "    }\n",
       "</style>\n",
       "<table border=\"1\" class=\"dataframe\">\n",
       "  <thead>\n",
       "    <tr style=\"text-align: right;\">\n",
       "      <th></th>\n",
       "      <th>Genre</th>\n",
       "      <th>Title</th>\n",
       "      <th>Year_produced</th>\n",
       "      <th>Certificate</th>\n",
       "      <th>Ratings</th>\n",
       "      <th>Description</th>\n",
       "      <th>Actors</th>\n",
       "      <th>Actor_1</th>\n",
       "      <th>Actor_2</th>\n",
       "      <th>Actor_3</th>\n",
       "      <th>Actor_4</th>\n",
       "      <th>Description_length</th>\n",
       "      <th>Description_word_count</th>\n",
       "      <th>labels</th>\n",
       "    </tr>\n",
       "  </thead>\n",
       "  <tbody>\n",
       "  </tbody>\n",
       "</table>\n",
       "</div>"
      ],
      "text/plain": [
       "Empty DataFrame\n",
       "Columns: [Genre, Title, Year_produced, Certificate, Ratings, Description, Actors, Actor_1, Actor_2, Actor_3, Actor_4, Description_length, Description_word_count, labels]\n",
       "Index: []"
      ]
     },
     "execution_count": 21,
     "metadata": {},
     "output_type": "execute_result"
    }
   ],
   "source": [
    "df[df['Description'].isnull()].head()"
   ]
  },
  {
   "cell_type": "code",
   "execution_count": 22,
   "id": "82cee390-274b-420c-bfd3-947bd31aec94",
   "metadata": {},
   "outputs": [],
   "source": [
    "df['Description'].fillna('-', inplace=True)"
   ]
  },
  {
   "cell_type": "code",
   "execution_count": 23,
   "id": "11d4772e-f70c-43a3-8d60-65ea1c5e23ef",
   "metadata": {},
   "outputs": [
    {
     "data": {
      "text/html": [
       "<div>\n",
       "<style scoped>\n",
       "    .dataframe tbody tr th:only-of-type {\n",
       "        vertical-align: middle;\n",
       "    }\n",
       "\n",
       "    .dataframe tbody tr th {\n",
       "        vertical-align: top;\n",
       "    }\n",
       "\n",
       "    .dataframe thead th {\n",
       "        text-align: right;\n",
       "    }\n",
       "</style>\n",
       "<table border=\"1\" class=\"dataframe\">\n",
       "  <thead>\n",
       "    <tr style=\"text-align: right;\">\n",
       "      <th></th>\n",
       "      <th>Genre</th>\n",
       "      <th>Title</th>\n",
       "      <th>Year_produced</th>\n",
       "      <th>Certificate</th>\n",
       "      <th>Ratings</th>\n",
       "      <th>Description</th>\n",
       "      <th>Actors</th>\n",
       "      <th>Actor_1</th>\n",
       "      <th>Actor_2</th>\n",
       "      <th>Actor_3</th>\n",
       "      <th>Actor_4</th>\n",
       "      <th>Description_length</th>\n",
       "      <th>Description_word_count</th>\n",
       "      <th>labels</th>\n",
       "    </tr>\n",
       "  </thead>\n",
       "  <tbody>\n",
       "    <tr>\n",
       "      <th>81305</th>\n",
       "      <td>Thriller</td>\n",
       "      <td>Tropix</td>\n",
       "      <td>(2004)</td>\n",
       "      <td>R</td>\n",
       "      <td>3.5</td>\n",
       "      <td>-</td>\n",
       "      <td>['Thomas Scott Stanton', 'Danielle Bisutti', '...</td>\n",
       "      <td>Thomas Scott Stanton</td>\n",
       "      <td>Danielle Bisutti</td>\n",
       "      <td>Keith Brunsmann</td>\n",
       "      <td>Michelle Jones</td>\n",
       "      <td>1</td>\n",
       "      <td>1</td>\n",
       "      <td>0</td>\n",
       "    </tr>\n",
       "    <tr>\n",
       "      <th>124014</th>\n",
       "      <td>Crime</td>\n",
       "      <td>Tropix</td>\n",
       "      <td>(2004)</td>\n",
       "      <td>R</td>\n",
       "      <td>3.5</td>\n",
       "      <td>-</td>\n",
       "      <td>['Thomas Scott Stanton', 'Danielle Bisutti', '...</td>\n",
       "      <td>Thomas Scott Stanton</td>\n",
       "      <td>Danielle Bisutti</td>\n",
       "      <td>Keith Brunsmann</td>\n",
       "      <td>Michelle Jones</td>\n",
       "      <td>1</td>\n",
       "      <td>1</td>\n",
       "      <td>0</td>\n",
       "    </tr>\n",
       "    <tr>\n",
       "      <th>146357</th>\n",
       "      <td>Adventure</td>\n",
       "      <td>Tropix</td>\n",
       "      <td>(2004)</td>\n",
       "      <td>R</td>\n",
       "      <td>3.5</td>\n",
       "      <td>-</td>\n",
       "      <td>['Thomas Scott Stanton', 'Danielle Bisutti', '...</td>\n",
       "      <td>Thomas Scott Stanton</td>\n",
       "      <td>Danielle Bisutti</td>\n",
       "      <td>Keith Brunsmann</td>\n",
       "      <td>Michelle Jones</td>\n",
       "      <td>1</td>\n",
       "      <td>1</td>\n",
       "      <td>0</td>\n",
       "    </tr>\n",
       "  </tbody>\n",
       "</table>\n",
       "</div>"
      ],
      "text/plain": [
       "            Genre   Title Year_produced Certificate  Ratings Description  \\\n",
       "81305    Thriller  Tropix        (2004)           R      3.5           -   \n",
       "124014      Crime  Tropix        (2004)           R      3.5           -   \n",
       "146357  Adventure  Tropix        (2004)           R      3.5           -   \n",
       "\n",
       "                                                   Actors  \\\n",
       "81305   ['Thomas Scott Stanton', 'Danielle Bisutti', '...   \n",
       "124014  ['Thomas Scott Stanton', 'Danielle Bisutti', '...   \n",
       "146357  ['Thomas Scott Stanton', 'Danielle Bisutti', '...   \n",
       "\n",
       "                     Actor_1           Actor_2          Actor_3  \\\n",
       "81305   Thomas Scott Stanton  Danielle Bisutti  Keith Brunsmann   \n",
       "124014  Thomas Scott Stanton  Danielle Bisutti  Keith Brunsmann   \n",
       "146357  Thomas Scott Stanton  Danielle Bisutti  Keith Brunsmann   \n",
       "\n",
       "               Actor_4  Description_length  Description_word_count  labels  \n",
       "81305   Michelle Jones                   1                       1       0  \n",
       "124014  Michelle Jones                   1                       1       0  \n",
       "146357  Michelle Jones                   1                       1       0  "
      ]
     },
     "execution_count": 23,
     "metadata": {},
     "output_type": "execute_result"
    }
   ],
   "source": [
    "df[df['Description'] == '-'].head()"
   ]
  },
  {
   "cell_type": "code",
   "execution_count": 24,
   "id": "686a05e9-81d6-4ff8-8b9a-ca8a1c535aff",
   "metadata": {},
   "outputs": [],
   "source": [
    "df['Description_length'] = df['Description'].map(lambda x: len(x))"
   ]
  },
  {
   "cell_type": "code",
   "execution_count": 25,
   "id": "3a9043b2-2b1d-48c1-a1ee-1c9a918933e9",
   "metadata": {},
   "outputs": [],
   "source": [
    "df['Description_word_count'] = df['Description'].map(lambda x:len(x.split()))"
   ]
  },
  {
   "cell_type": "code",
   "execution_count": 26,
   "id": "ee8c32fb-f307-490d-8af1-ab59e7b62ef5",
   "metadata": {},
   "outputs": [
    {
     "data": {
      "text/html": [
       "<div>\n",
       "<style scoped>\n",
       "    .dataframe tbody tr th:only-of-type {\n",
       "        vertical-align: middle;\n",
       "    }\n",
       "\n",
       "    .dataframe tbody tr th {\n",
       "        vertical-align: top;\n",
       "    }\n",
       "\n",
       "    .dataframe thead th {\n",
       "        text-align: right;\n",
       "    }\n",
       "</style>\n",
       "<table border=\"1\" class=\"dataframe\">\n",
       "  <thead>\n",
       "    <tr style=\"text-align: right;\">\n",
       "      <th></th>\n",
       "      <th>Genre</th>\n",
       "      <th>Title</th>\n",
       "      <th>Year_produced</th>\n",
       "      <th>Certificate</th>\n",
       "      <th>Ratings</th>\n",
       "      <th>Description</th>\n",
       "      <th>Actors</th>\n",
       "      <th>Actor_1</th>\n",
       "      <th>Actor_2</th>\n",
       "      <th>Actor_3</th>\n",
       "      <th>Actor_4</th>\n",
       "      <th>Description_length</th>\n",
       "      <th>Description_word_count</th>\n",
       "      <th>labels</th>\n",
       "    </tr>\n",
       "  </thead>\n",
       "  <tbody>\n",
       "    <tr>\n",
       "      <th>0</th>\n",
       "      <td>Comedy</td>\n",
       "      <td>Beef</td>\n",
       "      <td>(2023– )</td>\n",
       "      <td>TV-MA</td>\n",
       "      <td>8.2</td>\n",
       "      <td>Two people let a road rage incident burrow int...</td>\n",
       "      <td>['Steven Yeun', 'Ali Wong', 'Joseph Lee', 'You...</td>\n",
       "      <td>Steven Yeun</td>\n",
       "      <td>Ali Wong</td>\n",
       "      <td>Joseph Lee</td>\n",
       "      <td>Young Mazino</td>\n",
       "      <td>110</td>\n",
       "      <td>19</td>\n",
       "      <td>1</td>\n",
       "    </tr>\n",
       "  </tbody>\n",
       "</table>\n",
       "</div>"
      ],
      "text/plain": [
       "    Genre Title Year_produced Certificate  Ratings  \\\n",
       "0  Comedy  Beef      (2023– )       TV-MA      8.2   \n",
       "\n",
       "                                         Description  \\\n",
       "0  Two people let a road rage incident burrow int...   \n",
       "\n",
       "                                              Actors      Actor_1   Actor_2  \\\n",
       "0  ['Steven Yeun', 'Ali Wong', 'Joseph Lee', 'You...  Steven Yeun  Ali Wong   \n",
       "\n",
       "      Actor_3       Actor_4  Description_length  Description_word_count  \\\n",
       "0  Joseph Lee  Young Mazino                 110                      19   \n",
       "\n",
       "   labels  \n",
       "0       1  "
      ]
     },
     "execution_count": 26,
     "metadata": {},
     "output_type": "execute_result"
    }
   ],
   "source": [
    "df.head(1)"
   ]
  },
  {
   "cell_type": "markdown",
   "id": "ae77cbb2-f89c-4c14-947c-06c4f2db146e",
   "metadata": {},
   "source": [
    "### Distribution of Word Count"
   ]
  },
  {
   "cell_type": "code",
   "execution_count": 39,
   "id": "9ebdaf02-18e2-4cd1-898c-a9f36f620928",
   "metadata": {},
   "outputs": [
    {
     "data": {
      "text/plain": [
       "<Figure size 720x432 with 0 Axes>"
      ]
     },
     "metadata": {},
     "output_type": "display_data"
    },
    {
     "data": {
      "image/png": "[encoded data removed]",
      "text/plain": [
       "<Figure size 360x360 with 1 Axes>"
      ]
     },
     "metadata": {
      "needs_background": "light"
     },
     "output_type": "display_data"
    }
   ],
   "source": [
    "# Set the figure size\n",
    "plt.figure(figsize=(10, 6))\n",
    "sns.displot(df['Description_word_count'], kde = True)\n",
    "plt.title('Distribution of Description Word Count')\n",
    "plt.show()"
   ]
  },
  {
   "cell_type": "markdown",
   "id": "4d00cbe8-455e-4785-8e4e-bb3424530884",
   "metadata": {},
   "source": [
    "### Distribution of Description Length"
   ]
  },
  {
   "cell_type": "code",
   "execution_count": 28,
   "id": "09facaa8-d613-4859-a7a3-03a93089bbf3",
   "metadata": {},
   "outputs": [
    {
     "data": {
      "image/png": "[encoded data removed]",
      "text/plain": [
       "<Figure size 360x360 with 1 Axes>"
      ]
     },
     "metadata": {
      "needs_background": "light"
     },
     "output_type": "display_data"
    }
   ],
   "source": [
    "sns.displot(df['Description_length'], kde = True)\n",
    "plt.title('Distribution of Description Length')\n",
    "plt.show()"
   ]
  },
  {
   "cell_type": "markdown",
   "id": "47b44a3f-311c-4bc7-9536-9d511392f964",
   "metadata": {},
   "source": [
    "Things to note:\n",
    "1. Description length refers to the total number of characters or tokens in a text\n",
    "2. description word count focuses on the number of words"
   ]
  },
  {
   "cell_type": "markdown",
   "id": "99f77d0d-27a2-4637-8f0c-1dad1c3cae46",
   "metadata": {},
   "source": [
    "Observation:\n",
    "\n",
    "1. In description length graph, it shows the total number of charavters in a text. It is observed that there is a high count of words when the description length is approx 250.\n",
    "2. In distribution of word count, it shows that there are two spikes in word count. This means that most movie word count description are 20 words or 40 words. "
   ]
  },
  {
   "cell_type": "markdown",
   "id": "4375320f-f2c1-4401-b1f1-8b115fe691a1",
   "metadata": {},
   "source": [
    "## Feature Engineering: Good/Bad labels "
   ]
  },
  {
   "cell_type": "code",
   "execution_count": 29,
   "id": "e06cbae5-5878-4580-8f50-9b2c78ca57b4",
   "metadata": {},
   "outputs": [
    {
     "data": {
      "text/html": [
       "<div>\n",
       "<style scoped>\n",
       "    .dataframe tbody tr th:only-of-type {\n",
       "        vertical-align: middle;\n",
       "    }\n",
       "\n",
       "    .dataframe tbody tr th {\n",
       "        vertical-align: top;\n",
       "    }\n",
       "\n",
       "    .dataframe thead th {\n",
       "        text-align: right;\n",
       "    }\n",
       "</style>\n",
       "<table border=\"1\" class=\"dataframe\">\n",
       "  <thead>\n",
       "    <tr style=\"text-align: right;\">\n",
       "      <th></th>\n",
       "      <th>Ratings</th>\n",
       "      <th>Description_length</th>\n",
       "      <th>Description_word_count</th>\n",
       "      <th>labels</th>\n",
       "    </tr>\n",
       "  </thead>\n",
       "  <tbody>\n",
       "    <tr>\n",
       "      <th>count</th>\n",
       "      <td>190248.000000</td>\n",
       "      <td>190248.000000</td>\n",
       "      <td>190248.000000</td>\n",
       "      <td>190248.000000</td>\n",
       "    </tr>\n",
       "    <tr>\n",
       "      <th>mean</th>\n",
       "      <td>6.330813</td>\n",
       "      <td>161.290158</td>\n",
       "      <td>27.526518</td>\n",
       "      <td>0.532915</td>\n",
       "    </tr>\n",
       "    <tr>\n",
       "      <th>std</th>\n",
       "      <td>1.343091</td>\n",
       "      <td>57.695582</td>\n",
       "      <td>9.893043</td>\n",
       "      <td>0.498917</td>\n",
       "    </tr>\n",
       "    <tr>\n",
       "      <th>min</th>\n",
       "      <td>1.000000</td>\n",
       "      <td>1.000000</td>\n",
       "      <td>1.000000</td>\n",
       "      <td>0.000000</td>\n",
       "    </tr>\n",
       "    <tr>\n",
       "      <th>25%</th>\n",
       "      <td>5.500000</td>\n",
       "      <td>118.000000</td>\n",
       "      <td>20.000000</td>\n",
       "      <td>0.000000</td>\n",
       "    </tr>\n",
       "    <tr>\n",
       "      <th>50%</th>\n",
       "      <td>6.400000</td>\n",
       "      <td>163.000000</td>\n",
       "      <td>28.000000</td>\n",
       "      <td>1.000000</td>\n",
       "    </tr>\n",
       "    <tr>\n",
       "      <th>75%</th>\n",
       "      <td>7.300000</td>\n",
       "      <td>220.000000</td>\n",
       "      <td>36.000000</td>\n",
       "      <td>1.000000</td>\n",
       "    </tr>\n",
       "    <tr>\n",
       "      <th>max</th>\n",
       "      <td>10.000000</td>\n",
       "      <td>436.000000</td>\n",
       "      <td>79.000000</td>\n",
       "      <td>1.000000</td>\n",
       "    </tr>\n",
       "  </tbody>\n",
       "</table>\n",
       "</div>"
      ],
      "text/plain": [
       "             Ratings  Description_length  Description_word_count  \\\n",
       "count  190248.000000       190248.000000           190248.000000   \n",
       "mean        6.330813          161.290158               27.526518   \n",
       "std         1.343091           57.695582                9.893043   \n",
       "min         1.000000            1.000000                1.000000   \n",
       "25%         5.500000          118.000000               20.000000   \n",
       "50%         6.400000          163.000000               28.000000   \n",
       "75%         7.300000          220.000000               36.000000   \n",
       "max        10.000000          436.000000               79.000000   \n",
       "\n",
       "              labels  \n",
       "count  190248.000000  \n",
       "mean        0.532915  \n",
       "std         0.498917  \n",
       "min         0.000000  \n",
       "25%         0.000000  \n",
       "50%         1.000000  \n",
       "75%         1.000000  \n",
       "max         1.000000  "
      ]
     },
     "execution_count": 29,
     "metadata": {},
     "output_type": "execute_result"
    }
   ],
   "source": [
    "df.describe()"
   ]
  },
  {
   "cell_type": "markdown",
   "id": "d4730203-e0f7-41ca-a8d5-a2e1cd508906",
   "metadata": {},
   "source": [
    "This shows that the median of ratings are 6.3. Any ratings above 6.3 will be classified as 'Good' whereas any ratings belov 6.3 will be classified as 'Bad'."
   ]
  },
  {
   "cell_type": "code",
   "execution_count": 30,
   "id": "0fc37248-9544-42da-8d10-92057d55e373",
   "metadata": {},
   "outputs": [
    {
     "data": {
      "text/html": [
       "<div>\n",
       "<style scoped>\n",
       "    .dataframe tbody tr th:only-of-type {\n",
       "        vertical-align: middle;\n",
       "    }\n",
       "\n",
       "    .dataframe tbody tr th {\n",
       "        vertical-align: top;\n",
       "    }\n",
       "\n",
       "    .dataframe thead th {\n",
       "        text-align: right;\n",
       "    }\n",
       "</style>\n",
       "<table border=\"1\" class=\"dataframe\">\n",
       "  <thead>\n",
       "    <tr style=\"text-align: right;\">\n",
       "      <th></th>\n",
       "      <th>Genre</th>\n",
       "      <th>Title</th>\n",
       "      <th>Year_produced</th>\n",
       "      <th>Certificate</th>\n",
       "      <th>Ratings</th>\n",
       "      <th>Description</th>\n",
       "      <th>Actors</th>\n",
       "      <th>Actor_1</th>\n",
       "      <th>Actor_2</th>\n",
       "      <th>Actor_3</th>\n",
       "      <th>Actor_4</th>\n",
       "      <th>Description_length</th>\n",
       "      <th>Description_word_count</th>\n",
       "      <th>labels</th>\n",
       "    </tr>\n",
       "  </thead>\n",
       "  <tbody>\n",
       "    <tr>\n",
       "      <th>0</th>\n",
       "      <td>Comedy</td>\n",
       "      <td>Beef</td>\n",
       "      <td>(2023– )</td>\n",
       "      <td>TV-MA</td>\n",
       "      <td>8.2</td>\n",
       "      <td>Two people let a road rage incident burrow int...</td>\n",
       "      <td>['Steven Yeun', 'Ali Wong', 'Joseph Lee', 'You...</td>\n",
       "      <td>Steven Yeun</td>\n",
       "      <td>Ali Wong</td>\n",
       "      <td>Joseph Lee</td>\n",
       "      <td>Young Mazino</td>\n",
       "      <td>110</td>\n",
       "      <td>19</td>\n",
       "      <td>1</td>\n",
       "    </tr>\n",
       "  </tbody>\n",
       "</table>\n",
       "</div>"
      ],
      "text/plain": [
       "    Genre Title Year_produced Certificate  Ratings  \\\n",
       "0  Comedy  Beef      (2023– )       TV-MA      8.2   \n",
       "\n",
       "                                         Description  \\\n",
       "0  Two people let a road rage incident burrow int...   \n",
       "\n",
       "                                              Actors      Actor_1   Actor_2  \\\n",
       "0  ['Steven Yeun', 'Ali Wong', 'Joseph Lee', 'You...  Steven Yeun  Ali Wong   \n",
       "\n",
       "      Actor_3       Actor_4  Description_length  Description_word_count  \\\n",
       "0  Joseph Lee  Young Mazino                 110                      19   \n",
       "\n",
       "   labels  \n",
       "0       1  "
      ]
     },
     "execution_count": 30,
     "metadata": {},
     "output_type": "execute_result"
    }
   ],
   "source": [
    "df.head(1)"
   ]
  },
  {
   "cell_type": "markdown",
   "id": "9612f959-97a4-40df-b021-83434b438e11",
   "metadata": {},
   "source": [
    "1 = good, 0=bad"
   ]
  },
  {
   "cell_type": "code",
   "execution_count": 31,
   "id": "7c23dd26-67e5-448e-a290-7f37f9d13bef",
   "metadata": {},
   "outputs": [],
   "source": [
    "df['labels']= df['Ratings'].apply(lambda x: 1 if x>6.330813\telse 0)"
   ]
  },
  {
   "cell_type": "code",
   "execution_count": 32,
   "id": "4ad9d8a2-f6a5-4cf2-a4f8-c8045b0a9d41",
   "metadata": {},
   "outputs": [
    {
     "data": {
      "text/html": [
       "<div>\n",
       "<style scoped>\n",
       "    .dataframe tbody tr th:only-of-type {\n",
       "        vertical-align: middle;\n",
       "    }\n",
       "\n",
       "    .dataframe tbody tr th {\n",
       "        vertical-align: top;\n",
       "    }\n",
       "\n",
       "    .dataframe thead th {\n",
       "        text-align: right;\n",
       "    }\n",
       "</style>\n",
       "<table border=\"1\" class=\"dataframe\">\n",
       "  <thead>\n",
       "    <tr style=\"text-align: right;\">\n",
       "      <th></th>\n",
       "      <th>Genre</th>\n",
       "      <th>Title</th>\n",
       "      <th>Year_produced</th>\n",
       "      <th>Certificate</th>\n",
       "      <th>Ratings</th>\n",
       "      <th>Description</th>\n",
       "      <th>Actors</th>\n",
       "      <th>Actor_1</th>\n",
       "      <th>Actor_2</th>\n",
       "      <th>Actor_3</th>\n",
       "      <th>Actor_4</th>\n",
       "      <th>Description_length</th>\n",
       "      <th>Description_word_count</th>\n",
       "      <th>labels</th>\n",
       "    </tr>\n",
       "  </thead>\n",
       "  <tbody>\n",
       "    <tr>\n",
       "      <th>0</th>\n",
       "      <td>Comedy</td>\n",
       "      <td>Beef</td>\n",
       "      <td>(2023– )</td>\n",
       "      <td>TV-MA</td>\n",
       "      <td>8.2</td>\n",
       "      <td>Two people let a road rage incident burrow int...</td>\n",
       "      <td>['Steven Yeun', 'Ali Wong', 'Joseph Lee', 'You...</td>\n",
       "      <td>Steven Yeun</td>\n",
       "      <td>Ali Wong</td>\n",
       "      <td>Joseph Lee</td>\n",
       "      <td>Young Mazino</td>\n",
       "      <td>110</td>\n",
       "      <td>19</td>\n",
       "      <td>1</td>\n",
       "    </tr>\n",
       "  </tbody>\n",
       "</table>\n",
       "</div>"
      ],
      "text/plain": [
       "    Genre Title Year_produced Certificate  Ratings  \\\n",
       "0  Comedy  Beef      (2023– )       TV-MA      8.2   \n",
       "\n",
       "                                         Description  \\\n",
       "0  Two people let a road rage incident burrow int...   \n",
       "\n",
       "                                              Actors      Actor_1   Actor_2  \\\n",
       "0  ['Steven Yeun', 'Ali Wong', 'Joseph Lee', 'You...  Steven Yeun  Ali Wong   \n",
       "\n",
       "      Actor_3       Actor_4  Description_length  Description_word_count  \\\n",
       "0  Joseph Lee  Young Mazino                 110                      19   \n",
       "\n",
       "   labels  \n",
       "0       1  "
      ]
     },
     "execution_count": 32,
     "metadata": {},
     "output_type": "execute_result"
    }
   ],
   "source": [
    "df.head(1)"
   ]
  },
  {
   "cell_type": "code",
   "execution_count": 33,
   "id": "6c8fc48c-cd11-48b4-a599-02ad66f94f2b",
   "metadata": {},
   "outputs": [],
   "source": [
    "df.to_csv('./datasets/all_movies_rated_only_cleaned_02.csv', index=False)"
   ]
  }
 ],
 "metadata": {
  "kernelspec": {
   "display_name": "Python 3 (ipykernel)",
   "language": "python",
   "name": "python3"
  },
  "language_info": {
   "codemirror_mode": {
    "name": "ipython",
    "version": 3
   },
   "file_extension": ".py",
   "mimetype": "text/x-python",
   "name": "python",
   "nbconvert_exporter": "python",
   "pygments_lexer": "ipython3",
   "version": "3.10.9"
  }
 },
 "nbformat": 4,
 "nbformat_minor": 5
}
