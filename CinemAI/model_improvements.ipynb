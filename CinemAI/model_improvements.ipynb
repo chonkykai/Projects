{
 "cells": [
  {
   "cell_type": "markdown",
   "id": "5d920106-6ac4-4a15-b23c-74e9f20597e9",
   "metadata": {},
   "source": [
    "# Model Improvements"
   ]
  },
  {
   "cell_type": "code",
   "execution_count": 1,
   "id": "662cba45-01e9-4ad2-a4c7-0d113cf25fdd",
   "metadata": {},
   "outputs": [],
   "source": [
    "import pandas as pd\n",
    "import numpy as np\n",
    "from tqdm import tqdm\n",
    "\n",
    "from nltk.tokenize import sent_tokenize, word_tokenize\n",
    "from sklearn.feature_extraction.text import TfidfVectorizer\n",
    "from nltk.stem import PorterStemmer\n",
    "from nltk.corpus import stopwords\n",
    "\n",
    "from sklearn.model_selection import train_test_split, GridSearchCV \n",
    "from sklearn.pipeline import Pipeline \n",
    "from sklearn.ensemble import RandomForestClassifier\n",
    "from sklearn.linear_model import LogisticRegression\n",
    "from sklearn.neighbors import KNeighborsClassifier\n",
    "from xgboost import XGBClassifier\n",
    "\n",
    "import tensorflow as tf\n",
    "from tensorflow.keras.models import Sequential\n",
    "from tensorflow.keras.layers import Dense, Activation\n",
    "\n",
    "from sklearn.metrics import classification_report\n",
    "\n",
    "from sklearn.metrics import confusion_matrix, ConfusionMatrixDisplay\n",
    "import matplotlib.pyplot as plt"
   ]
  },
  {
   "cell_type": "markdown",
   "id": "3dd5bc7f-5024-46b5-86c0-0aa3802ba4d8",
   "metadata": {},
   "source": [
    "The purpose of this notebook is to explore various machine learning models for model improvement."
   ]
  },
  {
   "cell_type": "code",
   "execution_count": 2,
   "id": "33d25d11-72df-4380-90bf-6121d2de6d79",
   "metadata": {},
   "outputs": [],
   "source": [
    "df = pd.read_csv('./datasets/all_movies_rated_only_cleaned_02.csv')"
   ]
  },
  {
   "cell_type": "code",
   "execution_count": 3,
   "id": "bbface24-465e-4e46-8f07-40c4b2614bd1",
   "metadata": {},
   "outputs": [
    {
     "data": {
      "text/html": [
       "<div>\n",
       "<style scoped>\n",
       "    .dataframe tbody tr th:only-of-type {\n",
       "        vertical-align: middle;\n",
       "    }\n",
       "\n",
       "    .dataframe tbody tr th {\n",
       "        vertical-align: top;\n",
       "    }\n",
       "\n",
       "    .dataframe thead th {\n",
       "        text-align: right;\n",
       "    }\n",
       "</style>\n",
       "<table border=\"1\" class=\"dataframe\">\n",
       "  <thead>\n",
       "    <tr style=\"text-align: right;\">\n",
       "      <th></th>\n",
       "      <th>Genre</th>\n",
       "      <th>Title</th>\n",
       "      <th>Year_produced</th>\n",
       "      <th>Certificate</th>\n",
       "      <th>Ratings</th>\n",
       "      <th>Description</th>\n",
       "      <th>Actors</th>\n",
       "      <th>Actor_1</th>\n",
       "      <th>Actor_2</th>\n",
       "      <th>Actor_3</th>\n",
       "      <th>Actor_4</th>\n",
       "      <th>Description_length</th>\n",
       "      <th>Description_word_count</th>\n",
       "      <th>labels</th>\n",
       "    </tr>\n",
       "  </thead>\n",
       "  <tbody>\n",
       "    <tr>\n",
       "      <th>0</th>\n",
       "      <td>Comedy</td>\n",
       "      <td>Beef</td>\n",
       "      <td>(2023– )</td>\n",
       "      <td>TV-MA</td>\n",
       "      <td>8.2</td>\n",
       "      <td>Two people let a road rage incident burrow int...</td>\n",
       "      <td>['Steven Yeun', 'Ali Wong', 'Joseph Lee', 'You...</td>\n",
       "      <td>Steven Yeun</td>\n",
       "      <td>Ali Wong</td>\n",
       "      <td>Joseph Lee</td>\n",
       "      <td>Young Mazino</td>\n",
       "      <td>110</td>\n",
       "      <td>19</td>\n",
       "      <td>1</td>\n",
       "    </tr>\n",
       "    <tr>\n",
       "      <th>1</th>\n",
       "      <td>Comedy</td>\n",
       "      <td>Succession</td>\n",
       "      <td>(2018–2023)</td>\n",
       "      <td>TV-MA</td>\n",
       "      <td>8.8</td>\n",
       "      <td>The Roy family is known for controlling the bi...</td>\n",
       "      <td>['Nicholas Braun', 'Brian Cox', 'Kieran Culkin...</td>\n",
       "      <td>Nicholas Braun</td>\n",
       "      <td>Brian Cox</td>\n",
       "      <td>Kieran Culkin</td>\n",
       "      <td>Peter Friedman</td>\n",
       "      <td>173</td>\n",
       "      <td>28</td>\n",
       "      <td>1</td>\n",
       "    </tr>\n",
       "    <tr>\n",
       "      <th>2</th>\n",
       "      <td>Comedy</td>\n",
       "      <td>The Super Mario Bros. Movie</td>\n",
       "      <td>(2023)</td>\n",
       "      <td>PG</td>\n",
       "      <td>7.3</td>\n",
       "      <td>The story of The Super Mario Bros. on their jo...</td>\n",
       "      <td>['Chris Pratt', 'Anya Taylor-Joy', 'Charlie Da...</td>\n",
       "      <td>Chris Pratt</td>\n",
       "      <td>Anya Taylor-Joy</td>\n",
       "      <td>Charlie Day</td>\n",
       "      <td>Jack Black</td>\n",
       "      <td>81</td>\n",
       "      <td>14</td>\n",
       "      <td>1</td>\n",
       "    </tr>\n",
       "    <tr>\n",
       "      <th>3</th>\n",
       "      <td>Comedy</td>\n",
       "      <td>Ted Lasso</td>\n",
       "      <td>(2020– )</td>\n",
       "      <td>TV-MA</td>\n",
       "      <td>8.8</td>\n",
       "      <td>American college football coach Ted Lasso head...</td>\n",
       "      <td>['Jason Sudeikis', 'Brett Goldstein', 'Hannah ...</td>\n",
       "      <td>Jason Sudeikis</td>\n",
       "      <td>Brett Goldstein</td>\n",
       "      <td>Hannah Waddingham</td>\n",
       "      <td>Brendan Hunt</td>\n",
       "      <td>132</td>\n",
       "      <td>20</td>\n",
       "      <td>1</td>\n",
       "    </tr>\n",
       "    <tr>\n",
       "      <th>4</th>\n",
       "      <td>Comedy</td>\n",
       "      <td>Ghosted</td>\n",
       "      <td>(2023)</td>\n",
       "      <td>13+</td>\n",
       "      <td>5.8</td>\n",
       "      <td>Cole falls head over heels for enigmatic Sadie...</td>\n",
       "      <td>['Chris Evans', 'Ana de Armas', 'Adrien Brody'...</td>\n",
       "      <td>Chris Evans</td>\n",
       "      <td>Ana de Armas</td>\n",
       "      <td>Adrien Brody</td>\n",
       "      <td>Mike Moh</td>\n",
       "      <td>232</td>\n",
       "      <td>41</td>\n",
       "      <td>0</td>\n",
       "    </tr>\n",
       "  </tbody>\n",
       "</table>\n",
       "</div>"
      ],
      "text/plain": [
       "    Genre                        Title Year_produced Certificate  Ratings  \\\n",
       "0  Comedy                         Beef      (2023– )       TV-MA      8.2   \n",
       "1  Comedy                   Succession   (2018–2023)       TV-MA      8.8   \n",
       "2  Comedy  The Super Mario Bros. Movie        (2023)          PG      7.3   \n",
       "3  Comedy                    Ted Lasso      (2020– )       TV-MA      8.8   \n",
       "4  Comedy                      Ghosted        (2023)         13+      5.8   \n",
       "\n",
       "                                         Description  \\\n",
       "0  Two people let a road rage incident burrow int...   \n",
       "1  The Roy family is known for controlling the bi...   \n",
       "2  The story of The Super Mario Bros. on their jo...   \n",
       "3  American college football coach Ted Lasso head...   \n",
       "4  Cole falls head over heels for enigmatic Sadie...   \n",
       "\n",
       "                                              Actors         Actor_1  \\\n",
       "0  ['Steven Yeun', 'Ali Wong', 'Joseph Lee', 'You...     Steven Yeun   \n",
       "1  ['Nicholas Braun', 'Brian Cox', 'Kieran Culkin...  Nicholas Braun   \n",
       "2  ['Chris Pratt', 'Anya Taylor-Joy', 'Charlie Da...     Chris Pratt   \n",
       "3  ['Jason Sudeikis', 'Brett Goldstein', 'Hannah ...  Jason Sudeikis   \n",
       "4  ['Chris Evans', 'Ana de Armas', 'Adrien Brody'...     Chris Evans   \n",
       "\n",
       "           Actor_2            Actor_3         Actor_4  Description_length  \\\n",
       "0         Ali Wong         Joseph Lee    Young Mazino                 110   \n",
       "1        Brian Cox      Kieran Culkin  Peter Friedman                 173   \n",
       "2  Anya Taylor-Joy        Charlie Day      Jack Black                  81   \n",
       "3  Brett Goldstein  Hannah Waddingham    Brendan Hunt                 132   \n",
       "4     Ana de Armas       Adrien Brody        Mike Moh                 232   \n",
       "\n",
       "   Description_word_count  labels  \n",
       "0                      19       1  \n",
       "1                      28       1  \n",
       "2                      14       1  \n",
       "3                      20       1  \n",
       "4                      41       0  "
      ]
     },
     "execution_count": 3,
     "metadata": {},
     "output_type": "execute_result"
    }
   ],
   "source": [
    "df.head()"
   ]
  },
  {
   "cell_type": "code",
   "execution_count": 4,
   "id": "2bd58710-5d65-4cf2-b20a-ecdacb35ddac",
   "metadata": {},
   "outputs": [
    {
     "data": {
      "text/plain": [
       "(190248, 14)"
      ]
     },
     "execution_count": 4,
     "metadata": {},
     "output_type": "execute_result"
    }
   ],
   "source": [
    "df.shape"
   ]
  },
  {
   "cell_type": "code",
   "execution_count": 5,
   "id": "d700675a-8ed3-49d0-a15e-f3b734337d31",
   "metadata": {},
   "outputs": [],
   "source": [
    "df.drop(columns = ['Actors'], inplace = True)"
   ]
  },
  {
   "cell_type": "code",
   "execution_count": 6,
   "id": "01ec5ab9-b5d6-478d-ba81-6a81dbfaae0c",
   "metadata": {},
   "outputs": [
    {
     "data": {
      "text/html": [
       "<div>\n",
       "<style scoped>\n",
       "    .dataframe tbody tr th:only-of-type {\n",
       "        vertical-align: middle;\n",
       "    }\n",
       "\n",
       "    .dataframe tbody tr th {\n",
       "        vertical-align: top;\n",
       "    }\n",
       "\n",
       "    .dataframe thead th {\n",
       "        text-align: right;\n",
       "    }\n",
       "</style>\n",
       "<table border=\"1\" class=\"dataframe\">\n",
       "  <thead>\n",
       "    <tr style=\"text-align: right;\">\n",
       "      <th></th>\n",
       "      <th>Genre</th>\n",
       "      <th>Title</th>\n",
       "      <th>Year_produced</th>\n",
       "      <th>Certificate</th>\n",
       "      <th>Ratings</th>\n",
       "      <th>Description</th>\n",
       "      <th>Actor_1</th>\n",
       "      <th>Actor_2</th>\n",
       "      <th>Actor_3</th>\n",
       "      <th>Actor_4</th>\n",
       "      <th>Description_length</th>\n",
       "      <th>Description_word_count</th>\n",
       "      <th>labels</th>\n",
       "    </tr>\n",
       "  </thead>\n",
       "  <tbody>\n",
       "    <tr>\n",
       "      <th>0</th>\n",
       "      <td>Comedy</td>\n",
       "      <td>Beef</td>\n",
       "      <td>(2023– )</td>\n",
       "      <td>TV-MA</td>\n",
       "      <td>8.2</td>\n",
       "      <td>Two people let a road rage incident burrow int...</td>\n",
       "      <td>Steven Yeun</td>\n",
       "      <td>Ali Wong</td>\n",
       "      <td>Joseph Lee</td>\n",
       "      <td>Young Mazino</td>\n",
       "      <td>110</td>\n",
       "      <td>19</td>\n",
       "      <td>1</td>\n",
       "    </tr>\n",
       "    <tr>\n",
       "      <th>1</th>\n",
       "      <td>Comedy</td>\n",
       "      <td>Succession</td>\n",
       "      <td>(2018–2023)</td>\n",
       "      <td>TV-MA</td>\n",
       "      <td>8.8</td>\n",
       "      <td>The Roy family is known for controlling the bi...</td>\n",
       "      <td>Nicholas Braun</td>\n",
       "      <td>Brian Cox</td>\n",
       "      <td>Kieran Culkin</td>\n",
       "      <td>Peter Friedman</td>\n",
       "      <td>173</td>\n",
       "      <td>28</td>\n",
       "      <td>1</td>\n",
       "    </tr>\n",
       "    <tr>\n",
       "      <th>2</th>\n",
       "      <td>Comedy</td>\n",
       "      <td>The Super Mario Bros. Movie</td>\n",
       "      <td>(2023)</td>\n",
       "      <td>PG</td>\n",
       "      <td>7.3</td>\n",
       "      <td>The story of The Super Mario Bros. on their jo...</td>\n",
       "      <td>Chris Pratt</td>\n",
       "      <td>Anya Taylor-Joy</td>\n",
       "      <td>Charlie Day</td>\n",
       "      <td>Jack Black</td>\n",
       "      <td>81</td>\n",
       "      <td>14</td>\n",
       "      <td>1</td>\n",
       "    </tr>\n",
       "    <tr>\n",
       "      <th>3</th>\n",
       "      <td>Comedy</td>\n",
       "      <td>Ted Lasso</td>\n",
       "      <td>(2020– )</td>\n",
       "      <td>TV-MA</td>\n",
       "      <td>8.8</td>\n",
       "      <td>American college football coach Ted Lasso head...</td>\n",
       "      <td>Jason Sudeikis</td>\n",
       "      <td>Brett Goldstein</td>\n",
       "      <td>Hannah Waddingham</td>\n",
       "      <td>Brendan Hunt</td>\n",
       "      <td>132</td>\n",
       "      <td>20</td>\n",
       "      <td>1</td>\n",
       "    </tr>\n",
       "    <tr>\n",
       "      <th>4</th>\n",
       "      <td>Comedy</td>\n",
       "      <td>Ghosted</td>\n",
       "      <td>(2023)</td>\n",
       "      <td>13+</td>\n",
       "      <td>5.8</td>\n",
       "      <td>Cole falls head over heels for enigmatic Sadie...</td>\n",
       "      <td>Chris Evans</td>\n",
       "      <td>Ana de Armas</td>\n",
       "      <td>Adrien Brody</td>\n",
       "      <td>Mike Moh</td>\n",
       "      <td>232</td>\n",
       "      <td>41</td>\n",
       "      <td>0</td>\n",
       "    </tr>\n",
       "  </tbody>\n",
       "</table>\n",
       "</div>"
      ],
      "text/plain": [
       "    Genre                        Title Year_produced Certificate  Ratings  \\\n",
       "0  Comedy                         Beef      (2023– )       TV-MA      8.2   \n",
       "1  Comedy                   Succession   (2018–2023)       TV-MA      8.8   \n",
       "2  Comedy  The Super Mario Bros. Movie        (2023)          PG      7.3   \n",
       "3  Comedy                    Ted Lasso      (2020– )       TV-MA      8.8   \n",
       "4  Comedy                      Ghosted        (2023)         13+      5.8   \n",
       "\n",
       "                                         Description         Actor_1  \\\n",
       "0  Two people let a road rage incident burrow int...     Steven Yeun   \n",
       "1  The Roy family is known for controlling the bi...  Nicholas Braun   \n",
       "2  The story of The Super Mario Bros. on their jo...     Chris Pratt   \n",
       "3  American college football coach Ted Lasso head...  Jason Sudeikis   \n",
       "4  Cole falls head over heels for enigmatic Sadie...     Chris Evans   \n",
       "\n",
       "           Actor_2            Actor_3         Actor_4  Description_length  \\\n",
       "0         Ali Wong         Joseph Lee    Young Mazino                 110   \n",
       "1        Brian Cox      Kieran Culkin  Peter Friedman                 173   \n",
       "2  Anya Taylor-Joy        Charlie Day      Jack Black                  81   \n",
       "3  Brett Goldstein  Hannah Waddingham    Brendan Hunt                 132   \n",
       "4     Ana de Armas       Adrien Brody        Mike Moh                 232   \n",
       "\n",
       "   Description_word_count  labels  \n",
       "0                      19       1  \n",
       "1                      28       1  \n",
       "2                      14       1  \n",
       "3                      20       1  \n",
       "4                      41       0  "
      ]
     },
     "execution_count": 6,
     "metadata": {},
     "output_type": "execute_result"
    }
   ],
   "source": [
    "df.head()"
   ]
  },
  {
   "cell_type": "code",
   "execution_count": 7,
   "id": "3a30f33d-62a9-466d-bfe9-6f892ad2bf7b",
   "metadata": {},
   "outputs": [],
   "source": [
    "df['Description'].fillna('-', inplace=True)\n",
    "df['Actor_1'].fillna('-', inplace=True)\n",
    "df['Actor_2'].fillna('-', inplace=True)\n",
    "df['Actor_3'].fillna('-', inplace=True)\n",
    "df['Actor_4'].fillna('-', inplace=True)"
   ]
  },
  {
   "cell_type": "code",
   "execution_count": 8,
   "id": "b577b584-89e1-4095-927a-b03bf7b21f33",
   "metadata": {},
   "outputs": [],
   "source": [
    "df['Ratings'] = df['Ratings'].astype(str)"
   ]
  },
  {
   "cell_type": "markdown",
   "id": "29863ba6-a269-4ece-8c42-e01a346b1a85",
   "metadata": {},
   "source": [
    "# Model Improvements"
   ]
  },
  {
   "cell_type": "markdown",
   "id": "2f935397-87d6-4cc7-b584-28c27a479bc9",
   "metadata": {},
   "source": [
    "## Data Preprocessing"
   ]
  },
  {
   "cell_type": "markdown",
   "id": "19085bb3-0de3-40d8-bca4-8a193f2a0fbc",
   "metadata": {},
   "source": [
    "### Spliting features into X and y"
   ]
  },
  {
   "cell_type": "code",
   "execution_count": 9,
   "id": "bd7ad13f-2903-415a-ae7e-2227840ab6ad",
   "metadata": {},
   "outputs": [],
   "source": [
    "X = df.drop(columns = ['Genre','Ratings', 'Year_produced', 'labels', 'Description_length', 'Description_word_count'])"
   ]
  },
  {
   "cell_type": "code",
   "execution_count": 10,
   "id": "495c7c14-f104-4859-b5f7-2363b35e6e1b",
   "metadata": {},
   "outputs": [
    {
     "data": {
      "text/html": [
       "<div>\n",
       "<style scoped>\n",
       "    .dataframe tbody tr th:only-of-type {\n",
       "        vertical-align: middle;\n",
       "    }\n",
       "\n",
       "    .dataframe tbody tr th {\n",
       "        vertical-align: top;\n",
       "    }\n",
       "\n",
       "    .dataframe thead th {\n",
       "        text-align: right;\n",
       "    }\n",
       "</style>\n",
       "<table border=\"1\" class=\"dataframe\">\n",
       "  <thead>\n",
       "    <tr style=\"text-align: right;\">\n",
       "      <th></th>\n",
       "      <th>Title</th>\n",
       "      <th>Certificate</th>\n",
       "      <th>Description</th>\n",
       "      <th>Actor_1</th>\n",
       "      <th>Actor_2</th>\n",
       "      <th>Actor_3</th>\n",
       "      <th>Actor_4</th>\n",
       "    </tr>\n",
       "  </thead>\n",
       "  <tbody>\n",
       "    <tr>\n",
       "      <th>0</th>\n",
       "      <td>Beef</td>\n",
       "      <td>TV-MA</td>\n",
       "      <td>Two people let a road rage incident burrow int...</td>\n",
       "      <td>Steven Yeun</td>\n",
       "      <td>Ali Wong</td>\n",
       "      <td>Joseph Lee</td>\n",
       "      <td>Young Mazino</td>\n",
       "    </tr>\n",
       "    <tr>\n",
       "      <th>1</th>\n",
       "      <td>Succession</td>\n",
       "      <td>TV-MA</td>\n",
       "      <td>The Roy family is known for controlling the bi...</td>\n",
       "      <td>Nicholas Braun</td>\n",
       "      <td>Brian Cox</td>\n",
       "      <td>Kieran Culkin</td>\n",
       "      <td>Peter Friedman</td>\n",
       "    </tr>\n",
       "    <tr>\n",
       "      <th>2</th>\n",
       "      <td>The Super Mario Bros. Movie</td>\n",
       "      <td>PG</td>\n",
       "      <td>The story of The Super Mario Bros. on their jo...</td>\n",
       "      <td>Chris Pratt</td>\n",
       "      <td>Anya Taylor-Joy</td>\n",
       "      <td>Charlie Day</td>\n",
       "      <td>Jack Black</td>\n",
       "    </tr>\n",
       "    <tr>\n",
       "      <th>3</th>\n",
       "      <td>Ted Lasso</td>\n",
       "      <td>TV-MA</td>\n",
       "      <td>American college football coach Ted Lasso head...</td>\n",
       "      <td>Jason Sudeikis</td>\n",
       "      <td>Brett Goldstein</td>\n",
       "      <td>Hannah Waddingham</td>\n",
       "      <td>Brendan Hunt</td>\n",
       "    </tr>\n",
       "    <tr>\n",
       "      <th>4</th>\n",
       "      <td>Ghosted</td>\n",
       "      <td>13+</td>\n",
       "      <td>Cole falls head over heels for enigmatic Sadie...</td>\n",
       "      <td>Chris Evans</td>\n",
       "      <td>Ana de Armas</td>\n",
       "      <td>Adrien Brody</td>\n",
       "      <td>Mike Moh</td>\n",
       "    </tr>\n",
       "  </tbody>\n",
       "</table>\n",
       "</div>"
      ],
      "text/plain": [
       "                         Title Certificate  \\\n",
       "0                         Beef       TV-MA   \n",
       "1                   Succession       TV-MA   \n",
       "2  The Super Mario Bros. Movie          PG   \n",
       "3                    Ted Lasso       TV-MA   \n",
       "4                      Ghosted         13+   \n",
       "\n",
       "                                         Description         Actor_1  \\\n",
       "0  Two people let a road rage incident burrow int...     Steven Yeun   \n",
       "1  The Roy family is known for controlling the bi...  Nicholas Braun   \n",
       "2  The story of The Super Mario Bros. on their jo...     Chris Pratt   \n",
       "3  American college football coach Ted Lasso head...  Jason Sudeikis   \n",
       "4  Cole falls head over heels for enigmatic Sadie...     Chris Evans   \n",
       "\n",
       "           Actor_2            Actor_3         Actor_4  \n",
       "0         Ali Wong         Joseph Lee    Young Mazino  \n",
       "1        Brian Cox      Kieran Culkin  Peter Friedman  \n",
       "2  Anya Taylor-Joy        Charlie Day      Jack Black  \n",
       "3  Brett Goldstein  Hannah Waddingham    Brendan Hunt  \n",
       "4     Ana de Armas       Adrien Brody        Mike Moh  "
      ]
     },
     "execution_count": 10,
     "metadata": {},
     "output_type": "execute_result"
    }
   ],
   "source": [
    "X.head()"
   ]
  },
  {
   "cell_type": "code",
   "execution_count": 11,
   "id": "6bb02e69-583c-495f-b3f7-b593da1d7283",
   "metadata": {},
   "outputs": [],
   "source": [
    "stemmer = PorterStemmer(mode=PorterStemmer.NLTK_EXTENSIONS)"
   ]
  },
  {
   "cell_type": "code",
   "execution_count": 12,
   "id": "78e12a7c-ab3d-4bcf-bb7b-4800885e371a",
   "metadata": {},
   "outputs": [
    {
     "name": "stderr",
     "output_type": "stream",
     "text": [
      "100%|████████████████████████████████████████████| 7/7 [03:53<00:00, 33.38s/it]\n"
     ]
    }
   ],
   "source": [
    "new_tokenize_X = pd.DataFrame()\n",
    "for i in tqdm(range(len(X.columns))):\n",
    "    tokenize_X = df[X.columns[i]].apply(lambda x: word_tokenize(str(x).lower()))\n",
    "    stem_X = tokenize_X.apply(lambda tokens: [stemmer.stem(token) for token in tokens])\n",
    "    new_tokenize_X[X.columns[i]] = stem_X"
   ]
  },
  {
   "cell_type": "code",
   "execution_count": 13,
   "id": "01835899-e00b-4e0f-9d89-c5b718fd7c70",
   "metadata": {},
   "outputs": [
    {
     "data": {
      "text/html": [
       "<div>\n",
       "<style scoped>\n",
       "    .dataframe tbody tr th:only-of-type {\n",
       "        vertical-align: middle;\n",
       "    }\n",
       "\n",
       "    .dataframe tbody tr th {\n",
       "        vertical-align: top;\n",
       "    }\n",
       "\n",
       "    .dataframe thead th {\n",
       "        text-align: right;\n",
       "    }\n",
       "</style>\n",
       "<table border=\"1\" class=\"dataframe\">\n",
       "  <thead>\n",
       "    <tr style=\"text-align: right;\">\n",
       "      <th></th>\n",
       "      <th>Title</th>\n",
       "      <th>Certificate</th>\n",
       "      <th>Description</th>\n",
       "      <th>Actor_1</th>\n",
       "      <th>Actor_2</th>\n",
       "      <th>Actor_3</th>\n",
       "      <th>Actor_4</th>\n",
       "    </tr>\n",
       "  </thead>\n",
       "  <tbody>\n",
       "    <tr>\n",
       "      <th>0</th>\n",
       "      <td>[beef]</td>\n",
       "      <td>[tv-ma]</td>\n",
       "      <td>[two, peopl, let, a, road, rage, incid, burrow...</td>\n",
       "      <td>[steven, yeun]</td>\n",
       "      <td>[ali, wong]</td>\n",
       "      <td>[joseph, lee]</td>\n",
       "      <td>[young, mazino]</td>\n",
       "    </tr>\n",
       "    <tr>\n",
       "      <th>1</th>\n",
       "      <td>[success]</td>\n",
       "      <td>[tv-ma]</td>\n",
       "      <td>[the, roy, famili, is, known, for, control, th...</td>\n",
       "      <td>[nichola, braun]</td>\n",
       "      <td>[brian, cox]</td>\n",
       "      <td>[kieran, culkin]</td>\n",
       "      <td>[peter, friedman]</td>\n",
       "    </tr>\n",
       "    <tr>\n",
       "      <th>2</th>\n",
       "      <td>[the, super, mario, bros., movi]</td>\n",
       "      <td>[pg]</td>\n",
       "      <td>[the, stori, of, the, super, mario, bros., on,...</td>\n",
       "      <td>[chri, pratt]</td>\n",
       "      <td>[anya, taylor-joy]</td>\n",
       "      <td>[charli, day]</td>\n",
       "      <td>[jack, black]</td>\n",
       "    </tr>\n",
       "    <tr>\n",
       "      <th>3</th>\n",
       "      <td>[ted, lasso]</td>\n",
       "      <td>[tv-ma]</td>\n",
       "      <td>[american, colleg, footbal, coach, ted, lasso,...</td>\n",
       "      <td>[jason, sudeiki]</td>\n",
       "      <td>[brett, goldstein]</td>\n",
       "      <td>[hannah, waddingham]</td>\n",
       "      <td>[brendan, hunt]</td>\n",
       "    </tr>\n",
       "    <tr>\n",
       "      <th>4</th>\n",
       "      <td>[ghost]</td>\n",
       "      <td>[13+]</td>\n",
       "      <td>[cole, fall, head, over, heel, for, enigmat, s...</td>\n",
       "      <td>[chri, evan]</td>\n",
       "      <td>[ana, de, arma]</td>\n",
       "      <td>[adrien, brodi]</td>\n",
       "      <td>[mike, moh]</td>\n",
       "    </tr>\n",
       "  </tbody>\n",
       "</table>\n",
       "</div>"
      ],
      "text/plain": [
       "                              Title Certificate  \\\n",
       "0                            [beef]     [tv-ma]   \n",
       "1                         [success]     [tv-ma]   \n",
       "2  [the, super, mario, bros., movi]        [pg]   \n",
       "3                      [ted, lasso]     [tv-ma]   \n",
       "4                           [ghost]       [13+]   \n",
       "\n",
       "                                         Description           Actor_1  \\\n",
       "0  [two, peopl, let, a, road, rage, incid, burrow...    [steven, yeun]   \n",
       "1  [the, roy, famili, is, known, for, control, th...  [nichola, braun]   \n",
       "2  [the, stori, of, the, super, mario, bros., on,...     [chri, pratt]   \n",
       "3  [american, colleg, footbal, coach, ted, lasso,...  [jason, sudeiki]   \n",
       "4  [cole, fall, head, over, heel, for, enigmat, s...      [chri, evan]   \n",
       "\n",
       "              Actor_2               Actor_3            Actor_4  \n",
       "0         [ali, wong]         [joseph, lee]    [young, mazino]  \n",
       "1        [brian, cox]      [kieran, culkin]  [peter, friedman]  \n",
       "2  [anya, taylor-joy]         [charli, day]      [jack, black]  \n",
       "3  [brett, goldstein]  [hannah, waddingham]    [brendan, hunt]  \n",
       "4     [ana, de, arma]       [adrien, brodi]        [mike, moh]  "
      ]
     },
     "execution_count": 13,
     "metadata": {},
     "output_type": "execute_result"
    }
   ],
   "source": [
    "new_tokenize_X.head()"
   ]
  },
  {
   "cell_type": "code",
   "execution_count": 14,
   "id": "ced77c4d-f1e5-4bcf-88e9-e0ae8b4dd8c0",
   "metadata": {},
   "outputs": [
    {
     "data": {
      "text/html": [
       "<div>\n",
       "<style scoped>\n",
       "    .dataframe tbody tr th:only-of-type {\n",
       "        vertical-align: middle;\n",
       "    }\n",
       "\n",
       "    .dataframe tbody tr th {\n",
       "        vertical-align: top;\n",
       "    }\n",
       "\n",
       "    .dataframe thead th {\n",
       "        text-align: right;\n",
       "    }\n",
       "</style>\n",
       "<table border=\"1\" class=\"dataframe\">\n",
       "  <thead>\n",
       "    <tr style=\"text-align: right;\">\n",
       "      <th></th>\n",
       "      <th>Title</th>\n",
       "      <th>Certificate</th>\n",
       "      <th>Description</th>\n",
       "      <th>Actor_1</th>\n",
       "      <th>Actor_2</th>\n",
       "      <th>Actor_3</th>\n",
       "      <th>Actor_4</th>\n",
       "    </tr>\n",
       "  </thead>\n",
       "  <tbody>\n",
       "    <tr>\n",
       "      <th>0</th>\n",
       "      <td>Beef</td>\n",
       "      <td>TV-MA</td>\n",
       "      <td>Two people let a road rage incident burrow int...</td>\n",
       "      <td>Steven Yeun</td>\n",
       "      <td>Ali Wong</td>\n",
       "      <td>Joseph Lee</td>\n",
       "      <td>Young Mazino</td>\n",
       "    </tr>\n",
       "    <tr>\n",
       "      <th>1</th>\n",
       "      <td>Succession</td>\n",
       "      <td>TV-MA</td>\n",
       "      <td>The Roy family is known for controlling the bi...</td>\n",
       "      <td>Nicholas Braun</td>\n",
       "      <td>Brian Cox</td>\n",
       "      <td>Kieran Culkin</td>\n",
       "      <td>Peter Friedman</td>\n",
       "    </tr>\n",
       "    <tr>\n",
       "      <th>2</th>\n",
       "      <td>The Super Mario Bros. Movie</td>\n",
       "      <td>PG</td>\n",
       "      <td>The story of The Super Mario Bros. on their jo...</td>\n",
       "      <td>Chris Pratt</td>\n",
       "      <td>Anya Taylor-Joy</td>\n",
       "      <td>Charlie Day</td>\n",
       "      <td>Jack Black</td>\n",
       "    </tr>\n",
       "    <tr>\n",
       "      <th>3</th>\n",
       "      <td>Ted Lasso</td>\n",
       "      <td>TV-MA</td>\n",
       "      <td>American college football coach Ted Lasso head...</td>\n",
       "      <td>Jason Sudeikis</td>\n",
       "      <td>Brett Goldstein</td>\n",
       "      <td>Hannah Waddingham</td>\n",
       "      <td>Brendan Hunt</td>\n",
       "    </tr>\n",
       "    <tr>\n",
       "      <th>4</th>\n",
       "      <td>Ghosted</td>\n",
       "      <td>13+</td>\n",
       "      <td>Cole falls head over heels for enigmatic Sadie...</td>\n",
       "      <td>Chris Evans</td>\n",
       "      <td>Ana de Armas</td>\n",
       "      <td>Adrien Brody</td>\n",
       "      <td>Mike Moh</td>\n",
       "    </tr>\n",
       "  </tbody>\n",
       "</table>\n",
       "</div>"
      ],
      "text/plain": [
       "                         Title Certificate  \\\n",
       "0                         Beef       TV-MA   \n",
       "1                   Succession       TV-MA   \n",
       "2  The Super Mario Bros. Movie          PG   \n",
       "3                    Ted Lasso       TV-MA   \n",
       "4                      Ghosted         13+   \n",
       "\n",
       "                                         Description         Actor_1  \\\n",
       "0  Two people let a road rage incident burrow int...     Steven Yeun   \n",
       "1  The Roy family is known for controlling the bi...  Nicholas Braun   \n",
       "2  The story of The Super Mario Bros. on their jo...     Chris Pratt   \n",
       "3  American college football coach Ted Lasso head...  Jason Sudeikis   \n",
       "4  Cole falls head over heels for enigmatic Sadie...     Chris Evans   \n",
       "\n",
       "           Actor_2            Actor_3         Actor_4  \n",
       "0         Ali Wong         Joseph Lee    Young Mazino  \n",
       "1        Brian Cox      Kieran Culkin  Peter Friedman  \n",
       "2  Anya Taylor-Joy        Charlie Day      Jack Black  \n",
       "3  Brett Goldstein  Hannah Waddingham    Brendan Hunt  \n",
       "4     Ana de Armas       Adrien Brody        Mike Moh  "
      ]
     },
     "execution_count": 14,
     "metadata": {},
     "output_type": "execute_result"
    }
   ],
   "source": [
    "X.head()"
   ]
  },
  {
   "cell_type": "code",
   "execution_count": 15,
   "id": "5a198268-fc17-4404-8533-6822eef8bcf6",
   "metadata": {},
   "outputs": [
    {
     "name": "stdout",
     "output_type": "stream",
     "text": [
      "CPU times: total: 484 ms\n",
      "Wall time: 547 ms\n"
     ]
    }
   ],
   "source": [
    "%%time\n",
    "X_df = pd.DataFrame()\n",
    "for i in range(len(new_tokenize_X.columns)):\n",
    "    convert_to_string = new_tokenize_X[new_tokenize_X.columns[i]].apply(lambda x: ' '.join(x) if x else '')\n",
    "    X_df[new_tokenize_X.columns[i]] = convert_to_string"
   ]
  },
  {
   "cell_type": "code",
   "execution_count": 16,
   "id": "e31433e1-f55d-4a99-9f4d-0bd756be85e8",
   "metadata": {},
   "outputs": [
    {
     "data": {
      "text/html": [
       "<div>\n",
       "<style scoped>\n",
       "    .dataframe tbody tr th:only-of-type {\n",
       "        vertical-align: middle;\n",
       "    }\n",
       "\n",
       "    .dataframe tbody tr th {\n",
       "        vertical-align: top;\n",
       "    }\n",
       "\n",
       "    .dataframe thead th {\n",
       "        text-align: right;\n",
       "    }\n",
       "</style>\n",
       "<table border=\"1\" class=\"dataframe\">\n",
       "  <thead>\n",
       "    <tr style=\"text-align: right;\">\n",
       "      <th></th>\n",
       "      <th>Title</th>\n",
       "      <th>Certificate</th>\n",
       "      <th>Description</th>\n",
       "      <th>Actor_1</th>\n",
       "      <th>Actor_2</th>\n",
       "      <th>Actor_3</th>\n",
       "      <th>Actor_4</th>\n",
       "    </tr>\n",
       "  </thead>\n",
       "  <tbody>\n",
       "    <tr>\n",
       "      <th>0</th>\n",
       "      <td>beef</td>\n",
       "      <td>tv-ma</td>\n",
       "      <td>two peopl let a road rage incid burrow into th...</td>\n",
       "      <td>steven yeun</td>\n",
       "      <td>ali wong</td>\n",
       "      <td>joseph lee</td>\n",
       "      <td>young mazino</td>\n",
       "    </tr>\n",
       "    <tr>\n",
       "      <th>1</th>\n",
       "      <td>success</td>\n",
       "      <td>tv-ma</td>\n",
       "      <td>the roy famili is known for control the bigges...</td>\n",
       "      <td>nichola braun</td>\n",
       "      <td>brian cox</td>\n",
       "      <td>kieran culkin</td>\n",
       "      <td>peter friedman</td>\n",
       "    </tr>\n",
       "    <tr>\n",
       "      <th>2</th>\n",
       "      <td>the super mario bros. movi</td>\n",
       "      <td>pg</td>\n",
       "      <td>the stori of the super mario bros. on their jo...</td>\n",
       "      <td>chri pratt</td>\n",
       "      <td>anya taylor-joy</td>\n",
       "      <td>charli day</td>\n",
       "      <td>jack black</td>\n",
       "    </tr>\n",
       "    <tr>\n",
       "      <th>3</th>\n",
       "      <td>ted lasso</td>\n",
       "      <td>tv-ma</td>\n",
       "      <td>american colleg footbal coach ted lasso head t...</td>\n",
       "      <td>jason sudeiki</td>\n",
       "      <td>brett goldstein</td>\n",
       "      <td>hannah waddingham</td>\n",
       "      <td>brendan hunt</td>\n",
       "    </tr>\n",
       "    <tr>\n",
       "      <th>4</th>\n",
       "      <td>ghost</td>\n",
       "      <td>13+</td>\n",
       "      <td>cole fall head over heel for enigmat sadi , bu...</td>\n",
       "      <td>chri evan</td>\n",
       "      <td>ana de arma</td>\n",
       "      <td>adrien brodi</td>\n",
       "      <td>mike moh</td>\n",
       "    </tr>\n",
       "  </tbody>\n",
       "</table>\n",
       "</div>"
      ],
      "text/plain": [
       "                        Title Certificate  \\\n",
       "0                        beef       tv-ma   \n",
       "1                     success       tv-ma   \n",
       "2  the super mario bros. movi          pg   \n",
       "3                   ted lasso       tv-ma   \n",
       "4                       ghost         13+   \n",
       "\n",
       "                                         Description        Actor_1  \\\n",
       "0  two peopl let a road rage incid burrow into th...    steven yeun   \n",
       "1  the roy famili is known for control the bigges...  nichola braun   \n",
       "2  the stori of the super mario bros. on their jo...     chri pratt   \n",
       "3  american colleg footbal coach ted lasso head t...  jason sudeiki   \n",
       "4  cole fall head over heel for enigmat sadi , bu...      chri evan   \n",
       "\n",
       "           Actor_2            Actor_3         Actor_4  \n",
       "0         ali wong         joseph lee    young mazino  \n",
       "1        brian cox      kieran culkin  peter friedman  \n",
       "2  anya taylor-joy         charli day      jack black  \n",
       "3  brett goldstein  hannah waddingham    brendan hunt  \n",
       "4      ana de arma       adrien brodi        mike moh  "
      ]
     },
     "execution_count": 16,
     "metadata": {},
     "output_type": "execute_result"
    }
   ],
   "source": [
    "X_df.head()"
   ]
  },
  {
   "cell_type": "code",
   "execution_count": 17,
   "id": "9a73fc14-ef67-4fd8-a95e-cd0fcfedd4da",
   "metadata": {},
   "outputs": [],
   "source": [
    "X = X_df['Title'] + ' ' + X_df['Certificate'] + ' ' + X_df['Description'] + ' ' + X_df['Actor_1'] + ' ' + X_df['Actor_2'] + ' ' + X_df['Actor_3'] + ' ' + X_df['Actor_4']"
   ]
  },
  {
   "cell_type": "code",
   "execution_count": 18,
   "id": "97aa7817-e9bf-4082-b352-1f0628552a0b",
   "metadata": {},
   "outputs": [],
   "source": [
    "y = df['labels']"
   ]
  },
  {
   "cell_type": "code",
   "execution_count": 19,
   "id": "f060eb4d-4a79-4c90-85e5-dc56bb3f6ed9",
   "metadata": {},
   "outputs": [
    {
     "data": {
      "text/plain": [
       "1    0.532915\n",
       "0    0.467085\n",
       "Name: labels, dtype: float64"
      ]
     },
     "execution_count": 19,
     "metadata": {},
     "output_type": "execute_result"
    }
   ],
   "source": [
    "y.value_counts(normalize = True)"
   ]
  },
  {
   "cell_type": "code",
   "execution_count": 20,
   "id": "a0a4ea00-3f21-49cf-a852-2194994d0228",
   "metadata": {},
   "outputs": [],
   "source": [
    "X.reset_index(drop=True, inplace=True)\n",
    "y.reset_index(drop=True, inplace=True)"
   ]
  },
  {
   "cell_type": "code",
   "execution_count": 21,
   "id": "86de8ce3-c993-4782-83ef-fb98f3d6775d",
   "metadata": {},
   "outputs": [
    {
     "data": {
      "text/plain": [
       "0    beef tv-ma two peopl let a road rage incid bur...\n",
       "1    success tv-ma the roy famili is known for cont...\n",
       "2    the super mario bros. movi pg the stori of the...\n",
       "3    ted lasso tv-ma american colleg footbal coach ...\n",
       "4    ghost 13+ cole fall head over heel for enigmat...\n",
       "dtype: object"
      ]
     },
     "execution_count": 21,
     "metadata": {},
     "output_type": "execute_result"
    }
   ],
   "source": [
    "X.head()"
   ]
  },
  {
   "cell_type": "code",
   "execution_count": 22,
   "id": "6ad797a9-c3e2-40f1-8c69-0a857d89373b",
   "metadata": {},
   "outputs": [
    {
     "data": {
      "text/plain": [
       "0    1\n",
       "1    1\n",
       "2    1\n",
       "3    1\n",
       "4    0\n",
       "Name: labels, dtype: int64"
      ]
     },
     "execution_count": 22,
     "metadata": {},
     "output_type": "execute_result"
    }
   ],
   "source": [
    "y.head()"
   ]
  },
  {
   "cell_type": "markdown",
   "id": "af123636-880b-4213-8b6e-ad1e13612f42",
   "metadata": {},
   "source": [
    "### X_train, y_train"
   ]
  },
  {
   "cell_type": "code",
   "execution_count": 23,
   "id": "55660d7b-79ac-4f86-ba28-5b60fe04daf7",
   "metadata": {},
   "outputs": [],
   "source": [
    "X_train, X_test, y_train, y_test = train_test_split(X, y, random_state=42)"
   ]
  },
  {
   "cell_type": "code",
   "execution_count": 24,
   "id": "b6ff040d-7f2b-4f20-8102-246fa741627b",
   "metadata": {},
   "outputs": [],
   "source": [
    " tfidf = TfidfVectorizer(stop_words = 'english')"
   ]
  },
  {
   "cell_type": "markdown",
   "id": "fe223af0-22bd-4117-abee-78bf24c31872",
   "metadata": {},
   "source": [
    "# Models"
   ]
  },
  {
   "cell_type": "markdown",
   "id": "2120a4f7-0def-4fb8-aba8-53ea85da40e6",
   "metadata": {},
   "source": [
    "## Random Forest Classifier"
   ]
  },
  {
   "cell_type": "code",
   "execution_count": 147,
   "id": "736b2f44-17a3-44ed-b16b-bd3ac2cd30a0",
   "metadata": {},
   "outputs": [],
   "source": [
    "rfc = RandomForestClassifier(max_depth = 10, random_state = 42)"
   ]
  },
  {
   "cell_type": "code",
   "execution_count": 148,
   "id": "6a48115b-24e6-4955-83eb-3dd07caefe5d",
   "metadata": {},
   "outputs": [],
   "source": [
    "pipe_rfc_gs = Pipeline([('tfidf',tfidf),('rfc',rfc)])"
   ]
  },
  {
   "cell_type": "code",
   "execution_count": 150,
   "id": "851023bd-10de-41c6-b362-95e4e8ddad81",
   "metadata": {},
   "outputs": [],
   "source": [
    "pipe_rfc_gs_params = {'rfc__max_depth':[5,7,10],\n",
    "                  'rfc__n_estimators':[50,100]}"
   ]
  },
  {
   "cell_type": "code",
   "execution_count": 151,
   "id": "bd480f41-8097-4156-a17e-c81ba4a70566",
   "metadata": {},
   "outputs": [],
   "source": [
    "rfc_gs = GridSearchCV(pipe_rfc_gs, pipe_rfc_gs_params, cv=5, verbose=1, error_score='raise')"
   ]
  },
  {
   "cell_type": "code",
   "execution_count": 152,
   "id": "7f2890ba-b30d-4334-87d0-08fcae636f8c",
   "metadata": {},
   "outputs": [
    {
     "name": "stdout",
     "output_type": "stream",
     "text": [
      "Fitting 5 folds for each of 6 candidates, totalling 30 fits\n"
     ]
    }
   ],
   "source": [
    "model_rfc = rfc_gs.fit(X_train, y_train)"
   ]
  },
  {
   "cell_type": "code",
   "execution_count": 153,
   "id": "097f3b1a-e056-41ed-a238-9c0a6d9b7d34",
   "metadata": {
    "tags": []
   },
   "outputs": [],
   "source": [
    "rfc_pred_test = model_rfc.predict(X_test)"
   ]
  },
  {
   "cell_type": "code",
   "execution_count": 154,
   "id": "59ec35a0-37e7-4572-9858-5520fcf155ba",
   "metadata": {},
   "outputs": [],
   "source": [
    "rfc_pred_train = model_rfc.predict(X_train)"
   ]
  },
  {
   "cell_type": "code",
   "execution_count": 155,
   "id": "f9251bb5-e8b0-425e-9018-ceb887453c31",
   "metadata": {},
   "outputs": [
    {
     "data": {
      "text/plain": [
       "0.5529484322218017"
      ]
     },
     "execution_count": 155,
     "metadata": {},
     "output_type": "execute_result"
    }
   ],
   "source": [
    "model_rfc.score(X_train,y_train)"
   ]
  },
  {
   "cell_type": "code",
   "execution_count": 156,
   "id": "0111bbc1-7199-499e-bd1b-5addf20de998",
   "metadata": {},
   "outputs": [
    {
     "data": {
      "text/plain": [
       "0.5520373407341995"
      ]
     },
     "execution_count": 156,
     "metadata": {},
     "output_type": "execute_result"
    }
   ],
   "source": [
    "model_rfc.score(X_test,y_test)"
   ]
  },
  {
   "cell_type": "code",
   "execution_count": 157,
   "id": "7fc4a1b2-18f4-493b-84fa-64b4381f00ec",
   "metadata": {},
   "outputs": [
    {
     "name": "stdout",
     "output_type": "stream",
     "text": [
      "              precision    recall  f1-score   support\n",
      "\n",
      "         Bad       0.85      0.04      0.08     22119\n",
      "        Good       0.54      0.99      0.70     25443\n",
      "\n",
      "    accuracy                           0.55     47562\n",
      "   macro avg       0.70      0.52      0.39     47562\n",
      "weighted avg       0.69      0.55      0.42     47562\n",
      "\n"
     ]
    }
   ],
   "source": [
    "print(classification_report(y_test, rfc_pred_test, target_names=['Bad', 'Good']))\n",
    "\n"
   ]
  },
  {
   "cell_type": "code",
   "execution_count": 158,
   "id": "6b9a7f48-2d26-4bdf-a8fd-2f6a432454e4",
   "metadata": {},
   "outputs": [
    {
     "name": "stdout",
     "output_type": "stream",
     "text": [
      "              precision    recall  f1-score   support\n",
      "\n",
      "         Bad       0.89      0.05      0.10     66743\n",
      "        Good       0.54      0.99      0.70     75943\n",
      "\n",
      "    accuracy                           0.55    142686\n",
      "   macro avg       0.72      0.52      0.40    142686\n",
      "weighted avg       0.71      0.55      0.42    142686\n",
      "\n"
     ]
    }
   ],
   "source": [
    "print(classification_report(y_train, rfc_pred_train, target_names=['Bad', 'Good']))\n",
    "\n"
   ]
  },
  {
   "cell_type": "code",
   "execution_count": 159,
   "id": "4832ca5e-1d69-4fb6-9267-46360996eb5f",
   "metadata": {},
   "outputs": [
    {
     "data": {
      "image/png": "[encoded data removed]",
      "text/plain": [
       "<Figure size 432x288 with 2 Axes>"
      ]
     },
     "metadata": {
      "needs_background": "light"
     },
     "output_type": "display_data"
    }
   ],
   "source": [
    "cm = confusion_matrix(y_test, rfc_pred_test)\n",
    "disp = ConfusionMatrixDisplay(confusion_matrix=cm, display_labels=['Bad', 'Good'])\n",
    "disp.plot();\n",
    "\n",
    "plt.title(\"Confusion Matrix\")\n",
    "plt.show()"
   ]
  },
  {
   "cell_type": "markdown",
   "id": "78ee0c68-ce00-42c5-9cb8-17a9552f7922",
   "metadata": {
    "tags": []
   },
   "source": [
    "## Logistic Regression"
   ]
  },
  {
   "cell_type": "code",
   "execution_count": 99,
   "id": "d0f0a84c-073e-4337-8c89-1edab7afc98a",
   "metadata": {},
   "outputs": [],
   "source": [
    "lr = LogisticRegression(max_iter=500, random_state=42)"
   ]
  },
  {
   "cell_type": "code",
   "execution_count": 100,
   "id": "2aaa1958-06f6-4756-bcdc-1018bd3c5c40",
   "metadata": {},
   "outputs": [],
   "source": [
    "lr_pipe_gs = Pipeline([('tfidf',tfidf), ('lr',lr)])"
   ]
  },
  {
   "cell_type": "code",
   "execution_count": 160,
   "id": "87c89d33-fc98-4d0b-8f1d-bc12c4e38bed",
   "metadata": {},
   "outputs": [],
   "source": [
    "lr_pipe_gs_params = {'lr__penalty':['l2'],\n",
    "                 'lr__C': [0.25, 0.5, 0.7]}"
   ]
  },
  {
   "cell_type": "code",
   "execution_count": 161,
   "id": "cee1635b-f34e-47fc-846d-e704f8c781f7",
   "metadata": {},
   "outputs": [],
   "source": [
    "lr_gs = GridSearchCV(lr_pipe_gs, lr_pipe_gs_params, error_score='raise')"
   ]
  },
  {
   "cell_type": "code",
   "execution_count": 162,
   "id": "482a57db-d8eb-42b5-817b-6b606b324520",
   "metadata": {
    "scrolled": true,
    "tags": []
   },
   "outputs": [],
   "source": [
    "model_lr = lr_gs.fit(X_train, y_train)"
   ]
  },
  {
   "cell_type": "code",
   "execution_count": 163,
   "id": "3ad9480a-5b52-4b24-9a6f-46fd796284a5",
   "metadata": {},
   "outputs": [],
   "source": [
    "lr_pred_test = lr_gs.predict(X_test)"
   ]
  },
  {
   "cell_type": "code",
   "execution_count": 164,
   "id": "541437ce-1084-4155-9283-41fb34aae04b",
   "metadata": {},
   "outputs": [],
   "source": [
    "lr_pred_train = lr_gs.predict(X_train)"
   ]
  },
  {
   "cell_type": "code",
   "execution_count": 165,
   "id": "232f22b8-ce60-4765-863f-0987d350b601",
   "metadata": {},
   "outputs": [
    {
     "data": {
      "text/plain": [
       "{'lr__C': 0.7, 'lr__penalty': 'l2'}"
      ]
     },
     "execution_count": 165,
     "metadata": {},
     "output_type": "execute_result"
    }
   ],
   "source": [
    "model_lr.best_params_"
   ]
  },
  {
   "cell_type": "code",
   "execution_count": 166,
   "id": "4523e40c-12e9-4549-9980-df30fffbabb7",
   "metadata": {},
   "outputs": [
    {
     "data": {
      "text/plain": [
       "0.8317354190320003"
      ]
     },
     "execution_count": 166,
     "metadata": {},
     "output_type": "execute_result"
    }
   ],
   "source": [
    "model_lr.score(X_train,y_train)"
   ]
  },
  {
   "cell_type": "code",
   "execution_count": 167,
   "id": "d895cbf4-ef62-47ea-84a8-09c828089dcc",
   "metadata": {},
   "outputs": [
    {
     "data": {
      "text/plain": [
       "0.7867415163365712"
      ]
     },
     "execution_count": 167,
     "metadata": {},
     "output_type": "execute_result"
    }
   ],
   "source": [
    "model_lr.score(X_test,y_test)"
   ]
  },
  {
   "cell_type": "code",
   "execution_count": 168,
   "id": "f83cfee2-c388-445e-8380-595c8cf04d01",
   "metadata": {},
   "outputs": [
    {
     "name": "stdout",
     "output_type": "stream",
     "text": [
      "              precision    recall  f1-score   support\n",
      "\n",
      "         Bad       0.78      0.76      0.77     22119\n",
      "        Good       0.80      0.81      0.80     25443\n",
      "\n",
      "    accuracy                           0.79     47562\n",
      "   macro avg       0.79      0.79      0.79     47562\n",
      "weighted avg       0.79      0.79      0.79     47562\n",
      "\n"
     ]
    }
   ],
   "source": [
    "print(classification_report(y_test, lr_pred_test, target_names=['Bad', 'Good']))\n"
   ]
  },
  {
   "cell_type": "code",
   "execution_count": 169,
   "id": "a80fc1b0-074b-4e8a-ad14-eb9bc67af147",
   "metadata": {},
   "outputs": [
    {
     "name": "stdout",
     "output_type": "stream",
     "text": [
      "              precision    recall  f1-score   support\n",
      "\n",
      "         Bad       0.83      0.81      0.82     66743\n",
      "        Good       0.84      0.85      0.84     75943\n",
      "\n",
      "    accuracy                           0.83    142686\n",
      "   macro avg       0.83      0.83      0.83    142686\n",
      "weighted avg       0.83      0.83      0.83    142686\n",
      "\n"
     ]
    }
   ],
   "source": [
    "print(classification_report(y_train, lr_pred_train, target_names=['Bad','Good']))\n"
   ]
  },
  {
   "cell_type": "code",
   "execution_count": 170,
   "id": "93c6fb54-9935-4495-be0f-56270505e52f",
   "metadata": {},
   "outputs": [
    {
     "data": {
      "image/png": "[encoded data removed]",
      "text/plain": [
       "<Figure size 432x288 with 2 Axes>"
      ]
     },
     "metadata": {
      "needs_background": "light"
     },
     "output_type": "display_data"
    }
   ],
   "source": [
    "cm = confusion_matrix(y_test, lr_pred_test)\n",
    "disp = ConfusionMatrixDisplay(confusion_matrix=cm, display_labels=['Bad', 'Good'])\n",
    "disp.plot();\n",
    "\n",
    "plt.title(\"Confusion Matrix\")\n",
    "plt.show()"
   ]
  },
  {
   "cell_type": "markdown",
   "id": "f30d9007-ebee-414d-9a31-2606f755d05c",
   "metadata": {},
   "source": [
    "## XG Boost Classifier"
   ]
  },
  {
   "cell_type": "code",
   "execution_count": 133,
   "id": "d8ea0d3a-90da-4da8-9dfe-f0bea6eeb836",
   "metadata": {},
   "outputs": [],
   "source": [
    "xgc = XGBClassifier(random_state = 42)"
   ]
  },
  {
   "cell_type": "code",
   "execution_count": 134,
   "id": "705cb032-29d2-4de7-a49c-0c1109f21d90",
   "metadata": {},
   "outputs": [],
   "source": [
    "xgc_pipe_gs = Pipeline([('tfidf',tfidf), ('xgc',xgc)])"
   ]
  },
  {
   "cell_type": "code",
   "execution_count": 135,
   "id": "92d06937-460c-45fe-940d-96dad7093fca",
   "metadata": {},
   "outputs": [],
   "source": [
    "xgc_pipe_gs_params = {'xgc__max_depth':[7,9],\n",
    "                      'xgc__alpha': [0.1, 0.5]}"
   ]
  },
  {
   "cell_type": "code",
   "execution_count": 136,
   "id": "d530ddc5-05c3-4fcd-b87e-48ee5c231e39",
   "metadata": {},
   "outputs": [],
   "source": [
    "xgc_gs = GridSearchCV(xgc_pipe_gs, xgc_pipe_gs_params, cv=5, verbose=1, error_score='raise')"
   ]
  },
  {
   "cell_type": "code",
   "execution_count": 137,
   "id": "8b8b8e93-6aec-4d60-a8cd-e84401d601d1",
   "metadata": {},
   "outputs": [
    {
     "name": "stdout",
     "output_type": "stream",
     "text": [
      "Fitting 5 folds for each of 4 candidates, totalling 20 fits\n"
     ]
    }
   ],
   "source": [
    "model_xgc = xgc_gs.fit(X_train, y_train)"
   ]
  },
  {
   "cell_type": "code",
   "execution_count": 138,
   "id": "1e118971-0343-42d9-bf31-009c0df1e740",
   "metadata": {},
   "outputs": [],
   "source": [
    "xgc_pred_test = xgc_gs.predict(X_test)"
   ]
  },
  {
   "cell_type": "code",
   "execution_count": 139,
   "id": "fe018cd6-35f9-4cbf-aed2-61e06edbca8b",
   "metadata": {},
   "outputs": [],
   "source": [
    "xgc_pred_train = xgc_gs.predict(X_train)"
   ]
  },
  {
   "cell_type": "code",
   "execution_count": 140,
   "id": "b36fd3d5-e0bf-4eb9-8142-6da722876913",
   "metadata": {},
   "outputs": [
    {
     "data": {
      "text/plain": [
       "0.7895168411757285"
      ]
     },
     "execution_count": 140,
     "metadata": {},
     "output_type": "execute_result"
    }
   ],
   "source": [
    "model_xgc.score(X_train,y_train)"
   ]
  },
  {
   "cell_type": "code",
   "execution_count": 141,
   "id": "8ad920d7-ca57-46ee-bc5e-f986f11a59c4",
   "metadata": {},
   "outputs": [
    {
     "data": {
      "text/plain": [
       "0.7527017366805433"
      ]
     },
     "execution_count": 141,
     "metadata": {},
     "output_type": "execute_result"
    }
   ],
   "source": [
    "model_xgc.score(X_test,y_test)"
   ]
  },
  {
   "cell_type": "code",
   "execution_count": 142,
   "id": "c0211f3a-2d64-4efd-a546-1038e37f6e36",
   "metadata": {},
   "outputs": [
    {
     "data": {
      "text/plain": [
       "{'xgc__alpha': 0.1, 'xgc__max_depth': 9}"
      ]
     },
     "execution_count": 142,
     "metadata": {},
     "output_type": "execute_result"
    }
   ],
   "source": [
    "model_xgc.best_params_"
   ]
  },
  {
   "cell_type": "code",
   "execution_count": 143,
   "id": "fe976843-279d-4c35-9683-ff1768874926",
   "metadata": {},
   "outputs": [
    {
     "name": "stdout",
     "output_type": "stream",
     "text": [
      "              precision    recall  f1-score   support\n",
      "\n",
      "         Bad       0.73      0.73      0.73     22119\n",
      "        Good       0.77      0.77      0.77     25443\n",
      "\n",
      "    accuracy                           0.75     47562\n",
      "   macro avg       0.75      0.75      0.75     47562\n",
      "weighted avg       0.75      0.75      0.75     47562\n",
      "\n"
     ]
    }
   ],
   "source": [
    "print(classification_report(y_test, xgc_pred_test, target_names=['Bad','Good']))"
   ]
  },
  {
   "cell_type": "code",
   "execution_count": 144,
   "id": "8d0c7cf5-5b0e-471f-bcf7-d9ec31122e53",
   "metadata": {},
   "outputs": [
    {
     "name": "stdout",
     "output_type": "stream",
     "text": [
      "              precision    recall  f1-score   support\n",
      "\n",
      "         Bad       0.78      0.77      0.77     66743\n",
      "        Good       0.80      0.81      0.80     75943\n",
      "\n",
      "    accuracy                           0.79    142686\n",
      "   macro avg       0.79      0.79      0.79    142686\n",
      "weighted avg       0.79      0.79      0.79    142686\n",
      "\n"
     ]
    }
   ],
   "source": [
    "print(classification_report(y_train, xgc_pred_train, target_names=['Bad','Good']))"
   ]
  },
  {
   "cell_type": "code",
   "execution_count": 145,
   "id": "94707b14-f106-4786-8788-b2a1607ac259",
   "metadata": {},
   "outputs": [
    {
     "data": {
      "image/png": "[encoded data removed]",
      "text/plain": [
       "<Figure size 432x288 with 2 Axes>"
      ]
     },
     "metadata": {
      "needs_background": "light"
     },
     "output_type": "display_data"
    }
   ],
   "source": [
    "cm = confusion_matrix(y_test, xgc_pred_test)\n",
    "disp = ConfusionMatrixDisplay(confusion_matrix=cm, display_labels=['Bad', 'Good'])\n",
    "disp.plot();\n",
    "\n",
    "plt.title(\"Confusion Matrix\")\n",
    "plt.show()"
   ]
  },
  {
   "cell_type": "markdown",
   "id": "dc0fba94-cc13-466d-895d-4d76b1501c67",
   "metadata": {
    "tags": []
   },
   "source": [
    "# Main Discussion"
   ]
  },
  {
   "cell_type": "markdown",
   "id": "ecd02411-b839-48cb-8f4d-c4937ed58a76",
   "metadata": {},
   "source": [
    "| Model                            | Train Accuracy (%) | Test Accuracy (%) | No. False Positive|\n",
    "|:--------------------------------:|:------------------:|:-----------------:|:-----------------:|\n",
    "| Naive Bayes (Tuned)              | 87.0               | 81.4              | 5435              |\n",
    "| Random Forest Classifier (Tuned) | 55.2               | 55.2              | 168               |\n",
    "| XG Boost Classifier (Tuned)      | 78.9               | 75.2              | 5874              |\n",
    "| Logistic Regression (Tuned)      | 83.1               | 78.6              | 4874              |"
   ]
  },
  {
   "cell_type": "markdown",
   "id": "6a3cc03b-da9d-44f2-9cc2-bad301a0c61e",
   "metadata": {},
   "source": [
    "Upon analyzing the results in the table, we observe interesting patterns in the performance of different classifiers. The Random Forest Classifier (RFC) exhibits a commendable attribute with a low number of false positive cases, standing at just 168. However, when considering the overall accuracy, both the training and testing scores are at 55.2%. While this indicates room for improvement, it also suggests that the model's predictions may not be entirely reliable, as there is a 45% chance of incorrect predictions.\n",
    "\n",
    "Moving on to the XGBoost Classifier (XBC), we find that it demonstrates higher accuracy scores compared to the RFC. With training and testing accuracies of 78.9% and 75.2% respectively, the XGBC showcases a more consistent performance. It is worth noting that although the XGBC has a lower percentage of overfitting compared to the Naive Bayes (NB) model at 3.7%, the number of false positive cases are higher than the other classifiers.\n",
    "\n",
    "Lastly, the Logistic Regression (LR) model shows promising results. It attains accuracy scores of 83.1% in training and 78.6% in testing. Although a 4.5% overfitting is observed, it remains relatively low, given the context of the task. Moreover, the LR model exhibits the second-lowest number of false positive cases among the classifiers considered.\n",
    "\n",
    "Taking all these factors into account, we can conclude that the Logistic Regression (LR) model emerges as the most suitable choice for movie quality prediction. It demonstrates consistent and respectable accuracy scores, maintaining a relatively low number of false positive cases. By leveraging LR, we can expect a reliable and effective model for the task at hand.\n",
    "\n",
    "In summary, after carefully evaluating the strengths and weaknesses of each classifier, it is evident that the Logistic Regression (LR) model emerges as the most favorable option for accurately predicting movie quality. By selecting LR as our chosen model, we have effectively reduced the overfitting percentage from 6% to a more modest 4.5%. Additionally, we have significantly decreased the number of false positive cases by 561. By making this selection, we have increase the confidence in accuracy and precision of movie quality predictions. with the implementation of LR model, we can expect more accurate and trustworthy movie quality predictions, thereby enabling us to make more informed decisions based on the model's outputs."
   ]
  },
  {
   "cell_type": "markdown",
   "id": "4b320269-5acc-4d20-9e7d-f6c7906d07b4",
   "metadata": {},
   "source": [
    "# Hold Out Data"
   ]
  },
  {
   "cell_type": "code",
   "execution_count": 171,
   "id": "8ddbdc6d-3935-462e-881c-15114ae52797",
   "metadata": {},
   "outputs": [],
   "source": [
    "hold_out = pd.read_csv('./datasets/hold_out.csv')"
   ]
  },
  {
   "cell_type": "code",
   "execution_count": 172,
   "id": "3a8f1f4e-42d9-4325-83f6-47a6da367f40",
   "metadata": {},
   "outputs": [
    {
     "data": {
      "text/html": [
       "<div>\n",
       "<style scoped>\n",
       "    .dataframe tbody tr th:only-of-type {\n",
       "        vertical-align: middle;\n",
       "    }\n",
       "\n",
       "    .dataframe tbody tr th {\n",
       "        vertical-align: top;\n",
       "    }\n",
       "\n",
       "    .dataframe thead th {\n",
       "        text-align: right;\n",
       "    }\n",
       "</style>\n",
       "<table border=\"1\" class=\"dataframe\">\n",
       "  <thead>\n",
       "    <tr style=\"text-align: right;\">\n",
       "      <th></th>\n",
       "      <th>Genre</th>\n",
       "      <th>Title</th>\n",
       "      <th>Year_produced</th>\n",
       "      <th>Certificate</th>\n",
       "      <th>Ratings</th>\n",
       "      <th>Description</th>\n",
       "      <th>Actors</th>\n",
       "      <th>Actor_1</th>\n",
       "      <th>Actor_2</th>\n",
       "      <th>Actor_3</th>\n",
       "      <th>Actor_4</th>\n",
       "    </tr>\n",
       "  </thead>\n",
       "  <tbody>\n",
       "    <tr>\n",
       "      <th>0</th>\n",
       "      <td>Comedy</td>\n",
       "      <td>Barbie</td>\n",
       "      <td>(2023)</td>\n",
       "      <td>NaN</td>\n",
       "      <td>NaN</td>\n",
       "      <td>To live in Barbie Land is to be a perfect bein...</td>\n",
       "      <td>['Margot Robbie', 'Ariana Greenblatt', 'Ryan G...</td>\n",
       "      <td>Margot Robbie</td>\n",
       "      <td>Ariana Greenblatt</td>\n",
       "      <td>Ryan Gosling</td>\n",
       "      <td>Helen Mirren</td>\n",
       "    </tr>\n",
       "    <tr>\n",
       "      <th>1</th>\n",
       "      <td>Comedy</td>\n",
       "      <td>Guardians of the Galaxy Vol. 3</td>\n",
       "      <td>(2023)</td>\n",
       "      <td>13+</td>\n",
       "      <td>NaN</td>\n",
       "      <td>Still reeling from the loss of Gamora, Peter Q...</td>\n",
       "      <td>['Chris Pratt', 'Zoe Saldana', 'Dave Bautista'...</td>\n",
       "      <td>Chris Pratt</td>\n",
       "      <td>Zoe Saldana</td>\n",
       "      <td>Dave Bautista</td>\n",
       "      <td>Vin Diesel</td>\n",
       "    </tr>\n",
       "    <tr>\n",
       "      <th>2</th>\n",
       "      <td>Comedy</td>\n",
       "      <td>Lilo &amp; Stitch</td>\n",
       "      <td>NaN</td>\n",
       "      <td>NaN</td>\n",
       "      <td>NaN</td>\n",
       "      <td>Live-action remake of Disney's animated classi...</td>\n",
       "      <td>['Sydney Agudong', 'Billy Magnussen', 'Tia Car...</td>\n",
       "      <td>Sydney Agudong</td>\n",
       "      <td>Billy Magnussen</td>\n",
       "      <td>Tia Carrere</td>\n",
       "      <td>Courtney B. Vance</td>\n",
       "    </tr>\n",
       "    <tr>\n",
       "      <th>3</th>\n",
       "      <td>Comedy</td>\n",
       "      <td>Wicked</td>\n",
       "      <td>(2024)</td>\n",
       "      <td>NaN</td>\n",
       "      <td>NaN</td>\n",
       "      <td>The story of how a green-skinned woman framed ...</td>\n",
       "      <td>['Michelle Yeoh', 'Cynthia Erivo', 'Jeff Goldb...</td>\n",
       "      <td>Michelle Yeoh</td>\n",
       "      <td>Cynthia Erivo</td>\n",
       "      <td>Jeff Goldblum</td>\n",
       "      <td>Ariana Grande</td>\n",
       "    </tr>\n",
       "    <tr>\n",
       "      <th>4</th>\n",
       "      <td>Comedy</td>\n",
       "      <td>White Men Can't Jump</td>\n",
       "      <td>(2023)</td>\n",
       "      <td>R</td>\n",
       "      <td>NaN</td>\n",
       "      <td>A remake of the 1992 film about a pair of bask...</td>\n",
       "      <td>['Sinqua Walls', 'Jack Harlow', 'Lance Reddick...</td>\n",
       "      <td>Sinqua Walls</td>\n",
       "      <td>Jack Harlow</td>\n",
       "      <td>Lance Reddick</td>\n",
       "      <td>Teyana Taylor</td>\n",
       "    </tr>\n",
       "  </tbody>\n",
       "</table>\n",
       "</div>"
      ],
      "text/plain": [
       "    Genre                           Title Year_produced Certificate  Ratings  \\\n",
       "0  Comedy                          Barbie        (2023)         NaN      NaN   \n",
       "1  Comedy  Guardians of the Galaxy Vol. 3        (2023)         13+      NaN   \n",
       "2  Comedy                   Lilo & Stitch           NaN         NaN      NaN   \n",
       "3  Comedy                          Wicked        (2024)         NaN      NaN   \n",
       "4  Comedy            White Men Can't Jump        (2023)           R      NaN   \n",
       "\n",
       "                                         Description  \\\n",
       "0  To live in Barbie Land is to be a perfect bein...   \n",
       "1  Still reeling from the loss of Gamora, Peter Q...   \n",
       "2  Live-action remake of Disney's animated classi...   \n",
       "3  The story of how a green-skinned woman framed ...   \n",
       "4  A remake of the 1992 film about a pair of bask...   \n",
       "\n",
       "                                              Actors         Actor_1  \\\n",
       "0  ['Margot Robbie', 'Ariana Greenblatt', 'Ryan G...   Margot Robbie   \n",
       "1  ['Chris Pratt', 'Zoe Saldana', 'Dave Bautista'...     Chris Pratt   \n",
       "2  ['Sydney Agudong', 'Billy Magnussen', 'Tia Car...  Sydney Agudong   \n",
       "3  ['Michelle Yeoh', 'Cynthia Erivo', 'Jeff Goldb...   Michelle Yeoh   \n",
       "4  ['Sinqua Walls', 'Jack Harlow', 'Lance Reddick...    Sinqua Walls   \n",
       "\n",
       "             Actor_2        Actor_3            Actor_4  \n",
       "0  Ariana Greenblatt   Ryan Gosling       Helen Mirren  \n",
       "1        Zoe Saldana  Dave Bautista         Vin Diesel  \n",
       "2    Billy Magnussen    Tia Carrere  Courtney B. Vance  \n",
       "3      Cynthia Erivo  Jeff Goldblum      Ariana Grande  \n",
       "4        Jack Harlow  Lance Reddick      Teyana Taylor  "
      ]
     },
     "execution_count": 172,
     "metadata": {},
     "output_type": "execute_result"
    }
   ],
   "source": [
    "hold_out.head()"
   ]
  },
  {
   "cell_type": "code",
   "execution_count": 173,
   "id": "162e9e88-358b-4d20-8f0d-f9b1520130ea",
   "metadata": {},
   "outputs": [],
   "source": [
    "hold_out.drop(columns = ['Actors'], inplace = True)"
   ]
  },
  {
   "cell_type": "code",
   "execution_count": 174,
   "id": "b07255c4-576b-4cc6-829d-e8e00769dae1",
   "metadata": {},
   "outputs": [],
   "source": [
    "hold_out['Description'].fillna('-', inplace=True)\n",
    "hold_out['Actor_1'].fillna('-', inplace=True)\n",
    "hold_out['Actor_2'].fillna('-', inplace=True)\n",
    "hold_out['Actor_3'].fillna('-', inplace=True)\n",
    "hold_out['Actor_4'].fillna('-', inplace=True)"
   ]
  },
  {
   "cell_type": "code",
   "execution_count": 177,
   "id": "0f6f64e7-be4c-46e3-840c-a791514b8098",
   "metadata": {},
   "outputs": [],
   "source": [
    "hold_X = hold_out.drop(columns = ['Genre','Ratings', 'Year_produced'])"
   ]
  },
  {
   "cell_type": "code",
   "execution_count": 178,
   "id": "b5b0b540-e023-49ba-8a94-89894a4ccb53",
   "metadata": {},
   "outputs": [
    {
     "data": {
      "text/html": [
       "<div>\n",
       "<style scoped>\n",
       "    .dataframe tbody tr th:only-of-type {\n",
       "        vertical-align: middle;\n",
       "    }\n",
       "\n",
       "    .dataframe tbody tr th {\n",
       "        vertical-align: top;\n",
       "    }\n",
       "\n",
       "    .dataframe thead th {\n",
       "        text-align: right;\n",
       "    }\n",
       "</style>\n",
       "<table border=\"1\" class=\"dataframe\">\n",
       "  <thead>\n",
       "    <tr style=\"text-align: right;\">\n",
       "      <th></th>\n",
       "      <th>Title</th>\n",
       "      <th>Certificate</th>\n",
       "      <th>Description</th>\n",
       "      <th>Actor_1</th>\n",
       "      <th>Actor_2</th>\n",
       "      <th>Actor_3</th>\n",
       "      <th>Actor_4</th>\n",
       "    </tr>\n",
       "  </thead>\n",
       "  <tbody>\n",
       "    <tr>\n",
       "      <th>0</th>\n",
       "      <td>Barbie</td>\n",
       "      <td>NaN</td>\n",
       "      <td>To live in Barbie Land is to be a perfect bein...</td>\n",
       "      <td>Margot Robbie</td>\n",
       "      <td>Ariana Greenblatt</td>\n",
       "      <td>Ryan Gosling</td>\n",
       "      <td>Helen Mirren</td>\n",
       "    </tr>\n",
       "    <tr>\n",
       "      <th>1</th>\n",
       "      <td>Guardians of the Galaxy Vol. 3</td>\n",
       "      <td>13+</td>\n",
       "      <td>Still reeling from the loss of Gamora, Peter Q...</td>\n",
       "      <td>Chris Pratt</td>\n",
       "      <td>Zoe Saldana</td>\n",
       "      <td>Dave Bautista</td>\n",
       "      <td>Vin Diesel</td>\n",
       "    </tr>\n",
       "    <tr>\n",
       "      <th>2</th>\n",
       "      <td>Lilo &amp; Stitch</td>\n",
       "      <td>NaN</td>\n",
       "      <td>Live-action remake of Disney's animated classi...</td>\n",
       "      <td>Sydney Agudong</td>\n",
       "      <td>Billy Magnussen</td>\n",
       "      <td>Tia Carrere</td>\n",
       "      <td>Courtney B. Vance</td>\n",
       "    </tr>\n",
       "    <tr>\n",
       "      <th>3</th>\n",
       "      <td>Wicked</td>\n",
       "      <td>NaN</td>\n",
       "      <td>The story of how a green-skinned woman framed ...</td>\n",
       "      <td>Michelle Yeoh</td>\n",
       "      <td>Cynthia Erivo</td>\n",
       "      <td>Jeff Goldblum</td>\n",
       "      <td>Ariana Grande</td>\n",
       "    </tr>\n",
       "    <tr>\n",
       "      <th>4</th>\n",
       "      <td>White Men Can't Jump</td>\n",
       "      <td>R</td>\n",
       "      <td>A remake of the 1992 film about a pair of bask...</td>\n",
       "      <td>Sinqua Walls</td>\n",
       "      <td>Jack Harlow</td>\n",
       "      <td>Lance Reddick</td>\n",
       "      <td>Teyana Taylor</td>\n",
       "    </tr>\n",
       "  </tbody>\n",
       "</table>\n",
       "</div>"
      ],
      "text/plain": [
       "                            Title Certificate  \\\n",
       "0                          Barbie         NaN   \n",
       "1  Guardians of the Galaxy Vol. 3         13+   \n",
       "2                   Lilo & Stitch         NaN   \n",
       "3                          Wicked         NaN   \n",
       "4            White Men Can't Jump           R   \n",
       "\n",
       "                                         Description         Actor_1  \\\n",
       "0  To live in Barbie Land is to be a perfect bein...   Margot Robbie   \n",
       "1  Still reeling from the loss of Gamora, Peter Q...     Chris Pratt   \n",
       "2  Live-action remake of Disney's animated classi...  Sydney Agudong   \n",
       "3  The story of how a green-skinned woman framed ...   Michelle Yeoh   \n",
       "4  A remake of the 1992 film about a pair of bask...    Sinqua Walls   \n",
       "\n",
       "             Actor_2        Actor_3            Actor_4  \n",
       "0  Ariana Greenblatt   Ryan Gosling       Helen Mirren  \n",
       "1        Zoe Saldana  Dave Bautista         Vin Diesel  \n",
       "2    Billy Magnussen    Tia Carrere  Courtney B. Vance  \n",
       "3      Cynthia Erivo  Jeff Goldblum      Ariana Grande  \n",
       "4        Jack Harlow  Lance Reddick      Teyana Taylor  "
      ]
     },
     "execution_count": 178,
     "metadata": {},
     "output_type": "execute_result"
    }
   ],
   "source": [
    "hold_X.head()"
   ]
  },
  {
   "cell_type": "code",
   "execution_count": 182,
   "id": "0651ff2b-de5f-4753-afba-ab799bca946f",
   "metadata": {},
   "outputs": [
    {
     "name": "stderr",
     "output_type": "stream",
     "text": [
      "100%|████████████████████████████████████████████| 7/7 [03:45<00:00, 32.20s/it]\n"
     ]
    }
   ],
   "source": [
    "new_tokenize_hold_X = pd.DataFrame()\n",
    "for i in tqdm(range(len(hold_X.columns))):\n",
    "    tokenize_hold_X = hold_out[hold_X.columns[i]].apply(lambda x: word_tokenize(str(x).lower()))\n",
    "    stem_hold_X = tokenize_hold_X.apply(lambda tokens: [stemmer.stem(token) for token in tokens])\n",
    "    new_tokenize_hold_X[hold_X.columns[i]] = stem_hold_X"
   ]
  },
  {
   "cell_type": "code",
   "execution_count": 187,
   "id": "c4535bbb-43ab-40b1-981f-759f8df982fd",
   "metadata": {},
   "outputs": [
    {
     "name": "stdout",
     "output_type": "stream",
     "text": [
      "CPU times: total: 750 ms\n",
      "Wall time: 1.04 s\n"
     ]
    }
   ],
   "source": [
    "%%time\n",
    "hold_X_df = pd.DataFrame()\n",
    "for i in range(len(new_tokenize_hold_X.columns)):\n",
    "    convert_to_string = new_tokenize_hold_X[new_tokenize_hold_X.columns[i]].apply(lambda x: ' '.join(x) if x else '')\n",
    "    hold_X_df[new_tokenize_hold_X.columns[i]] = convert_to_string"
   ]
  },
  {
   "cell_type": "code",
   "execution_count": 188,
   "id": "54484997-11db-4e6c-8607-8b3705cbdfdb",
   "metadata": {},
   "outputs": [],
   "source": [
    "hold_X = hold_X_df['Title'] + ' ' + hold_X_df['Certificate'] + ' ' + hold_X_df['Description'] + ' ' + hold_X_df['Actor_1'] + ' ' + hold_X_df['Actor_2'] + ' ' + hold_X_df['Actor_3'] + ' ' + hold_X_df['Actor_4']"
   ]
  },
  {
   "cell_type": "code",
   "execution_count": 189,
   "id": "1ea27db3-c1bc-4dbd-8497-3e1f4a5f4e53",
   "metadata": {},
   "outputs": [],
   "source": [
    "hold_X.reset_index(drop=True, inplace=True)"
   ]
  },
  {
   "cell_type": "code",
   "execution_count": 190,
   "id": "4b743cf3-c12f-4917-882d-187e54a73fc9",
   "metadata": {},
   "outputs": [
    {
     "data": {
      "text/plain": [
       "0    barbi nan to live in barbi land is to be a per...\n",
       "1    guardian of the galaxi vol . 3 13+ still reel ...\n",
       "2    lilo & stitch nan live-act remak of disney 's ...\n",
       "3    wick nan the stori of how a green-skin woman f...\n",
       "4    white men ca n't jump r a remak of the 1992 fi...\n",
       "dtype: object"
      ]
     },
     "execution_count": 190,
     "metadata": {},
     "output_type": "execute_result"
    }
   ],
   "source": [
    "hold_X.head()"
   ]
  },
  {
   "cell_type": "code",
   "execution_count": 191,
   "id": "6d5588b2-0869-4726-8cf4-01af97d3f834",
   "metadata": {},
   "outputs": [],
   "source": [
    "hold_out_test = lr_gs.predict(hold_X)"
   ]
  },
  {
   "cell_type": "code",
   "execution_count": 197,
   "id": "79f1a129-10e6-4697-9b4b-833fe5148e49",
   "metadata": {},
   "outputs": [],
   "source": [
    "hold_out['Predictions'] = hold_out_test"
   ]
  },
  {
   "cell_type": "code",
   "execution_count": 199,
   "id": "38a43dba-bcbc-4ac1-805f-b8ca7ebdc61d",
   "metadata": {},
   "outputs": [],
   "source": [
    "hold_out['Predictions'] = hold_out['Predictions'].apply(lambda x: 'good' if x == 1 else 'bad')"
   ]
  },
  {
   "cell_type": "code",
   "execution_count": 202,
   "id": "826f9673-a0ac-4a62-88fe-d0ef2ca0d46d",
   "metadata": {},
   "outputs": [
    {
     "data": {
      "text/html": [
       "<div>\n",
       "<style scoped>\n",
       "    .dataframe tbody tr th:only-of-type {\n",
       "        vertical-align: middle;\n",
       "    }\n",
       "\n",
       "    .dataframe tbody tr th {\n",
       "        vertical-align: top;\n",
       "    }\n",
       "\n",
       "    .dataframe thead th {\n",
       "        text-align: right;\n",
       "    }\n",
       "</style>\n",
       "<table border=\"1\" class=\"dataframe\">\n",
       "  <thead>\n",
       "    <tr style=\"text-align: right;\">\n",
       "      <th></th>\n",
       "      <th>Genre</th>\n",
       "      <th>Title</th>\n",
       "      <th>Year_produced</th>\n",
       "      <th>Certificate</th>\n",
       "      <th>Ratings</th>\n",
       "      <th>Description</th>\n",
       "      <th>Actor_1</th>\n",
       "      <th>Actor_2</th>\n",
       "      <th>Actor_3</th>\n",
       "      <th>Actor_4</th>\n",
       "      <th>Predictions</th>\n",
       "    </tr>\n",
       "  </thead>\n",
       "  <tbody>\n",
       "    <tr>\n",
       "      <th>0</th>\n",
       "      <td>Comedy</td>\n",
       "      <td>Barbie</td>\n",
       "      <td>(2023)</td>\n",
       "      <td>NaN</td>\n",
       "      <td>NaN</td>\n",
       "      <td>To live in Barbie Land is to be a perfect bein...</td>\n",
       "      <td>Margot Robbie</td>\n",
       "      <td>Ariana Greenblatt</td>\n",
       "      <td>Ryan Gosling</td>\n",
       "      <td>Helen Mirren</td>\n",
       "      <td>bad</td>\n",
       "    </tr>\n",
       "    <tr>\n",
       "      <th>1</th>\n",
       "      <td>Comedy</td>\n",
       "      <td>Guardians of the Galaxy Vol. 3</td>\n",
       "      <td>(2023)</td>\n",
       "      <td>13+</td>\n",
       "      <td>NaN</td>\n",
       "      <td>Still reeling from the loss of Gamora, Peter Q...</td>\n",
       "      <td>Chris Pratt</td>\n",
       "      <td>Zoe Saldana</td>\n",
       "      <td>Dave Bautista</td>\n",
       "      <td>Vin Diesel</td>\n",
       "      <td>good</td>\n",
       "    </tr>\n",
       "    <tr>\n",
       "      <th>2</th>\n",
       "      <td>Comedy</td>\n",
       "      <td>Lilo &amp; Stitch</td>\n",
       "      <td>NaN</td>\n",
       "      <td>NaN</td>\n",
       "      <td>NaN</td>\n",
       "      <td>Live-action remake of Disney's animated classi...</td>\n",
       "      <td>Sydney Agudong</td>\n",
       "      <td>Billy Magnussen</td>\n",
       "      <td>Tia Carrere</td>\n",
       "      <td>Courtney B. Vance</td>\n",
       "      <td>good</td>\n",
       "    </tr>\n",
       "    <tr>\n",
       "      <th>3</th>\n",
       "      <td>Comedy</td>\n",
       "      <td>Wicked</td>\n",
       "      <td>(2024)</td>\n",
       "      <td>NaN</td>\n",
       "      <td>NaN</td>\n",
       "      <td>The story of how a green-skinned woman framed ...</td>\n",
       "      <td>Michelle Yeoh</td>\n",
       "      <td>Cynthia Erivo</td>\n",
       "      <td>Jeff Goldblum</td>\n",
       "      <td>Ariana Grande</td>\n",
       "      <td>bad</td>\n",
       "    </tr>\n",
       "    <tr>\n",
       "      <th>4</th>\n",
       "      <td>Comedy</td>\n",
       "      <td>White Men Can't Jump</td>\n",
       "      <td>(2023)</td>\n",
       "      <td>R</td>\n",
       "      <td>NaN</td>\n",
       "      <td>A remake of the 1992 film about a pair of bask...</td>\n",
       "      <td>Sinqua Walls</td>\n",
       "      <td>Jack Harlow</td>\n",
       "      <td>Lance Reddick</td>\n",
       "      <td>Teyana Taylor</td>\n",
       "      <td>bad</td>\n",
       "    </tr>\n",
       "  </tbody>\n",
       "</table>\n",
       "</div>"
      ],
      "text/plain": [
       "    Genre                           Title Year_produced Certificate  Ratings  \\\n",
       "0  Comedy                          Barbie        (2023)         NaN      NaN   \n",
       "1  Comedy  Guardians of the Galaxy Vol. 3        (2023)         13+      NaN   \n",
       "2  Comedy                   Lilo & Stitch           NaN         NaN      NaN   \n",
       "3  Comedy                          Wicked        (2024)         NaN      NaN   \n",
       "4  Comedy            White Men Can't Jump        (2023)           R      NaN   \n",
       "\n",
       "                                         Description         Actor_1  \\\n",
       "0  To live in Barbie Land is to be a perfect bein...   Margot Robbie   \n",
       "1  Still reeling from the loss of Gamora, Peter Q...     Chris Pratt   \n",
       "2  Live-action remake of Disney's animated classi...  Sydney Agudong   \n",
       "3  The story of how a green-skinned woman framed ...   Michelle Yeoh   \n",
       "4  A remake of the 1992 film about a pair of bask...    Sinqua Walls   \n",
       "\n",
       "             Actor_2        Actor_3            Actor_4 Predictions  \n",
       "0  Ariana Greenblatt   Ryan Gosling       Helen Mirren         bad  \n",
       "1        Zoe Saldana  Dave Bautista         Vin Diesel        good  \n",
       "2    Billy Magnussen    Tia Carrere  Courtney B. Vance        good  \n",
       "3      Cynthia Erivo  Jeff Goldblum      Ariana Grande         bad  \n",
       "4        Jack Harlow  Lance Reddick      Teyana Taylor         bad  "
      ]
     },
     "execution_count": 202,
     "metadata": {},
     "output_type": "execute_result"
    }
   ],
   "source": [
    "hold_out.head()"
   ]
  },
  {
   "cell_type": "markdown",
   "id": "8ac3034f-4601-4a3d-83c8-4c03a49d314a",
   "metadata": {},
   "source": [
    "Remarks:\n",
    "\n",
    "Based on personal experience, barbie movies are bad whereas Guardians of the Galaxy movie sequels are excellent."
   ]
  },
  {
   "cell_type": "markdown",
   "id": "7e2b9880-9a94-47ae-84ae-a7d33acf987d",
   "metadata": {},
   "source": [
    "# Future Works"
   ]
  },
  {
   "cell_type": "markdown",
   "id": "c7867609-55cd-409a-b6cc-9cac838b8126",
   "metadata": {},
   "source": [
    "For future works, there are several steps that can be taken to address the overfitting of the Logistic Regression model and further improve its performance and potentially exploring other types of predictions.\n",
    "\n",
    "1. Increasing computational power: With greater computational resources, you can perform more extensive hyperparameter tuning and model training. This allows for a more thorough exploration of the hyperparameter space, leading to better-tailored models and reduced overfitting.\n",
    "\n",
    "2. Hyperparameter tuning: Fine-tuning the hyperparameters of the Logistic Regression model can help find the optimal configuration that minimizes overfitting. Parameters such as the regularization strength (e.g., C parameter in logistic regression), penalty type (L1 or L2), and solver type can be adjusted to strike a better balance between model complexity and generalization.\n",
    "\n",
    "3. Feature engineering and dimensionality reduction: Careful feature engineering and selection can improve the model's performance. Analyze the relevance of each feature and consider removing any that are not contributing significantly to the prediction task. This can help reduce the dimensionality of the data and potentially alleviate overfitting.\n",
    "\n",
    "4. Exploring other models: While Logistic Regression has shown promise, it is worth exploring other types of models, such as neural networks, which are known for their ability to capture complex patterns in data. Neural networks can handle non-linear relationships and might provide improved performance compared to Logistic Regression, especially in cases of more intricate and nuanced data.\n",
    "\n",
    "5. Other types of predictions could be explored such as genre prediction, movie certificate classification and recommendation of actors for movies."
   ]
  },
  {
   "cell_type": "markdown",
   "id": "204f827a-3096-4b5d-b60f-c051ec134c88",
   "metadata": {},
   "source": [
    "# Conclusion"
   ]
  },
  {
   "cell_type": "markdown",
   "id": "0e834281-5c39-4546-948c-292bac7e0225",
   "metadata": {},
   "source": [
    "In conclusion, the objective of utilizing textual inputs to develop a model for accurately assessing the quality of movies has been successfully achieved. Among the different models evaluated, the Logistic Regression model has demonstrated its superiority and emerged as the most favorable option for this project.\n",
    "\n",
    "By leveraging the Logistic Regression model, filmmakers and industry professionals can now make more informed decisions in various aspects, including resource allocation, critical reception, and audience engagement. The model's ability to accurately predict movie quality based on textual inputs empowers decision-makers to optimize their strategies and make well-informed choices.\n",
    "\n",
    "This project opens up new possibilities for the film industry by providing a reliable and effective tool for assessing movie quality. The integration of textural inputs and the Logistic Regression model's predictive capabilities offer a valuable resource for filmmakers to enhance their understanding of audience preferences, improve critical reception, and optimize resource allocation.\n",
    "\n",
    "Overall, this project demonstrates the potential of leveraging advanced machine learning techniques and textual data analysis to drive informed decision-making in the film industry. The successful implementation of the Logistic Regression model paves the way for future advancements and applications in the field, enabling continued growth and innovation in movie quality assessment and related areas."
   ]
  }
 ],
 "metadata": {
  "kernelspec": {
   "display_name": "Python 3 (ipykernel)",
   "language": "python",
   "name": "python3"
  },
  "language_info": {
   "codemirror_mode": {
    "name": "ipython",
    "version": 3
   },
   "file_extension": ".py",
   "mimetype": "text/x-python",
   "name": "python",
   "nbconvert_exporter": "python",
   "pygments_lexer": "ipython3",
   "version": "3.10.9"
  }
 },
 "nbformat": 4,
 "nbformat_minor": 5
}
