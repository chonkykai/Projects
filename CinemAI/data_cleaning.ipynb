{
 "cells": [
  {
   "cell_type": "markdown",
   "id": "e9919b0c-8c7c-4619-ad62-04801801a238",
   "metadata": {},
   "source": [
    "# CinemAI: A Machine Learning Approach for Accurate Movie Quality Prediction"
   ]
  },
  {
   "cell_type": "markdown",
   "id": "8d963e29-5ebf-41bb-b18b-e9638464efdc",
   "metadata": {},
   "source": [
    "## Preface"
   ]
  },
  {
   "cell_type": "markdown",
   "id": "20dad873-0f36-4184-84ae-98b8c52abf62",
   "metadata": {
    "tags": []
   },
   "source": [
    "The U.S. movie industry is a thriving economic powerhouse, with its value reaching an impressive [$95.45 billion](https://www.zippia.com/advice/us-film-industry-statistics/#:~:text=The%20U.S.%20movie%20industry%20is%20worth%20%2495.45%20billion%20as%20of,4.1%25%20from%202018%20to%202025.) in 2022. Moreover, the industry is projected to maintain a Compound Annual Growth Rate (CAGR) of 4.1% from 2018 to 2025, indicating promising prospects for those working within this domain. However, this growth presents a double-edged sword. While it ensures ample job opportunities for industry employees, it also intensifies the competition among filmmakers to create captivating films that capture audience attention and satisfaction.\n",
    "\n",
    "To comprehend the significance of predicting movie quality, let us examine a case from the past. In 2005, director Breck Eisner helmed an action-adventure film called [\"Sahara\"](https://en.wikipedia.org/wiki/Sahara_(2005_film)#:~:text=Sahara%20grossed%20%24119%20million%20worldwide,office%20failures%20of%20all%2Dtime.), based on Clive Cussler's bestselling novel of the same name. Despite a production cost of 160 million, the movie only managed to gross 119 million, failing to recoup its expenses. The film encountered numerous challenges, including legal disputes among the crew and violations of international laws, which substantially escalated production costs. However, the primary factor behind its lackluster performance was the lack of creativity and clear goals in its storyline. As a consequence, the movie failed to capture sufficient attention and resulted in disappointing box office returns.\n",
    "\n",
    "Hence, predicting movie quality is important for the following reasons:\n",
    "\n",
    "1. Audience Satisfaction: Predicting movie quality allows filmmakers, production studios, and distributors to gauge the potential reception of a movie by the audience. By identifying whether a movie is likely to be good or bad, they can make informed decisions about marketing strategies, release dates, and investment returns.\n",
    "\n",
    "2. Financial Success: As the movie industry is a highly competitive and costly business, accurately predicting movie quality helps minimize financial risks by allowing stakeholders to invest their resources wisely. It aids in identifying potential box office successes, maximizing revenue, and minimizing losses.\n",
    "\n",
    "3. Resource Allocation: Predicting movie quality enables better allocation of resources during the production process. Filmmakers can make adjustments, such as script revisions, casting choices, and production enhancements, to improve the overall quality of the movie based on the predictions. This helps optimize resource allocation and increases the chances of creating a well-received film.\n",
    "\n",
    "4. Critical Reception: Movie quality predictions can also influence critical reception and industry recognition. Positive reviews and critical acclaim can enhance a movie's reputation, leading to increased exposure, award nominations, and overall industry impact. Accurate predictions allow filmmakers to target the critical reception aspect and potentially elevate the movie's stature.\n",
    "\n",
    "5. Audience Engagement: Predicting movie quality helps in tailoring marketing and promotional campaigns to attract the target audience. By understanding the expected quality of a movie, marketers can design effective strategies to engage viewers, generate buzz, and drive ticket sales or streaming numbers.\n",
    "\n",
    "The ability to predict movie quality holds immense significance in the movie industry. It serves as a valuable decision-making tool for stakeholders, enabling them to optimize their efforts, allocate resources wisely, and make informed investments. Ultimately, accurate predictions empower filmmakers, production studios, and distributors to deliver highly satisfying experiences to audiences while maximizing commercial success in an increasingly competitive landscape."
   ]
  },
  {
   "cell_type": "markdown",
   "id": "bc263649-e887-441a-9193-885b2a086ecf",
   "metadata": {},
   "source": [
    "## Aim"
   ]
  },
  {
   "cell_type": "markdown",
   "id": "0cb5d03e-63dd-4c6a-936c-30ddb7295d32",
   "metadata": {},
   "source": [
    "The aim of this project is to leverage textural inputs to develop a predictive model that accurately assesses the quality of a movie. By utilizing machine learning techniques, the goal is to classify the forecasted movie as either a 'Good' or 'Bad' movie, providing valuable insights into its potential reception among audiences. This project seeks to empower movie enthusiasts, prospective viewers, and even filmmakers with a reliable tool to evaluate the anticipated quality of a movie based on textual information, enhancing decision-making processes and fostering a deeper understanding of cinematic excellence."
   ]
  },
  {
   "cell_type": "markdown",
   "id": "cb11fa1a-e9e0-41ed-aa44-2d0f9ce29cb7",
   "metadata": {},
   "source": [
    "## Data"
   ]
  },
  {
   "cell_type": "markdown",
   "id": "a586661e-1b24-4b18-abbc-3c7891d5ca9b",
   "metadata": {},
   "source": [
    "1. The data is webscrapped from [IMDB](https://www.imdb.com/)."
   ]
  },
  {
   "cell_type": "markdown",
   "id": "9128c963-22c0-4b36-a4fc-e3974f49c646",
   "metadata": {},
   "source": [
    "## Project Stakeholder"
   ]
  },
  {
   "cell_type": "markdown",
   "id": "2eb0d25f-88ee-4e00-883a-a946fa32d79b",
   "metadata": {},
   "source": [
    "1. Enthusiastic movie enthusiasts seeking deeper insights into various types of movies.\n",
    "2. Curious individuals eager to determine the worthiness of an unreleased movie before watching it.\n",
    "3. Movie directors aspiring to evaluate the potential success or failure of their upcoming projects."
   ]
  },
  {
   "cell_type": "code",
   "execution_count": 3,
   "id": "0ec8343d-244d-4079-a53f-e6d7ac19dfd1",
   "metadata": {},
   "outputs": [],
   "source": [
    "#import libries\n",
    "import numpy as np\n",
    "import pandas as pd\n",
    "import re"
   ]
  },
  {
   "cell_type": "code",
   "execution_count": 4,
   "id": "b0c76711-c471-4cd7-8dc7-b63ce32e4a5c",
   "metadata": {},
   "outputs": [],
   "source": [
    "df = pd.read_csv('datasets/all_movies_02.csv')"
   ]
  },
  {
   "cell_type": "code",
   "execution_count": 5,
   "id": "8f590e9a-1b19-46e5-9e2e-457750ac063f",
   "metadata": {},
   "outputs": [
    {
     "data": {
      "text/plain": [
       "(700698, 7)"
      ]
     },
     "execution_count": 5,
     "metadata": {},
     "output_type": "execute_result"
    }
   ],
   "source": [
    "df.shape"
   ]
  },
  {
   "cell_type": "code",
   "execution_count": 4,
   "id": "71bb3899-5d94-45a6-9e9e-f5a876c2e2df",
   "metadata": {},
   "outputs": [
    {
     "data": {
      "text/html": [
       "<div>\n",
       "<style scoped>\n",
       "    .dataframe tbody tr th:only-of-type {\n",
       "        vertical-align: middle;\n",
       "    }\n",
       "\n",
       "    .dataframe tbody tr th {\n",
       "        vertical-align: top;\n",
       "    }\n",
       "\n",
       "    .dataframe thead th {\n",
       "        text-align: right;\n",
       "    }\n",
       "</style>\n",
       "<table border=\"1\" class=\"dataframe\">\n",
       "  <thead>\n",
       "    <tr style=\"text-align: right;\">\n",
       "      <th></th>\n",
       "      <th>Genre</th>\n",
       "      <th>Title</th>\n",
       "      <th>Year_produced</th>\n",
       "      <th>Certificate</th>\n",
       "      <th>Ratings</th>\n",
       "      <th>Description</th>\n",
       "      <th>Actors</th>\n",
       "    </tr>\n",
       "  </thead>\n",
       "  <tbody>\n",
       "    <tr>\n",
       "      <th>0</th>\n",
       "      <td>Comedy</td>\n",
       "      <td>Beef</td>\n",
       "      <td>(2023– )</td>\n",
       "      <td>TV-MA</td>\n",
       "      <td>8.2</td>\n",
       "      <td>Two people let a road rage incident burrow int...</td>\n",
       "      <td>['Steven Yeun', 'Ali Wong', 'Joseph Lee', 'You...</td>\n",
       "    </tr>\n",
       "    <tr>\n",
       "      <th>1</th>\n",
       "      <td>Comedy</td>\n",
       "      <td>Succession</td>\n",
       "      <td>(2018–2023)</td>\n",
       "      <td>TV-MA</td>\n",
       "      <td>8.8</td>\n",
       "      <td>The Roy family is known for controlling the bi...</td>\n",
       "      <td>['Nicholas Braun', 'Brian Cox', 'Kieran Culkin...</td>\n",
       "    </tr>\n",
       "    <tr>\n",
       "      <th>2</th>\n",
       "      <td>Comedy</td>\n",
       "      <td>The Super Mario Bros. Movie</td>\n",
       "      <td>(2023)</td>\n",
       "      <td>PG</td>\n",
       "      <td>7.3</td>\n",
       "      <td>The story of The Super Mario Bros. on their jo...</td>\n",
       "      <td>['Aaron Horvath', 'Michael Jelenic', 'Pierre L...</td>\n",
       "    </tr>\n",
       "    <tr>\n",
       "      <th>3</th>\n",
       "      <td>Comedy</td>\n",
       "      <td>Ted Lasso</td>\n",
       "      <td>(2020– )</td>\n",
       "      <td>TV-MA</td>\n",
       "      <td>8.8</td>\n",
       "      <td>American college football coach Ted Lasso head...</td>\n",
       "      <td>['Jason Sudeikis', 'Brett Goldstein', 'Hannah ...</td>\n",
       "    </tr>\n",
       "    <tr>\n",
       "      <th>4</th>\n",
       "      <td>Comedy</td>\n",
       "      <td>Ghosted</td>\n",
       "      <td>(2023)</td>\n",
       "      <td>PG-13</td>\n",
       "      <td>5.8</td>\n",
       "      <td>Cole falls head over heels for enigmatic Sadie...</td>\n",
       "      <td>['Dexter Fletcher', '| ', '    Stars:', 'Chris...</td>\n",
       "    </tr>\n",
       "  </tbody>\n",
       "</table>\n",
       "</div>"
      ],
      "text/plain": [
       "    Genre                        Title Year_produced Certificate  Ratings  \\\n",
       "0  Comedy                         Beef      (2023– )       TV-MA      8.2   \n",
       "1  Comedy                   Succession   (2018–2023)       TV-MA      8.8   \n",
       "2  Comedy  The Super Mario Bros. Movie        (2023)          PG      7.3   \n",
       "3  Comedy                    Ted Lasso      (2020– )       TV-MA      8.8   \n",
       "4  Comedy                      Ghosted        (2023)       PG-13      5.8   \n",
       "\n",
       "                                         Description  \\\n",
       "0  Two people let a road rage incident burrow int...   \n",
       "1  The Roy family is known for controlling the bi...   \n",
       "2  The story of The Super Mario Bros. on their jo...   \n",
       "3  American college football coach Ted Lasso head...   \n",
       "4  Cole falls head over heels for enigmatic Sadie...   \n",
       "\n",
       "                                              Actors  \n",
       "0  ['Steven Yeun', 'Ali Wong', 'Joseph Lee', 'You...  \n",
       "1  ['Nicholas Braun', 'Brian Cox', 'Kieran Culkin...  \n",
       "2  ['Aaron Horvath', 'Michael Jelenic', 'Pierre L...  \n",
       "3  ['Jason Sudeikis', 'Brett Goldstein', 'Hannah ...  \n",
       "4  ['Dexter Fletcher', '| ', '    Stars:', 'Chris...  "
      ]
     },
     "execution_count": 4,
     "metadata": {},
     "output_type": "execute_result"
    }
   ],
   "source": [
    "df.head()"
   ]
  },
  {
   "cell_type": "markdown",
   "id": "74d92683-a0e9-4652-8423-df3a02027dde",
   "metadata": {},
   "source": [
    "Remarks:\n",
    "1. Data from webscrapping has been read."
   ]
  },
  {
   "cell_type": "markdown",
   "id": "7eb9bb92-d89a-41cc-86c9-73adb6cc2514",
   "metadata": {},
   "source": [
    "## Data Cleaning"
   ]
  },
  {
   "cell_type": "markdown",
   "id": "0e33f61e-b0a7-47c8-8e27-ba88f11b5ffa",
   "metadata": {
    "tags": []
   },
   "source": [
    "### Actors column"
   ]
  },
  {
   "cell_type": "markdown",
   "id": "097d4c0a-2af2-40ab-a0f5-dee9ddbf2f93",
   "metadata": {},
   "source": [
    "It is observed that there are some rows in actors column that contains some undesired strings and it is all a single string."
   ]
  },
  {
   "cell_type": "code",
   "execution_count": 5,
   "id": "00d64e6e-f015-4581-b56e-ff9931b39a0c",
   "metadata": {},
   "outputs": [
    {
     "data": {
      "text/plain": [
       "0    ['Steven Yeun', 'Ali Wong', 'Joseph Lee', 'You...\n",
       "1    ['Nicholas Braun', 'Brian Cox', 'Kieran Culkin...\n",
       "2    ['Aaron Horvath', 'Michael Jelenic', 'Pierre L...\n",
       "3    ['Jason Sudeikis', 'Brett Goldstein', 'Hannah ...\n",
       "4    ['Dexter Fletcher', '| ', '    Stars:', 'Chris...\n",
       "5    ['James Marsden', 'Alan Barinholtz', 'Susan Be...\n",
       "6    ['Ari Aster', '| ', '    Stars:', 'Joaquin Pho...\n",
       "7    ['Bill Hader', 'Stephen Root', 'Sarah Goldberg...\n",
       "8    ['Rachel Brosnahan', 'Alex Borstein', 'Michael...\n",
       "9    ['Chris McKay', '| ', '    Stars:', 'Nicholas ...\n",
       "Name: Actors, dtype: object"
      ]
     },
     "execution_count": 5,
     "metadata": {},
     "output_type": "execute_result"
    }
   ],
   "source": [
    "df['Actors'].head(10)"
   ]
  },
  {
   "cell_type": "markdown",
   "id": "fdaed1f2-cea7-4628-bbcd-d211c00f6e23",
   "metadata": {},
   "source": [
    "Strategy: \n",
    "1. From webscrapping, it is known that anything before the string 'Stars:' are movie directors.\n",
    "2. The next few steps is to filter out these rows and remove undesired values in them "
   ]
  },
  {
   "cell_type": "code",
   "execution_count": 6,
   "id": "4e0f42a4-3226-4157-aa10-c5ae0b02c9ad",
   "metadata": {},
   "outputs": [],
   "source": [
    "redunant_val = df[df['Actors'].str.contains('Stars:')]"
   ]
  },
  {
   "cell_type": "code",
   "execution_count": 7,
   "id": "b8700934-0910-43b9-95dd-c5c3176dc50f",
   "metadata": {},
   "outputs": [
    {
     "data": {
      "text/plain": [
       "2     ['Aaron Horvath', 'Michael Jelenic', 'Pierre L...\n",
       "4     ['Dexter Fletcher', '| ', '    Stars:', 'Chris...\n",
       "6     ['Ari Aster', '| ', '    Stars:', 'Joaquin Pho...\n",
       "9     ['Chris McKay', '| ', '    Stars:', 'Nicholas ...\n",
       "10    ['John Francis Daley', 'Jonathan Goldstein', '...\n",
       "Name: Actors, dtype: object"
      ]
     },
     "execution_count": 7,
     "metadata": {},
     "output_type": "execute_result"
    }
   ],
   "source": [
    "redunant_val['Actors'].head()"
   ]
  },
  {
   "cell_type": "code",
   "execution_count": 8,
   "id": "dc0c6975-bb24-46c2-ba9b-4446df5d9df7",
   "metadata": {},
   "outputs": [
    {
     "data": {
      "text/plain": [
       "[\"['Steven Yeun', 'Ali Wong', 'Joseph Lee', 'Young Mazino']\"]"
      ]
     },
     "execution_count": 8,
     "metadata": {},
     "output_type": "execute_result"
    }
   ],
   "source": [
    "df['Actors'][0].split(\"''\")"
   ]
  },
  {
   "cell_type": "code",
   "execution_count": 9,
   "id": "5eb68c3b-c71c-4265-a8f1-f09ed6596b3f",
   "metadata": {},
   "outputs": [],
   "source": [
    "df['Actors'] = df['Actors'].apply(lambda x:eval(x))"
   ]
  },
  {
   "cell_type": "code",
   "execution_count": 10,
   "id": "599c4885-f701-47ee-ae14-d17fc39a4f8a",
   "metadata": {},
   "outputs": [
    {
     "data": {
      "text/plain": [
       "['Steven Yeun', 'Ali Wong', 'Joseph Lee', 'Young Mazino']"
      ]
     },
     "execution_count": 10,
     "metadata": {},
     "output_type": "execute_result"
    }
   ],
   "source": [
    "df['Actors'][0]"
   ]
  },
  {
   "cell_type": "code",
   "execution_count": 11,
   "id": "a7e21069-7ffc-4d8f-825e-2a32359e7b6a",
   "metadata": {},
   "outputs": [
    {
     "data": {
      "text/plain": [
       "['Dexter Fletcher',\n",
       " '| ',\n",
       " '    Stars:',\n",
       " 'Chris Evans',\n",
       " 'Ana de Armas',\n",
       " 'Adrien Brody',\n",
       " 'Mike Moh']"
      ]
     },
     "execution_count": 11,
     "metadata": {},
     "output_type": "execute_result"
    }
   ],
   "source": [
    "df['Actors'][4]"
   ]
  },
  {
   "cell_type": "code",
   "execution_count": 12,
   "id": "116db663-91be-4eed-bdcd-97238d493338",
   "metadata": {},
   "outputs": [
    {
     "data": {
      "text/plain": [
       "['Chris Evans', 'Ana de Armas', 'Adrien Brody', 'Mike Moh']"
      ]
     },
     "execution_count": 12,
     "metadata": {},
     "output_type": "execute_result"
    }
   ],
   "source": [
    "x = df['Actors'][4].index('    Stars:')\n",
    "df['Actors'][4][x+1:]"
   ]
  },
  {
   "cell_type": "code",
   "execution_count": 13,
   "id": "234c16b9-70ff-41cf-8907-7e9499355f8e",
   "metadata": {},
   "outputs": [
    {
     "data": {
      "text/plain": [
       "['Chris Evans', 'Ana de Armas', 'Adrien Brody', 'Mike Moh']"
      ]
     },
     "execution_count": 13,
     "metadata": {},
     "output_type": "execute_result"
    }
   ],
   "source": [
    "df['Actors'][4][df['Actors'][4].index('    Stars:')+1:]"
   ]
  },
  {
   "cell_type": "code",
   "execution_count": 14,
   "id": "33b4be11-e074-4a36-b793-9e818b0132e8",
   "metadata": {},
   "outputs": [],
   "source": [
    "def remove_before_stars(lst):\n",
    "    try:\n",
    "        return lst[lst.index('    Stars:')+1:]\n",
    "    except ValueError:\n",
    "        return lst\n",
    "\n",
    "df['Actors'] = df['Actors'].apply(lambda x: remove_before_stars(x))"
   ]
  },
  {
   "cell_type": "code",
   "execution_count": 15,
   "id": "5bf3adb4-287a-4131-b793-07e409d00dbf",
   "metadata": {},
   "outputs": [
    {
     "data": {
      "text/plain": [
       "['Chris Evans', 'Ana de Armas', 'Adrien Brody', 'Mike Moh']"
      ]
     },
     "execution_count": 15,
     "metadata": {},
     "output_type": "execute_result"
    }
   ],
   "source": [
    "df['Actors'][4]"
   ]
  },
  {
   "cell_type": "code",
   "execution_count": 16,
   "id": "7640ef2b-6ea4-4e80-b392-932f867aeb3a",
   "metadata": {},
   "outputs": [
    {
     "data": {
      "text/html": [
       "<div>\n",
       "<style scoped>\n",
       "    .dataframe tbody tr th:only-of-type {\n",
       "        vertical-align: middle;\n",
       "    }\n",
       "\n",
       "    .dataframe tbody tr th {\n",
       "        vertical-align: top;\n",
       "    }\n",
       "\n",
       "    .dataframe thead th {\n",
       "        text-align: right;\n",
       "    }\n",
       "</style>\n",
       "<table border=\"1\" class=\"dataframe\">\n",
       "  <thead>\n",
       "    <tr style=\"text-align: right;\">\n",
       "      <th></th>\n",
       "      <th>Genre</th>\n",
       "      <th>Title</th>\n",
       "      <th>Year_produced</th>\n",
       "      <th>Certificate</th>\n",
       "      <th>Ratings</th>\n",
       "      <th>Description</th>\n",
       "      <th>Actors</th>\n",
       "    </tr>\n",
       "  </thead>\n",
       "  <tbody>\n",
       "    <tr>\n",
       "      <th>0</th>\n",
       "      <td>Comedy</td>\n",
       "      <td>Beef</td>\n",
       "      <td>(2023– )</td>\n",
       "      <td>TV-MA</td>\n",
       "      <td>8.2</td>\n",
       "      <td>Two people let a road rage incident burrow int...</td>\n",
       "      <td>[Steven Yeun, Ali Wong, Joseph Lee, Young Mazino]</td>\n",
       "    </tr>\n",
       "    <tr>\n",
       "      <th>1</th>\n",
       "      <td>Comedy</td>\n",
       "      <td>Succession</td>\n",
       "      <td>(2018–2023)</td>\n",
       "      <td>TV-MA</td>\n",
       "      <td>8.8</td>\n",
       "      <td>The Roy family is known for controlling the bi...</td>\n",
       "      <td>[Nicholas Braun, Brian Cox, Kieran Culkin, Pet...</td>\n",
       "    </tr>\n",
       "    <tr>\n",
       "      <th>2</th>\n",
       "      <td>Comedy</td>\n",
       "      <td>The Super Mario Bros. Movie</td>\n",
       "      <td>(2023)</td>\n",
       "      <td>PG</td>\n",
       "      <td>7.3</td>\n",
       "      <td>The story of The Super Mario Bros. on their jo...</td>\n",
       "      <td>[Chris Pratt, Anya Taylor-Joy, Charlie Day, Ja...</td>\n",
       "    </tr>\n",
       "    <tr>\n",
       "      <th>3</th>\n",
       "      <td>Comedy</td>\n",
       "      <td>Ted Lasso</td>\n",
       "      <td>(2020– )</td>\n",
       "      <td>TV-MA</td>\n",
       "      <td>8.8</td>\n",
       "      <td>American college football coach Ted Lasso head...</td>\n",
       "      <td>[Jason Sudeikis, Brett Goldstein, Hannah Waddi...</td>\n",
       "    </tr>\n",
       "    <tr>\n",
       "      <th>4</th>\n",
       "      <td>Comedy</td>\n",
       "      <td>Ghosted</td>\n",
       "      <td>(2023)</td>\n",
       "      <td>PG-13</td>\n",
       "      <td>5.8</td>\n",
       "      <td>Cole falls head over heels for enigmatic Sadie...</td>\n",
       "      <td>[Chris Evans, Ana de Armas, Adrien Brody, Mike...</td>\n",
       "    </tr>\n",
       "  </tbody>\n",
       "</table>\n",
       "</div>"
      ],
      "text/plain": [
       "    Genre                        Title Year_produced Certificate  Ratings  \\\n",
       "0  Comedy                         Beef      (2023– )       TV-MA      8.2   \n",
       "1  Comedy                   Succession   (2018–2023)       TV-MA      8.8   \n",
       "2  Comedy  The Super Mario Bros. Movie        (2023)          PG      7.3   \n",
       "3  Comedy                    Ted Lasso      (2020– )       TV-MA      8.8   \n",
       "4  Comedy                      Ghosted        (2023)       PG-13      5.8   \n",
       "\n",
       "                                         Description  \\\n",
       "0  Two people let a road rage incident burrow int...   \n",
       "1  The Roy family is known for controlling the bi...   \n",
       "2  The story of The Super Mario Bros. on their jo...   \n",
       "3  American college football coach Ted Lasso head...   \n",
       "4  Cole falls head over heels for enigmatic Sadie...   \n",
       "\n",
       "                                              Actors  \n",
       "0  [Steven Yeun, Ali Wong, Joseph Lee, Young Mazino]  \n",
       "1  [Nicholas Braun, Brian Cox, Kieran Culkin, Pet...  \n",
       "2  [Chris Pratt, Anya Taylor-Joy, Charlie Day, Ja...  \n",
       "3  [Jason Sudeikis, Brett Goldstein, Hannah Waddi...  \n",
       "4  [Chris Evans, Ana de Armas, Adrien Brody, Mike...  "
      ]
     },
     "execution_count": 16,
     "metadata": {},
     "output_type": "execute_result"
    }
   ],
   "source": [
    "df.head()"
   ]
  },
  {
   "cell_type": "markdown",
   "id": "b26b168c-0b64-4e95-a486-c986592f12f3",
   "metadata": {},
   "source": [
    "Remarks: \n",
    "1. The actors column has been cleaned up\n",
    "2. It is observed that there are 4 actors in each list. It would be good to split these 4 actors into 4 columns, for further data exploration."
   ]
  },
  {
   "cell_type": "code",
   "execution_count": 17,
   "id": "df0bbbc9-66d8-4a04-b702-410b230e9c50",
   "metadata": {},
   "outputs": [
    {
     "data": {
      "text/plain": [
       "['Steven Yeun', 'Ali Wong', 'Joseph Lee', 'Young Mazino']"
      ]
     },
     "execution_count": 17,
     "metadata": {},
     "output_type": "execute_result"
    }
   ],
   "source": [
    "df['Actors'][0]"
   ]
  },
  {
   "cell_type": "code",
   "execution_count": 18,
   "id": "b1d0cd44-1f46-42af-80ab-5755ff418a90",
   "metadata": {},
   "outputs": [],
   "source": [
    "df['Actor_1'] = df['Actors'].apply(lambda x: x[0] if len(x) > 0 else None)"
   ]
  },
  {
   "cell_type": "code",
   "execution_count": 19,
   "id": "81c73814-e77b-46c3-854a-7480e1e4f7dc",
   "metadata": {},
   "outputs": [
    {
     "data": {
      "text/plain": [
       "0       Steven Yeun\n",
       "1    Nicholas Braun\n",
       "2       Chris Pratt\n",
       "3    Jason Sudeikis\n",
       "4       Chris Evans\n",
       "Name: Actor_1, dtype: object"
      ]
     },
     "execution_count": 19,
     "metadata": {},
     "output_type": "execute_result"
    }
   ],
   "source": [
    "df['Actor_1'].head()"
   ]
  },
  {
   "cell_type": "code",
   "execution_count": 20,
   "id": "b95721b4-f2a1-44f2-a813-728cbb2cf8b8",
   "metadata": {},
   "outputs": [],
   "source": [
    "df['Actor_2'] = df['Actors'].apply(lambda x: x[1] if len(x) > 1 else None)"
   ]
  },
  {
   "cell_type": "code",
   "execution_count": 21,
   "id": "8e52b20a-447b-436d-9136-09adc7bdd3ad",
   "metadata": {},
   "outputs": [
    {
     "data": {
      "text/plain": [
       "0           Ali Wong\n",
       "1          Brian Cox\n",
       "2    Anya Taylor-Joy\n",
       "3    Brett Goldstein\n",
       "4       Ana de Armas\n",
       "Name: Actor_2, dtype: object"
      ]
     },
     "execution_count": 21,
     "metadata": {},
     "output_type": "execute_result"
    }
   ],
   "source": [
    "df['Actor_2'].head()"
   ]
  },
  {
   "cell_type": "code",
   "execution_count": 22,
   "id": "1495fbb4-f001-4d6c-b881-832a691b1f1e",
   "metadata": {},
   "outputs": [],
   "source": [
    "df['Actor_3'] = df['Actors'].apply(lambda x: x[2] if len(x) > 2 else None)"
   ]
  },
  {
   "cell_type": "code",
   "execution_count": 23,
   "id": "66e4d6e9-c667-4653-b5f4-412ead4b8648",
   "metadata": {},
   "outputs": [
    {
     "data": {
      "text/plain": [
       "0           Joseph Lee\n",
       "1        Kieran Culkin\n",
       "2          Charlie Day\n",
       "3    Hannah Waddingham\n",
       "4         Adrien Brody\n",
       "Name: Actor_3, dtype: object"
      ]
     },
     "execution_count": 23,
     "metadata": {},
     "output_type": "execute_result"
    }
   ],
   "source": [
    "df['Actor_3'].head()"
   ]
  },
  {
   "cell_type": "code",
   "execution_count": 24,
   "id": "c599e651-fb70-4047-a2bb-ff8eb9c21f52",
   "metadata": {},
   "outputs": [],
   "source": [
    "df['Actor_4'] = df['Actors'].apply(lambda x: x[3] if len(x) > 3 else None)"
   ]
  },
  {
   "cell_type": "code",
   "execution_count": 25,
   "id": "0a8dcf5e-8355-4c38-b6b7-a847e96c29e9",
   "metadata": {},
   "outputs": [
    {
     "data": {
      "text/plain": [
       "0      Young Mazino\n",
       "1    Peter Friedman\n",
       "2        Jack Black\n",
       "3      Brendan Hunt\n",
       "4          Mike Moh\n",
       "Name: Actor_4, dtype: object"
      ]
     },
     "execution_count": 25,
     "metadata": {},
     "output_type": "execute_result"
    }
   ],
   "source": [
    "df['Actor_4'].head()"
   ]
  },
  {
   "cell_type": "code",
   "execution_count": 26,
   "id": "08c4e476-81f4-459b-b9b4-412d1853f9ce",
   "metadata": {},
   "outputs": [
    {
     "data": {
      "text/html": [
       "<div>\n",
       "<style scoped>\n",
       "    .dataframe tbody tr th:only-of-type {\n",
       "        vertical-align: middle;\n",
       "    }\n",
       "\n",
       "    .dataframe tbody tr th {\n",
       "        vertical-align: top;\n",
       "    }\n",
       "\n",
       "    .dataframe thead th {\n",
       "        text-align: right;\n",
       "    }\n",
       "</style>\n",
       "<table border=\"1\" class=\"dataframe\">\n",
       "  <thead>\n",
       "    <tr style=\"text-align: right;\">\n",
       "      <th></th>\n",
       "      <th>Genre</th>\n",
       "      <th>Title</th>\n",
       "      <th>Year_produced</th>\n",
       "      <th>Certificate</th>\n",
       "      <th>Ratings</th>\n",
       "      <th>Description</th>\n",
       "      <th>Actors</th>\n",
       "      <th>Actor_1</th>\n",
       "      <th>Actor_2</th>\n",
       "      <th>Actor_3</th>\n",
       "      <th>Actor_4</th>\n",
       "    </tr>\n",
       "  </thead>\n",
       "  <tbody>\n",
       "    <tr>\n",
       "      <th>0</th>\n",
       "      <td>Comedy</td>\n",
       "      <td>Beef</td>\n",
       "      <td>(2023– )</td>\n",
       "      <td>TV-MA</td>\n",
       "      <td>8.2</td>\n",
       "      <td>Two people let a road rage incident burrow int...</td>\n",
       "      <td>[Steven Yeun, Ali Wong, Joseph Lee, Young Mazino]</td>\n",
       "      <td>Steven Yeun</td>\n",
       "      <td>Ali Wong</td>\n",
       "      <td>Joseph Lee</td>\n",
       "      <td>Young Mazino</td>\n",
       "    </tr>\n",
       "    <tr>\n",
       "      <th>1</th>\n",
       "      <td>Comedy</td>\n",
       "      <td>Succession</td>\n",
       "      <td>(2018–2023)</td>\n",
       "      <td>TV-MA</td>\n",
       "      <td>8.8</td>\n",
       "      <td>The Roy family is known for controlling the bi...</td>\n",
       "      <td>[Nicholas Braun, Brian Cox, Kieran Culkin, Pet...</td>\n",
       "      <td>Nicholas Braun</td>\n",
       "      <td>Brian Cox</td>\n",
       "      <td>Kieran Culkin</td>\n",
       "      <td>Peter Friedman</td>\n",
       "    </tr>\n",
       "    <tr>\n",
       "      <th>2</th>\n",
       "      <td>Comedy</td>\n",
       "      <td>The Super Mario Bros. Movie</td>\n",
       "      <td>(2023)</td>\n",
       "      <td>PG</td>\n",
       "      <td>7.3</td>\n",
       "      <td>The story of The Super Mario Bros. on their jo...</td>\n",
       "      <td>[Chris Pratt, Anya Taylor-Joy, Charlie Day, Ja...</td>\n",
       "      <td>Chris Pratt</td>\n",
       "      <td>Anya Taylor-Joy</td>\n",
       "      <td>Charlie Day</td>\n",
       "      <td>Jack Black</td>\n",
       "    </tr>\n",
       "    <tr>\n",
       "      <th>3</th>\n",
       "      <td>Comedy</td>\n",
       "      <td>Ted Lasso</td>\n",
       "      <td>(2020– )</td>\n",
       "      <td>TV-MA</td>\n",
       "      <td>8.8</td>\n",
       "      <td>American college football coach Ted Lasso head...</td>\n",
       "      <td>[Jason Sudeikis, Brett Goldstein, Hannah Waddi...</td>\n",
       "      <td>Jason Sudeikis</td>\n",
       "      <td>Brett Goldstein</td>\n",
       "      <td>Hannah Waddingham</td>\n",
       "      <td>Brendan Hunt</td>\n",
       "    </tr>\n",
       "    <tr>\n",
       "      <th>4</th>\n",
       "      <td>Comedy</td>\n",
       "      <td>Ghosted</td>\n",
       "      <td>(2023)</td>\n",
       "      <td>PG-13</td>\n",
       "      <td>5.8</td>\n",
       "      <td>Cole falls head over heels for enigmatic Sadie...</td>\n",
       "      <td>[Chris Evans, Ana de Armas, Adrien Brody, Mike...</td>\n",
       "      <td>Chris Evans</td>\n",
       "      <td>Ana de Armas</td>\n",
       "      <td>Adrien Brody</td>\n",
       "      <td>Mike Moh</td>\n",
       "    </tr>\n",
       "  </tbody>\n",
       "</table>\n",
       "</div>"
      ],
      "text/plain": [
       "    Genre                        Title Year_produced Certificate  Ratings  \\\n",
       "0  Comedy                         Beef      (2023– )       TV-MA      8.2   \n",
       "1  Comedy                   Succession   (2018–2023)       TV-MA      8.8   \n",
       "2  Comedy  The Super Mario Bros. Movie        (2023)          PG      7.3   \n",
       "3  Comedy                    Ted Lasso      (2020– )       TV-MA      8.8   \n",
       "4  Comedy                      Ghosted        (2023)       PG-13      5.8   \n",
       "\n",
       "                                         Description  \\\n",
       "0  Two people let a road rage incident burrow int...   \n",
       "1  The Roy family is known for controlling the bi...   \n",
       "2  The story of The Super Mario Bros. on their jo...   \n",
       "3  American college football coach Ted Lasso head...   \n",
       "4  Cole falls head over heels for enigmatic Sadie...   \n",
       "\n",
       "                                              Actors         Actor_1  \\\n",
       "0  [Steven Yeun, Ali Wong, Joseph Lee, Young Mazino]     Steven Yeun   \n",
       "1  [Nicholas Braun, Brian Cox, Kieran Culkin, Pet...  Nicholas Braun   \n",
       "2  [Chris Pratt, Anya Taylor-Joy, Charlie Day, Ja...     Chris Pratt   \n",
       "3  [Jason Sudeikis, Brett Goldstein, Hannah Waddi...  Jason Sudeikis   \n",
       "4  [Chris Evans, Ana de Armas, Adrien Brody, Mike...     Chris Evans   \n",
       "\n",
       "           Actor_2            Actor_3         Actor_4  \n",
       "0         Ali Wong         Joseph Lee    Young Mazino  \n",
       "1        Brian Cox      Kieran Culkin  Peter Friedman  \n",
       "2  Anya Taylor-Joy        Charlie Day      Jack Black  \n",
       "3  Brett Goldstein  Hannah Waddingham    Brendan Hunt  \n",
       "4     Ana de Armas       Adrien Brody        Mike Moh  "
      ]
     },
     "execution_count": 26,
     "metadata": {},
     "output_type": "execute_result"
    }
   ],
   "source": [
    "df.head()"
   ]
  },
  {
   "cell_type": "markdown",
   "id": "451269b8-a9f3-4ef2-ad93-0d790451b21d",
   "metadata": {},
   "source": [
    "Remarks: \n",
    "\n",
    "1. As observed, there is an order of precedence for stars. \n",
    "2. The most popular star for the show is classified from left to right.\n",
    "3. This means, order for precedence: Actor_1 > Actor_2 > Actor_3 > Actor_4\n",
    "4. As such, this means that there an actor can be top star from movie A which translates to being in Actor_1 column. However,  the same actor can appear in Actor_4 for movie B as he is not classified as the 'top' star in movie B."
   ]
  },
  {
   "cell_type": "markdown",
   "id": "ce6ecddb-5f26-4b6b-b6e1-ef20a5346ced",
   "metadata": {},
   "source": [
    "### Certificate ratings columns"
   ]
  },
  {
   "cell_type": "markdown",
   "id": "9c44f830-b58e-4f69-b460-83fe1c516bf9",
   "metadata": {},
   "source": [
    "To check the certificate rating columns"
   ]
  },
  {
   "cell_type": "code",
   "execution_count": 33,
   "id": "065e640b-8ec9-4c31-875a-7a1af1bf2e83",
   "metadata": {},
   "outputs": [
    {
     "data": {
      "text/plain": [
       "array(['TV-MA', 'PG', 'PG-13', '16+', 'R', nan, 'TV-PG', 'TV-14',\n",
       "       'Not Rated', '18+', 'TV-Y7-FV', 'TV-G', 'TV-Y7', 'G', '12', '13+',\n",
       "       'M', 'Approved', '16', 'NC-17', 'Passed', '6', 'TV-Y', 'Unrated',\n",
       "       'GP', 'MA-17', 'AO', '14', 'AL', 'X', '9', 'TV-13', 'T', 'E',\n",
       "       'M/PG', 'E10+', 'MG6', 'K-A', '18', '7+', 'F', 'EM', 'Open', 'GA',\n",
       "       'MA-13', 'EC', '15', '(Banned)', 'C', 'Banned'], dtype=object)"
      ]
     },
     "execution_count": 33,
     "metadata": {},
     "output_type": "execute_result"
    }
   ],
   "source": [
    "df['Certificate'].unique()"
   ]
  },
  {
   "cell_type": "markdown",
   "id": "0d2dbfa5-1d22-4291-a8b3-fb6bb5b19223",
   "metadata": {},
   "source": [
    "Remarks:\n",
    "1. It seems that there are some columns that means the same, but are rated differently. Example: (Banned) and Banned.\n",
    "2. The next lines of codes are to rectify this issue."
   ]
  },
  {
   "cell_type": "code",
   "execution_count": 34,
   "id": "f58ba78f-6048-4088-bcd0-5c755255e289",
   "metadata": {},
   "outputs": [],
   "source": [
    "df['Certificate'] = df['Certificate'].replace({'(Banned)':'Banned',\n",
    "                      'Unrated': 'Not Rated'})"
   ]
  },
  {
   "cell_type": "code",
   "execution_count": 35,
   "id": "ef2af8bb-33f4-45b4-84d6-8b0552a37ecf",
   "metadata": {},
   "outputs": [
    {
     "data": {
      "text/plain": [
       "array(['TV-MA', 'PG', 'PG-13', '16+', 'R', nan, 'TV-PG', 'TV-14',\n",
       "       'Not Rated', '18+', 'TV-Y7-FV', 'TV-G', 'TV-Y7', 'G', '12', '13+',\n",
       "       'M', 'Approved', '16', 'NC-17', 'Passed', '6', 'TV-Y', 'GP',\n",
       "       'MA-17', 'AO', '14', 'AL', 'X', '9', 'TV-13', 'T', 'E', 'M/PG',\n",
       "       'E10+', 'MG6', 'K-A', '18', '7+', 'F', 'EM', 'Open', 'GA', 'MA-13',\n",
       "       'EC', '15', 'Banned', 'C'], dtype=object)"
      ]
     },
     "execution_count": 35,
     "metadata": {},
     "output_type": "execute_result"
    }
   ],
   "source": [
    "df['Certificate'].unique()"
   ]
  },
  {
   "cell_type": "code",
   "execution_count": 36,
   "id": "359819ad-859f-480b-a006-f39b6d07d077",
   "metadata": {},
   "outputs": [],
   "source": [
    "df['Certificate'] = df['Certificate'].replace({'PG-13':'13+','12': '7+','M':'16+','Approved':'16+','16':'16+','Passed':'16+','6':'7+',\n",
    "                                              'GP': 'PG','MA-17': 'NC-17','AO':'PG','14':'14A','AL':'G','X':'A','9':'PG','TV-13':'TV-14',\n",
    "                                              'T':'16+','E':'G','M/PG':'PG','E10+':'PG','MG6':'PG','K-A':'PG','18':'18A','F':'PG','Open':'PG',\n",
    "                                              '15':'16+','EC':'PG','Banned':'A','C':'PG'})"
   ]
  },
  {
   "cell_type": "code",
   "execution_count": 37,
   "id": "2c879991-5ce6-4695-9b69-d4664244fe7a",
   "metadata": {},
   "outputs": [
    {
     "data": {
      "text/plain": [
       "array(['TV-MA', 'PG', '13+', '16+', 'R', nan, 'TV-PG', 'TV-14',\n",
       "       'Not Rated', '18+', 'TV-Y7-FV', 'TV-G', 'TV-Y7', 'G', '7+',\n",
       "       'NC-17', 'TV-Y', '14A', 'A', '18A', 'EM', 'GA', 'MA-13'],\n",
       "      dtype=object)"
      ]
     },
     "execution_count": 37,
     "metadata": {},
     "output_type": "execute_result"
    }
   ],
   "source": [
    "df['Certificate'].unique()"
   ]
  },
  {
   "cell_type": "markdown",
   "id": "e1db59aa-37d3-4c46-adef-195bc9b671c3",
   "metadata": {},
   "source": [
    "Remarks: The certification ratings have been renamed to Canada's ratings as it is the most comprehensive"
   ]
  },
  {
   "cell_type": "markdown",
   "id": "5d4e93f5-7870-49b3-8d24-2cdf01e35231",
   "metadata": {
    "tags": []
   },
   "source": [
    "### Check for NaN/None/Null values"
   ]
  },
  {
   "cell_type": "code",
   "execution_count": 38,
   "id": "86cc74f6-5158-457b-9e76-33847664362c",
   "metadata": {},
   "outputs": [
    {
     "data": {
      "text/html": [
       "<div>\n",
       "<style scoped>\n",
       "    .dataframe tbody tr th:only-of-type {\n",
       "        vertical-align: middle;\n",
       "    }\n",
       "\n",
       "    .dataframe tbody tr th {\n",
       "        vertical-align: top;\n",
       "    }\n",
       "\n",
       "    .dataframe thead th {\n",
       "        text-align: right;\n",
       "    }\n",
       "</style>\n",
       "<table border=\"1\" class=\"dataframe\">\n",
       "  <thead>\n",
       "    <tr style=\"text-align: right;\">\n",
       "      <th></th>\n",
       "      <th>Genre</th>\n",
       "      <th>Title</th>\n",
       "      <th>Year_produced</th>\n",
       "      <th>Certificate</th>\n",
       "      <th>Ratings</th>\n",
       "      <th>Description</th>\n",
       "      <th>Actors</th>\n",
       "      <th>Actor_1</th>\n",
       "      <th>Actor_2</th>\n",
       "      <th>Actor_3</th>\n",
       "      <th>Actor_4</th>\n",
       "    </tr>\n",
       "  </thead>\n",
       "  <tbody>\n",
       "    <tr>\n",
       "      <th>14</th>\n",
       "      <td>Comedy</td>\n",
       "      <td>Barbie</td>\n",
       "      <td>(2023)</td>\n",
       "      <td>NaN</td>\n",
       "      <td>NaN</td>\n",
       "      <td>To live in Barbie Land is to be a perfect bein...</td>\n",
       "      <td>[Margot Robbie, Ariana Greenblatt, Ryan Goslin...</td>\n",
       "      <td>Margot Robbie</td>\n",
       "      <td>Ariana Greenblatt</td>\n",
       "      <td>Ryan Gosling</td>\n",
       "      <td>Helen Mirren</td>\n",
       "    </tr>\n",
       "    <tr>\n",
       "      <th>27</th>\n",
       "      <td>Comedy</td>\n",
       "      <td>Guardians of the Galaxy Vol. 3</td>\n",
       "      <td>(2023)</td>\n",
       "      <td>13+</td>\n",
       "      <td>NaN</td>\n",
       "      <td>Still reeling from the loss of Gamora, Peter Q...</td>\n",
       "      <td>[Chris Pratt, Zoe Saldana, Dave Bautista, Vin ...</td>\n",
       "      <td>Chris Pratt</td>\n",
       "      <td>Zoe Saldana</td>\n",
       "      <td>Dave Bautista</td>\n",
       "      <td>Vin Diesel</td>\n",
       "    </tr>\n",
       "    <tr>\n",
       "      <th>35</th>\n",
       "      <td>Comedy</td>\n",
       "      <td>Lilo &amp; Stitch</td>\n",
       "      <td>NaN</td>\n",
       "      <td>NaN</td>\n",
       "      <td>NaN</td>\n",
       "      <td>Live-action remake of Disney's animated classi...</td>\n",
       "      <td>[Sydney Agudong, Billy Magnussen, Tia Carrere,...</td>\n",
       "      <td>Sydney Agudong</td>\n",
       "      <td>Billy Magnussen</td>\n",
       "      <td>Tia Carrere</td>\n",
       "      <td>Courtney B. Vance</td>\n",
       "    </tr>\n",
       "    <tr>\n",
       "      <th>58</th>\n",
       "      <td>Comedy</td>\n",
       "      <td>Wicked</td>\n",
       "      <td>(2024)</td>\n",
       "      <td>NaN</td>\n",
       "      <td>NaN</td>\n",
       "      <td>The story of how a green-skinned woman framed ...</td>\n",
       "      <td>[Michelle Yeoh, Cynthia Erivo, Jeff Goldblum, ...</td>\n",
       "      <td>Michelle Yeoh</td>\n",
       "      <td>Cynthia Erivo</td>\n",
       "      <td>Jeff Goldblum</td>\n",
       "      <td>Ariana Grande</td>\n",
       "    </tr>\n",
       "    <tr>\n",
       "      <th>76</th>\n",
       "      <td>Comedy</td>\n",
       "      <td>White Men Can't Jump</td>\n",
       "      <td>(2023)</td>\n",
       "      <td>R</td>\n",
       "      <td>NaN</td>\n",
       "      <td>A remake of the 1992 film about a pair of bask...</td>\n",
       "      <td>[Sinqua Walls, Jack Harlow, Lance Reddick, Tey...</td>\n",
       "      <td>Sinqua Walls</td>\n",
       "      <td>Jack Harlow</td>\n",
       "      <td>Lance Reddick</td>\n",
       "      <td>Teyana Taylor</td>\n",
       "    </tr>\n",
       "  </tbody>\n",
       "</table>\n",
       "</div>"
      ],
      "text/plain": [
       "     Genre                           Title Year_produced Certificate  Ratings  \\\n",
       "14  Comedy                          Barbie        (2023)         NaN      NaN   \n",
       "27  Comedy  Guardians of the Galaxy Vol. 3        (2023)         13+      NaN   \n",
       "35  Comedy                   Lilo & Stitch           NaN         NaN      NaN   \n",
       "58  Comedy                          Wicked        (2024)         NaN      NaN   \n",
       "76  Comedy            White Men Can't Jump        (2023)           R      NaN   \n",
       "\n",
       "                                          Description  \\\n",
       "14  To live in Barbie Land is to be a perfect bein...   \n",
       "27  Still reeling from the loss of Gamora, Peter Q...   \n",
       "35  Live-action remake of Disney's animated classi...   \n",
       "58  The story of how a green-skinned woman framed ...   \n",
       "76  A remake of the 1992 film about a pair of bask...   \n",
       "\n",
       "                                               Actors         Actor_1  \\\n",
       "14  [Margot Robbie, Ariana Greenblatt, Ryan Goslin...   Margot Robbie   \n",
       "27  [Chris Pratt, Zoe Saldana, Dave Bautista, Vin ...     Chris Pratt   \n",
       "35  [Sydney Agudong, Billy Magnussen, Tia Carrere,...  Sydney Agudong   \n",
       "58  [Michelle Yeoh, Cynthia Erivo, Jeff Goldblum, ...   Michelle Yeoh   \n",
       "76  [Sinqua Walls, Jack Harlow, Lance Reddick, Tey...    Sinqua Walls   \n",
       "\n",
       "              Actor_2        Actor_3            Actor_4  \n",
       "14  Ariana Greenblatt   Ryan Gosling       Helen Mirren  \n",
       "27        Zoe Saldana  Dave Bautista         Vin Diesel  \n",
       "35    Billy Magnussen    Tia Carrere  Courtney B. Vance  \n",
       "58      Cynthia Erivo  Jeff Goldblum      Ariana Grande  \n",
       "76        Jack Harlow  Lance Reddick      Teyana Taylor  "
      ]
     },
     "execution_count": 38,
     "metadata": {},
     "output_type": "execute_result"
    }
   ],
   "source": [
    "null_values = df[df['Ratings'].isnull()]\n",
    "null_values.head()"
   ]
  },
  {
   "cell_type": "markdown",
   "id": "88652867-d6bf-42d2-b54b-c76b9ce0a896",
   "metadata": {},
   "source": [
    "Remarks:\n",
    "Ratings are NaN are due to the following reasons:\n",
    "1. TV show still on going\n",
    "2. Movie is not yet released (2023)\n",
    "3. Movie still in production (2024 released onwards)"
   ]
  },
  {
   "cell_type": "code",
   "execution_count": 39,
   "id": "f4cff566-bc57-4aa4-9c54-5176024f229b",
   "metadata": {},
   "outputs": [
    {
     "data": {
      "text/plain": [
       "(210385, 11)"
      ]
     },
     "execution_count": 39,
     "metadata": {},
     "output_type": "execute_result"
    }
   ],
   "source": [
    "null_values.shape"
   ]
  },
  {
   "cell_type": "markdown",
   "id": "2bd6e61b-9c50-4a31-ab63-bc25a1d5abdf",
   "metadata": {},
   "source": [
    "To determine if null values should be dropped, percentage of null value is to be calculated. "
   ]
  },
  {
   "cell_type": "code",
   "execution_count": 40,
   "id": "d41662c4-e166-41c1-b783-0c47bee12012",
   "metadata": {},
   "outputs": [],
   "source": [
    "null_percent = (null_values.shape[0]/df.shape[0])*100"
   ]
  },
  {
   "cell_type": "code",
   "execution_count": 41,
   "id": "2f0656e5-4780-4cd4-b845-e60dac8c2e04",
   "metadata": {},
   "outputs": [
    {
     "name": "stdout",
     "output_type": "stream",
     "text": [
      "The percentage of null value is: 30.0%. For now it can be dropped.\n",
      "However, these values will be used in hold out data to test the algorithm since the movie/shows has yet to be released.\n"
     ]
    }
   ],
   "source": [
    "print(f'The percentage of null value is: {null_percent:.1f}%. For now it can be dropped.')\n",
    "print(f'However, these values will be used in hold out data to test the algorithm since the movie/shows has yet to be released.')"
   ]
  },
  {
   "cell_type": "code",
   "execution_count": 42,
   "id": "8cfa8920-417e-4d87-9bbb-b32011dfd8ac",
   "metadata": {},
   "outputs": [],
   "source": [
    "null_values.to_csv('./datasets/hold_out.csv', index=False)"
   ]
  },
  {
   "cell_type": "markdown",
   "id": "60be4834-3c3c-4c22-809a-9de2d702768e",
   "metadata": {},
   "source": [
    "Remarks: Hold out datasets created"
   ]
  },
  {
   "cell_type": "code",
   "execution_count": 43,
   "id": "c5c2171d-6cca-4782-a4ed-c9dec088bdb8",
   "metadata": {},
   "outputs": [],
   "source": [
    "df.drop(df[df['Ratings'].isnull()].index, inplace=True)"
   ]
  },
  {
   "cell_type": "code",
   "execution_count": 44,
   "id": "b06cd716-8024-4553-be6f-ada0402bdfce",
   "metadata": {},
   "outputs": [
    {
     "data": {
      "text/plain": [
       "Index(['Genre', 'Title', 'Year_produced', 'Certificate', 'Ratings',\n",
       "       'Description', 'Actors', 'Actor_1', 'Actor_2', 'Actor_3', 'Actor_4'],\n",
       "      dtype='object')"
      ]
     },
     "execution_count": 44,
     "metadata": {},
     "output_type": "execute_result"
    }
   ],
   "source": [
    "df.columns"
   ]
  },
  {
   "cell_type": "code",
   "execution_count": 45,
   "id": "dc83de67-177c-45f8-ae76-de533842c7e8",
   "metadata": {},
   "outputs": [
    {
     "data": {
      "text/html": [
       "<div>\n",
       "<style scoped>\n",
       "    .dataframe tbody tr th:only-of-type {\n",
       "        vertical-align: middle;\n",
       "    }\n",
       "\n",
       "    .dataframe tbody tr th {\n",
       "        vertical-align: top;\n",
       "    }\n",
       "\n",
       "    .dataframe thead th {\n",
       "        text-align: right;\n",
       "    }\n",
       "</style>\n",
       "<table border=\"1\" class=\"dataframe\">\n",
       "  <thead>\n",
       "    <tr style=\"text-align: right;\">\n",
       "      <th></th>\n",
       "      <th>Genre</th>\n",
       "      <th>Title</th>\n",
       "      <th>Year_produced</th>\n",
       "      <th>Certificate</th>\n",
       "      <th>Ratings</th>\n",
       "      <th>Description</th>\n",
       "      <th>Actors</th>\n",
       "      <th>Actor_1</th>\n",
       "      <th>Actor_2</th>\n",
       "      <th>Actor_3</th>\n",
       "      <th>Actor_4</th>\n",
       "    </tr>\n",
       "  </thead>\n",
       "  <tbody>\n",
       "  </tbody>\n",
       "</table>\n",
       "</div>"
      ],
      "text/plain": [
       "Empty DataFrame\n",
       "Columns: [Genre, Title, Year_produced, Certificate, Ratings, Description, Actors, Actor_1, Actor_2, Actor_3, Actor_4]\n",
       "Index: []"
      ]
     },
     "execution_count": 45,
     "metadata": {},
     "output_type": "execute_result"
    }
   ],
   "source": [
    "df[df['Genre'].isnull()].head()"
   ]
  },
  {
   "cell_type": "code",
   "execution_count": 46,
   "id": "6734f841-50a0-4905-bfaa-cdf83e4e793d",
   "metadata": {},
   "outputs": [
    {
     "data": {
      "text/html": [
       "<div>\n",
       "<style scoped>\n",
       "    .dataframe tbody tr th:only-of-type {\n",
       "        vertical-align: middle;\n",
       "    }\n",
       "\n",
       "    .dataframe tbody tr th {\n",
       "        vertical-align: top;\n",
       "    }\n",
       "\n",
       "    .dataframe thead th {\n",
       "        text-align: right;\n",
       "    }\n",
       "</style>\n",
       "<table border=\"1\" class=\"dataframe\">\n",
       "  <thead>\n",
       "    <tr style=\"text-align: right;\">\n",
       "      <th></th>\n",
       "      <th>Genre</th>\n",
       "      <th>Title</th>\n",
       "      <th>Year_produced</th>\n",
       "      <th>Certificate</th>\n",
       "      <th>Ratings</th>\n",
       "      <th>Description</th>\n",
       "      <th>Actors</th>\n",
       "      <th>Actor_1</th>\n",
       "      <th>Actor_2</th>\n",
       "      <th>Actor_3</th>\n",
       "      <th>Actor_4</th>\n",
       "    </tr>\n",
       "  </thead>\n",
       "  <tbody>\n",
       "  </tbody>\n",
       "</table>\n",
       "</div>"
      ],
      "text/plain": [
       "Empty DataFrame\n",
       "Columns: [Genre, Title, Year_produced, Certificate, Ratings, Description, Actors, Actor_1, Actor_2, Actor_3, Actor_4]\n",
       "Index: []"
      ]
     },
     "execution_count": 46,
     "metadata": {},
     "output_type": "execute_result"
    }
   ],
   "source": [
    "df[df['Title'].isnull()].head()"
   ]
  },
  {
   "cell_type": "code",
   "execution_count": 47,
   "id": "a30c163f-d198-4b59-88db-c1023d2c473d",
   "metadata": {},
   "outputs": [
    {
     "data": {
      "text/plain": [
       "(490313, 11)"
      ]
     },
     "execution_count": 47,
     "metadata": {},
     "output_type": "execute_result"
    }
   ],
   "source": [
    "df.shape"
   ]
  },
  {
   "cell_type": "markdown",
   "id": "20308665-16bb-4a6e-acd8-31f447044f86",
   "metadata": {},
   "source": [
    "Remarks:\n",
    "1. The null values have been removed.\n",
    "2. Hold out dataset created."
   ]
  },
  {
   "cell_type": "markdown",
   "id": "44c063a1-0d0e-47cc-affa-b05a5c3ee093",
   "metadata": {},
   "source": [
    "### Year_produced columns"
   ]
  },
  {
   "cell_type": "code",
   "execution_count": 48,
   "id": "0a06ea12-79f3-4195-bc29-47f831b7374b",
   "metadata": {},
   "outputs": [
    {
     "data": {
      "text/html": [
       "<div>\n",
       "<style scoped>\n",
       "    .dataframe tbody tr th:only-of-type {\n",
       "        vertical-align: middle;\n",
       "    }\n",
       "\n",
       "    .dataframe tbody tr th {\n",
       "        vertical-align: top;\n",
       "    }\n",
       "\n",
       "    .dataframe thead th {\n",
       "        text-align: right;\n",
       "    }\n",
       "</style>\n",
       "<table border=\"1\" class=\"dataframe\">\n",
       "  <thead>\n",
       "    <tr style=\"text-align: right;\">\n",
       "      <th></th>\n",
       "      <th>Genre</th>\n",
       "      <th>Title</th>\n",
       "      <th>Year_produced</th>\n",
       "      <th>Certificate</th>\n",
       "      <th>Ratings</th>\n",
       "      <th>Description</th>\n",
       "      <th>Actors</th>\n",
       "      <th>Actor_1</th>\n",
       "      <th>Actor_2</th>\n",
       "      <th>Actor_3</th>\n",
       "      <th>Actor_4</th>\n",
       "    </tr>\n",
       "  </thead>\n",
       "  <tbody>\n",
       "    <tr>\n",
       "      <th>26169</th>\n",
       "      <td>Comedy</td>\n",
       "      <td>Eldritch USA</td>\n",
       "      <td>NaN</td>\n",
       "      <td>NaN</td>\n",
       "      <td>9.6</td>\n",
       "      <td>Siblings Geoff and Rich Brewer have competed a...</td>\n",
       "      <td>[Graham Weldin, Andy Phinney, Cameron Perry, A...</td>\n",
       "      <td>Graham Weldin</td>\n",
       "      <td>Andy Phinney</td>\n",
       "      <td>Cameron Perry</td>\n",
       "      <td>Aline O'Neill</td>\n",
       "    </tr>\n",
       "    <tr>\n",
       "      <th>36388</th>\n",
       "      <td>Comedy</td>\n",
       "      <td>Cool as Hell 2</td>\n",
       "      <td>NaN</td>\n",
       "      <td>NaN</td>\n",
       "      <td>5.3</td>\n",
       "      <td>After goofball Rich accidentally decapitates h...</td>\n",
       "      <td>[James Balsamo, Billy Walsh, Dave Stein, Phil ...</td>\n",
       "      <td>James Balsamo</td>\n",
       "      <td>Billy Walsh</td>\n",
       "      <td>Dave Stein</td>\n",
       "      <td>Phil Anselmo</td>\n",
       "    </tr>\n",
       "    <tr>\n",
       "      <th>45317</th>\n",
       "      <td>Comedy</td>\n",
       "      <td>Mannphodganj Ki Binny</td>\n",
       "      <td>NaN</td>\n",
       "      <td>NaN</td>\n",
       "      <td>5.2</td>\n",
       "      <td>Binny Bajpai is a 21-year old, dreamy-eyed gir...</td>\n",
       "      <td>[Anurag Sinha, Pranati Rai Prakash, Atul Sriva...</td>\n",
       "      <td>Anurag Sinha</td>\n",
       "      <td>Pranati Rai Prakash</td>\n",
       "      <td>Atul Srivastava</td>\n",
       "      <td>Alka Badola Kaushal</td>\n",
       "    </tr>\n",
       "    <tr>\n",
       "      <th>48968</th>\n",
       "      <td>Comedy</td>\n",
       "      <td>Shkembimi</td>\n",
       "      <td>NaN</td>\n",
       "      <td>NaN</td>\n",
       "      <td>7.2</td>\n",
       "      <td>The paradoxical lives of two brothers, one in ...</td>\n",
       "      <td>[Ina Aderi, Bujar Asqeriu, Tomi Filipi, Vani G...</td>\n",
       "      <td>Ina Aderi</td>\n",
       "      <td>Bujar Asqeriu</td>\n",
       "      <td>Tomi Filipi</td>\n",
       "      <td>Vani Gjuzi</td>\n",
       "    </tr>\n",
       "    <tr>\n",
       "      <th>55036</th>\n",
       "      <td>Sci-Fi</td>\n",
       "      <td>Cyborg Nemesis: The Dark Rift</td>\n",
       "      <td>NaN</td>\n",
       "      <td>R</td>\n",
       "      <td>8.1</td>\n",
       "      <td>A U.S. Marine special ops team awakens from hy...</td>\n",
       "      <td>[Sasha Mitchell, Vincent Klyn, Terrie Batson, ...</td>\n",
       "      <td>Sasha Mitchell</td>\n",
       "      <td>Vincent Klyn</td>\n",
       "      <td>Terrie Batson</td>\n",
       "      <td>Olivier Gruner</td>\n",
       "    </tr>\n",
       "  </tbody>\n",
       "</table>\n",
       "</div>"
      ],
      "text/plain": [
       "        Genre                          Title Year_produced Certificate  \\\n",
       "26169  Comedy                   Eldritch USA           NaN         NaN   \n",
       "36388  Comedy                 Cool as Hell 2           NaN         NaN   \n",
       "45317  Comedy          Mannphodganj Ki Binny           NaN         NaN   \n",
       "48968  Comedy                      Shkembimi           NaN         NaN   \n",
       "55036  Sci-Fi  Cyborg Nemesis: The Dark Rift           NaN           R   \n",
       "\n",
       "       Ratings                                        Description  \\\n",
       "26169      9.6  Siblings Geoff and Rich Brewer have competed a...   \n",
       "36388      5.3  After goofball Rich accidentally decapitates h...   \n",
       "45317      5.2  Binny Bajpai is a 21-year old, dreamy-eyed gir...   \n",
       "48968      7.2  The paradoxical lives of two brothers, one in ...   \n",
       "55036      8.1  A U.S. Marine special ops team awakens from hy...   \n",
       "\n",
       "                                                  Actors         Actor_1  \\\n",
       "26169  [Graham Weldin, Andy Phinney, Cameron Perry, A...   Graham Weldin   \n",
       "36388  [James Balsamo, Billy Walsh, Dave Stein, Phil ...   James Balsamo   \n",
       "45317  [Anurag Sinha, Pranati Rai Prakash, Atul Sriva...    Anurag Sinha   \n",
       "48968  [Ina Aderi, Bujar Asqeriu, Tomi Filipi, Vani G...       Ina Aderi   \n",
       "55036  [Sasha Mitchell, Vincent Klyn, Terrie Batson, ...  Sasha Mitchell   \n",
       "\n",
       "                   Actor_2          Actor_3              Actor_4  \n",
       "26169         Andy Phinney    Cameron Perry        Aline O'Neill  \n",
       "36388          Billy Walsh       Dave Stein         Phil Anselmo  \n",
       "45317  Pranati Rai Prakash  Atul Srivastava  Alka Badola Kaushal  \n",
       "48968        Bujar Asqeriu      Tomi Filipi           Vani Gjuzi  \n",
       "55036         Vincent Klyn    Terrie Batson       Olivier Gruner  "
      ]
     },
     "execution_count": 48,
     "metadata": {},
     "output_type": "execute_result"
    }
   ],
   "source": [
    "df[df['Year_produced'].isnull()].head()"
   ]
  },
  {
   "cell_type": "markdown",
   "id": "2c3e5d4e-2391-485c-95c8-ecff241a516e",
   "metadata": {},
   "source": [
    "1. It is observed that there are some columns in year_produced are NAN.\n",
    "2. As the values are little ~40 blanks, the information can be sourced from the web.\n",
    "\n",
    "Strategy: \n",
    "1. Located the year produced on the web and fill in the details"
   ]
  },
  {
   "cell_type": "code",
   "execution_count": 49,
   "id": "805612b9-209b-48d2-8c30-adf7f94ae25d",
   "metadata": {},
   "outputs": [],
   "source": [
    "df.loc[df['Title'] == 'Eldritch USA', 'Year_produced'] = df.loc[df['Title'] == 'Eldritch USA', 'Year_produced'].apply(lambda x: 2022)"
   ]
  },
  {
   "cell_type": "code",
   "execution_count": 50,
   "id": "6e670a86-07be-46eb-88de-eb428b6cb2fa",
   "metadata": {},
   "outputs": [],
   "source": [
    "df.loc[df['Title'] == 'Cool as Hell 2', 'Year_produced'] = df.loc[df['Title'] == 'Cool as Hell 2', 'Year_produced'].apply(lambda x: 2019)"
   ]
  },
  {
   "cell_type": "code",
   "execution_count": 51,
   "id": "ef1a4135-23a6-44f2-a874-b17dc02dcace",
   "metadata": {},
   "outputs": [],
   "source": [
    "df.loc[df['Title'] == 'Mannphodganj Ki Binny', 'Year_produced'] = df.loc[df['Title'] == 'Mannphodganj Ki Binny', 'Year_produced'].apply(lambda x: 2020)"
   ]
  },
  {
   "cell_type": "code",
   "execution_count": 52,
   "id": "ff22f2b3-ad85-4bc1-a5a0-d1263f386bbc",
   "metadata": {},
   "outputs": [],
   "source": [
    "df.loc[df['Title'] == 'Shkembimi', 'Year_produced'] = df.loc[df['Title'] == 'Shkembimi', 'Year_produced'].apply(lambda x: 2021)"
   ]
  },
  {
   "cell_type": "code",
   "execution_count": 53,
   "id": "a1b181e7-3fe0-46bd-8623-d3f2738054b4",
   "metadata": {},
   "outputs": [],
   "source": [
    "df.loc[df['Title'] == 'Cyborg Nemesis: The Dark Rift', 'Year_produced'] = df.loc[df['Title'] == 'Cyborg Nemesis: The Dark Rift', 'Year_produced'].apply(lambda x: 2016)"
   ]
  },
  {
   "cell_type": "code",
   "execution_count": 54,
   "id": "b98feb6a-3163-41ca-b670-d605c101ed06",
   "metadata": {},
   "outputs": [],
   "source": [
    "df.loc[df['Title'] == 'Hargrave', 'Year_produced'] = df.loc[df['Title'] == 'Hargrave', 'Year_produced'].apply(lambda x: 2020)"
   ]
  },
  {
   "cell_type": "code",
   "execution_count": 55,
   "id": "7d33e827-b461-4aa5-abca-4c0d4f7d0574",
   "metadata": {},
   "outputs": [],
   "source": [
    "df.loc[(df['Title'] == 'Shifters') & (df['Year_produced'].isnull()), 'Year_produced'] = df.loc[(df['Title'] == 'Shifters') & (df['Year_produced'].isnull()), 'Year_produced'].apply(lambda x: 2018)"
   ]
  },
  {
   "cell_type": "code",
   "execution_count": 56,
   "id": "7ccdda8b-20d8-43c5-9ce9-f8263e4becaa",
   "metadata": {},
   "outputs": [],
   "source": [
    "df.loc[df['Title'] == '*69', 'Year_produced'] = df.loc[df['Title'] == '*69', 'Year_produced'].apply(lambda x: 2022)"
   ]
  },
  {
   "cell_type": "code",
   "execution_count": 57,
   "id": "aa1842ad-6f7f-4b53-ad5b-3c3fe75f0fe0",
   "metadata": {},
   "outputs": [],
   "source": [
    "df.loc[df['Title'] == 'Haunted Connecticut', 'Year_produced'] = df.loc[df['Title'] == 'Haunted Connecticut', 'Year_produced'].apply(lambda x: 2022)"
   ]
  },
  {
   "cell_type": "code",
   "execution_count": 58,
   "id": "cee039b2-6354-4ed1-9be3-7059ef2989aa",
   "metadata": {},
   "outputs": [],
   "source": [
    "df.loc[df['Title'] == 'Sesha Raati', 'Year_produced'] = df.loc[df['Title'] == 'Sesha Raati', 'Year_produced'].apply(lambda x: 2022)"
   ]
  },
  {
   "cell_type": "code",
   "execution_count": 59,
   "id": "2a4b5e5d-d619-40a2-9b86-dc562db981c6",
   "metadata": {},
   "outputs": [],
   "source": [
    "df.loc[df['Title'] == 'This Guest of Summer', 'Year_produced'] = df.loc[df['Title'] == 'This Guest of Summer', 'Year_produced'].apply(lambda x: 2021)"
   ]
  },
  {
   "cell_type": "code",
   "execution_count": 60,
   "id": "82b7c978-903d-4d29-ba9a-f5a28748a3af",
   "metadata": {},
   "outputs": [],
   "source": [
    "df.loc[df['Title'] == 'Halloween Jack 3D', 'Year_produced'] = df.loc[df['Title'] == 'Halloween Jack 3D', 'Year_produced'].apply(lambda x: 2022)"
   ]
  },
  {
   "cell_type": "code",
   "execution_count": 61,
   "id": "c580f948-71d8-4c23-94d4-511101850666",
   "metadata": {},
   "outputs": [],
   "source": [
    "df.loc[df['Title'] == 'Hell Phone', 'Year_produced'] = df.loc[df['Title'] == 'Hell Phone', 'Year_produced'].apply(lambda x: 2018)"
   ]
  },
  {
   "cell_type": "code",
   "execution_count": 62,
   "id": "7c645e07-be7f-4cec-92eb-f67fde71cede",
   "metadata": {
    "tags": []
   },
   "outputs": [],
   "source": [
    "df.loc[(df['Title'] == 'Night of the Clown') & (df['Year_produced'].isnull()), 'Year_produced'] = df.loc[(df['Title'] == 'Night of the Clown') & (df['Year_produced'].isnull()), 'Year_produced'].apply(lambda x: 2022)"
   ]
  },
  {
   "cell_type": "code",
   "execution_count": 63,
   "id": "4c849977-dc2a-4145-9324-dd0e2f7dc976",
   "metadata": {},
   "outputs": [],
   "source": [
    "df.loc[df['Title'] == 'My Dear Guardian', 'Year_produced'] = df.loc[df['Title'] == 'My Dear Guardian', 'Year_produced'].apply(lambda x: 2020)"
   ]
  },
  {
   "cell_type": "code",
   "execution_count": 64,
   "id": "6b4949e1-2e7c-4603-8400-ee3803d19e08",
   "metadata": {},
   "outputs": [],
   "source": [
    "df.loc[df['Title'] == 'Prem Prakaran', 'Year_produced'] = df.loc[df['Title'] == 'Prem Prakaran', 'Year_produced'].apply(lambda x: 2022)"
   ]
  },
  {
   "cell_type": "code",
   "execution_count": 65,
   "id": "aa6d5d55-f075-41f0-a48d-d55a55614f85",
   "metadata": {},
   "outputs": [],
   "source": [
    "df.loc[df['Title'] == 'Raebareli', 'Year_produced'] = df.loc[df['Title'] == 'Raebareli', 'Year_produced'].apply(lambda x: 2022)"
   ]
  },
  {
   "cell_type": "code",
   "execution_count": 66,
   "id": "7dfa63bd-16a8-4b21-8182-3e2df64f2954",
   "metadata": {},
   "outputs": [],
   "source": [
    "df.loc[df['Title'] == 'Tiger Cops', 'Year_produced'] = df.loc[df['Title'] == 'Tiger Cops', 'Year_produced'].apply(lambda x: 2017)"
   ]
  },
  {
   "cell_type": "code",
   "execution_count": 67,
   "id": "68afd3e3-7f80-4769-a20b-6f8db8e289c9",
   "metadata": {},
   "outputs": [],
   "source": [
    "df.loc[df['Title'] == 'Student War Punjabi Movie', 'Year_produced'] = df.loc[df['Title'] == 'Student War Punjabi Movie', 'Year_produced'].apply(lambda x: 2021)"
   ]
  },
  {
   "cell_type": "code",
   "execution_count": 68,
   "id": "cb3c16c7-4a7b-4142-bd3d-afd610d125c0",
   "metadata": {},
   "outputs": [],
   "source": [
    "df.loc[df['Title'] == 'Adakaar', 'Year_produced'] = df.loc[df['Title'] == 'Adakaar', 'Year_produced'].apply(lambda x: 2022)"
   ]
  },
  {
   "cell_type": "code",
   "execution_count": 69,
   "id": "813724c4-6627-409f-a861-5a96cbd5b3a8",
   "metadata": {},
   "outputs": [],
   "source": [
    "df.loc[df['Title'] == 'The Dark Web', 'Year_produced'] = df.loc[df['Title'] == 'The Dark Web', 'Year_produced'].apply(lambda x: 2020)"
   ]
  },
  {
   "cell_type": "code",
   "execution_count": 70,
   "id": "9db1e417-49c2-47f2-ab1b-7e720e9f5e44",
   "metadata": {},
   "outputs": [],
   "source": [
    "df.loc[df['Title'] == 'Amsterdam Vice', 'Year_produced'] = df.loc[df['Title'] == 'Amsterdam Vice', 'Year_produced'].apply(lambda x: 2019)"
   ]
  },
  {
   "cell_type": "code",
   "execution_count": 71,
   "id": "de8e3a17-7aa6-46ce-a6c7-b3eb7be57bab",
   "metadata": {},
   "outputs": [],
   "source": [
    "df.loc[df['Title'] == 'It Was Him: The Many Murders of Ed Edwards', 'Year_produced'] = df.loc[df['Title'] == 'It Was Him: The Many Murders of Ed Edwards', 'Year_produced'].apply(lambda x: 2017)"
   ]
  },
  {
   "cell_type": "code",
   "execution_count": 72,
   "id": "fb99b907-30ae-4387-9406-04c810b88e1e",
   "metadata": {},
   "outputs": [],
   "source": [
    "df.loc[(df['Title'] == 'Faultline') & (df['Year_produced'].isnull()), 'Year_produced'] = df.loc[(df['Title'] == 'Faultline') & (df['Year_produced'].isnull()), 'Year_produced'].apply(lambda x: 2017)"
   ]
  },
  {
   "cell_type": "code",
   "execution_count": 73,
   "id": "0e87ac54-6904-48f7-9c1d-ba858d9322f1",
   "metadata": {},
   "outputs": [],
   "source": [
    "df.loc[df['Title'] == 'Chop Chop Ninja', 'Year_produced'] = df.loc[df['Title'] == 'Chop Chop Ninja', 'Year_produced'].apply(lambda x: 2018)"
   ]
  },
  {
   "cell_type": "code",
   "execution_count": 74,
   "id": "13e42692-4144-4fca-b4d5-31cd8a06f22d",
   "metadata": {},
   "outputs": [],
   "source": [
    "df.loc[df['Title'] == 'Jade of Death', 'Year_produced'] = df.loc[df['Title'] == 'Jade of Death', 'Year_produced'].apply(lambda x: 2018)"
   ]
  },
  {
   "cell_type": "code",
   "execution_count": 75,
   "id": "537bd163-42db-44e6-a65a-edb63aedfa46",
   "metadata": {},
   "outputs": [
    {
     "data": {
      "text/plain": [
       "array([], dtype=object)"
      ]
     },
     "execution_count": 75,
     "metadata": {},
     "output_type": "execute_result"
    }
   ],
   "source": [
    "df[df['Year_produced'].isnull()]['Title'].unique()"
   ]
  },
  {
   "cell_type": "markdown",
   "id": "7aab3dbc-d1e3-41c1-a206-1aa11410c1d4",
   "metadata": {},
   "source": [
    "Remarks:\n",
    "1. NaN values have been filled in."
   ]
  },
  {
   "cell_type": "code",
   "execution_count": 76,
   "id": "4e08ac26-6e4e-4daf-ac75-a7709d651375",
   "metadata": {},
   "outputs": [],
   "source": [
    "df['Certificate'].fillna('Not Rated', inplace=True)"
   ]
  },
  {
   "cell_type": "code",
   "execution_count": 77,
   "id": "28da189c-2e84-4787-9a7d-8d13e727535d",
   "metadata": {},
   "outputs": [
    {
     "data": {
      "text/html": [
       "<div>\n",
       "<style scoped>\n",
       "    .dataframe tbody tr th:only-of-type {\n",
       "        vertical-align: middle;\n",
       "    }\n",
       "\n",
       "    .dataframe tbody tr th {\n",
       "        vertical-align: top;\n",
       "    }\n",
       "\n",
       "    .dataframe thead th {\n",
       "        text-align: right;\n",
       "    }\n",
       "</style>\n",
       "<table border=\"1\" class=\"dataframe\">\n",
       "  <thead>\n",
       "    <tr style=\"text-align: right;\">\n",
       "      <th></th>\n",
       "      <th>Genre</th>\n",
       "      <th>Title</th>\n",
       "      <th>Year_produced</th>\n",
       "      <th>Certificate</th>\n",
       "      <th>Ratings</th>\n",
       "      <th>Description</th>\n",
       "      <th>Actors</th>\n",
       "      <th>Actor_1</th>\n",
       "      <th>Actor_2</th>\n",
       "      <th>Actor_3</th>\n",
       "      <th>Actor_4</th>\n",
       "    </tr>\n",
       "  </thead>\n",
       "  <tbody>\n",
       "    <tr>\n",
       "      <th>51</th>\n",
       "      <td>Comedy</td>\n",
       "      <td>Kisi Ka Bhai Kisi Ki Jaan</td>\n",
       "      <td>(2023)</td>\n",
       "      <td>Not Rated</td>\n",
       "      <td>7.3</td>\n",
       "      <td>The eldest brother refuses to marry since he b...</td>\n",
       "      <td>[Salman Khan, Pooja Hegde, Venkatesh Daggubati...</td>\n",
       "      <td>Salman Khan</td>\n",
       "      <td>Pooja Hegde</td>\n",
       "      <td>Venkatesh Daggubati</td>\n",
       "      <td>Jagapathi Babu</td>\n",
       "    </tr>\n",
       "    <tr>\n",
       "      <th>89</th>\n",
       "      <td>Comedy</td>\n",
       "      <td>Shehzada</td>\n",
       "      <td>(2023)</td>\n",
       "      <td>Not Rated</td>\n",
       "      <td>4.6</td>\n",
       "      <td>Bantu is hated by his father Valmiki since he ...</td>\n",
       "      <td>[Kartik Aaryan, Kriti Sanon, Paresh Rawal, Man...</td>\n",
       "      <td>Kartik Aaryan</td>\n",
       "      <td>Kriti Sanon</td>\n",
       "      <td>Paresh Rawal</td>\n",
       "      <td>Manisha Koirala</td>\n",
       "    </tr>\n",
       "    <tr>\n",
       "      <th>97</th>\n",
       "      <td>Comedy</td>\n",
       "      <td>Mrs Undercover</td>\n",
       "      <td>(2023)</td>\n",
       "      <td>Not Rated</td>\n",
       "      <td>6.5</td>\n",
       "      <td>A simple Indian housewife who is in fact a spe...</td>\n",
       "      <td>[Radhika Apte, Sumeet Vyas, Rajesh Sharma, Roy...</td>\n",
       "      <td>Radhika Apte</td>\n",
       "      <td>Sumeet Vyas</td>\n",
       "      <td>Rajesh Sharma</td>\n",
       "      <td>Roy Angana</td>\n",
       "    </tr>\n",
       "    <tr>\n",
       "      <th>100</th>\n",
       "      <td>Comedy</td>\n",
       "      <td>Colin from Accounts</td>\n",
       "      <td>(2022– )</td>\n",
       "      <td>Not Rated</td>\n",
       "      <td>8.2</td>\n",
       "      <td>Ashley and Gordon, two single-ish, complex hum...</td>\n",
       "      <td>[Patrick Brammall, Harriet Dyer, Zak, Emma Har...</td>\n",
       "      <td>Patrick Brammall</td>\n",
       "      <td>Harriet Dyer</td>\n",
       "      <td>Zak</td>\n",
       "      <td>Emma Harvie</td>\n",
       "    </tr>\n",
       "    <tr>\n",
       "      <th>127</th>\n",
       "      <td>Comedy</td>\n",
       "      <td>Totally Completely Fine</td>\n",
       "      <td>(2023– )</td>\n",
       "      <td>Not Rated</td>\n",
       "      <td>7.3</td>\n",
       "      <td>It follows Vivian Cunningham, who winds up hel...</td>\n",
       "      <td>[Thomasin McKenzie, Contessa Treffone, Rowan W...</td>\n",
       "      <td>Thomasin McKenzie</td>\n",
       "      <td>Contessa Treffone</td>\n",
       "      <td>Rowan Witt</td>\n",
       "      <td>Brandon McClelland</td>\n",
       "    </tr>\n",
       "  </tbody>\n",
       "</table>\n",
       "</div>"
      ],
      "text/plain": [
       "      Genre                      Title Year_produced Certificate  Ratings  \\\n",
       "51   Comedy  Kisi Ka Bhai Kisi Ki Jaan        (2023)   Not Rated      7.3   \n",
       "89   Comedy                   Shehzada        (2023)   Not Rated      4.6   \n",
       "97   Comedy             Mrs Undercover        (2023)   Not Rated      6.5   \n",
       "100  Comedy        Colin from Accounts      (2022– )   Not Rated      8.2   \n",
       "127  Comedy    Totally Completely Fine      (2023– )   Not Rated      7.3   \n",
       "\n",
       "                                           Description  \\\n",
       "51   The eldest brother refuses to marry since he b...   \n",
       "89   Bantu is hated by his father Valmiki since he ...   \n",
       "97   A simple Indian housewife who is in fact a spe...   \n",
       "100  Ashley and Gordon, two single-ish, complex hum...   \n",
       "127  It follows Vivian Cunningham, who winds up hel...   \n",
       "\n",
       "                                                Actors            Actor_1  \\\n",
       "51   [Salman Khan, Pooja Hegde, Venkatesh Daggubati...        Salman Khan   \n",
       "89   [Kartik Aaryan, Kriti Sanon, Paresh Rawal, Man...      Kartik Aaryan   \n",
       "97   [Radhika Apte, Sumeet Vyas, Rajesh Sharma, Roy...       Radhika Apte   \n",
       "100  [Patrick Brammall, Harriet Dyer, Zak, Emma Har...   Patrick Brammall   \n",
       "127  [Thomasin McKenzie, Contessa Treffone, Rowan W...  Thomasin McKenzie   \n",
       "\n",
       "               Actor_2              Actor_3             Actor_4  \n",
       "51         Pooja Hegde  Venkatesh Daggubati      Jagapathi Babu  \n",
       "89         Kriti Sanon         Paresh Rawal     Manisha Koirala  \n",
       "97         Sumeet Vyas        Rajesh Sharma          Roy Angana  \n",
       "100       Harriet Dyer                  Zak         Emma Harvie  \n",
       "127  Contessa Treffone           Rowan Witt  Brandon McClelland  "
      ]
     },
     "execution_count": 77,
     "metadata": {},
     "output_type": "execute_result"
    }
   ],
   "source": [
    "df[df['Certificate'] == 'Not Rated'].head()"
   ]
  },
  {
   "cell_type": "markdown",
   "id": "916c22ed-5ff9-4fdb-b29e-2db5a1cabec3",
   "metadata": {},
   "source": [
    "Remarks:\n",
    "1. Observed that there are a bunch of movies that are not rated. This could be due to the website not being able to categorize it properly."
   ]
  },
  {
   "cell_type": "markdown",
   "id": "dc842886-fc36-4962-ace1-7dcdbc888721",
   "metadata": {},
   "source": [
    "### Ratings column"
   ]
  },
  {
   "cell_type": "code",
   "execution_count": 79,
   "id": "e3408487-2233-401c-bcf6-350f53b9bace",
   "metadata": {},
   "outputs": [
    {
     "data": {
      "text/html": [
       "<div>\n",
       "<style scoped>\n",
       "    .dataframe tbody tr th:only-of-type {\n",
       "        vertical-align: middle;\n",
       "    }\n",
       "\n",
       "    .dataframe tbody tr th {\n",
       "        vertical-align: top;\n",
       "    }\n",
       "\n",
       "    .dataframe thead th {\n",
       "        text-align: right;\n",
       "    }\n",
       "</style>\n",
       "<table border=\"1\" class=\"dataframe\">\n",
       "  <thead>\n",
       "    <tr style=\"text-align: right;\">\n",
       "      <th></th>\n",
       "      <th>Genre</th>\n",
       "      <th>Title</th>\n",
       "      <th>Year_produced</th>\n",
       "      <th>Certificate</th>\n",
       "      <th>Ratings</th>\n",
       "      <th>Description</th>\n",
       "      <th>Actors</th>\n",
       "      <th>Actor_1</th>\n",
       "      <th>Actor_2</th>\n",
       "      <th>Actor_3</th>\n",
       "      <th>Actor_4</th>\n",
       "    </tr>\n",
       "  </thead>\n",
       "  <tbody>\n",
       "  </tbody>\n",
       "</table>\n",
       "</div>"
      ],
      "text/plain": [
       "Empty DataFrame\n",
       "Columns: [Genre, Title, Year_produced, Certificate, Ratings, Description, Actors, Actor_1, Actor_2, Actor_3, Actor_4]\n",
       "Index: []"
      ]
     },
     "execution_count": 79,
     "metadata": {},
     "output_type": "execute_result"
    }
   ],
   "source": [
    "df[df['Ratings'].isnull()].head()"
   ]
  },
  {
   "cell_type": "markdown",
   "id": "b7e903ec-66da-4a9c-ba7d-743b5d518757",
   "metadata": {},
   "source": [
    "Remarks:\n",
    "1. This shows that all of the ratings column has been filled in."
   ]
  },
  {
   "cell_type": "markdown",
   "id": "6aae301a-8ab2-496a-947f-2bd2a799cf30",
   "metadata": {},
   "source": [
    "### Certificate columns"
   ]
  },
  {
   "cell_type": "code",
   "execution_count": 80,
   "id": "f7ff4c7c-5db1-4857-9d8b-68dcdf21d54e",
   "metadata": {},
   "outputs": [
    {
     "data": {
      "text/html": [
       "<div>\n",
       "<style scoped>\n",
       "    .dataframe tbody tr th:only-of-type {\n",
       "        vertical-align: middle;\n",
       "    }\n",
       "\n",
       "    .dataframe tbody tr th {\n",
       "        vertical-align: top;\n",
       "    }\n",
       "\n",
       "    .dataframe thead th {\n",
       "        text-align: right;\n",
       "    }\n",
       "</style>\n",
       "<table border=\"1\" class=\"dataframe\">\n",
       "  <thead>\n",
       "    <tr style=\"text-align: right;\">\n",
       "      <th></th>\n",
       "      <th>Genre</th>\n",
       "      <th>Title</th>\n",
       "      <th>Year_produced</th>\n",
       "      <th>Certificate</th>\n",
       "      <th>Ratings</th>\n",
       "      <th>Description</th>\n",
       "      <th>Actors</th>\n",
       "      <th>Actor_1</th>\n",
       "      <th>Actor_2</th>\n",
       "      <th>Actor_3</th>\n",
       "      <th>Actor_4</th>\n",
       "    </tr>\n",
       "  </thead>\n",
       "  <tbody>\n",
       "    <tr>\n",
       "      <th>0</th>\n",
       "      <td>Comedy</td>\n",
       "      <td>Beef</td>\n",
       "      <td>(2023– )</td>\n",
       "      <td>TV-MA</td>\n",
       "      <td>8.2</td>\n",
       "      <td>Two people let a road rage incident burrow int...</td>\n",
       "      <td>[Steven Yeun, Ali Wong, Joseph Lee, Young Mazino]</td>\n",
       "      <td>Steven Yeun</td>\n",
       "      <td>Ali Wong</td>\n",
       "      <td>Joseph Lee</td>\n",
       "      <td>Young Mazino</td>\n",
       "    </tr>\n",
       "    <tr>\n",
       "      <th>1</th>\n",
       "      <td>Comedy</td>\n",
       "      <td>Succession</td>\n",
       "      <td>(2018–2023)</td>\n",
       "      <td>TV-MA</td>\n",
       "      <td>8.8</td>\n",
       "      <td>The Roy family is known for controlling the bi...</td>\n",
       "      <td>[Nicholas Braun, Brian Cox, Kieran Culkin, Pet...</td>\n",
       "      <td>Nicholas Braun</td>\n",
       "      <td>Brian Cox</td>\n",
       "      <td>Kieran Culkin</td>\n",
       "      <td>Peter Friedman</td>\n",
       "    </tr>\n",
       "    <tr>\n",
       "      <th>2</th>\n",
       "      <td>Comedy</td>\n",
       "      <td>The Super Mario Bros. Movie</td>\n",
       "      <td>(2023)</td>\n",
       "      <td>PG</td>\n",
       "      <td>7.3</td>\n",
       "      <td>The story of The Super Mario Bros. on their jo...</td>\n",
       "      <td>[Chris Pratt, Anya Taylor-Joy, Charlie Day, Ja...</td>\n",
       "      <td>Chris Pratt</td>\n",
       "      <td>Anya Taylor-Joy</td>\n",
       "      <td>Charlie Day</td>\n",
       "      <td>Jack Black</td>\n",
       "    </tr>\n",
       "    <tr>\n",
       "      <th>3</th>\n",
       "      <td>Comedy</td>\n",
       "      <td>Ted Lasso</td>\n",
       "      <td>(2020– )</td>\n",
       "      <td>TV-MA</td>\n",
       "      <td>8.8</td>\n",
       "      <td>American college football coach Ted Lasso head...</td>\n",
       "      <td>[Jason Sudeikis, Brett Goldstein, Hannah Waddi...</td>\n",
       "      <td>Jason Sudeikis</td>\n",
       "      <td>Brett Goldstein</td>\n",
       "      <td>Hannah Waddingham</td>\n",
       "      <td>Brendan Hunt</td>\n",
       "    </tr>\n",
       "    <tr>\n",
       "      <th>4</th>\n",
       "      <td>Comedy</td>\n",
       "      <td>Ghosted</td>\n",
       "      <td>(2023)</td>\n",
       "      <td>13+</td>\n",
       "      <td>5.8</td>\n",
       "      <td>Cole falls head over heels for enigmatic Sadie...</td>\n",
       "      <td>[Chris Evans, Ana de Armas, Adrien Brody, Mike...</td>\n",
       "      <td>Chris Evans</td>\n",
       "      <td>Ana de Armas</td>\n",
       "      <td>Adrien Brody</td>\n",
       "      <td>Mike Moh</td>\n",
       "    </tr>\n",
       "  </tbody>\n",
       "</table>\n",
       "</div>"
      ],
      "text/plain": [
       "    Genre                        Title Year_produced Certificate  Ratings  \\\n",
       "0  Comedy                         Beef      (2023– )       TV-MA      8.2   \n",
       "1  Comedy                   Succession   (2018–2023)       TV-MA      8.8   \n",
       "2  Comedy  The Super Mario Bros. Movie        (2023)          PG      7.3   \n",
       "3  Comedy                    Ted Lasso      (2020– )       TV-MA      8.8   \n",
       "4  Comedy                      Ghosted        (2023)         13+      5.8   \n",
       "\n",
       "                                         Description  \\\n",
       "0  Two people let a road rage incident burrow int...   \n",
       "1  The Roy family is known for controlling the bi...   \n",
       "2  The story of The Super Mario Bros. on their jo...   \n",
       "3  American college football coach Ted Lasso head...   \n",
       "4  Cole falls head over heels for enigmatic Sadie...   \n",
       "\n",
       "                                              Actors         Actor_1  \\\n",
       "0  [Steven Yeun, Ali Wong, Joseph Lee, Young Mazino]     Steven Yeun   \n",
       "1  [Nicholas Braun, Brian Cox, Kieran Culkin, Pet...  Nicholas Braun   \n",
       "2  [Chris Pratt, Anya Taylor-Joy, Charlie Day, Ja...     Chris Pratt   \n",
       "3  [Jason Sudeikis, Brett Goldstein, Hannah Waddi...  Jason Sudeikis   \n",
       "4  [Chris Evans, Ana de Armas, Adrien Brody, Mike...     Chris Evans   \n",
       "\n",
       "           Actor_2            Actor_3         Actor_4  \n",
       "0         Ali Wong         Joseph Lee    Young Mazino  \n",
       "1        Brian Cox      Kieran Culkin  Peter Friedman  \n",
       "2  Anya Taylor-Joy        Charlie Day      Jack Black  \n",
       "3  Brett Goldstein  Hannah Waddingham    Brendan Hunt  \n",
       "4     Ana de Armas       Adrien Brody        Mike Moh  "
      ]
     },
     "execution_count": 80,
     "metadata": {},
     "output_type": "execute_result"
    }
   ],
   "source": [
    "df.head()"
   ]
  },
  {
   "cell_type": "markdown",
   "id": "ab5f5745-4707-4279-84e3-0ec0031abcbb",
   "metadata": {},
   "source": [
    "1. It is observed that there are quite a number of movies that are classified as 'not rated'.\n",
    "2. It is noteworthy that future NLP projects can be done to predict certificate columns. This can be used to properly label such movies so as to ensure that users accessing the website will know what kind of movie certificate is the movie to be well informed of the movie types.\n",
    "\n",
    "Strategy: \n",
    "1. drop rows that are 'not rated'."
   ]
  },
  {
   "cell_type": "code",
   "execution_count": 81,
   "id": "add8188e-eb8b-4a8d-a1bb-a831b2791a00",
   "metadata": {},
   "outputs": [
    {
     "data": {
      "text/plain": [
       "(300065, 11)"
      ]
     },
     "execution_count": 81,
     "metadata": {},
     "output_type": "execute_result"
    }
   ],
   "source": [
    "df[df['Certificate'] == 'Not Rated'].shape"
   ]
  },
  {
   "cell_type": "code",
   "execution_count": 82,
   "id": "49ad0c74-cda0-41a3-81b2-4e27b66b7b9c",
   "metadata": {},
   "outputs": [
    {
     "data": {
      "text/plain": [
       "(190248, 11)"
      ]
     },
     "execution_count": 82,
     "metadata": {},
     "output_type": "execute_result"
    }
   ],
   "source": [
    "df[df['Certificate'] != 'Not Rated'].shape"
   ]
  },
  {
   "cell_type": "code",
   "execution_count": 83,
   "id": "f356f9f6-6154-4385-8d56-6aaa9c0696d8",
   "metadata": {},
   "outputs": [],
   "source": [
    "new_df = df[df['Certificate'] != 'Not Rated']"
   ]
  },
  {
   "cell_type": "code",
   "execution_count": 89,
   "id": "550d7093-0835-4dab-a9a6-d76acaba384a",
   "metadata": {},
   "outputs": [
    {
     "data": {
      "text/plain": [
       "(190248, 11)"
      ]
     },
     "execution_count": 89,
     "metadata": {},
     "output_type": "execute_result"
    }
   ],
   "source": [
    "new_df.shape"
   ]
  },
  {
   "cell_type": "code",
   "execution_count": 84,
   "id": "06651fe9-cfeb-42ad-9292-60266d85ce25",
   "metadata": {},
   "outputs": [
    {
     "data": {
      "text/html": [
       "<div>\n",
       "<style scoped>\n",
       "    .dataframe tbody tr th:only-of-type {\n",
       "        vertical-align: middle;\n",
       "    }\n",
       "\n",
       "    .dataframe tbody tr th {\n",
       "        vertical-align: top;\n",
       "    }\n",
       "\n",
       "    .dataframe thead th {\n",
       "        text-align: right;\n",
       "    }\n",
       "</style>\n",
       "<table border=\"1\" class=\"dataframe\">\n",
       "  <thead>\n",
       "    <tr style=\"text-align: right;\">\n",
       "      <th></th>\n",
       "      <th>Genre</th>\n",
       "      <th>Title</th>\n",
       "      <th>Year_produced</th>\n",
       "      <th>Certificate</th>\n",
       "      <th>Ratings</th>\n",
       "      <th>Description</th>\n",
       "      <th>Actors</th>\n",
       "      <th>Actor_1</th>\n",
       "      <th>Actor_2</th>\n",
       "      <th>Actor_3</th>\n",
       "      <th>Actor_4</th>\n",
       "    </tr>\n",
       "  </thead>\n",
       "  <tbody>\n",
       "    <tr>\n",
       "      <th>0</th>\n",
       "      <td>Comedy</td>\n",
       "      <td>Beef</td>\n",
       "      <td>(2023– )</td>\n",
       "      <td>TV-MA</td>\n",
       "      <td>8.2</td>\n",
       "      <td>Two people let a road rage incident burrow int...</td>\n",
       "      <td>[Steven Yeun, Ali Wong, Joseph Lee, Young Mazino]</td>\n",
       "      <td>Steven Yeun</td>\n",
       "      <td>Ali Wong</td>\n",
       "      <td>Joseph Lee</td>\n",
       "      <td>Young Mazino</td>\n",
       "    </tr>\n",
       "    <tr>\n",
       "      <th>1</th>\n",
       "      <td>Comedy</td>\n",
       "      <td>Succession</td>\n",
       "      <td>(2018–2023)</td>\n",
       "      <td>TV-MA</td>\n",
       "      <td>8.8</td>\n",
       "      <td>The Roy family is known for controlling the bi...</td>\n",
       "      <td>[Nicholas Braun, Brian Cox, Kieran Culkin, Pet...</td>\n",
       "      <td>Nicholas Braun</td>\n",
       "      <td>Brian Cox</td>\n",
       "      <td>Kieran Culkin</td>\n",
       "      <td>Peter Friedman</td>\n",
       "    </tr>\n",
       "    <tr>\n",
       "      <th>2</th>\n",
       "      <td>Comedy</td>\n",
       "      <td>The Super Mario Bros. Movie</td>\n",
       "      <td>(2023)</td>\n",
       "      <td>PG</td>\n",
       "      <td>7.3</td>\n",
       "      <td>The story of The Super Mario Bros. on their jo...</td>\n",
       "      <td>[Chris Pratt, Anya Taylor-Joy, Charlie Day, Ja...</td>\n",
       "      <td>Chris Pratt</td>\n",
       "      <td>Anya Taylor-Joy</td>\n",
       "      <td>Charlie Day</td>\n",
       "      <td>Jack Black</td>\n",
       "    </tr>\n",
       "    <tr>\n",
       "      <th>3</th>\n",
       "      <td>Comedy</td>\n",
       "      <td>Ted Lasso</td>\n",
       "      <td>(2020– )</td>\n",
       "      <td>TV-MA</td>\n",
       "      <td>8.8</td>\n",
       "      <td>American college football coach Ted Lasso head...</td>\n",
       "      <td>[Jason Sudeikis, Brett Goldstein, Hannah Waddi...</td>\n",
       "      <td>Jason Sudeikis</td>\n",
       "      <td>Brett Goldstein</td>\n",
       "      <td>Hannah Waddingham</td>\n",
       "      <td>Brendan Hunt</td>\n",
       "    </tr>\n",
       "    <tr>\n",
       "      <th>4</th>\n",
       "      <td>Comedy</td>\n",
       "      <td>Ghosted</td>\n",
       "      <td>(2023)</td>\n",
       "      <td>13+</td>\n",
       "      <td>5.8</td>\n",
       "      <td>Cole falls head over heels for enigmatic Sadie...</td>\n",
       "      <td>[Chris Evans, Ana de Armas, Adrien Brody, Mike...</td>\n",
       "      <td>Chris Evans</td>\n",
       "      <td>Ana de Armas</td>\n",
       "      <td>Adrien Brody</td>\n",
       "      <td>Mike Moh</td>\n",
       "    </tr>\n",
       "  </tbody>\n",
       "</table>\n",
       "</div>"
      ],
      "text/plain": [
       "    Genre                        Title Year_produced Certificate  Ratings  \\\n",
       "0  Comedy                         Beef      (2023– )       TV-MA      8.2   \n",
       "1  Comedy                   Succession   (2018–2023)       TV-MA      8.8   \n",
       "2  Comedy  The Super Mario Bros. Movie        (2023)          PG      7.3   \n",
       "3  Comedy                    Ted Lasso      (2020– )       TV-MA      8.8   \n",
       "4  Comedy                      Ghosted        (2023)         13+      5.8   \n",
       "\n",
       "                                         Description  \\\n",
       "0  Two people let a road rage incident burrow int...   \n",
       "1  The Roy family is known for controlling the bi...   \n",
       "2  The story of The Super Mario Bros. on their jo...   \n",
       "3  American college football coach Ted Lasso head...   \n",
       "4  Cole falls head over heels for enigmatic Sadie...   \n",
       "\n",
       "                                              Actors         Actor_1  \\\n",
       "0  [Steven Yeun, Ali Wong, Joseph Lee, Young Mazino]     Steven Yeun   \n",
       "1  [Nicholas Braun, Brian Cox, Kieran Culkin, Pet...  Nicholas Braun   \n",
       "2  [Chris Pratt, Anya Taylor-Joy, Charlie Day, Ja...     Chris Pratt   \n",
       "3  [Jason Sudeikis, Brett Goldstein, Hannah Waddi...  Jason Sudeikis   \n",
       "4  [Chris Evans, Ana de Armas, Adrien Brody, Mike...     Chris Evans   \n",
       "\n",
       "           Actor_2            Actor_3         Actor_4  \n",
       "0         Ali Wong         Joseph Lee    Young Mazino  \n",
       "1        Brian Cox      Kieran Culkin  Peter Friedman  \n",
       "2  Anya Taylor-Joy        Charlie Day      Jack Black  \n",
       "3  Brett Goldstein  Hannah Waddingham    Brendan Hunt  \n",
       "4     Ana de Armas       Adrien Brody        Mike Moh  "
      ]
     },
     "execution_count": 84,
     "metadata": {},
     "output_type": "execute_result"
    }
   ],
   "source": [
    "df.head()"
   ]
  },
  {
   "cell_type": "code",
   "execution_count": 88,
   "id": "52afed09-eda3-41e9-a470-29f8a0f82387",
   "metadata": {},
   "outputs": [
    {
     "data": {
      "text/plain": [
       "(490313, 11)"
      ]
     },
     "execution_count": 88,
     "metadata": {},
     "output_type": "execute_result"
    }
   ],
   "source": [
    "df.shape"
   ]
  },
  {
   "cell_type": "code",
   "execution_count": 85,
   "id": "8b6072d9-41bf-405d-a9fd-6ffea26ab59b",
   "metadata": {},
   "outputs": [
    {
     "data": {
      "text/html": [
       "<div>\n",
       "<style scoped>\n",
       "    .dataframe tbody tr th:only-of-type {\n",
       "        vertical-align: middle;\n",
       "    }\n",
       "\n",
       "    .dataframe tbody tr th {\n",
       "        vertical-align: top;\n",
       "    }\n",
       "\n",
       "    .dataframe thead th {\n",
       "        text-align: right;\n",
       "    }\n",
       "</style>\n",
       "<table border=\"1\" class=\"dataframe\">\n",
       "  <thead>\n",
       "    <tr style=\"text-align: right;\">\n",
       "      <th></th>\n",
       "      <th>Genre</th>\n",
       "      <th>Title</th>\n",
       "      <th>Year_produced</th>\n",
       "      <th>Certificate</th>\n",
       "      <th>Ratings</th>\n",
       "      <th>Description</th>\n",
       "      <th>Actors</th>\n",
       "      <th>Actor_1</th>\n",
       "      <th>Actor_2</th>\n",
       "      <th>Actor_3</th>\n",
       "      <th>Actor_4</th>\n",
       "    </tr>\n",
       "  </thead>\n",
       "  <tbody>\n",
       "    <tr>\n",
       "      <th>0</th>\n",
       "      <td>Comedy</td>\n",
       "      <td>Beef</td>\n",
       "      <td>(2023– )</td>\n",
       "      <td>TV-MA</td>\n",
       "      <td>8.2</td>\n",
       "      <td>Two people let a road rage incident burrow int...</td>\n",
       "      <td>[Steven Yeun, Ali Wong, Joseph Lee, Young Mazino]</td>\n",
       "      <td>Steven Yeun</td>\n",
       "      <td>Ali Wong</td>\n",
       "      <td>Joseph Lee</td>\n",
       "      <td>Young Mazino</td>\n",
       "    </tr>\n",
       "    <tr>\n",
       "      <th>1</th>\n",
       "      <td>Comedy</td>\n",
       "      <td>Succession</td>\n",
       "      <td>(2018–2023)</td>\n",
       "      <td>TV-MA</td>\n",
       "      <td>8.8</td>\n",
       "      <td>The Roy family is known for controlling the bi...</td>\n",
       "      <td>[Nicholas Braun, Brian Cox, Kieran Culkin, Pet...</td>\n",
       "      <td>Nicholas Braun</td>\n",
       "      <td>Brian Cox</td>\n",
       "      <td>Kieran Culkin</td>\n",
       "      <td>Peter Friedman</td>\n",
       "    </tr>\n",
       "    <tr>\n",
       "      <th>2</th>\n",
       "      <td>Comedy</td>\n",
       "      <td>The Super Mario Bros. Movie</td>\n",
       "      <td>(2023)</td>\n",
       "      <td>PG</td>\n",
       "      <td>7.3</td>\n",
       "      <td>The story of The Super Mario Bros. on their jo...</td>\n",
       "      <td>[Chris Pratt, Anya Taylor-Joy, Charlie Day, Ja...</td>\n",
       "      <td>Chris Pratt</td>\n",
       "      <td>Anya Taylor-Joy</td>\n",
       "      <td>Charlie Day</td>\n",
       "      <td>Jack Black</td>\n",
       "    </tr>\n",
       "    <tr>\n",
       "      <th>3</th>\n",
       "      <td>Comedy</td>\n",
       "      <td>Ted Lasso</td>\n",
       "      <td>(2020– )</td>\n",
       "      <td>TV-MA</td>\n",
       "      <td>8.8</td>\n",
       "      <td>American college football coach Ted Lasso head...</td>\n",
       "      <td>[Jason Sudeikis, Brett Goldstein, Hannah Waddi...</td>\n",
       "      <td>Jason Sudeikis</td>\n",
       "      <td>Brett Goldstein</td>\n",
       "      <td>Hannah Waddingham</td>\n",
       "      <td>Brendan Hunt</td>\n",
       "    </tr>\n",
       "    <tr>\n",
       "      <th>4</th>\n",
       "      <td>Comedy</td>\n",
       "      <td>Ghosted</td>\n",
       "      <td>(2023)</td>\n",
       "      <td>13+</td>\n",
       "      <td>5.8</td>\n",
       "      <td>Cole falls head over heels for enigmatic Sadie...</td>\n",
       "      <td>[Chris Evans, Ana de Armas, Adrien Brody, Mike...</td>\n",
       "      <td>Chris Evans</td>\n",
       "      <td>Ana de Armas</td>\n",
       "      <td>Adrien Brody</td>\n",
       "      <td>Mike Moh</td>\n",
       "    </tr>\n",
       "  </tbody>\n",
       "</table>\n",
       "</div>"
      ],
      "text/plain": [
       "    Genre                        Title Year_produced Certificate  Ratings  \\\n",
       "0  Comedy                         Beef      (2023– )       TV-MA      8.2   \n",
       "1  Comedy                   Succession   (2018–2023)       TV-MA      8.8   \n",
       "2  Comedy  The Super Mario Bros. Movie        (2023)          PG      7.3   \n",
       "3  Comedy                    Ted Lasso      (2020– )       TV-MA      8.8   \n",
       "4  Comedy                      Ghosted        (2023)         13+      5.8   \n",
       "\n",
       "                                         Description  \\\n",
       "0  Two people let a road rage incident burrow int...   \n",
       "1  The Roy family is known for controlling the bi...   \n",
       "2  The story of The Super Mario Bros. on their jo...   \n",
       "3  American college football coach Ted Lasso head...   \n",
       "4  Cole falls head over heels for enigmatic Sadie...   \n",
       "\n",
       "                                              Actors         Actor_1  \\\n",
       "0  [Steven Yeun, Ali Wong, Joseph Lee, Young Mazino]     Steven Yeun   \n",
       "1  [Nicholas Braun, Brian Cox, Kieran Culkin, Pet...  Nicholas Braun   \n",
       "2  [Chris Pratt, Anya Taylor-Joy, Charlie Day, Ja...     Chris Pratt   \n",
       "3  [Jason Sudeikis, Brett Goldstein, Hannah Waddi...  Jason Sudeikis   \n",
       "4  [Chris Evans, Ana de Armas, Adrien Brody, Mike...     Chris Evans   \n",
       "\n",
       "           Actor_2            Actor_3         Actor_4  \n",
       "0         Ali Wong         Joseph Lee    Young Mazino  \n",
       "1        Brian Cox      Kieran Culkin  Peter Friedman  \n",
       "2  Anya Taylor-Joy        Charlie Day      Jack Black  \n",
       "3  Brett Goldstein  Hannah Waddingham    Brendan Hunt  \n",
       "4     Ana de Armas       Adrien Brody        Mike Moh  "
      ]
     },
     "execution_count": 85,
     "metadata": {},
     "output_type": "execute_result"
    }
   ],
   "source": [
    "new_df.head()"
   ]
  },
  {
   "cell_type": "markdown",
   "id": "cec530df-91b6-4b17-82cd-086d6a795a7a",
   "metadata": {},
   "source": [
    "Remarks:\n",
    "1. Two seperate dataframes has been created. One with 'no ratings', the other with it. This can be used in the future for further machine learning projects.\n",
    "2. For data visualisation, and modelling, I will be using data without movie certificates that does not contain 'no ratings'."
   ]
  },
  {
   "cell_type": "markdown",
   "id": "c2361fc1-fd29-49fd-be4c-08dfa7610f19",
   "metadata": {},
   "source": [
    "## Export to CSV"
   ]
  },
  {
   "cell_type": "markdown",
   "id": "c492ab40-1691-4e4d-b520-d2fef4b7f094",
   "metadata": {},
   "source": [
    "This is for including not rated movies"
   ]
  },
  {
   "cell_type": "code",
   "execution_count": 86,
   "id": "af88c227-46f1-44af-bab7-b5372bb0e2fe",
   "metadata": {},
   "outputs": [],
   "source": [
    "df.to_csv('./datasets/all_movies_cleaned_02.csv', index=False)"
   ]
  },
  {
   "cell_type": "markdown",
   "id": "807bbf97-2e03-46ed-8ccc-9b053f721b2d",
   "metadata": {},
   "source": [
    "This excludes all not rated movies"
   ]
  },
  {
   "cell_type": "code",
   "execution_count": 87,
   "id": "1055d2d3-6f0d-4bb2-9bd4-75216db7cd85",
   "metadata": {},
   "outputs": [],
   "source": [
    "new_df.to_csv('./datasets/all_movies_rated_only_cleaned_02.csv', index=False)"
   ]
  },
  {
   "cell_type": "markdown",
   "id": "ffc4380a-453f-4842-8e8b-a5221ed66c39",
   "metadata": {},
   "source": [
    "Remarks: Data including rated movies"
   ]
  }
 ],
 "metadata": {
  "kernelspec": {
   "display_name": "Python 3 (ipykernel)",
   "language": "python",
   "name": "python3"
  },
  "language_info": {
   "codemirror_mode": {
    "name": "ipython",
    "version": 3
   },
   "file_extension": ".py",
   "mimetype": "text/x-python",
   "name": "python",
   "nbconvert_exporter": "python",
   "pygments_lexer": "ipython3",
   "version": "3.10.9"
  }
 },
 "nbformat": 4,
 "nbformat_minor": 5
}
