{
 "cells": [
  {
   "cell_type": "markdown",
   "id": "ccac3bf4-58fa-47e0-a370-c923d72dbe13",
   "metadata": {},
   "source": [
    "# Squatmaster3000: Enhancing Squat Performance in Powerlifting Competitions through Computer Vision"
   ]
  },
  {
   "cell_type": "markdown",
   "id": "79264032-2e34-4129-905b-0aa9aa2468f3",
   "metadata": {},
   "source": [
    "## Preface"
   ]
  },
  {
   "cell_type": "markdown",
   "id": "f3366310-b1a9-413c-b230-46b7512aa222",
   "metadata": {},
   "source": [
    "Powerlifting, a sport that tests an athlete's strength through three fundamental lifts - squat, bench press, and deadlift, embodies the pursuit of maximum weight lifting. This project focuses specifically on the squat exercise, which plays a pivotal role in powerlifting competitions.\n",
    "\n",
    "According to [britanncia](https://www.britannica.com/sports/powerlifting#ref857046), a proper squat involves the lifter's thighs dropping to or below parallel with the ground. However, during competitions, the squat's execution is subject to the interpretation of three judges, each following guidelines outlined in the rulebook. This subjective judgment often leads to disagreements between powerlifters and judges regarding the depth of their squats. These disputes can potentially affect a lifter's chances of securing a spot on the podium, emphasizing the need for a more objective and accurate evaluation system.\n",
    "\n",
    "![depth](./image/depth.png)\n",
    "\n",
    "As seen from the above image, a good squat is a squat counted when the lifter thighs goes below the horizontal line.\n",
    "\n",
    "In light of this challenge, our project aims to introduce a groundbreaking solution: harnessing the power of computer vision to count squat reps reliably and precisely. By leveraging advanced image processing algorithms and machine learning techniques, we seek to develop a cutting-edge system that provides an unbiased and consistent evaluation of squat depth during powerlifting competitions.\n",
    "\n",
    "Through this innovative approach, we aspire to eliminate the contentious debate surrounding squat depth and empower powerlifters with an objective measure of their performance. By enhancing the fairness and accuracy of judging, our computer vision-based rep counting system promises to revolutionize the powerlifting landscape and propel athletes towards their podium dreams."
   ]
  },
  {
   "cell_type": "markdown",
   "id": "99a88884-2628-4fbb-83c2-1c6cd8f378eb",
   "metadata": {},
   "source": [
    "## Aim"
   ]
  },
  {
   "cell_type": "markdown",
   "id": "55375932-25c8-44a8-87e2-88f62da759be",
   "metadata": {},
   "source": [
    "The primary objective of this project is to tackle the issue of human bias in squat lift evaluation, ultimately fostering a sense of fairness in powerlifting competitions. By harnessing the power of computer vision technology, our aim is to develop an innovative system that eradicates subjective judgments and ensures an impartial assessment of squat depth.\n",
    "\n",
    "By implementing this technology, powerlifters will have access to a reliable tool that helps them train effectively for competitions while adhering to the correct depth requirements specified in the rule book. This enables them to fine-tune their technique, optimize their performance, and confidently present their skills on the competition platform."
   ]
  },
  {
   "cell_type": "markdown",
   "id": "a7ff999d-f25b-4edc-aee5-726b39323d86",
   "metadata": {},
   "source": [
    "## Project Reference"
   ]
  },
  {
   "cell_type": "markdown",
   "id": "c7583e5d-4faf-42aa-a810-f4f950471933",
   "metadata": {},
   "source": [
    "This project is referenced from a tutorial by [AI Sciences](https://www.youtube.com/watch?v=4WwSJAKRtcA)."
   ]
  },
  {
   "cell_type": "code",
   "execution_count": 3,
   "id": "2c72dcc1-f828-405f-aa09-9fd98fb3b781",
   "metadata": {
    "scrolled": true,
    "tags": []
   },
   "outputs": [],
   "source": [
    "import cv2\n",
    "import time\n",
    "import mediapipe as mp"
   ]
  },
  {
   "cell_type": "markdown",
   "id": "5deffda1-3b17-49e1-9ca3-84f00e429e0c",
   "metadata": {},
   "source": [
    "## Pre-requisite for a pose"
   ]
  },
  {
   "cell_type": "code",
   "execution_count": 4,
   "id": "412352ef-2bf7-4a66-a014-45fa4717f940",
   "metadata": {},
   "outputs": [],
   "source": [
    "mpdraw = mp.solutions.drawing_utils\n",
    "mppose = mp.solutions.pose\n",
    "pose = mppose.Pose()"
   ]
  },
  {
   "cell_type": "markdown",
   "id": "92e96a81-19ac-40ab-8ce1-c9c4b605e0ec",
   "metadata": {},
   "source": [
    "## Computer Vision Program"
   ]
  },
  {
   "cell_type": "code",
   "execution_count": 7,
   "id": "5c96bb8a-366a-4868-81c5-e7d55a566f15",
   "metadata": {},
   "outputs": [],
   "source": [
    "cap = cv2.VideoCapture(\"./squat.mp4\")\n",
    "# variable to count reps\n",
    "up = False\n",
    "counter = 0\n",
    "while True:\n",
    "    success, img = cap.read()\n",
    "    if success == True:\n",
    "        imgrgb = cv2.cvtColor(img, cv2.COLOR_BGR2RGB)\n",
    "        result = pose.process(imgrgb)\n",
    "        if result.pose_landmarks:\n",
    "            mpdraw.draw_landmarks(img, result.pose_landmarks, mppose.POSE_CONNECTIONS)\n",
    "            \n",
    "            #get landmarks points and save the distance from these points from point 0\n",
    "            points = {}\n",
    "            for num, lm in enumerate(result.pose_landmarks.landmark):\n",
    "                height, weight, channel = img.shape\n",
    "                cx, cy = int(lm.x * weight), int(lm.y * height)\n",
    "                points[num] = (cx, cy)\n",
    "                # draw circle on these points\n",
    "                if 24 in points:\n",
    "                    cv2.circle(img, points[24], 5, (0,255,0), cv2.FILLED)\n",
    "                if 26 in points:\n",
    "                    cv2.circle(img, points[26], 5, (0,255,0), cv2.FILLED)\n",
    "                if 23 in points:\n",
    "                    cv2.circle(img, points[23], 5, (0,255,0), cv2.FILLED)\n",
    "                if 25 in points:\n",
    "                    cv2.circle(img, points[25], 5, (0,255,0), cv2.FILLED)\n",
    "\n",
    "            # #logic to check\n",
    "            if not up and points[26][1] <= points[24][1]:\n",
    "                counter += 1\n",
    "                up = True\n",
    "                \n",
    "            elif points[26][1] > points[24][1]:\n",
    "                # print('Down')\n",
    "                up = False\n",
    "            cv2.putText(img, 'Good lift: '+str(counter), (50,100), cv2.FONT_HERSHEY_PLAIN, 2, (255,255,0), 2)\n",
    "        cv2.imshow('img',img)\n",
    "\n",
    "        if cv2.waitKey(25) & 0xFF == ord('q'):\n",
    "            break\n",
    "    else:\n",
    "        break\n",
    "\n",
    "cap.release()\n",
    "cv2.destroyAllWindows() "
   ]
  },
  {
   "cell_type": "markdown",
   "id": "219afacd-25a7-4819-8d4d-ea180b67059c",
   "metadata": {},
   "source": [
    "The above code does the following functions:\n",
    "1. Read video file named 'squat.mp4'\n",
    "2. The image is then comverted from BGR to RGB for further processing\n",
    "3. the image is then passed through mediapipe to attain mapping\n",
    "4. through the 32 points established, leg points from 23-26 are collected and stored as a dictionary\n",
    "5. To check if the user is squatting correctly, point 26 must go below point 24 (distance of point 26 must be less than distance of point 24).\n",
    "6. A squat is then recorded when point 26 is lesser than point 24.\n",
    "7. A counter then counts the squat.\n",
    "8. Once the video is completed, the window automatically closes."
   ]
  },
  {
   "cell_type": "markdown",
   "id": "c8d9f0ad-0869-4928-9a7a-3f771ba5530e",
   "metadata": {},
   "source": [
    "![bad](./image/bad.png)\n",
    "\n",
    "As seen from the image captured when the lifter did not achieve sufficent depth, the lift will not be counted."
   ]
  },
  {
   "cell_type": "markdown",
   "id": "616499a9-36d9-44e2-862f-c5661aba0133",
   "metadata": {},
   "source": [
    "![good](./image/good.png)\n",
    "\n",
    "On the other hand, a lift is captured when the lifter has achieve sufficent depth. This program follows the guideline as mentioned by [britanncia](https://www.britannica.com/sports/powerlifting#ref857046) squat definition."
   ]
  },
  {
   "cell_type": "markdown",
   "id": "5486f1e7-1b2c-4529-9999-c088839ba83e",
   "metadata": {},
   "source": [
    "## Future Works"
   ]
  },
  {
   "cell_type": "markdown",
   "id": "abc4690b-2f2a-48ad-9502-29b7a78b009c",
   "metadata": {},
   "source": [
    "In future endeavors, this program can be expanded to incorporate additional lifts such as Deadlifts and Bench Press, further enhancing its versatility and utility for powerlifters. By integrating these lifts into the existing computer vision system, athletes will have a comprehensive tool at their disposal to evaluate and improve their performance across multiple exercises, promoting overall strength and technique development.\n",
    "\n",
    "Additionally, exploring different camera angles holds great potential for advancing the accuracy and effectiveness of form assessment within the program. By capturing lifters from various perspectives, such as side angles or overhead views, a more comprehensive understanding of their form can be obtained. This would enable the system to provide more precise feedback and analysis, ensuring that users are not only adhering to depth requirements but also executing the lifts with optimal technique and alignment.\n",
    "\n",
    "Moreover, future works could involve the integration of advanced machine learning algorithms and artificial intelligence techniques. This would enable the program to adapt and learn from individual lifters, providing personalized recommendations and corrective measures tailored to each user's specific needs. Such advancements would facilitate a more tailored and effective training experience, maximizing the potential for strength gains and reducing the risk of injury.\n",
    "\n",
    "Furthermore, the scalability of the program could be explored, allowing it to be used beyond individual training sessions. This could involve incorporating the program into virtual coaching platforms or integrating it into live competitions, providing real-time feedback to both athletes and judges. By expanding its reach and application, the program would continue to revolutionize the powerlifting landscape, enhancing fairness, objectivity, and the overall quality of the sport."
   ]
  },
  {
   "cell_type": "markdown",
   "id": "d5a3db00-ccad-4876-8fb8-26238b052312",
   "metadata": {},
   "source": [
    "## Conclusion"
   ]
  },
  {
   "cell_type": "markdown",
   "id": "c49da4c3-40c8-4930-945c-0895447a3fec",
   "metadata": {},
   "source": [
    "In conclusion, this project has successfully accomplished its objective of revolutionizing squat lift evaluation in powerlifting competitions. By harnessing the power of computer vision, we have introduced a groundbreaking solution that eliminates bias and ensures a fair assessment of squat depth. This transformative technology enables powerlifting competitions to leverage computer vision algorithms to track and evaluate squat lifts accurately, removing any human subjectivity that may have previously influenced judgments.\n",
    "\n",
    "Moreover, this project has empowered powerlifters with a valuable tool to track their lifting form and ensure adherence to the correct depth requirements established by the organization. By utilizing this program, powerlifters can now receive real-time feedback and analysis of their squat technique, facilitating continuous improvement and enhancing their training regimen for optimal performance.\n",
    "\n",
    "The successful achievement of these project objectives marks a significant milestone in the field of powerlifting. The implementation of computer vision technology has not only improved the fairness and integrity of competitions but also provided powerlifters with a tangible means to monitor and refine their lifting technique. This advancement contributes to a more standardized and objective evaluation system, fostering a level playing field for all participants.\n",
    "\n",
    "\n",
    "In conclusion, through the successful completion of this project, we have laid the foundation for a more equitable, accurate, and inclusive powerlifting environment. By embracing computer vision, we have brought objectivity and precision to squat lift evaluation, empowering both powerlifters and competitions alike. The positive outcomes achieved through this endeavor will undoubtedly contribute to the continued growth and evolution of the sport, enhancing the experiences of athletes and elevating powerlifting to new heights of excellence."
   ]
  },
  {
   "cell_type": "markdown",
   "id": "1755c5a6-0028-41ee-a744-bb26b1d680c4",
   "metadata": {},
   "source": [
    "## Final Note:"
   ]
  },
  {
   "cell_type": "markdown",
   "id": "32518e80-6a6d-4b7d-b0d3-ef876591ad43",
   "metadata": {},
   "source": [
    "Do check out the full video on this [link](https://drive.google.com/file/d/1Q9MojaDPBIZS4p01j0CGFTfZqc8NoEH8/view?usp=sharing)."
   ]
  }
 ],
 "metadata": {
  "kernelspec": {
   "display_name": "Python 3 (ipykernel)",
   "language": "python",
   "name": "python3"
  },
  "language_info": {
   "codemirror_mode": {
    "name": "ipython",
    "version": 3
   },
   "file_extension": ".py",
   "mimetype": "text/x-python",
   "name": "python",
   "nbconvert_exporter": "python",
   "pygments_lexer": "ipython3",
   "version": "3.10.9"
  }
 },
 "nbformat": 4,
 "nbformat_minor": 5
}
