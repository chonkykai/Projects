{
 "cells": [
  {
   "cell_type": "markdown",
   "id": "b6a4ac82-af43-449f-8462-4a27601f28a7",
   "metadata": {},
   "source": [
    "# Currency Crystal Ball: Harnessing Machine Learning to Predict Country Currencies"
   ]
  },
  {
   "cell_type": "markdown",
   "id": "f7df7394-165b-4e8b-bc5b-e31614c990e5",
   "metadata": {},
   "source": [
    "## Preface"
   ]
  },
  {
   "cell_type": "markdown",
   "id": "9008a965-0c04-414d-b7c2-a4a2eaea79a2",
   "metadata": {},
   "source": [
    "Currency, as defined by [Investopedia](https://www.investopedia.com/terms/c/currency.asp), refers to the tangible form of money in the form of paper bills and coins. It serves as a medium of exchange, accepted at face value for goods and services, as well as for savings and debt payments. But how is the value of a currency determined?\n",
    "\n",
    "In many countries, the exchange rate of their currency is pegged to a widely used currency, such as the U.S. dollar. This practice, known as pegging, aims to maintain stability for investors. When a currency's value drops, it adversely affects the value of investments. However, while currencies are pegged for stability, it doesn't mean that their exchange rates are fixed. [Link](https://world101.cfr.org/global-era-issues/monetary-policy-and-currencies/understanding-currencies-and-exchange-rates)\n",
    "\n",
    "In fact, most exchange rates are \"floating,\" meaning they are constantly changing due to various economic factors. When a country's economy thrives, its currency appreciates, indicating a higher value. Conversely, when a country's economy faces challenges, its currency depreciates, resulting in a lower worth. [Link](https://world101.cfr.org/global-era-issues/monetary-policy-and-currencies/understanding-currencies-and-exchange-rates)\n",
    "\n",
    "As a result, the prediction of a country's currency holds significant importance across various domains:\n",
    "\n",
    "Economic planning benefits from currency prediction as it enables governments, central banks, and policymakers to devise effective strategies. This includes setting appropriate interest rates, making informed decisions regarding fiscal policies, and optimizing international trade.\n",
    "\n",
    "Investment decisions are empowered by currency prediction, allowing investors to assess the attractiveness of opportunities in different countries. By accurately forecasting currency movements, investors can make informed choices to maximize potential returns, allocate assets effectively, and manage risks.\n",
    "\n",
    "For tourism and travel, currency prediction plays a vital role. Travelers can plan and budget their trips effectively based on accurate forecasts, enhancing their overall travel experience by optimizing expenses.\n",
    "\n",
    "Maintaining global financial stability is another crucial aspect. Currency fluctuations can have significant ripple effects on global financial markets and economies. Accurate prediction of currency movements aids policymakers and financial institutions in identifying potential risks, averting crises, and upholding stability within the international financial system.\n",
    "\n",
    "By understanding and predicting country currencies, we can navigate the intricacies of the global economy, make informed decisions, and optimize outcomes across various sectors.\n",
    "\n",
    "According to a post by [ibanfirst](https://blog.ibanfirst.com/en/which-are-the-emerging-currencies-to-watch-out-for-in-asia) The Sing dollar (SGD), chinese yuan (CNY), thai baht (THB),  are currencies that are emerging in asia."
   ]
  },
  {
   "cell_type": "markdown",
   "id": "40b1cbe4-694a-4526-850a-d645dd34906d",
   "metadata": {},
   "source": [
    "## Aim"
   ]
  },
  {
   "cell_type": "markdown",
   "id": "0474e3b4-f393-4f8d-9298-32b39e857ace",
   "metadata": {},
   "source": [
    "The aim of this project is to analyze and gain insights on currency fluctuations of SGD, CNY and THB over time. In addtion, develop an accurate prediction model to predict the SGD dollar. By leveraging historical data, economic indicators, and advanced machine learning techniques, we aim to uncover underlying patterns and factors that influence currency value. The ultimate goal is to provide stakeholders with a reliable tool for making informed decisions in economic planning, investment strategies, and risk management."
   ]
  },
  {
   "cell_type": "markdown",
   "id": "38902630-5f46-47b0-8584-faaac5117a92",
   "metadata": {},
   "source": [
    "## Project workflow"
   ]
  },
  {
   "cell_type": "markdown",
   "id": "a31779d3-1bf1-4c01-865f-9031896b595e",
   "metadata": {},
   "source": [
    "1. Data visualization \n",
    "2. Base Machine Learning Modelling\n",
    "3. Machine Learning Improvements\n",
    "4. Discussions\n",
    "5. Future Works\n",
    "6. Conclusion"
   ]
  },
  {
   "cell_type": "markdown",
   "id": "178ae3ab-f602-4a06-a01c-8a8dc5494a83",
   "metadata": {},
   "source": [
    "## Data"
   ]
  },
  {
   "cell_type": "markdown",
   "id": "e178ed36-d5d4-4a58-9df8-c6bd08dde119",
   "metadata": {},
   "source": [
    "The data was collected from kaggle - [Dollar Vs Asian Currencies](https://www.kaggle.com/datasets/imtkaggleteam/dollar-vs-asian-currencies)"
   ]
  },
  {
   "cell_type": "code",
   "execution_count": 1,
   "id": "b04fbe63-6402-458a-8cf4-7041c7281985",
   "metadata": {},
   "outputs": [],
   "source": [
    "import numpy as np\n",
    "import pandas as pd\n",
    "\n",
    "import seaborn as sns\n",
    "import matplotlib.pyplot as plt"
   ]
  },
  {
   "cell_type": "code",
   "execution_count": 2,
   "id": "98934e86-5360-4404-afd4-b6d32c2a74f4",
   "metadata": {},
   "outputs": [],
   "source": [
    "# summary creation\n",
    "def summary(df):\n",
    "    #show all columns\n",
    "    pd.set_option('display.max_rows', None)\n",
    "    \n",
    "    #shows number of columns and rows\n",
    "    shape = df.shape\n",
    "    print('='*80)\n",
    "    print('Shape of dataframe')\n",
    "    print(shape)\n",
    "    \n",
    "    #checking for null values\n",
    "    null_val = df.isnull().sum().sort_values(ascending=False)\n",
    "    print('='*80)\n",
    "    indicator = False\n",
    "    print('Missing values distribution (%):')\n",
    "    null_val = df.isnull().mean().sort_values(ascending=False)*100\n",
    "    for i in range(len(null_val)):\n",
    "        if (null_val[i] != 0):\n",
    "            print(f'{null_val.index[i]}: {null_val[i]:.4f}')\n",
    "            indicator = True\n",
    "        if null_val[i] == 0:\n",
    "            continue\n",
    "    if indicator == False:\n",
    "        print('no null values (ﾉ^_^)ﾉ')\n",
    "    print('='*80)\n",
    "    # print('Columns with duplicate values')\n",
    "    # duplicated = df[df.duplicated()]\n",
    "    # if duplicated.size > 0:\n",
    "    #     print (duplicated)\n",
    "    # else: \n",
    "    #     print('No duplicated rows ๑(◕‿◕)๑')\n",
    "    # print('='*80)\n",
    "    \n",
    "    #checking datatype in each column\n",
    "    print('Column datatypes: ')\n",
    "    print(df.dtypes)"
   ]
  },
  {
   "cell_type": "markdown",
   "id": "ac54cade-64a9-49d5-9cf9-340466269e44",
   "metadata": {},
   "source": [
    "## Read CSV"
   ]
  },
  {
   "cell_type": "code",
   "execution_count": 3,
   "id": "af78a3d8-7c76-4400-ab41-cc9528faff3b",
   "metadata": {},
   "outputs": [],
   "source": [
    "pd.set_option('display.max_columns', None)\n",
    "df = pd.read_csv('./dataset/Dollar-Exchange.csv')"
   ]
  },
  {
   "cell_type": "markdown",
   "id": "92266ce9-cbd6-40ad-9693-a227c581c6b7",
   "metadata": {},
   "source": [
    "### Displaying table of 37 currencies to 1 usd"
   ]
  },
  {
   "cell_type": "code",
   "execution_count": 4,
   "id": "2647fa0d-c303-464d-8438-5d073983f42f",
   "metadata": {},
   "outputs": [
    {
     "data": {
      "text/html": [
       "<div>\n",
       "<style scoped>\n",
       "    .dataframe tbody tr th:only-of-type {\n",
       "        vertical-align: middle;\n",
       "    }\n",
       "\n",
       "    .dataframe tbody tr th {\n",
       "        vertical-align: top;\n",
       "    }\n",
       "\n",
       "    .dataframe thead th {\n",
       "        text-align: right;\n",
       "    }\n",
       "</style>\n",
       "<table border=\"1\" class=\"dataframe\">\n",
       "  <thead>\n",
       "    <tr style=\"text-align: right;\">\n",
       "      <th></th>\n",
       "      <th>Date</th>\n",
       "      <th>CNY=X</th>\n",
       "      <th>OMR=X</th>\n",
       "      <th>IRR=X</th>\n",
       "      <th>THB=X</th>\n",
       "      <th>SYP=X</th>\n",
       "      <th>MYR=X</th>\n",
       "      <th>YER=X</th>\n",
       "      <th>VND=X</th>\n",
       "      <th>ILS=X</th>\n",
       "      <th>JPY=X</th>\n",
       "      <th>LKR=X</th>\n",
       "      <th>IQD=X</th>\n",
       "      <th>PKR=X</th>\n",
       "      <th>KWD=X</th>\n",
       "      <th>KHR=X</th>\n",
       "      <th>UZS=X</th>\n",
       "      <th>SGD=X</th>\n",
       "      <th>INR=X</th>\n",
       "      <th>BDT=X</th>\n",
       "      <th>PHP=X</th>\n",
       "      <th>JOD=X</th>\n",
       "      <th>LAK=X</th>\n",
       "      <th>IDR=X</th>\n",
       "      <th>KRW=X</th>\n",
       "      <th>KZT=X</th>\n",
       "      <th>AED=X</th>\n",
       "      <th>BHD=X</th>\n",
       "      <th>LBP=X</th>\n",
       "      <th>TRY=X</th>\n",
       "      <th>TMT=X</th>\n",
       "      <th>SAR=X</th>\n",
       "      <th>MVR=X</th>\n",
       "      <th>QAR=X</th>\n",
       "      <th>MMK=X</th>\n",
       "      <th>NPR=X</th>\n",
       "      <th>BND=X</th>\n",
       "      <th>AFN=X</th>\n",
       "    </tr>\n",
       "  </thead>\n",
       "  <tbody>\n",
       "    <tr>\n",
       "      <th>0</th>\n",
       "      <td>1/1/2004</td>\n",
       "      <td>NaN</td>\n",
       "      <td>0.38</td>\n",
       "      <td>NaN</td>\n",
       "      <td>39.24</td>\n",
       "      <td>NaN</td>\n",
       "      <td>3.81</td>\n",
       "      <td>NaN</td>\n",
       "      <td>NaN</td>\n",
       "      <td>4.38</td>\n",
       "      <td>107.30</td>\n",
       "      <td>96.65</td>\n",
       "      <td>NaN</td>\n",
       "      <td>57.30</td>\n",
       "      <td>0.29</td>\n",
       "      <td>NaN</td>\n",
       "      <td>NaN</td>\n",
       "      <td>1.7</td>\n",
       "      <td>45.53</td>\n",
       "      <td>NaN</td>\n",
       "      <td>55.24</td>\n",
       "      <td>0.71</td>\n",
       "      <td>NaN</td>\n",
       "      <td>8336.8</td>\n",
       "      <td>1181.6</td>\n",
       "      <td>NaN</td>\n",
       "      <td>3.67</td>\n",
       "      <td>0.38</td>\n",
       "      <td>NaN</td>\n",
       "      <td>NaN</td>\n",
       "      <td>NaN</td>\n",
       "      <td>3.75</td>\n",
       "      <td>NaN</td>\n",
       "      <td>3.64</td>\n",
       "      <td>NaN</td>\n",
       "      <td>NaN</td>\n",
       "      <td>1.69</td>\n",
       "      <td>NaN</td>\n",
       "    </tr>\n",
       "    <tr>\n",
       "      <th>1</th>\n",
       "      <td>1/2/2004</td>\n",
       "      <td>8.27</td>\n",
       "      <td>0.38</td>\n",
       "      <td>8236.2</td>\n",
       "      <td>39.53</td>\n",
       "      <td>47.23</td>\n",
       "      <td>3.80</td>\n",
       "      <td>NaN</td>\n",
       "      <td>15147.0</td>\n",
       "      <td>4.40</td>\n",
       "      <td>106.91</td>\n",
       "      <td>97.04</td>\n",
       "      <td>0.3</td>\n",
       "      <td>57.10</td>\n",
       "      <td>0.29</td>\n",
       "      <td>3854.1</td>\n",
       "      <td>NaN</td>\n",
       "      <td>1.7</td>\n",
       "      <td>45.60</td>\n",
       "      <td>57.22</td>\n",
       "      <td>55.40</td>\n",
       "      <td>0.70</td>\n",
       "      <td>7645.7</td>\n",
       "      <td>8445.4</td>\n",
       "      <td>1195.8</td>\n",
       "      <td>168.48</td>\n",
       "      <td>3.67</td>\n",
       "      <td>0.38</td>\n",
       "      <td>1474.1</td>\n",
       "      <td>NaN</td>\n",
       "      <td>NaN</td>\n",
       "      <td>3.75</td>\n",
       "      <td>NaN</td>\n",
       "      <td>3.64</td>\n",
       "      <td>6.18</td>\n",
       "      <td>70.60</td>\n",
       "      <td>1.68</td>\n",
       "      <td>NaN</td>\n",
       "    </tr>\n",
       "    <tr>\n",
       "      <th>2</th>\n",
       "      <td>1/5/2004</td>\n",
       "      <td>8.27</td>\n",
       "      <td>0.38</td>\n",
       "      <td>8731.5</td>\n",
       "      <td>39.26</td>\n",
       "      <td>47.25</td>\n",
       "      <td>3.80</td>\n",
       "      <td>NaN</td>\n",
       "      <td>15148.0</td>\n",
       "      <td>4.37</td>\n",
       "      <td>106.24</td>\n",
       "      <td>97.25</td>\n",
       "      <td>0.3</td>\n",
       "      <td>57.10</td>\n",
       "      <td>0.29</td>\n",
       "      <td>3855.0</td>\n",
       "      <td>NaN</td>\n",
       "      <td>1.7</td>\n",
       "      <td>45.47</td>\n",
       "      <td>57.23</td>\n",
       "      <td>55.29</td>\n",
       "      <td>0.71</td>\n",
       "      <td>7643.7</td>\n",
       "      <td>8369.8</td>\n",
       "      <td>1178.9</td>\n",
       "      <td>168.02</td>\n",
       "      <td>3.67</td>\n",
       "      <td>0.38</td>\n",
       "      <td>1474.6</td>\n",
       "      <td>NaN</td>\n",
       "      <td>NaN</td>\n",
       "      <td>3.75</td>\n",
       "      <td>NaN</td>\n",
       "      <td>3.64</td>\n",
       "      <td>6.18</td>\n",
       "      <td>70.62</td>\n",
       "      <td>1.68</td>\n",
       "      <td>NaN</td>\n",
       "    </tr>\n",
       "    <tr>\n",
       "      <th>3</th>\n",
       "      <td>1/6/2004</td>\n",
       "      <td>8.27</td>\n",
       "      <td>0.38</td>\n",
       "      <td>8724.7</td>\n",
       "      <td>39.03</td>\n",
       "      <td>47.21</td>\n",
       "      <td>3.80</td>\n",
       "      <td>NaN</td>\n",
       "      <td>15150.0</td>\n",
       "      <td>4.37</td>\n",
       "      <td>106.23</td>\n",
       "      <td>97.50</td>\n",
       "      <td>0.3</td>\n",
       "      <td>57.10</td>\n",
       "      <td>0.29</td>\n",
       "      <td>3852.8</td>\n",
       "      <td>NaN</td>\n",
       "      <td>1.7</td>\n",
       "      <td>45.55</td>\n",
       "      <td>56.92</td>\n",
       "      <td>54.85</td>\n",
       "      <td>0.71</td>\n",
       "      <td>7639.0</td>\n",
       "      <td>8361.8</td>\n",
       "      <td>1189.4</td>\n",
       "      <td>167.55</td>\n",
       "      <td>3.67</td>\n",
       "      <td>0.38</td>\n",
       "      <td>1473.8</td>\n",
       "      <td>NaN</td>\n",
       "      <td>NaN</td>\n",
       "      <td>3.75</td>\n",
       "      <td>NaN</td>\n",
       "      <td>3.64</td>\n",
       "      <td>6.18</td>\n",
       "      <td>70.58</td>\n",
       "      <td>1.68</td>\n",
       "      <td>NaN</td>\n",
       "    </tr>\n",
       "    <tr>\n",
       "      <th>4</th>\n",
       "      <td>1/7/2004</td>\n",
       "      <td>8.27</td>\n",
       "      <td>0.38</td>\n",
       "      <td>8728.7</td>\n",
       "      <td>38.97</td>\n",
       "      <td>47.22</td>\n",
       "      <td>3.81</td>\n",
       "      <td>NaN</td>\n",
       "      <td>15153.0</td>\n",
       "      <td>4.39</td>\n",
       "      <td>106.18</td>\n",
       "      <td>97.50</td>\n",
       "      <td>0.3</td>\n",
       "      <td>57.35</td>\n",
       "      <td>0.29</td>\n",
       "      <td>3853.9</td>\n",
       "      <td>NaN</td>\n",
       "      <td>1.7</td>\n",
       "      <td>45.39</td>\n",
       "      <td>57.24</td>\n",
       "      <td>54.91</td>\n",
       "      <td>0.71</td>\n",
       "      <td>7641.5</td>\n",
       "      <td>8369.3</td>\n",
       "      <td>1176.8</td>\n",
       "      <td>167.43</td>\n",
       "      <td>3.67</td>\n",
       "      <td>0.38</td>\n",
       "      <td>1474.3</td>\n",
       "      <td>NaN</td>\n",
       "      <td>NaN</td>\n",
       "      <td>3.75</td>\n",
       "      <td>NaN</td>\n",
       "      <td>3.64</td>\n",
       "      <td>6.18</td>\n",
       "      <td>70.60</td>\n",
       "      <td>1.68</td>\n",
       "      <td>NaN</td>\n",
       "    </tr>\n",
       "  </tbody>\n",
       "</table>\n",
       "</div>"
      ],
      "text/plain": [
       "       Date  CNY=X  OMR=X   IRR=X  THB=X  SYP=X  MYR=X  YER=X    VND=X  ILS=X  \\\n",
       "0  1/1/2004    NaN   0.38     NaN  39.24    NaN   3.81    NaN      NaN   4.38   \n",
       "1  1/2/2004   8.27   0.38  8236.2  39.53  47.23   3.80    NaN  15147.0   4.40   \n",
       "2  1/5/2004   8.27   0.38  8731.5  39.26  47.25   3.80    NaN  15148.0   4.37   \n",
       "3  1/6/2004   8.27   0.38  8724.7  39.03  47.21   3.80    NaN  15150.0   4.37   \n",
       "4  1/7/2004   8.27   0.38  8728.7  38.97  47.22   3.81    NaN  15153.0   4.39   \n",
       "\n",
       "    JPY=X  LKR=X  IQD=X  PKR=X  KWD=X   KHR=X  UZS=X  SGD=X  INR=X  BDT=X  \\\n",
       "0  107.30  96.65    NaN  57.30   0.29     NaN    NaN    1.7  45.53    NaN   \n",
       "1  106.91  97.04    0.3  57.10   0.29  3854.1    NaN    1.7  45.60  57.22   \n",
       "2  106.24  97.25    0.3  57.10   0.29  3855.0    NaN    1.7  45.47  57.23   \n",
       "3  106.23  97.50    0.3  57.10   0.29  3852.8    NaN    1.7  45.55  56.92   \n",
       "4  106.18  97.50    0.3  57.35   0.29  3853.9    NaN    1.7  45.39  57.24   \n",
       "\n",
       "   PHP=X  JOD=X   LAK=X   IDR=X   KRW=X   KZT=X  AED=X  BHD=X   LBP=X  TRY=X  \\\n",
       "0  55.24   0.71     NaN  8336.8  1181.6     NaN   3.67   0.38     NaN    NaN   \n",
       "1  55.40   0.70  7645.7  8445.4  1195.8  168.48   3.67   0.38  1474.1    NaN   \n",
       "2  55.29   0.71  7643.7  8369.8  1178.9  168.02   3.67   0.38  1474.6    NaN   \n",
       "3  54.85   0.71  7639.0  8361.8  1189.4  167.55   3.67   0.38  1473.8    NaN   \n",
       "4  54.91   0.71  7641.5  8369.3  1176.8  167.43   3.67   0.38  1474.3    NaN   \n",
       "\n",
       "   TMT=X  SAR=X  MVR=X  QAR=X  MMK=X  NPR=X  BND=X  AFN=X  \n",
       "0    NaN   3.75    NaN   3.64    NaN    NaN   1.69    NaN  \n",
       "1    NaN   3.75    NaN   3.64   6.18  70.60   1.68    NaN  \n",
       "2    NaN   3.75    NaN   3.64   6.18  70.62   1.68    NaN  \n",
       "3    NaN   3.75    NaN   3.64   6.18  70.58   1.68    NaN  \n",
       "4    NaN   3.75    NaN   3.64   6.18  70.60   1.68    NaN  "
      ]
     },
     "execution_count": 4,
     "metadata": {},
     "output_type": "execute_result"
    }
   ],
   "source": [
    "df.head()"
   ]
  },
  {
   "cell_type": "code",
   "execution_count": 5,
   "id": "c4fd1b63-f8e6-4132-8b11-ec4dae8abeca",
   "metadata": {},
   "outputs": [
    {
     "data": {
      "text/plain": [
       "(4956, 38)"
      ]
     },
     "execution_count": 5,
     "metadata": {},
     "output_type": "execute_result"
    }
   ],
   "source": [
    "df.shape"
   ]
  },
  {
   "cell_type": "markdown",
   "id": "6041552f-2e0b-4f34-b97f-c49f49975534",
   "metadata": {},
   "source": [
    "## Data Cleaning"
   ]
  },
  {
   "cell_type": "markdown",
   "id": "eaec48a8-624d-4032-bfe9-42d6deba2ca4",
   "metadata": {},
   "source": [
    "Observed that there are '=X' in all of the columns.\n",
    "\n",
    "Strategy: Rename all columns to remove '=X' in their names"
   ]
  },
  {
   "cell_type": "code",
   "execution_count": 6,
   "id": "3794130e-5093-42d5-8e90-554589a9f618",
   "metadata": {},
   "outputs": [
    {
     "data": {
      "text/plain": [
       "Index(['Date', 'CNY=X', 'OMR=X', 'IRR=X', 'THB=X', 'SYP=X', 'MYR=X', 'YER=X',\n",
       "       'VND=X', 'ILS=X', 'JPY=X', 'LKR=X', 'IQD=X', 'PKR=X', 'KWD=X', 'KHR=X',\n",
       "       'UZS=X', 'SGD=X', 'INR=X', 'BDT=X', 'PHP=X', 'JOD=X', 'LAK=X', 'IDR=X',\n",
       "       'KRW=X', 'KZT=X', 'AED=X', 'BHD=X', 'LBP=X', 'TRY=X', 'TMT=X', 'SAR=X',\n",
       "       'MVR=X', 'QAR=X', 'MMK=X', 'NPR=X', 'BND=X', 'AFN=X'],\n",
       "      dtype='object')"
      ]
     },
     "execution_count": 6,
     "metadata": {},
     "output_type": "execute_result"
    }
   ],
   "source": [
    "df.columns"
   ]
  },
  {
   "cell_type": "code",
   "execution_count": 7,
   "id": "a75da182-f56d-4944-b130-5bf277c73a45",
   "metadata": {},
   "outputs": [],
   "source": [
    "df.rename(columns={\"CNY=X\": \"CNY\", \"OMR=X\": \"OMR\", \"IRR=X\": \"IRR\",\n",
    "                  \"THB=X\": \"THB\", \"SYP=X\": \"SYP\", \"MYR=X\": \"MYR\",\n",
    "                  \"YER=X\": \"YER\", \"VND=X\": \"VND\", \"ILS=X\": \"ILS\",\n",
    "                  \"IQD=X\": \"IQD\", \"PKR=X\": \"PKR\", \"KWD=X\": \"KWD\",\n",
    "                  \"KHR=X\": \"KHR\", \"UZS=X\": \"UZS\", \"INR=X\": \"INR\",\n",
    "                  \"LAK=X\": \"LAK\", \"IDR=X\": \"IDR\", \"KRW=X\": \"KRW\",\n",
    "                  \"KZT=X\": \"KZT\", \"AED=X\": \"AED\", \"BHD=X\": \"BHD\",\n",
    "                  \"LBP=X\": \"LBP\", \"TRY=X\": \"TRY\", \"TMT=X\": \"TMT\",\n",
    "                  \"SAR=X\": \"SAR\", \"MVR=X\": \"MVR\", \"QAR=X\": \"QAR\",\n",
    "                  \"MMK=X\": \"MMK\", \"NPR=X\": \"NPR\", \"BND=X\": \"BND\",\n",
    "                   \"JPY=X\": \"JPY\", \"LKR=X\": \"LKR\", \"BDT=X\": \"BDT\",\n",
    "                   \"PHP=X\": \"PHP\", \"JOD=X\": \"JOD\", \"BND=X\": \"BND\",\n",
    "                   \"AFN=X\": \"AFN\", \"SGD=X\": \"SGD\"}, inplace=True)"
   ]
  },
  {
   "cell_type": "markdown",
   "id": "570bd2fa-53e1-4134-ac1e-d113ed10cb3a",
   "metadata": {},
   "source": [
    "Remarks: Columns has been renamed"
   ]
  },
  {
   "cell_type": "markdown",
   "id": "cdb5a2fa-51db-4d20-9eb5-18205339f17d",
   "metadata": {},
   "source": [
    "### Convert 'Date' column to datetime format"
   ]
  },
  {
   "cell_type": "code",
   "execution_count": 8,
   "id": "2d699bcd-d223-4f83-9063-f0d62d14c574",
   "metadata": {},
   "outputs": [],
   "source": [
    "df['Date'] = pd.to_datetime(df['Date'])"
   ]
  },
  {
   "cell_type": "code",
   "execution_count": 9,
   "id": "335fedc9-a753-4c1d-9c3e-fc3832c2faf3",
   "metadata": {},
   "outputs": [
    {
     "name": "stdout",
     "output_type": "stream",
     "text": [
      "<class 'pandas.core.series.Series'>\n",
      "RangeIndex: 4956 entries, 0 to 4955\n",
      "Series name: Date\n",
      "Non-Null Count  Dtype         \n",
      "--------------  -----         \n",
      "4956 non-null   datetime64[ns]\n",
      "dtypes: datetime64[ns](1)\n",
      "memory usage: 38.8 KB\n"
     ]
    }
   ],
   "source": [
    "df['Date'].info()"
   ]
  },
  {
   "cell_type": "code",
   "execution_count": 10,
   "id": "1e0dac30-5da6-4d48-948e-b71e734a54c3",
   "metadata": {
    "scrolled": true,
    "tags": []
   },
   "outputs": [
    {
     "name": "stdout",
     "output_type": "stream",
     "text": [
      "================================================================================\n",
      "Shape of dataframe\n",
      "(4956, 38)\n",
      "================================================================================\n",
      "Missing values distribution (%):\n",
      "AFN: 40.7789\n",
      "SYP: 34.4835\n",
      "TMT: 31.0129\n",
      "IRR: 16.4447\n",
      "MVR: 8.1921\n",
      "UZS: 7.3043\n",
      "TRY: 5.5690\n",
      "YER: 4.6408\n",
      "PKR: 0.8878\n",
      "KHR: 0.8878\n",
      "NPR: 0.7667\n",
      "LBP: 0.7466\n",
      "KZT: 0.7466\n",
      "LKR: 0.7062\n",
      "KWD: 0.7062\n",
      "PHP: 0.6860\n",
      "SAR: 0.6659\n",
      "BND: 0.6659\n",
      "INR: 0.6255\n",
      "KRW: 0.6053\n",
      "ILS: 0.6053\n",
      "THB: 0.5851\n",
      "IDR: 0.5650\n",
      "JPY: 0.5650\n",
      "LAK: 0.4439\n",
      "IQD: 0.4439\n",
      "MMK: 0.4237\n",
      "SGD: 0.3228\n",
      "CNY: 0.3027\n",
      "QAR: 0.2623\n",
      "BDT: 0.2623\n",
      "BHD: 0.2421\n",
      "AED: 0.2421\n",
      "OMR: 0.2018\n",
      "MYR: 0.1614\n",
      "VND: 0.1412\n",
      "JOD: 0.0807\n",
      "================================================================================\n",
      "Column datatypes: \n",
      "Date    datetime64[ns]\n",
      "CNY            float64\n",
      "OMR            float64\n",
      "IRR            float64\n",
      "THB            float64\n",
      "SYP            float64\n",
      "MYR            float64\n",
      "YER            float64\n",
      "VND            float64\n",
      "ILS            float64\n",
      "JPY            float64\n",
      "LKR            float64\n",
      "IQD            float64\n",
      "PKR            float64\n",
      "KWD            float64\n",
      "KHR            float64\n",
      "UZS            float64\n",
      "SGD            float64\n",
      "INR            float64\n",
      "BDT            float64\n",
      "PHP            float64\n",
      "JOD            float64\n",
      "LAK            float64\n",
      "IDR            float64\n",
      "KRW            float64\n",
      "KZT            float64\n",
      "AED            float64\n",
      "BHD            float64\n",
      "LBP            float64\n",
      "TRY            float64\n",
      "TMT            float64\n",
      "SAR            float64\n",
      "MVR            float64\n",
      "QAR            float64\n",
      "MMK            float64\n",
      "NPR            float64\n",
      "BND            float64\n",
      "AFN            float64\n",
      "dtype: object\n"
     ]
    }
   ],
   "source": [
    "summary(df)"
   ]
  },
  {
   "cell_type": "markdown",
   "id": "ccd41352-1aec-45b8-8a58-f3b62cff444d",
   "metadata": {},
   "source": [
    "This summary shows the amount of missing data in dataframe and data type of each columns.\n",
    "\n",
    "It is observed that there are a lot of missing values. The next section is to tackle these missing values. \n",
    "\n",
    "The strategy:\n",
    "1. Fill <5% missing data with mean values\n",
    "2. Interpolate missing >5% and <20% data\n",
    "3. Drop data that are >30%"
   ]
  },
  {
   "cell_type": "markdown",
   "id": "97d18ad0-2baa-45b3-9557-ca46f104dac7",
   "metadata": {},
   "source": [
    "### Tackling missing datas"
   ]
  },
  {
   "cell_type": "code",
   "execution_count": 11,
   "id": "a62b1747-53c3-44dc-8159-4fd53807e75b",
   "metadata": {},
   "outputs": [
    {
     "data": {
      "text/html": [
       "<div>\n",
       "<style scoped>\n",
       "    .dataframe tbody tr th:only-of-type {\n",
       "        vertical-align: middle;\n",
       "    }\n",
       "\n",
       "    .dataframe tbody tr th {\n",
       "        vertical-align: top;\n",
       "    }\n",
       "\n",
       "    .dataframe thead th {\n",
       "        text-align: right;\n",
       "    }\n",
       "</style>\n",
       "<table border=\"1\" class=\"dataframe\">\n",
       "  <thead>\n",
       "    <tr style=\"text-align: right;\">\n",
       "      <th></th>\n",
       "      <th>Date</th>\n",
       "      <th>CNY</th>\n",
       "      <th>OMR</th>\n",
       "      <th>IRR</th>\n",
       "      <th>THB</th>\n",
       "      <th>SYP</th>\n",
       "      <th>MYR</th>\n",
       "      <th>YER</th>\n",
       "      <th>VND</th>\n",
       "      <th>ILS</th>\n",
       "      <th>JPY</th>\n",
       "      <th>LKR</th>\n",
       "      <th>IQD</th>\n",
       "      <th>PKR</th>\n",
       "      <th>KWD</th>\n",
       "      <th>KHR</th>\n",
       "      <th>UZS</th>\n",
       "      <th>SGD</th>\n",
       "      <th>INR</th>\n",
       "      <th>BDT</th>\n",
       "      <th>PHP</th>\n",
       "      <th>JOD</th>\n",
       "      <th>LAK</th>\n",
       "      <th>IDR</th>\n",
       "      <th>KRW</th>\n",
       "      <th>KZT</th>\n",
       "      <th>AED</th>\n",
       "      <th>BHD</th>\n",
       "      <th>LBP</th>\n",
       "      <th>TRY</th>\n",
       "      <th>TMT</th>\n",
       "      <th>SAR</th>\n",
       "      <th>MVR</th>\n",
       "      <th>QAR</th>\n",
       "      <th>MMK</th>\n",
       "      <th>NPR</th>\n",
       "      <th>BND</th>\n",
       "      <th>AFN</th>\n",
       "    </tr>\n",
       "  </thead>\n",
       "  <tbody>\n",
       "    <tr>\n",
       "      <th>72</th>\n",
       "      <td>2004-04-12</td>\n",
       "      <td>NaN</td>\n",
       "      <td>NaN</td>\n",
       "      <td>NaN</td>\n",
       "      <td>39.09</td>\n",
       "      <td>NaN</td>\n",
       "      <td>3.80</td>\n",
       "      <td>NaN</td>\n",
       "      <td>NaN</td>\n",
       "      <td>4.50</td>\n",
       "      <td>105.35</td>\n",
       "      <td>NaN</td>\n",
       "      <td>NaN</td>\n",
       "      <td>NaN</td>\n",
       "      <td>NaN</td>\n",
       "      <td>NaN</td>\n",
       "      <td>NaN</td>\n",
       "      <td>NaN</td>\n",
       "      <td>NaN</td>\n",
       "      <td>NaN</td>\n",
       "      <td>NaN</td>\n",
       "      <td>NaN</td>\n",
       "      <td>NaN</td>\n",
       "      <td>8601.8</td>\n",
       "      <td>1135.0</td>\n",
       "      <td>NaN</td>\n",
       "      <td>NaN</td>\n",
       "      <td>NaN</td>\n",
       "      <td>NaN</td>\n",
       "      <td>NaN</td>\n",
       "      <td>NaN</td>\n",
       "      <td>NaN</td>\n",
       "      <td>NaN</td>\n",
       "      <td>NaN</td>\n",
       "      <td>NaN</td>\n",
       "      <td>NaN</td>\n",
       "      <td>1.67</td>\n",
       "      <td>NaN</td>\n",
       "    </tr>\n",
       "    <tr>\n",
       "      <th>1561</th>\n",
       "      <td>2009-12-25</td>\n",
       "      <td>NaN</td>\n",
       "      <td>NaN</td>\n",
       "      <td>NaN</td>\n",
       "      <td>32.79</td>\n",
       "      <td>NaN</td>\n",
       "      <td>3.38</td>\n",
       "      <td>NaN</td>\n",
       "      <td>NaN</td>\n",
       "      <td>3.79</td>\n",
       "      <td>91.11</td>\n",
       "      <td>NaN</td>\n",
       "      <td>NaN</td>\n",
       "      <td>NaN</td>\n",
       "      <td>NaN</td>\n",
       "      <td>NaN</td>\n",
       "      <td>NaN</td>\n",
       "      <td>1.41</td>\n",
       "      <td>NaN</td>\n",
       "      <td>NaN</td>\n",
       "      <td>NaN</td>\n",
       "      <td>NaN</td>\n",
       "      <td>NaN</td>\n",
       "      <td>9431.9</td>\n",
       "      <td>1154.7</td>\n",
       "      <td>NaN</td>\n",
       "      <td>NaN</td>\n",
       "      <td>NaN</td>\n",
       "      <td>NaN</td>\n",
       "      <td>NaN</td>\n",
       "      <td>NaN</td>\n",
       "      <td>3.75</td>\n",
       "      <td>NaN</td>\n",
       "      <td>NaN</td>\n",
       "      <td>818.0</td>\n",
       "      <td>NaN</td>\n",
       "      <td>NaN</td>\n",
       "      <td>NaN</td>\n",
       "    </tr>\n",
       "    <tr>\n",
       "      <th>1566</th>\n",
       "      <td>2010-01-01</td>\n",
       "      <td>NaN</td>\n",
       "      <td>NaN</td>\n",
       "      <td>NaN</td>\n",
       "      <td>32.78</td>\n",
       "      <td>NaN</td>\n",
       "      <td>3.37</td>\n",
       "      <td>NaN</td>\n",
       "      <td>NaN</td>\n",
       "      <td>3.78</td>\n",
       "      <td>92.92</td>\n",
       "      <td>NaN</td>\n",
       "      <td>NaN</td>\n",
       "      <td>NaN</td>\n",
       "      <td>NaN</td>\n",
       "      <td>NaN</td>\n",
       "      <td>NaN</td>\n",
       "      <td>1.40</td>\n",
       "      <td>46.61</td>\n",
       "      <td>NaN</td>\n",
       "      <td>NaN</td>\n",
       "      <td>NaN</td>\n",
       "      <td>NaN</td>\n",
       "      <td>9385.6</td>\n",
       "      <td>1146.0</td>\n",
       "      <td>NaN</td>\n",
       "      <td>NaN</td>\n",
       "      <td>NaN</td>\n",
       "      <td>NaN</td>\n",
       "      <td>NaN</td>\n",
       "      <td>NaN</td>\n",
       "      <td>NaN</td>\n",
       "      <td>NaN</td>\n",
       "      <td>NaN</td>\n",
       "      <td>NaN</td>\n",
       "      <td>NaN</td>\n",
       "      <td>NaN</td>\n",
       "      <td>NaN</td>\n",
       "    </tr>\n",
       "    <tr>\n",
       "      <th>4135</th>\n",
       "      <td>2019-11-08</td>\n",
       "      <td>NaN</td>\n",
       "      <td>0.38</td>\n",
       "      <td>42000.0</td>\n",
       "      <td>30.41</td>\n",
       "      <td>514.0</td>\n",
       "      <td>NaN</td>\n",
       "      <td>NaN</td>\n",
       "      <td>23207.0</td>\n",
       "      <td>3.50</td>\n",
       "      <td>109.27</td>\n",
       "      <td>177.73</td>\n",
       "      <td>1187.0</td>\n",
       "      <td>155.3</td>\n",
       "      <td>NaN</td>\n",
       "      <td>4055.0</td>\n",
       "      <td>9420.0</td>\n",
       "      <td>1.36</td>\n",
       "      <td>71.38</td>\n",
       "      <td>83.14</td>\n",
       "      <td>50.55</td>\n",
       "      <td>NaN</td>\n",
       "      <td>8835.0</td>\n",
       "      <td>14013.0</td>\n",
       "      <td>1158.6</td>\n",
       "      <td>385.75</td>\n",
       "      <td>NaN</td>\n",
       "      <td>0.37</td>\n",
       "      <td>1506.56</td>\n",
       "      <td>5.77</td>\n",
       "      <td>NaN</td>\n",
       "      <td>NaN</td>\n",
       "      <td>NaN</td>\n",
       "      <td>3.64</td>\n",
       "      <td>1499.0</td>\n",
       "      <td>111.98</td>\n",
       "      <td>1.34</td>\n",
       "      <td>78.0</td>\n",
       "    </tr>\n",
       "  </tbody>\n",
       "</table>\n",
       "</div>"
      ],
      "text/plain": [
       "           Date  CNY   OMR      IRR    THB    SYP   MYR  YER      VND   ILS  \\\n",
       "72   2004-04-12  NaN   NaN      NaN  39.09    NaN  3.80  NaN      NaN  4.50   \n",
       "1561 2009-12-25  NaN   NaN      NaN  32.79    NaN  3.38  NaN      NaN  3.79   \n",
       "1566 2010-01-01  NaN   NaN      NaN  32.78    NaN  3.37  NaN      NaN  3.78   \n",
       "4135 2019-11-08  NaN  0.38  42000.0  30.41  514.0   NaN  NaN  23207.0  3.50   \n",
       "\n",
       "         JPY     LKR     IQD    PKR  KWD     KHR     UZS   SGD    INR    BDT  \\\n",
       "72    105.35     NaN     NaN    NaN  NaN     NaN     NaN   NaN    NaN    NaN   \n",
       "1561   91.11     NaN     NaN    NaN  NaN     NaN     NaN  1.41    NaN    NaN   \n",
       "1566   92.92     NaN     NaN    NaN  NaN     NaN     NaN  1.40  46.61    NaN   \n",
       "4135  109.27  177.73  1187.0  155.3  NaN  4055.0  9420.0  1.36  71.38  83.14   \n",
       "\n",
       "        PHP  JOD     LAK      IDR     KRW     KZT  AED   BHD      LBP   TRY  \\\n",
       "72      NaN  NaN     NaN   8601.8  1135.0     NaN  NaN   NaN      NaN   NaN   \n",
       "1561    NaN  NaN     NaN   9431.9  1154.7     NaN  NaN   NaN      NaN   NaN   \n",
       "1566    NaN  NaN     NaN   9385.6  1146.0     NaN  NaN   NaN      NaN   NaN   \n",
       "4135  50.55  NaN  8835.0  14013.0  1158.6  385.75  NaN  0.37  1506.56  5.77   \n",
       "\n",
       "      TMT   SAR  MVR   QAR     MMK     NPR   BND   AFN  \n",
       "72    NaN   NaN  NaN   NaN     NaN     NaN  1.67   NaN  \n",
       "1561  NaN  3.75  NaN   NaN   818.0     NaN   NaN   NaN  \n",
       "1566  NaN   NaN  NaN   NaN     NaN     NaN   NaN   NaN  \n",
       "4135  NaN   NaN  NaN  3.64  1499.0  111.98  1.34  78.0  "
      ]
     },
     "execution_count": 11,
     "metadata": {},
     "output_type": "execute_result"
    }
   ],
   "source": [
    "df[df['JOD'].isna()].head()"
   ]
  },
  {
   "cell_type": "code",
   "execution_count": 12,
   "id": "8dfdca6f-e10e-4f74-a1ea-bd5d717ec1c8",
   "metadata": {},
   "outputs": [
    {
     "data": {
      "text/plain": [
       "0    0.71\n",
       "1    0.70\n",
       "2    0.71\n",
       "3    0.71\n",
       "4    0.71\n",
       "Name: JOD, dtype: float64"
      ]
     },
     "execution_count": 12,
     "metadata": {},
     "output_type": "execute_result"
    }
   ],
   "source": [
    "df['JOD'].head()"
   ]
  },
  {
   "cell_type": "code",
   "execution_count": 13,
   "id": "5938f25c-a153-4b5f-bad6-31e8b5bbfb7f",
   "metadata": {},
   "outputs": [
    {
     "data": {
      "image/png": "[encoded data removed]",
      "text/plain": [
       "<Figure size 720x288 with 1 Axes>"
      ]
     },
     "metadata": {
      "needs_background": "light"
     },
     "output_type": "display_data"
    }
   ],
   "source": [
    "plt.figure(figsize=(10,4))\n",
    "sns.lineplot(y = df['JOD'].isna(), x = df['Date'])\n",
    "plt.title(label = 'Mising Data in JOD', fontsize=18)\n",
    "plt.show();"
   ]
  },
  {
   "cell_type": "markdown",
   "id": "69d8c414-003c-46e0-b6ea-852cc5229bbc",
   "metadata": {},
   "source": [
    "strategy:\n",
    "find the average in 2004, 2010 and 2020 and fill the missing values with the average values in respective years."
   ]
  },
  {
   "cell_type": "code",
   "execution_count": 14,
   "id": "da50ceaf-08c5-4b06-9315-6d0c4f9117bf",
   "metadata": {
    "scrolled": true,
    "tags": []
   },
   "outputs": [
    {
     "data": {
      "text/plain": [
       "Date\n",
       "2004    0.709425\n",
       "2005    0.707192\n",
       "2006    0.702038\n",
       "2007    0.700345\n",
       "2008    0.701641\n",
       "2009    0.702808\n",
       "2010    0.700077\n",
       "2011    0.708462\n",
       "2012    0.709387\n",
       "2013    0.708774\n",
       "2014    0.707548\n",
       "2015    0.709808\n",
       "2016    0.709732\n",
       "2017    0.710000\n",
       "2018    0.710000\n",
       "2019    0.709768\n",
       "2020    0.710000\n",
       "2021    0.710000\n",
       "2022    0.710000\n",
       "Name: JOD, dtype: float64"
      ]
     },
     "execution_count": 14,
     "metadata": {},
     "output_type": "execute_result"
    }
   ],
   "source": [
    "df.groupby(df['Date'].dt.year).mean()['JOD']"
   ]
  },
  {
   "cell_type": "code",
   "execution_count": 15,
   "id": "eab0b65e-1e24-4991-9cdf-775c52e7526c",
   "metadata": {},
   "outputs": [],
   "source": [
    "df.loc[df['Date'].dt.year == 2004, 'JOD'] = df.loc[df['Date'].dt.year == 2004, 'JOD'].fillna(0.707548)"
   ]
  },
  {
   "cell_type": "code",
   "execution_count": 16,
   "id": "f05ec0de-c2c5-4af7-87ce-d61508185a26",
   "metadata": {},
   "outputs": [],
   "source": [
    "df.loc[df['Date'].dt.year == 2009, 'JOD'] = df.loc[df['Date'].dt.year == 2009, 'JOD'].fillna(0.702808)"
   ]
  },
  {
   "cell_type": "code",
   "execution_count": 17,
   "id": "b1947464-d01d-465a-a8b9-215a086fd7b9",
   "metadata": {},
   "outputs": [],
   "source": [
    "df.loc[df['Date'].dt.year == 2010, 'JOD'] = df.loc[df['Date'].dt.year == 2010, 'JOD'].fillna(0.700077)"
   ]
  },
  {
   "cell_type": "code",
   "execution_count": 18,
   "id": "e2f9d493-e478-4368-b3fa-1ecb762e9d3b",
   "metadata": {},
   "outputs": [],
   "source": [
    "df.loc[df['Date'].dt.year == 2019, 'JOD'] = df.loc[df['Date'].dt.year == 2019, 'JOD'].fillna(0.709768)"
   ]
  },
  {
   "cell_type": "code",
   "execution_count": 19,
   "id": "3d8641c9-d1d2-4775-8df9-b5d2c51df68d",
   "metadata": {},
   "outputs": [
    {
     "data": {
      "image/png": "[encoded data removed]",
      "text/plain": [
       "<Figure size 720x288 with 1 Axes>"
      ]
     },
     "metadata": {
      "needs_background": "light"
     },
     "output_type": "display_data"
    }
   ],
   "source": [
    "plt.figure(figsize=(10,4))\n",
    "sns.lineplot(y = df['JOD'].isna(), x = df['Date'])\n",
    "plt.title(label = 'Mising Data in JOD', fontsize=18)\n",
    "plt.show();"
   ]
  },
  {
   "cell_type": "markdown",
   "id": "5a419ecb-3204-4ef3-8223-e1cab4d7eed4",
   "metadata": {},
   "source": [
    "Remarks: \n",
    "\n",
    "Missing data addressed."
   ]
  },
  {
   "cell_type": "code",
   "execution_count": 20,
   "id": "25a4c784-dc07-4b35-98e7-484bc1d3b58b",
   "metadata": {},
   "outputs": [
    {
     "data": {
      "image/png": "[encoded data removed]",
      "text/plain": [
       "<Figure size 720x288 with 1 Axes>"
      ]
     },
     "metadata": {
      "needs_background": "light"
     },
     "output_type": "display_data"
    }
   ],
   "source": [
    "plt.figure(figsize=(10,4))\n",
    "sns.lineplot(y = df['VND'].isna(), x = df['Date'])\n",
    "plt.title(label = 'Mising Data in VND', fontsize=18)\n",
    "plt.show();"
   ]
  },
  {
   "cell_type": "code",
   "execution_count": 21,
   "id": "0cceb151-b114-4956-972e-8b1e56e38ccb",
   "metadata": {},
   "outputs": [
    {
     "data": {
      "text/plain": [
       "array([2004, 2009, 2010], dtype=int64)"
      ]
     },
     "execution_count": 21,
     "metadata": {},
     "output_type": "execute_result"
    }
   ],
   "source": [
    "df[df['VND'].isna()]['Date'].dt.year.unique()"
   ]
  },
  {
   "cell_type": "code",
   "execution_count": 22,
   "id": "b26effa7-128b-4bad-8a9b-971006443a40",
   "metadata": {},
   "outputs": [
    {
     "data": {
      "text/plain": [
       "Date\n",
       "2004    15312.984436\n",
       "2005    15799.561538\n",
       "2006    15583.161538\n",
       "2007    15688.402299\n",
       "2008    16212.141221\n",
       "2009    17433.988462\n",
       "2010    18919.630769\n",
       "2011    20378.211115\n",
       "2012    20683.168582\n",
       "2013    20783.061954\n",
       "2014    20740.505977\n",
       "2015    21633.613027\n",
       "2016    22015.172414\n",
       "2017    22373.180769\n",
       "2018    22942.742146\n",
       "2019    23178.839385\n",
       "2020    23227.946603\n",
       "2021    22905.417893\n",
       "2022    23399.607692\n",
       "Name: VND, dtype: float64"
      ]
     },
     "execution_count": 22,
     "metadata": {},
     "output_type": "execute_result"
    }
   ],
   "source": [
    "df.groupby(df['Date'].dt.year).mean()['VND']"
   ]
  },
  {
   "cell_type": "code",
   "execution_count": 23,
   "id": "cb2f9e6f-a575-4d96-a7d1-82c189541aba",
   "metadata": {},
   "outputs": [],
   "source": [
    "df.loc[df['Date'].dt.year == 2004, 'VND'] = df.loc[df['Date'].dt.year == 2004, 'VND'].fillna(15312.984436)\n",
    "df.loc[df['Date'].dt.year == 2009, 'VND'] = df.loc[df['Date'].dt.year == 2009, 'VND'].fillna(17433.988462)\n",
    "df.loc[df['Date'].dt.year == 2010, 'VND'] = df.loc[df['Date'].dt.year == 2010, 'VND'].fillna(18919.630769)"
   ]
  },
  {
   "cell_type": "code",
   "execution_count": 24,
   "id": "cc7145e0-3b28-4dde-bb74-e756f6ddc5e8",
   "metadata": {},
   "outputs": [
    {
     "data": {
      "image/png": "[encoded data removed]",
      "text/plain": [
       "<Figure size 720x288 with 1 Axes>"
      ]
     },
     "metadata": {
      "needs_background": "light"
     },
     "output_type": "display_data"
    }
   ],
   "source": [
    "plt.figure(figsize=(10,4))\n",
    "sns.lineplot(y = df['VND'].isna(), x = df['Date'])\n",
    "plt.title(label = 'Mising Data in VND', fontsize=18)\n",
    "plt.show();"
   ]
  },
  {
   "cell_type": "markdown",
   "id": "47d922fa-a4be-4ec1-b058-99b3ced9b907",
   "metadata": {},
   "source": [
    "remarks: Missing data addressed."
   ]
  },
  {
   "cell_type": "code",
   "execution_count": 25,
   "id": "3564ced6-0a8f-4295-aa3f-3e6729a18ac2",
   "metadata": {},
   "outputs": [
    {
     "data": {
      "image/png": "[encoded data removed]",
      "text/plain": [
       "<Figure size 720x288 with 1 Axes>"
      ]
     },
     "metadata": {
      "needs_background": "light"
     },
     "output_type": "display_data"
    }
   ],
   "source": [
    "plt.figure(figsize=(10,4))\n",
    "sns.lineplot(y = df['MYR'].isna(), x = df['Date'])\n",
    "plt.title(label = 'Mising Data in MYR', fontsize=18)\n",
    "plt.show();"
   ]
  },
  {
   "cell_type": "code",
   "execution_count": 26,
   "id": "bfaaeb13-e800-45a8-8a3d-2e85fbee06ac",
   "metadata": {},
   "outputs": [
    {
     "data": {
      "text/plain": [
       "array([2004, 2005, 2007, 2008, 2019], dtype=int64)"
      ]
     },
     "execution_count": 26,
     "metadata": {},
     "output_type": "execute_result"
    }
   ],
   "source": [
    "df[df['MYR'].isna()]['Date'].dt.year.unique()"
   ]
  },
  {
   "cell_type": "code",
   "execution_count": 27,
   "id": "58cdace1-1eb7-49d6-a860-1908589768f4",
   "metadata": {
    "scrolled": true,
    "tags": []
   },
   "outputs": [
    {
     "data": {
      "text/plain": [
       "Date\n",
       "2004    3.799119\n",
       "2005    3.786564\n",
       "2006    3.660423\n",
       "2007    3.432239\n",
       "2008    3.330888\n",
       "2009    3.516054\n",
       "2010    3.213755\n",
       "2011    3.053154\n",
       "2012    3.083908\n",
       "2013    3.144330\n",
       "2014    3.272529\n",
       "2015    3.898812\n",
       "2016    4.135441\n",
       "2017    4.297654\n",
       "2018    4.032069\n",
       "2019    4.139653\n",
       "2020    4.199389\n",
       "2021    4.141839\n",
       "2022    4.397346\n",
       "Name: MYR, dtype: float64"
      ]
     },
     "execution_count": 27,
     "metadata": {},
     "output_type": "execute_result"
    }
   ],
   "source": [
    "df.groupby(df['Date'].dt.year).mean()['MYR']"
   ]
  },
  {
   "cell_type": "code",
   "execution_count": 28,
   "id": "13df77b5-c232-48a3-a220-42c5bdec244d",
   "metadata": {},
   "outputs": [],
   "source": [
    "df.loc[df['Date'].dt.year == 2004, 'MYR'] = df.loc[df['Date'].dt.year == 2004, 'MYR'].fillna(3.799119)\n",
    "df.loc[df['Date'].dt.year == 2005, 'MYR'] = df.loc[df['Date'].dt.year == 2005, 'MYR'].fillna(3.786564)\n",
    "df.loc[df['Date'].dt.year == 2007, 'MYR'] = df.loc[df['Date'].dt.year == 2007, 'MYR'].fillna(3.432239)\n",
    "df.loc[df['Date'].dt.year == 2008, 'MYR'] = df.loc[df['Date'].dt.year == 2008, 'MYR'].fillna(3.330888)\n",
    "df.loc[df['Date'].dt.year == 2019, 'MYR'] = df.loc[df['Date'].dt.year == 2019, 'MYR'].fillna(4.139653)"
   ]
  },
  {
   "cell_type": "code",
   "execution_count": 29,
   "id": "081cd4f4-f0e0-47d1-b84f-a2b07215849f",
   "metadata": {},
   "outputs": [
    {
     "data": {
      "image/png": "[encoded data removed]",
      "text/plain": [
       "<Figure size 720x288 with 1 Axes>"
      ]
     },
     "metadata": {
      "needs_background": "light"
     },
     "output_type": "display_data"
    }
   ],
   "source": [
    "plt.figure(figsize=(10,4))\n",
    "sns.lineplot(y = df['MYR'].isna(), x = df['Date'])\n",
    "plt.title(label = 'Mising Data in MYR', fontsize=18)\n",
    "plt.show();"
   ]
  },
  {
   "cell_type": "code",
   "execution_count": 30,
   "id": "48b24709-3fab-4d09-a274-7c79456ac938",
   "metadata": {},
   "outputs": [
    {
     "data": {
      "image/png": "[encoded data removed]",
      "text/plain": [
       "<Figure size 720x288 with 1 Axes>"
      ]
     },
     "metadata": {
      "needs_background": "light"
     },
     "output_type": "display_data"
    }
   ],
   "source": [
    "plt.figure(figsize=(10,4))\n",
    "sns.lineplot(y = df['OMR'].isna(), x = df['Date'])\n",
    "plt.title(label = 'Mising Data in OMR', fontsize=18)\n",
    "plt.show();"
   ]
  },
  {
   "cell_type": "code",
   "execution_count": 31,
   "id": "f5682ebc-1dee-43f9-a6c0-b0c165868205",
   "metadata": {},
   "outputs": [
    {
     "data": {
      "text/plain": [
       "array([2004, 2008, 2009, 2010, 2011, 2012, 2013, 2017], dtype=int64)"
      ]
     },
     "execution_count": 31,
     "metadata": {},
     "output_type": "execute_result"
    }
   ],
   "source": [
    "df[df['OMR'].isna()]['Date'].dt.year.unique()"
   ]
  },
  {
   "cell_type": "code",
   "execution_count": 32,
   "id": "1fc42620-9f07-495c-9160-60e6a05a7fe5",
   "metadata": {
    "scrolled": true,
    "tags": []
   },
   "outputs": [
    {
     "data": {
      "text/plain": [
       "Date\n",
       "2004    0.380000\n",
       "2005    0.380000\n",
       "2006    0.379923\n",
       "2007    0.380000\n",
       "2008    0.380115\n",
       "2009    0.380000\n",
       "2010    0.379808\n",
       "2011    0.379884\n",
       "2012    0.380038\n",
       "2013    0.380000\n",
       "2014    0.379962\n",
       "2015    0.380000\n",
       "2016    0.379923\n",
       "2017    0.380039\n",
       "2018    0.380077\n",
       "2019    0.380000\n",
       "2020    0.380038\n",
       "2021    0.380000\n",
       "2022    0.380000\n",
       "Name: OMR, dtype: float64"
      ]
     },
     "execution_count": 32,
     "metadata": {},
     "output_type": "execute_result"
    }
   ],
   "source": [
    "df.groupby(df['Date'].dt.year).mean()['OMR']"
   ]
  },
  {
   "cell_type": "code",
   "execution_count": 33,
   "id": "40a22ee1-81c9-4ce9-bb99-5c231bcafd7c",
   "metadata": {},
   "outputs": [],
   "source": [
    "df.loc[df['Date'].dt.year == 2004, 'OMR'] = df.loc[df['Date'].dt.year == 2004, 'OMR'].fillna(0.380000)\n",
    "df.loc[df['Date'].dt.year == 2008, 'OMR'] = df.loc[df['Date'].dt.year == 2008, 'OMR'].fillna(0.380115)\n",
    "df.loc[df['Date'].dt.year == 2009, 'OMR'] = df.loc[df['Date'].dt.year == 2009, 'OMR'].fillna(0.380000)\n",
    "df.loc[df['Date'].dt.year == 2010, 'OMR'] = df.loc[df['Date'].dt.year == 2010, 'OMR'].fillna(0.379808)\n",
    "df.loc[df['Date'].dt.year == 2011, 'OMR'] = df.loc[df['Date'].dt.year == 2011, 'OMR'].fillna(0.379884)\n",
    "df.loc[df['Date'].dt.year == 2012, 'OMR'] = df.loc[df['Date'].dt.year == 2012, 'OMR'].fillna(0.380038)\n",
    "df.loc[df['Date'].dt.year == 2013, 'OMR'] = df.loc[df['Date'].dt.year == 2013, 'OMR'].fillna(0.380000)\n",
    "df.loc[df['Date'].dt.year == 2017, 'OMR'] = df.loc[df['Date'].dt.year == 2017, 'OMR'].fillna(0.380039)"
   ]
  },
  {
   "cell_type": "code",
   "execution_count": 34,
   "id": "3817e8a4-cbe6-401f-8137-171958ccd4bf",
   "metadata": {},
   "outputs": [
    {
     "data": {
      "text/plain": [
       "array([], dtype=int64)"
      ]
     },
     "execution_count": 34,
     "metadata": {},
     "output_type": "execute_result"
    }
   ],
   "source": [
    "df[df['OMR'].isna()]['Date'].dt.year.unique()"
   ]
  },
  {
   "cell_type": "code",
   "execution_count": 35,
   "id": "c4094625-50ca-427c-8eb7-e07601af0aae",
   "metadata": {},
   "outputs": [
    {
     "data": {
      "text/plain": [
       "array([2004, 2005, 2007, 2008, 2009, 2010, 2019], dtype=int64)"
      ]
     },
     "execution_count": 35,
     "metadata": {},
     "output_type": "execute_result"
    }
   ],
   "source": [
    "df[df['AED'].isna()]['Date'].dt.year.unique()"
   ]
  },
  {
   "cell_type": "code",
   "execution_count": 36,
   "id": "c315d411-5c65-4b02-ae89-1fd8c6d207e8",
   "metadata": {
    "scrolled": true,
    "tags": []
   },
   "outputs": [
    {
     "data": {
      "text/plain": [
       "Date\n",
       "2004    3.670000\n",
       "2005    3.670000\n",
       "2006    3.670038\n",
       "2007    3.669807\n",
       "2008    3.670000\n",
       "2009    3.669923\n",
       "2010    3.670000\n",
       "2011    3.670000\n",
       "2012    3.670000\n",
       "2013    3.670000\n",
       "2014    3.670000\n",
       "2015    3.670000\n",
       "2016    3.670000\n",
       "2017    3.670000\n",
       "2018    3.670000\n",
       "2019    3.670000\n",
       "2020    3.670000\n",
       "2021    3.670000\n",
       "2022    3.670000\n",
       "Name: AED, dtype: float64"
      ]
     },
     "execution_count": 36,
     "metadata": {},
     "output_type": "execute_result"
    }
   ],
   "source": [
    "df.groupby(df['Date'].dt.year).mean()['AED']"
   ]
  },
  {
   "cell_type": "code",
   "execution_count": 37,
   "id": "4bb7f08e-64f1-4464-b458-d215ee68a0b0",
   "metadata": {},
   "outputs": [],
   "source": [
    "df.loc[df['Date'].dt.year == 2004, 'AED'] = df.loc[df['Date'].dt.year == 2004, 'AED'].fillna(3.670000)\n",
    "df.loc[df['Date'].dt.year == 2005, 'AED'] = df.loc[df['Date'].dt.year == 2005, 'AED'].fillna(3.670000)\n",
    "df.loc[df['Date'].dt.year == 2007, 'AED'] = df.loc[df['Date'].dt.year == 2007, 'AED'].fillna(3.669807)\n",
    "df.loc[df['Date'].dt.year == 2008, 'AED'] = df.loc[df['Date'].dt.year == 2008, 'AED'].fillna(3.670000)\n",
    "df.loc[df['Date'].dt.year == 2009, 'AED'] = df.loc[df['Date'].dt.year == 2009, 'AED'].fillna(3.669923)\n",
    "df.loc[df['Date'].dt.year == 2010, 'AED'] = df.loc[df['Date'].dt.year == 2010, 'AED'].fillna(3.670000)\n",
    "df.loc[df['Date'].dt.year == 2019, 'AED'] = df.loc[df['Date'].dt.year == 2019, 'AED'].fillna(3.670000)"
   ]
  },
  {
   "cell_type": "code",
   "execution_count": 38,
   "id": "8799b55b-fa28-46ab-b281-f0c368fc7bed",
   "metadata": {},
   "outputs": [
    {
     "data": {
      "text/plain": [
       "array([], dtype=int64)"
      ]
     },
     "execution_count": 38,
     "metadata": {},
     "output_type": "execute_result"
    }
   ],
   "source": [
    "df[df['AED'].isna()]['Date'].dt.year.unique()"
   ]
  },
  {
   "cell_type": "code",
   "execution_count": 39,
   "id": "495c12d2-eb67-48fe-9075-871e607c6625",
   "metadata": {},
   "outputs": [
    {
     "data": {
      "text/plain": [
       "array([2004, 2008, 2009, 2010, 2011, 2012, 2013, 2017], dtype=int64)"
      ]
     },
     "execution_count": 39,
     "metadata": {},
     "output_type": "execute_result"
    }
   ],
   "source": [
    "df[df['BHD'].isna()]['Date'].dt.year.unique()"
   ]
  },
  {
   "cell_type": "code",
   "execution_count": 40,
   "id": "a9bd7912-0b15-4fd6-929d-e4b8890852f3",
   "metadata": {
    "scrolled": true,
    "tags": []
   },
   "outputs": [
    {
     "data": {
      "text/plain": [
       "Date\n",
       "2004    0.380000\n",
       "2005    0.379846\n",
       "2006    0.372885\n",
       "2007    0.368161\n",
       "2008    0.376783\n",
       "2009    0.379038\n",
       "2010    0.378654\n",
       "2011    0.376100\n",
       "2012    0.370615\n",
       "2013    0.370462\n",
       "2014    0.370498\n",
       "2015    0.370613\n",
       "2016    0.369157\n",
       "2017    0.370775\n",
       "2018    0.372299\n",
       "2019    0.370077\n",
       "2020    0.370840\n",
       "2021    0.370038\n",
       "2022    0.370115\n",
       "Name: BHD, dtype: float64"
      ]
     },
     "execution_count": 40,
     "metadata": {},
     "output_type": "execute_result"
    }
   ],
   "source": [
    "df.groupby(df['Date'].dt.year).mean()['BHD']"
   ]
  },
  {
   "cell_type": "code",
   "execution_count": 41,
   "id": "b5a85c3c-65af-4434-936e-4cf47206cc3b",
   "metadata": {},
   "outputs": [],
   "source": [
    "df.loc[df['Date'].dt.year == 2004, 'BHD'] = df.loc[df['Date'].dt.year == 2004, 'BHD'].fillna(0.380000)\n",
    "df.loc[df['Date'].dt.year == 2008, 'BHD'] = df.loc[df['Date'].dt.year == 2008, 'BHD'].fillna(0.376783)\n",
    "df.loc[df['Date'].dt.year == 2009, 'BHD'] = df.loc[df['Date'].dt.year == 2009, 'BHD'].fillna(0.379038)\n",
    "df.loc[df['Date'].dt.year == 2010, 'BHD'] = df.loc[df['Date'].dt.year == 2010, 'BHD'].fillna(0.378654)\n",
    "df.loc[df['Date'].dt.year == 2011, 'BHD'] = df.loc[df['Date'].dt.year == 2011, 'BHD'].fillna(0.376100)\n",
    "df.loc[df['Date'].dt.year == 2012, 'BHD'] = df.loc[df['Date'].dt.year == 2012, 'BHD'].fillna(0.370615)\n",
    "df.loc[df['Date'].dt.year == 2013, 'BHD'] = df.loc[df['Date'].dt.year == 2013, 'BHD'].fillna(0.370462)\n",
    "df.loc[df['Date'].dt.year == 2017, 'BHD'] = df.loc[df['Date'].dt.year == 2017, 'BHD'].fillna(0.370775)"
   ]
  },
  {
   "cell_type": "code",
   "execution_count": 42,
   "id": "503b399e-2ea6-4e0c-a389-9a06f4d664aa",
   "metadata": {},
   "outputs": [
    {
     "data": {
      "text/plain": [
       "array([], dtype=int64)"
      ]
     },
     "execution_count": 42,
     "metadata": {},
     "output_type": "execute_result"
    }
   ],
   "source": [
    "df[df['BHD'].isna()]['Date'].dt.year.unique()"
   ]
  },
  {
   "cell_type": "code",
   "execution_count": 43,
   "id": "c32d3505-f047-4c94-a1b4-be960ff5d4ff",
   "metadata": {},
   "outputs": [
    {
     "data": {
      "text/plain": [
       "array([2004, 2008, 2009, 2010, 2011, 2013, 2017], dtype=int64)"
      ]
     },
     "execution_count": 43,
     "metadata": {},
     "output_type": "execute_result"
    }
   ],
   "source": [
    "df[df['BDT'].isna()]['Date'].dt.year.unique()"
   ]
  },
  {
   "cell_type": "code",
   "execution_count": 44,
   "id": "0953fe90-d3a5-4534-a537-da3a90a89da3",
   "metadata": {
    "scrolled": true,
    "tags": []
   },
   "outputs": [
    {
     "data": {
      "text/plain": [
       "Date\n",
       "2004    57.694669\n",
       "2005    63.575077\n",
       "2006    66.591769\n",
       "2007    67.134138\n",
       "2008    67.435885\n",
       "2009    67.631615\n",
       "2010    68.211885\n",
       "2011    72.730579\n",
       "2012    80.446360\n",
       "2013    76.723577\n",
       "2014    76.206743\n",
       "2015    76.218391\n",
       "2016    76.949923\n",
       "2017    79.624767\n",
       "2018    82.609157\n",
       "2019    82.787385\n",
       "2020    83.272405\n",
       "2021    83.559732\n",
       "2022    91.684231\n",
       "Name: BDT, dtype: float64"
      ]
     },
     "execution_count": 44,
     "metadata": {},
     "output_type": "execute_result"
    }
   ],
   "source": [
    "df.groupby(df['Date'].dt.year).mean()['BDT']"
   ]
  },
  {
   "cell_type": "code",
   "execution_count": 45,
   "id": "34100a33-4848-43a0-8fb9-c8ac640f327c",
   "metadata": {},
   "outputs": [],
   "source": [
    "df.loc[df['Date'].dt.year == 2004, 'BDT'] = df.loc[df['Date'].dt.year == 2004, 'BDT'].fillna(57.694669)\n",
    "df.loc[df['Date'].dt.year == 2008, 'BDT'] = df.loc[df['Date'].dt.year == 2008, 'BDT'].fillna(67.435885)\n",
    "df.loc[df['Date'].dt.year == 2009, 'BDT'] = df.loc[df['Date'].dt.year == 2009, 'BDT'].fillna(67.631615)\n",
    "df.loc[df['Date'].dt.year == 2010, 'BDT'] = df.loc[df['Date'].dt.year == 2010, 'BDT'].fillna(68.211885)\n",
    "df.loc[df['Date'].dt.year == 2011, 'BDT'] = df.loc[df['Date'].dt.year == 2011, 'BDT'].fillna(72.730579)\n",
    "df.loc[df['Date'].dt.year == 2013, 'BDT'] = df.loc[df['Date'].dt.year == 2013, 'BDT'].fillna(76.723577)\n",
    "df.loc[df['Date'].dt.year == 2017, 'BDT'] = df.loc[df['Date'].dt.year == 2017, 'BDT'].fillna(79.624767)"
   ]
  },
  {
   "cell_type": "code",
   "execution_count": 46,
   "id": "ddd63bab-af16-4aba-89c7-e9772a77469f",
   "metadata": {},
   "outputs": [
    {
     "data": {
      "text/plain": [
       "array([], dtype=int64)"
      ]
     },
     "execution_count": 46,
     "metadata": {},
     "output_type": "execute_result"
    }
   ],
   "source": [
    "df[df['BDT'].isna()]['Date'].dt.year.unique()"
   ]
  },
  {
   "cell_type": "code",
   "execution_count": 47,
   "id": "ce3b92a0-5894-4819-9c35-4c1f57e4a419",
   "metadata": {},
   "outputs": [
    {
     "data": {
      "text/plain": [
       "array([2004, 2008, 2009, 2010, 2011, 2012, 2013, 2017], dtype=int64)"
      ]
     },
     "execution_count": 47,
     "metadata": {},
     "output_type": "execute_result"
    }
   ],
   "source": [
    "df[df['QAR'].isna()]['Date'].dt.year.unique()"
   ]
  },
  {
   "cell_type": "code",
   "execution_count": 48,
   "id": "02f815f5-3339-4f29-9032-c9579f845d04",
   "metadata": {
    "scrolled": true,
    "tags": []
   },
   "outputs": [
    {
     "data": {
      "text/plain": [
       "Date\n",
       "2004    3.639617\n",
       "2005    3.638731\n",
       "2006    3.566462\n",
       "2007    3.562912\n",
       "2008    3.624786\n",
       "2009    3.637885\n",
       "2010    3.630846\n",
       "2011    3.620541\n",
       "2012    3.631923\n",
       "2013    3.631577\n",
       "2014    3.636705\n",
       "2015    3.639808\n",
       "2016    3.638352\n",
       "2017    3.668372\n",
       "2018    3.640000\n",
       "2019    3.640000\n",
       "2020    3.637557\n",
       "2021    3.639387\n",
       "2022    3.639962\n",
       "Name: QAR, dtype: float64"
      ]
     },
     "execution_count": 48,
     "metadata": {},
     "output_type": "execute_result"
    }
   ],
   "source": [
    "df.groupby(df['Date'].dt.year).mean()['QAR']"
   ]
  },
  {
   "cell_type": "code",
   "execution_count": 49,
   "id": "cbd6cd6e-bf6b-4001-9bf5-d182033d4636",
   "metadata": {},
   "outputs": [],
   "source": [
    "df.loc[df['Date'].dt.year == 2004, 'QAR'] = df.loc[df['Date'].dt.year == 2004, 'QAR'].fillna(3.639617)\n",
    "df.loc[df['Date'].dt.year == 2008, 'QAR'] = df.loc[df['Date'].dt.year == 2008, 'QAR'].fillna(3.624786)\n",
    "df.loc[df['Date'].dt.year == 2009, 'QAR'] = df.loc[df['Date'].dt.year == 2009, 'QAR'].fillna(3.637885)\n",
    "df.loc[df['Date'].dt.year == 2010, 'QAR'] = df.loc[df['Date'].dt.year == 2010, 'QAR'].fillna(3.630846)\n",
    "df.loc[df['Date'].dt.year == 2011, 'QAR'] = df.loc[df['Date'].dt.year == 2011, 'QAR'].fillna(3.620541)\n",
    "df.loc[df['Date'].dt.year == 2012, 'QAR'] = df.loc[df['Date'].dt.year == 2012, 'QAR'].fillna(3.631923)\n",
    "df.loc[df['Date'].dt.year == 2013, 'QAR'] = df.loc[df['Date'].dt.year == 2013, 'QAR'].fillna(3.631577)\n",
    "df.loc[df['Date'].dt.year == 2017, 'QAR'] = df.loc[df['Date'].dt.year == 2017, 'QAR'].fillna(3.668372)"
   ]
  },
  {
   "cell_type": "code",
   "execution_count": 50,
   "id": "ee92b29d-ab3a-4265-af90-1112df8e0f20",
   "metadata": {},
   "outputs": [
    {
     "data": {
      "text/plain": [
       "array([], dtype=int64)"
      ]
     },
     "execution_count": 50,
     "metadata": {},
     "output_type": "execute_result"
    }
   ],
   "source": [
    "df[df['QAR'].isna()]['Date'].dt.year.unique()"
   ]
  },
  {
   "cell_type": "code",
   "execution_count": 51,
   "id": "8c293af4-2898-4d83-a25d-2d7702828020",
   "metadata": {},
   "outputs": [
    {
     "data": {
      "text/plain": [
       "array([2004, 2008, 2009, 2010, 2011, 2013, 2017, 2019], dtype=int64)"
      ]
     },
     "execution_count": 51,
     "metadata": {},
     "output_type": "execute_result"
    }
   ],
   "source": [
    "df[df['CNY'].isna()]['Date'].dt.year.unique()"
   ]
  },
  {
   "cell_type": "code",
   "execution_count": 52,
   "id": "288df068-a0fb-4263-8eed-730fa00b82ed",
   "metadata": {},
   "outputs": [
    {
     "data": {
      "text/plain": [
       "Date\n",
       "2004    8.270000\n",
       "2005    8.185231\n",
       "2006    7.964846\n",
       "2007    7.597126\n",
       "2008    6.940615\n",
       "2009    6.821654\n",
       "2010    6.759923\n",
       "2011    6.454479\n",
       "2012    6.309157\n",
       "2013    6.142577\n",
       "2014    6.150958\n",
       "2015    6.274138\n",
       "2016    6.635785\n",
       "2017    6.758682\n",
       "2018    6.614215\n",
       "2019    6.908185\n",
       "2020    6.901641\n",
       "2021    6.450690\n",
       "2022    6.729577\n",
       "Name: CNY, dtype: float64"
      ]
     },
     "execution_count": 52,
     "metadata": {},
     "output_type": "execute_result"
    }
   ],
   "source": [
    "df.groupby(df['Date'].dt.year).mean()['CNY']"
   ]
  },
  {
   "cell_type": "code",
   "execution_count": 53,
   "id": "30da3cac-3efe-452d-ac64-3194deeea992",
   "metadata": {},
   "outputs": [],
   "source": [
    "df.loc[df['Date'].dt.year == 2004, 'CNY'] = df.loc[df['Date'].dt.year == 2004, 'CNY'].fillna(8.270000)\n",
    "df.loc[df['Date'].dt.year == 2008, 'CNY'] = df.loc[df['Date'].dt.year == 2008, 'CNY'].fillna(6.940615)\n",
    "df.loc[df['Date'].dt.year == 2009, 'CNY'] = df.loc[df['Date'].dt.year == 2009, 'CNY'].fillna(6.821654)\n",
    "df.loc[df['Date'].dt.year == 2010, 'CNY'] = df.loc[df['Date'].dt.year == 2010, 'CNY'].fillna(6.759923)\n",
    "df.loc[df['Date'].dt.year == 2011, 'CNY'] = df.loc[df['Date'].dt.year == 2011, 'CNY'].fillna(6.454479)\n",
    "df.loc[df['Date'].dt.year == 2013, 'CNY'] = df.loc[df['Date'].dt.year == 2013, 'CNY'].fillna(6.142577)\n",
    "df.loc[df['Date'].dt.year == 2017, 'CNY'] = df.loc[df['Date'].dt.year == 2017, 'CNY'].fillna(6.758682)\n",
    "df.loc[df['Date'].dt.year == 2019, 'CNY'] = df.loc[df['Date'].dt.year == 2019, 'CNY'].fillna(6.908185)"
   ]
  },
  {
   "cell_type": "code",
   "execution_count": 54,
   "id": "619de13e-0756-4e8a-a787-ebf3dcc3d194",
   "metadata": {},
   "outputs": [
    {
     "data": {
      "text/plain": [
       "array([], dtype=int64)"
      ]
     },
     "execution_count": 54,
     "metadata": {},
     "output_type": "execute_result"
    }
   ],
   "source": [
    "df[df['CNY'].isna()]['Date'].dt.year.unique()"
   ]
  },
  {
   "cell_type": "code",
   "execution_count": 55,
   "id": "2c5213e5-bc04-4d1f-992a-9486e8854031",
   "metadata": {},
   "outputs": [
    {
     "data": {
      "text/plain": [
       "array([2004, 2005, 2007, 2008, 2011, 2013, 2017], dtype=int64)"
      ]
     },
     "execution_count": 55,
     "metadata": {},
     "output_type": "execute_result"
    }
   ],
   "source": [
    "df[df['SGD'].isna()]['Date'].dt.year.unique()"
   ]
  },
  {
   "cell_type": "code",
   "execution_count": 56,
   "id": "ad418567-21c6-47cb-a0b8-e2688b51b4ab",
   "metadata": {},
   "outputs": [
    {
     "data": {
      "text/plain": [
       "Date\n",
       "2004    1.689691\n",
       "2005    1.664125\n",
       "2006    1.588577\n",
       "2007    1.507016\n",
       "2008    1.415019\n",
       "2009    1.453525\n",
       "2010    1.362490\n",
       "2011    1.256873\n",
       "2012    1.249387\n",
       "2013    1.251077\n",
       "2014    1.266935\n",
       "2015    1.374138\n",
       "2016    1.380460\n",
       "2017    1.381357\n",
       "2018    1.348851\n",
       "2019    1.363885\n",
       "2020    1.379122\n",
       "2021    1.343487\n",
       "2022    1.379269\n",
       "Name: SGD, dtype: float64"
      ]
     },
     "execution_count": 56,
     "metadata": {},
     "output_type": "execute_result"
    }
   ],
   "source": [
    "df.groupby(df['Date'].dt.year).mean()['SGD']"
   ]
  },
  {
   "cell_type": "code",
   "execution_count": 57,
   "id": "24eeabb6-9843-4886-99b6-f9c6e393f4b9",
   "metadata": {},
   "outputs": [],
   "source": [
    "df.loc[df['Date'].dt.year == 2004, 'SGD'] = df.loc[df['Date'].dt.year == 2004, 'SGD'].fillna(1.689691)\n",
    "df.loc[df['Date'].dt.year == 2005, 'SGD'] = df.loc[df['Date'].dt.year == 2005, 'SGD'].fillna(1.664125)\n",
    "df.loc[df['Date'].dt.year == 2007, 'SGD'] = df.loc[df['Date'].dt.year == 2007, 'SGD'].fillna(1.507016)\n",
    "df.loc[df['Date'].dt.year == 2008, 'SGD'] = df.loc[df['Date'].dt.year == 2008, 'SGD'].fillna(1.415019)\n",
    "df.loc[df['Date'].dt.year == 2011, 'SGD'] = df.loc[df['Date'].dt.year == 2011, 'SGD'].fillna(1.256873)\n",
    "df.loc[df['Date'].dt.year == 2013, 'SGD'] = df.loc[df['Date'].dt.year == 2013, 'SGD'].fillna(1.251077)\n",
    "df.loc[df['Date'].dt.year == 2017, 'SGD'] = df.loc[df['Date'].dt.year == 2017, 'SGD'].fillna(1.381357)"
   ]
  },
  {
   "cell_type": "code",
   "execution_count": 58,
   "id": "304671eb-fc78-4dc1-9014-ccb698d009d1",
   "metadata": {},
   "outputs": [
    {
     "data": {
      "text/plain": [
       "array([], dtype=int64)"
      ]
     },
     "execution_count": 58,
     "metadata": {},
     "output_type": "execute_result"
    }
   ],
   "source": [
    "df[df['SGD'].isna()]['Date'].dt.year.unique()"
   ]
  },
  {
   "cell_type": "code",
   "execution_count": 59,
   "id": "43bddc55-e3a9-4696-b54f-bdc3f020631a",
   "metadata": {},
   "outputs": [
    {
     "data": {
      "text/plain": [
       "array([2004, 2005, 2007, 2008, 2009, 2010], dtype=int64)"
      ]
     },
     "execution_count": 59,
     "metadata": {},
     "output_type": "execute_result"
    }
   ],
   "source": [
    "df[df['MMK'].isna()]['Date'].dt.year.unique()"
   ]
  },
  {
   "cell_type": "code",
   "execution_count": 60,
   "id": "2081c570-98fa-46aa-883b-f7fe1f1d20fc",
   "metadata": {},
   "outputs": [
    {
     "data": {
      "text/plain": [
       "Date\n",
       "2004       6.177686\n",
       "2005       6.138627\n",
       "2006       6.144231\n",
       "2007       6.247287\n",
       "2008       6.340232\n",
       "2009       9.452162\n",
       "2010       6.304654\n",
       "2011      18.800308\n",
       "2012     626.547663\n",
       "2013     917.165211\n",
       "2014     967.750843\n",
       "2015    1145.191686\n",
       "2016    1216.750575\n",
       "2017    1341.736154\n",
       "2018    1423.129885\n",
       "2019    1502.031231\n",
       "2020    1357.213282\n",
       "2021    1594.749464\n",
       "2022    1909.603577\n",
       "Name: MMK, dtype: float64"
      ]
     },
     "execution_count": 60,
     "metadata": {},
     "output_type": "execute_result"
    }
   ],
   "source": [
    "df.groupby(df['Date'].dt.year).mean()['MMK']"
   ]
  },
  {
   "cell_type": "code",
   "execution_count": 61,
   "id": "a2d99012-55b9-48d3-bae2-be75b3efe834",
   "metadata": {},
   "outputs": [],
   "source": [
    "df.loc[df['Date'].dt.year == 2004, 'MMK'] = df.loc[df['Date'].dt.year == 2004, 'MMK'].fillna(6.177686)\n",
    "df.loc[df['Date'].dt.year == 2005, 'MMK'] = df.loc[df['Date'].dt.year == 2005, 'MMK'].fillna(6.138627)\n",
    "df.loc[df['Date'].dt.year == 2007, 'MMK'] = df.loc[df['Date'].dt.year == 2007, 'MMK'].fillna(6.247287)\n",
    "df.loc[df['Date'].dt.year == 2008, 'MMK'] = df.loc[df['Date'].dt.year == 2008, 'MMK'].fillna(6.340232)\n",
    "df.loc[df['Date'].dt.year == 2009, 'MMK'] = df.loc[df['Date'].dt.year == 2009, 'MMK'].fillna(9.452162)\n",
    "df.loc[df['Date'].dt.year == 2010, 'MMK'] = df.loc[df['Date'].dt.year == 2010, 'MMK'].fillna(6.304654)"
   ]
  },
  {
   "cell_type": "code",
   "execution_count": 62,
   "id": "c7ec4812-331f-40e9-9d80-48de7a936a2a",
   "metadata": {},
   "outputs": [
    {
     "data": {
      "text/plain": [
       "array([], dtype=int64)"
      ]
     },
     "execution_count": 62,
     "metadata": {},
     "output_type": "execute_result"
    }
   ],
   "source": [
    "df[df['MMK'].isna()]['Date'].dt.year.unique()"
   ]
  },
  {
   "cell_type": "code",
   "execution_count": 63,
   "id": "ce7175d8-d525-4a4e-a6a8-085ceabfc2b0",
   "metadata": {},
   "outputs": [
    {
     "data": {
      "text/plain": [
       "array([2004, 2005, 2007, 2008, 2009, 2010], dtype=int64)"
      ]
     },
     "execution_count": 63,
     "metadata": {},
     "output_type": "execute_result"
    }
   ],
   "source": [
    "df[df['IQD'].isna()]['Date'].dt.year.unique()"
   ]
  },
  {
   "cell_type": "code",
   "execution_count": 64,
   "id": "d043d3f8-1fe6-4042-93e9-4b066d941e76",
   "metadata": {},
   "outputs": [],
   "source": [
    "df.loc[df['Date'].dt.year == 2004, 'MMK'] = df.loc[df['Date'].dt.year == 2004, 'MMK'].fillna(6.177686)"
   ]
  },
  {
   "cell_type": "code",
   "execution_count": 65,
   "id": "cacefb20-4f7c-4f95-b210-9846b5f55a64",
   "metadata": {},
   "outputs": [
    {
     "data": {
      "text/plain": [
       "array([2004, 2005, 2007, 2008, 2009, 2010], dtype=int64)"
      ]
     },
     "execution_count": 65,
     "metadata": {},
     "output_type": "execute_result"
    }
   ],
   "source": [
    "df[df['IQD'].isna()]['Date'].dt.year.unique()"
   ]
  },
  {
   "cell_type": "code",
   "execution_count": 66,
   "id": "d9ddd865-cc0e-49bd-bc9e-f9f53b2f68d5",
   "metadata": {},
   "outputs": [
    {
     "data": {
      "text/plain": [
       "Date\n",
       "2004    1311.517255\n",
       "2005    1430.446667\n",
       "2006    1416.566538\n",
       "2007    1219.610465\n",
       "2008    1175.142085\n",
       "2009    1139.368992\n",
       "2010    1139.417038\n",
       "2011    1158.736538\n",
       "2012    1152.705747\n",
       "2013    1147.590651\n",
       "2014    1123.855977\n",
       "2015    1146.701533\n",
       "2016    1146.282759\n",
       "2017    1153.422308\n",
       "2018    1175.700536\n",
       "2019    1177.591154\n",
       "2020    1188.178817\n",
       "2021    1452.425900\n",
       "2022    1451.176577\n",
       "Name: IQD, dtype: float64"
      ]
     },
     "execution_count": 66,
     "metadata": {},
     "output_type": "execute_result"
    }
   ],
   "source": [
    "df.groupby(df['Date'].dt.year).mean()['IQD']"
   ]
  },
  {
   "cell_type": "code",
   "execution_count": 67,
   "id": "4dcabf99-1d6e-4e43-96aa-8a7b56aa6053",
   "metadata": {},
   "outputs": [],
   "source": [
    "df.loc[df['Date'].dt.year == 2004, 'IQD'] = df.loc[df['Date'].dt.year == 2004, 'IQD'].fillna(1311.517255)\n",
    "df.loc[df['Date'].dt.year == 2005, 'IQD'] = df.loc[df['Date'].dt.year == 2005, 'IQD'].fillna(1430.446667)\n",
    "df.loc[df['Date'].dt.year == 2007, 'IQD'] = df.loc[df['Date'].dt.year == 2007, 'IQD'].fillna(1219.610465)\n",
    "df.loc[df['Date'].dt.year == 2008, 'IQD'] = df.loc[df['Date'].dt.year == 2008, 'IQD'].fillna(1175.142085)\n",
    "df.loc[df['Date'].dt.year == 2009, 'IQD'] = df.loc[df['Date'].dt.year == 2009, 'IQD'].fillna(1139.368992)\n",
    "df.loc[df['Date'].dt.year == 2010, 'IQD'] = df.loc[df['Date'].dt.year == 2010, 'IQD'].fillna(1139.417038)"
   ]
  },
  {
   "cell_type": "code",
   "execution_count": 68,
   "id": "d72bb9ad-938d-4b41-a236-3175d8edb734",
   "metadata": {},
   "outputs": [
    {
     "data": {
      "text/plain": [
       "array([], dtype=int64)"
      ]
     },
     "execution_count": 68,
     "metadata": {},
     "output_type": "execute_result"
    }
   ],
   "source": [
    "df[df['IQD'].isna()]['Date'].dt.year.unique()"
   ]
  },
  {
   "cell_type": "code",
   "execution_count": 69,
   "id": "dd01813c-10f3-4da3-afb8-3e9d0b9eb76b",
   "metadata": {},
   "outputs": [
    {
     "data": {
      "text/plain": [
       "array([2004, 2005, 2007, 2008, 2009, 2010], dtype=int64)"
      ]
     },
     "execution_count": 69,
     "metadata": {},
     "output_type": "execute_result"
    }
   ],
   "source": [
    "df[df['LAK'].isna()]['Date'].dt.year.unique()"
   ]
  },
  {
   "cell_type": "code",
   "execution_count": 70,
   "id": "57dc8591-98d6-4639-9172-aa70b83d1a30",
   "metadata": {},
   "outputs": [
    {
     "data": {
      "text/plain": [
       "Date\n",
       "2004     7622.044314\n",
       "2005     9282.931373\n",
       "2006     9662.261154\n",
       "2007     9350.424031\n",
       "2008     8597.249035\n",
       "2009     8344.527519\n",
       "2010     8145.299231\n",
       "2011     7961.180769\n",
       "2012     7892.369732\n",
       "2013     7723.376628\n",
       "2014     7890.199617\n",
       "2015     8002.056705\n",
       "2016     7932.711494\n",
       "2017     8066.292308\n",
       "2018     8306.387739\n",
       "2019     8613.065538\n",
       "2020     9020.342786\n",
       "2021     9684.036360\n",
       "2022    14179.484038\n",
       "Name: LAK, dtype: float64"
      ]
     },
     "execution_count": 70,
     "metadata": {},
     "output_type": "execute_result"
    }
   ],
   "source": [
    "df.groupby(df['Date'].dt.year).mean()['LAK']"
   ]
  },
  {
   "cell_type": "code",
   "execution_count": 71,
   "id": "2e526598-a29e-418f-a5c6-4275284db455",
   "metadata": {},
   "outputs": [],
   "source": [
    "df.loc[df['Date'].dt.year == 2004, 'LAK'] = df.loc[df['Date'].dt.year == 2004, 'LAK'].fillna(7622.044314)\n",
    "df.loc[df['Date'].dt.year == 2005, 'LAK'] = df.loc[df['Date'].dt.year == 2005, 'LAK'].fillna(9282.931373)\n",
    "df.loc[df['Date'].dt.year == 2007, 'LAK'] = df.loc[df['Date'].dt.year == 2007, 'LAK'].fillna(9350.424031)\n",
    "df.loc[df['Date'].dt.year == 2008, 'LAK'] = df.loc[df['Date'].dt.year == 2008, 'LAK'].fillna(8597.249035)\n",
    "df.loc[df['Date'].dt.year == 2009, 'LAK'] = df.loc[df['Date'].dt.year == 2009, 'LAK'].fillna(8344.527519)\n",
    "df.loc[df['Date'].dt.year == 2010, 'LAK'] = df.loc[df['Date'].dt.year == 2010, 'LAK'].fillna(8145.299231)"
   ]
  },
  {
   "cell_type": "code",
   "execution_count": 72,
   "id": "fba77654-9997-4f05-b8b4-5bd2f1708182",
   "metadata": {},
   "outputs": [
    {
     "data": {
      "text/plain": [
       "array([], dtype=int64)"
      ]
     },
     "execution_count": 72,
     "metadata": {},
     "output_type": "execute_result"
    }
   ],
   "source": [
    "df[df['LAK'].isna()]['Date'].dt.year.unique()"
   ]
  },
  {
   "cell_type": "code",
   "execution_count": 73,
   "id": "58cdd1ab-347f-4ace-8b19-ec2c22152a3f",
   "metadata": {},
   "outputs": [
    {
     "data": {
      "text/plain": [
       "array([2004, 2005, 2007, 2008, 2011, 2013, 2017], dtype=int64)"
      ]
     },
     "execution_count": 73,
     "metadata": {},
     "output_type": "execute_result"
    }
   ],
   "source": [
    "df[df['JPY'].isna()]['Date'].dt.year.unique()"
   ]
  },
  {
   "cell_type": "code",
   "execution_count": 74,
   "id": "bc4d6a01-c3e8-4a97-b025-be36e7bce5e9",
   "metadata": {},
   "outputs": [
    {
     "data": {
      "text/plain": [
       "Date\n",
       "2004    108.114291\n",
       "2005    110.169112\n",
       "2006    116.318885\n",
       "2007    117.813798\n",
       "2008    103.095267\n",
       "2009     93.586398\n",
       "2010     87.749464\n",
       "2011     79.718185\n",
       "2012     79.806015\n",
       "2013     97.581269\n",
       "2014    105.867356\n",
       "2015    121.028199\n",
       "2016    108.771149\n",
       "2017    112.156938\n",
       "2018    110.445441\n",
       "2019    109.007115\n",
       "2020    106.766489\n",
       "2021    109.825402\n",
       "2022    131.489692\n",
       "Name: JPY, dtype: float64"
      ]
     },
     "execution_count": 74,
     "metadata": {},
     "output_type": "execute_result"
    }
   ],
   "source": [
    "df.groupby(df['Date'].dt.year).mean()['JPY']"
   ]
  },
  {
   "cell_type": "code",
   "execution_count": 75,
   "id": "ae2042a6-df68-4ebe-872e-31b9a56fa5c1",
   "metadata": {},
   "outputs": [],
   "source": [
    "df.loc[df['Date'].dt.year == 2004, 'JPY'] = df.loc[df['Date'].dt.year == 2004, 'JPY'].fillna(108.114291)\n",
    "df.loc[df['Date'].dt.year == 2005, 'JPY'] = df.loc[df['Date'].dt.year == 2005, 'JPY'].fillna(110.169112)\n",
    "df.loc[df['Date'].dt.year == 2007, 'JPY'] = df.loc[df['Date'].dt.year == 2007, 'JPY'].fillna(117.813798)\n",
    "df.loc[df['Date'].dt.year == 2008, 'JPY'] = df.loc[df['Date'].dt.year == 2008, 'JPY'].fillna(103.095267)\n",
    "df.loc[df['Date'].dt.year == 2011, 'JPY'] = df.loc[df['Date'].dt.year == 2011, 'JPY'].fillna(79.718185)\n",
    "df.loc[df['Date'].dt.year == 2013, 'JPY'] = df.loc[df['Date'].dt.year == 2013, 'JPY'].fillna(97.581269)\n",
    "df.loc[df['Date'].dt.year == 2017, 'JPY'] = df.loc[df['Date'].dt.year == 2017, 'JPY'].fillna(112.156938)"
   ]
  },
  {
   "cell_type": "code",
   "execution_count": 76,
   "id": "bfcd2a23-18ca-4d74-9a6d-30798238f964",
   "metadata": {},
   "outputs": [
    {
     "data": {
      "text/plain": [
       "array([], dtype=int64)"
      ]
     },
     "execution_count": 76,
     "metadata": {},
     "output_type": "execute_result"
    }
   ],
   "source": [
    "df[df['JPY'].isna()]['Date'].dt.year.unique()"
   ]
  },
  {
   "cell_type": "code",
   "execution_count": 77,
   "id": "8b8c4670-c880-47a6-9032-5e0859b979cb",
   "metadata": {},
   "outputs": [
    {
     "data": {
      "text/plain": [
       "array([2007, 2008, 2011, 2012, 2013, 2017], dtype=int64)"
      ]
     },
     "execution_count": 77,
     "metadata": {},
     "output_type": "execute_result"
    }
   ],
   "source": [
    "df[df['IDR'].isna()]['Date'].dt.year.unique()"
   ]
  },
  {
   "cell_type": "code",
   "execution_count": 78,
   "id": "44901f5b-d57a-4b14-a409-54db45f32cd6",
   "metadata": {},
   "outputs": [
    {
     "data": {
      "text/plain": [
       "Date\n",
       "2004     8936.759542\n",
       "2005     9702.374231\n",
       "2006     9148.163077\n",
       "2007     9123.614729\n",
       "2008     9713.366529\n",
       "2009    10373.192337\n",
       "2010     9036.112490\n",
       "2011     8737.282625\n",
       "2012     9304.154615\n",
       "2013    10321.196538\n",
       "2014    11841.034483\n",
       "2015    13352.896552\n",
       "2016    13285.613027\n",
       "2017    13371.844961\n",
       "2018    14239.701916\n",
       "2019    14151.294923\n",
       "2020    14532.005229\n",
       "2021    14310.539617\n",
       "2022    14843.177308\n",
       "Name: IDR, dtype: float64"
      ]
     },
     "execution_count": 78,
     "metadata": {},
     "output_type": "execute_result"
    }
   ],
   "source": [
    "df.groupby(df['Date'].dt.year).mean()['IDR']"
   ]
  },
  {
   "cell_type": "code",
   "execution_count": 79,
   "id": "07b46ac9-468d-4524-9f31-f035ecf803bb",
   "metadata": {},
   "outputs": [],
   "source": [
    "df.loc[df['Date'].dt.year == 2004, 'IDR'] = df.loc[df['Date'].dt.year == 2004, 'IDR'].fillna(8936.759542)\n",
    "df.loc[df['Date'].dt.year == 2007, 'IDR'] = df.loc[df['Date'].dt.year == 2007, 'IDR'].fillna(9123.614729)\n",
    "df.loc[df['Date'].dt.year == 2008, 'IDR'] = df.loc[df['Date'].dt.year == 2008, 'IDR'].fillna(9713.366529)\n",
    "df.loc[df['Date'].dt.year == 2011, 'IDR'] = df.loc[df['Date'].dt.year == 2011, 'IDR'].fillna(8737.282625)\n",
    "df.loc[df['Date'].dt.year == 2012, 'IDR'] = df.loc[df['Date'].dt.year == 2012, 'IDR'].fillna(9304.154615)\n",
    "df.loc[df['Date'].dt.year == 2013, 'IDR'] = df.loc[df['Date'].dt.year == 2013, 'IDR'].fillna(10321.196538)\n",
    "df.loc[df['Date'].dt.year == 2017, 'IDR'] = df.loc[df['Date'].dt.year == 2017, 'IDR'].fillna(13371.844961)"
   ]
  },
  {
   "cell_type": "code",
   "execution_count": 80,
   "id": "8507696d-ceac-4cc6-805a-0b077b55aaa3",
   "metadata": {},
   "outputs": [
    {
     "data": {
      "text/plain": [
       "array([], dtype=int64)"
      ]
     },
     "execution_count": 80,
     "metadata": {},
     "output_type": "execute_result"
    }
   ],
   "source": [
    "df[df['IDR'].isna()]['Date'].dt.year.unique()"
   ]
  },
  {
   "cell_type": "code",
   "execution_count": 81,
   "id": "14cd8d65-1c0e-498b-82d1-42981f79fd4b",
   "metadata": {},
   "outputs": [
    {
     "data": {
      "text/plain": [
       "array([2004, 2005, 2007, 2008, 2011, 2013, 2017], dtype=int64)"
      ]
     },
     "execution_count": 81,
     "metadata": {},
     "output_type": "execute_result"
    }
   ],
   "source": [
    "df[df['THB'].isna()]['Date'].dt.year.unique()"
   ]
  },
  {
   "cell_type": "code",
   "execution_count": 82,
   "id": "74dbd7b5-835f-4b59-9df4-b5b023e51bb0",
   "metadata": {},
   "outputs": [
    {
     "data": {
      "text/plain": [
       "Date\n",
       "2004    40.192797\n",
       "2005    40.218880\n",
       "2006    37.862462\n",
       "2007    32.166744\n",
       "2008    32.760000\n",
       "2009    34.132146\n",
       "2010    31.495441\n",
       "2011    30.377838\n",
       "2012    30.957318\n",
       "2013    30.598923\n",
       "2014    32.417088\n",
       "2015    34.215326\n",
       "2016    35.219962\n",
       "2017    33.929612\n",
       "2018    32.308008\n",
       "2019    31.037346\n",
       "2020    31.269084\n",
       "2021    31.972261\n",
       "2022    35.032808\n",
       "Name: THB, dtype: float64"
      ]
     },
     "execution_count": 82,
     "metadata": {},
     "output_type": "execute_result"
    }
   ],
   "source": [
    "df.groupby(df['Date'].dt.year).mean()['THB']"
   ]
  },
  {
   "cell_type": "code",
   "execution_count": 83,
   "id": "b46b9cf2-4923-40fe-9f7d-2f4fb88e3db7",
   "metadata": {},
   "outputs": [],
   "source": [
    "df.loc[df['Date'].dt.year == 2004, 'THB'] = df.loc[df['Date'].dt.year == 2004, 'THB'].fillna(40.192797)\n",
    "df.loc[df['Date'].dt.year == 2005, 'THB'] = df.loc[df['Date'].dt.year == 2005, 'THB'].fillna(40.218880)\n",
    "df.loc[df['Date'].dt.year == 2007, 'THB'] = df.loc[df['Date'].dt.year == 2007, 'THB'].fillna(32.166744)\n",
    "df.loc[df['Date'].dt.year == 2008, 'THB'] = df.loc[df['Date'].dt.year == 2008, 'THB'].fillna(32.760000)\n",
    "df.loc[df['Date'].dt.year == 2011, 'THB'] = df.loc[df['Date'].dt.year == 2011, 'THB'].fillna(30.377838)\n",
    "df.loc[df['Date'].dt.year == 2013, 'THB'] = df.loc[df['Date'].dt.year == 2013, 'THB'].fillna(30.598923)\n",
    "df.loc[df['Date'].dt.year == 2017, 'THB'] = df.loc[df['Date'].dt.year == 2017, 'THB'].fillna(33.929612)"
   ]
  },
  {
   "cell_type": "code",
   "execution_count": 84,
   "id": "345aaacc-4bf7-4bbf-afef-1ad5a9492118",
   "metadata": {},
   "outputs": [
    {
     "data": {
      "text/plain": [
       "array([], dtype=int64)"
      ]
     },
     "execution_count": 84,
     "metadata": {},
     "output_type": "execute_result"
    }
   ],
   "source": [
    "df[df['THB'].isna()]['Date'].dt.year.unique()"
   ]
  },
  {
   "cell_type": "code",
   "execution_count": 85,
   "id": "c4cfdb2a-203f-4f87-bdf6-4c7bf1306d04",
   "metadata": {},
   "outputs": [
    {
     "data": {
      "text/plain": [
       "array([2004, 2005, 2007, 2008, 2011, 2012, 2013, 2017], dtype=int64)"
      ]
     },
     "execution_count": 85,
     "metadata": {},
     "output_type": "execute_result"
    }
   ],
   "source": [
    "df[df['KRW'].isna()]['Date'].dt.year.unique()"
   ]
  },
  {
   "cell_type": "code",
   "execution_count": 86,
   "id": "336b3b04-0160-4e03-88b5-732174e73d9d",
   "metadata": {
    "scrolled": true,
    "tags": []
   },
   "outputs": [
    {
     "data": {
      "text/plain": [
       "Date\n",
       "2004    1141.757088\n",
       "2005    1020.423861\n",
       "2006     941.396115\n",
       "2007     923.976202\n",
       "2008    1104.869215\n",
       "2009    1272.312261\n",
       "2010    1154.686207\n",
       "2011    1106.006178\n",
       "2012    1123.652346\n",
       "2013    1091.122192\n",
       "2014    1051.443793\n",
       "2015    1129.992490\n",
       "2016    1158.687011\n",
       "2017    1129.928256\n",
       "2018    1099.446475\n",
       "2019    1164.024423\n",
       "2020    1178.353740\n",
       "2021    1143.850536\n",
       "2022    1291.037692\n",
       "Name: KRW, dtype: float64"
      ]
     },
     "execution_count": 86,
     "metadata": {},
     "output_type": "execute_result"
    }
   ],
   "source": [
    "df.groupby(df['Date'].dt.year).mean()['KRW']"
   ]
  },
  {
   "cell_type": "code",
   "execution_count": 87,
   "id": "6a0cb49d-2278-4f65-91e6-4f96939c94b2",
   "metadata": {},
   "outputs": [],
   "source": [
    "df.loc[df['Date'].dt.year == 2004, 'KRW'] = df.loc[df['Date'].dt.year == 2004, 'KRW'].fillna(1141.757088)\n",
    "df.loc[df['Date'].dt.year == 2005, 'KRW'] = df.loc[df['Date'].dt.year == 2005, 'KRW'].fillna(1020.423861)\n",
    "df.loc[df['Date'].dt.year == 2007, 'KRW'] = df.loc[df['Date'].dt.year == 2007, 'KRW'].fillna(923.976202)\n",
    "df.loc[df['Date'].dt.year == 2008, 'KRW'] = df.loc[df['Date'].dt.year == 2008, 'KRW'].fillna(1104.869215)\n",
    "df.loc[df['Date'].dt.year == 2011, 'KRW'] = df.loc[df['Date'].dt.year == 2011, 'KRW'].fillna(1106.006178)\n",
    "df.loc[df['Date'].dt.year == 2012, 'KRW'] = df.loc[df['Date'].dt.year == 2012, 'KRW'].fillna(1123.652346)\n",
    "df.loc[df['Date'].dt.year == 2013, 'KRW'] = df.loc[df['Date'].dt.year == 2013, 'KRW'].fillna(1091.122192)\n",
    "df.loc[df['Date'].dt.year == 2017, 'KRW'] = df.loc[df['Date'].dt.year == 2017, 'KRW'].fillna(1129.928256)"
   ]
  },
  {
   "cell_type": "code",
   "execution_count": 88,
   "id": "b3349415-a96e-434f-aee9-6ce36d378d08",
   "metadata": {},
   "outputs": [
    {
     "data": {
      "text/plain": [
       "array([], dtype=int64)"
      ]
     },
     "execution_count": 88,
     "metadata": {},
     "output_type": "execute_result"
    }
   ],
   "source": [
    "df[df['KRW'].isna()]['Date'].dt.year.unique()"
   ]
  },
  {
   "cell_type": "code",
   "execution_count": 89,
   "id": "41b4fa12-9540-4c61-93f2-9a7bccc9796a",
   "metadata": {},
   "outputs": [
    {
     "data": {
      "text/plain": [
       "array([2004, 2005, 2007, 2008, 2011, 2013, 2017, 2020], dtype=int64)"
      ]
     },
     "execution_count": 89,
     "metadata": {},
     "output_type": "execute_result"
    }
   ],
   "source": [
    "df[df['ILS'].isna()]['Date'].dt.year.unique()"
   ]
  },
  {
   "cell_type": "code",
   "execution_count": 90,
   "id": "11abd78c-1c7a-4461-b9c0-8c6991f6daaa",
   "metadata": {
    "scrolled": true,
    "tags": []
   },
   "outputs": [
    {
     "data": {
      "text/plain": [
       "Date\n",
       "2004    4.469310\n",
       "2005    4.477220\n",
       "2006    4.447154\n",
       "2007    4.104612\n",
       "2008    3.584421\n",
       "2009    3.922490\n",
       "2010    3.729425\n",
       "2011    3.570579\n",
       "2012    3.848927\n",
       "2013    3.605077\n",
       "2014    3.571456\n",
       "2015    3.879732\n",
       "2016    3.833218\n",
       "2017    3.594884\n",
       "2018    3.590728\n",
       "2019    3.563000\n",
       "2020    3.437050\n",
       "2021    3.229655\n",
       "2022    3.357115\n",
       "Name: ILS, dtype: float64"
      ]
     },
     "execution_count": 90,
     "metadata": {},
     "output_type": "execute_result"
    }
   ],
   "source": [
    "df.groupby(df['Date'].dt.year).mean()['ILS']"
   ]
  },
  {
   "cell_type": "code",
   "execution_count": 91,
   "id": "e9031f06-76ba-480b-8fe9-79491d1fcc2d",
   "metadata": {},
   "outputs": [],
   "source": [
    "df.loc[df['Date'].dt.year == 2004, 'ILS'] = df.loc[df['Date'].dt.year == 2004, 'ILS'].fillna(4.469310)\n",
    "df.loc[df['Date'].dt.year == 2005, 'ILS'] = df.loc[df['Date'].dt.year == 2005, 'ILS'].fillna(4.477220)\n",
    "df.loc[df['Date'].dt.year == 2007, 'ILS'] = df.loc[df['Date'].dt.year == 2007, 'ILS'].fillna(4.104612)\n",
    "df.loc[df['Date'].dt.year == 2008, 'ILS'] = df.loc[df['Date'].dt.year == 2008, 'ILS'].fillna(3.584421)\n",
    "df.loc[df['Date'].dt.year == 2011, 'ILS'] = df.loc[df['Date'].dt.year == 2011, 'ILS'].fillna(3.570579)\n",
    "df.loc[df['Date'].dt.year == 2013, 'ILS'] = df.loc[df['Date'].dt.year == 2013, 'ILS'].fillna(3.605077)\n",
    "df.loc[df['Date'].dt.year == 2017, 'ILS'] = df.loc[df['Date'].dt.year == 2017, 'ILS'].fillna(3.594884)\n",
    "df.loc[df['Date'].dt.year == 2020, 'ILS'] = df.loc[df['Date'].dt.year == 2020, 'ILS'].fillna(3.437050)"
   ]
  },
  {
   "cell_type": "code",
   "execution_count": 92,
   "id": "8e57bf64-4721-48da-ba60-32666efc0a4b",
   "metadata": {},
   "outputs": [
    {
     "data": {
      "text/plain": [
       "array([], dtype=int64)"
      ]
     },
     "execution_count": 92,
     "metadata": {},
     "output_type": "execute_result"
    }
   ],
   "source": [
    "df[df['ILS'].isna()]['Date'].dt.year.unique()"
   ]
  },
  {
   "cell_type": "code",
   "execution_count": 93,
   "id": "a1125d3d-d15d-472c-b1b2-31d2c95430d9",
   "metadata": {},
   "outputs": [
    {
     "data": {
      "text/plain": [
       "array([2004, 2005, 2007, 2008, 2009, 2011, 2013, 2017], dtype=int64)"
      ]
     },
     "execution_count": 93,
     "metadata": {},
     "output_type": "execute_result"
    }
   ],
   "source": [
    "df[df['INR'].isna()]['Date'].dt.year.unique()"
   ]
  },
  {
   "cell_type": "code",
   "execution_count": 94,
   "id": "93b473b6-4e8b-4316-a150-dcabc587e713",
   "metadata": {},
   "outputs": [
    {
     "data": {
      "text/plain": [
       "Date\n",
       "2004    45.188692\n",
       "2005    44.003707\n",
       "2006    45.183385\n",
       "2007    41.191822\n",
       "2008    43.464587\n",
       "2009    48.283615\n",
       "2010    45.622222\n",
       "2011    46.562548\n",
       "2012    53.405019\n",
       "2013    58.529038\n",
       "2014    60.973410\n",
       "2015    64.124176\n",
       "2016    67.166667\n",
       "2017    65.109612\n",
       "2018    68.451609\n",
       "2019    70.509769\n",
       "2020    74.222786\n",
       "2021    73.935862\n",
       "2022    78.576846\n",
       "Name: INR, dtype: float64"
      ]
     },
     "execution_count": 94,
     "metadata": {},
     "output_type": "execute_result"
    }
   ],
   "source": [
    "df.groupby(df['Date'].dt.year).mean()['INR']"
   ]
  },
  {
   "cell_type": "code",
   "execution_count": 95,
   "id": "e5004317-30f8-44ca-87f0-8e76ddb00051",
   "metadata": {},
   "outputs": [],
   "source": [
    "df.loc[df['Date'].dt.year == 2004, 'INR'] = df.loc[df['Date'].dt.year == 2004, 'INR'].fillna(45.188692)\n",
    "df.loc[df['Date'].dt.year == 2005, 'INR'] = df.loc[df['Date'].dt.year == 2005, 'INR'].fillna(44.003707)\n",
    "df.loc[df['Date'].dt.year == 2007, 'INR'] = df.loc[df['Date'].dt.year == 2007, 'INR'].fillna(41.191822)\n",
    "df.loc[df['Date'].dt.year == 2008, 'INR'] = df.loc[df['Date'].dt.year == 2008, 'INR'].fillna(43.464587)\n",
    "df.loc[df['Date'].dt.year == 2009, 'INR'] = df.loc[df['Date'].dt.year == 2009, 'INR'].fillna(48.283615)\n",
    "df.loc[df['Date'].dt.year == 2011, 'INR'] = df.loc[df['Date'].dt.year == 2011, 'INR'].fillna(46.562548)\n",
    "df.loc[df['Date'].dt.year == 2013, 'INR'] = df.loc[df['Date'].dt.year == 2013, 'INR'].fillna(58.529038)\n",
    "df.loc[df['Date'].dt.year == 2017, 'INR'] = df.loc[df['Date'].dt.year == 2017, 'INR'].fillna(65.109612)"
   ]
  },
  {
   "cell_type": "code",
   "execution_count": 96,
   "id": "fa7108f4-133d-4aaa-a487-0a799b011ee3",
   "metadata": {},
   "outputs": [
    {
     "data": {
      "text/plain": [
       "array([], dtype=int64)"
      ]
     },
     "execution_count": 96,
     "metadata": {},
     "output_type": "execute_result"
    }
   ],
   "source": [
    "df[df['INR'].isna()]['Date'].dt.year.unique()"
   ]
  },
  {
   "cell_type": "code",
   "execution_count": 97,
   "id": "6f04f52b-82b2-4133-b7a7-793b1bb496f5",
   "metadata": {},
   "outputs": [
    {
     "data": {
      "text/plain": [
       "array([2007, 2008, 2009, 2010, 2011, 2012, 2013, 2017], dtype=int64)"
      ]
     },
     "execution_count": 97,
     "metadata": {},
     "output_type": "execute_result"
    }
   ],
   "source": [
    "df[df['BND'].isna()]['Date'].dt.year.unique()"
   ]
  },
  {
   "cell_type": "code",
   "execution_count": 98,
   "id": "17a6b529-bbea-45fa-98bd-903e742c296b",
   "metadata": {
    "scrolled": true,
    "tags": []
   },
   "outputs": [
    {
     "data": {
      "text/plain": [
       "Date\n",
       "2004    1.668702\n",
       "2005    1.642885\n",
       "2006    1.563654\n",
       "2007    1.486667\n",
       "2008    1.399587\n",
       "2009    1.436008\n",
       "2010    1.343654\n",
       "2011    1.239151\n",
       "2012    1.230462\n",
       "2013    1.231737\n",
       "2014    1.247854\n",
       "2015    1.351418\n",
       "2016    1.358199\n",
       "2017    1.359457\n",
       "2018    1.036207\n",
       "2019    1.286038\n",
       "2020    1.357748\n",
       "2021    1.322720\n",
       "2022    1.354808\n",
       "Name: BND, dtype: float64"
      ]
     },
     "execution_count": 98,
     "metadata": {},
     "output_type": "execute_result"
    }
   ],
   "source": [
    "df.groupby(df['Date'].dt.year).mean()['BND']"
   ]
  },
  {
   "cell_type": "code",
   "execution_count": 99,
   "id": "c787518c-fd54-4b15-b2cf-4aba17429ca0",
   "metadata": {},
   "outputs": [],
   "source": [
    "df.loc[df['Date'].dt.year == 2007, 'BND'] = df.loc[df['Date'].dt.year == 2007, 'BND'].fillna(1.486667)\n",
    "df.loc[df['Date'].dt.year == 2008, 'BND'] = df.loc[df['Date'].dt.year == 2008, 'BND'].fillna(1.399587)\n",
    "df.loc[df['Date'].dt.year == 2009, 'BND'] = df.loc[df['Date'].dt.year == 2009, 'BND'].fillna(1.436008)\n",
    "df.loc[df['Date'].dt.year == 2010, 'BND'] = df.loc[df['Date'].dt.year == 2010, 'BND'].fillna(1.343654)\n",
    "df.loc[df['Date'].dt.year == 2011, 'BND'] = df.loc[df['Date'].dt.year == 2011, 'BND'].fillna(1.239151)\n",
    "df.loc[df['Date'].dt.year == 2012, 'BND'] = df.loc[df['Date'].dt.year == 2012, 'BND'].fillna(1.230462)\n",
    "df.loc[df['Date'].dt.year == 2013, 'BND'] = df.loc[df['Date'].dt.year == 2013, 'BND'].fillna(1.231737)\n",
    "df.loc[df['Date'].dt.year == 2017, 'BND'] = df.loc[df['Date'].dt.year == 2017, 'BND'].fillna(1.359457)"
   ]
  },
  {
   "cell_type": "code",
   "execution_count": 100,
   "id": "9f76cb82-3e76-448d-b940-d917a2a66f93",
   "metadata": {},
   "outputs": [
    {
     "data": {
      "text/plain": [
       "array([], dtype=int64)"
      ]
     },
     "execution_count": 100,
     "metadata": {},
     "output_type": "execute_result"
    }
   ],
   "source": [
    "df[df['BND'].isna()]['Date'].dt.year.unique()"
   ]
  },
  {
   "cell_type": "code",
   "execution_count": 101,
   "id": "e1f3cf7e-a1c5-4360-bbd3-69386fb501ed",
   "metadata": {},
   "outputs": [
    {
     "data": {
      "text/plain": [
       "array([2004, 2005, 2007, 2008, 2010, 2011, 2013, 2014, 2017, 2019],\n",
       "      dtype=int64)"
      ]
     },
     "execution_count": 101,
     "metadata": {},
     "output_type": "execute_result"
    }
   ],
   "source": [
    "df[df['SAR'].isna()]['Date'].dt.year.unique()"
   ]
  },
  {
   "cell_type": "code",
   "execution_count": 102,
   "id": "994def6c-5844-4b7d-b871-c9c666ef18f1",
   "metadata": {},
   "outputs": [
    {
     "data": {
      "text/plain": [
       "Date\n",
       "2004    3.750000\n",
       "2005    3.750000\n",
       "2006    3.749885\n",
       "2007    3.742132\n",
       "2008    3.741198\n",
       "2009    3.745939\n",
       "2010    3.749654\n",
       "2011    3.749884\n",
       "2012    3.749655\n",
       "2013    3.749654\n",
       "2014    3.749462\n",
       "2015    3.749195\n",
       "2016    3.746705\n",
       "2017    3.749380\n",
       "2018    3.749885\n",
       "2019    3.749846\n",
       "2020    3.750153\n",
       "2021    3.749923\n",
       "2022    3.751462\n",
       "Name: SAR, dtype: float64"
      ]
     },
     "execution_count": 102,
     "metadata": {},
     "output_type": "execute_result"
    }
   ],
   "source": [
    "df.groupby(df['Date'].dt.year).mean()['SAR']"
   ]
  },
  {
   "cell_type": "code",
   "execution_count": 103,
   "id": "d0963e60-45a9-436a-bcc7-408e7f675ff7",
   "metadata": {},
   "outputs": [],
   "source": [
    "df.loc[df['Date'].dt.year == 2004, 'SAR'] = df.loc[df['Date'].dt.year == 2004, 'SAR'].fillna(3.750000)\n",
    "df.loc[df['Date'].dt.year == 2005, 'SAR'] = df.loc[df['Date'].dt.year == 2005, 'SAR'].fillna(3.750000)\n",
    "df.loc[df['Date'].dt.year == 2007, 'SAR'] = df.loc[df['Date'].dt.year == 2007, 'SAR'].fillna(3.742132)\n",
    "df.loc[df['Date'].dt.year == 2008, 'SAR'] = df.loc[df['Date'].dt.year == 2008, 'SAR'].fillna(3.741198)\n",
    "df.loc[df['Date'].dt.year == 2010, 'SAR'] = df.loc[df['Date'].dt.year == 2010, 'SAR'].fillna(3.749654)\n",
    "df.loc[df['Date'].dt.year == 2011, 'SAR'] = df.loc[df['Date'].dt.year == 2011, 'SAR'].fillna(3.749884)\n",
    "df.loc[df['Date'].dt.year == 2013, 'SAR'] = df.loc[df['Date'].dt.year == 2013, 'SAR'].fillna(3.749654)\n",
    "df.loc[df['Date'].dt.year == 2014, 'SAR'] = df.loc[df['Date'].dt.year == 2014, 'SAR'].fillna(3.749462)\n",
    "df.loc[df['Date'].dt.year == 2017, 'SAR'] = df.loc[df['Date'].dt.year == 2017, 'SAR'].fillna(3.749380)\n",
    "df.loc[df['Date'].dt.year == 2019, 'SAR'] = df.loc[df['Date'].dt.year == 2019, 'SAR'].fillna(3.749846)"
   ]
  },
  {
   "cell_type": "code",
   "execution_count": 104,
   "id": "472b76a1-ee62-443c-9de2-3ee9bab73a98",
   "metadata": {},
   "outputs": [
    {
     "data": {
      "text/plain": [
       "array([], dtype=int64)"
      ]
     },
     "execution_count": 104,
     "metadata": {},
     "output_type": "execute_result"
    }
   ],
   "source": [
    "df[df['SAR'].isna()]['Date'].dt.year.unique()"
   ]
  },
  {
   "cell_type": "code",
   "execution_count": 105,
   "id": "a6da6688-9ad8-418d-998e-ac2e6a6fbed9",
   "metadata": {},
   "outputs": [
    {
     "data": {
      "text/plain": [
       "array([2004, 2005, 2007, 2008, 2009, 2010, 2011, 2012, 2013, 2017],\n",
       "      dtype=int64)"
      ]
     },
     "execution_count": 105,
     "metadata": {},
     "output_type": "execute_result"
    }
   ],
   "source": [
    "df[df['PHP'].isna()]['Date'].dt.year.unique()"
   ]
  },
  {
   "cell_type": "code",
   "execution_count": 106,
   "id": "0f48130b-d5e6-43c4-80ec-ef61213be6c6",
   "metadata": {},
   "outputs": [
    {
     "data": {
      "text/plain": [
       "Date\n",
       "2004    55.795753\n",
       "2005    54.923977\n",
       "2006    51.114654\n",
       "2007    45.940581\n",
       "2008    44.273719\n",
       "2009    47.431269\n",
       "2010    44.992423\n",
       "2011    43.196371\n",
       "2012    42.109615\n",
       "2013    42.336500\n",
       "2014    44.310077\n",
       "2015    45.400038\n",
       "2016    47.338276\n",
       "2017    50.277171\n",
       "2018    52.586475\n",
       "2019    51.745231\n",
       "2020    49.610344\n",
       "2021    49.292912\n",
       "2022    54.537115\n",
       "Name: PHP, dtype: float64"
      ]
     },
     "execution_count": 106,
     "metadata": {},
     "output_type": "execute_result"
    }
   ],
   "source": [
    "df.groupby(df['Date'].dt.year).mean()['PHP']"
   ]
  },
  {
   "cell_type": "code",
   "execution_count": 107,
   "id": "858984f5-a85d-42f5-aede-82dbd9f86bdd",
   "metadata": {},
   "outputs": [],
   "source": [
    "df.loc[df['Date'].dt.year == 2004, 'PHP'] = df.loc[df['Date'].dt.year == 2004, 'PHP'].fillna(55.795753)\n",
    "df.loc[df['Date'].dt.year == 2005, 'PHP'] = df.loc[df['Date'].dt.year == 2005, 'PHP'].fillna(54.923977)\n",
    "df.loc[df['Date'].dt.year == 2007, 'PHP'] = df.loc[df['Date'].dt.year == 2007, 'PHP'].fillna(45.940581)\n",
    "df.loc[df['Date'].dt.year == 2008, 'PHP'] = df.loc[df['Date'].dt.year == 2008, 'PHP'].fillna(44.273719)\n",
    "df.loc[df['Date'].dt.year == 2009, 'PHP'] = df.loc[df['Date'].dt.year == 2009, 'PHP'].fillna(47.431269)\n",
    "df.loc[df['Date'].dt.year == 2010, 'PHP'] = df.loc[df['Date'].dt.year == 2010, 'PHP'].fillna(44.992423)\n",
    "df.loc[df['Date'].dt.year == 2011, 'PHP'] = df.loc[df['Date'].dt.year == 2011, 'PHP'].fillna(43.196371)\n",
    "df.loc[df['Date'].dt.year == 2012, 'PHP'] = df.loc[df['Date'].dt.year == 2012, 'PHP'].fillna(42.109615)\n",
    "df.loc[df['Date'].dt.year == 2013, 'PHP'] = df.loc[df['Date'].dt.year == 2013, 'PHP'].fillna(42.336500)\n",
    "df.loc[df['Date'].dt.year == 2017, 'PHP'] = df.loc[df['Date'].dt.year == 2017, 'PHP'].fillna(50.277171)"
   ]
  },
  {
   "cell_type": "code",
   "execution_count": 108,
   "id": "e69e72c1-f25e-4f63-8f3e-6c2ea2bebcaa",
   "metadata": {},
   "outputs": [
    {
     "data": {
      "text/plain": [
       "array([], dtype=int64)"
      ]
     },
     "execution_count": 108,
     "metadata": {},
     "output_type": "execute_result"
    }
   ],
   "source": [
    "df[df['PHP'].isna()]['Date'].dt.year.unique()"
   ]
  },
  {
   "cell_type": "code",
   "execution_count": 109,
   "id": "c79a6f28-f39f-4a6b-913b-476c9ca14679",
   "metadata": {},
   "outputs": [
    {
     "data": {
      "text/plain": [
       "array([2004, 2005, 2007, 2008, 2009, 2010, 2011, 2013, 2017, 2019],\n",
       "      dtype=int64)"
      ]
     },
     "execution_count": 109,
     "metadata": {},
     "output_type": "execute_result"
    }
   ],
   "source": [
    "df[df['KWD'].isna()]['Date'].dt.year.unique()"
   ]
  },
  {
   "cell_type": "code",
   "execution_count": 110,
   "id": "09fa07da-8774-43e9-9c22-9511cc9ee9d6",
   "metadata": {
    "scrolled": true,
    "tags": []
   },
   "outputs": [
    {
     "data": {
      "text/plain": [
       "Date\n",
       "2004    0.290000\n",
       "2005    0.290000\n",
       "2006    0.290000\n",
       "2007    0.284612\n",
       "2008    0.268017\n",
       "2009    0.287181\n",
       "2010    0.287000\n",
       "2011    0.276641\n",
       "2012    0.280000\n",
       "2013    0.281308\n",
       "2014    0.283218\n",
       "2015    0.298889\n",
       "2016    0.300421\n",
       "2017    0.301008\n",
       "2018    0.300000\n",
       "2019    0.300000\n",
       "2020    0.306947\n",
       "2021    0.300000\n",
       "2022    0.307038\n",
       "Name: KWD, dtype: float64"
      ]
     },
     "execution_count": 110,
     "metadata": {},
     "output_type": "execute_result"
    }
   ],
   "source": [
    "df.groupby(df['Date'].dt.year).mean()['KWD']"
   ]
  },
  {
   "cell_type": "code",
   "execution_count": 111,
   "id": "0ac41112-bbc6-474a-a924-ea779c6657f3",
   "metadata": {},
   "outputs": [],
   "source": [
    "df.loc[df['Date'].dt.year == 2004, 'KWD'] = df.loc[df['Date'].dt.year == 2004, 'KWD'].fillna(0.290000)\n",
    "df.loc[df['Date'].dt.year == 2005, 'KWD'] = df.loc[df['Date'].dt.year == 2005, 'KWD'].fillna(0.290000)\n",
    "df.loc[df['Date'].dt.year == 2007, 'KWD'] = df.loc[df['Date'].dt.year == 2007, 'KWD'].fillna(0.284612)\n",
    "df.loc[df['Date'].dt.year == 2008, 'KWD'] = df.loc[df['Date'].dt.year == 2008, 'KWD'].fillna(0.268017)\n",
    "df.loc[df['Date'].dt.year == 2009, 'KWD'] = df.loc[df['Date'].dt.year == 2009, 'KWD'].fillna(0.287181)\n",
    "df.loc[df['Date'].dt.year == 2010, 'KWD'] = df.loc[df['Date'].dt.year == 2010, 'KWD'].fillna(0.287000)\n",
    "df.loc[df['Date'].dt.year == 2011, 'KWD'] = df.loc[df['Date'].dt.year == 2011, 'KWD'].fillna(0.276641)\n",
    "df.loc[df['Date'].dt.year == 2013, 'KWD'] = df.loc[df['Date'].dt.year == 2013, 'KWD'].fillna(0.281308)\n",
    "df.loc[df['Date'].dt.year == 2017, 'KWD'] = df.loc[df['Date'].dt.year == 2017, 'KWD'].fillna(0.301008)\n",
    "df.loc[df['Date'].dt.year == 2019, 'KWD'] = df.loc[df['Date'].dt.year == 2019, 'KWD'].fillna(0.300000)"
   ]
  },
  {
   "cell_type": "code",
   "execution_count": 112,
   "id": "13dd8e48-f2e7-4390-be7e-8b8af250dc29",
   "metadata": {},
   "outputs": [
    {
     "data": {
      "text/plain": [
       "array([], dtype=int64)"
      ]
     },
     "execution_count": 112,
     "metadata": {},
     "output_type": "execute_result"
    }
   ],
   "source": [
    "df[df['KWD'].isna()]['Date'].dt.year.unique()"
   ]
  },
  {
   "cell_type": "code",
   "execution_count": 113,
   "id": "4f8e5d32-fb29-4564-b31b-66215e0c9e59",
   "metadata": {},
   "outputs": [
    {
     "data": {
      "text/plain": [
       "array([2004, 2005, 2007, 2008, 2009, 2010, 2011, 2013, 2017], dtype=int64)"
      ]
     },
     "execution_count": 113,
     "metadata": {},
     "output_type": "execute_result"
    }
   ],
   "source": [
    "df[df['LKR'].isna()]['Date'].dt.year.unique()"
   ]
  },
  {
   "cell_type": "code",
   "execution_count": 114,
   "id": "699a67e6-90cb-4914-8d3c-d91a71822bbc",
   "metadata": {
    "scrolled": true,
    "tags": []
   },
   "outputs": [
    {
     "data": {
      "text/plain": [
       "Date\n",
       "2004    100.884672\n",
       "2005    100.277375\n",
       "2006    102.004038\n",
       "2007    107.818482\n",
       "2008    106.694917\n",
       "2009    114.606293\n",
       "2010    112.669962\n",
       "2011    109.905985\n",
       "2012    127.220881\n",
       "2013    128.846615\n",
       "2014    130.385824\n",
       "2015    133.002375\n",
       "2016    143.006092\n",
       "2017    149.486783\n",
       "2018    161.875939\n",
       "2019    177.580423\n",
       "2020    182.360344\n",
       "2021    195.447318\n",
       "2022    320.780731\n",
       "Name: LKR, dtype: float64"
      ]
     },
     "execution_count": 114,
     "metadata": {},
     "output_type": "execute_result"
    }
   ],
   "source": [
    "df.groupby(df['Date'].dt.year).mean()['LKR']"
   ]
  },
  {
   "cell_type": "code",
   "execution_count": 115,
   "id": "fb708e0f-bf91-4462-a4eb-a5cc6bbca162",
   "metadata": {},
   "outputs": [],
   "source": [
    "df.loc[df['Date'].dt.year == 2004, 'LKR'] = df.loc[df['Date'].dt.year == 2004, 'LKR'].fillna(100.884672)\n",
    "df.loc[df['Date'].dt.year == 2005, 'LKR'] = df.loc[df['Date'].dt.year == 2005, 'LKR'].fillna(100.277375)\n",
    "df.loc[df['Date'].dt.year == 2007, 'LKR'] = df.loc[df['Date'].dt.year == 2007, 'LKR'].fillna(107.818482)\n",
    "df.loc[df['Date'].dt.year == 2008, 'LKR'] = df.loc[df['Date'].dt.year == 2008, 'LKR'].fillna(106.694917)\n",
    "df.loc[df['Date'].dt.year == 2009, 'LKR'] = df.loc[df['Date'].dt.year == 2009, 'LKR'].fillna(114.606293)\n",
    "df.loc[df['Date'].dt.year == 2010, 'LKR'] = df.loc[df['Date'].dt.year == 2010, 'LKR'].fillna(112.669962)\n",
    "df.loc[df['Date'].dt.year == 2011, 'LKR'] = df.loc[df['Date'].dt.year == 2011, 'LKR'].fillna(109.905985)\n",
    "df.loc[df['Date'].dt.year == 2013, 'LKR'] = df.loc[df['Date'].dt.year == 2013, 'LKR'].fillna(128.846615)\n",
    "df.loc[df['Date'].dt.year == 2017, 'LKR'] = df.loc[df['Date'].dt.year == 2017, 'LKR'].fillna(149.486783)"
   ]
  },
  {
   "cell_type": "code",
   "execution_count": 116,
   "id": "15ee351e-bb2b-4e09-89a9-aacc0808733f",
   "metadata": {},
   "outputs": [
    {
     "data": {
      "text/plain": [
       "array([], dtype=int64)"
      ]
     },
     "execution_count": 116,
     "metadata": {},
     "output_type": "execute_result"
    }
   ],
   "source": [
    "df[df['LKR'].isna()]['Date'].dt.year.unique()"
   ]
  },
  {
   "cell_type": "code",
   "execution_count": 117,
   "id": "2ae46537-2817-48e9-9cbf-aa487b1def67",
   "metadata": {},
   "outputs": [
    {
     "data": {
      "text/plain": [
       "array([2004, 2007, 2008, 2009, 2010, 2011, 2013, 2017], dtype=int64)"
      ]
     },
     "execution_count": 117,
     "metadata": {},
     "output_type": "execute_result"
    }
   ],
   "source": [
    "df[df['KZT'].isna()]['Date'].dt.year.unique()"
   ]
  },
  {
   "cell_type": "code",
   "execution_count": 118,
   "id": "1360aab6-7e88-4262-88c4-6b2d61f2f721",
   "metadata": {
    "scrolled": true,
    "tags": []
   },
   "outputs": [
    {
     "data": {
      "text/plain": [
       "Date\n",
       "2004    161.124825\n",
       "2005    161.703115\n",
       "2006    151.725038\n",
       "2007    149.099377\n",
       "2008    148.322810\n",
       "2009    175.483372\n",
       "2010    175.045500\n",
       "2011    174.484865\n",
       "2012    176.798276\n",
       "2013    179.882615\n",
       "2014    180.496130\n",
       "2015    219.954138\n",
       "2016    339.407165\n",
       "2017    323.568411\n",
       "2018    344.093640\n",
       "2019    381.761615\n",
       "2020    411.414237\n",
       "2021    424.184138\n",
       "2022    458.691115\n",
       "Name: KZT, dtype: float64"
      ]
     },
     "execution_count": 118,
     "metadata": {},
     "output_type": "execute_result"
    }
   ],
   "source": [
    "df.groupby(df['Date'].dt.year).mean()['KZT']"
   ]
  },
  {
   "cell_type": "code",
   "execution_count": 119,
   "id": "cdf516eb-7ba3-494c-911b-7ab3bedbbbd9",
   "metadata": {},
   "outputs": [],
   "source": [
    "df.loc[df['Date'].dt.year == 2004, 'KZT'] = df.loc[df['Date'].dt.year == 2004, 'KZT'].fillna(161.124825)\n",
    "df.loc[df['Date'].dt.year == 2007, 'KZT'] = df.loc[df['Date'].dt.year == 2007, 'KZT'].fillna(149.099377)\n",
    "df.loc[df['Date'].dt.year == 2008, 'KZT'] = df.loc[df['Date'].dt.year == 2008, 'KZT'].fillna(148.322810)\n",
    "df.loc[df['Date'].dt.year == 2009, 'KZT'] = df.loc[df['Date'].dt.year == 2009, 'KZT'].fillna(175.483372)\n",
    "df.loc[df['Date'].dt.year == 2010, 'KZT'] = df.loc[df['Date'].dt.year == 2010, 'KZT'].fillna(175.045500)\n",
    "df.loc[df['Date'].dt.year == 2011, 'KZT'] = df.loc[df['Date'].dt.year == 2011, 'KZT'].fillna(174.484865)\n",
    "df.loc[df['Date'].dt.year == 2013, 'KZT'] = df.loc[df['Date'].dt.year == 2013, 'KZT'].fillna(179.882615)\n",
    "df.loc[df['Date'].dt.year == 2017, 'KZT'] = df.loc[df['Date'].dt.year == 2017, 'KZT'].fillna(323.568411)"
   ]
  },
  {
   "cell_type": "code",
   "execution_count": 120,
   "id": "478635a7-e8f9-48e3-b9b0-ce39fdad8eac",
   "metadata": {},
   "outputs": [
    {
     "data": {
      "text/plain": [
       "array([], dtype=int64)"
      ]
     },
     "execution_count": 120,
     "metadata": {},
     "output_type": "execute_result"
    }
   ],
   "source": [
    "df[df['KZT'].isna()]['Date'].dt.year.unique()"
   ]
  },
  {
   "cell_type": "code",
   "execution_count": 121,
   "id": "94c4230b-be6b-465c-88af-60d040cd4262",
   "metadata": {},
   "outputs": [
    {
     "data": {
      "text/plain": [
       "array([2004, 2005, 2007, 2008, 2009, 2010, 2011, 2013, 2017], dtype=int64)"
      ]
     },
     "execution_count": 121,
     "metadata": {},
     "output_type": "execute_result"
    }
   ],
   "source": [
    "df[df['LBP'].isna()]['Date'].dt.year.unique()"
   ]
  },
  {
   "cell_type": "code",
   "execution_count": 122,
   "id": "8af5d37f-bb31-4f81-bc32-dbcbe895b0d2",
   "metadata": {
    "scrolled": true,
    "tags": []
   },
   "outputs": [
    {
     "data": {
      "text/plain": [
       "Date\n",
       "2004    1481.172941\n",
       "2005    1503.428185\n",
       "2006    1470.733077\n",
       "2007    1473.921705\n",
       "2008    1484.941736\n",
       "2009    1492.050769\n",
       "2010    1487.246923\n",
       "2011    1488.504247\n",
       "2012    1485.386207\n",
       "2013    1484.555385\n",
       "2014    1496.603448\n",
       "2015    1493.136398\n",
       "2016    1480.075479\n",
       "2017    1485.437984\n",
       "2018    1497.138238\n",
       "2019    1500.935154\n",
       "2020    1504.209084\n",
       "2021    1500.299234\n",
       "2022    1493.701923\n",
       "Name: LBP, dtype: float64"
      ]
     },
     "execution_count": 122,
     "metadata": {},
     "output_type": "execute_result"
    }
   ],
   "source": [
    "df.groupby(df['Date'].dt.year).mean()['LBP']"
   ]
  },
  {
   "cell_type": "code",
   "execution_count": 123,
   "id": "6e2e35bf-320a-4eb9-be11-fd1ac4073b53",
   "metadata": {},
   "outputs": [],
   "source": [
    "df.loc[df['Date'].dt.year == 2004, 'LBP'] = df.loc[df['Date'].dt.year == 2004, 'LBP'].fillna(1481.172941)\n",
    "df.loc[df['Date'].dt.year == 2005, 'LBP'] = df.loc[df['Date'].dt.year == 2005, 'LBP'].fillna(1503.428185)\n",
    "df.loc[df['Date'].dt.year == 2007, 'LBP'] = df.loc[df['Date'].dt.year == 2007, 'LBP'].fillna(1473.921705)\n",
    "df.loc[df['Date'].dt.year == 2008, 'LBP'] = df.loc[df['Date'].dt.year == 2008, 'LBP'].fillna(1484.941736)\n",
    "df.loc[df['Date'].dt.year == 2009, 'LBP'] = df.loc[df['Date'].dt.year == 2009, 'LBP'].fillna(1492.050769)\n",
    "df.loc[df['Date'].dt.year == 2010, 'LBP'] = df.loc[df['Date'].dt.year == 2010, 'LBP'].fillna(1487.246923)\n",
    "df.loc[df['Date'].dt.year == 2011, 'LBP'] = df.loc[df['Date'].dt.year == 2011, 'LBP'].fillna(1488.504247)\n",
    "df.loc[df['Date'].dt.year == 2013, 'LBP'] = df.loc[df['Date'].dt.year == 2013, 'LBP'].fillna(1484.555385)\n",
    "df.loc[df['Date'].dt.year == 2017, 'LBP'] = df.loc[df['Date'].dt.year == 2017, 'LBP'].fillna(1485.437984)"
   ]
  },
  {
   "cell_type": "code",
   "execution_count": 124,
   "id": "40eb7684-c674-4b32-bfb5-0eded3f34979",
   "metadata": {},
   "outputs": [
    {
     "data": {
      "text/plain": [
       "array([], dtype=int64)"
      ]
     },
     "execution_count": 124,
     "metadata": {},
     "output_type": "execute_result"
    }
   ],
   "source": [
    "df[df['LBP'].isna()]['Date'].dt.year.unique()"
   ]
  },
  {
   "cell_type": "code",
   "execution_count": 125,
   "id": "9d0c1e19-cbee-4898-92d7-7b3e4c0e669e",
   "metadata": {},
   "outputs": [
    {
     "data": {
      "text/plain": [
       "array([2004, 2005, 2007, 2008, 2009, 2010, 2011, 2013, 2017], dtype=int64)"
      ]
     },
     "execution_count": 125,
     "metadata": {},
     "output_type": "execute_result"
    }
   ],
   "source": [
    "df[df['NPR'].isna()]['Date'].dt.year.unique()"
   ]
  },
  {
   "cell_type": "code",
   "execution_count": 126,
   "id": "f3173973-42a4-414e-970c-f8d4bdf0b254",
   "metadata": {
    "scrolled": true,
    "tags": []
   },
   "outputs": [
    {
     "data": {
      "text/plain": [
       "Date\n",
       "2004     70.052101\n",
       "2005     67.605869\n",
       "2006     68.853038\n",
       "2007     64.441323\n",
       "2008     68.707810\n",
       "2009     76.208566\n",
       "2010     71.855115\n",
       "2011     73.404517\n",
       "2012     83.746782\n",
       "2013     92.312769\n",
       "2014     96.338697\n",
       "2015    101.039847\n",
       "2016    105.960575\n",
       "2017    102.643333\n",
       "2018    107.943563\n",
       "2019    111.071462\n",
       "2020    117.007099\n",
       "2021    116.786628\n",
       "2022    124.096731\n",
       "Name: NPR, dtype: float64"
      ]
     },
     "execution_count": 126,
     "metadata": {},
     "output_type": "execute_result"
    }
   ],
   "source": [
    "df.groupby(df['Date'].dt.year).mean()['NPR']"
   ]
  },
  {
   "cell_type": "code",
   "execution_count": 127,
   "id": "3794fa6d-0ce4-4302-8952-0af3434c7895",
   "metadata": {},
   "outputs": [],
   "source": [
    "df.loc[df['Date'].dt.year == 2004, 'NPR'] = df.loc[df['Date'].dt.year == 2004, 'NPR'].fillna(70.052101)\n",
    "df.loc[df['Date'].dt.year == 2005, 'NPR'] = df.loc[df['Date'].dt.year == 2005, 'NPR'].fillna(67.605869)\n",
    "df.loc[df['Date'].dt.year == 2007, 'NPR'] = df.loc[df['Date'].dt.year == 2007, 'NPR'].fillna(64.441323)\n",
    "df.loc[df['Date'].dt.year == 2008, 'NPR'] = df.loc[df['Date'].dt.year == 2008, 'NPR'].fillna(68.707810)\n",
    "df.loc[df['Date'].dt.year == 2009, 'NPR'] = df.loc[df['Date'].dt.year == 2009, 'NPR'].fillna(76.208566)\n",
    "df.loc[df['Date'].dt.year == 2010, 'NPR'] = df.loc[df['Date'].dt.year == 2010, 'NPR'].fillna(71.855115)\n",
    "df.loc[df['Date'].dt.year == 2011, 'NPR'] = df.loc[df['Date'].dt.year == 2011, 'NPR'].fillna(73.404517)\n",
    "df.loc[df['Date'].dt.year == 2013, 'NPR'] = df.loc[df['Date'].dt.year == 2013, 'NPR'].fillna(92.312769)\n",
    "df.loc[df['Date'].dt.year == 2017, 'NPR'] = df.loc[df['Date'].dt.year == 2017, 'NPR'].fillna(102.643333)"
   ]
  },
  {
   "cell_type": "code",
   "execution_count": 128,
   "id": "756199f5-10de-4dc8-99fb-8ca4a9d94a6e",
   "metadata": {},
   "outputs": [
    {
     "data": {
      "text/plain": [
       "array([], dtype=int64)"
      ]
     },
     "execution_count": 128,
     "metadata": {},
     "output_type": "execute_result"
    }
   ],
   "source": [
    "df[df['NPR'].isna()]['Date'].dt.year.unique()"
   ]
  },
  {
   "cell_type": "code",
   "execution_count": 129,
   "id": "009ff4d0-776c-4f43-bde5-cd0fa2e6ce37",
   "metadata": {},
   "outputs": [
    {
     "data": {
      "text/plain": [
       "array([2004, 2005, 2007, 2008, 2009, 2010, 2011, 2013, 2017], dtype=int64)"
      ]
     },
     "execution_count": 129,
     "metadata": {},
     "output_type": "execute_result"
    }
   ],
   "source": [
    "df[df['KHR'].isna()]['Date'].dt.year.unique()"
   ]
  },
  {
   "cell_type": "code",
   "execution_count": 130,
   "id": "7496ec1e-2506-440f-8e72-82b0c9d2d07f",
   "metadata": {
    "scrolled": true,
    "tags": []
   },
   "outputs": [
    {
     "data": {
      "text/plain": [
       "Date\n",
       "2004    3786.695686\n",
       "2005    3868.680392\n",
       "2006    3897.674615\n",
       "2007    3898.566537\n",
       "2008    3951.066529\n",
       "2009    4082.681783\n",
       "2010    4133.225000\n",
       "2011    3995.807336\n",
       "2012    3960.565326\n",
       "2013    3952.268846\n",
       "2014    3961.514598\n",
       "2015    3979.586590\n",
       "2016    3967.707280\n",
       "2017    3969.040310\n",
       "2018    4015.289272\n",
       "2019    4017.702692\n",
       "2020    4052.753168\n",
       "2021    4038.562031\n",
       "2022    4040.525269\n",
       "Name: KHR, dtype: float64"
      ]
     },
     "execution_count": 130,
     "metadata": {},
     "output_type": "execute_result"
    }
   ],
   "source": [
    "df.groupby(df['Date'].dt.year).mean()['KHR']"
   ]
  },
  {
   "cell_type": "code",
   "execution_count": 131,
   "id": "f35c8bd6-1ce6-4520-85b6-9172d5369a73",
   "metadata": {},
   "outputs": [],
   "source": [
    "df.loc[df['Date'].dt.year == 2004, 'KHR'] = df.loc[df['Date'].dt.year == 2004, 'KHR'].fillna(3786.695686)\n",
    "df.loc[df['Date'].dt.year == 2005, 'KHR'] = df.loc[df['Date'].dt.year == 2005, 'KHR'].fillna(3868.680392)\n",
    "df.loc[df['Date'].dt.year == 2007, 'KHR'] = df.loc[df['Date'].dt.year == 2007, 'KHR'].fillna(3898.566537)\n",
    "df.loc[df['Date'].dt.year == 2008, 'KHR'] = df.loc[df['Date'].dt.year == 2008, 'KHR'].fillna(3951.066529)\n",
    "df.loc[df['Date'].dt.year == 2009, 'KHR'] = df.loc[df['Date'].dt.year == 2009, 'KHR'].fillna(4082.681783)\n",
    "df.loc[df['Date'].dt.year == 2010, 'KHR'] = df.loc[df['Date'].dt.year == 2010, 'KHR'].fillna(4133.225000)\n",
    "df.loc[df['Date'].dt.year == 2011, 'KHR'] = df.loc[df['Date'].dt.year == 2011, 'KHR'].fillna(3995.807336)\n",
    "df.loc[df['Date'].dt.year == 2013, 'KHR'] = df.loc[df['Date'].dt.year == 2013, 'KHR'].fillna(3952.268846)\n",
    "df.loc[df['Date'].dt.year == 2017, 'KHR'] = df.loc[df['Date'].dt.year == 2017, 'KHR'].fillna(3969.040310)"
   ]
  },
  {
   "cell_type": "code",
   "execution_count": 132,
   "id": "ea1b58bb-40d2-4ce8-9db6-f729c3a0c1bc",
   "metadata": {},
   "outputs": [
    {
     "data": {
      "text/plain": [
       "array([], dtype=int64)"
      ]
     },
     "execution_count": 132,
     "metadata": {},
     "output_type": "execute_result"
    }
   ],
   "source": [
    "df[df['KHR'].isna()]['Date'].dt.year.unique()"
   ]
  },
  {
   "cell_type": "code",
   "execution_count": 133,
   "id": "88956559-222a-4a3c-99f7-23caa5b294b1",
   "metadata": {},
   "outputs": [
    {
     "data": {
      "text/plain": [
       "array([2004, 2005, 2006, 2007, 2008, 2009, 2010, 2011, 2012, 2013, 2017],\n",
       "      dtype=int64)"
      ]
     },
     "execution_count": 133,
     "metadata": {},
     "output_type": "execute_result"
    }
   ],
   "source": [
    "df[df['PKR'].isna()]['Date'].dt.year.unique()"
   ]
  },
  {
   "cell_type": "code",
   "execution_count": 134,
   "id": "3a22b36c-a506-4859-a500-236a5ffdd2c0",
   "metadata": {
    "scrolled": true,
    "tags": []
   },
   "outputs": [
    {
     "data": {
      "text/plain": [
       "Date\n",
       "2004     58.189349\n",
       "2005     59.534687\n",
       "2006     60.231519\n",
       "2007     60.587104\n",
       "2008     70.494690\n",
       "2009     81.437354\n",
       "2010     84.739538\n",
       "2011    409.841969\n",
       "2012     92.562462\n",
       "2013    100.593962\n",
       "2014    100.071801\n",
       "2015    101.941188\n",
       "2016    103.866552\n",
       "2017    104.276473\n",
       "2018    121.033908\n",
       "2019    149.691115\n",
       "2020    161.284962\n",
       "2021    162.287586\n",
       "2022    203.741846\n",
       "Name: PKR, dtype: float64"
      ]
     },
     "execution_count": 134,
     "metadata": {},
     "output_type": "execute_result"
    }
   ],
   "source": [
    "df.groupby(df['Date'].dt.year).mean()['PKR']"
   ]
  },
  {
   "cell_type": "code",
   "execution_count": 135,
   "id": "dad9c924-2398-43a8-885a-6ea6a825ae05",
   "metadata": {},
   "outputs": [],
   "source": [
    "df.loc[df['Date'].dt.year == 2004, 'PKR'] = df.loc[df['Date'].dt.year == 2004, 'PKR'].fillna(58.189349)\n",
    "df.loc[df['Date'].dt.year == 2005, 'PKR'] = df.loc[df['Date'].dt.year == 2005, 'PKR'].fillna(59.534687)\n",
    "df.loc[df['Date'].dt.year == 2006, 'PKR'] = df.loc[df['Date'].dt.year == 2006, 'PKR'].fillna(60.231519)\n",
    "df.loc[df['Date'].dt.year == 2007, 'PKR'] = df.loc[df['Date'].dt.year == 2007, 'PKR'].fillna(60.587104)\n",
    "df.loc[df['Date'].dt.year == 2008, 'PKR'] = df.loc[df['Date'].dt.year == 2008, 'PKR'].fillna(70.494690)\n",
    "df.loc[df['Date'].dt.year == 2009, 'PKR'] = df.loc[df['Date'].dt.year == 2009, 'PKR'].fillna(81.437354)\n",
    "df.loc[df['Date'].dt.year == 2010, 'PKR'] = df.loc[df['Date'].dt.year == 2010, 'PKR'].fillna(84.739538)\n",
    "df.loc[df['Date'].dt.year == 2011, 'PKR'] = df.loc[df['Date'].dt.year == 2011, 'PKR'].fillna(409.841969)\n",
    "df.loc[df['Date'].dt.year == 2012, 'PKR'] = df.loc[df['Date'].dt.year == 2012, 'PKR'].fillna(92.562462)\n",
    "df.loc[df['Date'].dt.year == 2013, 'PKR'] = df.loc[df['Date'].dt.year == 2013, 'PKR'].fillna(100.593962)\n",
    "df.loc[df['Date'].dt.year == 2017, 'PKR'] = df.loc[df['Date'].dt.year == 2017, 'PKR'].fillna(104.276473)"
   ]
  },
  {
   "cell_type": "code",
   "execution_count": 136,
   "id": "d77e1152-449e-4e6b-ba86-9eae4c8d29ba",
   "metadata": {},
   "outputs": [
    {
     "data": {
      "text/plain": [
       "array([], dtype=int64)"
      ]
     },
     "execution_count": 136,
     "metadata": {},
     "output_type": "execute_result"
    }
   ],
   "source": [
    "df[df['PKR'].isna()]['Date'].dt.year.unique()"
   ]
  },
  {
   "cell_type": "code",
   "execution_count": 137,
   "id": "021181e4-69d8-4123-8ee4-a03659fb8fb9",
   "metadata": {},
   "outputs": [
    {
     "data": {
      "text/plain": [
       "array([2004, 2007, 2008, 2009, 2010, 2011, 2013, 2014, 2015, 2017, 2019],\n",
       "      dtype=int64)"
      ]
     },
     "execution_count": 137,
     "metadata": {},
     "output_type": "execute_result"
    }
   ],
   "source": [
    "df[df['YER'].isna()]['Date'].dt.year.unique()"
   ]
  },
  {
   "cell_type": "markdown",
   "id": "f6be90c3-4caa-4a6c-a184-0f2164a1545e",
   "metadata": {},
   "source": [
    "Set index as Date to use interpolate feature"
   ]
  },
  {
   "cell_type": "code",
   "execution_count": 138,
   "id": "9f339652-b0c6-482c-8cbb-25a0258d6eec",
   "metadata": {},
   "outputs": [],
   "source": [
    "df = df.set_index('Date')"
   ]
  },
  {
   "cell_type": "code",
   "execution_count": 139,
   "id": "385f2963-85dc-4d71-9b2b-d0dab0c34e95",
   "metadata": {},
   "outputs": [],
   "source": [
    "df['YER'] = df['YER'].fillna(df['YER'].interpolate(method='time'))"
   ]
  },
  {
   "cell_type": "code",
   "execution_count": 140,
   "id": "7478f861-fa8c-4533-b35e-7d6e3c135701",
   "metadata": {},
   "outputs": [
    {
     "data": {
      "text/plain": [
       "Int64Index([2004], dtype='int64', name='Date')"
      ]
     },
     "execution_count": 140,
     "metadata": {},
     "output_type": "execute_result"
    }
   ],
   "source": [
    "df[df['YER'].isna()].index.year.unique()"
   ]
  },
  {
   "cell_type": "code",
   "execution_count": 141,
   "id": "09640fb4-fc10-4666-bf54-ec049c78a57f",
   "metadata": {
    "scrolled": true,
    "tags": []
   },
   "outputs": [
    {
     "data": {
      "text/plain": [
       "Date\n",
       "2004    180.328936\n",
       "2005    180.324154\n",
       "2006    187.175000\n",
       "2007    192.835029\n",
       "2008    198.821641\n",
       "2009    200.794856\n",
       "2010    212.281130\n",
       "2011    213.329231\n",
       "2012    213.901149\n",
       "2013    211.356686\n",
       "2014    212.489808\n",
       "2015    214.793498\n",
       "2016    239.660536\n",
       "2017    249.712500\n",
       "2018    249.823410\n",
       "2019    249.777385\n",
       "2020    249.811069\n",
       "2021    249.499234\n",
       "2022    249.936038\n",
       "Name: YER, dtype: float64"
      ]
     },
     "execution_count": 141,
     "metadata": {},
     "output_type": "execute_result"
    }
   ],
   "source": [
    "df.groupby(df.index.year).mean()['YER']"
   ]
  },
  {
   "cell_type": "code",
   "execution_count": 142,
   "id": "39704807-21c0-4180-b09c-5a5e21bd337a",
   "metadata": {},
   "outputs": [],
   "source": [
    "df.loc[df.index.year == 2004, 'YER'] = df.loc[df.index.year == 2004, 'YER'].fillna(180.328936)"
   ]
  },
  {
   "cell_type": "code",
   "execution_count": 143,
   "id": "3c485787-68b9-4984-ace9-7520e7f2e5d5",
   "metadata": {},
   "outputs": [
    {
     "data": {
      "text/plain": [
       "Int64Index([], dtype='int64', name='Date')"
      ]
     },
     "execution_count": 143,
     "metadata": {},
     "output_type": "execute_result"
    }
   ],
   "source": [
    "df[df['YER'].isna()].index.year.unique()"
   ]
  },
  {
   "cell_type": "code",
   "execution_count": 144,
   "id": "1e529911-33a5-449c-8a78-97a932c51829",
   "metadata": {},
   "outputs": [
    {
     "data": {
      "text/plain": [
       "Int64Index([2004, 2005, 2007, 2008, 2009, 2010, 2011, 2013, 2017], dtype='int64', name='Date')"
      ]
     },
     "execution_count": 144,
     "metadata": {},
     "output_type": "execute_result"
    }
   ],
   "source": [
    "df[df['TRY'].isna()].index.year.unique()"
   ]
  },
  {
   "cell_type": "code",
   "execution_count": 145,
   "id": "b6edd5f9-3d9f-4d75-9a14-42d35a92ae3a",
   "metadata": {},
   "outputs": [],
   "source": [
    "df['TRY'] = df['TRY'].fillna(df['TRY'].interpolate(method='time'))"
   ]
  },
  {
   "cell_type": "code",
   "execution_count": 146,
   "id": "54b99e87-b1d2-4d60-af08-5128d2a5ae63",
   "metadata": {},
   "outputs": [
    {
     "data": {
      "text/plain": [
       "Int64Index([2004], dtype='int64', name='Date')"
      ]
     },
     "execution_count": 146,
     "metadata": {},
     "output_type": "execute_result"
    }
   ],
   "source": [
    "df[df['TRY'].isna()].index.year.unique()"
   ]
  },
  {
   "cell_type": "code",
   "execution_count": 147,
   "id": "8fe18aa1-cc21-4a38-ac26-9477433cee9d",
   "metadata": {},
   "outputs": [],
   "source": [
    "df.loc[df.index.year == 2004, 'TRY'] = df.loc[df.index.year == 2004, 'TRY'].fillna(1.344115)"
   ]
  },
  {
   "cell_type": "code",
   "execution_count": 148,
   "id": "f99e0ecc-803e-49ae-b423-21db8282d625",
   "metadata": {},
   "outputs": [
    {
     "data": {
      "text/plain": [
       "Int64Index([2004, 2007, 2008, 2009, 2010, 2014], dtype='int64', name='Date')"
      ]
     },
     "execution_count": 148,
     "metadata": {},
     "output_type": "execute_result"
    }
   ],
   "source": [
    "df[df['UZS'].isna()].index.year.unique()"
   ]
  },
  {
   "cell_type": "code",
   "execution_count": 149,
   "id": "043f603f-26e8-4b29-8a79-79971b2208c8",
   "metadata": {},
   "outputs": [],
   "source": [
    "df['UZS'] = df['UZS'].fillna(df['UZS'].interpolate(method='time'))"
   ]
  },
  {
   "cell_type": "code",
   "execution_count": 150,
   "id": "1fce8bbc-621f-439d-ac0c-7227abad57c4",
   "metadata": {},
   "outputs": [
    {
     "data": {
      "text/plain": [
       "Int64Index([2004], dtype='int64', name='Date')"
      ]
     },
     "execution_count": 150,
     "metadata": {},
     "output_type": "execute_result"
    }
   ],
   "source": [
    "df[df['UZS'].isna()].index.year.unique()"
   ]
  },
  {
   "cell_type": "code",
   "execution_count": 151,
   "id": "867a0154-51dc-4458-87e5-a579c646e604",
   "metadata": {
    "scrolled": true,
    "tags": []
   },
   "outputs": [
    {
     "data": {
      "text/plain": [
       "Date\n",
       "2004      712.350000\n",
       "2005      715.632346\n",
       "2006      712.350000\n",
       "2007      712.350000\n",
       "2008      715.603949\n",
       "2009     1289.953331\n",
       "2010     1559.756130\n",
       "2011     1689.090000\n",
       "2012     1861.954789\n",
       "2013     2061.875096\n",
       "2014     2281.754789\n",
       "2015     2533.508046\n",
       "2016     2932.204598\n",
       "2017     5088.568462\n",
       "2018     8041.425670\n",
       "2019     8760.519115\n",
       "2020    10015.898092\n",
       "2021    10559.085556\n",
       "2022    11023.755000\n",
       "Name: UZS, dtype: float64"
      ]
     },
     "execution_count": 151,
     "metadata": {},
     "output_type": "execute_result"
    }
   ],
   "source": [
    "df.groupby(df.index.year).mean()['UZS']"
   ]
  },
  {
   "cell_type": "code",
   "execution_count": 152,
   "id": "d78cb6ac-44cc-4caa-9a2c-06f526241987",
   "metadata": {},
   "outputs": [],
   "source": [
    "df.loc[df.index.year == 2004, 'UZS'] = df.loc[df.index.year == 2004, 'UZS'].fillna(712.350000)"
   ]
  },
  {
   "cell_type": "code",
   "execution_count": 153,
   "id": "d9245337-3ba6-4fa3-85c7-cef5a8e3871b",
   "metadata": {},
   "outputs": [
    {
     "data": {
      "text/plain": [
       "Int64Index([], dtype='int64', name='Date')"
      ]
     },
     "execution_count": 153,
     "metadata": {},
     "output_type": "execute_result"
    }
   ],
   "source": [
    "df[df['UZS'].isna()].index.year.unique()"
   ]
  },
  {
   "cell_type": "code",
   "execution_count": 154,
   "id": "96653a87-604c-4209-abd1-0fbb98d1735e",
   "metadata": {},
   "outputs": [
    {
     "data": {
      "text/plain": [
       "Int64Index([2004, 2006, 2007, 2008, 2009, 2010, 2013, 2014, 2015, 2019], dtype='int64', name='Date')"
      ]
     },
     "execution_count": 154,
     "metadata": {},
     "output_type": "execute_result"
    }
   ],
   "source": [
    "df[df['MVR'].isna()].index.year.unique()"
   ]
  },
  {
   "cell_type": "code",
   "execution_count": 155,
   "id": "21e2e189-c2bf-4859-9338-55d7f73ae22c",
   "metadata": {},
   "outputs": [],
   "source": [
    "df['MVR'] = df['MVR'].fillna(df['UZS'].interpolate(method='time'))"
   ]
  },
  {
   "cell_type": "code",
   "execution_count": 156,
   "id": "21568f52-ab86-4eb4-8e69-eb61d051e8a1",
   "metadata": {},
   "outputs": [
    {
     "data": {
      "text/plain": [
       "Int64Index([], dtype='int64', name='Date')"
      ]
     },
     "execution_count": 156,
     "metadata": {},
     "output_type": "execute_result"
    }
   ],
   "source": [
    "df[df['MVR'].isna()].index.year.unique()"
   ]
  },
  {
   "cell_type": "code",
   "execution_count": 157,
   "id": "15642ad4-5fae-4f6b-a528-216ad097c2a5",
   "metadata": {},
   "outputs": [
    {
     "data": {
      "text/plain": [
       "Int64Index([2004, 2007, 2008, 2009, 2010, 2011, 2013, 2014, 2015, 2016, 2017], dtype='int64', name='Date')"
      ]
     },
     "execution_count": 157,
     "metadata": {},
     "output_type": "execute_result"
    }
   ],
   "source": [
    "df[df['IRR'].isna()].index.year.unique()"
   ]
  },
  {
   "cell_type": "code",
   "execution_count": 158,
   "id": "e91a5806-efba-4257-bb6c-4fd68b805eb2",
   "metadata": {},
   "outputs": [],
   "source": [
    "df['IRR'] = df['IRR'].fillna(df['IRR'].interpolate(method='time'))"
   ]
  },
  {
   "cell_type": "code",
   "execution_count": 159,
   "id": "ca51ee34-04d0-42c9-9042-b232e5c6464c",
   "metadata": {},
   "outputs": [
    {
     "data": {
      "text/plain": [
       "Int64Index([2004], dtype='int64', name='Date')"
      ]
     },
     "execution_count": 159,
     "metadata": {},
     "output_type": "execute_result"
    }
   ],
   "source": [
    "df[df['IRR'].isna()].index.year.unique()"
   ]
  },
  {
   "cell_type": "code",
   "execution_count": 160,
   "id": "b00e5c23-56be-42ce-95c1-27b1e8793759",
   "metadata": {
    "scrolled": true,
    "tags": []
   },
   "outputs": [
    {
     "data": {
      "text/plain": [
       "Date\n",
       "2004     8569.476054\n",
       "2005     8936.483462\n",
       "2006     8858.896923\n",
       "2007     9015.762452\n",
       "2008     9297.624459\n",
       "2009     9699.286590\n",
       "2010     9947.220498\n",
       "2011    10470.575962\n",
       "2012    11982.114943\n",
       "2013    17771.784539\n",
       "2014    25641.569376\n",
       "2015    28275.724525\n",
       "2016    30937.074366\n",
       "2017    32928.647990\n",
       "2018    40786.819923\n",
       "2019    42000.000000\n",
       "2020    43099.236641\n",
       "2021    42001.800766\n",
       "2022    42000.346154\n",
       "Name: IRR, dtype: float64"
      ]
     },
     "execution_count": 160,
     "metadata": {},
     "output_type": "execute_result"
    }
   ],
   "source": [
    "df.groupby(df.index.year).mean()['IRR']"
   ]
  },
  {
   "cell_type": "code",
   "execution_count": 161,
   "id": "6a1254c1-30a3-4b07-a1c6-54ba8aa444fe",
   "metadata": {},
   "outputs": [],
   "source": [
    "df.loc[df.index.year == 2004, 'IRR'] = df.loc[df.index.year == 2004, 'IRR'].fillna(8569.476054)"
   ]
  },
  {
   "cell_type": "code",
   "execution_count": 162,
   "id": "6a99c0be-c796-488e-9274-46eb12d561cb",
   "metadata": {},
   "outputs": [
    {
     "data": {
      "text/plain": [
       "Int64Index([], dtype='int64', name='Date')"
      ]
     },
     "execution_count": 162,
     "metadata": {},
     "output_type": "execute_result"
    }
   ],
   "source": [
    "df[df['IRR'].isna()].index.year.unique()"
   ]
  },
  {
   "cell_type": "code",
   "execution_count": 163,
   "id": "16700311-78e7-4d38-b779-421e1558ffc6",
   "metadata": {},
   "outputs": [],
   "source": [
    "df.drop(columns = ['TMT','SYP','AFN'], inplace=True)"
   ]
  },
  {
   "cell_type": "code",
   "execution_count": 164,
   "id": "f9c38ac5-0dcd-44d0-b698-ac95f856b4df",
   "metadata": {
    "scrolled": true,
    "tags": []
   },
   "outputs": [
    {
     "name": "stdout",
     "output_type": "stream",
     "text": [
      "================================================================================\n",
      "Shape of dataframe\n",
      "(4956, 34)\n",
      "================================================================================\n",
      "Missing values distribution (%):\n",
      "no null values (ﾉ^_^)ﾉ\n",
      "================================================================================\n",
      "Column datatypes: \n",
      "CNY    float64\n",
      "OMR    float64\n",
      "IRR    float64\n",
      "THB    float64\n",
      "MYR    float64\n",
      "YER    float64\n",
      "VND    float64\n",
      "ILS    float64\n",
      "JPY    float64\n",
      "LKR    float64\n",
      "IQD    float64\n",
      "PKR    float64\n",
      "KWD    float64\n",
      "KHR    float64\n",
      "UZS    float64\n",
      "SGD    float64\n",
      "INR    float64\n",
      "BDT    float64\n",
      "PHP    float64\n",
      "JOD    float64\n",
      "LAK    float64\n",
      "IDR    float64\n",
      "KRW    float64\n",
      "KZT    float64\n",
      "AED    float64\n",
      "BHD    float64\n",
      "LBP    float64\n",
      "TRY    float64\n",
      "SAR    float64\n",
      "MVR    float64\n",
      "QAR    float64\n",
      "MMK    float64\n",
      "NPR    float64\n",
      "BND    float64\n",
      "dtype: object\n"
     ]
    }
   ],
   "source": [
    "summary(df)"
   ]
  },
  {
   "cell_type": "markdown",
   "id": "82a96d7e-454a-4fbb-8b20-5e93203104bb",
   "metadata": {},
   "source": [
    "Remarks:\n",
    "    \n",
    "Mising values has been addressed. 4956 rows and 34 columns remains."
   ]
  },
  {
   "cell_type": "markdown",
   "id": "cb7808f7-d7f5-4411-8d6a-fe9a02ba1d18",
   "metadata": {},
   "source": [
    "## Export"
   ]
  },
  {
   "cell_type": "code",
   "execution_count": 165,
   "id": "20a4c1df-89dc-4a95-92c2-9319eab9e2e3",
   "metadata": {},
   "outputs": [],
   "source": [
    "df.to_csv('./dataset/dollar_exchange_cleaned.csv')"
   ]
  }
 ],
 "metadata": {
  "kernelspec": {
   "display_name": "Python 3 (ipykernel)",
   "language": "python",
   "name": "python3"
  },
  "language_info": {
   "codemirror_mode": {
    "name": "ipython",
    "version": 3
   },
   "file_extension": ".py",
   "mimetype": "text/x-python",
   "name": "python",
   "nbconvert_exporter": "python",
   "pygments_lexer": "ipython3",
   "version": "3.10.9"
  }
 },
 "nbformat": 4,
 "nbformat_minor": 5
}
