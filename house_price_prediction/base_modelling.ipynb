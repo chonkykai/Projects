{
 "cells": [
  {
   "cell_type": "markdown",
   "id": "665cf2bc-7510-4631-91f3-58900136cb07",
   "metadata": {},
   "source": [
    "# Import relevant libraries"
   ]
  },
  {
   "cell_type": "code",
   "execution_count": 1,
   "id": "2316d1d9-b0cc-4ff6-89a0-01eceb6f3723",
   "metadata": {},
   "outputs": [],
   "source": [
    "#import libries\n",
    "import numpy as np\n",
    "import pandas as pd\n",
    "import seaborn as sns\n",
    "import matplotlib.pyplot as plt\n",
    "\n",
    "from xgboost import XGBRegressor\n",
    "from sklearn.preprocessing import StandardScaler, OneHotEncoder\n",
    "from sklearn.linear_model import RidgeCV, LassoCV, ElasticNetCV\n",
    "from sklearn.linear_model import LinearRegression \n",
    "from sklearn.model_selection import train_test_split, cross_val_score, GridSearchCV \n",
    "from sklearn.pipeline import Pipeline\n",
    "\n",
    "from sklearn import metrics "
   ]
  },
  {
   "cell_type": "code",
   "execution_count": 2,
   "id": "353a5e1c-eb74-44b6-9dee-9ea42e55ebc6",
   "metadata": {},
   "outputs": [],
   "source": [
    "#load dataset\n",
    "df = pd.read_csv('./datasets/cleaned_v2.csv', low_memory = False)"
   ]
  },
  {
   "cell_type": "code",
   "execution_count": 3,
   "id": "291acd35-d0d6-4470-ba80-8df03981aac1",
   "metadata": {},
   "outputs": [
    {
     "data": {
      "text/html": [
       "<div>\n",
       "<style scoped>\n",
       "    .dataframe tbody tr th:only-of-type {\n",
       "        vertical-align: middle;\n",
       "    }\n",
       "\n",
       "    .dataframe tbody tr th {\n",
       "        vertical-align: top;\n",
       "    }\n",
       "\n",
       "    .dataframe thead th {\n",
       "        text-align: right;\n",
       "    }\n",
       "</style>\n",
       "<table border=\"1\" class=\"dataframe\">\n",
       "  <thead>\n",
       "    <tr style=\"text-align: right;\">\n",
       "      <th></th>\n",
       "      <th>town</th>\n",
       "      <th>flat_type</th>\n",
       "      <th>storey_range</th>\n",
       "      <th>floor_area_sqm</th>\n",
       "      <th>flat_model</th>\n",
       "      <th>resale_price</th>\n",
       "      <th>political_parties</th>\n",
       "      <th>blk_num</th>\n",
       "      <th>blk_alpha</th>\n",
       "      <th>transaction_year</th>\n",
       "      <th>transaction_month</th>\n",
       "      <th>lease_year</th>\n",
       "      <th>end_lease_year</th>\n",
       "    </tr>\n",
       "  </thead>\n",
       "  <tbody>\n",
       "    <tr>\n",
       "      <th>0</th>\n",
       "      <td>ANG MO KIO</td>\n",
       "      <td>1 ROOM</td>\n",
       "      <td>10 TO 12</td>\n",
       "      <td>31.0</td>\n",
       "      <td>IMPROVED</td>\n",
       "      <td>9000.0</td>\n",
       "      <td>RULING</td>\n",
       "      <td>309</td>\n",
       "      <td>-</td>\n",
       "      <td>1990</td>\n",
       "      <td>1</td>\n",
       "      <td>1977</td>\n",
       "      <td>2076</td>\n",
       "    </tr>\n",
       "    <tr>\n",
       "      <th>1</th>\n",
       "      <td>ANG MO KIO</td>\n",
       "      <td>1 ROOM</td>\n",
       "      <td>04 TO 06</td>\n",
       "      <td>31.0</td>\n",
       "      <td>IMPROVED</td>\n",
       "      <td>6000.0</td>\n",
       "      <td>RULING</td>\n",
       "      <td>309</td>\n",
       "      <td>-</td>\n",
       "      <td>1990</td>\n",
       "      <td>1</td>\n",
       "      <td>1977</td>\n",
       "      <td>2076</td>\n",
       "    </tr>\n",
       "    <tr>\n",
       "      <th>2</th>\n",
       "      <td>ANG MO KIO</td>\n",
       "      <td>1 ROOM</td>\n",
       "      <td>10 TO 12</td>\n",
       "      <td>31.0</td>\n",
       "      <td>IMPROVED</td>\n",
       "      <td>8000.0</td>\n",
       "      <td>RULING</td>\n",
       "      <td>309</td>\n",
       "      <td>-</td>\n",
       "      <td>1990</td>\n",
       "      <td>1</td>\n",
       "      <td>1977</td>\n",
       "      <td>2076</td>\n",
       "    </tr>\n",
       "    <tr>\n",
       "      <th>3</th>\n",
       "      <td>ANG MO KIO</td>\n",
       "      <td>1 ROOM</td>\n",
       "      <td>07 TO 09</td>\n",
       "      <td>31.0</td>\n",
       "      <td>IMPROVED</td>\n",
       "      <td>6000.0</td>\n",
       "      <td>RULING</td>\n",
       "      <td>309</td>\n",
       "      <td>-</td>\n",
       "      <td>1990</td>\n",
       "      <td>1</td>\n",
       "      <td>1977</td>\n",
       "      <td>2076</td>\n",
       "    </tr>\n",
       "    <tr>\n",
       "      <th>4</th>\n",
       "      <td>ANG MO KIO</td>\n",
       "      <td>3 ROOM</td>\n",
       "      <td>04 TO 06</td>\n",
       "      <td>73.0</td>\n",
       "      <td>NEW GENERATION</td>\n",
       "      <td>47200.0</td>\n",
       "      <td>RULING</td>\n",
       "      <td>216</td>\n",
       "      <td>-</td>\n",
       "      <td>1990</td>\n",
       "      <td>1</td>\n",
       "      <td>1976</td>\n",
       "      <td>2075</td>\n",
       "    </tr>\n",
       "  </tbody>\n",
       "</table>\n",
       "</div>"
      ],
      "text/plain": [
       "         town flat_type storey_range  floor_area_sqm      flat_model  \\\n",
       "0  ANG MO KIO    1 ROOM     10 TO 12            31.0        IMPROVED   \n",
       "1  ANG MO KIO    1 ROOM     04 TO 06            31.0        IMPROVED   \n",
       "2  ANG MO KIO    1 ROOM     10 TO 12            31.0        IMPROVED   \n",
       "3  ANG MO KIO    1 ROOM     07 TO 09            31.0        IMPROVED   \n",
       "4  ANG MO KIO    3 ROOM     04 TO 06            73.0  NEW GENERATION   \n",
       "\n",
       "   resale_price political_parties  blk_num blk_alpha  transaction_year  \\\n",
       "0        9000.0            RULING      309         -              1990   \n",
       "1        6000.0            RULING      309         -              1990   \n",
       "2        8000.0            RULING      309         -              1990   \n",
       "3        6000.0            RULING      309         -              1990   \n",
       "4       47200.0            RULING      216         -              1990   \n",
       "\n",
       "   transaction_month  lease_year  end_lease_year  \n",
       "0                  1        1977            2076  \n",
       "1                  1        1977            2076  \n",
       "2                  1        1977            2076  \n",
       "3                  1        1977            2076  \n",
       "4                  1        1976            2075  "
      ]
     },
     "execution_count": 3,
     "metadata": {},
     "output_type": "execute_result"
    }
   ],
   "source": [
    "# pd.set_option('display.max_columns', None)\n",
    "df.head()"
   ]
  },
  {
   "cell_type": "markdown",
   "id": "76333fc2-8dac-4ed4-8143-006c1364ef77",
   "metadata": {
    "tags": []
   },
   "source": [
    "# Preprocessing of Data"
   ]
  },
  {
   "cell_type": "markdown",
   "id": "c411e812-ffa7-41b8-8937-9c88f05735fd",
   "metadata": {
    "tags": []
   },
   "source": [
    "## Split data into features and target"
   ]
  },
  {
   "cell_type": "code",
   "execution_count": 4,
   "id": "1b11fb72-9647-4f18-8650-860c16e98d6b",
   "metadata": {},
   "outputs": [],
   "source": [
    "X = df.drop(columns = 'resale_price')\n",
    "y = df['resale_price']"
   ]
  },
  {
   "cell_type": "code",
   "execution_count": 5,
   "id": "ab57aa32-76b0-4cc5-9db2-890fd78c48be",
   "metadata": {},
   "outputs": [
    {
     "data": {
      "text/html": [
       "<div>\n",
       "<style scoped>\n",
       "    .dataframe tbody tr th:only-of-type {\n",
       "        vertical-align: middle;\n",
       "    }\n",
       "\n",
       "    .dataframe tbody tr th {\n",
       "        vertical-align: top;\n",
       "    }\n",
       "\n",
       "    .dataframe thead th {\n",
       "        text-align: right;\n",
       "    }\n",
       "</style>\n",
       "<table border=\"1\" class=\"dataframe\">\n",
       "  <thead>\n",
       "    <tr style=\"text-align: right;\">\n",
       "      <th></th>\n",
       "      <th>town</th>\n",
       "      <th>flat_type</th>\n",
       "      <th>storey_range</th>\n",
       "      <th>floor_area_sqm</th>\n",
       "      <th>flat_model</th>\n",
       "      <th>political_parties</th>\n",
       "      <th>blk_num</th>\n",
       "      <th>blk_alpha</th>\n",
       "      <th>transaction_year</th>\n",
       "      <th>transaction_month</th>\n",
       "      <th>lease_year</th>\n",
       "      <th>end_lease_year</th>\n",
       "    </tr>\n",
       "  </thead>\n",
       "  <tbody>\n",
       "    <tr>\n",
       "      <th>0</th>\n",
       "      <td>ANG MO KIO</td>\n",
       "      <td>1 ROOM</td>\n",
       "      <td>10 TO 12</td>\n",
       "      <td>31.0</td>\n",
       "      <td>IMPROVED</td>\n",
       "      <td>RULING</td>\n",
       "      <td>309</td>\n",
       "      <td>-</td>\n",
       "      <td>1990</td>\n",
       "      <td>1</td>\n",
       "      <td>1977</td>\n",
       "      <td>2076</td>\n",
       "    </tr>\n",
       "    <tr>\n",
       "      <th>1</th>\n",
       "      <td>ANG MO KIO</td>\n",
       "      <td>1 ROOM</td>\n",
       "      <td>04 TO 06</td>\n",
       "      <td>31.0</td>\n",
       "      <td>IMPROVED</td>\n",
       "      <td>RULING</td>\n",
       "      <td>309</td>\n",
       "      <td>-</td>\n",
       "      <td>1990</td>\n",
       "      <td>1</td>\n",
       "      <td>1977</td>\n",
       "      <td>2076</td>\n",
       "    </tr>\n",
       "    <tr>\n",
       "      <th>2</th>\n",
       "      <td>ANG MO KIO</td>\n",
       "      <td>1 ROOM</td>\n",
       "      <td>10 TO 12</td>\n",
       "      <td>31.0</td>\n",
       "      <td>IMPROVED</td>\n",
       "      <td>RULING</td>\n",
       "      <td>309</td>\n",
       "      <td>-</td>\n",
       "      <td>1990</td>\n",
       "      <td>1</td>\n",
       "      <td>1977</td>\n",
       "      <td>2076</td>\n",
       "    </tr>\n",
       "    <tr>\n",
       "      <th>3</th>\n",
       "      <td>ANG MO KIO</td>\n",
       "      <td>1 ROOM</td>\n",
       "      <td>07 TO 09</td>\n",
       "      <td>31.0</td>\n",
       "      <td>IMPROVED</td>\n",
       "      <td>RULING</td>\n",
       "      <td>309</td>\n",
       "      <td>-</td>\n",
       "      <td>1990</td>\n",
       "      <td>1</td>\n",
       "      <td>1977</td>\n",
       "      <td>2076</td>\n",
       "    </tr>\n",
       "    <tr>\n",
       "      <th>4</th>\n",
       "      <td>ANG MO KIO</td>\n",
       "      <td>3 ROOM</td>\n",
       "      <td>04 TO 06</td>\n",
       "      <td>73.0</td>\n",
       "      <td>NEW GENERATION</td>\n",
       "      <td>RULING</td>\n",
       "      <td>216</td>\n",
       "      <td>-</td>\n",
       "      <td>1990</td>\n",
       "      <td>1</td>\n",
       "      <td>1976</td>\n",
       "      <td>2075</td>\n",
       "    </tr>\n",
       "  </tbody>\n",
       "</table>\n",
       "</div>"
      ],
      "text/plain": [
       "         town flat_type storey_range  floor_area_sqm      flat_model  \\\n",
       "0  ANG MO KIO    1 ROOM     10 TO 12            31.0        IMPROVED   \n",
       "1  ANG MO KIO    1 ROOM     04 TO 06            31.0        IMPROVED   \n",
       "2  ANG MO KIO    1 ROOM     10 TO 12            31.0        IMPROVED   \n",
       "3  ANG MO KIO    1 ROOM     07 TO 09            31.0        IMPROVED   \n",
       "4  ANG MO KIO    3 ROOM     04 TO 06            73.0  NEW GENERATION   \n",
       "\n",
       "  political_parties  blk_num blk_alpha  transaction_year  transaction_month  \\\n",
       "0            RULING      309         -              1990                  1   \n",
       "1            RULING      309         -              1990                  1   \n",
       "2            RULING      309         -              1990                  1   \n",
       "3            RULING      309         -              1990                  1   \n",
       "4            RULING      216         -              1990                  1   \n",
       "\n",
       "   lease_year  end_lease_year  \n",
       "0        1977            2076  \n",
       "1        1977            2076  \n",
       "2        1977            2076  \n",
       "3        1977            2076  \n",
       "4        1976            2075  "
      ]
     },
     "execution_count": 5,
     "metadata": {},
     "output_type": "execute_result"
    }
   ],
   "source": [
    "X.head()"
   ]
  },
  {
   "cell_type": "code",
   "execution_count": 6,
   "id": "89696623-b211-45b0-bdc1-992b66296489",
   "metadata": {},
   "outputs": [
    {
     "data": {
      "text/plain": [
       "0     9000.0\n",
       "1     6000.0\n",
       "2     8000.0\n",
       "3     6000.0\n",
       "4    47200.0\n",
       "Name: resale_price, dtype: float64"
      ]
     },
     "execution_count": 6,
     "metadata": {},
     "output_type": "execute_result"
    }
   ],
   "source": [
    "y.head()"
   ]
  },
  {
   "cell_type": "markdown",
   "id": "95c9d2fd-6013-467b-8f03-0ecb6d8b70df",
   "metadata": {},
   "source": [
    "Remarks: X and y has been split"
   ]
  },
  {
   "cell_type": "markdown",
   "id": "864a04d9-1b1c-48e0-b019-806e1e8111af",
   "metadata": {
    "tags": []
   },
   "source": [
    "## Initiate train_test_split()"
   ]
  },
  {
   "cell_type": "code",
   "execution_count": 7,
   "id": "c269d04b-cecb-4088-8bcb-fa6a7703fb5a",
   "metadata": {},
   "outputs": [],
   "source": [
    "X_train, X_test, y_train, y_test = train_test_split(X, y, random_state=42)"
   ]
  },
  {
   "cell_type": "markdown",
   "id": "62aa6d7d-a01f-460d-b8b2-abe99b033177",
   "metadata": {},
   "source": [
    "Show split of train and test data"
   ]
  },
  {
   "cell_type": "code",
   "execution_count": 8,
   "id": "10ad447c-78b9-47eb-be66-124283227829",
   "metadata": {},
   "outputs": [
    {
     "name": "stdout",
     "output_type": "stream",
     "text": [
      "674251 224751\n"
     ]
    }
   ],
   "source": [
    "print(len(X_train), len(X_test))"
   ]
  },
  {
   "cell_type": "code",
   "execution_count": 9,
   "id": "8e9f60fa-be6f-4a8a-a3c4-bd98e568deb4",
   "metadata": {},
   "outputs": [
    {
     "name": "stdout",
     "output_type": "stream",
     "text": [
      "674251 224751\n"
     ]
    }
   ],
   "source": [
    "print(len(y_train),len(y_test) )"
   ]
  },
  {
   "cell_type": "code",
   "execution_count": 10,
   "id": "9691b96a-1e4c-4bf9-826b-c392a3f578d4",
   "metadata": {},
   "outputs": [],
   "source": [
    "# reset index\n",
    "X_train = X_train.reset_index(drop = True)\n",
    "X_test = X_test.reset_index(drop = True)"
   ]
  },
  {
   "cell_type": "markdown",
   "id": "b7bb9a3b-9eff-4b03-9b54-7db978de26ed",
   "metadata": {},
   "source": [
    "Remarks: Train test split was sucessful "
   ]
  },
  {
   "cell_type": "markdown",
   "id": "be9225c9-7699-420d-941f-7875f7366365",
   "metadata": {},
   "source": [
    "### Split X_train & X_test into categorical and numerical."
   ]
  },
  {
   "cell_type": "markdown",
   "id": "8fe39148-49dc-46be-9dc5-d3a104d441ff",
   "metadata": {},
   "source": [
    "#### X_train"
   ]
  },
  {
   "cell_type": "code",
   "execution_count": 11,
   "id": "258fcf7e-2c40-463d-a9a0-d6f94d63ce32",
   "metadata": {},
   "outputs": [
    {
     "data": {
      "text/plain": [
       "Index(['town', 'flat_type', 'storey_range', 'floor_area_sqm', 'flat_model',\n",
       "       'political_parties', 'blk_num', 'blk_alpha', 'transaction_year',\n",
       "       'transaction_month', 'lease_year', 'end_lease_year'],\n",
       "      dtype='object')"
      ]
     },
     "execution_count": 11,
     "metadata": {},
     "output_type": "execute_result"
    }
   ],
   "source": [
    "columns = X_train.columns\n",
    "columns"
   ]
  },
  {
   "cell_type": "code",
   "execution_count": 12,
   "id": "903cc6ea-c22b-493b-928f-ea99b59404b3",
   "metadata": {},
   "outputs": [],
   "source": [
    "cat_X_train = pd.DataFrame()\n",
    "num_X_train = pd.DataFrame()\n",
    "for i in columns:\n",
    "    if 'object' == str(X_train[i].dtypes):\n",
    "        cat_X_train = pd.concat([cat_X_train, X_train[i]], axis = 1)\n",
    "    else:\n",
    "        num_X_train = pd.concat([num_X_train, X_train[i]], axis = 1)"
   ]
  },
  {
   "cell_type": "code",
   "execution_count": 13,
   "id": "b95ab4ae-ac1f-4ccb-b245-a0aa7bb4f905",
   "metadata": {},
   "outputs": [
    {
     "data": {
      "text/html": [
       "<div>\n",
       "<style scoped>\n",
       "    .dataframe tbody tr th:only-of-type {\n",
       "        vertical-align: middle;\n",
       "    }\n",
       "\n",
       "    .dataframe tbody tr th {\n",
       "        vertical-align: top;\n",
       "    }\n",
       "\n",
       "    .dataframe thead th {\n",
       "        text-align: right;\n",
       "    }\n",
       "</style>\n",
       "<table border=\"1\" class=\"dataframe\">\n",
       "  <thead>\n",
       "    <tr style=\"text-align: right;\">\n",
       "      <th></th>\n",
       "      <th>town</th>\n",
       "      <th>flat_type</th>\n",
       "      <th>storey_range</th>\n",
       "      <th>flat_model</th>\n",
       "      <th>political_parties</th>\n",
       "      <th>blk_alpha</th>\n",
       "    </tr>\n",
       "  </thead>\n",
       "  <tbody>\n",
       "    <tr>\n",
       "      <th>0</th>\n",
       "      <td>CLEMENTI</td>\n",
       "      <td>3 ROOM</td>\n",
       "      <td>07 TO 09</td>\n",
       "      <td>NEW GENERATION</td>\n",
       "      <td>RULING</td>\n",
       "      <td>-</td>\n",
       "    </tr>\n",
       "    <tr>\n",
       "      <th>1</th>\n",
       "      <td>JURONG WEST</td>\n",
       "      <td>4 ROOM</td>\n",
       "      <td>04 TO 06</td>\n",
       "      <td>IMPROVED</td>\n",
       "      <td>RULING</td>\n",
       "      <td>-</td>\n",
       "    </tr>\n",
       "    <tr>\n",
       "      <th>2</th>\n",
       "      <td>HOUGANG</td>\n",
       "      <td>4 ROOM</td>\n",
       "      <td>01 TO 03</td>\n",
       "      <td>MODEL A</td>\n",
       "      <td>OPPOSITION</td>\n",
       "      <td>-</td>\n",
       "    </tr>\n",
       "    <tr>\n",
       "      <th>3</th>\n",
       "      <td>ANG MO KIO</td>\n",
       "      <td>3 ROOM</td>\n",
       "      <td>07 TO 09</td>\n",
       "      <td>NEW GENERATION</td>\n",
       "      <td>RULING</td>\n",
       "      <td>-</td>\n",
       "    </tr>\n",
       "    <tr>\n",
       "      <th>4</th>\n",
       "      <td>TOA PAYOH</td>\n",
       "      <td>4 ROOM</td>\n",
       "      <td>16 TO 18</td>\n",
       "      <td>IMPROVED</td>\n",
       "      <td>RULING</td>\n",
       "      <td>-</td>\n",
       "    </tr>\n",
       "  </tbody>\n",
       "</table>\n",
       "</div>"
      ],
      "text/plain": [
       "          town flat_type storey_range      flat_model political_parties  \\\n",
       "0     CLEMENTI    3 ROOM     07 TO 09  NEW GENERATION            RULING   \n",
       "1  JURONG WEST    4 ROOM     04 TO 06        IMPROVED            RULING   \n",
       "2      HOUGANG    4 ROOM     01 TO 03         MODEL A        OPPOSITION   \n",
       "3   ANG MO KIO    3 ROOM     07 TO 09  NEW GENERATION            RULING   \n",
       "4    TOA PAYOH    4 ROOM     16 TO 18        IMPROVED            RULING   \n",
       "\n",
       "  blk_alpha  \n",
       "0         -  \n",
       "1         -  \n",
       "2         -  \n",
       "3         -  \n",
       "4         -  "
      ]
     },
     "execution_count": 13,
     "metadata": {},
     "output_type": "execute_result"
    }
   ],
   "source": [
    "cat_X_train.head()"
   ]
  },
  {
   "cell_type": "code",
   "execution_count": 14,
   "id": "bb6b4f59-2c6c-4ea0-83d2-fbac8406beac",
   "metadata": {
    "tags": []
   },
   "outputs": [
    {
     "data": {
      "text/html": [
       "<div>\n",
       "<style scoped>\n",
       "    .dataframe tbody tr th:only-of-type {\n",
       "        vertical-align: middle;\n",
       "    }\n",
       "\n",
       "    .dataframe tbody tr th {\n",
       "        vertical-align: top;\n",
       "    }\n",
       "\n",
       "    .dataframe thead th {\n",
       "        text-align: right;\n",
       "    }\n",
       "</style>\n",
       "<table border=\"1\" class=\"dataframe\">\n",
       "  <thead>\n",
       "    <tr style=\"text-align: right;\">\n",
       "      <th></th>\n",
       "      <th>floor_area_sqm</th>\n",
       "      <th>blk_num</th>\n",
       "      <th>transaction_year</th>\n",
       "      <th>transaction_month</th>\n",
       "      <th>lease_year</th>\n",
       "      <th>end_lease_year</th>\n",
       "    </tr>\n",
       "  </thead>\n",
       "  <tbody>\n",
       "    <tr>\n",
       "      <th>0</th>\n",
       "      <td>67.0</td>\n",
       "      <td>306</td>\n",
       "      <td>2008</td>\n",
       "      <td>10</td>\n",
       "      <td>1979</td>\n",
       "      <td>2078</td>\n",
       "    </tr>\n",
       "    <tr>\n",
       "      <th>1</th>\n",
       "      <td>87.0</td>\n",
       "      <td>219</td>\n",
       "      <td>1997</td>\n",
       "      <td>11</td>\n",
       "      <td>1975</td>\n",
       "      <td>2074</td>\n",
       "    </tr>\n",
       "    <tr>\n",
       "      <th>2</th>\n",
       "      <td>103.0</td>\n",
       "      <td>130</td>\n",
       "      <td>2010</td>\n",
       "      <td>8</td>\n",
       "      <td>1984</td>\n",
       "      <td>2083</td>\n",
       "    </tr>\n",
       "    <tr>\n",
       "      <th>3</th>\n",
       "      <td>68.0</td>\n",
       "      <td>332</td>\n",
       "      <td>1994</td>\n",
       "      <td>2</td>\n",
       "      <td>1981</td>\n",
       "      <td>2080</td>\n",
       "    </tr>\n",
       "    <tr>\n",
       "      <th>4</th>\n",
       "      <td>82.0</td>\n",
       "      <td>227</td>\n",
       "      <td>2012</td>\n",
       "      <td>1</td>\n",
       "      <td>1976</td>\n",
       "      <td>2075</td>\n",
       "    </tr>\n",
       "  </tbody>\n",
       "</table>\n",
       "</div>"
      ],
      "text/plain": [
       "   floor_area_sqm  blk_num  transaction_year  transaction_month  lease_year  \\\n",
       "0            67.0      306              2008                 10        1979   \n",
       "1            87.0      219              1997                 11        1975   \n",
       "2           103.0      130              2010                  8        1984   \n",
       "3            68.0      332              1994                  2        1981   \n",
       "4            82.0      227              2012                  1        1976   \n",
       "\n",
       "   end_lease_year  \n",
       "0            2078  \n",
       "1            2074  \n",
       "2            2083  \n",
       "3            2080  \n",
       "4            2075  "
      ]
     },
     "execution_count": 14,
     "metadata": {},
     "output_type": "execute_result"
    }
   ],
   "source": [
    "num_X_train.head()"
   ]
  },
  {
   "cell_type": "markdown",
   "id": "ba5c53fe-76e4-43c5-887e-a29a33e12f26",
   "metadata": {},
   "source": [
    "As the dates are in continuous format, it would be best to not perform one hot encoding.\n",
    "Strategy: \n",
    "1. add date columns to X_train\n",
    "2. drop date columns from cat_X_train"
   ]
  },
  {
   "cell_type": "markdown",
   "id": "bf320811-ed3a-4e9f-b1c9-a37a5c872903",
   "metadata": {},
   "source": [
    "#### X_test"
   ]
  },
  {
   "cell_type": "code",
   "execution_count": 15,
   "id": "586ce035-4ce5-479c-98e8-5aab655795a9",
   "metadata": {},
   "outputs": [
    {
     "data": {
      "text/plain": [
       "Index(['town', 'flat_type', 'storey_range', 'floor_area_sqm', 'flat_model',\n",
       "       'political_parties', 'blk_num', 'blk_alpha', 'transaction_year',\n",
       "       'transaction_month', 'lease_year', 'end_lease_year'],\n",
       "      dtype='object')"
      ]
     },
     "execution_count": 15,
     "metadata": {},
     "output_type": "execute_result"
    }
   ],
   "source": [
    "columns_test = X_test.columns\n",
    "columns_test"
   ]
  },
  {
   "cell_type": "code",
   "execution_count": 16,
   "id": "fcf05e96-a5b1-4e8e-82fd-11251d4815a4",
   "metadata": {},
   "outputs": [],
   "source": [
    "cat_X_test = pd.DataFrame()\n",
    "num_X_test = pd.DataFrame()\n",
    "for i in columns:\n",
    "    if 'object' == str(X_test[i].dtypes):\n",
    "        cat_X_test = pd.concat([cat_X_test, X_test[i]], axis = 1)\n",
    "    else:\n",
    "        num_X_test = pd.concat([num_X_test, X_test[i]], axis = 1)"
   ]
  },
  {
   "cell_type": "code",
   "execution_count": 17,
   "id": "1770664d-7789-4d8d-9d80-943d806bdb7b",
   "metadata": {},
   "outputs": [
    {
     "data": {
      "text/html": [
       "<div>\n",
       "<style scoped>\n",
       "    .dataframe tbody tr th:only-of-type {\n",
       "        vertical-align: middle;\n",
       "    }\n",
       "\n",
       "    .dataframe tbody tr th {\n",
       "        vertical-align: top;\n",
       "    }\n",
       "\n",
       "    .dataframe thead th {\n",
       "        text-align: right;\n",
       "    }\n",
       "</style>\n",
       "<table border=\"1\" class=\"dataframe\">\n",
       "  <thead>\n",
       "    <tr style=\"text-align: right;\">\n",
       "      <th></th>\n",
       "      <th>town</th>\n",
       "      <th>flat_type</th>\n",
       "      <th>storey_range</th>\n",
       "      <th>flat_model</th>\n",
       "      <th>political_parties</th>\n",
       "      <th>blk_alpha</th>\n",
       "    </tr>\n",
       "  </thead>\n",
       "  <tbody>\n",
       "    <tr>\n",
       "      <th>0</th>\n",
       "      <td>BUKIT BATOK</td>\n",
       "      <td>3 ROOM</td>\n",
       "      <td>07 TO 09</td>\n",
       "      <td>NEW GENERATION</td>\n",
       "      <td>RULING</td>\n",
       "      <td>-</td>\n",
       "    </tr>\n",
       "    <tr>\n",
       "      <th>1</th>\n",
       "      <td>JURONG EAST</td>\n",
       "      <td>3 ROOM</td>\n",
       "      <td>13 TO 15</td>\n",
       "      <td>IMPROVED</td>\n",
       "      <td>RULING</td>\n",
       "      <td>-</td>\n",
       "    </tr>\n",
       "    <tr>\n",
       "      <th>2</th>\n",
       "      <td>HOUGANG</td>\n",
       "      <td>4 ROOM</td>\n",
       "      <td>07 TO 09</td>\n",
       "      <td>SIMPLIFIED</td>\n",
       "      <td>OPPOSITION</td>\n",
       "      <td>-</td>\n",
       "    </tr>\n",
       "    <tr>\n",
       "      <th>3</th>\n",
       "      <td>SENGKANG</td>\n",
       "      <td>3 ROOM</td>\n",
       "      <td>13 TO 15</td>\n",
       "      <td>MODEL A</td>\n",
       "      <td>RULING</td>\n",
       "      <td>C</td>\n",
       "    </tr>\n",
       "    <tr>\n",
       "      <th>4</th>\n",
       "      <td>KALLANG/WHAMPOA</td>\n",
       "      <td>4 ROOM</td>\n",
       "      <td>16 TO 18</td>\n",
       "      <td>MODEL A</td>\n",
       "      <td>RULING</td>\n",
       "      <td>-</td>\n",
       "    </tr>\n",
       "  </tbody>\n",
       "</table>\n",
       "</div>"
      ],
      "text/plain": [
       "              town flat_type storey_range      flat_model political_parties  \\\n",
       "0      BUKIT BATOK    3 ROOM     07 TO 09  NEW GENERATION            RULING   \n",
       "1      JURONG EAST    3 ROOM     13 TO 15        IMPROVED            RULING   \n",
       "2          HOUGANG    4 ROOM     07 TO 09      SIMPLIFIED        OPPOSITION   \n",
       "3         SENGKANG    3 ROOM     13 TO 15         MODEL A            RULING   \n",
       "4  KALLANG/WHAMPOA    4 ROOM     16 TO 18         MODEL A            RULING   \n",
       "\n",
       "  blk_alpha  \n",
       "0         -  \n",
       "1         -  \n",
       "2         -  \n",
       "3         C  \n",
       "4         -  "
      ]
     },
     "execution_count": 17,
     "metadata": {},
     "output_type": "execute_result"
    }
   ],
   "source": [
    "cat_X_test.head()"
   ]
  },
  {
   "cell_type": "code",
   "execution_count": 18,
   "id": "97ff01d7-d093-4f97-ad4a-f242550561a0",
   "metadata": {},
   "outputs": [
    {
     "data": {
      "text/html": [
       "<div>\n",
       "<style scoped>\n",
       "    .dataframe tbody tr th:only-of-type {\n",
       "        vertical-align: middle;\n",
       "    }\n",
       "\n",
       "    .dataframe tbody tr th {\n",
       "        vertical-align: top;\n",
       "    }\n",
       "\n",
       "    .dataframe thead th {\n",
       "        text-align: right;\n",
       "    }\n",
       "</style>\n",
       "<table border=\"1\" class=\"dataframe\">\n",
       "  <thead>\n",
       "    <tr style=\"text-align: right;\">\n",
       "      <th></th>\n",
       "      <th>floor_area_sqm</th>\n",
       "      <th>blk_num</th>\n",
       "      <th>transaction_year</th>\n",
       "      <th>transaction_month</th>\n",
       "      <th>lease_year</th>\n",
       "      <th>end_lease_year</th>\n",
       "    </tr>\n",
       "  </thead>\n",
       "  <tbody>\n",
       "    <tr>\n",
       "      <th>0</th>\n",
       "      <td>68.0</td>\n",
       "      <td>364</td>\n",
       "      <td>1998</td>\n",
       "      <td>6</td>\n",
       "      <td>1987</td>\n",
       "      <td>2086</td>\n",
       "    </tr>\n",
       "    <tr>\n",
       "      <th>1</th>\n",
       "      <td>77.0</td>\n",
       "      <td>33</td>\n",
       "      <td>2016</td>\n",
       "      <td>2</td>\n",
       "      <td>1977</td>\n",
       "      <td>2076</td>\n",
       "    </tr>\n",
       "    <tr>\n",
       "      <th>2</th>\n",
       "      <td>84.0</td>\n",
       "      <td>636</td>\n",
       "      <td>2006</td>\n",
       "      <td>10</td>\n",
       "      <td>1987</td>\n",
       "      <td>2086</td>\n",
       "    </tr>\n",
       "    <tr>\n",
       "      <th>3</th>\n",
       "      <td>67.0</td>\n",
       "      <td>443</td>\n",
       "      <td>2017</td>\n",
       "      <td>9</td>\n",
       "      <td>2012</td>\n",
       "      <td>2111</td>\n",
       "    </tr>\n",
       "    <tr>\n",
       "      <th>4</th>\n",
       "      <td>90.0</td>\n",
       "      <td>13</td>\n",
       "      <td>2009</td>\n",
       "      <td>11</td>\n",
       "      <td>2004</td>\n",
       "      <td>2103</td>\n",
       "    </tr>\n",
       "  </tbody>\n",
       "</table>\n",
       "</div>"
      ],
      "text/plain": [
       "   floor_area_sqm  blk_num  transaction_year  transaction_month  lease_year  \\\n",
       "0            68.0      364              1998                  6        1987   \n",
       "1            77.0       33              2016                  2        1977   \n",
       "2            84.0      636              2006                 10        1987   \n",
       "3            67.0      443              2017                  9        2012   \n",
       "4            90.0       13              2009                 11        2004   \n",
       "\n",
       "   end_lease_year  \n",
       "0            2086  \n",
       "1            2076  \n",
       "2            2086  \n",
       "3            2111  \n",
       "4            2103  "
      ]
     },
     "execution_count": 18,
     "metadata": {},
     "output_type": "execute_result"
    }
   ],
   "source": [
    "num_X_test.head()"
   ]
  },
  {
   "cell_type": "markdown",
   "id": "1d488b9d-f9f1-4af1-b5c7-8c09784a6cd5",
   "metadata": {},
   "source": [
    "As the dates are in continuous format, it would be best to not perform one hot encoding.\n",
    "Strategy: \n",
    "1. add date columns to X_train\n",
    "2. drop date columns from cat_X_train"
   ]
  },
  {
   "cell_type": "code",
   "execution_count": 19,
   "id": "dd7e1f1d-eaa5-49b8-846d-e41a3d6dbd1a",
   "metadata": {},
   "outputs": [
    {
     "name": "stdout",
     "output_type": "stream",
     "text": [
      "(224751, 6)\n",
      "(224751, 6)\n"
     ]
    }
   ],
   "source": [
    "print(cat_X_test.shape)\n",
    "print(num_X_test.shape)"
   ]
  },
  {
   "cell_type": "markdown",
   "id": "63fde465-195a-450b-96e0-f2614de4ce91",
   "metadata": {},
   "source": [
    "Remarks: columns have been split into categorical and numerical dataframes"
   ]
  },
  {
   "cell_type": "markdown",
   "id": "9dfdb950-4f05-434f-8109-aa86ccc9c90e",
   "metadata": {
    "tags": []
   },
   "source": [
    "## OneHotEncoder for cat_X_train & cat_X_test"
   ]
  },
  {
   "cell_type": "code",
   "execution_count": 20,
   "id": "836b535e-663a-463d-9f26-2a7dd43ab820",
   "metadata": {},
   "outputs": [
    {
     "name": "stdout",
     "output_type": "stream",
     "text": [
      "(674251, 6) (224751, 6)\n"
     ]
    }
   ],
   "source": [
    "print(cat_X_train.shape , cat_X_test.shape)"
   ]
  },
  {
   "cell_type": "code",
   "execution_count": 21,
   "id": "4c6ed7c6-5919-4f00-910b-39763de6b762",
   "metadata": {},
   "outputs": [],
   "source": [
    "encoder = OneHotEncoder()"
   ]
  },
  {
   "cell_type": "code",
   "execution_count": 22,
   "id": "5c159f49-87f8-47bd-9fa4-35f0b4118d7b",
   "metadata": {},
   "outputs": [],
   "source": [
    "X_train_encoded = encoder.fit_transform(cat_X_train)\n",
    "X_test_encoded = encoder.transform(cat_X_test)"
   ]
  },
  {
   "cell_type": "markdown",
   "id": "93b3cf10-db68-4c35-a7c1-a1217e90722a",
   "metadata": {},
   "source": [
    "Remarks: OneHotEncoder have been created."
   ]
  },
  {
   "cell_type": "markdown",
   "id": "c26a3ced-b99a-4d48-80d4-4604db5d85c1",
   "metadata": {
    "tags": []
   },
   "source": [
    "## Combine num_X and cat_X into X"
   ]
  },
  {
   "cell_type": "code",
   "execution_count": 23,
   "id": "eab376ae-f650-4123-9910-70a20e623842",
   "metadata": {},
   "outputs": [],
   "source": [
    "X_train_encoded_df = pd.DataFrame.sparse.from_spmatrix(X_train_encoded)\n",
    "X_test_encoded_df = pd.DataFrame.sparse.from_spmatrix(X_test_encoded)"
   ]
  },
  {
   "cell_type": "code",
   "execution_count": 24,
   "id": "024ee8bb-5d36-444a-b982-9b459361f33a",
   "metadata": {},
   "outputs": [
    {
     "name": "stdout",
     "output_type": "stream",
     "text": [
      "(674251, 93) (224751, 93)\n"
     ]
    }
   ],
   "source": [
    "print(X_train_encoded_df.shape, X_test_encoded_df.shape)"
   ]
  },
  {
   "cell_type": "code",
   "execution_count": 25,
   "id": "d59cff85-213a-4da0-b93c-c0ea090599a8",
   "metadata": {
    "tags": []
   },
   "outputs": [],
   "source": [
    "X_train = pd.concat([num_X_train, X_train_encoded_df], axis = 1)\n",
    "X_test = pd.concat([num_X_test, X_test_encoded_df], axis = 1)"
   ]
  },
  {
   "cell_type": "code",
   "execution_count": 26,
   "id": "913f6128-e434-4b50-bec9-2e68b77ebdc0",
   "metadata": {},
   "outputs": [
    {
     "name": "stdout",
     "output_type": "stream",
     "text": [
      "(674251, 99)\n",
      "(224751, 99)\n"
     ]
    }
   ],
   "source": [
    "print(X_train.shape)\n",
    "print(X_test.shape)"
   ]
  },
  {
   "cell_type": "markdown",
   "id": "2ae7ceb1-b0d3-44c3-abcd-d2a25f33f6cb",
   "metadata": {},
   "source": [
    "Remarks: Columns has been concat."
   ]
  },
  {
   "cell_type": "markdown",
   "id": "6215dad4-ec03-48b9-8b98-1bc36448ea92",
   "metadata": {
    "tags": []
   },
   "source": [
    "# Scaling of Train & Test data"
   ]
  },
  {
   "cell_type": "code",
   "execution_count": 27,
   "id": "0e70ca63-bfd7-4046-81a6-f7b91971416e",
   "metadata": {},
   "outputs": [],
   "source": [
    "X_train.columns = X_train.columns.astype(str)\n",
    "X_test.columns = X_test.columns.astype(str)"
   ]
  },
  {
   "cell_type": "code",
   "execution_count": 28,
   "id": "1b2908f8-0fd9-4c43-bfe1-2ad6639f451a",
   "metadata": {},
   "outputs": [
    {
     "name": "stderr",
     "output_type": "stream",
     "text": [
      "C:\\Users\\johnk\\mambaforge\\lib\\site-packages\\sklearn\\utils\\validation.py:768: UserWarning: pandas.DataFrame with sparse columns found.It will be converted to a dense numpy array.\n",
      "  warnings.warn(\n",
      "C:\\Users\\johnk\\mambaforge\\lib\\site-packages\\sklearn\\utils\\validation.py:768: UserWarning: pandas.DataFrame with sparse columns found.It will be converted to a dense numpy array.\n",
      "  warnings.warn(\n",
      "C:\\Users\\johnk\\mambaforge\\lib\\site-packages\\sklearn\\utils\\validation.py:768: UserWarning: pandas.DataFrame with sparse columns found.It will be converted to a dense numpy array.\n",
      "  warnings.warn(\n"
     ]
    }
   ],
   "source": [
    "sc = StandardScaler()\n",
    "Z_train = sc.fit_transform(X_train)\n",
    "Z_test = sc.transform(X_test)"
   ]
  },
  {
   "cell_type": "markdown",
   "id": "337f6538-b69f-401b-a111-34e8926d0962",
   "metadata": {
    "tags": []
   },
   "source": [
    "# Linear Regression Model"
   ]
  },
  {
   "cell_type": "code",
   "execution_count": 29,
   "id": "6fd6ae59-f0eb-4c9b-866d-ce99dbe4b5bd",
   "metadata": {},
   "outputs": [
    {
     "name": "stdout",
     "output_type": "stream",
     "text": [
      "(674251, 99)\n",
      "(674251,)\n"
     ]
    }
   ],
   "source": [
    "print(Z_train.shape)\n",
    "print(y_train.shape)"
   ]
  },
  {
   "cell_type": "code",
   "execution_count": 30,
   "id": "0b0ed642-1d6c-46ac-a0f9-53684203bc46",
   "metadata": {},
   "outputs": [
    {
     "name": "stdout",
     "output_type": "stream",
     "text": [
      "(224751, 99)\n",
      "(224751,)\n"
     ]
    }
   ],
   "source": [
    "print(Z_test.shape)\n",
    "print(y_test.shape)"
   ]
  },
  {
   "cell_type": "code",
   "execution_count": 31,
   "id": "71e31282-d4c2-41c4-a349-198ac4d96b06",
   "metadata": {},
   "outputs": [],
   "source": [
    "lr = LinearRegression()"
   ]
  },
  {
   "cell_type": "code",
   "execution_count": 32,
   "id": "62e3e43f-3493-4418-be66-2f367633ca99",
   "metadata": {},
   "outputs": [
    {
     "data": {
      "text/html": [
       "<style>#sk-container-id-1 {color: black;background-color: white;}#sk-container-id-1 pre{padding: 0;}#sk-container-id-1 div.sk-toggleable {background-color: white;}#sk-container-id-1 label.sk-toggleable__label {cursor: pointer;display: block;width: 100%;margin-bottom: 0;padding: 0.3em;box-sizing: border-box;text-align: center;}#sk-container-id-1 label.sk-toggleable__label-arrow:before {content: \"▸\";float: left;margin-right: 0.25em;color: #696969;}#sk-container-id-1 label.sk-toggleable__label-arrow:hover:before {color: black;}#sk-container-id-1 div.sk-estimator:hover label.sk-toggleable__label-arrow:before {color: black;}#sk-container-id-1 div.sk-toggleable__content {max-height: 0;max-width: 0;overflow: hidden;text-align: left;background-color: #f0f8ff;}#sk-container-id-1 div.sk-toggleable__content pre {margin: 0.2em;color: black;border-radius: 0.25em;background-color: #f0f8ff;}#sk-container-id-1 input.sk-toggleable__control:checked~div.sk-toggleable__content {max-height: 200px;max-width: 100%;overflow: auto;}#sk-container-id-1 input.sk-toggleable__control:checked~label.sk-toggleable__label-arrow:before {content: \"▾\";}#sk-container-id-1 div.sk-estimator input.sk-toggleable__control:checked~label.sk-toggleable__label {background-color: #d4ebff;}#sk-container-id-1 div.sk-label input.sk-toggleable__control:checked~label.sk-toggleable__label {background-color: #d4ebff;}#sk-container-id-1 input.sk-hidden--visually {border: 0;clip: rect(1px 1px 1px 1px);clip: rect(1px, 1px, 1px, 1px);height: 1px;margin: -1px;overflow: hidden;padding: 0;position: absolute;width: 1px;}#sk-container-id-1 div.sk-estimator {font-family: monospace;background-color: #f0f8ff;border: 1px dotted black;border-radius: 0.25em;box-sizing: border-box;margin-bottom: 0.5em;}#sk-container-id-1 div.sk-estimator:hover {background-color: #d4ebff;}#sk-container-id-1 div.sk-parallel-item::after {content: \"\";width: 100%;border-bottom: 1px solid gray;flex-grow: 1;}#sk-container-id-1 div.sk-label:hover label.sk-toggleable__label {background-color: #d4ebff;}#sk-container-id-1 div.sk-serial::before {content: \"\";position: absolute;border-left: 1px solid gray;box-sizing: border-box;top: 0;bottom: 0;left: 50%;z-index: 0;}#sk-container-id-1 div.sk-serial {display: flex;flex-direction: column;align-items: center;background-color: white;padding-right: 0.2em;padding-left: 0.2em;position: relative;}#sk-container-id-1 div.sk-item {position: relative;z-index: 1;}#sk-container-id-1 div.sk-parallel {display: flex;align-items: stretch;justify-content: center;background-color: white;position: relative;}#sk-container-id-1 div.sk-item::before, #sk-container-id-1 div.sk-parallel-item::before {content: \"\";position: absolute;border-left: 1px solid gray;box-sizing: border-box;top: 0;bottom: 0;left: 50%;z-index: -1;}#sk-container-id-1 div.sk-parallel-item {display: flex;flex-direction: column;z-index: 1;position: relative;background-color: white;}#sk-container-id-1 div.sk-parallel-item:first-child::after {align-self: flex-end;width: 50%;}#sk-container-id-1 div.sk-parallel-item:last-child::after {align-self: flex-start;width: 50%;}#sk-container-id-1 div.sk-parallel-item:only-child::after {width: 0;}#sk-container-id-1 div.sk-dashed-wrapped {border: 1px dashed gray;margin: 0 0.4em 0.5em 0.4em;box-sizing: border-box;padding-bottom: 0.4em;background-color: white;}#sk-container-id-1 div.sk-label label {font-family: monospace;font-weight: bold;display: inline-block;line-height: 1.2em;}#sk-container-id-1 div.sk-label-container {text-align: center;}#sk-container-id-1 div.sk-container {/* jupyter's `normalize.less` sets `[hidden] { display: none; }` but bootstrap.min.css set `[hidden] { display: none !important; }` so we also need the `!important` here to be able to override the default hidden behavior on the sphinx rendered scikit-learn.org. See: https://github.com/scikit-learn/scikit-learn/issues/21755 */display: inline-block !important;position: relative;}#sk-container-id-1 div.sk-text-repr-fallback {display: none;}</style><div id=\"sk-container-id-1\" class=\"sk-top-container\"><div class=\"sk-text-repr-fallback\"><pre>LinearRegression()</pre><b>In a Jupyter environment, please rerun this cell to show the HTML representation or trust the notebook. <br />On GitHub, the HTML representation is unable to render, please try loading this page with nbviewer.org.</b></div><div class=\"sk-container\" hidden><div class=\"sk-item\"><div class=\"sk-estimator sk-toggleable\"><input class=\"sk-toggleable__control sk-hidden--visually\" id=\"sk-estimator-id-1\" type=\"checkbox\" checked><label for=\"sk-estimator-id-1\" class=\"sk-toggleable__label sk-toggleable__label-arrow\">LinearRegression</label><div class=\"sk-toggleable__content\"><pre>LinearRegression()</pre></div></div></div></div></div>"
      ],
      "text/plain": [
       "LinearRegression()"
      ]
     },
     "execution_count": 32,
     "metadata": {},
     "output_type": "execute_result"
    }
   ],
   "source": [
    "lr.fit(Z_train, y_train)"
   ]
  },
  {
   "cell_type": "code",
   "execution_count": 33,
   "id": "4fc5ac02-7c47-4b96-84ab-bf2d9813ce82",
   "metadata": {},
   "outputs": [
    {
     "data": {
      "text/plain": [
       "0.8364046367083308"
      ]
     },
     "execution_count": 33,
     "metadata": {},
     "output_type": "execute_result"
    }
   ],
   "source": [
    "lr.score(Z_train,y_train)"
   ]
  },
  {
   "cell_type": "code",
   "execution_count": 34,
   "id": "7c8b9679-ab18-4709-981b-397ae9c361ce",
   "metadata": {},
   "outputs": [
    {
     "data": {
      "text/plain": [
       "0.8365280487770151"
      ]
     },
     "execution_count": 34,
     "metadata": {},
     "output_type": "execute_result"
    }
   ],
   "source": [
    "lr.score(Z_test, y_test)"
   ]
  },
  {
   "cell_type": "code",
   "execution_count": 35,
   "id": "a3befe6d-879c-4508-b856-d9abb8207003",
   "metadata": {},
   "outputs": [
    {
     "data": {
      "text/plain": [
       "-1.0880572266560308e+23"
      ]
     },
     "execution_count": 35,
     "metadata": {},
     "output_type": "execute_result"
    }
   ],
   "source": [
    "cross_val_score(lr, Z_train, y_train, cv = 5).mean()"
   ]
  },
  {
   "cell_type": "code",
   "execution_count": 36,
   "id": "538ce6a3-ee17-44f6-9d11-196b5c20bba1",
   "metadata": {},
   "outputs": [],
   "source": [
    "predictions = lr.predict(Z_test)"
   ]
  },
  {
   "cell_type": "code",
   "execution_count": 37,
   "id": "23002b83-93a7-4d07-bee1-acba088423bb",
   "metadata": {},
   "outputs": [
    {
     "data": {
      "text/plain": [
       "66048.41828087281"
      ]
     },
     "execution_count": 37,
     "metadata": {},
     "output_type": "execute_result"
    }
   ],
   "source": [
    "np.sqrt(metrics.mean_squared_error(y_test, predictions))"
   ]
  },
  {
   "cell_type": "code",
   "execution_count": 38,
   "id": "b1ec4e9d-685e-4bde-bb94-115c80eaa1b5",
   "metadata": {},
   "outputs": [],
   "source": [
    "base_y_test = y_test.reset_index(drop=True)"
   ]
  },
  {
   "cell_type": "code",
   "execution_count": 39,
   "id": "4c3f1861-9dfb-418c-a1f3-93088526f16b",
   "metadata": {},
   "outputs": [],
   "source": [
    "pred_df = pd.DataFrame(base_y_test)"
   ]
  },
  {
   "cell_type": "code",
   "execution_count": 40,
   "id": "21f4a5b1-7204-4f49-881c-aedd5fe71990",
   "metadata": {},
   "outputs": [],
   "source": [
    "pred_df = pd.concat([pred_df, pd.DataFrame({'model_predictions': predictions})], axis = 1)"
   ]
  },
  {
   "cell_type": "code",
   "execution_count": 41,
   "id": "a3ea2106-d1b2-4b75-99ae-b9fccd85171f",
   "metadata": {},
   "outputs": [
    {
     "data": {
      "image/png": "[encoded data removed]",
      "text/plain": [
       "<Figure size 432x288 with 1 Axes>"
      ]
     },
     "metadata": {
      "needs_background": "light"
     },
     "output_type": "display_data"
    }
   ],
   "source": [
    "sns.scatterplot(x=pred_df['resale_price'], y=pred_df['model_predictions'])\n",
    "plt.plot([min(pred_df['resale_price']), max(pred_df['resale_price'])], [min(pred_df['model_predictions']), max(pred_df['model_predictions'])], color='red', linestyle='--')\n",
    "plt.title('True Resale Prices vs Model Predictions')\n",
    "plt.xlabel('True Resale Prices')\n",
    "plt.ylabel('Model Predictions')\n",
    "plt.show()"
   ]
  },
  {
   "cell_type": "markdown",
   "id": "a49919ac-68f0-4ce0-9ae6-02108a4bc72f",
   "metadata": {},
   "source": [
    "The graph above provides insights into the model's performance in predicting housing prices. The presence of a linear trend suggests a general relationship between the predicted and true values.\n",
    "\n",
    "Upon closer examination, it can be observed that the majority of the data points are consistently positioned above the diagonal line. This indicates the presence of a systematic bias in the model's predictions. The bias suggests that the model tends to consistently overestimate or underestimate the true values, leading to a consistent deviation from the ideal linear relationship.\n",
    "\n",
    "Furthermore, the scatter of data points around the diagonal line suggests a certain degree of prediction error. The loosely scattered points indicate a relatively higher level of variability or uncertainty in the model's predictions. This suggests that the model may have limitations in accurately capturing the true housing prices, leading to a higher degree of prediction error."
   ]
  },
  {
   "cell_type": "markdown",
   "id": "8b7ad5ea-68ef-48bf-96f0-12f80c4fd9d6",
   "metadata": {
    "tags": []
   },
   "source": [
    "# Discussion"
   ]
  },
  {
   "cell_type": "markdown",
   "id": "056f4eb6-8c11-4797-8f3d-e2556de27ca0",
   "metadata": {},
   "source": [
    "After fitting a linear regression model on the dataset, obtaining a train score and test score of 83.6% suggests that the model performs reasonably well on both the training and test data. The matching scores indicate that there is no apparent sign of overfitting or underfitting, which is generally desirable and the RMSE score is 66,048.\n",
    "\n",
    "However, the cross-validation score of -1.08e+23 indicates a significant issue. This negative score strongly suggests the presence of model overfitting. Overfitting occurs when the model becomes too complex and starts capturing noise or irrelevant patterns from the training data. Consequently, it performs poorly on unseen data during cross-validation, resulting in a negative mean score.\n",
    "\n",
    "The negative cross-validation score highlights the bad generalization of the model. It implies that the model's ability to accurately predict new, unseen data is severely compromised due to its overfitting behavior.\n",
    "\n",
    "In addition, with the graph of true resale prices vs predicted prices, it is evident that the model can be improved predictive accuracy and reduce systematic bias in the model's predictions.\n",
    "\n",
    "Given these findings, it is necessary to explore alternative models or techniques to improve both the train and test scores while addressing the issue of overfitting. This may involve adjusting model hyperparameters and trying different algorithms altogether. The goal is to enhance the model's generalization ability, ensuring that it can make accurate predictions on new data beyond the training set."
   ]
  }
 ],
 "metadata": {
  "kernelspec": {
   "display_name": "Python 3 (ipykernel)",
   "language": "python",
   "name": "python3"
  },
  "language_info": {
   "codemirror_mode": {
    "name": "ipython",
    "version": 3
   },
   "file_extension": ".py",
   "mimetype": "text/x-python",
   "name": "python",
   "nbconvert_exporter": "python",
   "pygments_lexer": "ipython3",
   "version": "3.10.9"
  }
 },
 "nbformat": 4,
 "nbformat_minor": 5
}
