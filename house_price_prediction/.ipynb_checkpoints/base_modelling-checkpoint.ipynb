{
 "cells": [
  {
   "cell_type": "markdown",
   "id": "665cf2bc-7510-4631-91f3-58900136cb07",
   "metadata": {},
   "source": [
    "# Import relevant libraries"
   ]
  },
  {
   "cell_type": "code",
   "execution_count": 1,
   "id": "2316d1d9-b0cc-4ff6-89a0-01eceb6f3723",
   "metadata": {},
   "outputs": [],
   "source": [
    "#import libries\n",
    "import numpy as np\n",
    "import pandas as pd\n",
    "import seaborn as sns\n",
    "import matplotlib.pyplot as plt\n",
    "\n",
    "from xgboost import XGBRegressor\n",
    "from sklearn.preprocessing import StandardScaler, OneHotEncoder\n",
    "from sklearn.linear_model import RidgeCV, LassoCV, ElasticNetCV\n",
    "from sklearn.linear_model import LinearRegression \n",
    "from sklearn.model_selection import train_test_split, cross_val_score, GridSearchCV \n",
    "from sklearn.pipeline import Pipeline\n",
    "\n",
    "from sklearn import metrics "
   ]
  },
  {
   "cell_type": "code",
   "execution_count": 2,
   "id": "353a5e1c-eb74-44b6-9dee-9ea42e55ebc6",
   "metadata": {},
   "outputs": [],
   "source": [
    "#load dataset\n",
    "df = pd.read_csv('./datasets/cleaned_v2.csv', low_memory = False)"
   ]
  },
  {
   "cell_type": "code",
   "execution_count": 3,
   "id": "291acd35-d0d6-4470-ba80-8df03981aac1",
   "metadata": {},
   "outputs": [
    {
     "data": {
      "text/html": [
       "<div>\n",
       "<style scoped>\n",
       "    .dataframe tbody tr th:only-of-type {\n",
       "        vertical-align: middle;\n",
       "    }\n",
       "\n",
       "    .dataframe tbody tr th {\n",
       "        vertical-align: top;\n",
       "    }\n",
       "\n",
       "    .dataframe thead th {\n",
       "        text-align: right;\n",
       "    }\n",
       "</style>\n",
       "<table border=\"1\" class=\"dataframe\">\n",
       "  <thead>\n",
       "    <tr style=\"text-align: right;\">\n",
       "      <th></th>\n",
       "      <th>town</th>\n",
       "      <th>flat_type</th>\n",
       "      <th>storey_range</th>\n",
       "      <th>floor_area_sqm</th>\n",
       "      <th>flat_model</th>\n",
       "      <th>resale_price</th>\n",
       "      <th>political_parties</th>\n",
       "      <th>remaining_lease_days</th>\n",
       "      <th>blk_num</th>\n",
       "      <th>blk_alpha</th>\n",
       "      <th>transaction_year</th>\n",
       "      <th>transaction_month</th>\n",
       "      <th>lease_year</th>\n",
       "    </tr>\n",
       "  </thead>\n",
       "  <tbody>\n",
       "    <tr>\n",
       "      <th>0</th>\n",
       "      <td>ANG MO KIO</td>\n",
       "      <td>1 ROOM</td>\n",
       "      <td>10 TO 12</td>\n",
       "      <td>31.0</td>\n",
       "      <td>IMPROVED</td>\n",
       "      <td>9000.0</td>\n",
       "      <td>PAP</td>\n",
       "      <td>31411</td>\n",
       "      <td>309</td>\n",
       "      <td>-</td>\n",
       "      <td>1990</td>\n",
       "      <td>1</td>\n",
       "      <td>1977</td>\n",
       "    </tr>\n",
       "    <tr>\n",
       "      <th>1</th>\n",
       "      <td>ANG MO KIO</td>\n",
       "      <td>1 ROOM</td>\n",
       "      <td>04 TO 06</td>\n",
       "      <td>31.0</td>\n",
       "      <td>IMPROVED</td>\n",
       "      <td>6000.0</td>\n",
       "      <td>PAP</td>\n",
       "      <td>31411</td>\n",
       "      <td>309</td>\n",
       "      <td>-</td>\n",
       "      <td>1990</td>\n",
       "      <td>1</td>\n",
       "      <td>1977</td>\n",
       "    </tr>\n",
       "    <tr>\n",
       "      <th>2</th>\n",
       "      <td>ANG MO KIO</td>\n",
       "      <td>1 ROOM</td>\n",
       "      <td>10 TO 12</td>\n",
       "      <td>31.0</td>\n",
       "      <td>IMPROVED</td>\n",
       "      <td>8000.0</td>\n",
       "      <td>PAP</td>\n",
       "      <td>31411</td>\n",
       "      <td>309</td>\n",
       "      <td>-</td>\n",
       "      <td>1990</td>\n",
       "      <td>1</td>\n",
       "      <td>1977</td>\n",
       "    </tr>\n",
       "    <tr>\n",
       "      <th>3</th>\n",
       "      <td>ANG MO KIO</td>\n",
       "      <td>1 ROOM</td>\n",
       "      <td>07 TO 09</td>\n",
       "      <td>31.0</td>\n",
       "      <td>IMPROVED</td>\n",
       "      <td>6000.0</td>\n",
       "      <td>PAP</td>\n",
       "      <td>31411</td>\n",
       "      <td>309</td>\n",
       "      <td>-</td>\n",
       "      <td>1990</td>\n",
       "      <td>1</td>\n",
       "      <td>1977</td>\n",
       "    </tr>\n",
       "    <tr>\n",
       "      <th>4</th>\n",
       "      <td>ANG MO KIO</td>\n",
       "      <td>3 ROOM</td>\n",
       "      <td>04 TO 06</td>\n",
       "      <td>73.0</td>\n",
       "      <td>NEW GENERATION</td>\n",
       "      <td>47200.0</td>\n",
       "      <td>PAP</td>\n",
       "      <td>31046</td>\n",
       "      <td>216</td>\n",
       "      <td>-</td>\n",
       "      <td>1990</td>\n",
       "      <td>1</td>\n",
       "      <td>1976</td>\n",
       "    </tr>\n",
       "  </tbody>\n",
       "</table>\n",
       "</div>"
      ],
      "text/plain": [
       "         town flat_type storey_range  floor_area_sqm      flat_model  \\\n",
       "0  ANG MO KIO    1 ROOM     10 TO 12            31.0        IMPROVED   \n",
       "1  ANG MO KIO    1 ROOM     04 TO 06            31.0        IMPROVED   \n",
       "2  ANG MO KIO    1 ROOM     10 TO 12            31.0        IMPROVED   \n",
       "3  ANG MO KIO    1 ROOM     07 TO 09            31.0        IMPROVED   \n",
       "4  ANG MO KIO    3 ROOM     04 TO 06            73.0  NEW GENERATION   \n",
       "\n",
       "   resale_price political_parties  remaining_lease_days  blk_num blk_alpha  \\\n",
       "0        9000.0               PAP                 31411      309         -   \n",
       "1        6000.0               PAP                 31411      309         -   \n",
       "2        8000.0               PAP                 31411      309         -   \n",
       "3        6000.0               PAP                 31411      309         -   \n",
       "4       47200.0               PAP                 31046      216         -   \n",
       "\n",
       "   transaction_year  transaction_month  lease_year  \n",
       "0              1990                  1        1977  \n",
       "1              1990                  1        1977  \n",
       "2              1990                  1        1977  \n",
       "3              1990                  1        1977  \n",
       "4              1990                  1        1976  "
      ]
     },
     "execution_count": 3,
     "metadata": {},
     "output_type": "execute_result"
    }
   ],
   "source": [
    "# pd.set_option('display.max_columns', None)\n",
    "df.head()"
   ]
  },
  {
   "cell_type": "markdown",
   "id": "76333fc2-8dac-4ed4-8143-006c1364ef77",
   "metadata": {
    "tags": []
   },
   "source": [
    "# Preprocessing of Data"
   ]
  },
  {
   "cell_type": "markdown",
   "id": "c411e812-ffa7-41b8-8937-9c88f05735fd",
   "metadata": {
    "tags": []
   },
   "source": [
    "## Split data into features and target"
   ]
  },
  {
   "cell_type": "code",
   "execution_count": 4,
   "id": "1b11fb72-9647-4f18-8650-860c16e98d6b",
   "metadata": {},
   "outputs": [],
   "source": [
    "X = df.drop(columns = 'resale_price')\n",
    "y = df['resale_price']"
   ]
  },
  {
   "cell_type": "code",
   "execution_count": 5,
   "id": "ab57aa32-76b0-4cc5-9db2-890fd78c48be",
   "metadata": {},
   "outputs": [
    {
     "data": {
      "text/html": [
       "<div>\n",
       "<style scoped>\n",
       "    .dataframe tbody tr th:only-of-type {\n",
       "        vertical-align: middle;\n",
       "    }\n",
       "\n",
       "    .dataframe tbody tr th {\n",
       "        vertical-align: top;\n",
       "    }\n",
       "\n",
       "    .dataframe thead th {\n",
       "        text-align: right;\n",
       "    }\n",
       "</style>\n",
       "<table border=\"1\" class=\"dataframe\">\n",
       "  <thead>\n",
       "    <tr style=\"text-align: right;\">\n",
       "      <th></th>\n",
       "      <th>town</th>\n",
       "      <th>flat_type</th>\n",
       "      <th>storey_range</th>\n",
       "      <th>floor_area_sqm</th>\n",
       "      <th>flat_model</th>\n",
       "      <th>political_parties</th>\n",
       "      <th>remaining_lease_days</th>\n",
       "      <th>blk_num</th>\n",
       "      <th>blk_alpha</th>\n",
       "      <th>transaction_year</th>\n",
       "      <th>transaction_month</th>\n",
       "      <th>lease_year</th>\n",
       "    </tr>\n",
       "  </thead>\n",
       "  <tbody>\n",
       "    <tr>\n",
       "      <th>0</th>\n",
       "      <td>ANG MO KIO</td>\n",
       "      <td>1 ROOM</td>\n",
       "      <td>10 TO 12</td>\n",
       "      <td>31.0</td>\n",
       "      <td>IMPROVED</td>\n",
       "      <td>PAP</td>\n",
       "      <td>31411</td>\n",
       "      <td>309</td>\n",
       "      <td>-</td>\n",
       "      <td>1990</td>\n",
       "      <td>1</td>\n",
       "      <td>1977</td>\n",
       "    </tr>\n",
       "    <tr>\n",
       "      <th>1</th>\n",
       "      <td>ANG MO KIO</td>\n",
       "      <td>1 ROOM</td>\n",
       "      <td>04 TO 06</td>\n",
       "      <td>31.0</td>\n",
       "      <td>IMPROVED</td>\n",
       "      <td>PAP</td>\n",
       "      <td>31411</td>\n",
       "      <td>309</td>\n",
       "      <td>-</td>\n",
       "      <td>1990</td>\n",
       "      <td>1</td>\n",
       "      <td>1977</td>\n",
       "    </tr>\n",
       "    <tr>\n",
       "      <th>2</th>\n",
       "      <td>ANG MO KIO</td>\n",
       "      <td>1 ROOM</td>\n",
       "      <td>10 TO 12</td>\n",
       "      <td>31.0</td>\n",
       "      <td>IMPROVED</td>\n",
       "      <td>PAP</td>\n",
       "      <td>31411</td>\n",
       "      <td>309</td>\n",
       "      <td>-</td>\n",
       "      <td>1990</td>\n",
       "      <td>1</td>\n",
       "      <td>1977</td>\n",
       "    </tr>\n",
       "    <tr>\n",
       "      <th>3</th>\n",
       "      <td>ANG MO KIO</td>\n",
       "      <td>1 ROOM</td>\n",
       "      <td>07 TO 09</td>\n",
       "      <td>31.0</td>\n",
       "      <td>IMPROVED</td>\n",
       "      <td>PAP</td>\n",
       "      <td>31411</td>\n",
       "      <td>309</td>\n",
       "      <td>-</td>\n",
       "      <td>1990</td>\n",
       "      <td>1</td>\n",
       "      <td>1977</td>\n",
       "    </tr>\n",
       "    <tr>\n",
       "      <th>4</th>\n",
       "      <td>ANG MO KIO</td>\n",
       "      <td>3 ROOM</td>\n",
       "      <td>04 TO 06</td>\n",
       "      <td>73.0</td>\n",
       "      <td>NEW GENERATION</td>\n",
       "      <td>PAP</td>\n",
       "      <td>31046</td>\n",
       "      <td>216</td>\n",
       "      <td>-</td>\n",
       "      <td>1990</td>\n",
       "      <td>1</td>\n",
       "      <td>1976</td>\n",
       "    </tr>\n",
       "  </tbody>\n",
       "</table>\n",
       "</div>"
      ],
      "text/plain": [
       "         town flat_type storey_range  floor_area_sqm      flat_model  \\\n",
       "0  ANG MO KIO    1 ROOM     10 TO 12            31.0        IMPROVED   \n",
       "1  ANG MO KIO    1 ROOM     04 TO 06            31.0        IMPROVED   \n",
       "2  ANG MO KIO    1 ROOM     10 TO 12            31.0        IMPROVED   \n",
       "3  ANG MO KIO    1 ROOM     07 TO 09            31.0        IMPROVED   \n",
       "4  ANG MO KIO    3 ROOM     04 TO 06            73.0  NEW GENERATION   \n",
       "\n",
       "  political_parties  remaining_lease_days  blk_num blk_alpha  \\\n",
       "0               PAP                 31411      309         -   \n",
       "1               PAP                 31411      309         -   \n",
       "2               PAP                 31411      309         -   \n",
       "3               PAP                 31411      309         -   \n",
       "4               PAP                 31046      216         -   \n",
       "\n",
       "   transaction_year  transaction_month  lease_year  \n",
       "0              1990                  1        1977  \n",
       "1              1990                  1        1977  \n",
       "2              1990                  1        1977  \n",
       "3              1990                  1        1977  \n",
       "4              1990                  1        1976  "
      ]
     },
     "execution_count": 5,
     "metadata": {},
     "output_type": "execute_result"
    }
   ],
   "source": [
    "X.head()"
   ]
  },
  {
   "cell_type": "code",
   "execution_count": 6,
   "id": "89696623-b211-45b0-bdc1-992b66296489",
   "metadata": {},
   "outputs": [
    {
     "data": {
      "text/plain": [
       "0     9000.0\n",
       "1     6000.0\n",
       "2     8000.0\n",
       "3     6000.0\n",
       "4    47200.0\n",
       "Name: resale_price, dtype: float64"
      ]
     },
     "execution_count": 6,
     "metadata": {},
     "output_type": "execute_result"
    }
   ],
   "source": [
    "y.head()"
   ]
  },
  {
   "cell_type": "markdown",
   "id": "95c9d2fd-6013-467b-8f03-0ecb6d8b70df",
   "metadata": {},
   "source": [
    "Remarks: X and y has been split"
   ]
  },
  {
   "cell_type": "markdown",
   "id": "864a04d9-1b1c-48e0-b019-806e1e8111af",
   "metadata": {
    "tags": []
   },
   "source": [
    "## Initiate train_test_split()"
   ]
  },
  {
   "cell_type": "code",
   "execution_count": 7,
   "id": "c269d04b-cecb-4088-8bcb-fa6a7703fb5a",
   "metadata": {},
   "outputs": [],
   "source": [
    "X_train, X_test, y_train, y_test = train_test_split(X, y, random_state=42)"
   ]
  },
  {
   "cell_type": "markdown",
   "id": "62aa6d7d-a01f-460d-b8b2-abe99b033177",
   "metadata": {},
   "source": [
    "Show split of train and test data"
   ]
  },
  {
   "cell_type": "code",
   "execution_count": 8,
   "id": "10ad447c-78b9-47eb-be66-124283227829",
   "metadata": {},
   "outputs": [
    {
     "name": "stdout",
     "output_type": "stream",
     "text": [
      "674251 224751\n"
     ]
    }
   ],
   "source": [
    "print(len(X_train), len(X_test))"
   ]
  },
  {
   "cell_type": "code",
   "execution_count": 9,
   "id": "8e9f60fa-be6f-4a8a-a3c4-bd98e568deb4",
   "metadata": {},
   "outputs": [
    {
     "name": "stdout",
     "output_type": "stream",
     "text": [
      "674251 224751\n"
     ]
    }
   ],
   "source": [
    "print(len(y_train),len(y_test) )"
   ]
  },
  {
   "cell_type": "code",
   "execution_count": 10,
   "id": "9691b96a-1e4c-4bf9-826b-c392a3f578d4",
   "metadata": {},
   "outputs": [],
   "source": [
    "# reset index\n",
    "X_train = X_train.reset_index(drop = True)\n",
    "X_test = X_test.reset_index(drop = True)"
   ]
  },
  {
   "cell_type": "markdown",
   "id": "b7bb9a3b-9eff-4b03-9b54-7db978de26ed",
   "metadata": {},
   "source": [
    "Remarks: Train test split was sucessful "
   ]
  },
  {
   "cell_type": "markdown",
   "id": "be9225c9-7699-420d-941f-7875f7366365",
   "metadata": {},
   "source": [
    "### Split X_train & X_test into categorical and numerical."
   ]
  },
  {
   "cell_type": "markdown",
   "id": "8fe39148-49dc-46be-9dc5-d3a104d441ff",
   "metadata": {},
   "source": [
    "#### X_train"
   ]
  },
  {
   "cell_type": "code",
   "execution_count": 11,
   "id": "258fcf7e-2c40-463d-a9a0-d6f94d63ce32",
   "metadata": {},
   "outputs": [
    {
     "data": {
      "text/plain": [
       "Index(['town', 'flat_type', 'storey_range', 'floor_area_sqm', 'flat_model',\n",
       "       'political_parties', 'remaining_lease_days', 'blk_num', 'blk_alpha',\n",
       "       'transaction_year', 'transaction_month', 'lease_year'],\n",
       "      dtype='object')"
      ]
     },
     "execution_count": 11,
     "metadata": {},
     "output_type": "execute_result"
    }
   ],
   "source": [
    "columns = X_train.columns\n",
    "columns"
   ]
  },
  {
   "cell_type": "code",
   "execution_count": 12,
   "id": "903cc6ea-c22b-493b-928f-ea99b59404b3",
   "metadata": {},
   "outputs": [],
   "source": [
    "cat_X_train = pd.DataFrame()\n",
    "num_X_train = pd.DataFrame()\n",
    "for i in columns:\n",
    "    if 'object' == str(X_train[i].dtypes):\n",
    "        cat_X_train = pd.concat([cat_X_train, X_train[i]], axis = 1)\n",
    "    else:\n",
    "        num_X_train = pd.concat([num_X_train, X_train[i]], axis = 1)"
   ]
  },
  {
   "cell_type": "code",
   "execution_count": 13,
   "id": "b95ab4ae-ac1f-4ccb-b245-a0aa7bb4f905",
   "metadata": {},
   "outputs": [
    {
     "data": {
      "text/html": [
       "<div>\n",
       "<style scoped>\n",
       "    .dataframe tbody tr th:only-of-type {\n",
       "        vertical-align: middle;\n",
       "    }\n",
       "\n",
       "    .dataframe tbody tr th {\n",
       "        vertical-align: top;\n",
       "    }\n",
       "\n",
       "    .dataframe thead th {\n",
       "        text-align: right;\n",
       "    }\n",
       "</style>\n",
       "<table border=\"1\" class=\"dataframe\">\n",
       "  <thead>\n",
       "    <tr style=\"text-align: right;\">\n",
       "      <th></th>\n",
       "      <th>town</th>\n",
       "      <th>flat_type</th>\n",
       "      <th>storey_range</th>\n",
       "      <th>flat_model</th>\n",
       "      <th>political_parties</th>\n",
       "      <th>blk_alpha</th>\n",
       "    </tr>\n",
       "  </thead>\n",
       "  <tbody>\n",
       "    <tr>\n",
       "      <th>0</th>\n",
       "      <td>CLEMENTI</td>\n",
       "      <td>3 ROOM</td>\n",
       "      <td>07 TO 09</td>\n",
       "      <td>NEW GENERATION</td>\n",
       "      <td>PAP</td>\n",
       "      <td>-</td>\n",
       "    </tr>\n",
       "    <tr>\n",
       "      <th>1</th>\n",
       "      <td>JURONG WEST</td>\n",
       "      <td>4 ROOM</td>\n",
       "      <td>04 TO 06</td>\n",
       "      <td>IMPROVED</td>\n",
       "      <td>PAP</td>\n",
       "      <td>-</td>\n",
       "    </tr>\n",
       "    <tr>\n",
       "      <th>2</th>\n",
       "      <td>HOUGANG</td>\n",
       "      <td>4 ROOM</td>\n",
       "      <td>01 TO 03</td>\n",
       "      <td>MODEL A</td>\n",
       "      <td>WP</td>\n",
       "      <td>-</td>\n",
       "    </tr>\n",
       "    <tr>\n",
       "      <th>3</th>\n",
       "      <td>ANG MO KIO</td>\n",
       "      <td>3 ROOM</td>\n",
       "      <td>07 TO 09</td>\n",
       "      <td>NEW GENERATION</td>\n",
       "      <td>PAP</td>\n",
       "      <td>-</td>\n",
       "    </tr>\n",
       "    <tr>\n",
       "      <th>4</th>\n",
       "      <td>TOA PAYOH</td>\n",
       "      <td>4 ROOM</td>\n",
       "      <td>16 TO 18</td>\n",
       "      <td>IMPROVED</td>\n",
       "      <td>PAP</td>\n",
       "      <td>-</td>\n",
       "    </tr>\n",
       "  </tbody>\n",
       "</table>\n",
       "</div>"
      ],
      "text/plain": [
       "          town flat_type storey_range      flat_model political_parties  \\\n",
       "0     CLEMENTI    3 ROOM     07 TO 09  NEW GENERATION               PAP   \n",
       "1  JURONG WEST    4 ROOM     04 TO 06        IMPROVED               PAP   \n",
       "2      HOUGANG    4 ROOM     01 TO 03         MODEL A                WP   \n",
       "3   ANG MO KIO    3 ROOM     07 TO 09  NEW GENERATION               PAP   \n",
       "4    TOA PAYOH    4 ROOM     16 TO 18        IMPROVED               PAP   \n",
       "\n",
       "  blk_alpha  \n",
       "0         -  \n",
       "1         -  \n",
       "2         -  \n",
       "3         -  \n",
       "4         -  "
      ]
     },
     "execution_count": 13,
     "metadata": {},
     "output_type": "execute_result"
    }
   ],
   "source": [
    "cat_X_train.head()"
   ]
  },
  {
   "cell_type": "code",
   "execution_count": 14,
   "id": "bb6b4f59-2c6c-4ea0-83d2-fbac8406beac",
   "metadata": {
    "tags": []
   },
   "outputs": [
    {
     "data": {
      "text/html": [
       "<div>\n",
       "<style scoped>\n",
       "    .dataframe tbody tr th:only-of-type {\n",
       "        vertical-align: middle;\n",
       "    }\n",
       "\n",
       "    .dataframe tbody tr th {\n",
       "        vertical-align: top;\n",
       "    }\n",
       "\n",
       "    .dataframe thead th {\n",
       "        text-align: right;\n",
       "    }\n",
       "</style>\n",
       "<table border=\"1\" class=\"dataframe\">\n",
       "  <thead>\n",
       "    <tr style=\"text-align: right;\">\n",
       "      <th></th>\n",
       "      <th>floor_area_sqm</th>\n",
       "      <th>remaining_lease_days</th>\n",
       "      <th>blk_num</th>\n",
       "      <th>transaction_year</th>\n",
       "      <th>transaction_month</th>\n",
       "      <th>lease_year</th>\n",
       "    </tr>\n",
       "  </thead>\n",
       "  <tbody>\n",
       "    <tr>\n",
       "      <th>0</th>\n",
       "      <td>67.0</td>\n",
       "      <td>25294</td>\n",
       "      <td>306</td>\n",
       "      <td>2008</td>\n",
       "      <td>10</td>\n",
       "      <td>1979</td>\n",
       "    </tr>\n",
       "    <tr>\n",
       "      <th>1</th>\n",
       "      <td>87.0</td>\n",
       "      <td>27820</td>\n",
       "      <td>219</td>\n",
       "      <td>1997</td>\n",
       "      <td>11</td>\n",
       "      <td>1975</td>\n",
       "    </tr>\n",
       "    <tr>\n",
       "      <th>2</th>\n",
       "      <td>103.0</td>\n",
       "      <td>26451</td>\n",
       "      <td>130</td>\n",
       "      <td>2010</td>\n",
       "      <td>8</td>\n",
       "      <td>1984</td>\n",
       "    </tr>\n",
       "    <tr>\n",
       "      <th>3</th>\n",
       "      <td>68.0</td>\n",
       "      <td>31380</td>\n",
       "      <td>332</td>\n",
       "      <td>1994</td>\n",
       "      <td>2</td>\n",
       "      <td>1981</td>\n",
       "    </tr>\n",
       "    <tr>\n",
       "      <th>4</th>\n",
       "      <td>82.0</td>\n",
       "      <td>23011</td>\n",
       "      <td>227</td>\n",
       "      <td>2012</td>\n",
       "      <td>1</td>\n",
       "      <td>1976</td>\n",
       "    </tr>\n",
       "  </tbody>\n",
       "</table>\n",
       "</div>"
      ],
      "text/plain": [
       "   floor_area_sqm  remaining_lease_days  blk_num  transaction_year  \\\n",
       "0            67.0                 25294      306              2008   \n",
       "1            87.0                 27820      219              1997   \n",
       "2           103.0                 26451      130              2010   \n",
       "3            68.0                 31380      332              1994   \n",
       "4            82.0                 23011      227              2012   \n",
       "\n",
       "   transaction_month  lease_year  \n",
       "0                 10        1979  \n",
       "1                 11        1975  \n",
       "2                  8        1984  \n",
       "3                  2        1981  \n",
       "4                  1        1976  "
      ]
     },
     "execution_count": 14,
     "metadata": {},
     "output_type": "execute_result"
    }
   ],
   "source": [
    "num_X_train.head()"
   ]
  },
  {
   "cell_type": "markdown",
   "id": "ba5c53fe-76e4-43c5-887e-a29a33e12f26",
   "metadata": {},
   "source": [
    "As the dates are in continuous format, it would be best to not perform one hot encoding.\n",
    "Strategy: \n",
    "1. add date columns to X_train\n",
    "2. drop date columns from cat_X_train"
   ]
  },
  {
   "cell_type": "markdown",
   "id": "bf320811-ed3a-4e9f-b1c9-a37a5c872903",
   "metadata": {},
   "source": [
    "#### X_test"
   ]
  },
  {
   "cell_type": "code",
   "execution_count": 15,
   "id": "586ce035-4ce5-479c-98e8-5aab655795a9",
   "metadata": {},
   "outputs": [
    {
     "data": {
      "text/plain": [
       "Index(['town', 'flat_type', 'storey_range', 'floor_area_sqm', 'flat_model',\n",
       "       'political_parties', 'remaining_lease_days', 'blk_num', 'blk_alpha',\n",
       "       'transaction_year', 'transaction_month', 'lease_year'],\n",
       "      dtype='object')"
      ]
     },
     "execution_count": 15,
     "metadata": {},
     "output_type": "execute_result"
    }
   ],
   "source": [
    "columns_test = X_test.columns\n",
    "columns_test"
   ]
  },
  {
   "cell_type": "code",
   "execution_count": 16,
   "id": "fcf05e96-a5b1-4e8e-82fd-11251d4815a4",
   "metadata": {},
   "outputs": [],
   "source": [
    "cat_X_test = pd.DataFrame()\n",
    "num_X_test = pd.DataFrame()\n",
    "for i in columns:\n",
    "    if 'object' == str(X_test[i].dtypes):\n",
    "        cat_X_test = pd.concat([cat_X_test, X_test[i]], axis = 1)\n",
    "    else:\n",
    "        num_X_test = pd.concat([num_X_test, X_test[i]], axis = 1)"
   ]
  },
  {
   "cell_type": "code",
   "execution_count": 17,
   "id": "1770664d-7789-4d8d-9d80-943d806bdb7b",
   "metadata": {},
   "outputs": [
    {
     "data": {
      "text/html": [
       "<div>\n",
       "<style scoped>\n",
       "    .dataframe tbody tr th:only-of-type {\n",
       "        vertical-align: middle;\n",
       "    }\n",
       "\n",
       "    .dataframe tbody tr th {\n",
       "        vertical-align: top;\n",
       "    }\n",
       "\n",
       "    .dataframe thead th {\n",
       "        text-align: right;\n",
       "    }\n",
       "</style>\n",
       "<table border=\"1\" class=\"dataframe\">\n",
       "  <thead>\n",
       "    <tr style=\"text-align: right;\">\n",
       "      <th></th>\n",
       "      <th>town</th>\n",
       "      <th>flat_type</th>\n",
       "      <th>storey_range</th>\n",
       "      <th>flat_model</th>\n",
       "      <th>political_parties</th>\n",
       "      <th>blk_alpha</th>\n",
       "    </tr>\n",
       "  </thead>\n",
       "  <tbody>\n",
       "    <tr>\n",
       "      <th>0</th>\n",
       "      <td>BUKIT BATOK</td>\n",
       "      <td>3 ROOM</td>\n",
       "      <td>07 TO 09</td>\n",
       "      <td>NEW GENERATION</td>\n",
       "      <td>PAP</td>\n",
       "      <td>-</td>\n",
       "    </tr>\n",
       "    <tr>\n",
       "      <th>1</th>\n",
       "      <td>JURONG EAST</td>\n",
       "      <td>3 ROOM</td>\n",
       "      <td>13 TO 15</td>\n",
       "      <td>IMPROVED</td>\n",
       "      <td>PAP</td>\n",
       "      <td>-</td>\n",
       "    </tr>\n",
       "    <tr>\n",
       "      <th>2</th>\n",
       "      <td>HOUGANG</td>\n",
       "      <td>4 ROOM</td>\n",
       "      <td>07 TO 09</td>\n",
       "      <td>SIMPLIFIED</td>\n",
       "      <td>WP</td>\n",
       "      <td>-</td>\n",
       "    </tr>\n",
       "    <tr>\n",
       "      <th>3</th>\n",
       "      <td>SENGKANG</td>\n",
       "      <td>3 ROOM</td>\n",
       "      <td>13 TO 15</td>\n",
       "      <td>MODEL A</td>\n",
       "      <td>PAP</td>\n",
       "      <td>C</td>\n",
       "    </tr>\n",
       "    <tr>\n",
       "      <th>4</th>\n",
       "      <td>KALLANG/WHAMPOA</td>\n",
       "      <td>4 ROOM</td>\n",
       "      <td>16 TO 18</td>\n",
       "      <td>MODEL A</td>\n",
       "      <td>PAP</td>\n",
       "      <td>-</td>\n",
       "    </tr>\n",
       "  </tbody>\n",
       "</table>\n",
       "</div>"
      ],
      "text/plain": [
       "              town flat_type storey_range      flat_model political_parties  \\\n",
       "0      BUKIT BATOK    3 ROOM     07 TO 09  NEW GENERATION               PAP   \n",
       "1      JURONG EAST    3 ROOM     13 TO 15        IMPROVED               PAP   \n",
       "2          HOUGANG    4 ROOM     07 TO 09      SIMPLIFIED                WP   \n",
       "3         SENGKANG    3 ROOM     13 TO 15         MODEL A               PAP   \n",
       "4  KALLANG/WHAMPOA    4 ROOM     16 TO 18         MODEL A               PAP   \n",
       "\n",
       "  blk_alpha  \n",
       "0         -  \n",
       "1         -  \n",
       "2         -  \n",
       "3         C  \n",
       "4         -  "
      ]
     },
     "execution_count": 17,
     "metadata": {},
     "output_type": "execute_result"
    }
   ],
   "source": [
    "cat_X_test.head()"
   ]
  },
  {
   "cell_type": "code",
   "execution_count": 18,
   "id": "97ff01d7-d093-4f97-ad4a-f242550561a0",
   "metadata": {},
   "outputs": [
    {
     "data": {
      "text/html": [
       "<div>\n",
       "<style scoped>\n",
       "    .dataframe tbody tr th:only-of-type {\n",
       "        vertical-align: middle;\n",
       "    }\n",
       "\n",
       "    .dataframe tbody tr th {\n",
       "        vertical-align: top;\n",
       "    }\n",
       "\n",
       "    .dataframe thead th {\n",
       "        text-align: right;\n",
       "    }\n",
       "</style>\n",
       "<table border=\"1\" class=\"dataframe\">\n",
       "  <thead>\n",
       "    <tr style=\"text-align: right;\">\n",
       "      <th></th>\n",
       "      <th>floor_area_sqm</th>\n",
       "      <th>remaining_lease_days</th>\n",
       "      <th>blk_num</th>\n",
       "      <th>transaction_year</th>\n",
       "      <th>transaction_month</th>\n",
       "      <th>lease_year</th>\n",
       "    </tr>\n",
       "  </thead>\n",
       "  <tbody>\n",
       "    <tr>\n",
       "      <th>0</th>\n",
       "      <td>68.0</td>\n",
       "      <td>31991</td>\n",
       "      <td>364</td>\n",
       "      <td>1998</td>\n",
       "      <td>6</td>\n",
       "      <td>1987</td>\n",
       "    </tr>\n",
       "    <tr>\n",
       "      <th>1</th>\n",
       "      <td>77.0</td>\n",
       "      <td>21884</td>\n",
       "      <td>33</td>\n",
       "      <td>2016</td>\n",
       "      <td>2</td>\n",
       "      <td>1977</td>\n",
       "    </tr>\n",
       "    <tr>\n",
       "      <th>2</th>\n",
       "      <td>84.0</td>\n",
       "      <td>28947</td>\n",
       "      <td>636</td>\n",
       "      <td>2006</td>\n",
       "      <td>10</td>\n",
       "      <td>1987</td>\n",
       "    </tr>\n",
       "    <tr>\n",
       "      <th>3</th>\n",
       "      <td>67.0</td>\n",
       "      <td>34089</td>\n",
       "      <td>443</td>\n",
       "      <td>2017</td>\n",
       "      <td>9</td>\n",
       "      <td>2012</td>\n",
       "    </tr>\n",
       "    <tr>\n",
       "      <th>4</th>\n",
       "      <td>90.0</td>\n",
       "      <td>34028</td>\n",
       "      <td>13</td>\n",
       "      <td>2009</td>\n",
       "      <td>11</td>\n",
       "      <td>2004</td>\n",
       "    </tr>\n",
       "  </tbody>\n",
       "</table>\n",
       "</div>"
      ],
      "text/plain": [
       "   floor_area_sqm  remaining_lease_days  blk_num  transaction_year  \\\n",
       "0            68.0                 31991      364              1998   \n",
       "1            77.0                 21884       33              2016   \n",
       "2            84.0                 28947      636              2006   \n",
       "3            67.0                 34089      443              2017   \n",
       "4            90.0                 34028       13              2009   \n",
       "\n",
       "   transaction_month  lease_year  \n",
       "0                  6        1987  \n",
       "1                  2        1977  \n",
       "2                 10        1987  \n",
       "3                  9        2012  \n",
       "4                 11        2004  "
      ]
     },
     "execution_count": 18,
     "metadata": {},
     "output_type": "execute_result"
    }
   ],
   "source": [
    "num_X_test.head()"
   ]
  },
  {
   "cell_type": "markdown",
   "id": "1d488b9d-f9f1-4af1-b5c7-8c09784a6cd5",
   "metadata": {},
   "source": [
    "As the dates are in continuous format, it would be best to not perform one hot encoding.\n",
    "Strategy: \n",
    "1. add date columns to X_train\n",
    "2. drop date columns from cat_X_train"
   ]
  },
  {
   "cell_type": "code",
   "execution_count": 19,
   "id": "dd7e1f1d-eaa5-49b8-846d-e41a3d6dbd1a",
   "metadata": {},
   "outputs": [
    {
     "name": "stdout",
     "output_type": "stream",
     "text": [
      "(224751, 6)\n",
      "(224751, 6)\n"
     ]
    }
   ],
   "source": [
    "print(cat_X_test.shape)\n",
    "print(num_X_test.shape)"
   ]
  },
  {
   "cell_type": "markdown",
   "id": "63fde465-195a-450b-96e0-f2614de4ce91",
   "metadata": {},
   "source": [
    "Remarks: columns have been split into categorical and numerical dataframes"
   ]
  },
  {
   "cell_type": "markdown",
   "id": "9dfdb950-4f05-434f-8109-aa86ccc9c90e",
   "metadata": {
    "tags": []
   },
   "source": [
    "## OneHotEncoder for cat_X_train & cat_X_test"
   ]
  },
  {
   "cell_type": "code",
   "execution_count": 20,
   "id": "836b535e-663a-463d-9f26-2a7dd43ab820",
   "metadata": {},
   "outputs": [
    {
     "name": "stdout",
     "output_type": "stream",
     "text": [
      "(674251, 6) (224751, 6)\n"
     ]
    }
   ],
   "source": [
    "print(cat_X_train.shape , cat_X_test.shape)"
   ]
  },
  {
   "cell_type": "code",
   "execution_count": 21,
   "id": "4c6ed7c6-5919-4f00-910b-39763de6b762",
   "metadata": {},
   "outputs": [],
   "source": [
    "encoder = OneHotEncoder()"
   ]
  },
  {
   "cell_type": "code",
   "execution_count": 22,
   "id": "5c159f49-87f8-47bd-9fa4-35f0b4118d7b",
   "metadata": {},
   "outputs": [],
   "source": [
    "X_train_encoded = encoder.fit_transform(cat_X_train)\n",
    "X_test_encoded = encoder.transform(cat_X_test)"
   ]
  },
  {
   "cell_type": "markdown",
   "id": "93b3cf10-db68-4c35-a7c1-a1217e90722a",
   "metadata": {},
   "source": [
    "Remarks: OneHotEncoder have been created."
   ]
  },
  {
   "cell_type": "markdown",
   "id": "c26a3ced-b99a-4d48-80d4-4604db5d85c1",
   "metadata": {
    "tags": []
   },
   "source": [
    "## Combine num_X and cat_X into X"
   ]
  },
  {
   "cell_type": "code",
   "execution_count": 23,
   "id": "eab376ae-f650-4123-9910-70a20e623842",
   "metadata": {},
   "outputs": [],
   "source": [
    "X_train_encoded_df = pd.DataFrame.sparse.from_spmatrix(X_train_encoded)\n",
    "X_test_encoded_df = pd.DataFrame.sparse.from_spmatrix(X_test_encoded)"
   ]
  },
  {
   "cell_type": "code",
   "execution_count": 24,
   "id": "024ee8bb-5d36-444a-b982-9b459361f33a",
   "metadata": {},
   "outputs": [
    {
     "name": "stdout",
     "output_type": "stream",
     "text": [
      "(674251, 93) (224751, 93)\n"
     ]
    }
   ],
   "source": [
    "print(X_train_encoded_df.shape, X_test_encoded_df.shape)"
   ]
  },
  {
   "cell_type": "code",
   "execution_count": 25,
   "id": "d59cff85-213a-4da0-b93c-c0ea090599a8",
   "metadata": {
    "tags": []
   },
   "outputs": [],
   "source": [
    "X_train = pd.concat([num_X_train, X_train_encoded_df], axis = 1)\n",
    "X_test = pd.concat([num_X_test, X_test_encoded_df], axis = 1)"
   ]
  },
  {
   "cell_type": "code",
   "execution_count": 26,
   "id": "913f6128-e434-4b50-bec9-2e68b77ebdc0",
   "metadata": {},
   "outputs": [
    {
     "name": "stdout",
     "output_type": "stream",
     "text": [
      "(674251, 99)\n",
      "(224751, 99)\n"
     ]
    }
   ],
   "source": [
    "print(X_train.shape)\n",
    "print(X_test.shape)"
   ]
  },
  {
   "cell_type": "markdown",
   "id": "2ae7ceb1-b0d3-44c3-abcd-d2a25f33f6cb",
   "metadata": {},
   "source": [
    "Remarks: Columns has been concat."
   ]
  },
  {
   "cell_type": "markdown",
   "id": "6215dad4-ec03-48b9-8b98-1bc36448ea92",
   "metadata": {
    "tags": []
   },
   "source": [
    "# Perform Scaler"
   ]
  },
  {
   "cell_type": "code",
   "execution_count": 27,
   "id": "0e70ca63-bfd7-4046-81a6-f7b91971416e",
   "metadata": {},
   "outputs": [],
   "source": [
    "X_train.columns = X_train.columns.astype(str)\n",
    "X_test.columns = X_test.columns.astype(str)"
   ]
  },
  {
   "cell_type": "code",
   "execution_count": 28,
   "id": "1b2908f8-0fd9-4c43-bfe1-2ad6639f451a",
   "metadata": {},
   "outputs": [
    {
     "name": "stderr",
     "output_type": "stream",
     "text": [
      "C:\\Users\\johnk\\mambaforge\\lib\\site-packages\\sklearn\\utils\\validation.py:768: UserWarning: pandas.DataFrame with sparse columns found.It will be converted to a dense numpy array.\n",
      "  warnings.warn(\n",
      "C:\\Users\\johnk\\mambaforge\\lib\\site-packages\\sklearn\\utils\\validation.py:768: UserWarning: pandas.DataFrame with sparse columns found.It will be converted to a dense numpy array.\n",
      "  warnings.warn(\n",
      "C:\\Users\\johnk\\mambaforge\\lib\\site-packages\\sklearn\\utils\\validation.py:768: UserWarning: pandas.DataFrame with sparse columns found.It will be converted to a dense numpy array.\n",
      "  warnings.warn(\n"
     ]
    }
   ],
   "source": [
    "sc = StandardScaler()\n",
    "Z_train = sc.fit_transform(X_train)\n",
    "Z_test = sc.transform(X_test)"
   ]
  },
  {
   "cell_type": "markdown",
   "id": "337f6538-b69f-401b-a111-34e8926d0962",
   "metadata": {
    "tags": []
   },
   "source": [
    "# Linear Regression Model"
   ]
  },
  {
   "cell_type": "code",
   "execution_count": 29,
   "id": "6fd6ae59-f0eb-4c9b-866d-ce99dbe4b5bd",
   "metadata": {},
   "outputs": [
    {
     "name": "stdout",
     "output_type": "stream",
     "text": [
      "(674251, 99)\n",
      "(674251,)\n"
     ]
    }
   ],
   "source": [
    "print(Z_train.shape)\n",
    "print(y_train.shape)"
   ]
  },
  {
   "cell_type": "code",
   "execution_count": 30,
   "id": "0b0ed642-1d6c-46ac-a0f9-53684203bc46",
   "metadata": {},
   "outputs": [
    {
     "name": "stdout",
     "output_type": "stream",
     "text": [
      "(224751, 99)\n",
      "(224751,)\n"
     ]
    }
   ],
   "source": [
    "print(Z_test.shape)\n",
    "print(y_test.shape)"
   ]
  },
  {
   "cell_type": "code",
   "execution_count": 31,
   "id": "71e31282-d4c2-41c4-a349-198ac4d96b06",
   "metadata": {},
   "outputs": [],
   "source": [
    "lr = LinearRegression()"
   ]
  },
  {
   "cell_type": "code",
   "execution_count": 32,
   "id": "62e3e43f-3493-4418-be66-2f367633ca99",
   "metadata": {},
   "outputs": [
    {
     "data": {
      "text/html": [
       "<style>#sk-container-id-1 {color: black;background-color: white;}#sk-container-id-1 pre{padding: 0;}#sk-container-id-1 div.sk-toggleable {background-color: white;}#sk-container-id-1 label.sk-toggleable__label {cursor: pointer;display: block;width: 100%;margin-bottom: 0;padding: 0.3em;box-sizing: border-box;text-align: center;}#sk-container-id-1 label.sk-toggleable__label-arrow:before {content: \"▸\";float: left;margin-right: 0.25em;color: #696969;}#sk-container-id-1 label.sk-toggleable__label-arrow:hover:before {color: black;}#sk-container-id-1 div.sk-estimator:hover label.sk-toggleable__label-arrow:before {color: black;}#sk-container-id-1 div.sk-toggleable__content {max-height: 0;max-width: 0;overflow: hidden;text-align: left;background-color: #f0f8ff;}#sk-container-id-1 div.sk-toggleable__content pre {margin: 0.2em;color: black;border-radius: 0.25em;background-color: #f0f8ff;}#sk-container-id-1 input.sk-toggleable__control:checked~div.sk-toggleable__content {max-height: 200px;max-width: 100%;overflow: auto;}#sk-container-id-1 input.sk-toggleable__control:checked~label.sk-toggleable__label-arrow:before {content: \"▾\";}#sk-container-id-1 div.sk-estimator input.sk-toggleable__control:checked~label.sk-toggleable__label {background-color: #d4ebff;}#sk-container-id-1 div.sk-label input.sk-toggleable__control:checked~label.sk-toggleable__label {background-color: #d4ebff;}#sk-container-id-1 input.sk-hidden--visually {border: 0;clip: rect(1px 1px 1px 1px);clip: rect(1px, 1px, 1px, 1px);height: 1px;margin: -1px;overflow: hidden;padding: 0;position: absolute;width: 1px;}#sk-container-id-1 div.sk-estimator {font-family: monospace;background-color: #f0f8ff;border: 1px dotted black;border-radius: 0.25em;box-sizing: border-box;margin-bottom: 0.5em;}#sk-container-id-1 div.sk-estimator:hover {background-color: #d4ebff;}#sk-container-id-1 div.sk-parallel-item::after {content: \"\";width: 100%;border-bottom: 1px solid gray;flex-grow: 1;}#sk-container-id-1 div.sk-label:hover label.sk-toggleable__label {background-color: #d4ebff;}#sk-container-id-1 div.sk-serial::before {content: \"\";position: absolute;border-left: 1px solid gray;box-sizing: border-box;top: 0;bottom: 0;left: 50%;z-index: 0;}#sk-container-id-1 div.sk-serial {display: flex;flex-direction: column;align-items: center;background-color: white;padding-right: 0.2em;padding-left: 0.2em;position: relative;}#sk-container-id-1 div.sk-item {position: relative;z-index: 1;}#sk-container-id-1 div.sk-parallel {display: flex;align-items: stretch;justify-content: center;background-color: white;position: relative;}#sk-container-id-1 div.sk-item::before, #sk-container-id-1 div.sk-parallel-item::before {content: \"\";position: absolute;border-left: 1px solid gray;box-sizing: border-box;top: 0;bottom: 0;left: 50%;z-index: -1;}#sk-container-id-1 div.sk-parallel-item {display: flex;flex-direction: column;z-index: 1;position: relative;background-color: white;}#sk-container-id-1 div.sk-parallel-item:first-child::after {align-self: flex-end;width: 50%;}#sk-container-id-1 div.sk-parallel-item:last-child::after {align-self: flex-start;width: 50%;}#sk-container-id-1 div.sk-parallel-item:only-child::after {width: 0;}#sk-container-id-1 div.sk-dashed-wrapped {border: 1px dashed gray;margin: 0 0.4em 0.5em 0.4em;box-sizing: border-box;padding-bottom: 0.4em;background-color: white;}#sk-container-id-1 div.sk-label label {font-family: monospace;font-weight: bold;display: inline-block;line-height: 1.2em;}#sk-container-id-1 div.sk-label-container {text-align: center;}#sk-container-id-1 div.sk-container {/* jupyter's `normalize.less` sets `[hidden] { display: none; }` but bootstrap.min.css set `[hidden] { display: none !important; }` so we also need the `!important` here to be able to override the default hidden behavior on the sphinx rendered scikit-learn.org. See: https://github.com/scikit-learn/scikit-learn/issues/21755 */display: inline-block !important;position: relative;}#sk-container-id-1 div.sk-text-repr-fallback {display: none;}</style><div id=\"sk-container-id-1\" class=\"sk-top-container\"><div class=\"sk-text-repr-fallback\"><pre>LinearRegression()</pre><b>In a Jupyter environment, please rerun this cell to show the HTML representation or trust the notebook. <br />On GitHub, the HTML representation is unable to render, please try loading this page with nbviewer.org.</b></div><div class=\"sk-container\" hidden><div class=\"sk-item\"><div class=\"sk-estimator sk-toggleable\"><input class=\"sk-toggleable__control sk-hidden--visually\" id=\"sk-estimator-id-1\" type=\"checkbox\" checked><label for=\"sk-estimator-id-1\" class=\"sk-toggleable__label sk-toggleable__label-arrow\">LinearRegression</label><div class=\"sk-toggleable__content\"><pre>LinearRegression()</pre></div></div></div></div></div>"
      ],
      "text/plain": [
       "LinearRegression()"
      ]
     },
     "execution_count": 32,
     "metadata": {},
     "output_type": "execute_result"
    }
   ],
   "source": [
    "lr.fit(Z_train, y_train)"
   ]
  },
  {
   "cell_type": "code",
   "execution_count": 33,
   "id": "4fc5ac02-7c47-4b96-84ab-bf2d9813ce82",
   "metadata": {},
   "outputs": [
    {
     "data": {
      "text/plain": [
       "0.8367793427487782"
      ]
     },
     "execution_count": 33,
     "metadata": {},
     "output_type": "execute_result"
    }
   ],
   "source": [
    "lr.score(Z_train,y_train)"
   ]
  },
  {
   "cell_type": "code",
   "execution_count": 34,
   "id": "7c8b9679-ab18-4709-981b-397ae9c361ce",
   "metadata": {},
   "outputs": [
    {
     "data": {
      "text/plain": [
       "0.8368822121211058"
      ]
     },
     "execution_count": 34,
     "metadata": {},
     "output_type": "execute_result"
    }
   ],
   "source": [
    "lr.score(Z_test, y_test)"
   ]
  },
  {
   "cell_type": "code",
   "execution_count": 35,
   "id": "a3befe6d-879c-4508-b856-d9abb8207003",
   "metadata": {},
   "outputs": [
    {
     "data": {
      "text/plain": [
       "-6.057579281781869e+22"
      ]
     },
     "execution_count": 35,
     "metadata": {},
     "output_type": "execute_result"
    }
   ],
   "source": [
    "cross_val_score(lr, Z_train, y_train, cv = 5).mean()"
   ]
  },
  {
   "cell_type": "code",
   "execution_count": 36,
   "id": "538ce6a3-ee17-44f6-9d11-196b5c20bba1",
   "metadata": {},
   "outputs": [],
   "source": [
    "predictions = lr.predict(Z_test)"
   ]
  },
  {
   "cell_type": "code",
   "execution_count": 37,
   "id": "23002b83-93a7-4d07-bee1-acba088423bb",
   "metadata": {},
   "outputs": [
    {
     "data": {
      "text/plain": [
       "65976.83226271995"
      ]
     },
     "execution_count": 37,
     "metadata": {},
     "output_type": "execute_result"
    }
   ],
   "source": [
    "np.sqrt(metrics.mean_squared_error(y_test, predictions))"
   ]
  },
  {
   "cell_type": "code",
   "execution_count": 38,
   "id": "1b398356-8d28-4f8e-a0f1-ce381334a4d3",
   "metadata": {},
   "outputs": [
    {
     "name": "stdout",
     "output_type": "stream",
     "text": [
      "Z_train shape is: (674251, 99)\n",
      "y_train shape is: (674251,)\n",
      "Z_test shape is: (224751, 99)\n",
      "y_test shape is: (224751,)\n"
     ]
    }
   ],
   "source": [
    "print(f'Z_train shape is: {Z_train.shape}')\n",
    "print(f'y_train shape is: {y_train.shape}')\n",
    "print(f'Z_test shape is: {Z_test.shape}')\n",
    "print(f'y_test shape is: {y_test.shape}')"
   ]
  },
  {
   "cell_type": "code",
   "execution_count": 39,
   "id": "5512702f-ffd0-4928-8e11-ea62193a89b6",
   "metadata": {
    "scrolled": true,
    "tags": []
   },
   "outputs": [
    {
     "data": {
      "text/html": [
       "<style>#sk-container-id-2 {color: black;background-color: white;}#sk-container-id-2 pre{padding: 0;}#sk-container-id-2 div.sk-toggleable {background-color: white;}#sk-container-id-2 label.sk-toggleable__label {cursor: pointer;display: block;width: 100%;margin-bottom: 0;padding: 0.3em;box-sizing: border-box;text-align: center;}#sk-container-id-2 label.sk-toggleable__label-arrow:before {content: \"▸\";float: left;margin-right: 0.25em;color: #696969;}#sk-container-id-2 label.sk-toggleable__label-arrow:hover:before {color: black;}#sk-container-id-2 div.sk-estimator:hover label.sk-toggleable__label-arrow:before {color: black;}#sk-container-id-2 div.sk-toggleable__content {max-height: 0;max-width: 0;overflow: hidden;text-align: left;background-color: #f0f8ff;}#sk-container-id-2 div.sk-toggleable__content pre {margin: 0.2em;color: black;border-radius: 0.25em;background-color: #f0f8ff;}#sk-container-id-2 input.sk-toggleable__control:checked~div.sk-toggleable__content {max-height: 200px;max-width: 100%;overflow: auto;}#sk-container-id-2 input.sk-toggleable__control:checked~label.sk-toggleable__label-arrow:before {content: \"▾\";}#sk-container-id-2 div.sk-estimator input.sk-toggleable__control:checked~label.sk-toggleable__label {background-color: #d4ebff;}#sk-container-id-2 div.sk-label input.sk-toggleable__control:checked~label.sk-toggleable__label {background-color: #d4ebff;}#sk-container-id-2 input.sk-hidden--visually {border: 0;clip: rect(1px 1px 1px 1px);clip: rect(1px, 1px, 1px, 1px);height: 1px;margin: -1px;overflow: hidden;padding: 0;position: absolute;width: 1px;}#sk-container-id-2 div.sk-estimator {font-family: monospace;background-color: #f0f8ff;border: 1px dotted black;border-radius: 0.25em;box-sizing: border-box;margin-bottom: 0.5em;}#sk-container-id-2 div.sk-estimator:hover {background-color: #d4ebff;}#sk-container-id-2 div.sk-parallel-item::after {content: \"\";width: 100%;border-bottom: 1px solid gray;flex-grow: 1;}#sk-container-id-2 div.sk-label:hover label.sk-toggleable__label {background-color: #d4ebff;}#sk-container-id-2 div.sk-serial::before {content: \"\";position: absolute;border-left: 1px solid gray;box-sizing: border-box;top: 0;bottom: 0;left: 50%;z-index: 0;}#sk-container-id-2 div.sk-serial {display: flex;flex-direction: column;align-items: center;background-color: white;padding-right: 0.2em;padding-left: 0.2em;position: relative;}#sk-container-id-2 div.sk-item {position: relative;z-index: 1;}#sk-container-id-2 div.sk-parallel {display: flex;align-items: stretch;justify-content: center;background-color: white;position: relative;}#sk-container-id-2 div.sk-item::before, #sk-container-id-2 div.sk-parallel-item::before {content: \"\";position: absolute;border-left: 1px solid gray;box-sizing: border-box;top: 0;bottom: 0;left: 50%;z-index: -1;}#sk-container-id-2 div.sk-parallel-item {display: flex;flex-direction: column;z-index: 1;position: relative;background-color: white;}#sk-container-id-2 div.sk-parallel-item:first-child::after {align-self: flex-end;width: 50%;}#sk-container-id-2 div.sk-parallel-item:last-child::after {align-self: flex-start;width: 50%;}#sk-container-id-2 div.sk-parallel-item:only-child::after {width: 0;}#sk-container-id-2 div.sk-dashed-wrapped {border: 1px dashed gray;margin: 0 0.4em 0.5em 0.4em;box-sizing: border-box;padding-bottom: 0.4em;background-color: white;}#sk-container-id-2 div.sk-label label {font-family: monospace;font-weight: bold;display: inline-block;line-height: 1.2em;}#sk-container-id-2 div.sk-label-container {text-align: center;}#sk-container-id-2 div.sk-container {/* jupyter's `normalize.less` sets `[hidden] { display: none; }` but bootstrap.min.css set `[hidden] { display: none !important; }` so we also need the `!important` here to be able to override the default hidden behavior on the sphinx rendered scikit-learn.org. See: https://github.com/scikit-learn/scikit-learn/issues/21755 */display: inline-block !important;position: relative;}#sk-container-id-2 div.sk-text-repr-fallback {display: none;}</style><div id=\"sk-container-id-2\" class=\"sk-top-container\"><div class=\"sk-text-repr-fallback\"><pre>RidgeCV()</pre><b>In a Jupyter environment, please rerun this cell to show the HTML representation or trust the notebook. <br />On GitHub, the HTML representation is unable to render, please try loading this page with nbviewer.org.</b></div><div class=\"sk-container\" hidden><div class=\"sk-item\"><div class=\"sk-estimator sk-toggleable\"><input class=\"sk-toggleable__control sk-hidden--visually\" id=\"sk-estimator-id-2\" type=\"checkbox\" checked><label for=\"sk-estimator-id-2\" class=\"sk-toggleable__label sk-toggleable__label-arrow\">RidgeCV</label><div class=\"sk-toggleable__content\"><pre>RidgeCV()</pre></div></div></div></div></div>"
      ],
      "text/plain": [
       "RidgeCV()"
      ]
     },
     "execution_count": 39,
     "metadata": {},
     "output_type": "execute_result"
    }
   ],
   "source": [
    "ridgeCV_model = RidgeCV()\n",
    "ridgeCV_model.fit(Z_train, y_train)"
   ]
  },
  {
   "cell_type": "code",
   "execution_count": 40,
   "id": "27fe78f5-a394-4835-82c3-46b6cb54470c",
   "metadata": {},
   "outputs": [
    {
     "data": {
      "text/plain": [
       "0.8364671290103121"
      ]
     },
     "execution_count": 40,
     "metadata": {},
     "output_type": "execute_result"
    }
   ],
   "source": [
    "ridgeCV_model.score(Z_train, y_train)"
   ]
  },
  {
   "cell_type": "code",
   "execution_count": 41,
   "id": "7c0c41ab-784c-47e6-bbce-9dcdd3839505",
   "metadata": {},
   "outputs": [
    {
     "data": {
      "text/plain": [
       "0.8365889161761378"
      ]
     },
     "execution_count": 41,
     "metadata": {},
     "output_type": "execute_result"
    }
   ],
   "source": [
    "ridgeCV_model.score(Z_test, y_test)"
   ]
  },
  {
   "cell_type": "code",
   "execution_count": 42,
   "id": "6910774d-9cf8-471d-9c54-14eaed76b121",
   "metadata": {},
   "outputs": [],
   "source": [
    "predictions = ridgeCV_model.predict(Z_test)"
   ]
  },
  {
   "cell_type": "code",
   "execution_count": 43,
   "id": "249b5b44-a62f-4116-a00a-132f995dbc92",
   "metadata": {},
   "outputs": [
    {
     "data": {
      "text/plain": [
       "66036.12085095294"
      ]
     },
     "execution_count": 43,
     "metadata": {},
     "output_type": "execute_result"
    }
   ],
   "source": [
    "np.sqrt(metrics.mean_squared_error(y_test, predictions))"
   ]
  },
  {
   "cell_type": "code",
   "execution_count": 44,
   "id": "ba0fdf67-6afc-4133-be19-eeb8db41f8c4",
   "metadata": {
    "scrolled": true,
    "tags": []
   },
   "outputs": [
    {
     "data": {
      "text/plain": [
       "array([ 4.84783785e+04, -1.41511538e+06, -8.60911990e+03, -1.11814930e+06,\n",
       "       -3.47738618e+04,  1.42945574e+06,  7.71980727e+03,  5.45226770e+03,\n",
       "        1.17505804e+04, -3.48304294e+03,  1.47749817e+04, -1.01983403e+04,\n",
       "        5.49193686e+03,  6.72525996e+03, -1.13077007e+04,  8.37524502e+03,\n",
       "        6.41548395e+03, -3.15151085e+03, -2.85189486e+03, -1.01004069e+04,\n",
       "        8.26293389e+03, -1.32838116e+02,  1.02401848e+04, -1.87152237e+03,\n",
       "       -7.43909127e+03,  1.36878802e+04, -1.11702153e+04, -1.26240227e+04,\n",
       "        2.94284135e+03,  3.68246132e+03,  9.77785232e+03, -1.71950197e+04,\n",
       "       -4.86106439e+03, -3.21332182e+03, -9.32665887e+03, -2.08930150e+04,\n",
       "       -3.14055452e+03,  1.80962873e+04,  1.91241436e+04,  4.21499215e+02,\n",
       "       -6.12613340e+03,  3.23338233e+03, -3.51387027e+03,  3.89258952e+03,\n",
       "       -5.46417468e+02,  9.13969851e+02,  3.25741618e+03,  2.23456452e+03,\n",
       "        4.23723981e+03,  2.15254832e+03,  5.46580716e+03,  1.85503617e+03,\n",
       "        5.77856305e+03,  5.43036122e+03,  1.32844120e+03,  5.71438607e+03,\n",
       "        4.24979130e+03,  4.02740089e+02,  4.54151611e+03,  7.33181456e+02,\n",
       "        4.52305586e+03,  3.53715130e+03,  1.98934548e+03,  1.62898149e+03,\n",
       "        9.52241290e+02, -2.10690163e+02,  1.44164295e+02,  4.10688303e+03,\n",
       "        8.12736702e+03, -5.02097052e+03,  5.51325858e+02,  5.96939601e+03,\n",
       "        1.03195974e+03,  1.87739173e+03, -1.53027638e+03,  2.75802924e+03,\n",
       "        3.63622982e+01,  8.96787974e+02,  2.17887128e+03,  6.54093625e+02,\n",
       "       -2.48706531e+03, -2.62317214e+03,  5.97324217e+03,  5.22917084e+03,\n",
       "        4.28033119e+03, -9.25248144e+02,  9.25248144e+02, -9.23197133e+02,\n",
       "        9.90390200e+02,  6.82708863e+02,  3.98076443e+02, -1.17547557e+02,\n",
       "       -4.39441680e+02, -3.11447479e+02, -6.28275439e+02, -2.05260802e+02,\n",
       "       -3.37761196e+02, -2.02232008e+02, -3.36302059e+02])"
      ]
     },
     "execution_count": 44,
     "metadata": {},
     "output_type": "execute_result"
    }
   ],
   "source": [
    "ridgeCV_coef = ridgeCV_model.coef_\n",
    "ridgeCV_coef"
   ]
  },
  {
   "cell_type": "markdown",
   "id": "a7f84307-e65c-46c6-bb7a-fb69a895b72c",
   "metadata": {},
   "source": [
    "Remarks: \n",
    "\n",
    "Train and test perfomance is better as compared to linear regression. As the test score and cross val scores are similar, it can be conclude that this model is representative for new future data. RMSE score is good too as there is a 4.5k +- range when predicting resale prices. \n",
    "\n",
    "Strategy: To explore another regularization technique such as Lasso CV to compare overall performance."
   ]
  },
  {
   "cell_type": "code",
   "execution_count": 45,
   "id": "0c64d869-506e-4a33-b4e7-94425782f2db",
   "metadata": {},
   "outputs": [
    {
     "data": {
      "text/html": [
       "<style>#sk-container-id-3 {color: black;background-color: white;}#sk-container-id-3 pre{padding: 0;}#sk-container-id-3 div.sk-toggleable {background-color: white;}#sk-container-id-3 label.sk-toggleable__label {cursor: pointer;display: block;width: 100%;margin-bottom: 0;padding: 0.3em;box-sizing: border-box;text-align: center;}#sk-container-id-3 label.sk-toggleable__label-arrow:before {content: \"▸\";float: left;margin-right: 0.25em;color: #696969;}#sk-container-id-3 label.sk-toggleable__label-arrow:hover:before {color: black;}#sk-container-id-3 div.sk-estimator:hover label.sk-toggleable__label-arrow:before {color: black;}#sk-container-id-3 div.sk-toggleable__content {max-height: 0;max-width: 0;overflow: hidden;text-align: left;background-color: #f0f8ff;}#sk-container-id-3 div.sk-toggleable__content pre {margin: 0.2em;color: black;border-radius: 0.25em;background-color: #f0f8ff;}#sk-container-id-3 input.sk-toggleable__control:checked~div.sk-toggleable__content {max-height: 200px;max-width: 100%;overflow: auto;}#sk-container-id-3 input.sk-toggleable__control:checked~label.sk-toggleable__label-arrow:before {content: \"▾\";}#sk-container-id-3 div.sk-estimator input.sk-toggleable__control:checked~label.sk-toggleable__label {background-color: #d4ebff;}#sk-container-id-3 div.sk-label input.sk-toggleable__control:checked~label.sk-toggleable__label {background-color: #d4ebff;}#sk-container-id-3 input.sk-hidden--visually {border: 0;clip: rect(1px 1px 1px 1px);clip: rect(1px, 1px, 1px, 1px);height: 1px;margin: -1px;overflow: hidden;padding: 0;position: absolute;width: 1px;}#sk-container-id-3 div.sk-estimator {font-family: monospace;background-color: #f0f8ff;border: 1px dotted black;border-radius: 0.25em;box-sizing: border-box;margin-bottom: 0.5em;}#sk-container-id-3 div.sk-estimator:hover {background-color: #d4ebff;}#sk-container-id-3 div.sk-parallel-item::after {content: \"\";width: 100%;border-bottom: 1px solid gray;flex-grow: 1;}#sk-container-id-3 div.sk-label:hover label.sk-toggleable__label {background-color: #d4ebff;}#sk-container-id-3 div.sk-serial::before {content: \"\";position: absolute;border-left: 1px solid gray;box-sizing: border-box;top: 0;bottom: 0;left: 50%;z-index: 0;}#sk-container-id-3 div.sk-serial {display: flex;flex-direction: column;align-items: center;background-color: white;padding-right: 0.2em;padding-left: 0.2em;position: relative;}#sk-container-id-3 div.sk-item {position: relative;z-index: 1;}#sk-container-id-3 div.sk-parallel {display: flex;align-items: stretch;justify-content: center;background-color: white;position: relative;}#sk-container-id-3 div.sk-item::before, #sk-container-id-3 div.sk-parallel-item::before {content: \"\";position: absolute;border-left: 1px solid gray;box-sizing: border-box;top: 0;bottom: 0;left: 50%;z-index: -1;}#sk-container-id-3 div.sk-parallel-item {display: flex;flex-direction: column;z-index: 1;position: relative;background-color: white;}#sk-container-id-3 div.sk-parallel-item:first-child::after {align-self: flex-end;width: 50%;}#sk-container-id-3 div.sk-parallel-item:last-child::after {align-self: flex-start;width: 50%;}#sk-container-id-3 div.sk-parallel-item:only-child::after {width: 0;}#sk-container-id-3 div.sk-dashed-wrapped {border: 1px dashed gray;margin: 0 0.4em 0.5em 0.4em;box-sizing: border-box;padding-bottom: 0.4em;background-color: white;}#sk-container-id-3 div.sk-label label {font-family: monospace;font-weight: bold;display: inline-block;line-height: 1.2em;}#sk-container-id-3 div.sk-label-container {text-align: center;}#sk-container-id-3 div.sk-container {/* jupyter's `normalize.less` sets `[hidden] { display: none; }` but bootstrap.min.css set `[hidden] { display: none !important; }` so we also need the `!important` here to be able to override the default hidden behavior on the sphinx rendered scikit-learn.org. See: https://github.com/scikit-learn/scikit-learn/issues/21755 */display: inline-block !important;position: relative;}#sk-container-id-3 div.sk-text-repr-fallback {display: none;}</style><div id=\"sk-container-id-3\" class=\"sk-top-container\"><div class=\"sk-text-repr-fallback\"><pre>LassoCV()</pre><b>In a Jupyter environment, please rerun this cell to show the HTML representation or trust the notebook. <br />On GitHub, the HTML representation is unable to render, please try loading this page with nbviewer.org.</b></div><div class=\"sk-container\" hidden><div class=\"sk-item\"><div class=\"sk-estimator sk-toggleable\"><input class=\"sk-toggleable__control sk-hidden--visually\" id=\"sk-estimator-id-3\" type=\"checkbox\" checked><label for=\"sk-estimator-id-3\" class=\"sk-toggleable__label sk-toggleable__label-arrow\">LassoCV</label><div class=\"sk-toggleable__content\"><pre>LassoCV()</pre></div></div></div></div></div>"
      ],
      "text/plain": [
       "LassoCV()"
      ]
     },
     "execution_count": 45,
     "metadata": {},
     "output_type": "execute_result"
    }
   ],
   "source": [
    "lassoCV_model = LassoCV()\n",
    "lassoCV_model.fit(Z_train, y_train)"
   ]
  },
  {
   "cell_type": "code",
   "execution_count": 46,
   "id": "4b0d2992-11a1-47df-aae9-f398bbd3fa10",
   "metadata": {},
   "outputs": [
    {
     "data": {
      "text/plain": [
       "0.8363306385911393"
      ]
     },
     "execution_count": 46,
     "metadata": {},
     "output_type": "execute_result"
    }
   ],
   "source": [
    "lassoCV_model.score(Z_train, y_train)"
   ]
  },
  {
   "cell_type": "code",
   "execution_count": 47,
   "id": "6427f297-de80-4166-acdd-f247edfe1e39",
   "metadata": {},
   "outputs": [
    {
     "data": {
      "text/plain": [
       "0.836469685128468"
      ]
     },
     "execution_count": 47,
     "metadata": {},
     "output_type": "execute_result"
    }
   ],
   "source": [
    "lassoCV_model.score(Z_test, y_test)"
   ]
  },
  {
   "cell_type": "code",
   "execution_count": 48,
   "id": "1380483d-a802-420e-b25a-8283aea3d137",
   "metadata": {},
   "outputs": [],
   "source": [
    "predictions = lassoCV_model.predict(Z_test)"
   ]
  },
  {
   "cell_type": "code",
   "execution_count": 49,
   "id": "70da3e08-e40b-416c-a798-4ec445b6b74a",
   "metadata": {},
   "outputs": [
    {
     "data": {
      "text/plain": [
       "66060.2077121373"
      ]
     },
     "execution_count": 49,
     "metadata": {},
     "output_type": "execute_result"
    }
   ],
   "source": [
    "np.sqrt(metrics.mean_squared_error(y_test, predictions))"
   ]
  },
  {
   "cell_type": "code",
   "execution_count": 50,
   "id": "c0e3b6f4-578d-462e-a9dc-33d47e7435dd",
   "metadata": {
    "scrolled": true,
    "tags": []
   },
   "outputs": [
    {
     "data": {
      "text/plain": [
       "array([ 5.14495393e+04,  0.00000000e+00, -8.52246496e+03,  9.05779407e+04,\n",
       "        3.58613292e+03,  3.24155207e+04,  8.85704320e+03,  6.79679961e+03,\n",
       "        1.25212600e+04, -2.14434253e+03,  1.57156414e+04, -8.98955445e+03,\n",
       "        5.67882078e+03,  7.13631589e+03, -9.98513135e+03,  9.22790040e+03,\n",
       "        7.24788467e+03, -0.00000000e+00, -1.82823973e+03, -8.41444234e+03,\n",
       "        9.10058501e+03, -0.00000000e+00,  1.06045039e+04, -6.70847026e+02,\n",
       "       -6.22279343e+03,  1.45167550e+04, -1.02285536e+04, -1.08278073e+04,\n",
       "        3.72331072e+03,  5.22663303e+03,  1.06851665e+04, -1.56092222e+04,\n",
       "       -3.23045942e+03, -2.58536373e+03, -8.00939655e+03, -1.64527277e+04,\n",
       "       -0.00000000e+00,  1.88476162e+04,  2.01887778e+04,  2.70321207e+02,\n",
       "       -6.93672768e+03,  2.98809131e+03, -4.38994632e+03,  3.65536778e+03,\n",
       "       -1.38404749e+03,  0.00000000e+00,  3.06038510e+03,  1.61407751e+03,\n",
       "        3.84241565e+03,  2.00499559e+03,  5.19923671e+03,  1.73463049e+03,\n",
       "        5.56085771e+03,  5.27850116e+03,  1.22047364e+03,  5.60040633e+03,\n",
       "        4.14942734e+03,  2.96613408e+02,  4.44134049e+03,  6.25448631e+02,\n",
       "        4.42050633e+03,  3.44084722e+03,  1.88902344e+03,  1.52992729e+03,\n",
       "        8.49288074e+02, -1.16718496e+02,  0.00000000e+00,  3.06010923e+03,\n",
       "        8.11084968e+03, -4.64589187e+03,  4.29890969e+02,  5.07049970e+03,\n",
       "        1.70450378e+02,  1.71761417e+03, -1.58680954e+03,  2.75329839e+03,\n",
       "       -0.00000000e+00,  4.42115407e+02,  2.07085458e+03,  4.49389411e+02,\n",
       "       -2.32471326e+03, -2.12826355e+03,  5.72675400e+03,  5.15095713e+03,\n",
       "        4.24805295e+03, -0.00000000e+00,  0.00000000e+00, -7.29501281e+02,\n",
       "        1.06754927e+03,  7.44801765e+02,  4.32939309e+02, -0.00000000e+00,\n",
       "       -2.68073351e+02, -1.30178289e+02, -4.72830475e+02, -6.88193404e+01,\n",
       "       -2.08063029e+02, -6.79812936e+01, -2.02064543e+02])"
      ]
     },
     "execution_count": 50,
     "metadata": {},
     "output_type": "execute_result"
    }
   ],
   "source": [
    "lassoCV_coef = lassoCV_model.coef_\n",
    "lassoCV_coef"
   ]
  },
  {
   "cell_type": "markdown",
   "id": "887d8bb1-63b7-4cdb-a52f-de7de37d5c4d",
   "metadata": {},
   "source": [
    "To plot `lassoCV_coef` into a dataframe with the feature names, you can follow these steps:\n",
    "\n",
    "1. Get the feature names of your dataset. If you have a Pandas DataFrame, you can use the `columns` attribute to get the feature names. For example, if your dataset is named `data`, you can use `feature_names = data.columns.tolist()` to get the feature names as a list.\n",
    "\n",
    "2. Create a DataFrame to store the coefficients and feature names. You can use the `pd.DataFrame()` function to create a new DataFrame, and pass in `lassoCV_coef` as the data argument.\n",
    "\n",
    "3. Transpose the DataFrame. By default, the `pd.DataFrame()` function will create a DataFrame where each column represents a feature and each row represents a coefficient value. To make the feature names the row index and the coefficients the column values, you can use the `transpose()` method of the DataFrame. This will swap the rows and columns.\n",
    "\n",
    "4. Rename the columns. The column names will be the integer indices of the features. To rename the columns with the feature names, you can use the `rename()` method of the DataFrame, and pass in a dictionary where the keys are the old column names (integer indices) and the values are the new column names (feature names). You can use a list comprehension to generate this dictionary.\n",
    "\n",
    "Here's an example code snippet that demonstrates these steps:\n",
    "\n",
    "``` python\n",
    "import pandas as pd\n",
    "\n",
    "# Get the feature names\n",
    "feature_names = data.columns.tolist()\n",
    "\n",
    "# Create a DataFrame with coefficients and feature names\n",
    "coef_df = pd.DataFrame(lassoCV_coef, columns=feature_names)\n",
    "\n",
    "# Transpose the DataFrame\n",
    "coef_df = coef_df.transpose()\n",
    "\n",
    "# Rename the columns with feature names\n",
    "coef_df = coef_df.rename(columns={i: feature_names[i] for i in range(len(feature_names))})\n",
    "```\n",
    "\n",
    "After running this code, `coef_df` will be a Pandas DataFrame where each row represents a feature, each column represents a coefficient value, and the column names are the feature names."
   ]
  },
  {
   "cell_type": "markdown",
   "id": "442d94af-4a4f-4a5c-8319-761abd18ed4e",
   "metadata": {},
   "source": [
    "Remarks:\n",
    "Train and test perfomance is better as compared to linear regression. As the test score and cross val scores are similar, it can be conclude that this model is representative for new future data. The RMSE score is good too. However, it is not as good as RidgeCV. This difference in score could be due to LassoCV driving the coefficents to 0. Hence, this could have attributed to a slightly weaker performance as compared to RidgeCV. \n",
    "\n",
    "Strategy: To explore another regularization technique such as ElasticNet to compare overall performance."
   ]
  },
  {
   "cell_type": "code",
   "execution_count": 51,
   "id": "ab75497e-4aac-4944-b446-0c03d4c33258",
   "metadata": {},
   "outputs": [],
   "source": [
    "enet_alphas = np.linspace(0.5, 1.0, 100)\n",
    "enet_model = ElasticNetCV(alphas = enet_alphas, cv = 5)"
   ]
  },
  {
   "cell_type": "code",
   "execution_count": 52,
   "id": "66747160-a425-4b52-b367-51b1145180f7",
   "metadata": {},
   "outputs": [
    {
     "data": {
      "text/html": [
       "<style>#sk-container-id-4 {color: black;background-color: white;}#sk-container-id-4 pre{padding: 0;}#sk-container-id-4 div.sk-toggleable {background-color: white;}#sk-container-id-4 label.sk-toggleable__label {cursor: pointer;display: block;width: 100%;margin-bottom: 0;padding: 0.3em;box-sizing: border-box;text-align: center;}#sk-container-id-4 label.sk-toggleable__label-arrow:before {content: \"▸\";float: left;margin-right: 0.25em;color: #696969;}#sk-container-id-4 label.sk-toggleable__label-arrow:hover:before {color: black;}#sk-container-id-4 div.sk-estimator:hover label.sk-toggleable__label-arrow:before {color: black;}#sk-container-id-4 div.sk-toggleable__content {max-height: 0;max-width: 0;overflow: hidden;text-align: left;background-color: #f0f8ff;}#sk-container-id-4 div.sk-toggleable__content pre {margin: 0.2em;color: black;border-radius: 0.25em;background-color: #f0f8ff;}#sk-container-id-4 input.sk-toggleable__control:checked~div.sk-toggleable__content {max-height: 200px;max-width: 100%;overflow: auto;}#sk-container-id-4 input.sk-toggleable__control:checked~label.sk-toggleable__label-arrow:before {content: \"▾\";}#sk-container-id-4 div.sk-estimator input.sk-toggleable__control:checked~label.sk-toggleable__label {background-color: #d4ebff;}#sk-container-id-4 div.sk-label input.sk-toggleable__control:checked~label.sk-toggleable__label {background-color: #d4ebff;}#sk-container-id-4 input.sk-hidden--visually {border: 0;clip: rect(1px 1px 1px 1px);clip: rect(1px, 1px, 1px, 1px);height: 1px;margin: -1px;overflow: hidden;padding: 0;position: absolute;width: 1px;}#sk-container-id-4 div.sk-estimator {font-family: monospace;background-color: #f0f8ff;border: 1px dotted black;border-radius: 0.25em;box-sizing: border-box;margin-bottom: 0.5em;}#sk-container-id-4 div.sk-estimator:hover {background-color: #d4ebff;}#sk-container-id-4 div.sk-parallel-item::after {content: \"\";width: 100%;border-bottom: 1px solid gray;flex-grow: 1;}#sk-container-id-4 div.sk-label:hover label.sk-toggleable__label {background-color: #d4ebff;}#sk-container-id-4 div.sk-serial::before {content: \"\";position: absolute;border-left: 1px solid gray;box-sizing: border-box;top: 0;bottom: 0;left: 50%;z-index: 0;}#sk-container-id-4 div.sk-serial {display: flex;flex-direction: column;align-items: center;background-color: white;padding-right: 0.2em;padding-left: 0.2em;position: relative;}#sk-container-id-4 div.sk-item {position: relative;z-index: 1;}#sk-container-id-4 div.sk-parallel {display: flex;align-items: stretch;justify-content: center;background-color: white;position: relative;}#sk-container-id-4 div.sk-item::before, #sk-container-id-4 div.sk-parallel-item::before {content: \"\";position: absolute;border-left: 1px solid gray;box-sizing: border-box;top: 0;bottom: 0;left: 50%;z-index: -1;}#sk-container-id-4 div.sk-parallel-item {display: flex;flex-direction: column;z-index: 1;position: relative;background-color: white;}#sk-container-id-4 div.sk-parallel-item:first-child::after {align-self: flex-end;width: 50%;}#sk-container-id-4 div.sk-parallel-item:last-child::after {align-self: flex-start;width: 50%;}#sk-container-id-4 div.sk-parallel-item:only-child::after {width: 0;}#sk-container-id-4 div.sk-dashed-wrapped {border: 1px dashed gray;margin: 0 0.4em 0.5em 0.4em;box-sizing: border-box;padding-bottom: 0.4em;background-color: white;}#sk-container-id-4 div.sk-label label {font-family: monospace;font-weight: bold;display: inline-block;line-height: 1.2em;}#sk-container-id-4 div.sk-label-container {text-align: center;}#sk-container-id-4 div.sk-container {/* jupyter's `normalize.less` sets `[hidden] { display: none; }` but bootstrap.min.css set `[hidden] { display: none !important; }` so we also need the `!important` here to be able to override the default hidden behavior on the sphinx rendered scikit-learn.org. See: https://github.com/scikit-learn/scikit-learn/issues/21755 */display: inline-block !important;position: relative;}#sk-container-id-4 div.sk-text-repr-fallback {display: none;}</style><div id=\"sk-container-id-4\" class=\"sk-top-container\"><div class=\"sk-text-repr-fallback\"><pre>ElasticNetCV(alphas=array([0.5       , 0.50505051, 0.51010101, 0.51515152, 0.52020202,\n",
       "       0.52525253, 0.53030303, 0.53535354, 0.54040404, 0.54545455,\n",
       "       0.55050505, 0.55555556, 0.56060606, 0.56565657, 0.57070707,\n",
       "       0.57575758, 0.58080808, 0.58585859, 0.59090909, 0.5959596 ,\n",
       "       0.6010101 , 0.60606061, 0.61111111, 0.61616162, 0.62121212,\n",
       "       0.62626263, 0.63131313, 0.63636364, 0.64141414, 0.64646465,\n",
       "       0....\n",
       "       0.82828283, 0.83333333, 0.83838384, 0.84343434, 0.84848485,\n",
       "       0.85353535, 0.85858586, 0.86363636, 0.86868687, 0.87373737,\n",
       "       0.87878788, 0.88383838, 0.88888889, 0.89393939, 0.8989899 ,\n",
       "       0.9040404 , 0.90909091, 0.91414141, 0.91919192, 0.92424242,\n",
       "       0.92929293, 0.93434343, 0.93939394, 0.94444444, 0.94949495,\n",
       "       0.95454545, 0.95959596, 0.96464646, 0.96969697, 0.97474747,\n",
       "       0.97979798, 0.98484848, 0.98989899, 0.99494949, 1.        ]),\n",
       "             cv=5)</pre><b>In a Jupyter environment, please rerun this cell to show the HTML representation or trust the notebook. <br />On GitHub, the HTML representation is unable to render, please try loading this page with nbviewer.org.</b></div><div class=\"sk-container\" hidden><div class=\"sk-item\"><div class=\"sk-estimator sk-toggleable\"><input class=\"sk-toggleable__control sk-hidden--visually\" id=\"sk-estimator-id-4\" type=\"checkbox\" checked><label for=\"sk-estimator-id-4\" class=\"sk-toggleable__label sk-toggleable__label-arrow\">ElasticNetCV</label><div class=\"sk-toggleable__content\"><pre>ElasticNetCV(alphas=array([0.5       , 0.50505051, 0.51010101, 0.51515152, 0.52020202,\n",
       "       0.52525253, 0.53030303, 0.53535354, 0.54040404, 0.54545455,\n",
       "       0.55050505, 0.55555556, 0.56060606, 0.56565657, 0.57070707,\n",
       "       0.57575758, 0.58080808, 0.58585859, 0.59090909, 0.5959596 ,\n",
       "       0.6010101 , 0.60606061, 0.61111111, 0.61616162, 0.62121212,\n",
       "       0.62626263, 0.63131313, 0.63636364, 0.64141414, 0.64646465,\n",
       "       0....\n",
       "       0.82828283, 0.83333333, 0.83838384, 0.84343434, 0.84848485,\n",
       "       0.85353535, 0.85858586, 0.86363636, 0.86868687, 0.87373737,\n",
       "       0.87878788, 0.88383838, 0.88888889, 0.89393939, 0.8989899 ,\n",
       "       0.9040404 , 0.90909091, 0.91414141, 0.91919192, 0.92424242,\n",
       "       0.92929293, 0.93434343, 0.93939394, 0.94444444, 0.94949495,\n",
       "       0.95454545, 0.95959596, 0.96464646, 0.96969697, 0.97474747,\n",
       "       0.97979798, 0.98484848, 0.98989899, 0.99494949, 1.        ]),\n",
       "             cv=5)</pre></div></div></div></div></div>"
      ],
      "text/plain": [
       "ElasticNetCV(alphas=array([0.5       , 0.50505051, 0.51010101, 0.51515152, 0.52020202,\n",
       "       0.52525253, 0.53030303, 0.53535354, 0.54040404, 0.54545455,\n",
       "       0.55050505, 0.55555556, 0.56060606, 0.56565657, 0.57070707,\n",
       "       0.57575758, 0.58080808, 0.58585859, 0.59090909, 0.5959596 ,\n",
       "       0.6010101 , 0.60606061, 0.61111111, 0.61616162, 0.62121212,\n",
       "       0.62626263, 0.63131313, 0.63636364, 0.64141414, 0.64646465,\n",
       "       0....\n",
       "       0.82828283, 0.83333333, 0.83838384, 0.84343434, 0.84848485,\n",
       "       0.85353535, 0.85858586, 0.86363636, 0.86868687, 0.87373737,\n",
       "       0.87878788, 0.88383838, 0.88888889, 0.89393939, 0.8989899 ,\n",
       "       0.9040404 , 0.90909091, 0.91414141, 0.91919192, 0.92424242,\n",
       "       0.92929293, 0.93434343, 0.93939394, 0.94444444, 0.94949495,\n",
       "       0.95454545, 0.95959596, 0.96464646, 0.96969697, 0.97474747,\n",
       "       0.97979798, 0.98484848, 0.98989899, 0.99494949, 1.        ]),\n",
       "             cv=5)"
      ]
     },
     "execution_count": 52,
     "metadata": {},
     "output_type": "execute_result"
    }
   ],
   "source": [
    "enet_model.fit(Z_train, y_train)"
   ]
  },
  {
   "cell_type": "code",
   "execution_count": 53,
   "id": "086783fc-4557-41c5-97cb-32e33070fac9",
   "metadata": {},
   "outputs": [
    {
     "data": {
      "text/plain": [
       "0.8156096108699762"
      ]
     },
     "execution_count": 53,
     "metadata": {},
     "output_type": "execute_result"
    }
   ],
   "source": [
    "enet_model.score(Z_train, y_train)"
   ]
  },
  {
   "cell_type": "code",
   "execution_count": 54,
   "id": "e307feba-2f77-46ce-9de9-fea9b2f48070",
   "metadata": {},
   "outputs": [
    {
     "data": {
      "text/plain": [
       "0.8161559916372975"
      ]
     },
     "execution_count": 54,
     "metadata": {},
     "output_type": "execute_result"
    }
   ],
   "source": [
    "enet_model.score(Z_test, y_test)"
   ]
  },
  {
   "cell_type": "code",
   "execution_count": 55,
   "id": "abbaa6da-5caa-4221-8fdf-35e2c6d5ad0c",
   "metadata": {},
   "outputs": [],
   "source": [
    "predictions = enet_model.predict(Z_test)"
   ]
  },
  {
   "cell_type": "code",
   "execution_count": 56,
   "id": "5e088718-0e2c-486c-a385-fa6f16d47a0b",
   "metadata": {},
   "outputs": [
    {
     "data": {
      "text/plain": [
       "70043.12896203723"
      ]
     },
     "execution_count": 56,
     "metadata": {},
     "output_type": "execute_result"
    }
   ],
   "source": [
    "np.sqrt(metrics.mean_squared_error(y_test, predictions))"
   ]
  },
  {
   "cell_type": "markdown",
   "id": "b5270220-8352-4d5f-b489-fb9045e971c4",
   "metadata": {},
   "source": [
    "Remarks: \n",
    "\n",
    "Train and test perfomance is better as compared to linear regression. As the test score and cross val scores are similar, it can be conclude that this model is representative for new future data. However, it is not as great as compared to the other regularization models such as Ridgecv and LassoCV. "
   ]
  },
  {
   "cell_type": "code",
   "execution_count": 57,
   "id": "a16a0a11-5f62-4da1-8cac-57868c0c7c76",
   "metadata": {},
   "outputs": [],
   "source": [
    "sc = StandardScaler()"
   ]
  },
  {
   "cell_type": "code",
   "execution_count": 58,
   "id": "003869d6-893c-4236-9bf8-ba0a5802f08c",
   "metadata": {},
   "outputs": [],
   "source": [
    "xgb = XGBRegressor()"
   ]
  },
  {
   "cell_type": "code",
   "execution_count": 59,
   "id": "1ad8e147-9835-4a49-bcec-c5e4d42160e0",
   "metadata": {},
   "outputs": [],
   "source": [
    "pipe_xgb_gs = Pipeline([('sc',sc),('xgb',xgb)])"
   ]
  },
  {
   "cell_type": "code",
   "execution_count": 61,
   "id": "c351d1da-cf45-4066-9e90-887d5c7fbee5",
   "metadata": {},
   "outputs": [],
   "source": [
    "pipe_xgb_gs_params = {'xgb__max_depth':[7,8],\n",
    "                      'xgb__eta':[0.2,0.3],\n",
    "                      'xgb__random_state':[42]}"
   ]
  },
  {
   "cell_type": "code",
   "execution_count": 62,
   "id": "36e93d0d-338a-4edf-a0c6-2dde4dd370d0",
   "metadata": {},
   "outputs": [],
   "source": [
    "xgb_gs = GridSearchCV(pipe_xgb_gs, pipe_xgb_gs_params, cv=5, verbose=1, error_score='raise')"
   ]
  },
  {
   "cell_type": "code",
   "execution_count": 63,
   "id": "f09b9266-0350-4c49-9f60-18b912426689",
   "metadata": {
    "scrolled": true,
    "tags": []
   },
   "outputs": [
    {
     "name": "stdout",
     "output_type": "stream",
     "text": [
      "Fitting 5 folds for each of 4 candidates, totalling 20 fits\n"
     ]
    },
    {
     "name": "stderr",
     "output_type": "stream",
     "text": [
      "C:\\Users\\johnk\\mambaforge\\lib\\site-packages\\sklearn\\utils\\validation.py:768: UserWarning: pandas.DataFrame with sparse columns found.It will be converted to a dense numpy array.\n",
      "  warnings.warn(\n",
      "C:\\Users\\johnk\\mambaforge\\lib\\site-packages\\sklearn\\utils\\validation.py:768: UserWarning: pandas.DataFrame with sparse columns found.It will be converted to a dense numpy array.\n",
      "  warnings.warn(\n",
      "C:\\Users\\johnk\\mambaforge\\lib\\site-packages\\sklearn\\utils\\validation.py:768: UserWarning: pandas.DataFrame with sparse columns found.It will be converted to a dense numpy array.\n",
      "  warnings.warn(\n",
      "C:\\Users\\johnk\\mambaforge\\lib\\site-packages\\sklearn\\utils\\validation.py:768: UserWarning: pandas.DataFrame with sparse columns found.It will be converted to a dense numpy array.\n",
      "  warnings.warn(\n",
      "C:\\Users\\johnk\\mambaforge\\lib\\site-packages\\sklearn\\utils\\validation.py:768: UserWarning: pandas.DataFrame with sparse columns found.It will be converted to a dense numpy array.\n",
      "  warnings.warn(\n",
      "C:\\Users\\johnk\\mambaforge\\lib\\site-packages\\sklearn\\utils\\validation.py:768: UserWarning: pandas.DataFrame with sparse columns found.It will be converted to a dense numpy array.\n",
      "  warnings.warn(\n",
      "C:\\Users\\johnk\\mambaforge\\lib\\site-packages\\sklearn\\utils\\validation.py:768: UserWarning: pandas.DataFrame with sparse columns found.It will be converted to a dense numpy array.\n",
      "  warnings.warn(\n",
      "C:\\Users\\johnk\\mambaforge\\lib\\site-packages\\sklearn\\utils\\validation.py:768: UserWarning: pandas.DataFrame with sparse columns found.It will be converted to a dense numpy array.\n",
      "  warnings.warn(\n",
      "C:\\Users\\johnk\\mambaforge\\lib\\site-packages\\sklearn\\utils\\validation.py:768: UserWarning: pandas.DataFrame with sparse columns found.It will be converted to a dense numpy array.\n",
      "  warnings.warn(\n",
      "C:\\Users\\johnk\\mambaforge\\lib\\site-packages\\sklearn\\utils\\validation.py:768: UserWarning: pandas.DataFrame with sparse columns found.It will be converted to a dense numpy array.\n",
      "  warnings.warn(\n",
      "C:\\Users\\johnk\\mambaforge\\lib\\site-packages\\sklearn\\utils\\validation.py:768: UserWarning: pandas.DataFrame with sparse columns found.It will be converted to a dense numpy array.\n",
      "  warnings.warn(\n",
      "C:\\Users\\johnk\\mambaforge\\lib\\site-packages\\sklearn\\utils\\validation.py:768: UserWarning: pandas.DataFrame with sparse columns found.It will be converted to a dense numpy array.\n",
      "  warnings.warn(\n",
      "C:\\Users\\johnk\\mambaforge\\lib\\site-packages\\sklearn\\utils\\validation.py:768: UserWarning: pandas.DataFrame with sparse columns found.It will be converted to a dense numpy array.\n",
      "  warnings.warn(\n",
      "C:\\Users\\johnk\\mambaforge\\lib\\site-packages\\sklearn\\utils\\validation.py:768: UserWarning: pandas.DataFrame with sparse columns found.It will be converted to a dense numpy array.\n",
      "  warnings.warn(\n",
      "C:\\Users\\johnk\\mambaforge\\lib\\site-packages\\sklearn\\utils\\validation.py:768: UserWarning: pandas.DataFrame with sparse columns found.It will be converted to a dense numpy array.\n",
      "  warnings.warn(\n",
      "C:\\Users\\johnk\\mambaforge\\lib\\site-packages\\sklearn\\utils\\validation.py:768: UserWarning: pandas.DataFrame with sparse columns found.It will be converted to a dense numpy array.\n",
      "  warnings.warn(\n",
      "C:\\Users\\johnk\\mambaforge\\lib\\site-packages\\sklearn\\utils\\validation.py:768: UserWarning: pandas.DataFrame with sparse columns found.It will be converted to a dense numpy array.\n",
      "  warnings.warn(\n",
      "C:\\Users\\johnk\\mambaforge\\lib\\site-packages\\sklearn\\utils\\validation.py:768: UserWarning: pandas.DataFrame with sparse columns found.It will be converted to a dense numpy array.\n",
      "  warnings.warn(\n",
      "C:\\Users\\johnk\\mambaforge\\lib\\site-packages\\sklearn\\utils\\validation.py:768: UserWarning: pandas.DataFrame with sparse columns found.It will be converted to a dense numpy array.\n",
      "  warnings.warn(\n",
      "C:\\Users\\johnk\\mambaforge\\lib\\site-packages\\sklearn\\utils\\validation.py:768: UserWarning: pandas.DataFrame with sparse columns found.It will be converted to a dense numpy array.\n",
      "  warnings.warn(\n",
      "C:\\Users\\johnk\\mambaforge\\lib\\site-packages\\sklearn\\utils\\validation.py:768: UserWarning: pandas.DataFrame with sparse columns found.It will be converted to a dense numpy array.\n",
      "  warnings.warn(\n",
      "C:\\Users\\johnk\\mambaforge\\lib\\site-packages\\sklearn\\utils\\validation.py:768: UserWarning: pandas.DataFrame with sparse columns found.It will be converted to a dense numpy array.\n",
      "  warnings.warn(\n",
      "C:\\Users\\johnk\\mambaforge\\lib\\site-packages\\sklearn\\utils\\validation.py:768: UserWarning: pandas.DataFrame with sparse columns found.It will be converted to a dense numpy array.\n",
      "  warnings.warn(\n",
      "C:\\Users\\johnk\\mambaforge\\lib\\site-packages\\sklearn\\utils\\validation.py:768: UserWarning: pandas.DataFrame with sparse columns found.It will be converted to a dense numpy array.\n",
      "  warnings.warn(\n",
      "C:\\Users\\johnk\\mambaforge\\lib\\site-packages\\sklearn\\utils\\validation.py:768: UserWarning: pandas.DataFrame with sparse columns found.It will be converted to a dense numpy array.\n",
      "  warnings.warn(\n",
      "C:\\Users\\johnk\\mambaforge\\lib\\site-packages\\sklearn\\utils\\validation.py:768: UserWarning: pandas.DataFrame with sparse columns found.It will be converted to a dense numpy array.\n",
      "  warnings.warn(\n",
      "C:\\Users\\johnk\\mambaforge\\lib\\site-packages\\sklearn\\utils\\validation.py:768: UserWarning: pandas.DataFrame with sparse columns found.It will be converted to a dense numpy array.\n",
      "  warnings.warn(\n",
      "C:\\Users\\johnk\\mambaforge\\lib\\site-packages\\sklearn\\utils\\validation.py:768: UserWarning: pandas.DataFrame with sparse columns found.It will be converted to a dense numpy array.\n",
      "  warnings.warn(\n",
      "C:\\Users\\johnk\\mambaforge\\lib\\site-packages\\sklearn\\utils\\validation.py:768: UserWarning: pandas.DataFrame with sparse columns found.It will be converted to a dense numpy array.\n",
      "  warnings.warn(\n",
      "C:\\Users\\johnk\\mambaforge\\lib\\site-packages\\sklearn\\utils\\validation.py:768: UserWarning: pandas.DataFrame with sparse columns found.It will be converted to a dense numpy array.\n",
      "  warnings.warn(\n",
      "C:\\Users\\johnk\\mambaforge\\lib\\site-packages\\sklearn\\utils\\validation.py:768: UserWarning: pandas.DataFrame with sparse columns found.It will be converted to a dense numpy array.\n",
      "  warnings.warn(\n",
      "C:\\Users\\johnk\\mambaforge\\lib\\site-packages\\sklearn\\utils\\validation.py:768: UserWarning: pandas.DataFrame with sparse columns found.It will be converted to a dense numpy array.\n",
      "  warnings.warn(\n",
      "C:\\Users\\johnk\\mambaforge\\lib\\site-packages\\sklearn\\utils\\validation.py:768: UserWarning: pandas.DataFrame with sparse columns found.It will be converted to a dense numpy array.\n",
      "  warnings.warn(\n",
      "C:\\Users\\johnk\\mambaforge\\lib\\site-packages\\sklearn\\utils\\validation.py:768: UserWarning: pandas.DataFrame with sparse columns found.It will be converted to a dense numpy array.\n",
      "  warnings.warn(\n",
      "C:\\Users\\johnk\\mambaforge\\lib\\site-packages\\sklearn\\utils\\validation.py:768: UserWarning: pandas.DataFrame with sparse columns found.It will be converted to a dense numpy array.\n",
      "  warnings.warn(\n",
      "C:\\Users\\johnk\\mambaforge\\lib\\site-packages\\sklearn\\utils\\validation.py:768: UserWarning: pandas.DataFrame with sparse columns found.It will be converted to a dense numpy array.\n",
      "  warnings.warn(\n",
      "C:\\Users\\johnk\\mambaforge\\lib\\site-packages\\sklearn\\utils\\validation.py:768: UserWarning: pandas.DataFrame with sparse columns found.It will be converted to a dense numpy array.\n",
      "  warnings.warn(\n",
      "C:\\Users\\johnk\\mambaforge\\lib\\site-packages\\sklearn\\utils\\validation.py:768: UserWarning: pandas.DataFrame with sparse columns found.It will be converted to a dense numpy array.\n",
      "  warnings.warn(\n",
      "C:\\Users\\johnk\\mambaforge\\lib\\site-packages\\sklearn\\utils\\validation.py:768: UserWarning: pandas.DataFrame with sparse columns found.It will be converted to a dense numpy array.\n",
      "  warnings.warn(\n",
      "C:\\Users\\johnk\\mambaforge\\lib\\site-packages\\sklearn\\utils\\validation.py:768: UserWarning: pandas.DataFrame with sparse columns found.It will be converted to a dense numpy array.\n",
      "  warnings.warn(\n",
      "C:\\Users\\johnk\\mambaforge\\lib\\site-packages\\sklearn\\utils\\validation.py:768: UserWarning: pandas.DataFrame with sparse columns found.It will be converted to a dense numpy array.\n",
      "  warnings.warn(\n",
      "C:\\Users\\johnk\\mambaforge\\lib\\site-packages\\sklearn\\utils\\validation.py:768: UserWarning: pandas.DataFrame with sparse columns found.It will be converted to a dense numpy array.\n",
      "  warnings.warn(\n",
      "C:\\Users\\johnk\\mambaforge\\lib\\site-packages\\sklearn\\utils\\validation.py:768: UserWarning: pandas.DataFrame with sparse columns found.It will be converted to a dense numpy array.\n",
      "  warnings.warn(\n",
      "C:\\Users\\johnk\\mambaforge\\lib\\site-packages\\sklearn\\utils\\validation.py:768: UserWarning: pandas.DataFrame with sparse columns found.It will be converted to a dense numpy array.\n",
      "  warnings.warn(\n",
      "C:\\Users\\johnk\\mambaforge\\lib\\site-packages\\sklearn\\utils\\validation.py:768: UserWarning: pandas.DataFrame with sparse columns found.It will be converted to a dense numpy array.\n",
      "  warnings.warn(\n",
      "C:\\Users\\johnk\\mambaforge\\lib\\site-packages\\sklearn\\utils\\validation.py:768: UserWarning: pandas.DataFrame with sparse columns found.It will be converted to a dense numpy array.\n",
      "  warnings.warn(\n",
      "C:\\Users\\johnk\\mambaforge\\lib\\site-packages\\sklearn\\utils\\validation.py:768: UserWarning: pandas.DataFrame with sparse columns found.It will be converted to a dense numpy array.\n",
      "  warnings.warn(\n",
      "C:\\Users\\johnk\\mambaforge\\lib\\site-packages\\sklearn\\utils\\validation.py:768: UserWarning: pandas.DataFrame with sparse columns found.It will be converted to a dense numpy array.\n",
      "  warnings.warn(\n",
      "C:\\Users\\johnk\\mambaforge\\lib\\site-packages\\sklearn\\utils\\validation.py:768: UserWarning: pandas.DataFrame with sparse columns found.It will be converted to a dense numpy array.\n",
      "  warnings.warn(\n",
      "C:\\Users\\johnk\\mambaforge\\lib\\site-packages\\sklearn\\utils\\validation.py:768: UserWarning: pandas.DataFrame with sparse columns found.It will be converted to a dense numpy array.\n",
      "  warnings.warn(\n",
      "C:\\Users\\johnk\\mambaforge\\lib\\site-packages\\sklearn\\utils\\validation.py:768: UserWarning: pandas.DataFrame with sparse columns found.It will be converted to a dense numpy array.\n",
      "  warnings.warn(\n",
      "C:\\Users\\johnk\\mambaforge\\lib\\site-packages\\sklearn\\utils\\validation.py:768: UserWarning: pandas.DataFrame with sparse columns found.It will be converted to a dense numpy array.\n",
      "  warnings.warn(\n",
      "C:\\Users\\johnk\\mambaforge\\lib\\site-packages\\sklearn\\utils\\validation.py:768: UserWarning: pandas.DataFrame with sparse columns found.It will be converted to a dense numpy array.\n",
      "  warnings.warn(\n",
      "C:\\Users\\johnk\\mambaforge\\lib\\site-packages\\sklearn\\utils\\validation.py:768: UserWarning: pandas.DataFrame with sparse columns found.It will be converted to a dense numpy array.\n",
      "  warnings.warn(\n",
      "C:\\Users\\johnk\\mambaforge\\lib\\site-packages\\sklearn\\utils\\validation.py:768: UserWarning: pandas.DataFrame with sparse columns found.It will be converted to a dense numpy array.\n",
      "  warnings.warn(\n",
      "C:\\Users\\johnk\\mambaforge\\lib\\site-packages\\sklearn\\utils\\validation.py:768: UserWarning: pandas.DataFrame with sparse columns found.It will be converted to a dense numpy array.\n",
      "  warnings.warn(\n",
      "C:\\Users\\johnk\\mambaforge\\lib\\site-packages\\sklearn\\utils\\validation.py:768: UserWarning: pandas.DataFrame with sparse columns found.It will be converted to a dense numpy array.\n",
      "  warnings.warn(\n",
      "C:\\Users\\johnk\\mambaforge\\lib\\site-packages\\sklearn\\utils\\validation.py:768: UserWarning: pandas.DataFrame with sparse columns found.It will be converted to a dense numpy array.\n",
      "  warnings.warn(\n",
      "C:\\Users\\johnk\\mambaforge\\lib\\site-packages\\sklearn\\utils\\validation.py:768: UserWarning: pandas.DataFrame with sparse columns found.It will be converted to a dense numpy array.\n",
      "  warnings.warn(\n",
      "C:\\Users\\johnk\\mambaforge\\lib\\site-packages\\sklearn\\utils\\validation.py:768: UserWarning: pandas.DataFrame with sparse columns found.It will be converted to a dense numpy array.\n",
      "  warnings.warn(\n",
      "C:\\Users\\johnk\\mambaforge\\lib\\site-packages\\sklearn\\utils\\validation.py:768: UserWarning: pandas.DataFrame with sparse columns found.It will be converted to a dense numpy array.\n",
      "  warnings.warn(\n",
      "C:\\Users\\johnk\\mambaforge\\lib\\site-packages\\sklearn\\utils\\validation.py:768: UserWarning: pandas.DataFrame with sparse columns found.It will be converted to a dense numpy array.\n",
      "  warnings.warn(\n"
     ]
    }
   ],
   "source": [
    "xgb_model = xgb_gs.fit(X_train, y_train);"
   ]
  },
  {
   "cell_type": "code",
   "execution_count": 64,
   "id": "e431b8ad-eabb-4d97-9cdf-2be846a96afe",
   "metadata": {},
   "outputs": [
    {
     "data": {
      "text/plain": [
       "{'xgb__eta': 0.3, 'xgb__max_depth': 8, 'xgb__random_state': 42}"
      ]
     },
     "execution_count": 64,
     "metadata": {},
     "output_type": "execute_result"
    }
   ],
   "source": [
    "xgb_gs.best_params_"
   ]
  },
  {
   "cell_type": "code",
   "execution_count": 65,
   "id": "0f4b3733-d808-4de6-ad99-37080e376107",
   "metadata": {},
   "outputs": [
    {
     "name": "stderr",
     "output_type": "stream",
     "text": [
      "C:\\Users\\johnk\\mambaforge\\lib\\site-packages\\sklearn\\utils\\validation.py:768: UserWarning: pandas.DataFrame with sparse columns found.It will be converted to a dense numpy array.\n",
      "  warnings.warn(\n"
     ]
    },
    {
     "data": {
      "text/plain": [
       "0.9825284918475913"
      ]
     },
     "execution_count": 65,
     "metadata": {},
     "output_type": "execute_result"
    }
   ],
   "source": [
    "xgb_gs.score(X_test,y_test)"
   ]
  },
  {
   "cell_type": "code",
   "execution_count": 66,
   "id": "fdeddbab-8009-4801-bebf-c9aed8910c2e",
   "metadata": {},
   "outputs": [
    {
     "name": "stderr",
     "output_type": "stream",
     "text": [
      "C:\\Users\\johnk\\mambaforge\\lib\\site-packages\\sklearn\\utils\\validation.py:768: UserWarning: pandas.DataFrame with sparse columns found.It will be converted to a dense numpy array.\n",
      "  warnings.warn(\n"
     ]
    },
    {
     "data": {
      "text/plain": [
       "0.9843281751640527"
      ]
     },
     "execution_count": 66,
     "metadata": {},
     "output_type": "execute_result"
    }
   ],
   "source": [
    "xgb_gs.score(X_train,y_train)"
   ]
  },
  {
   "cell_type": "code",
   "execution_count": 67,
   "id": "e01d7576-c393-44d0-88b0-8593a7849522",
   "metadata": {},
   "outputs": [
    {
     "name": "stderr",
     "output_type": "stream",
     "text": [
      "C:\\Users\\johnk\\mambaforge\\lib\\site-packages\\sklearn\\utils\\validation.py:768: UserWarning: pandas.DataFrame with sparse columns found.It will be converted to a dense numpy array.\n",
      "  warnings.warn(\n"
     ]
    }
   ],
   "source": [
    "predictions = xgb_model.predict(X_test)"
   ]
  },
  {
   "cell_type": "code",
   "execution_count": 68,
   "id": "8b3ea15e-6b4f-4359-8f5a-7e65d7658956",
   "metadata": {},
   "outputs": [
    {
     "data": {
      "text/plain": [
       "21592.65252456912"
      ]
     },
     "execution_count": 68,
     "metadata": {},
     "output_type": "execute_result"
    }
   ],
   "source": [
    "np.sqrt(metrics.mean_squared_error(y_test, predictions))"
   ]
  },
  {
   "cell_type": "code",
   "execution_count": 69,
   "id": "581537e0-e987-4c08-9e02-c7dc1822fe9e",
   "metadata": {},
   "outputs": [
    {
     "data": {
      "text/plain": [
       "(224751,)"
      ]
     },
     "execution_count": 69,
     "metadata": {},
     "output_type": "execute_result"
    }
   ],
   "source": [
    "predictions.shape"
   ]
  },
  {
   "cell_type": "code",
   "execution_count": 70,
   "id": "35aaf7b3-9a90-45e4-92bb-168a05da2f83",
   "metadata": {},
   "outputs": [],
   "source": [
    "y_test = y_test.reset_index(drop=True)"
   ]
  },
  {
   "cell_type": "code",
   "execution_count": 71,
   "id": "6e7a4982-e8a5-4da1-b0bc-7c64675e8e80",
   "metadata": {},
   "outputs": [],
   "source": [
    "pred_df = pd.DataFrame(y_test)"
   ]
  },
  {
   "cell_type": "code",
   "execution_count": 72,
   "id": "02755f18-d54d-4f3e-a1fa-6768b543c630",
   "metadata": {},
   "outputs": [
    {
     "data": {
      "text/html": [
       "<div>\n",
       "<style scoped>\n",
       "    .dataframe tbody tr th:only-of-type {\n",
       "        vertical-align: middle;\n",
       "    }\n",
       "\n",
       "    .dataframe tbody tr th {\n",
       "        vertical-align: top;\n",
       "    }\n",
       "\n",
       "    .dataframe thead th {\n",
       "        text-align: right;\n",
       "    }\n",
       "</style>\n",
       "<table border=\"1\" class=\"dataframe\">\n",
       "  <thead>\n",
       "    <tr style=\"text-align: right;\">\n",
       "      <th></th>\n",
       "      <th>resale_price</th>\n",
       "    </tr>\n",
       "  </thead>\n",
       "  <tbody>\n",
       "    <tr>\n",
       "      <th>0</th>\n",
       "      <td>139000.0</td>\n",
       "    </tr>\n",
       "    <tr>\n",
       "      <th>1</th>\n",
       "      <td>303000.0</td>\n",
       "    </tr>\n",
       "    <tr>\n",
       "      <th>2</th>\n",
       "      <td>186000.0</td>\n",
       "    </tr>\n",
       "    <tr>\n",
       "      <th>3</th>\n",
       "      <td>330000.0</td>\n",
       "    </tr>\n",
       "    <tr>\n",
       "      <th>4</th>\n",
       "      <td>500000.0</td>\n",
       "    </tr>\n",
       "  </tbody>\n",
       "</table>\n",
       "</div>"
      ],
      "text/plain": [
       "   resale_price\n",
       "0      139000.0\n",
       "1      303000.0\n",
       "2      186000.0\n",
       "3      330000.0\n",
       "4      500000.0"
      ]
     },
     "execution_count": 72,
     "metadata": {},
     "output_type": "execute_result"
    }
   ],
   "source": [
    "pred_df.head()"
   ]
  },
  {
   "cell_type": "code",
   "execution_count": 73,
   "id": "1dcd3110-e9f0-4a39-9afb-b8512253bf85",
   "metadata": {},
   "outputs": [
    {
     "data": {
      "text/plain": [
       "(224751, 1)"
      ]
     },
     "execution_count": 73,
     "metadata": {},
     "output_type": "execute_result"
    }
   ],
   "source": [
    "pred_df.shape"
   ]
  },
  {
   "cell_type": "code",
   "execution_count": 74,
   "id": "61d7d647-a9f5-4a86-b476-f6b6d4f4ea53",
   "metadata": {},
   "outputs": [],
   "source": [
    "pred_df = pd.concat([pred_df, pd.DataFrame({'model_predictions': predictions})], axis = 1)"
   ]
  },
  {
   "cell_type": "code",
   "execution_count": 75,
   "id": "525ecdc9-83a3-4c62-a8ed-707c61ead0cd",
   "metadata": {},
   "outputs": [
    {
     "data": {
      "text/plain": [
       "(224751, 2)"
      ]
     },
     "execution_count": 75,
     "metadata": {},
     "output_type": "execute_result"
    }
   ],
   "source": [
    "pred_df.shape"
   ]
  },
  {
   "cell_type": "code",
   "execution_count": 76,
   "id": "517503c8-8760-49fe-b4a3-8705bb837ac2",
   "metadata": {},
   "outputs": [
    {
     "data": {
      "text/html": [
       "<div>\n",
       "<style scoped>\n",
       "    .dataframe tbody tr th:only-of-type {\n",
       "        vertical-align: middle;\n",
       "    }\n",
       "\n",
       "    .dataframe tbody tr th {\n",
       "        vertical-align: top;\n",
       "    }\n",
       "\n",
       "    .dataframe thead th {\n",
       "        text-align: right;\n",
       "    }\n",
       "</style>\n",
       "<table border=\"1\" class=\"dataframe\">\n",
       "  <thead>\n",
       "    <tr style=\"text-align: right;\">\n",
       "      <th></th>\n",
       "      <th>resale_price</th>\n",
       "      <th>model_predictions</th>\n",
       "    </tr>\n",
       "  </thead>\n",
       "  <tbody>\n",
       "    <tr>\n",
       "      <th>0</th>\n",
       "      <td>139000.0</td>\n",
       "      <td>139758.609375</td>\n",
       "    </tr>\n",
       "    <tr>\n",
       "      <th>1</th>\n",
       "      <td>303000.0</td>\n",
       "      <td>303183.750000</td>\n",
       "    </tr>\n",
       "    <tr>\n",
       "      <th>2</th>\n",
       "      <td>186000.0</td>\n",
       "      <td>193596.875000</td>\n",
       "    </tr>\n",
       "    <tr>\n",
       "      <th>3</th>\n",
       "      <td>330000.0</td>\n",
       "      <td>347226.281250</td>\n",
       "    </tr>\n",
       "    <tr>\n",
       "      <th>4</th>\n",
       "      <td>500000.0</td>\n",
       "      <td>474862.812500</td>\n",
       "    </tr>\n",
       "  </tbody>\n",
       "</table>\n",
       "</div>"
      ],
      "text/plain": [
       "   resale_price  model_predictions\n",
       "0      139000.0      139758.609375\n",
       "1      303000.0      303183.750000\n",
       "2      186000.0      193596.875000\n",
       "3      330000.0      347226.281250\n",
       "4      500000.0      474862.812500"
      ]
     },
     "execution_count": 76,
     "metadata": {},
     "output_type": "execute_result"
    }
   ],
   "source": [
    "pred_df.head()"
   ]
  },
  {
   "cell_type": "code",
   "execution_count": 77,
   "id": "75508ddd-eb23-4761-ad26-b5affde478f1",
   "metadata": {},
   "outputs": [
    {
     "data": {
      "text/plain": [
       "<Axes: xlabel='resale_price', ylabel='model_predictions'>"
      ]
     },
     "execution_count": 77,
     "metadata": {},
     "output_type": "execute_result"
    },
    {
     "data": {
      "image/png": "[encoded data removed]",
      "text/plain": [
       "<Figure size 432x288 with 1 Axes>"
      ]
     },
     "metadata": {
      "needs_background": "light"
     },
     "output_type": "display_data"
    }
   ],
   "source": [
    "sns.scatterplot(x=pred_df['resale_price'], y=pred_df['model_predictions'])"
   ]
  },
  {
   "cell_type": "markdown",
   "id": "c6871a61-2a94-4747-aacb-e0b4b0265f03",
   "metadata": {},
   "source": [
    "Summary Table:\n",
    "\n",
    "\n",
    "| Type of $R^2$ | Linear Regression | RidgeCV | LassoCV | Elastic Net |\n",
    "| :------------: | :------------: | :------------: | :------------: | :------------: |\n",
    "| Train|0.902|0.902|0.901|0.879|\n",
    "| Test|0.901|0.901|0.901|0.879|\n",
    "| Cross val |-5.703e+22|-|-|-|\n",
    "| RMSE |45067.93|45059.24|45185.42|49799.30|"
   ]
  },
  {
   "cell_type": "markdown",
   "id": "8b7ad5ea-68ef-48bf-96f0-12f80c4fd9d6",
   "metadata": {
    "tags": []
   },
   "source": [
    "# Discussion"
   ]
  },
  {
   "cell_type": "markdown",
   "id": "056f4eb6-8c11-4797-8f3d-e2556de27ca0",
   "metadata": {},
   "source": [
    "After fitting a linear regression model on the dataset, obtaining a train score and test score of 83.6% suggests that the model performs reasonably well on both the training and test data. The matching scores indicate that there is no apparent sign of overfitting or underfitting, which is generally desirable.\n",
    "\n",
    "However, the cross-validation score of -6.05e+22 indicates a significant issue. This negative score strongly suggests the presence of model overfitting. Overfitting occurs when the model becomes too complex and starts capturing noise or irrelevant patterns from the training data. Consequently, it performs poorly on unseen data during cross-validation, resulting in a negative mean score.\n",
    "\n",
    "The negative cross-validation score highlights the bad generalization of the model. It implies that the model's ability to accurately predict new, unseen data is severely compromised due to its overfitting behavior.\n",
    "\n",
    "Given these findings, it is necessary to explore alternative models or techniques to improve both the train and test scores while addressing the issue of overfitting. This may involve adjusting model hyperparameters and trying different algorithms altogether. The goal is to enhance the model's generalization ability, ensuring that it can make accurate predictions on new data beyond the training set."
   ]
  }
 ],
 "metadata": {
  "kernelspec": {
   "display_name": "Python 3 (ipykernel)",
   "language": "python",
   "name": "python3"
  },
  "language_info": {
   "codemirror_mode": {
    "name": "ipython",
    "version": 3
   },
   "file_extension": ".py",
   "mimetype": "text/x-python",
   "name": "python",
   "nbconvert_exporter": "python",
   "pygments_lexer": "ipython3",
   "version": "3.10.9"
  }
 },
 "nbformat": 4,
 "nbformat_minor": 5
}
