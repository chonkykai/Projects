{
 "cells": [
  {
   "cell_type": "markdown",
   "id": "665cf2bc-7510-4631-91f3-58900136cb07",
   "metadata": {},
   "source": [
    "# Import relevant libraries"
   ]
  },
  {
   "cell_type": "code",
   "execution_count": 121,
   "id": "2316d1d9-b0cc-4ff6-89a0-01eceb6f3723",
   "metadata": {},
   "outputs": [],
   "source": [
    "#import libries\n",
    "import numpy as np\n",
    "\n",
    "import pandas as pd\n",
    "import seaborn as sns\n",
    "import matplotlib.pyplot as plt\n",
    "\n",
    "from sklearn.preprocessing import StandardScaler, OneHotEncoder\n",
    "from xgboost import XGBRegressor\n",
    "from sklearn.linear_model import RidgeCV, LassoCV, ElasticNetCV\n",
    "from sklearn.model_selection import train_test_split, cross_val_score, GridSearchCV\n",
    "from sklearn.pipeline import Pipeline\n",
    "import tensorflow as tf\n",
    "from tensorflow.keras.models import Sequential\n",
    "from tensorflow.keras.layers import Dense, Activation\n",
    "\n",
    "from sklearn import metrics "
   ]
  },
  {
   "cell_type": "code",
   "execution_count": 2,
   "id": "353a5e1c-eb74-44b6-9dee-9ea42e55ebc6",
   "metadata": {},
   "outputs": [],
   "source": [
    "#load dataset\n",
    "df = pd.read_csv('./datasets/cleaned_v2.csv', low_memory = False)"
   ]
  },
  {
   "cell_type": "code",
   "execution_count": 3,
   "id": "291acd35-d0d6-4470-ba80-8df03981aac1",
   "metadata": {},
   "outputs": [
    {
     "data": {
      "text/html": [
       "<div>\n",
       "<style scoped>\n",
       "    .dataframe tbody tr th:only-of-type {\n",
       "        vertical-align: middle;\n",
       "    }\n",
       "\n",
       "    .dataframe tbody tr th {\n",
       "        vertical-align: top;\n",
       "    }\n",
       "\n",
       "    .dataframe thead th {\n",
       "        text-align: right;\n",
       "    }\n",
       "</style>\n",
       "<table border=\"1\" class=\"dataframe\">\n",
       "  <thead>\n",
       "    <tr style=\"text-align: right;\">\n",
       "      <th></th>\n",
       "      <th>town</th>\n",
       "      <th>flat_type</th>\n",
       "      <th>storey_range</th>\n",
       "      <th>floor_area_sqm</th>\n",
       "      <th>flat_model</th>\n",
       "      <th>resale_price</th>\n",
       "      <th>political_parties</th>\n",
       "      <th>remaining_lease_days</th>\n",
       "      <th>blk_num</th>\n",
       "      <th>blk_alpha</th>\n",
       "      <th>transaction_year</th>\n",
       "      <th>transaction_month</th>\n",
       "      <th>lease_year</th>\n",
       "    </tr>\n",
       "  </thead>\n",
       "  <tbody>\n",
       "    <tr>\n",
       "      <th>0</th>\n",
       "      <td>ANG MO KIO</td>\n",
       "      <td>1 ROOM</td>\n",
       "      <td>10 TO 12</td>\n",
       "      <td>31.0</td>\n",
       "      <td>IMPROVED</td>\n",
       "      <td>9000.0</td>\n",
       "      <td>PAP</td>\n",
       "      <td>31411</td>\n",
       "      <td>309</td>\n",
       "      <td>-</td>\n",
       "      <td>1990</td>\n",
       "      <td>1</td>\n",
       "      <td>1977</td>\n",
       "    </tr>\n",
       "    <tr>\n",
       "      <th>1</th>\n",
       "      <td>ANG MO KIO</td>\n",
       "      <td>1 ROOM</td>\n",
       "      <td>04 TO 06</td>\n",
       "      <td>31.0</td>\n",
       "      <td>IMPROVED</td>\n",
       "      <td>6000.0</td>\n",
       "      <td>PAP</td>\n",
       "      <td>31411</td>\n",
       "      <td>309</td>\n",
       "      <td>-</td>\n",
       "      <td>1990</td>\n",
       "      <td>1</td>\n",
       "      <td>1977</td>\n",
       "    </tr>\n",
       "    <tr>\n",
       "      <th>2</th>\n",
       "      <td>ANG MO KIO</td>\n",
       "      <td>1 ROOM</td>\n",
       "      <td>10 TO 12</td>\n",
       "      <td>31.0</td>\n",
       "      <td>IMPROVED</td>\n",
       "      <td>8000.0</td>\n",
       "      <td>PAP</td>\n",
       "      <td>31411</td>\n",
       "      <td>309</td>\n",
       "      <td>-</td>\n",
       "      <td>1990</td>\n",
       "      <td>1</td>\n",
       "      <td>1977</td>\n",
       "    </tr>\n",
       "    <tr>\n",
       "      <th>3</th>\n",
       "      <td>ANG MO KIO</td>\n",
       "      <td>1 ROOM</td>\n",
       "      <td>07 TO 09</td>\n",
       "      <td>31.0</td>\n",
       "      <td>IMPROVED</td>\n",
       "      <td>6000.0</td>\n",
       "      <td>PAP</td>\n",
       "      <td>31411</td>\n",
       "      <td>309</td>\n",
       "      <td>-</td>\n",
       "      <td>1990</td>\n",
       "      <td>1</td>\n",
       "      <td>1977</td>\n",
       "    </tr>\n",
       "    <tr>\n",
       "      <th>4</th>\n",
       "      <td>ANG MO KIO</td>\n",
       "      <td>3 ROOM</td>\n",
       "      <td>04 TO 06</td>\n",
       "      <td>73.0</td>\n",
       "      <td>NEW GENERATION</td>\n",
       "      <td>47200.0</td>\n",
       "      <td>PAP</td>\n",
       "      <td>31046</td>\n",
       "      <td>216</td>\n",
       "      <td>-</td>\n",
       "      <td>1990</td>\n",
       "      <td>1</td>\n",
       "      <td>1976</td>\n",
       "    </tr>\n",
       "  </tbody>\n",
       "</table>\n",
       "</div>"
      ],
      "text/plain": [
       "         town flat_type storey_range  floor_area_sqm      flat_model  \\\n",
       "0  ANG MO KIO    1 ROOM     10 TO 12            31.0        IMPROVED   \n",
       "1  ANG MO KIO    1 ROOM     04 TO 06            31.0        IMPROVED   \n",
       "2  ANG MO KIO    1 ROOM     10 TO 12            31.0        IMPROVED   \n",
       "3  ANG MO KIO    1 ROOM     07 TO 09            31.0        IMPROVED   \n",
       "4  ANG MO KIO    3 ROOM     04 TO 06            73.0  NEW GENERATION   \n",
       "\n",
       "   resale_price political_parties  remaining_lease_days  blk_num blk_alpha  \\\n",
       "0        9000.0               PAP                 31411      309         -   \n",
       "1        6000.0               PAP                 31411      309         -   \n",
       "2        8000.0               PAP                 31411      309         -   \n",
       "3        6000.0               PAP                 31411      309         -   \n",
       "4       47200.0               PAP                 31046      216         -   \n",
       "\n",
       "   transaction_year  transaction_month  lease_year  \n",
       "0              1990                  1        1977  \n",
       "1              1990                  1        1977  \n",
       "2              1990                  1        1977  \n",
       "3              1990                  1        1977  \n",
       "4              1990                  1        1976  "
      ]
     },
     "execution_count": 3,
     "metadata": {},
     "output_type": "execute_result"
    }
   ],
   "source": [
    "# pd.set_option('display.max_columns', None)\n",
    "df.head()"
   ]
  },
  {
   "cell_type": "markdown",
   "id": "76333fc2-8dac-4ed4-8143-006c1364ef77",
   "metadata": {
    "tags": []
   },
   "source": [
    "## Preprocessing of Data"
   ]
  },
  {
   "cell_type": "markdown",
   "id": "c411e812-ffa7-41b8-8937-9c88f05735fd",
   "metadata": {
    "tags": []
   },
   "source": [
    "## Split data into features and target"
   ]
  },
  {
   "cell_type": "code",
   "execution_count": 4,
   "id": "1b11fb72-9647-4f18-8650-860c16e98d6b",
   "metadata": {},
   "outputs": [],
   "source": [
    "X = df.drop(columns = 'resale_price')\n",
    "y = df['resale_price']"
   ]
  },
  {
   "cell_type": "code",
   "execution_count": 5,
   "id": "ab57aa32-76b0-4cc5-9db2-890fd78c48be",
   "metadata": {},
   "outputs": [
    {
     "data": {
      "text/html": [
       "<div>\n",
       "<style scoped>\n",
       "    .dataframe tbody tr th:only-of-type {\n",
       "        vertical-align: middle;\n",
       "    }\n",
       "\n",
       "    .dataframe tbody tr th {\n",
       "        vertical-align: top;\n",
       "    }\n",
       "\n",
       "    .dataframe thead th {\n",
       "        text-align: right;\n",
       "    }\n",
       "</style>\n",
       "<table border=\"1\" class=\"dataframe\">\n",
       "  <thead>\n",
       "    <tr style=\"text-align: right;\">\n",
       "      <th></th>\n",
       "      <th>town</th>\n",
       "      <th>flat_type</th>\n",
       "      <th>storey_range</th>\n",
       "      <th>floor_area_sqm</th>\n",
       "      <th>flat_model</th>\n",
       "      <th>political_parties</th>\n",
       "      <th>remaining_lease_days</th>\n",
       "      <th>blk_num</th>\n",
       "      <th>blk_alpha</th>\n",
       "      <th>transaction_year</th>\n",
       "      <th>transaction_month</th>\n",
       "      <th>lease_year</th>\n",
       "    </tr>\n",
       "  </thead>\n",
       "  <tbody>\n",
       "    <tr>\n",
       "      <th>0</th>\n",
       "      <td>ANG MO KIO</td>\n",
       "      <td>1 ROOM</td>\n",
       "      <td>10 TO 12</td>\n",
       "      <td>31.0</td>\n",
       "      <td>IMPROVED</td>\n",
       "      <td>PAP</td>\n",
       "      <td>31411</td>\n",
       "      <td>309</td>\n",
       "      <td>-</td>\n",
       "      <td>1990</td>\n",
       "      <td>1</td>\n",
       "      <td>1977</td>\n",
       "    </tr>\n",
       "    <tr>\n",
       "      <th>1</th>\n",
       "      <td>ANG MO KIO</td>\n",
       "      <td>1 ROOM</td>\n",
       "      <td>04 TO 06</td>\n",
       "      <td>31.0</td>\n",
       "      <td>IMPROVED</td>\n",
       "      <td>PAP</td>\n",
       "      <td>31411</td>\n",
       "      <td>309</td>\n",
       "      <td>-</td>\n",
       "      <td>1990</td>\n",
       "      <td>1</td>\n",
       "      <td>1977</td>\n",
       "    </tr>\n",
       "    <tr>\n",
       "      <th>2</th>\n",
       "      <td>ANG MO KIO</td>\n",
       "      <td>1 ROOM</td>\n",
       "      <td>10 TO 12</td>\n",
       "      <td>31.0</td>\n",
       "      <td>IMPROVED</td>\n",
       "      <td>PAP</td>\n",
       "      <td>31411</td>\n",
       "      <td>309</td>\n",
       "      <td>-</td>\n",
       "      <td>1990</td>\n",
       "      <td>1</td>\n",
       "      <td>1977</td>\n",
       "    </tr>\n",
       "    <tr>\n",
       "      <th>3</th>\n",
       "      <td>ANG MO KIO</td>\n",
       "      <td>1 ROOM</td>\n",
       "      <td>07 TO 09</td>\n",
       "      <td>31.0</td>\n",
       "      <td>IMPROVED</td>\n",
       "      <td>PAP</td>\n",
       "      <td>31411</td>\n",
       "      <td>309</td>\n",
       "      <td>-</td>\n",
       "      <td>1990</td>\n",
       "      <td>1</td>\n",
       "      <td>1977</td>\n",
       "    </tr>\n",
       "    <tr>\n",
       "      <th>4</th>\n",
       "      <td>ANG MO KIO</td>\n",
       "      <td>3 ROOM</td>\n",
       "      <td>04 TO 06</td>\n",
       "      <td>73.0</td>\n",
       "      <td>NEW GENERATION</td>\n",
       "      <td>PAP</td>\n",
       "      <td>31046</td>\n",
       "      <td>216</td>\n",
       "      <td>-</td>\n",
       "      <td>1990</td>\n",
       "      <td>1</td>\n",
       "      <td>1976</td>\n",
       "    </tr>\n",
       "  </tbody>\n",
       "</table>\n",
       "</div>"
      ],
      "text/plain": [
       "         town flat_type storey_range  floor_area_sqm      flat_model  \\\n",
       "0  ANG MO KIO    1 ROOM     10 TO 12            31.0        IMPROVED   \n",
       "1  ANG MO KIO    1 ROOM     04 TO 06            31.0        IMPROVED   \n",
       "2  ANG MO KIO    1 ROOM     10 TO 12            31.0        IMPROVED   \n",
       "3  ANG MO KIO    1 ROOM     07 TO 09            31.0        IMPROVED   \n",
       "4  ANG MO KIO    3 ROOM     04 TO 06            73.0  NEW GENERATION   \n",
       "\n",
       "  political_parties  remaining_lease_days  blk_num blk_alpha  \\\n",
       "0               PAP                 31411      309         -   \n",
       "1               PAP                 31411      309         -   \n",
       "2               PAP                 31411      309         -   \n",
       "3               PAP                 31411      309         -   \n",
       "4               PAP                 31046      216         -   \n",
       "\n",
       "   transaction_year  transaction_month  lease_year  \n",
       "0              1990                  1        1977  \n",
       "1              1990                  1        1977  \n",
       "2              1990                  1        1977  \n",
       "3              1990                  1        1977  \n",
       "4              1990                  1        1976  "
      ]
     },
     "execution_count": 5,
     "metadata": {},
     "output_type": "execute_result"
    }
   ],
   "source": [
    "X.head()"
   ]
  },
  {
   "cell_type": "code",
   "execution_count": 6,
   "id": "89696623-b211-45b0-bdc1-992b66296489",
   "metadata": {},
   "outputs": [
    {
     "data": {
      "text/plain": [
       "0     9000.0\n",
       "1     6000.0\n",
       "2     8000.0\n",
       "3     6000.0\n",
       "4    47200.0\n",
       "Name: resale_price, dtype: float64"
      ]
     },
     "execution_count": 6,
     "metadata": {},
     "output_type": "execute_result"
    }
   ],
   "source": [
    "y.head()"
   ]
  },
  {
   "cell_type": "markdown",
   "id": "95c9d2fd-6013-467b-8f03-0ecb6d8b70df",
   "metadata": {},
   "source": [
    "Remarks: X and y has been split"
   ]
  },
  {
   "cell_type": "markdown",
   "id": "864a04d9-1b1c-48e0-b019-806e1e8111af",
   "metadata": {
    "tags": []
   },
   "source": [
    "## Initiate train_test_split()"
   ]
  },
  {
   "cell_type": "code",
   "execution_count": 7,
   "id": "c269d04b-cecb-4088-8bcb-fa6a7703fb5a",
   "metadata": {},
   "outputs": [],
   "source": [
    "X_train, X_test, y_train, y_test = train_test_split(X, y, random_state=42)"
   ]
  },
  {
   "cell_type": "markdown",
   "id": "62aa6d7d-a01f-460d-b8b2-abe99b033177",
   "metadata": {},
   "source": [
    "Show split of train and test data"
   ]
  },
  {
   "cell_type": "code",
   "execution_count": 8,
   "id": "10ad447c-78b9-47eb-be66-124283227829",
   "metadata": {},
   "outputs": [
    {
     "name": "stdout",
     "output_type": "stream",
     "text": [
      "674251 224751\n"
     ]
    }
   ],
   "source": [
    "print(len(X_train), len(X_test))"
   ]
  },
  {
   "cell_type": "code",
   "execution_count": 9,
   "id": "8e9f60fa-be6f-4a8a-a3c4-bd98e568deb4",
   "metadata": {},
   "outputs": [
    {
     "name": "stdout",
     "output_type": "stream",
     "text": [
      "674251 224751\n"
     ]
    }
   ],
   "source": [
    "print(len(y_train),len(y_test) )"
   ]
  },
  {
   "cell_type": "code",
   "execution_count": 10,
   "id": "9691b96a-1e4c-4bf9-826b-c392a3f578d4",
   "metadata": {},
   "outputs": [],
   "source": [
    "# reset index\n",
    "X_train = X_train.reset_index(drop = True)\n",
    "X_test = X_test.reset_index(drop = True)"
   ]
  },
  {
   "cell_type": "markdown",
   "id": "b7bb9a3b-9eff-4b03-9b54-7db978de26ed",
   "metadata": {},
   "source": [
    "Remarks: Train test split was sucessful "
   ]
  },
  {
   "cell_type": "markdown",
   "id": "be9225c9-7699-420d-941f-7875f7366365",
   "metadata": {},
   "source": [
    "## Split X_train & X_test into categorical and numerical."
   ]
  },
  {
   "cell_type": "markdown",
   "id": "8fe39148-49dc-46be-9dc5-d3a104d441ff",
   "metadata": {},
   "source": [
    "### X_train"
   ]
  },
  {
   "cell_type": "code",
   "execution_count": 11,
   "id": "258fcf7e-2c40-463d-a9a0-d6f94d63ce32",
   "metadata": {},
   "outputs": [
    {
     "data": {
      "text/plain": [
       "Index(['town', 'flat_type', 'storey_range', 'floor_area_sqm', 'flat_model',\n",
       "       'political_parties', 'remaining_lease_days', 'blk_num', 'blk_alpha',\n",
       "       'transaction_year', 'transaction_month', 'lease_year'],\n",
       "      dtype='object')"
      ]
     },
     "execution_count": 11,
     "metadata": {},
     "output_type": "execute_result"
    }
   ],
   "source": [
    "columns = X_train.columns\n",
    "columns"
   ]
  },
  {
   "cell_type": "code",
   "execution_count": 12,
   "id": "903cc6ea-c22b-493b-928f-ea99b59404b3",
   "metadata": {},
   "outputs": [],
   "source": [
    "cat_X_train = pd.DataFrame()\n",
    "num_X_train = pd.DataFrame()\n",
    "for i in columns:\n",
    "    if 'object' == str(X_train[i].dtypes):\n",
    "        cat_X_train = pd.concat([cat_X_train, X_train[i]], axis = 1)\n",
    "    else:\n",
    "        num_X_train = pd.concat([num_X_train, X_train[i]], axis = 1)"
   ]
  },
  {
   "cell_type": "code",
   "execution_count": 13,
   "id": "b95ab4ae-ac1f-4ccb-b245-a0aa7bb4f905",
   "metadata": {},
   "outputs": [
    {
     "data": {
      "text/html": [
       "<div>\n",
       "<style scoped>\n",
       "    .dataframe tbody tr th:only-of-type {\n",
       "        vertical-align: middle;\n",
       "    }\n",
       "\n",
       "    .dataframe tbody tr th {\n",
       "        vertical-align: top;\n",
       "    }\n",
       "\n",
       "    .dataframe thead th {\n",
       "        text-align: right;\n",
       "    }\n",
       "</style>\n",
       "<table border=\"1\" class=\"dataframe\">\n",
       "  <thead>\n",
       "    <tr style=\"text-align: right;\">\n",
       "      <th></th>\n",
       "      <th>town</th>\n",
       "      <th>flat_type</th>\n",
       "      <th>storey_range</th>\n",
       "      <th>flat_model</th>\n",
       "      <th>political_parties</th>\n",
       "      <th>blk_alpha</th>\n",
       "    </tr>\n",
       "  </thead>\n",
       "  <tbody>\n",
       "    <tr>\n",
       "      <th>0</th>\n",
       "      <td>CLEMENTI</td>\n",
       "      <td>3 ROOM</td>\n",
       "      <td>07 TO 09</td>\n",
       "      <td>NEW GENERATION</td>\n",
       "      <td>PAP</td>\n",
       "      <td>-</td>\n",
       "    </tr>\n",
       "    <tr>\n",
       "      <th>1</th>\n",
       "      <td>JURONG WEST</td>\n",
       "      <td>4 ROOM</td>\n",
       "      <td>04 TO 06</td>\n",
       "      <td>IMPROVED</td>\n",
       "      <td>PAP</td>\n",
       "      <td>-</td>\n",
       "    </tr>\n",
       "    <tr>\n",
       "      <th>2</th>\n",
       "      <td>HOUGANG</td>\n",
       "      <td>4 ROOM</td>\n",
       "      <td>01 TO 03</td>\n",
       "      <td>MODEL A</td>\n",
       "      <td>WP</td>\n",
       "      <td>-</td>\n",
       "    </tr>\n",
       "    <tr>\n",
       "      <th>3</th>\n",
       "      <td>ANG MO KIO</td>\n",
       "      <td>3 ROOM</td>\n",
       "      <td>07 TO 09</td>\n",
       "      <td>NEW GENERATION</td>\n",
       "      <td>PAP</td>\n",
       "      <td>-</td>\n",
       "    </tr>\n",
       "    <tr>\n",
       "      <th>4</th>\n",
       "      <td>TOA PAYOH</td>\n",
       "      <td>4 ROOM</td>\n",
       "      <td>16 TO 18</td>\n",
       "      <td>IMPROVED</td>\n",
       "      <td>PAP</td>\n",
       "      <td>-</td>\n",
       "    </tr>\n",
       "  </tbody>\n",
       "</table>\n",
       "</div>"
      ],
      "text/plain": [
       "          town flat_type storey_range      flat_model political_parties  \\\n",
       "0     CLEMENTI    3 ROOM     07 TO 09  NEW GENERATION               PAP   \n",
       "1  JURONG WEST    4 ROOM     04 TO 06        IMPROVED               PAP   \n",
       "2      HOUGANG    4 ROOM     01 TO 03         MODEL A                WP   \n",
       "3   ANG MO KIO    3 ROOM     07 TO 09  NEW GENERATION               PAP   \n",
       "4    TOA PAYOH    4 ROOM     16 TO 18        IMPROVED               PAP   \n",
       "\n",
       "  blk_alpha  \n",
       "0         -  \n",
       "1         -  \n",
       "2         -  \n",
       "3         -  \n",
       "4         -  "
      ]
     },
     "execution_count": 13,
     "metadata": {},
     "output_type": "execute_result"
    }
   ],
   "source": [
    "cat_X_train.head()"
   ]
  },
  {
   "cell_type": "code",
   "execution_count": 14,
   "id": "bb6b4f59-2c6c-4ea0-83d2-fbac8406beac",
   "metadata": {
    "tags": []
   },
   "outputs": [
    {
     "data": {
      "text/html": [
       "<div>\n",
       "<style scoped>\n",
       "    .dataframe tbody tr th:only-of-type {\n",
       "        vertical-align: middle;\n",
       "    }\n",
       "\n",
       "    .dataframe tbody tr th {\n",
       "        vertical-align: top;\n",
       "    }\n",
       "\n",
       "    .dataframe thead th {\n",
       "        text-align: right;\n",
       "    }\n",
       "</style>\n",
       "<table border=\"1\" class=\"dataframe\">\n",
       "  <thead>\n",
       "    <tr style=\"text-align: right;\">\n",
       "      <th></th>\n",
       "      <th>floor_area_sqm</th>\n",
       "      <th>remaining_lease_days</th>\n",
       "      <th>blk_num</th>\n",
       "      <th>transaction_year</th>\n",
       "      <th>transaction_month</th>\n",
       "      <th>lease_year</th>\n",
       "    </tr>\n",
       "  </thead>\n",
       "  <tbody>\n",
       "    <tr>\n",
       "      <th>0</th>\n",
       "      <td>67.0</td>\n",
       "      <td>25294</td>\n",
       "      <td>306</td>\n",
       "      <td>2008</td>\n",
       "      <td>10</td>\n",
       "      <td>1979</td>\n",
       "    </tr>\n",
       "    <tr>\n",
       "      <th>1</th>\n",
       "      <td>87.0</td>\n",
       "      <td>27820</td>\n",
       "      <td>219</td>\n",
       "      <td>1997</td>\n",
       "      <td>11</td>\n",
       "      <td>1975</td>\n",
       "    </tr>\n",
       "    <tr>\n",
       "      <th>2</th>\n",
       "      <td>103.0</td>\n",
       "      <td>26451</td>\n",
       "      <td>130</td>\n",
       "      <td>2010</td>\n",
       "      <td>8</td>\n",
       "      <td>1984</td>\n",
       "    </tr>\n",
       "    <tr>\n",
       "      <th>3</th>\n",
       "      <td>68.0</td>\n",
       "      <td>31380</td>\n",
       "      <td>332</td>\n",
       "      <td>1994</td>\n",
       "      <td>2</td>\n",
       "      <td>1981</td>\n",
       "    </tr>\n",
       "    <tr>\n",
       "      <th>4</th>\n",
       "      <td>82.0</td>\n",
       "      <td>23011</td>\n",
       "      <td>227</td>\n",
       "      <td>2012</td>\n",
       "      <td>1</td>\n",
       "      <td>1976</td>\n",
       "    </tr>\n",
       "  </tbody>\n",
       "</table>\n",
       "</div>"
      ],
      "text/plain": [
       "   floor_area_sqm  remaining_lease_days  blk_num  transaction_year  \\\n",
       "0            67.0                 25294      306              2008   \n",
       "1            87.0                 27820      219              1997   \n",
       "2           103.0                 26451      130              2010   \n",
       "3            68.0                 31380      332              1994   \n",
       "4            82.0                 23011      227              2012   \n",
       "\n",
       "   transaction_month  lease_year  \n",
       "0                 10        1979  \n",
       "1                 11        1975  \n",
       "2                  8        1984  \n",
       "3                  2        1981  \n",
       "4                  1        1976  "
      ]
     },
     "execution_count": 14,
     "metadata": {},
     "output_type": "execute_result"
    }
   ],
   "source": [
    "num_X_train.head()"
   ]
  },
  {
   "cell_type": "markdown",
   "id": "ba5c53fe-76e4-43c5-887e-a29a33e12f26",
   "metadata": {},
   "source": [
    "As the dates are in continuous format, it would be best to not perform one hot encoding.\n",
    "Strategy: \n",
    "1. add date columns to X_train\n",
    "2. drop date columns from cat_X_train"
   ]
  },
  {
   "cell_type": "markdown",
   "id": "bf320811-ed3a-4e9f-b1c9-a37a5c872903",
   "metadata": {},
   "source": [
    "### X_test"
   ]
  },
  {
   "cell_type": "code",
   "execution_count": 15,
   "id": "586ce035-4ce5-479c-98e8-5aab655795a9",
   "metadata": {},
   "outputs": [
    {
     "data": {
      "text/plain": [
       "Index(['town', 'flat_type', 'storey_range', 'floor_area_sqm', 'flat_model',\n",
       "       'political_parties', 'remaining_lease_days', 'blk_num', 'blk_alpha',\n",
       "       'transaction_year', 'transaction_month', 'lease_year'],\n",
       "      dtype='object')"
      ]
     },
     "execution_count": 15,
     "metadata": {},
     "output_type": "execute_result"
    }
   ],
   "source": [
    "columns_test = X_test.columns\n",
    "columns_test"
   ]
  },
  {
   "cell_type": "code",
   "execution_count": 16,
   "id": "fcf05e96-a5b1-4e8e-82fd-11251d4815a4",
   "metadata": {},
   "outputs": [],
   "source": [
    "cat_X_test = pd.DataFrame()\n",
    "num_X_test = pd.DataFrame()\n",
    "for i in columns:\n",
    "    if 'object' == str(X_test[i].dtypes):\n",
    "        cat_X_test = pd.concat([cat_X_test, X_test[i]], axis = 1)\n",
    "    else:\n",
    "        num_X_test = pd.concat([num_X_test, X_test[i]], axis = 1)"
   ]
  },
  {
   "cell_type": "code",
   "execution_count": 17,
   "id": "1770664d-7789-4d8d-9d80-943d806bdb7b",
   "metadata": {},
   "outputs": [
    {
     "data": {
      "text/html": [
       "<div>\n",
       "<style scoped>\n",
       "    .dataframe tbody tr th:only-of-type {\n",
       "        vertical-align: middle;\n",
       "    }\n",
       "\n",
       "    .dataframe tbody tr th {\n",
       "        vertical-align: top;\n",
       "    }\n",
       "\n",
       "    .dataframe thead th {\n",
       "        text-align: right;\n",
       "    }\n",
       "</style>\n",
       "<table border=\"1\" class=\"dataframe\">\n",
       "  <thead>\n",
       "    <tr style=\"text-align: right;\">\n",
       "      <th></th>\n",
       "      <th>town</th>\n",
       "      <th>flat_type</th>\n",
       "      <th>storey_range</th>\n",
       "      <th>flat_model</th>\n",
       "      <th>political_parties</th>\n",
       "      <th>blk_alpha</th>\n",
       "    </tr>\n",
       "  </thead>\n",
       "  <tbody>\n",
       "    <tr>\n",
       "      <th>0</th>\n",
       "      <td>BUKIT BATOK</td>\n",
       "      <td>3 ROOM</td>\n",
       "      <td>07 TO 09</td>\n",
       "      <td>NEW GENERATION</td>\n",
       "      <td>PAP</td>\n",
       "      <td>-</td>\n",
       "    </tr>\n",
       "    <tr>\n",
       "      <th>1</th>\n",
       "      <td>JURONG EAST</td>\n",
       "      <td>3 ROOM</td>\n",
       "      <td>13 TO 15</td>\n",
       "      <td>IMPROVED</td>\n",
       "      <td>PAP</td>\n",
       "      <td>-</td>\n",
       "    </tr>\n",
       "    <tr>\n",
       "      <th>2</th>\n",
       "      <td>HOUGANG</td>\n",
       "      <td>4 ROOM</td>\n",
       "      <td>07 TO 09</td>\n",
       "      <td>SIMPLIFIED</td>\n",
       "      <td>WP</td>\n",
       "      <td>-</td>\n",
       "    </tr>\n",
       "    <tr>\n",
       "      <th>3</th>\n",
       "      <td>SENGKANG</td>\n",
       "      <td>3 ROOM</td>\n",
       "      <td>13 TO 15</td>\n",
       "      <td>MODEL A</td>\n",
       "      <td>PAP</td>\n",
       "      <td>C</td>\n",
       "    </tr>\n",
       "    <tr>\n",
       "      <th>4</th>\n",
       "      <td>KALLANG/WHAMPOA</td>\n",
       "      <td>4 ROOM</td>\n",
       "      <td>16 TO 18</td>\n",
       "      <td>MODEL A</td>\n",
       "      <td>PAP</td>\n",
       "      <td>-</td>\n",
       "    </tr>\n",
       "  </tbody>\n",
       "</table>\n",
       "</div>"
      ],
      "text/plain": [
       "              town flat_type storey_range      flat_model political_parties  \\\n",
       "0      BUKIT BATOK    3 ROOM     07 TO 09  NEW GENERATION               PAP   \n",
       "1      JURONG EAST    3 ROOM     13 TO 15        IMPROVED               PAP   \n",
       "2          HOUGANG    4 ROOM     07 TO 09      SIMPLIFIED                WP   \n",
       "3         SENGKANG    3 ROOM     13 TO 15         MODEL A               PAP   \n",
       "4  KALLANG/WHAMPOA    4 ROOM     16 TO 18         MODEL A               PAP   \n",
       "\n",
       "  blk_alpha  \n",
       "0         -  \n",
       "1         -  \n",
       "2         -  \n",
       "3         C  \n",
       "4         -  "
      ]
     },
     "execution_count": 17,
     "metadata": {},
     "output_type": "execute_result"
    }
   ],
   "source": [
    "cat_X_test.head()"
   ]
  },
  {
   "cell_type": "code",
   "execution_count": 18,
   "id": "97ff01d7-d093-4f97-ad4a-f242550561a0",
   "metadata": {},
   "outputs": [
    {
     "data": {
      "text/html": [
       "<div>\n",
       "<style scoped>\n",
       "    .dataframe tbody tr th:only-of-type {\n",
       "        vertical-align: middle;\n",
       "    }\n",
       "\n",
       "    .dataframe tbody tr th {\n",
       "        vertical-align: top;\n",
       "    }\n",
       "\n",
       "    .dataframe thead th {\n",
       "        text-align: right;\n",
       "    }\n",
       "</style>\n",
       "<table border=\"1\" class=\"dataframe\">\n",
       "  <thead>\n",
       "    <tr style=\"text-align: right;\">\n",
       "      <th></th>\n",
       "      <th>floor_area_sqm</th>\n",
       "      <th>remaining_lease_days</th>\n",
       "      <th>blk_num</th>\n",
       "      <th>transaction_year</th>\n",
       "      <th>transaction_month</th>\n",
       "      <th>lease_year</th>\n",
       "    </tr>\n",
       "  </thead>\n",
       "  <tbody>\n",
       "    <tr>\n",
       "      <th>0</th>\n",
       "      <td>68.0</td>\n",
       "      <td>31991</td>\n",
       "      <td>364</td>\n",
       "      <td>1998</td>\n",
       "      <td>6</td>\n",
       "      <td>1987</td>\n",
       "    </tr>\n",
       "    <tr>\n",
       "      <th>1</th>\n",
       "      <td>77.0</td>\n",
       "      <td>21884</td>\n",
       "      <td>33</td>\n",
       "      <td>2016</td>\n",
       "      <td>2</td>\n",
       "      <td>1977</td>\n",
       "    </tr>\n",
       "    <tr>\n",
       "      <th>2</th>\n",
       "      <td>84.0</td>\n",
       "      <td>28947</td>\n",
       "      <td>636</td>\n",
       "      <td>2006</td>\n",
       "      <td>10</td>\n",
       "      <td>1987</td>\n",
       "    </tr>\n",
       "    <tr>\n",
       "      <th>3</th>\n",
       "      <td>67.0</td>\n",
       "      <td>34089</td>\n",
       "      <td>443</td>\n",
       "      <td>2017</td>\n",
       "      <td>9</td>\n",
       "      <td>2012</td>\n",
       "    </tr>\n",
       "    <tr>\n",
       "      <th>4</th>\n",
       "      <td>90.0</td>\n",
       "      <td>34028</td>\n",
       "      <td>13</td>\n",
       "      <td>2009</td>\n",
       "      <td>11</td>\n",
       "      <td>2004</td>\n",
       "    </tr>\n",
       "  </tbody>\n",
       "</table>\n",
       "</div>"
      ],
      "text/plain": [
       "   floor_area_sqm  remaining_lease_days  blk_num  transaction_year  \\\n",
       "0            68.0                 31991      364              1998   \n",
       "1            77.0                 21884       33              2016   \n",
       "2            84.0                 28947      636              2006   \n",
       "3            67.0                 34089      443              2017   \n",
       "4            90.0                 34028       13              2009   \n",
       "\n",
       "   transaction_month  lease_year  \n",
       "0                  6        1987  \n",
       "1                  2        1977  \n",
       "2                 10        1987  \n",
       "3                  9        2012  \n",
       "4                 11        2004  "
      ]
     },
     "execution_count": 18,
     "metadata": {},
     "output_type": "execute_result"
    }
   ],
   "source": [
    "num_X_test.head()"
   ]
  },
  {
   "cell_type": "markdown",
   "id": "1d488b9d-f9f1-4af1-b5c7-8c09784a6cd5",
   "metadata": {},
   "source": [
    "As the dates are in continuous format, it would be best to not perform one hot encoding.\n",
    "Strategy: \n",
    "1. add date columns to X_train\n",
    "2. drop date columns from cat_X_train"
   ]
  },
  {
   "cell_type": "code",
   "execution_count": 19,
   "id": "dd7e1f1d-eaa5-49b8-846d-e41a3d6dbd1a",
   "metadata": {},
   "outputs": [
    {
     "name": "stdout",
     "output_type": "stream",
     "text": [
      "(224751, 6)\n",
      "(224751, 6)\n"
     ]
    }
   ],
   "source": [
    "print(cat_X_test.shape)\n",
    "print(num_X_test.shape)"
   ]
  },
  {
   "cell_type": "markdown",
   "id": "63fde465-195a-450b-96e0-f2614de4ce91",
   "metadata": {},
   "source": [
    "Remarks: columns have been split into categorical and numerical dataframes"
   ]
  },
  {
   "cell_type": "markdown",
   "id": "9dfdb950-4f05-434f-8109-aa86ccc9c90e",
   "metadata": {
    "tags": []
   },
   "source": [
    "## OneHotEncoder for cat_X_train & cat_X_test"
   ]
  },
  {
   "cell_type": "code",
   "execution_count": 20,
   "id": "836b535e-663a-463d-9f26-2a7dd43ab820",
   "metadata": {},
   "outputs": [
    {
     "name": "stdout",
     "output_type": "stream",
     "text": [
      "(674251, 6) (224751, 6)\n"
     ]
    }
   ],
   "source": [
    "print(cat_X_train.shape , cat_X_test.shape)"
   ]
  },
  {
   "cell_type": "code",
   "execution_count": 21,
   "id": "4c6ed7c6-5919-4f00-910b-39763de6b762",
   "metadata": {},
   "outputs": [],
   "source": [
    "encoder = OneHotEncoder()"
   ]
  },
  {
   "cell_type": "code",
   "execution_count": 22,
   "id": "5c159f49-87f8-47bd-9fa4-35f0b4118d7b",
   "metadata": {},
   "outputs": [],
   "source": [
    "X_train_encoded = encoder.fit_transform(cat_X_train)\n",
    "X_test_encoded = encoder.transform(cat_X_test)"
   ]
  },
  {
   "cell_type": "markdown",
   "id": "93b3cf10-db68-4c35-a7c1-a1217e90722a",
   "metadata": {},
   "source": [
    "Remarks: OneHotEncoder have been created."
   ]
  },
  {
   "cell_type": "markdown",
   "id": "c26a3ced-b99a-4d48-80d4-4604db5d85c1",
   "metadata": {
    "tags": []
   },
   "source": [
    "## Combine num_X and cat_X into X"
   ]
  },
  {
   "cell_type": "code",
   "execution_count": 23,
   "id": "eab376ae-f650-4123-9910-70a20e623842",
   "metadata": {},
   "outputs": [],
   "source": [
    "X_train_encoded_df = pd.DataFrame.sparse.from_spmatrix(X_train_encoded)\n",
    "X_test_encoded_df = pd.DataFrame.sparse.from_spmatrix(X_test_encoded)"
   ]
  },
  {
   "cell_type": "code",
   "execution_count": 24,
   "id": "024ee8bb-5d36-444a-b982-9b459361f33a",
   "metadata": {},
   "outputs": [
    {
     "name": "stdout",
     "output_type": "stream",
     "text": [
      "(674251, 93) (224751, 93)\n"
     ]
    }
   ],
   "source": [
    "print(X_train_encoded_df.shape, X_test_encoded_df.shape)"
   ]
  },
  {
   "cell_type": "code",
   "execution_count": 25,
   "id": "d59cff85-213a-4da0-b93c-c0ea090599a8",
   "metadata": {
    "tags": []
   },
   "outputs": [],
   "source": [
    "X_train = pd.concat([num_X_train, X_train_encoded_df], axis = 1)\n",
    "X_test = pd.concat([num_X_test, X_test_encoded_df], axis = 1)"
   ]
  },
  {
   "cell_type": "code",
   "execution_count": 26,
   "id": "913f6128-e434-4b50-bec9-2e68b77ebdc0",
   "metadata": {},
   "outputs": [
    {
     "name": "stdout",
     "output_type": "stream",
     "text": [
      "(674251, 99)\n",
      "(224751, 99)\n"
     ]
    }
   ],
   "source": [
    "print(X_train.shape)\n",
    "print(X_test.shape)"
   ]
  },
  {
   "cell_type": "markdown",
   "id": "2ae7ceb1-b0d3-44c3-abcd-d2a25f33f6cb",
   "metadata": {},
   "source": [
    "Remarks: Columns has been concat."
   ]
  },
  {
   "cell_type": "markdown",
   "id": "6215dad4-ec03-48b9-8b98-1bc36448ea92",
   "metadata": {
    "tags": []
   },
   "source": [
    "## Scaling of Train & Test data"
   ]
  },
  {
   "cell_type": "code",
   "execution_count": 27,
   "id": "0e70ca63-bfd7-4046-81a6-f7b91971416e",
   "metadata": {},
   "outputs": [],
   "source": [
    "X_train.columns = X_train.columns.astype(str)\n",
    "X_test.columns = X_test.columns.astype(str)"
   ]
  },
  {
   "cell_type": "code",
   "execution_count": 28,
   "id": "1b2908f8-0fd9-4c43-bfe1-2ad6639f451a",
   "metadata": {},
   "outputs": [
    {
     "name": "stderr",
     "output_type": "stream",
     "text": [
      "C:\\Users\\johnk\\mambaforge\\lib\\site-packages\\sklearn\\utils\\validation.py:768: UserWarning: pandas.DataFrame with sparse columns found.It will be converted to a dense numpy array.\n",
      "  warnings.warn(\n",
      "C:\\Users\\johnk\\mambaforge\\lib\\site-packages\\sklearn\\utils\\validation.py:768: UserWarning: pandas.DataFrame with sparse columns found.It will be converted to a dense numpy array.\n",
      "  warnings.warn(\n",
      "C:\\Users\\johnk\\mambaforge\\lib\\site-packages\\sklearn\\utils\\validation.py:768: UserWarning: pandas.DataFrame with sparse columns found.It will be converted to a dense numpy array.\n",
      "  warnings.warn(\n"
     ]
    }
   ],
   "source": [
    "sc = StandardScaler()\n",
    "Z_train = sc.fit_transform(X_train)\n",
    "Z_test = sc.transform(X_test)"
   ]
  },
  {
   "cell_type": "markdown",
   "id": "a60e09da-fee6-46e1-9565-49028c2a9c26",
   "metadata": {},
   "source": [
    "## Models"
   ]
  },
  {
   "cell_type": "markdown",
   "id": "41e5cf6f-1458-45c4-ace9-c7e168f986df",
   "metadata": {},
   "source": [
    "### Ridge CV"
   ]
  },
  {
   "cell_type": "code",
   "execution_count": 29,
   "id": "4dc7dd67-cd3f-4e6b-8bf6-f76f8df7235f",
   "metadata": {},
   "outputs": [],
   "source": [
    "rcv = RidgeCV()"
   ]
  },
  {
   "cell_type": "code",
   "execution_count": 30,
   "id": "c2e3a2f1-f4fb-457e-a3b0-8d15f7df7af8",
   "metadata": {},
   "outputs": [],
   "source": [
    "pipe_rcv_gs = Pipeline([('sc',sc),('rcv',rcv)])"
   ]
  },
  {
   "cell_type": "code",
   "execution_count": 34,
   "id": "d9a37708-99ec-46b1-85e1-c2ba9259fba1",
   "metadata": {},
   "outputs": [],
   "source": [
    "pipe_rcv_gs_params = {'rcv__alphas':[0.1, 1.0, 10.0]}"
   ]
  },
  {
   "cell_type": "code",
   "execution_count": 35,
   "id": "85b7b258-3ebf-45b3-8cbf-42df83a8acd3",
   "metadata": {},
   "outputs": [],
   "source": [
    "rcv_gs = GridSearchCV(pipe_rcv_gs, pipe_rcv_gs_params, cv=5, verbose=1, error_score='raise')"
   ]
  },
  {
   "cell_type": "code",
   "execution_count": 36,
   "id": "6bea110c-99fd-4ebc-89a5-fb1aa344c806",
   "metadata": {
    "scrolled": true,
    "tags": []
   },
   "outputs": [
    {
     "name": "stdout",
     "output_type": "stream",
     "text": [
      "Fitting 5 folds for each of 3 candidates, totalling 15 fits\n"
     ]
    },
    {
     "name": "stderr",
     "output_type": "stream",
     "text": [
      "C:\\Users\\johnk\\mambaforge\\lib\\site-packages\\sklearn\\utils\\validation.py:768: UserWarning: pandas.DataFrame with sparse columns found.It will be converted to a dense numpy array.\n",
      "  warnings.warn(\n",
      "C:\\Users\\johnk\\mambaforge\\lib\\site-packages\\sklearn\\utils\\validation.py:768: UserWarning: pandas.DataFrame with sparse columns found.It will be converted to a dense numpy array.\n",
      "  warnings.warn(\n",
      "C:\\Users\\johnk\\mambaforge\\lib\\site-packages\\sklearn\\utils\\validation.py:768: UserWarning: pandas.DataFrame with sparse columns found.It will be converted to a dense numpy array.\n",
      "  warnings.warn(\n",
      "C:\\Users\\johnk\\mambaforge\\lib\\site-packages\\sklearn\\utils\\validation.py:768: UserWarning: pandas.DataFrame with sparse columns found.It will be converted to a dense numpy array.\n",
      "  warnings.warn(\n",
      "C:\\Users\\johnk\\mambaforge\\lib\\site-packages\\sklearn\\utils\\validation.py:768: UserWarning: pandas.DataFrame with sparse columns found.It will be converted to a dense numpy array.\n",
      "  warnings.warn(\n",
      "C:\\Users\\johnk\\mambaforge\\lib\\site-packages\\sklearn\\utils\\validation.py:768: UserWarning: pandas.DataFrame with sparse columns found.It will be converted to a dense numpy array.\n",
      "  warnings.warn(\n",
      "C:\\Users\\johnk\\mambaforge\\lib\\site-packages\\sklearn\\utils\\validation.py:768: UserWarning: pandas.DataFrame with sparse columns found.It will be converted to a dense numpy array.\n",
      "  warnings.warn(\n",
      "C:\\Users\\johnk\\mambaforge\\lib\\site-packages\\sklearn\\utils\\validation.py:768: UserWarning: pandas.DataFrame with sparse columns found.It will be converted to a dense numpy array.\n",
      "  warnings.warn(\n",
      "C:\\Users\\johnk\\mambaforge\\lib\\site-packages\\sklearn\\utils\\validation.py:768: UserWarning: pandas.DataFrame with sparse columns found.It will be converted to a dense numpy array.\n",
      "  warnings.warn(\n",
      "C:\\Users\\johnk\\mambaforge\\lib\\site-packages\\sklearn\\utils\\validation.py:768: UserWarning: pandas.DataFrame with sparse columns found.It will be converted to a dense numpy array.\n",
      "  warnings.warn(\n",
      "C:\\Users\\johnk\\mambaforge\\lib\\site-packages\\sklearn\\utils\\validation.py:768: UserWarning: pandas.DataFrame with sparse columns found.It will be converted to a dense numpy array.\n",
      "  warnings.warn(\n",
      "C:\\Users\\johnk\\mambaforge\\lib\\site-packages\\sklearn\\utils\\validation.py:768: UserWarning: pandas.DataFrame with sparse columns found.It will be converted to a dense numpy array.\n",
      "  warnings.warn(\n",
      "C:\\Users\\johnk\\mambaforge\\lib\\site-packages\\sklearn\\utils\\validation.py:768: UserWarning: pandas.DataFrame with sparse columns found.It will be converted to a dense numpy array.\n",
      "  warnings.warn(\n",
      "C:\\Users\\johnk\\mambaforge\\lib\\site-packages\\sklearn\\utils\\validation.py:768: UserWarning: pandas.DataFrame with sparse columns found.It will be converted to a dense numpy array.\n",
      "  warnings.warn(\n",
      "C:\\Users\\johnk\\mambaforge\\lib\\site-packages\\sklearn\\utils\\validation.py:768: UserWarning: pandas.DataFrame with sparse columns found.It will be converted to a dense numpy array.\n",
      "  warnings.warn(\n",
      "C:\\Users\\johnk\\mambaforge\\lib\\site-packages\\sklearn\\utils\\validation.py:768: UserWarning: pandas.DataFrame with sparse columns found.It will be converted to a dense numpy array.\n",
      "  warnings.warn(\n",
      "C:\\Users\\johnk\\mambaforge\\lib\\site-packages\\sklearn\\utils\\validation.py:768: UserWarning: pandas.DataFrame with sparse columns found.It will be converted to a dense numpy array.\n",
      "  warnings.warn(\n",
      "C:\\Users\\johnk\\mambaforge\\lib\\site-packages\\sklearn\\utils\\validation.py:768: UserWarning: pandas.DataFrame with sparse columns found.It will be converted to a dense numpy array.\n",
      "  warnings.warn(\n",
      "C:\\Users\\johnk\\mambaforge\\lib\\site-packages\\sklearn\\utils\\validation.py:768: UserWarning: pandas.DataFrame with sparse columns found.It will be converted to a dense numpy array.\n",
      "  warnings.warn(\n",
      "C:\\Users\\johnk\\mambaforge\\lib\\site-packages\\sklearn\\utils\\validation.py:768: UserWarning: pandas.DataFrame with sparse columns found.It will be converted to a dense numpy array.\n",
      "  warnings.warn(\n",
      "C:\\Users\\johnk\\mambaforge\\lib\\site-packages\\sklearn\\utils\\validation.py:768: UserWarning: pandas.DataFrame with sparse columns found.It will be converted to a dense numpy array.\n",
      "  warnings.warn(\n",
      "C:\\Users\\johnk\\mambaforge\\lib\\site-packages\\sklearn\\utils\\validation.py:768: UserWarning: pandas.DataFrame with sparse columns found.It will be converted to a dense numpy array.\n",
      "  warnings.warn(\n",
      "C:\\Users\\johnk\\mambaforge\\lib\\site-packages\\sklearn\\utils\\validation.py:768: UserWarning: pandas.DataFrame with sparse columns found.It will be converted to a dense numpy array.\n",
      "  warnings.warn(\n",
      "C:\\Users\\johnk\\mambaforge\\lib\\site-packages\\sklearn\\utils\\validation.py:768: UserWarning: pandas.DataFrame with sparse columns found.It will be converted to a dense numpy array.\n",
      "  warnings.warn(\n",
      "C:\\Users\\johnk\\mambaforge\\lib\\site-packages\\sklearn\\utils\\validation.py:768: UserWarning: pandas.DataFrame with sparse columns found.It will be converted to a dense numpy array.\n",
      "  warnings.warn(\n",
      "C:\\Users\\johnk\\mambaforge\\lib\\site-packages\\sklearn\\utils\\validation.py:768: UserWarning: pandas.DataFrame with sparse columns found.It will be converted to a dense numpy array.\n",
      "  warnings.warn(\n",
      "C:\\Users\\johnk\\mambaforge\\lib\\site-packages\\sklearn\\utils\\validation.py:768: UserWarning: pandas.DataFrame with sparse columns found.It will be converted to a dense numpy array.\n",
      "  warnings.warn(\n",
      "C:\\Users\\johnk\\mambaforge\\lib\\site-packages\\sklearn\\utils\\validation.py:768: UserWarning: pandas.DataFrame with sparse columns found.It will be converted to a dense numpy array.\n",
      "  warnings.warn(\n",
      "C:\\Users\\johnk\\mambaforge\\lib\\site-packages\\sklearn\\utils\\validation.py:768: UserWarning: pandas.DataFrame with sparse columns found.It will be converted to a dense numpy array.\n",
      "  warnings.warn(\n",
      "C:\\Users\\johnk\\mambaforge\\lib\\site-packages\\sklearn\\utils\\validation.py:768: UserWarning: pandas.DataFrame with sparse columns found.It will be converted to a dense numpy array.\n",
      "  warnings.warn(\n",
      "C:\\Users\\johnk\\mambaforge\\lib\\site-packages\\sklearn\\utils\\validation.py:768: UserWarning: pandas.DataFrame with sparse columns found.It will be converted to a dense numpy array.\n",
      "  warnings.warn(\n",
      "C:\\Users\\johnk\\mambaforge\\lib\\site-packages\\sklearn\\utils\\validation.py:768: UserWarning: pandas.DataFrame with sparse columns found.It will be converted to a dense numpy array.\n",
      "  warnings.warn(\n",
      "C:\\Users\\johnk\\mambaforge\\lib\\site-packages\\sklearn\\utils\\validation.py:768: UserWarning: pandas.DataFrame with sparse columns found.It will be converted to a dense numpy array.\n",
      "  warnings.warn(\n",
      "C:\\Users\\johnk\\mambaforge\\lib\\site-packages\\sklearn\\utils\\validation.py:768: UserWarning: pandas.DataFrame with sparse columns found.It will be converted to a dense numpy array.\n",
      "  warnings.warn(\n",
      "C:\\Users\\johnk\\mambaforge\\lib\\site-packages\\sklearn\\utils\\validation.py:768: UserWarning: pandas.DataFrame with sparse columns found.It will be converted to a dense numpy array.\n",
      "  warnings.warn(\n",
      "C:\\Users\\johnk\\mambaforge\\lib\\site-packages\\sklearn\\utils\\validation.py:768: UserWarning: pandas.DataFrame with sparse columns found.It will be converted to a dense numpy array.\n",
      "  warnings.warn(\n",
      "C:\\Users\\johnk\\mambaforge\\lib\\site-packages\\sklearn\\utils\\validation.py:768: UserWarning: pandas.DataFrame with sparse columns found.It will be converted to a dense numpy array.\n",
      "  warnings.warn(\n",
      "C:\\Users\\johnk\\mambaforge\\lib\\site-packages\\sklearn\\utils\\validation.py:768: UserWarning: pandas.DataFrame with sparse columns found.It will be converted to a dense numpy array.\n",
      "  warnings.warn(\n",
      "C:\\Users\\johnk\\mambaforge\\lib\\site-packages\\sklearn\\utils\\validation.py:768: UserWarning: pandas.DataFrame with sparse columns found.It will be converted to a dense numpy array.\n",
      "  warnings.warn(\n",
      "C:\\Users\\johnk\\mambaforge\\lib\\site-packages\\sklearn\\utils\\validation.py:768: UserWarning: pandas.DataFrame with sparse columns found.It will be converted to a dense numpy array.\n",
      "  warnings.warn(\n",
      "C:\\Users\\johnk\\mambaforge\\lib\\site-packages\\sklearn\\utils\\validation.py:768: UserWarning: pandas.DataFrame with sparse columns found.It will be converted to a dense numpy array.\n",
      "  warnings.warn(\n",
      "C:\\Users\\johnk\\mambaforge\\lib\\site-packages\\sklearn\\utils\\validation.py:768: UserWarning: pandas.DataFrame with sparse columns found.It will be converted to a dense numpy array.\n",
      "  warnings.warn(\n",
      "C:\\Users\\johnk\\mambaforge\\lib\\site-packages\\sklearn\\utils\\validation.py:768: UserWarning: pandas.DataFrame with sparse columns found.It will be converted to a dense numpy array.\n",
      "  warnings.warn(\n",
      "C:\\Users\\johnk\\mambaforge\\lib\\site-packages\\sklearn\\utils\\validation.py:768: UserWarning: pandas.DataFrame with sparse columns found.It will be converted to a dense numpy array.\n",
      "  warnings.warn(\n",
      "C:\\Users\\johnk\\mambaforge\\lib\\site-packages\\sklearn\\utils\\validation.py:768: UserWarning: pandas.DataFrame with sparse columns found.It will be converted to a dense numpy array.\n",
      "  warnings.warn(\n",
      "C:\\Users\\johnk\\mambaforge\\lib\\site-packages\\sklearn\\utils\\validation.py:768: UserWarning: pandas.DataFrame with sparse columns found.It will be converted to a dense numpy array.\n",
      "  warnings.warn(\n",
      "C:\\Users\\johnk\\mambaforge\\lib\\site-packages\\sklearn\\utils\\validation.py:768: UserWarning: pandas.DataFrame with sparse columns found.It will be converted to a dense numpy array.\n",
      "  warnings.warn(\n"
     ]
    }
   ],
   "source": [
    "rcv_model = rcv_gs.fit(X_train, y_train);"
   ]
  },
  {
   "cell_type": "code",
   "execution_count": 37,
   "id": "ed3844ec-774a-4e9c-802c-95b5e4efd59b",
   "metadata": {},
   "outputs": [
    {
     "data": {
      "text/plain": [
       "{'rcv__alphas': 0.1}"
      ]
     },
     "execution_count": 37,
     "metadata": {},
     "output_type": "execute_result"
    }
   ],
   "source": [
    "rcv_gs.best_params_"
   ]
  },
  {
   "cell_type": "code",
   "execution_count": 38,
   "id": "fd5a6689-affe-4470-a703-403ecf46c03f",
   "metadata": {},
   "outputs": [
    {
     "name": "stderr",
     "output_type": "stream",
     "text": [
      "C:\\Users\\johnk\\mambaforge\\lib\\site-packages\\sklearn\\utils\\validation.py:768: UserWarning: pandas.DataFrame with sparse columns found.It will be converted to a dense numpy array.\n",
      "  warnings.warn(\n"
     ]
    },
    {
     "data": {
      "text/plain": [
       "0.8365889161761378"
      ]
     },
     "execution_count": 38,
     "metadata": {},
     "output_type": "execute_result"
    }
   ],
   "source": [
    "rcv_gs.score(X_test,y_test)"
   ]
  },
  {
   "cell_type": "code",
   "execution_count": 39,
   "id": "b210df02-7ef5-435a-956e-c5bc5fc986a4",
   "metadata": {},
   "outputs": [
    {
     "name": "stderr",
     "output_type": "stream",
     "text": [
      "C:\\Users\\johnk\\mambaforge\\lib\\site-packages\\sklearn\\utils\\validation.py:768: UserWarning: pandas.DataFrame with sparse columns found.It will be converted to a dense numpy array.\n",
      "  warnings.warn(\n"
     ]
    },
    {
     "data": {
      "text/plain": [
       "0.8364671290103121"
      ]
     },
     "execution_count": 39,
     "metadata": {},
     "output_type": "execute_result"
    }
   ],
   "source": [
    "rcv_gs.score(X_train,y_train)"
   ]
  },
  {
   "cell_type": "code",
   "execution_count": 40,
   "id": "ab6b21fe-0a06-4dbe-96bc-f15bce13579c",
   "metadata": {},
   "outputs": [
    {
     "name": "stderr",
     "output_type": "stream",
     "text": [
      "C:\\Users\\johnk\\mambaforge\\lib\\site-packages\\sklearn\\utils\\validation.py:768: UserWarning: pandas.DataFrame with sparse columns found.It will be converted to a dense numpy array.\n",
      "  warnings.warn(\n"
     ]
    }
   ],
   "source": [
    "rcv_pred = rcv_model.predict(X_test)"
   ]
  },
  {
   "cell_type": "code",
   "execution_count": 41,
   "id": "eea50f06-ea9c-4b30-95b5-b404d7b4739d",
   "metadata": {},
   "outputs": [
    {
     "data": {
      "text/plain": [
       "66036.12085095294"
      ]
     },
     "execution_count": 41,
     "metadata": {},
     "output_type": "execute_result"
    }
   ],
   "source": [
    "np.sqrt(metrics.mean_squared_error(y_test, rcv_pred))"
   ]
  },
  {
   "cell_type": "code",
   "execution_count": 44,
   "id": "6fc54ca8-c374-465d-98fb-e9444777fe7c",
   "metadata": {},
   "outputs": [],
   "source": [
    "rcv_y_test = y_test.reset_index(drop=True)"
   ]
  },
  {
   "cell_type": "code",
   "execution_count": 45,
   "id": "e98c346b-3a62-468a-b04e-3409d8614c2e",
   "metadata": {},
   "outputs": [],
   "source": [
    "rcv_pred_df = pd.DataFrame(rcv_y_test)"
   ]
  },
  {
   "cell_type": "code",
   "execution_count": 46,
   "id": "268f3c09-bfcf-4ced-a463-0f51ae533673",
   "metadata": {},
   "outputs": [
    {
     "data": {
      "text/html": [
       "<div>\n",
       "<style scoped>\n",
       "    .dataframe tbody tr th:only-of-type {\n",
       "        vertical-align: middle;\n",
       "    }\n",
       "\n",
       "    .dataframe tbody tr th {\n",
       "        vertical-align: top;\n",
       "    }\n",
       "\n",
       "    .dataframe thead th {\n",
       "        text-align: right;\n",
       "    }\n",
       "</style>\n",
       "<table border=\"1\" class=\"dataframe\">\n",
       "  <thead>\n",
       "    <tr style=\"text-align: right;\">\n",
       "      <th></th>\n",
       "      <th>resale_price</th>\n",
       "    </tr>\n",
       "  </thead>\n",
       "  <tbody>\n",
       "    <tr>\n",
       "      <th>0</th>\n",
       "      <td>139000.0</td>\n",
       "    </tr>\n",
       "    <tr>\n",
       "      <th>1</th>\n",
       "      <td>303000.0</td>\n",
       "    </tr>\n",
       "    <tr>\n",
       "      <th>2</th>\n",
       "      <td>186000.0</td>\n",
       "    </tr>\n",
       "    <tr>\n",
       "      <th>3</th>\n",
       "      <td>330000.0</td>\n",
       "    </tr>\n",
       "    <tr>\n",
       "      <th>4</th>\n",
       "      <td>500000.0</td>\n",
       "    </tr>\n",
       "  </tbody>\n",
       "</table>\n",
       "</div>"
      ],
      "text/plain": [
       "   resale_price\n",
       "0      139000.0\n",
       "1      303000.0\n",
       "2      186000.0\n",
       "3      330000.0\n",
       "4      500000.0"
      ]
     },
     "execution_count": 46,
     "metadata": {},
     "output_type": "execute_result"
    }
   ],
   "source": [
    "rcv_pred_df.head()"
   ]
  },
  {
   "cell_type": "code",
   "execution_count": 49,
   "id": "37084b1a-fc74-49c8-a7ee-de69c9676018",
   "metadata": {},
   "outputs": [],
   "source": [
    "rcv_df = pd.concat([rcv_pred_df, pd.DataFrame({'model_predictions': rcv_pred})], axis = 1)"
   ]
  },
  {
   "cell_type": "code",
   "execution_count": null,
   "id": "6a5c7220-fba4-49a9-9284-3c0dd5906131",
   "metadata": {},
   "outputs": [],
   "source": []
  },
  {
   "cell_type": "code",
   "execution_count": 178,
   "id": "9b6b64cb-3d73-40a6-a69e-d32582ed1a78",
   "metadata": {},
   "outputs": [
    {
     "data": {
      "image/png": "[encoded data removed]",
      "text/plain": [
       "<Figure size 432x288 with 1 Axes>"
      ]
     },
     "metadata": {
      "needs_background": "light"
     },
     "output_type": "display_data"
    }
   ],
   "source": [
    "sns.scatterplot(x=rcv_df['resale_price'], y=rcv_df['model_predictions'])\n",
    "plt.plot([min(rcv_df['resale_price']), max(rcv_df['resale_price'])], [min(rcv_df['model_predictions']), max(rcv_df['model_predictions'])], color='red', linestyle='--')\n",
    "plt.title('True Resale Prices vs Model Predictions')\n",
    "plt.xlabel('True Resale Prices')\n",
    "plt.ylabel('Model Predictions')\n",
    "plt.show()"
   ]
  },
  {
   "cell_type": "markdown",
   "id": "c576f633-75f2-4356-a588-34c4ee64407c",
   "metadata": {},
   "source": [
    "The observation of a systematic bias in the predicted values against the true values indicates that the model, similar to the base model, consistently deviates from the ideal linear relationship. This bias suggests that the model has a tendency to either overestimate or underestimate the true values consistently. This could be a result of various factors such as the model's underlying assumptions or limitations in capturing the complexity of the data.\n",
    "\n",
    "Furthermore, the scatter of data points around the diagonal line indicates the presence of prediction error. The scattered distribution of points suggests that there is a degree of variability or uncertainty in the model's predictions. The prediction error could stem from various sources, including the model's inability to capture all relevant features or the presence of unaccounted-for noise in the data."
   ]
  },
  {
   "cell_type": "markdown",
   "id": "f461aca5-e3ac-4993-bf12-48befb1d065d",
   "metadata": {},
   "source": [
    "#### Observations"
   ]
  },
  {
   "cell_type": "markdown",
   "id": "bd17783f-bdfd-4f1f-af31-b8441bb4bde5",
   "metadata": {},
   "source": [
    "Hyperparameter tuning was conducted on the RidgeCV model, resulting in a train score and test score both standing at 83.6%. This parity suggests that the model is not suffering from overfitting or underfitting issues. However, upon evaluating the root mean squared error (RMSE) score of the tuned RidgeCV model, it was found to be slightly higher than that of the base model, measuring at 66,036. Consequently, it can be concluded that although the model's fitting appears to be satisfactory, there is still room for improvement in terms of predictive accuracy. The R^2 scores and RMSE scores can be further enhanced through additional experimentation and refinement of the model's hyperparameters, potentially leading to a more accurate and precise model for the given task."
   ]
  },
  {
   "cell_type": "markdown",
   "id": "1f89302f-c16a-4cb6-8eec-b3799e2be0cc",
   "metadata": {},
   "source": [
    "### Lasso CV"
   ]
  },
  {
   "cell_type": "code",
   "execution_count": 51,
   "id": "d2864abc-db47-4dbf-ad68-2b338fd280ed",
   "metadata": {},
   "outputs": [],
   "source": [
    "lcv = LassoCV()"
   ]
  },
  {
   "cell_type": "code",
   "execution_count": 52,
   "id": "eb5c9400-8c8e-480b-8589-fd10b6c16e08",
   "metadata": {},
   "outputs": [],
   "source": [
    "pipe_lcv_gs = Pipeline([('sc',sc),('lcv',lcv)])"
   ]
  },
  {
   "cell_type": "code",
   "execution_count": 53,
   "id": "44589921-1d4e-4892-bc01-e65dfef53789",
   "metadata": {},
   "outputs": [],
   "source": [
    "pipe_lcv_gs_params = {'lcv__n_alphas':[1, 10, 50, 100],\n",
    "                     'lcv__random_state':[42]}"
   ]
  },
  {
   "cell_type": "code",
   "execution_count": 54,
   "id": "e1cfe441-9e71-4770-97a7-136b535a4b05",
   "metadata": {},
   "outputs": [],
   "source": [
    "lcv_gs = GridSearchCV(pipe_lcv_gs, pipe_lcv_gs_params, cv=5, verbose=1, error_score='raise')"
   ]
  },
  {
   "cell_type": "code",
   "execution_count": 55,
   "id": "82cb0fc0-c741-4a02-9113-9d3194a83e90",
   "metadata": {
    "scrolled": true,
    "tags": []
   },
   "outputs": [
    {
     "name": "stdout",
     "output_type": "stream",
     "text": [
      "Fitting 5 folds for each of 4 candidates, totalling 20 fits\n"
     ]
    },
    {
     "name": "stderr",
     "output_type": "stream",
     "text": [
      "C:\\Users\\johnk\\mambaforge\\lib\\site-packages\\sklearn\\utils\\validation.py:768: UserWarning: pandas.DataFrame with sparse columns found.It will be converted to a dense numpy array.\n",
      "  warnings.warn(\n",
      "C:\\Users\\johnk\\mambaforge\\lib\\site-packages\\sklearn\\utils\\validation.py:768: UserWarning: pandas.DataFrame with sparse columns found.It will be converted to a dense numpy array.\n",
      "  warnings.warn(\n",
      "C:\\Users\\johnk\\mambaforge\\lib\\site-packages\\sklearn\\utils\\validation.py:768: UserWarning: pandas.DataFrame with sparse columns found.It will be converted to a dense numpy array.\n",
      "  warnings.warn(\n",
      "C:\\Users\\johnk\\mambaforge\\lib\\site-packages\\sklearn\\utils\\validation.py:768: UserWarning: pandas.DataFrame with sparse columns found.It will be converted to a dense numpy array.\n",
      "  warnings.warn(\n",
      "C:\\Users\\johnk\\mambaforge\\lib\\site-packages\\sklearn\\utils\\validation.py:768: UserWarning: pandas.DataFrame with sparse columns found.It will be converted to a dense numpy array.\n",
      "  warnings.warn(\n",
      "C:\\Users\\johnk\\mambaforge\\lib\\site-packages\\sklearn\\utils\\validation.py:768: UserWarning: pandas.DataFrame with sparse columns found.It will be converted to a dense numpy array.\n",
      "  warnings.warn(\n",
      "C:\\Users\\johnk\\mambaforge\\lib\\site-packages\\sklearn\\utils\\validation.py:768: UserWarning: pandas.DataFrame with sparse columns found.It will be converted to a dense numpy array.\n",
      "  warnings.warn(\n",
      "C:\\Users\\johnk\\mambaforge\\lib\\site-packages\\sklearn\\utils\\validation.py:768: UserWarning: pandas.DataFrame with sparse columns found.It will be converted to a dense numpy array.\n",
      "  warnings.warn(\n",
      "C:\\Users\\johnk\\mambaforge\\lib\\site-packages\\sklearn\\utils\\validation.py:768: UserWarning: pandas.DataFrame with sparse columns found.It will be converted to a dense numpy array.\n",
      "  warnings.warn(\n",
      "C:\\Users\\johnk\\mambaforge\\lib\\site-packages\\sklearn\\utils\\validation.py:768: UserWarning: pandas.DataFrame with sparse columns found.It will be converted to a dense numpy array.\n",
      "  warnings.warn(\n",
      "C:\\Users\\johnk\\mambaforge\\lib\\site-packages\\sklearn\\utils\\validation.py:768: UserWarning: pandas.DataFrame with sparse columns found.It will be converted to a dense numpy array.\n",
      "  warnings.warn(\n",
      "C:\\Users\\johnk\\mambaforge\\lib\\site-packages\\sklearn\\utils\\validation.py:768: UserWarning: pandas.DataFrame with sparse columns found.It will be converted to a dense numpy array.\n",
      "  warnings.warn(\n",
      "C:\\Users\\johnk\\mambaforge\\lib\\site-packages\\sklearn\\utils\\validation.py:768: UserWarning: pandas.DataFrame with sparse columns found.It will be converted to a dense numpy array.\n",
      "  warnings.warn(\n",
      "C:\\Users\\johnk\\mambaforge\\lib\\site-packages\\sklearn\\utils\\validation.py:768: UserWarning: pandas.DataFrame with sparse columns found.It will be converted to a dense numpy array.\n",
      "  warnings.warn(\n",
      "C:\\Users\\johnk\\mambaforge\\lib\\site-packages\\sklearn\\utils\\validation.py:768: UserWarning: pandas.DataFrame with sparse columns found.It will be converted to a dense numpy array.\n",
      "  warnings.warn(\n",
      "C:\\Users\\johnk\\mambaforge\\lib\\site-packages\\sklearn\\utils\\validation.py:768: UserWarning: pandas.DataFrame with sparse columns found.It will be converted to a dense numpy array.\n",
      "  warnings.warn(\n",
      "C:\\Users\\johnk\\mambaforge\\lib\\site-packages\\sklearn\\utils\\validation.py:768: UserWarning: pandas.DataFrame with sparse columns found.It will be converted to a dense numpy array.\n",
      "  warnings.warn(\n",
      "C:\\Users\\johnk\\mambaforge\\lib\\site-packages\\sklearn\\utils\\validation.py:768: UserWarning: pandas.DataFrame with sparse columns found.It will be converted to a dense numpy array.\n",
      "  warnings.warn(\n",
      "C:\\Users\\johnk\\mambaforge\\lib\\site-packages\\sklearn\\utils\\validation.py:768: UserWarning: pandas.DataFrame with sparse columns found.It will be converted to a dense numpy array.\n",
      "  warnings.warn(\n",
      "C:\\Users\\johnk\\mambaforge\\lib\\site-packages\\sklearn\\utils\\validation.py:768: UserWarning: pandas.DataFrame with sparse columns found.It will be converted to a dense numpy array.\n",
      "  warnings.warn(\n",
      "C:\\Users\\johnk\\mambaforge\\lib\\site-packages\\sklearn\\utils\\validation.py:768: UserWarning: pandas.DataFrame with sparse columns found.It will be converted to a dense numpy array.\n",
      "  warnings.warn(\n",
      "C:\\Users\\johnk\\mambaforge\\lib\\site-packages\\sklearn\\utils\\validation.py:768: UserWarning: pandas.DataFrame with sparse columns found.It will be converted to a dense numpy array.\n",
      "  warnings.warn(\n",
      "C:\\Users\\johnk\\mambaforge\\lib\\site-packages\\sklearn\\utils\\validation.py:768: UserWarning: pandas.DataFrame with sparse columns found.It will be converted to a dense numpy array.\n",
      "  warnings.warn(\n",
      "C:\\Users\\johnk\\mambaforge\\lib\\site-packages\\sklearn\\utils\\validation.py:768: UserWarning: pandas.DataFrame with sparse columns found.It will be converted to a dense numpy array.\n",
      "  warnings.warn(\n",
      "C:\\Users\\johnk\\mambaforge\\lib\\site-packages\\sklearn\\utils\\validation.py:768: UserWarning: pandas.DataFrame with sparse columns found.It will be converted to a dense numpy array.\n",
      "  warnings.warn(\n",
      "C:\\Users\\johnk\\mambaforge\\lib\\site-packages\\sklearn\\utils\\validation.py:768: UserWarning: pandas.DataFrame with sparse columns found.It will be converted to a dense numpy array.\n",
      "  warnings.warn(\n",
      "C:\\Users\\johnk\\mambaforge\\lib\\site-packages\\sklearn\\utils\\validation.py:768: UserWarning: pandas.DataFrame with sparse columns found.It will be converted to a dense numpy array.\n",
      "  warnings.warn(\n",
      "C:\\Users\\johnk\\mambaforge\\lib\\site-packages\\sklearn\\utils\\validation.py:768: UserWarning: pandas.DataFrame with sparse columns found.It will be converted to a dense numpy array.\n",
      "  warnings.warn(\n",
      "C:\\Users\\johnk\\mambaforge\\lib\\site-packages\\sklearn\\utils\\validation.py:768: UserWarning: pandas.DataFrame with sparse columns found.It will be converted to a dense numpy array.\n",
      "  warnings.warn(\n",
      "C:\\Users\\johnk\\mambaforge\\lib\\site-packages\\sklearn\\utils\\validation.py:768: UserWarning: pandas.DataFrame with sparse columns found.It will be converted to a dense numpy array.\n",
      "  warnings.warn(\n",
      "C:\\Users\\johnk\\mambaforge\\lib\\site-packages\\sklearn\\utils\\validation.py:768: UserWarning: pandas.DataFrame with sparse columns found.It will be converted to a dense numpy array.\n",
      "  warnings.warn(\n",
      "C:\\Users\\johnk\\mambaforge\\lib\\site-packages\\sklearn\\utils\\validation.py:768: UserWarning: pandas.DataFrame with sparse columns found.It will be converted to a dense numpy array.\n",
      "  warnings.warn(\n",
      "C:\\Users\\johnk\\mambaforge\\lib\\site-packages\\sklearn\\utils\\validation.py:768: UserWarning: pandas.DataFrame with sparse columns found.It will be converted to a dense numpy array.\n",
      "  warnings.warn(\n",
      "C:\\Users\\johnk\\mambaforge\\lib\\site-packages\\sklearn\\utils\\validation.py:768: UserWarning: pandas.DataFrame with sparse columns found.It will be converted to a dense numpy array.\n",
      "  warnings.warn(\n",
      "C:\\Users\\johnk\\mambaforge\\lib\\site-packages\\sklearn\\utils\\validation.py:768: UserWarning: pandas.DataFrame with sparse columns found.It will be converted to a dense numpy array.\n",
      "  warnings.warn(\n",
      "C:\\Users\\johnk\\mambaforge\\lib\\site-packages\\sklearn\\utils\\validation.py:768: UserWarning: pandas.DataFrame with sparse columns found.It will be converted to a dense numpy array.\n",
      "  warnings.warn(\n",
      "C:\\Users\\johnk\\mambaforge\\lib\\site-packages\\sklearn\\utils\\validation.py:768: UserWarning: pandas.DataFrame with sparse columns found.It will be converted to a dense numpy array.\n",
      "  warnings.warn(\n",
      "C:\\Users\\johnk\\mambaforge\\lib\\site-packages\\sklearn\\utils\\validation.py:768: UserWarning: pandas.DataFrame with sparse columns found.It will be converted to a dense numpy array.\n",
      "  warnings.warn(\n",
      "C:\\Users\\johnk\\mambaforge\\lib\\site-packages\\sklearn\\utils\\validation.py:768: UserWarning: pandas.DataFrame with sparse columns found.It will be converted to a dense numpy array.\n",
      "  warnings.warn(\n",
      "C:\\Users\\johnk\\mambaforge\\lib\\site-packages\\sklearn\\utils\\validation.py:768: UserWarning: pandas.DataFrame with sparse columns found.It will be converted to a dense numpy array.\n",
      "  warnings.warn(\n",
      "C:\\Users\\johnk\\mambaforge\\lib\\site-packages\\sklearn\\utils\\validation.py:768: UserWarning: pandas.DataFrame with sparse columns found.It will be converted to a dense numpy array.\n",
      "  warnings.warn(\n",
      "C:\\Users\\johnk\\mambaforge\\lib\\site-packages\\sklearn\\utils\\validation.py:768: UserWarning: pandas.DataFrame with sparse columns found.It will be converted to a dense numpy array.\n",
      "  warnings.warn(\n",
      "C:\\Users\\johnk\\mambaforge\\lib\\site-packages\\sklearn\\utils\\validation.py:768: UserWarning: pandas.DataFrame with sparse columns found.It will be converted to a dense numpy array.\n",
      "  warnings.warn(\n",
      "C:\\Users\\johnk\\mambaforge\\lib\\site-packages\\sklearn\\utils\\validation.py:768: UserWarning: pandas.DataFrame with sparse columns found.It will be converted to a dense numpy array.\n",
      "  warnings.warn(\n",
      "C:\\Users\\johnk\\mambaforge\\lib\\site-packages\\sklearn\\utils\\validation.py:768: UserWarning: pandas.DataFrame with sparse columns found.It will be converted to a dense numpy array.\n",
      "  warnings.warn(\n",
      "C:\\Users\\johnk\\mambaforge\\lib\\site-packages\\sklearn\\utils\\validation.py:768: UserWarning: pandas.DataFrame with sparse columns found.It will be converted to a dense numpy array.\n",
      "  warnings.warn(\n",
      "C:\\Users\\johnk\\mambaforge\\lib\\site-packages\\sklearn\\utils\\validation.py:768: UserWarning: pandas.DataFrame with sparse columns found.It will be converted to a dense numpy array.\n",
      "  warnings.warn(\n",
      "C:\\Users\\johnk\\mambaforge\\lib\\site-packages\\sklearn\\utils\\validation.py:768: UserWarning: pandas.DataFrame with sparse columns found.It will be converted to a dense numpy array.\n",
      "  warnings.warn(\n",
      "C:\\Users\\johnk\\mambaforge\\lib\\site-packages\\sklearn\\utils\\validation.py:768: UserWarning: pandas.DataFrame with sparse columns found.It will be converted to a dense numpy array.\n",
      "  warnings.warn(\n",
      "C:\\Users\\johnk\\mambaforge\\lib\\site-packages\\sklearn\\utils\\validation.py:768: UserWarning: pandas.DataFrame with sparse columns found.It will be converted to a dense numpy array.\n",
      "  warnings.warn(\n",
      "C:\\Users\\johnk\\mambaforge\\lib\\site-packages\\sklearn\\utils\\validation.py:768: UserWarning: pandas.DataFrame with sparse columns found.It will be converted to a dense numpy array.\n",
      "  warnings.warn(\n",
      "C:\\Users\\johnk\\mambaforge\\lib\\site-packages\\sklearn\\utils\\validation.py:768: UserWarning: pandas.DataFrame with sparse columns found.It will be converted to a dense numpy array.\n",
      "  warnings.warn(\n",
      "C:\\Users\\johnk\\mambaforge\\lib\\site-packages\\sklearn\\utils\\validation.py:768: UserWarning: pandas.DataFrame with sparse columns found.It will be converted to a dense numpy array.\n",
      "  warnings.warn(\n",
      "C:\\Users\\johnk\\mambaforge\\lib\\site-packages\\sklearn\\utils\\validation.py:768: UserWarning: pandas.DataFrame with sparse columns found.It will be converted to a dense numpy array.\n",
      "  warnings.warn(\n",
      "C:\\Users\\johnk\\mambaforge\\lib\\site-packages\\sklearn\\utils\\validation.py:768: UserWarning: pandas.DataFrame with sparse columns found.It will be converted to a dense numpy array.\n",
      "  warnings.warn(\n",
      "C:\\Users\\johnk\\mambaforge\\lib\\site-packages\\sklearn\\utils\\validation.py:768: UserWarning: pandas.DataFrame with sparse columns found.It will be converted to a dense numpy array.\n",
      "  warnings.warn(\n",
      "C:\\Users\\johnk\\mambaforge\\lib\\site-packages\\sklearn\\utils\\validation.py:768: UserWarning: pandas.DataFrame with sparse columns found.It will be converted to a dense numpy array.\n",
      "  warnings.warn(\n",
      "C:\\Users\\johnk\\mambaforge\\lib\\site-packages\\sklearn\\utils\\validation.py:768: UserWarning: pandas.DataFrame with sparse columns found.It will be converted to a dense numpy array.\n",
      "  warnings.warn(\n",
      "C:\\Users\\johnk\\mambaforge\\lib\\site-packages\\sklearn\\utils\\validation.py:768: UserWarning: pandas.DataFrame with sparse columns found.It will be converted to a dense numpy array.\n",
      "  warnings.warn(\n",
      "C:\\Users\\johnk\\mambaforge\\lib\\site-packages\\sklearn\\utils\\validation.py:768: UserWarning: pandas.DataFrame with sparse columns found.It will be converted to a dense numpy array.\n",
      "  warnings.warn(\n",
      "C:\\Users\\johnk\\mambaforge\\lib\\site-packages\\sklearn\\utils\\validation.py:768: UserWarning: pandas.DataFrame with sparse columns found.It will be converted to a dense numpy array.\n",
      "  warnings.warn(\n",
      "C:\\Users\\johnk\\mambaforge\\lib\\site-packages\\sklearn\\utils\\validation.py:768: UserWarning: pandas.DataFrame with sparse columns found.It will be converted to a dense numpy array.\n",
      "  warnings.warn(\n"
     ]
    }
   ],
   "source": [
    "lcv_model = lcv_gs.fit(X_train, y_train);"
   ]
  },
  {
   "cell_type": "code",
   "execution_count": 56,
   "id": "54826f0c-3d7c-4fde-981d-2d119ceff321",
   "metadata": {},
   "outputs": [
    {
     "data": {
      "text/plain": [
       "{'lcv__n_alphas': 1, 'lcv__random_state': 42}"
      ]
     },
     "execution_count": 56,
     "metadata": {},
     "output_type": "execute_result"
    }
   ],
   "source": [
    "lcv_gs.best_params_"
   ]
  },
  {
   "cell_type": "code",
   "execution_count": 57,
   "id": "4b737702-468a-45a3-9625-ecb82b1671ff",
   "metadata": {},
   "outputs": [
    {
     "name": "stderr",
     "output_type": "stream",
     "text": [
      "C:\\Users\\johnk\\mambaforge\\lib\\site-packages\\sklearn\\utils\\validation.py:768: UserWarning: pandas.DataFrame with sparse columns found.It will be converted to a dense numpy array.\n",
      "  warnings.warn(\n"
     ]
    },
    {
     "data": {
      "text/plain": [
       "0.836469685128468"
      ]
     },
     "execution_count": 57,
     "metadata": {},
     "output_type": "execute_result"
    }
   ],
   "source": [
    "lcv_gs.score(X_test,y_test)"
   ]
  },
  {
   "cell_type": "code",
   "execution_count": 58,
   "id": "b275b897-2c07-4c30-b436-ccbaaf73dbc9",
   "metadata": {},
   "outputs": [
    {
     "name": "stderr",
     "output_type": "stream",
     "text": [
      "C:\\Users\\johnk\\mambaforge\\lib\\site-packages\\sklearn\\utils\\validation.py:768: UserWarning: pandas.DataFrame with sparse columns found.It will be converted to a dense numpy array.\n",
      "  warnings.warn(\n"
     ]
    },
    {
     "data": {
      "text/plain": [
       "0.8363306385911393"
      ]
     },
     "execution_count": 58,
     "metadata": {},
     "output_type": "execute_result"
    }
   ],
   "source": [
    "lcv_gs.score(X_train,y_train)"
   ]
  },
  {
   "cell_type": "code",
   "execution_count": 59,
   "id": "a8df8cc5-1507-45ce-8e2f-d0276ec3e990",
   "metadata": {},
   "outputs": [
    {
     "name": "stderr",
     "output_type": "stream",
     "text": [
      "C:\\Users\\johnk\\mambaforge\\lib\\site-packages\\sklearn\\utils\\validation.py:768: UserWarning: pandas.DataFrame with sparse columns found.It will be converted to a dense numpy array.\n",
      "  warnings.warn(\n"
     ]
    }
   ],
   "source": [
    "lcv_pred = lcv_model.predict(X_test)"
   ]
  },
  {
   "cell_type": "code",
   "execution_count": 60,
   "id": "642be284-96ea-4c43-be9c-f9b9a34af547",
   "metadata": {},
   "outputs": [
    {
     "data": {
      "text/plain": [
       "66060.2077121373"
      ]
     },
     "execution_count": 60,
     "metadata": {},
     "output_type": "execute_result"
    }
   ],
   "source": [
    "np.sqrt(metrics.mean_squared_error(y_test, lcv_pred))"
   ]
  },
  {
   "cell_type": "code",
   "execution_count": 62,
   "id": "a60c4ad7-4137-4513-ab6b-a250a688d8d6",
   "metadata": {},
   "outputs": [],
   "source": [
    "lcv_y_test = y_test.reset_index(drop=True)"
   ]
  },
  {
   "cell_type": "code",
   "execution_count": 63,
   "id": "9527a001-1037-4c65-89bd-e6a99c7d4ff5",
   "metadata": {},
   "outputs": [],
   "source": [
    "lcv_pred_df = pd.DataFrame(lcv_y_test)"
   ]
  },
  {
   "cell_type": "code",
   "execution_count": 64,
   "id": "cbdb47c1-d3ab-4cbb-9163-a23906cc6d49",
   "metadata": {},
   "outputs": [
    {
     "data": {
      "text/html": [
       "<div>\n",
       "<style scoped>\n",
       "    .dataframe tbody tr th:only-of-type {\n",
       "        vertical-align: middle;\n",
       "    }\n",
       "\n",
       "    .dataframe tbody tr th {\n",
       "        vertical-align: top;\n",
       "    }\n",
       "\n",
       "    .dataframe thead th {\n",
       "        text-align: right;\n",
       "    }\n",
       "</style>\n",
       "<table border=\"1\" class=\"dataframe\">\n",
       "  <thead>\n",
       "    <tr style=\"text-align: right;\">\n",
       "      <th></th>\n",
       "      <th>resale_price</th>\n",
       "    </tr>\n",
       "  </thead>\n",
       "  <tbody>\n",
       "    <tr>\n",
       "      <th>0</th>\n",
       "      <td>139000.0</td>\n",
       "    </tr>\n",
       "    <tr>\n",
       "      <th>1</th>\n",
       "      <td>303000.0</td>\n",
       "    </tr>\n",
       "    <tr>\n",
       "      <th>2</th>\n",
       "      <td>186000.0</td>\n",
       "    </tr>\n",
       "    <tr>\n",
       "      <th>3</th>\n",
       "      <td>330000.0</td>\n",
       "    </tr>\n",
       "    <tr>\n",
       "      <th>4</th>\n",
       "      <td>500000.0</td>\n",
       "    </tr>\n",
       "  </tbody>\n",
       "</table>\n",
       "</div>"
      ],
      "text/plain": [
       "   resale_price\n",
       "0      139000.0\n",
       "1      303000.0\n",
       "2      186000.0\n",
       "3      330000.0\n",
       "4      500000.0"
      ]
     },
     "execution_count": 64,
     "metadata": {},
     "output_type": "execute_result"
    }
   ],
   "source": [
    "lcv_pred_df.head()"
   ]
  },
  {
   "cell_type": "code",
   "execution_count": 65,
   "id": "1436cf8e-4397-441b-951d-9f4b02fa6e2d",
   "metadata": {},
   "outputs": [],
   "source": [
    "lcv_df = pd.concat([lcv_pred_df, pd.DataFrame({'model_predictions': lcv_pred})], axis = 1)"
   ]
  },
  {
   "cell_type": "code",
   "execution_count": 179,
   "id": "b524d4aa-74ac-458e-b018-c1d9d10f7fde",
   "metadata": {},
   "outputs": [
    {
     "data": {
      "image/png": "[encoded data removed]",
      "text/plain": [
       "<Figure size 432x288 with 1 Axes>"
      ]
     },
     "metadata": {
      "needs_background": "light"
     },
     "output_type": "display_data"
    }
   ],
   "source": [
    "sns.scatterplot(x=lcv_df['resale_price'], y=lcv_df['model_predictions'])\n",
    "plt.plot([min(lcv_df['resale_price']), max(lcv_df['resale_price'])], [min(lcv_df['model_predictions']), max(lcv_df['model_predictions'])], color='red', linestyle='--')\n",
    "plt.title('True Resale Prices vs Model Predictions')\n",
    "plt.xlabel('True Resale Prices')\n",
    "plt.ylabel('Model Predictions')\n",
    "plt.show()"
   ]
  },
  {
   "cell_type": "markdown",
   "id": "133e719a-d734-4ec0-8d6b-2b20af727fa0",
   "metadata": {},
   "source": [
    "Similar to the base model, there are still observation of systematic bias and uncertainty of model predictions."
   ]
  },
  {
   "cell_type": "markdown",
   "id": "71eb1bcc-a464-4dc2-9d56-6d931b8c9709",
   "metadata": {},
   "source": [
    "#### Observations"
   ]
  },
  {
   "cell_type": "markdown",
   "id": "02888fb4-886d-4518-a1b5-6b37312d049e",
   "metadata": {},
   "source": [
    "In the context of hyperparameter tuning on LassoCV, it was observed that both the train and test scores yielded the same value of 83.6%. This equality suggests that the model is neither suffering from overfitting nor underfitting, indicating a balanced performance. However, when examining the root mean squared error (RMSE) score, it was found to be similar to the RMSE score obtained from RidgeCV, without notable improvement. While the model's performance can be deemed satisfactory, it suggests that alternative models could be explored to achieve better results in terms of the R^2 score and a lower RMSE score. By considering other models or fine-tuning the existing one, it may be possible to enhance the predictive accuracy and precision, potentially leading to improved performance in the given task."
   ]
  },
  {
   "cell_type": "markdown",
   "id": "bdea9754-fc3e-4190-b820-848ac1f33a62",
   "metadata": {},
   "source": [
    "### Elastic Net"
   ]
  },
  {
   "cell_type": "code",
   "execution_count": 156,
   "id": "f401942f-be5b-4e36-8ac8-b5cfc0c430ff",
   "metadata": {},
   "outputs": [],
   "source": [
    "enet_alphas = np.linspace(0.5, 1.0, 100)\n",
    "enet = ElasticNetCV(alphas = enet_alphas, cv = 5)"
   ]
  },
  {
   "cell_type": "code",
   "execution_count": 157,
   "id": "d6dc7892-282a-4c29-ac81-aa746028e459",
   "metadata": {},
   "outputs": [],
   "source": [
    "pipe_enet_gs = Pipeline([('sc',sc),('enet',enet)])"
   ]
  },
  {
   "cell_type": "code",
   "execution_count": 159,
   "id": "5e1d4f7c-dadb-4e6f-94f1-fa8ec549081e",
   "metadata": {},
   "outputs": [],
   "source": [
    "pipe_enet_gs_params = {'enet__l1_ratio':[0.1,0.5,0.1]}"
   ]
  },
  {
   "cell_type": "code",
   "execution_count": 160,
   "id": "f88660f8-1150-403e-b954-cf57ab992da7",
   "metadata": {},
   "outputs": [],
   "source": [
    "enet_gs = GridSearchCV(pipe_enet_gs, pipe_enet_gs_params, cv=5, verbose=1, error_score='raise')"
   ]
  },
  {
   "cell_type": "code",
   "execution_count": 161,
   "id": "00d23be4-8e75-49ce-b4f5-23fe34904758",
   "metadata": {
    "scrolled": true,
    "tags": []
   },
   "outputs": [
    {
     "name": "stdout",
     "output_type": "stream",
     "text": [
      "Fitting 5 folds for each of 3 candidates, totalling 15 fits\n"
     ]
    },
    {
     "name": "stderr",
     "output_type": "stream",
     "text": [
      "C:\\Users\\johnk\\mambaforge\\lib\\site-packages\\sklearn\\utils\\validation.py:768: UserWarning: pandas.DataFrame with sparse columns found.It will be converted to a dense numpy array.\n",
      "  warnings.warn(\n",
      "C:\\Users\\johnk\\mambaforge\\lib\\site-packages\\sklearn\\utils\\validation.py:768: UserWarning: pandas.DataFrame with sparse columns found.It will be converted to a dense numpy array.\n",
      "  warnings.warn(\n",
      "C:\\Users\\johnk\\mambaforge\\lib\\site-packages\\sklearn\\utils\\validation.py:768: UserWarning: pandas.DataFrame with sparse columns found.It will be converted to a dense numpy array.\n",
      "  warnings.warn(\n",
      "C:\\Users\\johnk\\mambaforge\\lib\\site-packages\\sklearn\\utils\\validation.py:768: UserWarning: pandas.DataFrame with sparse columns found.It will be converted to a dense numpy array.\n",
      "  warnings.warn(\n",
      "C:\\Users\\johnk\\mambaforge\\lib\\site-packages\\sklearn\\utils\\validation.py:768: UserWarning: pandas.DataFrame with sparse columns found.It will be converted to a dense numpy array.\n",
      "  warnings.warn(\n",
      "C:\\Users\\johnk\\mambaforge\\lib\\site-packages\\sklearn\\utils\\validation.py:768: UserWarning: pandas.DataFrame with sparse columns found.It will be converted to a dense numpy array.\n",
      "  warnings.warn(\n",
      "C:\\Users\\johnk\\mambaforge\\lib\\site-packages\\sklearn\\utils\\validation.py:768: UserWarning: pandas.DataFrame with sparse columns found.It will be converted to a dense numpy array.\n",
      "  warnings.warn(\n",
      "C:\\Users\\johnk\\mambaforge\\lib\\site-packages\\sklearn\\utils\\validation.py:768: UserWarning: pandas.DataFrame with sparse columns found.It will be converted to a dense numpy array.\n",
      "  warnings.warn(\n",
      "C:\\Users\\johnk\\mambaforge\\lib\\site-packages\\sklearn\\utils\\validation.py:768: UserWarning: pandas.DataFrame with sparse columns found.It will be converted to a dense numpy array.\n",
      "  warnings.warn(\n",
      "C:\\Users\\johnk\\mambaforge\\lib\\site-packages\\sklearn\\utils\\validation.py:768: UserWarning: pandas.DataFrame with sparse columns found.It will be converted to a dense numpy array.\n",
      "  warnings.warn(\n",
      "C:\\Users\\johnk\\mambaforge\\lib\\site-packages\\sklearn\\utils\\validation.py:768: UserWarning: pandas.DataFrame with sparse columns found.It will be converted to a dense numpy array.\n",
      "  warnings.warn(\n",
      "C:\\Users\\johnk\\mambaforge\\lib\\site-packages\\sklearn\\utils\\validation.py:768: UserWarning: pandas.DataFrame with sparse columns found.It will be converted to a dense numpy array.\n",
      "  warnings.warn(\n",
      "C:\\Users\\johnk\\mambaforge\\lib\\site-packages\\sklearn\\utils\\validation.py:768: UserWarning: pandas.DataFrame with sparse columns found.It will be converted to a dense numpy array.\n",
      "  warnings.warn(\n",
      "C:\\Users\\johnk\\mambaforge\\lib\\site-packages\\sklearn\\utils\\validation.py:768: UserWarning: pandas.DataFrame with sparse columns found.It will be converted to a dense numpy array.\n",
      "  warnings.warn(\n",
      "C:\\Users\\johnk\\mambaforge\\lib\\site-packages\\sklearn\\utils\\validation.py:768: UserWarning: pandas.DataFrame with sparse columns found.It will be converted to a dense numpy array.\n",
      "  warnings.warn(\n",
      "C:\\Users\\johnk\\mambaforge\\lib\\site-packages\\sklearn\\utils\\validation.py:768: UserWarning: pandas.DataFrame with sparse columns found.It will be converted to a dense numpy array.\n",
      "  warnings.warn(\n",
      "C:\\Users\\johnk\\mambaforge\\lib\\site-packages\\sklearn\\utils\\validation.py:768: UserWarning: pandas.DataFrame with sparse columns found.It will be converted to a dense numpy array.\n",
      "  warnings.warn(\n",
      "C:\\Users\\johnk\\mambaforge\\lib\\site-packages\\sklearn\\utils\\validation.py:768: UserWarning: pandas.DataFrame with sparse columns found.It will be converted to a dense numpy array.\n",
      "  warnings.warn(\n",
      "C:\\Users\\johnk\\mambaforge\\lib\\site-packages\\sklearn\\utils\\validation.py:768: UserWarning: pandas.DataFrame with sparse columns found.It will be converted to a dense numpy array.\n",
      "  warnings.warn(\n",
      "C:\\Users\\johnk\\mambaforge\\lib\\site-packages\\sklearn\\utils\\validation.py:768: UserWarning: pandas.DataFrame with sparse columns found.It will be converted to a dense numpy array.\n",
      "  warnings.warn(\n",
      "C:\\Users\\johnk\\mambaforge\\lib\\site-packages\\sklearn\\utils\\validation.py:768: UserWarning: pandas.DataFrame with sparse columns found.It will be converted to a dense numpy array.\n",
      "  warnings.warn(\n",
      "C:\\Users\\johnk\\mambaforge\\lib\\site-packages\\sklearn\\utils\\validation.py:768: UserWarning: pandas.DataFrame with sparse columns found.It will be converted to a dense numpy array.\n",
      "  warnings.warn(\n",
      "C:\\Users\\johnk\\mambaforge\\lib\\site-packages\\sklearn\\utils\\validation.py:768: UserWarning: pandas.DataFrame with sparse columns found.It will be converted to a dense numpy array.\n",
      "  warnings.warn(\n",
      "C:\\Users\\johnk\\mambaforge\\lib\\site-packages\\sklearn\\utils\\validation.py:768: UserWarning: pandas.DataFrame with sparse columns found.It will be converted to a dense numpy array.\n",
      "  warnings.warn(\n",
      "C:\\Users\\johnk\\mambaforge\\lib\\site-packages\\sklearn\\utils\\validation.py:768: UserWarning: pandas.DataFrame with sparse columns found.It will be converted to a dense numpy array.\n",
      "  warnings.warn(\n",
      "C:\\Users\\johnk\\mambaforge\\lib\\site-packages\\sklearn\\utils\\validation.py:768: UserWarning: pandas.DataFrame with sparse columns found.It will be converted to a dense numpy array.\n",
      "  warnings.warn(\n",
      "C:\\Users\\johnk\\mambaforge\\lib\\site-packages\\sklearn\\utils\\validation.py:768: UserWarning: pandas.DataFrame with sparse columns found.It will be converted to a dense numpy array.\n",
      "  warnings.warn(\n",
      "C:\\Users\\johnk\\mambaforge\\lib\\site-packages\\sklearn\\utils\\validation.py:768: UserWarning: pandas.DataFrame with sparse columns found.It will be converted to a dense numpy array.\n",
      "  warnings.warn(\n",
      "C:\\Users\\johnk\\mambaforge\\lib\\site-packages\\sklearn\\utils\\validation.py:768: UserWarning: pandas.DataFrame with sparse columns found.It will be converted to a dense numpy array.\n",
      "  warnings.warn(\n",
      "C:\\Users\\johnk\\mambaforge\\lib\\site-packages\\sklearn\\utils\\validation.py:768: UserWarning: pandas.DataFrame with sparse columns found.It will be converted to a dense numpy array.\n",
      "  warnings.warn(\n",
      "C:\\Users\\johnk\\mambaforge\\lib\\site-packages\\sklearn\\utils\\validation.py:768: UserWarning: pandas.DataFrame with sparse columns found.It will be converted to a dense numpy array.\n",
      "  warnings.warn(\n",
      "C:\\Users\\johnk\\mambaforge\\lib\\site-packages\\sklearn\\utils\\validation.py:768: UserWarning: pandas.DataFrame with sparse columns found.It will be converted to a dense numpy array.\n",
      "  warnings.warn(\n",
      "C:\\Users\\johnk\\mambaforge\\lib\\site-packages\\sklearn\\utils\\validation.py:768: UserWarning: pandas.DataFrame with sparse columns found.It will be converted to a dense numpy array.\n",
      "  warnings.warn(\n",
      "C:\\Users\\johnk\\mambaforge\\lib\\site-packages\\sklearn\\utils\\validation.py:768: UserWarning: pandas.DataFrame with sparse columns found.It will be converted to a dense numpy array.\n",
      "  warnings.warn(\n",
      "C:\\Users\\johnk\\mambaforge\\lib\\site-packages\\sklearn\\utils\\validation.py:768: UserWarning: pandas.DataFrame with sparse columns found.It will be converted to a dense numpy array.\n",
      "  warnings.warn(\n",
      "C:\\Users\\johnk\\mambaforge\\lib\\site-packages\\sklearn\\utils\\validation.py:768: UserWarning: pandas.DataFrame with sparse columns found.It will be converted to a dense numpy array.\n",
      "  warnings.warn(\n",
      "C:\\Users\\johnk\\mambaforge\\lib\\site-packages\\sklearn\\utils\\validation.py:768: UserWarning: pandas.DataFrame with sparse columns found.It will be converted to a dense numpy array.\n",
      "  warnings.warn(\n",
      "C:\\Users\\johnk\\mambaforge\\lib\\site-packages\\sklearn\\utils\\validation.py:768: UserWarning: pandas.DataFrame with sparse columns found.It will be converted to a dense numpy array.\n",
      "  warnings.warn(\n",
      "C:\\Users\\johnk\\mambaforge\\lib\\site-packages\\sklearn\\utils\\validation.py:768: UserWarning: pandas.DataFrame with sparse columns found.It will be converted to a dense numpy array.\n",
      "  warnings.warn(\n",
      "C:\\Users\\johnk\\mambaforge\\lib\\site-packages\\sklearn\\utils\\validation.py:768: UserWarning: pandas.DataFrame with sparse columns found.It will be converted to a dense numpy array.\n",
      "  warnings.warn(\n",
      "C:\\Users\\johnk\\mambaforge\\lib\\site-packages\\sklearn\\utils\\validation.py:768: UserWarning: pandas.DataFrame with sparse columns found.It will be converted to a dense numpy array.\n",
      "  warnings.warn(\n",
      "C:\\Users\\johnk\\mambaforge\\lib\\site-packages\\sklearn\\utils\\validation.py:768: UserWarning: pandas.DataFrame with sparse columns found.It will be converted to a dense numpy array.\n",
      "  warnings.warn(\n",
      "C:\\Users\\johnk\\mambaforge\\lib\\site-packages\\sklearn\\utils\\validation.py:768: UserWarning: pandas.DataFrame with sparse columns found.It will be converted to a dense numpy array.\n",
      "  warnings.warn(\n",
      "C:\\Users\\johnk\\mambaforge\\lib\\site-packages\\sklearn\\utils\\validation.py:768: UserWarning: pandas.DataFrame with sparse columns found.It will be converted to a dense numpy array.\n",
      "  warnings.warn(\n",
      "C:\\Users\\johnk\\mambaforge\\lib\\site-packages\\sklearn\\utils\\validation.py:768: UserWarning: pandas.DataFrame with sparse columns found.It will be converted to a dense numpy array.\n",
      "  warnings.warn(\n",
      "C:\\Users\\johnk\\mambaforge\\lib\\site-packages\\sklearn\\utils\\validation.py:768: UserWarning: pandas.DataFrame with sparse columns found.It will be converted to a dense numpy array.\n",
      "  warnings.warn(\n",
      "C:\\Users\\johnk\\mambaforge\\lib\\site-packages\\sklearn\\utils\\validation.py:768: UserWarning: pandas.DataFrame with sparse columns found.It will be converted to a dense numpy array.\n",
      "  warnings.warn(\n"
     ]
    }
   ],
   "source": [
    "enet_model = enet_gs.fit(X_train, y_train);"
   ]
  },
  {
   "cell_type": "code",
   "execution_count": 162,
   "id": "052340cf-0f59-4ab2-8206-89dfe4f0d233",
   "metadata": {},
   "outputs": [
    {
     "data": {
      "text/plain": [
       "{'enet__l1_ratio': 0.5}"
      ]
     },
     "execution_count": 162,
     "metadata": {},
     "output_type": "execute_result"
    }
   ],
   "source": [
    "enet_gs.best_params_"
   ]
  },
  {
   "cell_type": "code",
   "execution_count": 163,
   "id": "e9dafdd2-271a-46c7-a9fe-66dc9c54e6c5",
   "metadata": {},
   "outputs": [
    {
     "name": "stderr",
     "output_type": "stream",
     "text": [
      "C:\\Users\\johnk\\mambaforge\\lib\\site-packages\\sklearn\\utils\\validation.py:768: UserWarning: pandas.DataFrame with sparse columns found.It will be converted to a dense numpy array.\n",
      "  warnings.warn(\n"
     ]
    },
    {
     "data": {
      "text/plain": [
       "0.8161559916372975"
      ]
     },
     "execution_count": 163,
     "metadata": {},
     "output_type": "execute_result"
    }
   ],
   "source": [
    "enet_gs.score(X_test,y_test)"
   ]
  },
  {
   "cell_type": "code",
   "execution_count": 164,
   "id": "dfe5465a-04f2-4ec6-8a41-6d5dc06a810b",
   "metadata": {},
   "outputs": [
    {
     "name": "stderr",
     "output_type": "stream",
     "text": [
      "C:\\Users\\johnk\\mambaforge\\lib\\site-packages\\sklearn\\utils\\validation.py:768: UserWarning: pandas.DataFrame with sparse columns found.It will be converted to a dense numpy array.\n",
      "  warnings.warn(\n"
     ]
    },
    {
     "data": {
      "text/plain": [
       "0.8156096108699762"
      ]
     },
     "execution_count": 164,
     "metadata": {},
     "output_type": "execute_result"
    }
   ],
   "source": [
    "enet_gs.score(X_train,y_train)"
   ]
  },
  {
   "cell_type": "code",
   "execution_count": 165,
   "id": "c37eae88-7097-472d-bf00-38ae7374c353",
   "metadata": {},
   "outputs": [
    {
     "name": "stderr",
     "output_type": "stream",
     "text": [
      "C:\\Users\\johnk\\mambaforge\\lib\\site-packages\\sklearn\\utils\\validation.py:768: UserWarning: pandas.DataFrame with sparse columns found.It will be converted to a dense numpy array.\n",
      "  warnings.warn(\n"
     ]
    }
   ],
   "source": [
    "enet_pred = enet_model.predict(X_test)"
   ]
  },
  {
   "cell_type": "code",
   "execution_count": 166,
   "id": "dfb85d92-11ef-487e-b51c-ba9bc3ff18d0",
   "metadata": {},
   "outputs": [
    {
     "data": {
      "text/plain": [
       "70043.12896203723"
      ]
     },
     "execution_count": 166,
     "metadata": {},
     "output_type": "execute_result"
    }
   ],
   "source": [
    "np.sqrt(metrics.mean_squared_error(y_test, enet_pred))"
   ]
  },
  {
   "cell_type": "code",
   "execution_count": 167,
   "id": "7485a177-ed48-48ef-a4e6-6b1b1b8fab60",
   "metadata": {},
   "outputs": [],
   "source": [
    "enet_y_test = y_test.reset_index(drop=True)"
   ]
  },
  {
   "cell_type": "code",
   "execution_count": 168,
   "id": "2cbfaa2d-28ce-4c16-86e8-9374bf815547",
   "metadata": {},
   "outputs": [],
   "source": [
    "enet_pred_df = pd.DataFrame(enet_y_test)"
   ]
  },
  {
   "cell_type": "code",
   "execution_count": 169,
   "id": "787e1c79-1db3-4302-9a08-a13cdcefa1c2",
   "metadata": {},
   "outputs": [
    {
     "data": {
      "text/html": [
       "<div>\n",
       "<style scoped>\n",
       "    .dataframe tbody tr th:only-of-type {\n",
       "        vertical-align: middle;\n",
       "    }\n",
       "\n",
       "    .dataframe tbody tr th {\n",
       "        vertical-align: top;\n",
       "    }\n",
       "\n",
       "    .dataframe thead th {\n",
       "        text-align: right;\n",
       "    }\n",
       "</style>\n",
       "<table border=\"1\" class=\"dataframe\">\n",
       "  <thead>\n",
       "    <tr style=\"text-align: right;\">\n",
       "      <th></th>\n",
       "      <th>resale_price</th>\n",
       "    </tr>\n",
       "  </thead>\n",
       "  <tbody>\n",
       "    <tr>\n",
       "      <th>0</th>\n",
       "      <td>139000.0</td>\n",
       "    </tr>\n",
       "    <tr>\n",
       "      <th>1</th>\n",
       "      <td>303000.0</td>\n",
       "    </tr>\n",
       "    <tr>\n",
       "      <th>2</th>\n",
       "      <td>186000.0</td>\n",
       "    </tr>\n",
       "    <tr>\n",
       "      <th>3</th>\n",
       "      <td>330000.0</td>\n",
       "    </tr>\n",
       "    <tr>\n",
       "      <th>4</th>\n",
       "      <td>500000.0</td>\n",
       "    </tr>\n",
       "  </tbody>\n",
       "</table>\n",
       "</div>"
      ],
      "text/plain": [
       "   resale_price\n",
       "0      139000.0\n",
       "1      303000.0\n",
       "2      186000.0\n",
       "3      330000.0\n",
       "4      500000.0"
      ]
     },
     "execution_count": 169,
     "metadata": {},
     "output_type": "execute_result"
    }
   ],
   "source": [
    "enet_pred_df.head()"
   ]
  },
  {
   "cell_type": "code",
   "execution_count": 170,
   "id": "bfd65599-ffde-4616-b222-5179d4d3eeaa",
   "metadata": {},
   "outputs": [],
   "source": [
    "enet_df = pd.concat([enet_pred_df, pd.DataFrame({'model_predictions': enet_pred})], axis = 1)"
   ]
  },
  {
   "cell_type": "code",
   "execution_count": 180,
   "id": "ffb2923f-55aa-46a7-80c7-3f9f5a99c5f4",
   "metadata": {},
   "outputs": [
    {
     "data": {
      "image/png": "[encoded data removed]",
      "text/plain": [
       "<Figure size 432x288 with 1 Axes>"
      ]
     },
     "metadata": {
      "needs_background": "light"
     },
     "output_type": "display_data"
    }
   ],
   "source": [
    "sns.scatterplot(x=enet_df['resale_price'], y=enet_df['model_predictions'])\n",
    "plt.plot([min(enet_df['resale_price']), max(enet_df['resale_price'])], [min(enet_df['model_predictions']), max(enet_df['model_predictions'])], color='red', linestyle='--')\n",
    "plt.title('True Resale Prices vs Model Predictions')\n",
    "plt.xlabel('True Resale Prices')\n",
    "plt.ylabel('Model Predictions')\n",
    "plt.show()"
   ]
  },
  {
   "cell_type": "markdown",
   "id": "3e80532c-970f-4759-b069-15d55419b0aa",
   "metadata": {},
   "source": [
    "It is observed that there is still some form of systematic bias in the predicted values against true values. In addition, there is indication of large scatter in data points. This indicates presense of prediction error."
   ]
  },
  {
   "cell_type": "markdown",
   "id": "b9932e1a-4077-4456-8773-76326fbfbbf6",
   "metadata": {},
   "source": [
    "#### Observations"
   ]
  },
  {
   "cell_type": "markdown",
   "id": "c8698165-d264-41c5-bdb9-2e26748e9185",
   "metadata": {},
   "source": [
    "Upon employing ElasticNetCV, the train score and test score were determined to be 81.5% and 81.6% respectively. This suggests that the model is exhibiting a balanced performance without any notable signs of overfitting or underfitting. However, when assessing the root mean squared error (RMSE) score, it was found to be 70,043, which indicates a higher level of error compared to the other models previously evaluated. Consequently, it can be concluded that the ElasticNetCV model is underperforming in comparison to the previously employed models. This outcome indicates that further exploration and investigation may be necessary to improve the model's predictive accuracy and decrease the RMSE score. Alternative models could be explored to potentially enhance the model's performance in the given task."
   ]
  },
  {
   "cell_type": "markdown",
   "id": "11c4a2a6-0b03-4686-ad6b-31b69df9e14d",
   "metadata": {},
   "source": [
    "### Neural Network"
   ]
  },
  {
   "cell_type": "code",
   "execution_count": 126,
   "id": "2f6ce46d-8c6c-483b-9958-84b8a4079b40",
   "metadata": {},
   "outputs": [],
   "source": [
    "nn = Sequential()\n",
    "\n",
    "nn.add(Dense(4, activation='relu'))\n",
    "nn.add(Dense(4, activation='relu'))\n",
    "nn.add(Dense(4, activation='relu'))\n",
    "\n",
    "nn.add(Dense(1)) #final predicting price\n",
    "\n",
    "nn.compile(optimizer = 'adam', loss = 'mse')"
   ]
  },
  {
   "cell_type": "code",
   "execution_count": 127,
   "id": "f6a0b71a-eb61-43f9-bd7e-749802e223c4",
   "metadata": {
    "scrolled": true,
    "tags": []
   },
   "outputs": [
    {
     "name": "stdout",
     "output_type": "stream",
     "text": [
      "Epoch 1/30\n",
      "21071/21071 [==============================] - 36s 2ms/step - loss: 29078274048.0000\n",
      "Epoch 2/30\n",
      "21071/21071 [==============================] - 33s 2ms/step - loss: 5501339648.0000\n",
      "Epoch 3/30\n",
      "21071/21071 [==============================] - 30s 1ms/step - loss: 5280266752.0000\n",
      "Epoch 4/30\n",
      "21071/21071 [==============================] - 30s 1ms/step - loss: 5187890176.0000\n",
      "Epoch 5/30\n",
      "21071/21071 [==============================] - 30s 1ms/step - loss: 5088493568.0000\n",
      "Epoch 6/30\n",
      "21071/21071 [==============================] - 30s 1ms/step - loss: 4953350656.0000\n",
      "Epoch 7/30\n",
      "21071/21071 [==============================] - 30s 1ms/step - loss: 4904168448.0000\n",
      "Epoch 8/30\n",
      "21071/21071 [==============================] - 30s 1ms/step - loss: 4867949568.0000\n",
      "Epoch 9/30\n",
      "21071/21071 [==============================] - 30s 1ms/step - loss: 4838457856.0000\n",
      "Epoch 10/30\n",
      "21071/21071 [==============================] - 30s 1ms/step - loss: 4812630016.0000\n",
      "Epoch 11/30\n",
      "21071/21071 [==============================] - 31s 1ms/step - loss: 4784834048.0000\n",
      "Epoch 12/30\n",
      "21071/21071 [==============================] - 31s 1ms/step - loss: 4655379456.0000\n",
      "Epoch 13/30\n",
      "21071/21071 [==============================] - 36s 2ms/step - loss: 4322754048.0000\n",
      "Epoch 14/30\n",
      "21071/21071 [==============================] - 33s 2ms/step - loss: 4225823488.0000\n",
      "Epoch 15/30\n",
      "21071/21071 [==============================] - 31s 1ms/step - loss: 4211604224.0000\n",
      "Epoch 16/30\n",
      "21071/21071 [==============================] - 30s 1ms/step - loss: 4186190336.0000\n",
      "Epoch 17/30\n",
      "21071/21071 [==============================] - 32s 2ms/step - loss: 3963571712.0000\n",
      "Epoch 18/30\n",
      "21071/21071 [==============================] - 31s 1ms/step - loss: 3873598464.0000\n",
      "Epoch 19/30\n",
      "21071/21071 [==============================] - 32s 2ms/step - loss: 3860113664.0000\n",
      "Epoch 20/30\n",
      "21071/21071 [==============================] - 31s 1ms/step - loss: 3851975680.0000\n",
      "Epoch 21/30\n",
      "21071/21071 [==============================] - 31s 1ms/step - loss: 3849698816.0000\n",
      "Epoch 22/30\n",
      "21071/21071 [==============================] - 30s 1ms/step - loss: 3844582144.0000\n",
      "Epoch 23/30\n",
      "21071/21071 [==============================] - 31s 1ms/step - loss: 3839701760.0000\n",
      "Epoch 24/30\n",
      "21071/21071 [==============================] - 31s 1ms/step - loss: 3836251392.0000\n",
      "Epoch 25/30\n",
      "21071/21071 [==============================] - 30s 1ms/step - loss: 3827687936.0000\n",
      "Epoch 26/30\n",
      "21071/21071 [==============================] - 31s 1ms/step - loss: 3824821504.0000\n",
      "Epoch 27/30\n",
      "21071/21071 [==============================] - 30s 1ms/step - loss: 3824545536.0000\n",
      "Epoch 28/30\n",
      "21071/21071 [==============================] - 30s 1ms/step - loss: 3823876864.0000\n",
      "Epoch 29/30\n",
      "21071/21071 [==============================] - 31s 1ms/step - loss: 3823930624.0000\n",
      "Epoch 30/30\n",
      "21071/21071 [==============================] - 31s 1ms/step - loss: 3824118016.0000\n"
     ]
    },
    {
     "data": {
      "text/plain": [
       "<keras.callbacks.History at 0x13e3fa6a8f0>"
      ]
     },
     "execution_count": 127,
     "metadata": {},
     "output_type": "execute_result"
    }
   ],
   "source": [
    "nn.fit(Z_train, y_train,epochs=30,verbose=1)"
   ]
  },
  {
   "cell_type": "code",
   "execution_count": 128,
   "id": "0cc5784d-43a4-4eee-bfa1-c28f584e43b7",
   "metadata": {},
   "outputs": [],
   "source": [
    "loss_df = pd.DataFrame(nn.history.history)"
   ]
  },
  {
   "cell_type": "code",
   "execution_count": 184,
   "id": "29dee7ac-4461-4e2d-ab32-74ecbec20699",
   "metadata": {},
   "outputs": [
    {
     "data": {
      "image/png": "[encoded data removed]",
      "text/plain": [
       "<Figure size 432x288 with 1 Axes>"
      ]
     },
     "metadata": {
      "needs_background": "light"
     },
     "output_type": "display_data"
    }
   ],
   "source": [
    "loss_df.plot()\n",
    "plt.title('Epoc vs Loss Graph')\n",
    "plt.xlabel('Epoc')\n",
    "plt.ylabel('Loss')\n",
    "plt.show()"
   ]
  },
  {
   "cell_type": "markdown",
   "id": "3595a351-ecd0-4301-8f53-a57ae758f175",
   "metadata": {},
   "source": [
    "The observed graph of the training loss as training progresses provides valuable insights into the performance and convergence of the model. The significant dip in loss after the second epoch indicates that the model quickly started to learn and improve its predictions. This initial improvement is often observed as the model adjusts its parameters to better fit the training data.\n",
    "\n",
    "Furthermore, after the second epoch, the loss continues to decrease gradually and reaches a plateau state from the 15th epoch onwards. This plateau suggests that the model has converged to a stable solution, where further training epochs do not result in significant improvements in reducing the loss. This indicates that the model has learned as much as it can from the available training data.\n",
    "\n",
    "The consistent decrease and plateauing of the loss indicate that there is no sign of overfitting or underfitting of the model. Overfitting occurs when the model becomes too complex and starts to memorize the training data, resulting in poor generalization to new data. Underfitting, on the other hand, occurs when the model is too simple to capture the underlying patterns in the data. The low loss values achieved suggest that the model has found an appropriate level of complexity and is performing well in capturing the patterns in the training data.\n",
    "\n",
    "Overall, the observed graph indicates that the model is performing effectively and has reached a stable state with low training loss. This suggests that the model is well-suited for the given task and demonstrates its ability to make accurate predictions without overfitting or underfitting."
   ]
  },
  {
   "cell_type": "code",
   "execution_count": 136,
   "id": "2358b69f-fc83-4861-b36a-fdf16e799b3d",
   "metadata": {},
   "outputs": [
    {
     "name": "stdout",
     "output_type": "stream",
     "text": [
      "21071/21071 [==============================] - 28s 1ms/step - loss: 3819833088.0000\n",
      "7024/7024 [==============================] - 10s 1ms/step - loss: 3816652288.0000\n"
     ]
    }
   ],
   "source": [
    "mse_train = nn.evaluate(Z_train, y_train)\n",
    "mse_test = nn.evaluate(Z_test, y_test)"
   ]
  },
  {
   "cell_type": "code",
   "execution_count": 137,
   "id": "92a786be-73b2-4d65-8780-c7086c916313",
   "metadata": {},
   "outputs": [],
   "source": [
    "mean_y_train = np.mean(y_train)\n",
    "tss = np.sum((y_train - mean_y_train) ** 2)"
   ]
  },
  {
   "cell_type": "code",
   "execution_count": 138,
   "id": "015ec687-1243-4637-bcdc-86b929ad8595",
   "metadata": {},
   "outputs": [
    {
     "data": {
      "text/plain": [
       "0.999999788138895"
      ]
     },
     "execution_count": 138,
     "metadata": {},
     "output_type": "execute_result"
    }
   ],
   "source": [
    "r2_train = 1 - (mse_train / tss)\n",
    "r2_train"
   ]
  },
  {
   "cell_type": "code",
   "execution_count": 139,
   "id": "594b8d71-ed8a-4531-b0f7-3ee6ecedb416",
   "metadata": {},
   "outputs": [
    {
     "data": {
      "text/plain": [
       "0.9999997883153131"
      ]
     },
     "execution_count": 139,
     "metadata": {},
     "output_type": "execute_result"
    }
   ],
   "source": [
    "r2_test = 1 - (mse_test / tss)\n",
    "r2_test"
   ]
  },
  {
   "cell_type": "code",
   "execution_count": 146,
   "id": "e0a4aaac-47a4-4989-9b21-069ec0bc6fd8",
   "metadata": {
    "scrolled": true,
    "tags": []
   },
   "outputs": [
    {
     "name": "stdout",
     "output_type": "stream",
     "text": [
      "7024/7024 [==============================] - 10s 1ms/step - loss: 3816652288.0000\n"
     ]
    },
    {
     "data": {
      "text/plain": [
       "61779.0602712602"
      ]
     },
     "execution_count": 146,
     "metadata": {},
     "output_type": "execute_result"
    }
   ],
   "source": [
    "np.sqrt(nn.evaluate(Z_test, y_test))"
   ]
  },
  {
   "cell_type": "code",
   "execution_count": 134,
   "id": "38289845-95e0-449a-8e4d-6844d33c5d5d",
   "metadata": {},
   "outputs": [
    {
     "name": "stdout",
     "output_type": "stream",
     "text": [
      "7024/7024 [==============================] - 13s 1ms/step\n"
     ]
    }
   ],
   "source": [
    "nn_pred = nn.predict(Z_test)"
   ]
  },
  {
   "cell_type": "code",
   "execution_count": 147,
   "id": "53ab5ad9-a95a-4b67-9c10-27fc69a77897",
   "metadata": {},
   "outputs": [],
   "source": [
    "nn_pred = pd.DataFrame(nn_pred)"
   ]
  },
  {
   "cell_type": "code",
   "execution_count": 148,
   "id": "cfe2ef19-b5e7-43df-b34a-ab4ea16441a0",
   "metadata": {},
   "outputs": [
    {
     "data": {
      "text/html": [
       "<div>\n",
       "<style scoped>\n",
       "    .dataframe tbody tr th:only-of-type {\n",
       "        vertical-align: middle;\n",
       "    }\n",
       "\n",
       "    .dataframe tbody tr th {\n",
       "        vertical-align: top;\n",
       "    }\n",
       "\n",
       "    .dataframe thead th {\n",
       "        text-align: right;\n",
       "    }\n",
       "</style>\n",
       "<table border=\"1\" class=\"dataframe\">\n",
       "  <thead>\n",
       "    <tr style=\"text-align: right;\">\n",
       "      <th></th>\n",
       "      <th>0</th>\n",
       "    </tr>\n",
       "  </thead>\n",
       "  <tbody>\n",
       "    <tr>\n",
       "      <th>0</th>\n",
       "      <td>134840.81250</td>\n",
       "    </tr>\n",
       "    <tr>\n",
       "      <th>1</th>\n",
       "      <td>300084.75000</td>\n",
       "    </tr>\n",
       "    <tr>\n",
       "      <th>2</th>\n",
       "      <td>256499.90625</td>\n",
       "    </tr>\n",
       "    <tr>\n",
       "      <th>3</th>\n",
       "      <td>349612.31250</td>\n",
       "    </tr>\n",
       "    <tr>\n",
       "      <th>4</th>\n",
       "      <td>491863.06250</td>\n",
       "    </tr>\n",
       "  </tbody>\n",
       "</table>\n",
       "</div>"
      ],
      "text/plain": [
       "              0\n",
       "0  134840.81250\n",
       "1  300084.75000\n",
       "2  256499.90625\n",
       "3  349612.31250\n",
       "4  491863.06250"
      ]
     },
     "execution_count": 148,
     "metadata": {},
     "output_type": "execute_result"
    }
   ],
   "source": [
    "nn_pred.head()"
   ]
  },
  {
   "cell_type": "code",
   "execution_count": null,
   "id": "7642a0c2-86f5-4562-b4d9-4fe1c8269c2d",
   "metadata": {},
   "outputs": [],
   "source": [
    "nn_y_test = y_test.reset_index(drop=True)"
   ]
  },
  {
   "cell_type": "code",
   "execution_count": null,
   "id": "a16a6766-39cd-4207-b80c-7ed0f01d119a",
   "metadata": {},
   "outputs": [],
   "source": [
    "nn_pred_df = pd.DataFrame(nn_y_test)"
   ]
  },
  {
   "cell_type": "code",
   "execution_count": null,
   "id": "a1e6db3f-7906-43b6-9b7f-e9b3a72d7257",
   "metadata": {},
   "outputs": [],
   "source": [
    "nn_df = pd.concat([nn_pred_df, pd.DataFrame({'model_predictions': nn_pred[0]})], axis = 1)"
   ]
  },
  {
   "cell_type": "code",
   "execution_count": null,
   "id": "9c5d9d0f-e024-4969-b147-4ab09b724cba",
   "metadata": {},
   "outputs": [
    {
     "data": {
      "text/html": [
       "<div>\n",
       "<style scoped>\n",
       "    .dataframe tbody tr th:only-of-type {\n",
       "        vertical-align: middle;\n",
       "    }\n",
       "\n",
       "    .dataframe tbody tr th {\n",
       "        vertical-align: top;\n",
       "    }\n",
       "\n",
       "    .dataframe thead th {\n",
       "        text-align: right;\n",
       "    }\n",
       "</style>\n",
       "<table border=\"1\" class=\"dataframe\">\n",
       "  <thead>\n",
       "    <tr style=\"text-align: right;\">\n",
       "      <th></th>\n",
       "      <th>resale_price</th>\n",
       "      <th>model_predictions</th>\n",
       "    </tr>\n",
       "  </thead>\n",
       "  <tbody>\n",
       "    <tr>\n",
       "      <th>0</th>\n",
       "      <td>139000.0</td>\n",
       "      <td>134840.81250</td>\n",
       "    </tr>\n",
       "    <tr>\n",
       "      <th>1</th>\n",
       "      <td>303000.0</td>\n",
       "      <td>300084.75000</td>\n",
       "    </tr>\n",
       "    <tr>\n",
       "      <th>2</th>\n",
       "      <td>186000.0</td>\n",
       "      <td>256499.90625</td>\n",
       "    </tr>\n",
       "    <tr>\n",
       "      <th>3</th>\n",
       "      <td>330000.0</td>\n",
       "      <td>349612.31250</td>\n",
       "    </tr>\n",
       "    <tr>\n",
       "      <th>4</th>\n",
       "      <td>500000.0</td>\n",
       "      <td>491863.06250</td>\n",
       "    </tr>\n",
       "  </tbody>\n",
       "</table>\n",
       "</div>"
      ],
      "text/plain": [
       "   resale_price  model_predictions\n",
       "0      139000.0       134840.81250\n",
       "1      303000.0       300084.75000\n",
       "2      186000.0       256499.90625\n",
       "3      330000.0       349612.31250\n",
       "4      500000.0       491863.06250"
      ]
     },
     "execution_count": 152,
     "metadata": {},
     "output_type": "execute_result"
    }
   ],
   "source": [
    "nn_df.head()"
   ]
  },
  {
   "cell_type": "code",
   "execution_count": 181,
   "id": "af5e1c7f-437c-45c4-8dcf-7170d269a136",
   "metadata": {},
   "outputs": [
    {
     "data": {
      "image/png": "[encoded data removed]",
      "text/plain": [
       "<Figure size 432x288 with 1 Axes>"
      ]
     },
     "metadata": {
      "needs_background": "light"
     },
     "output_type": "display_data"
    }
   ],
   "source": [
    "sns.scatterplot(x=nn_df['resale_price'], y=nn_df['model_predictions'])\n",
    "plt.plot([min(nn_df['resale_price']), max(nn_df['resale_price'])], [min(nn_df['model_predictions']), max(nn_df['model_predictions'])], color='red', linestyle='--')\n",
    "plt.title('True Resale Prices vs Model Predictions')\n",
    "plt.xlabel('True Resale Prices')\n",
    "plt.ylabel('Model Predictions')\n",
    "plt.show()"
   ]
  },
  {
   "cell_type": "markdown",
   "id": "8fafdfea-dda0-4bba-9d10-fe2708fa152f",
   "metadata": {},
   "source": [
    "The observed scatter of data points evenly distributed both above and below the diagonal line suggests a lack of systematic bias in the model's predictions. The absence of a consistent overestimation or underestimation of true values indicates that the model does not exhibit a strong bias towards any particular direction.\n",
    "\n",
    "However, despite the lack of systematic bias, the fact that the data points are still widely scattered around the diagonal line indicates a high degree of prediction error. The scattered distribution suggests that the model struggles to accurately predict the true values and exhibits a significant level of variability in its predictions. This high prediction error implies that the model may not be effectively capturing the underlying patterns and relationships within the data."
   ]
  },
  {
   "cell_type": "markdown",
   "id": "c3fb0cac-00d5-4aa6-b155-30c5764d4287",
   "metadata": {},
   "source": [
    "#### Observations"
   ]
  },
  {
   "cell_type": "markdown",
   "id": "972afff0-2c6f-4c26-ad3b-da1c8e1fcf20",
   "metadata": {},
   "source": [
    "Upon exploring the neural network model, it was discovered that both the train and test scores achieved an impressive 99.9%. At first glance, this suggests that the model is capable of capturing and understanding the underlying patterns and trends within the training and test data, thus achieving a high level of performance. However, despite the high scores, the root mean squared error (RMSE) score stands at 61,779, indicating the presence of overfitting.\n",
    "\n",
    "The high R-squared scores indicate that the model can explain a large portion of the variance in the target variable, which is a positive aspect. However, the high RMSE score implies that, on average, the model's predictions exhibit significant errors compared to the true values. This discrepancy indicates a lack of accuracy and a substantial amount of residual error between the predicted values and the actual observations.\n",
    "\n",
    "In light of these findings, it becomes evident that the model's performance needs improvement, especially when considering its ability to generalize to unseen data. Therefore, exploring techniques like boosting could be a promising approach to enhance the model's performance and mitigate the overfitting issue. By applying boosting algorithms, such as AdaBoost or Gradient Boosting, the model's ability to generalize and make accurate predictions on new, unseen data can be improved, potentially reducing both the RMSE score and the overfitting problem."
   ]
  },
  {
   "cell_type": "markdown",
   "id": "98a369b8-f2fd-4893-85a6-24d521798f60",
   "metadata": {},
   "source": [
    "### XG Boost"
   ]
  },
  {
   "cell_type": "code",
   "execution_count": 104,
   "id": "1deb09ac-d97f-4451-be8c-8724ff438a91",
   "metadata": {},
   "outputs": [],
   "source": [
    "xgb = XGBRegressor()"
   ]
  },
  {
   "cell_type": "code",
   "execution_count": 105,
   "id": "5f040406-d70d-442f-b84d-f17f0516127c",
   "metadata": {},
   "outputs": [],
   "source": [
    "pipe_xgb_gs = Pipeline([('sc',sc),('xgb',xgb)])"
   ]
  },
  {
   "cell_type": "code",
   "execution_count": 106,
   "id": "29e99c78-06db-477e-9d89-4ce59a00d15d",
   "metadata": {},
   "outputs": [],
   "source": [
    "pipe_xgb_gs_params = {'xgb__max_depth':[7,8],\n",
    "                      'xgb__eta':[0.2,0.3],\n",
    "                      'xgb__random_state':[42]}"
   ]
  },
  {
   "cell_type": "code",
   "execution_count": 107,
   "id": "7235a859-c978-479e-9921-0109a93a8dbe",
   "metadata": {},
   "outputs": [],
   "source": [
    "xgb_gs = GridSearchCV(pipe_xgb_gs, pipe_xgb_gs_params, cv=5, verbose=1, error_score='raise')"
   ]
  },
  {
   "cell_type": "code",
   "execution_count": 108,
   "id": "0bb33dcb-82a2-4829-8410-fb107b492265",
   "metadata": {
    "scrolled": true,
    "tags": []
   },
   "outputs": [
    {
     "name": "stdout",
     "output_type": "stream",
     "text": [
      "Fitting 5 folds for each of 4 candidates, totalling 20 fits\n"
     ]
    },
    {
     "name": "stderr",
     "output_type": "stream",
     "text": [
      "C:\\Users\\johnk\\mambaforge\\lib\\site-packages\\sklearn\\utils\\validation.py:768: UserWarning: pandas.DataFrame with sparse columns found.It will be converted to a dense numpy array.\n",
      "  warnings.warn(\n",
      "C:\\Users\\johnk\\mambaforge\\lib\\site-packages\\sklearn\\utils\\validation.py:768: UserWarning: pandas.DataFrame with sparse columns found.It will be converted to a dense numpy array.\n",
      "  warnings.warn(\n",
      "C:\\Users\\johnk\\mambaforge\\lib\\site-packages\\sklearn\\utils\\validation.py:768: UserWarning: pandas.DataFrame with sparse columns found.It will be converted to a dense numpy array.\n",
      "  warnings.warn(\n",
      "C:\\Users\\johnk\\mambaforge\\lib\\site-packages\\sklearn\\utils\\validation.py:768: UserWarning: pandas.DataFrame with sparse columns found.It will be converted to a dense numpy array.\n",
      "  warnings.warn(\n",
      "C:\\Users\\johnk\\mambaforge\\lib\\site-packages\\sklearn\\utils\\validation.py:768: UserWarning: pandas.DataFrame with sparse columns found.It will be converted to a dense numpy array.\n",
      "  warnings.warn(\n",
      "C:\\Users\\johnk\\mambaforge\\lib\\site-packages\\sklearn\\utils\\validation.py:768: UserWarning: pandas.DataFrame with sparse columns found.It will be converted to a dense numpy array.\n",
      "  warnings.warn(\n",
      "C:\\Users\\johnk\\mambaforge\\lib\\site-packages\\sklearn\\utils\\validation.py:768: UserWarning: pandas.DataFrame with sparse columns found.It will be converted to a dense numpy array.\n",
      "  warnings.warn(\n",
      "C:\\Users\\johnk\\mambaforge\\lib\\site-packages\\sklearn\\utils\\validation.py:768: UserWarning: pandas.DataFrame with sparse columns found.It will be converted to a dense numpy array.\n",
      "  warnings.warn(\n",
      "C:\\Users\\johnk\\mambaforge\\lib\\site-packages\\sklearn\\utils\\validation.py:768: UserWarning: pandas.DataFrame with sparse columns found.It will be converted to a dense numpy array.\n",
      "  warnings.warn(\n",
      "C:\\Users\\johnk\\mambaforge\\lib\\site-packages\\sklearn\\utils\\validation.py:768: UserWarning: pandas.DataFrame with sparse columns found.It will be converted to a dense numpy array.\n",
      "  warnings.warn(\n",
      "C:\\Users\\johnk\\mambaforge\\lib\\site-packages\\sklearn\\utils\\validation.py:768: UserWarning: pandas.DataFrame with sparse columns found.It will be converted to a dense numpy array.\n",
      "  warnings.warn(\n",
      "C:\\Users\\johnk\\mambaforge\\lib\\site-packages\\sklearn\\utils\\validation.py:768: UserWarning: pandas.DataFrame with sparse columns found.It will be converted to a dense numpy array.\n",
      "  warnings.warn(\n",
      "C:\\Users\\johnk\\mambaforge\\lib\\site-packages\\sklearn\\utils\\validation.py:768: UserWarning: pandas.DataFrame with sparse columns found.It will be converted to a dense numpy array.\n",
      "  warnings.warn(\n",
      "C:\\Users\\johnk\\mambaforge\\lib\\site-packages\\sklearn\\utils\\validation.py:768: UserWarning: pandas.DataFrame with sparse columns found.It will be converted to a dense numpy array.\n",
      "  warnings.warn(\n",
      "C:\\Users\\johnk\\mambaforge\\lib\\site-packages\\sklearn\\utils\\validation.py:768: UserWarning: pandas.DataFrame with sparse columns found.It will be converted to a dense numpy array.\n",
      "  warnings.warn(\n",
      "C:\\Users\\johnk\\mambaforge\\lib\\site-packages\\sklearn\\utils\\validation.py:768: UserWarning: pandas.DataFrame with sparse columns found.It will be converted to a dense numpy array.\n",
      "  warnings.warn(\n",
      "C:\\Users\\johnk\\mambaforge\\lib\\site-packages\\sklearn\\utils\\validation.py:768: UserWarning: pandas.DataFrame with sparse columns found.It will be converted to a dense numpy array.\n",
      "  warnings.warn(\n",
      "C:\\Users\\johnk\\mambaforge\\lib\\site-packages\\sklearn\\utils\\validation.py:768: UserWarning: pandas.DataFrame with sparse columns found.It will be converted to a dense numpy array.\n",
      "  warnings.warn(\n",
      "C:\\Users\\johnk\\mambaforge\\lib\\site-packages\\sklearn\\utils\\validation.py:768: UserWarning: pandas.DataFrame with sparse columns found.It will be converted to a dense numpy array.\n",
      "  warnings.warn(\n",
      "C:\\Users\\johnk\\mambaforge\\lib\\site-packages\\sklearn\\utils\\validation.py:768: UserWarning: pandas.DataFrame with sparse columns found.It will be converted to a dense numpy array.\n",
      "  warnings.warn(\n",
      "C:\\Users\\johnk\\mambaforge\\lib\\site-packages\\sklearn\\utils\\validation.py:768: UserWarning: pandas.DataFrame with sparse columns found.It will be converted to a dense numpy array.\n",
      "  warnings.warn(\n",
      "C:\\Users\\johnk\\mambaforge\\lib\\site-packages\\sklearn\\utils\\validation.py:768: UserWarning: pandas.DataFrame with sparse columns found.It will be converted to a dense numpy array.\n",
      "  warnings.warn(\n",
      "C:\\Users\\johnk\\mambaforge\\lib\\site-packages\\sklearn\\utils\\validation.py:768: UserWarning: pandas.DataFrame with sparse columns found.It will be converted to a dense numpy array.\n",
      "  warnings.warn(\n",
      "C:\\Users\\johnk\\mambaforge\\lib\\site-packages\\sklearn\\utils\\validation.py:768: UserWarning: pandas.DataFrame with sparse columns found.It will be converted to a dense numpy array.\n",
      "  warnings.warn(\n",
      "C:\\Users\\johnk\\mambaforge\\lib\\site-packages\\sklearn\\utils\\validation.py:768: UserWarning: pandas.DataFrame with sparse columns found.It will be converted to a dense numpy array.\n",
      "  warnings.warn(\n",
      "C:\\Users\\johnk\\mambaforge\\lib\\site-packages\\sklearn\\utils\\validation.py:768: UserWarning: pandas.DataFrame with sparse columns found.It will be converted to a dense numpy array.\n",
      "  warnings.warn(\n",
      "C:\\Users\\johnk\\mambaforge\\lib\\site-packages\\sklearn\\utils\\validation.py:768: UserWarning: pandas.DataFrame with sparse columns found.It will be converted to a dense numpy array.\n",
      "  warnings.warn(\n",
      "C:\\Users\\johnk\\mambaforge\\lib\\site-packages\\sklearn\\utils\\validation.py:768: UserWarning: pandas.DataFrame with sparse columns found.It will be converted to a dense numpy array.\n",
      "  warnings.warn(\n",
      "C:\\Users\\johnk\\mambaforge\\lib\\site-packages\\sklearn\\utils\\validation.py:768: UserWarning: pandas.DataFrame with sparse columns found.It will be converted to a dense numpy array.\n",
      "  warnings.warn(\n",
      "C:\\Users\\johnk\\mambaforge\\lib\\site-packages\\sklearn\\utils\\validation.py:768: UserWarning: pandas.DataFrame with sparse columns found.It will be converted to a dense numpy array.\n",
      "  warnings.warn(\n",
      "C:\\Users\\johnk\\mambaforge\\lib\\site-packages\\sklearn\\utils\\validation.py:768: UserWarning: pandas.DataFrame with sparse columns found.It will be converted to a dense numpy array.\n",
      "  warnings.warn(\n",
      "C:\\Users\\johnk\\mambaforge\\lib\\site-packages\\sklearn\\utils\\validation.py:768: UserWarning: pandas.DataFrame with sparse columns found.It will be converted to a dense numpy array.\n",
      "  warnings.warn(\n",
      "C:\\Users\\johnk\\mambaforge\\lib\\site-packages\\sklearn\\utils\\validation.py:768: UserWarning: pandas.DataFrame with sparse columns found.It will be converted to a dense numpy array.\n",
      "  warnings.warn(\n",
      "C:\\Users\\johnk\\mambaforge\\lib\\site-packages\\sklearn\\utils\\validation.py:768: UserWarning: pandas.DataFrame with sparse columns found.It will be converted to a dense numpy array.\n",
      "  warnings.warn(\n",
      "C:\\Users\\johnk\\mambaforge\\lib\\site-packages\\sklearn\\utils\\validation.py:768: UserWarning: pandas.DataFrame with sparse columns found.It will be converted to a dense numpy array.\n",
      "  warnings.warn(\n",
      "C:\\Users\\johnk\\mambaforge\\lib\\site-packages\\sklearn\\utils\\validation.py:768: UserWarning: pandas.DataFrame with sparse columns found.It will be converted to a dense numpy array.\n",
      "  warnings.warn(\n",
      "C:\\Users\\johnk\\mambaforge\\lib\\site-packages\\sklearn\\utils\\validation.py:768: UserWarning: pandas.DataFrame with sparse columns found.It will be converted to a dense numpy array.\n",
      "  warnings.warn(\n",
      "C:\\Users\\johnk\\mambaforge\\lib\\site-packages\\sklearn\\utils\\validation.py:768: UserWarning: pandas.DataFrame with sparse columns found.It will be converted to a dense numpy array.\n",
      "  warnings.warn(\n",
      "C:\\Users\\johnk\\mambaforge\\lib\\site-packages\\sklearn\\utils\\validation.py:768: UserWarning: pandas.DataFrame with sparse columns found.It will be converted to a dense numpy array.\n",
      "  warnings.warn(\n",
      "C:\\Users\\johnk\\mambaforge\\lib\\site-packages\\sklearn\\utils\\validation.py:768: UserWarning: pandas.DataFrame with sparse columns found.It will be converted to a dense numpy array.\n",
      "  warnings.warn(\n",
      "C:\\Users\\johnk\\mambaforge\\lib\\site-packages\\sklearn\\utils\\validation.py:768: UserWarning: pandas.DataFrame with sparse columns found.It will be converted to a dense numpy array.\n",
      "  warnings.warn(\n",
      "C:\\Users\\johnk\\mambaforge\\lib\\site-packages\\sklearn\\utils\\validation.py:768: UserWarning: pandas.DataFrame with sparse columns found.It will be converted to a dense numpy array.\n",
      "  warnings.warn(\n",
      "C:\\Users\\johnk\\mambaforge\\lib\\site-packages\\sklearn\\utils\\validation.py:768: UserWarning: pandas.DataFrame with sparse columns found.It will be converted to a dense numpy array.\n",
      "  warnings.warn(\n",
      "C:\\Users\\johnk\\mambaforge\\lib\\site-packages\\sklearn\\utils\\validation.py:768: UserWarning: pandas.DataFrame with sparse columns found.It will be converted to a dense numpy array.\n",
      "  warnings.warn(\n",
      "C:\\Users\\johnk\\mambaforge\\lib\\site-packages\\sklearn\\utils\\validation.py:768: UserWarning: pandas.DataFrame with sparse columns found.It will be converted to a dense numpy array.\n",
      "  warnings.warn(\n",
      "C:\\Users\\johnk\\mambaforge\\lib\\site-packages\\sklearn\\utils\\validation.py:768: UserWarning: pandas.DataFrame with sparse columns found.It will be converted to a dense numpy array.\n",
      "  warnings.warn(\n",
      "C:\\Users\\johnk\\mambaforge\\lib\\site-packages\\sklearn\\utils\\validation.py:768: UserWarning: pandas.DataFrame with sparse columns found.It will be converted to a dense numpy array.\n",
      "  warnings.warn(\n",
      "C:\\Users\\johnk\\mambaforge\\lib\\site-packages\\sklearn\\utils\\validation.py:768: UserWarning: pandas.DataFrame with sparse columns found.It will be converted to a dense numpy array.\n",
      "  warnings.warn(\n",
      "C:\\Users\\johnk\\mambaforge\\lib\\site-packages\\sklearn\\utils\\validation.py:768: UserWarning: pandas.DataFrame with sparse columns found.It will be converted to a dense numpy array.\n",
      "  warnings.warn(\n",
      "C:\\Users\\johnk\\mambaforge\\lib\\site-packages\\sklearn\\utils\\validation.py:768: UserWarning: pandas.DataFrame with sparse columns found.It will be converted to a dense numpy array.\n",
      "  warnings.warn(\n",
      "C:\\Users\\johnk\\mambaforge\\lib\\site-packages\\sklearn\\utils\\validation.py:768: UserWarning: pandas.DataFrame with sparse columns found.It will be converted to a dense numpy array.\n",
      "  warnings.warn(\n",
      "C:\\Users\\johnk\\mambaforge\\lib\\site-packages\\sklearn\\utils\\validation.py:768: UserWarning: pandas.DataFrame with sparse columns found.It will be converted to a dense numpy array.\n",
      "  warnings.warn(\n",
      "C:\\Users\\johnk\\mambaforge\\lib\\site-packages\\sklearn\\utils\\validation.py:768: UserWarning: pandas.DataFrame with sparse columns found.It will be converted to a dense numpy array.\n",
      "  warnings.warn(\n",
      "C:\\Users\\johnk\\mambaforge\\lib\\site-packages\\sklearn\\utils\\validation.py:768: UserWarning: pandas.DataFrame with sparse columns found.It will be converted to a dense numpy array.\n",
      "  warnings.warn(\n",
      "C:\\Users\\johnk\\mambaforge\\lib\\site-packages\\sklearn\\utils\\validation.py:768: UserWarning: pandas.DataFrame with sparse columns found.It will be converted to a dense numpy array.\n",
      "  warnings.warn(\n",
      "C:\\Users\\johnk\\mambaforge\\lib\\site-packages\\sklearn\\utils\\validation.py:768: UserWarning: pandas.DataFrame with sparse columns found.It will be converted to a dense numpy array.\n",
      "  warnings.warn(\n",
      "C:\\Users\\johnk\\mambaforge\\lib\\site-packages\\sklearn\\utils\\validation.py:768: UserWarning: pandas.DataFrame with sparse columns found.It will be converted to a dense numpy array.\n",
      "  warnings.warn(\n",
      "C:\\Users\\johnk\\mambaforge\\lib\\site-packages\\sklearn\\utils\\validation.py:768: UserWarning: pandas.DataFrame with sparse columns found.It will be converted to a dense numpy array.\n",
      "  warnings.warn(\n",
      "C:\\Users\\johnk\\mambaforge\\lib\\site-packages\\sklearn\\utils\\validation.py:768: UserWarning: pandas.DataFrame with sparse columns found.It will be converted to a dense numpy array.\n",
      "  warnings.warn(\n",
      "C:\\Users\\johnk\\mambaforge\\lib\\site-packages\\sklearn\\utils\\validation.py:768: UserWarning: pandas.DataFrame with sparse columns found.It will be converted to a dense numpy array.\n",
      "  warnings.warn(\n",
      "C:\\Users\\johnk\\mambaforge\\lib\\site-packages\\sklearn\\utils\\validation.py:768: UserWarning: pandas.DataFrame with sparse columns found.It will be converted to a dense numpy array.\n",
      "  warnings.warn(\n",
      "C:\\Users\\johnk\\mambaforge\\lib\\site-packages\\sklearn\\utils\\validation.py:768: UserWarning: pandas.DataFrame with sparse columns found.It will be converted to a dense numpy array.\n",
      "  warnings.warn(\n"
     ]
    }
   ],
   "source": [
    "xgb_model = xgb_gs.fit(X_train, y_train);"
   ]
  },
  {
   "cell_type": "code",
   "execution_count": 109,
   "id": "56450d29-77d9-4fa2-922b-12d78224802c",
   "metadata": {},
   "outputs": [
    {
     "data": {
      "text/plain": [
       "{'xgb__eta': 0.3, 'xgb__max_depth': 8, 'xgb__random_state': 42}"
      ]
     },
     "execution_count": 109,
     "metadata": {},
     "output_type": "execute_result"
    }
   ],
   "source": [
    "xgb_gs.best_params_"
   ]
  },
  {
   "cell_type": "code",
   "execution_count": 110,
   "id": "a6f0d722-bb5e-4bd2-aaa2-e49a3089b85b",
   "metadata": {},
   "outputs": [
    {
     "name": "stderr",
     "output_type": "stream",
     "text": [
      "C:\\Users\\johnk\\mambaforge\\lib\\site-packages\\sklearn\\utils\\validation.py:768: UserWarning: pandas.DataFrame with sparse columns found.It will be converted to a dense numpy array.\n",
      "  warnings.warn(\n"
     ]
    },
    {
     "data": {
      "text/plain": [
       "0.9825284918475913"
      ]
     },
     "execution_count": 110,
     "metadata": {},
     "output_type": "execute_result"
    }
   ],
   "source": [
    "xgb_gs.score(X_test,y_test)"
   ]
  },
  {
   "cell_type": "code",
   "execution_count": 111,
   "id": "9cde35e0-5aae-461c-bc7d-7ac1c3be3383",
   "metadata": {},
   "outputs": [
    {
     "name": "stderr",
     "output_type": "stream",
     "text": [
      "C:\\Users\\johnk\\mambaforge\\lib\\site-packages\\sklearn\\utils\\validation.py:768: UserWarning: pandas.DataFrame with sparse columns found.It will be converted to a dense numpy array.\n",
      "  warnings.warn(\n"
     ]
    },
    {
     "data": {
      "text/plain": [
       "0.9843281751640527"
      ]
     },
     "execution_count": 111,
     "metadata": {},
     "output_type": "execute_result"
    }
   ],
   "source": [
    "xgb_gs.score(X_train,y_train)"
   ]
  },
  {
   "cell_type": "code",
   "execution_count": 112,
   "id": "2697f6a4-42a9-4a52-831c-ef9a33f60fc1",
   "metadata": {},
   "outputs": [
    {
     "name": "stderr",
     "output_type": "stream",
     "text": [
      "C:\\Users\\johnk\\mambaforge\\lib\\site-packages\\sklearn\\utils\\validation.py:768: UserWarning: pandas.DataFrame with sparse columns found.It will be converted to a dense numpy array.\n",
      "  warnings.warn(\n"
     ]
    }
   ],
   "source": [
    "xgb_pred = xgb_model.predict(X_test)"
   ]
  },
  {
   "cell_type": "code",
   "execution_count": 113,
   "id": "38960be5-1459-41c8-8eee-b3ac77dff40d",
   "metadata": {},
   "outputs": [
    {
     "data": {
      "text/plain": [
       "21592.65252456912"
      ]
     },
     "execution_count": 113,
     "metadata": {},
     "output_type": "execute_result"
    }
   ],
   "source": [
    "np.sqrt(metrics.mean_squared_error(y_test, xgb_pred))"
   ]
  },
  {
   "cell_type": "code",
   "execution_count": 114,
   "id": "adcd94ad-9b56-47e5-a861-abcb7fad57d2",
   "metadata": {},
   "outputs": [],
   "source": [
    "xgb_y_test = y_test.reset_index(drop=True)"
   ]
  },
  {
   "cell_type": "code",
   "execution_count": 115,
   "id": "dab7fa64-4900-48d1-b201-226b729a2f94",
   "metadata": {},
   "outputs": [],
   "source": [
    "xgb_pred_df = pd.DataFrame(xgb_y_test)"
   ]
  },
  {
   "cell_type": "code",
   "execution_count": 116,
   "id": "fab74745-a5b7-42a2-be34-461731612c9e",
   "metadata": {},
   "outputs": [
    {
     "data": {
      "text/html": [
       "<div>\n",
       "<style scoped>\n",
       "    .dataframe tbody tr th:only-of-type {\n",
       "        vertical-align: middle;\n",
       "    }\n",
       "\n",
       "    .dataframe tbody tr th {\n",
       "        vertical-align: top;\n",
       "    }\n",
       "\n",
       "    .dataframe thead th {\n",
       "        text-align: right;\n",
       "    }\n",
       "</style>\n",
       "<table border=\"1\" class=\"dataframe\">\n",
       "  <thead>\n",
       "    <tr style=\"text-align: right;\">\n",
       "      <th></th>\n",
       "      <th>resale_price</th>\n",
       "    </tr>\n",
       "  </thead>\n",
       "  <tbody>\n",
       "    <tr>\n",
       "      <th>0</th>\n",
       "      <td>139000.0</td>\n",
       "    </tr>\n",
       "    <tr>\n",
       "      <th>1</th>\n",
       "      <td>303000.0</td>\n",
       "    </tr>\n",
       "    <tr>\n",
       "      <th>2</th>\n",
       "      <td>186000.0</td>\n",
       "    </tr>\n",
       "    <tr>\n",
       "      <th>3</th>\n",
       "      <td>330000.0</td>\n",
       "    </tr>\n",
       "    <tr>\n",
       "      <th>4</th>\n",
       "      <td>500000.0</td>\n",
       "    </tr>\n",
       "  </tbody>\n",
       "</table>\n",
       "</div>"
      ],
      "text/plain": [
       "   resale_price\n",
       "0      139000.0\n",
       "1      303000.0\n",
       "2      186000.0\n",
       "3      330000.0\n",
       "4      500000.0"
      ]
     },
     "execution_count": 116,
     "metadata": {},
     "output_type": "execute_result"
    }
   ],
   "source": [
    "xgb_pred_df.head()"
   ]
  },
  {
   "cell_type": "code",
   "execution_count": 117,
   "id": "241d2b0f-ebcc-4c6e-b945-6002f2a4c8b9",
   "metadata": {},
   "outputs": [],
   "source": [
    "xgb_df = pd.concat([xgb_pred_df, pd.DataFrame({'model_predictions': xgb_pred})], axis = 1)"
   ]
  },
  {
   "cell_type": "code",
   "execution_count": 185,
   "id": "dc145668-d106-4d67-a89e-7a0e8cbb4f55",
   "metadata": {},
   "outputs": [
    {
     "data": {
      "image/png": "[encoded data removed]",
      "text/plain": [
       "<Figure size 432x288 with 1 Axes>"
      ]
     },
     "metadata": {
      "needs_background": "light"
     },
     "output_type": "display_data"
    }
   ],
   "source": [
    "sns.scatterplot(x=xgb_df['resale_price'], y=xgb_df['model_predictions'])\n",
    "plt.plot([min(xgb_df['resale_price']), max(xgb_df['resale_price'])], [min(xgb_df['model_predictions']), max(xgb_df['model_predictions'])], color='red', linestyle='--')\n",
    "plt.title('True Resale Prices vs Model Predictions')\n",
    "plt.xlabel('True Resale Prices')\n",
    "plt.ylabel('Model Predictions')\n",
    "plt.show()"
   ]
  },
  {
   "cell_type": "markdown",
   "id": "6609b932-90a7-4d05-a282-887881029005",
   "metadata": {},
   "source": [
    "The observed even spread of data points above and below the diagonal line in the plot indicates that there is a relatively low systematic bias in the model's predictions. When the data points are evenly distributed on both sides of the diagonal line, it suggests that the model does not consistently overestimate or underestimate the true values. This balanced distribution implies that the model's predictions are generally unbiased and not skewed towards any particular direction.\n",
    "\n",
    "Moreover, the close clustering of data points around the diagonal line suggests that the model's predictions are relatively accurate. When the data points are tightly grouped around the diagonal line, it indicates that the predicted values are closer to the true values. This indicates a good level of agreement between the model's predictions and the actual observed values."
   ]
  },
  {
   "cell_type": "markdown",
   "id": "b843192c-e16b-4d8f-9a4f-c68b2da375fb",
   "metadata": {},
   "source": [
    "#### Observations"
   ]
  },
  {
   "cell_type": "markdown",
   "id": "21d0d9c3-04d3-4af7-bdac-531f3568e285",
   "metadata": {},
   "source": [
    "Upon conducting hyperparameter tuning on XGBoost, it is evident that the train and test R-squared scores remain consistently high, at 98.2% and 98.4% respectively. Although these scores are lower compared to the neural network model's R-squared score of 99.9%, a notable advantage of XGBoost lies in its significantly lower root mean squared error (RMSE) scores. With an RMSE score of 21,592, XGBoost outperforms the neural network model's RMSE score of 61,779.\n",
    "\n",
    "The lower RMSE score indicates that the XGBoost model is more accurate in predicting resale house pricing, with an average prediction error range of approximately ±21,592. This discrepancy in RMSE scores indicates that XGBoost is not suffering from overfitting or underfitting, making it a strong candidate for selecting a model to predict house prices. Despite the slightly lower R-squared scores compared to the neural network, the combination of high R-squared scores and low RMSE scores reinforces the effectiveness and reliability of the XGBoost model for accurate price predictions in the resale housing market."
   ]
  },
  {
   "cell_type": "markdown",
   "id": "8853a222-cdb9-4263-a387-e6d05e9acacb",
   "metadata": {},
   "source": [
    "## Main Discussion"
   ]
  },
  {
   "cell_type": "markdown",
   "id": "5dea8843-93a6-4328-b701-dc1c6903be44",
   "metadata": {},
   "source": [
    "| Model                     | Train R-squared (%) | Test R-squared (%) | RMSE   |\n",
    "|:-------------------------:|:-------------------:|:------------------:|:------:|\n",
    "| Linear Regression         | 83.6                | 83.6               | 65,976 |\n",
    "| RidgeCV (Tuned)           | 83.6                | 83.6               | 66,036 |\n",
    "| LassoCV (Tuned)           | 83.6                | 83.6               | 66,060 |\n",
    "| ElasticNetCV (Tuned)      | 81.5                | 81.6               | 70,043 |\n",
    "| Neural Network            | 99.9                | 99.9               | 61,779 |\n",
    "| XGBoost (Tuned)           | 98.2                | 98.4               | 21,592 |\n",
    "\n"
   ]
  },
  {
   "cell_type": "markdown",
   "id": "fde64fdf-c249-43f1-8869-799010c47bda",
   "metadata": {},
   "source": [
    "Based on the provided table, it is evident that XGBoost outperforms other models with hyperparameter tuning in terms of both the R-squared score and RMSE. XGBoost demonstrates the highest R-squared score and the lowest RMSE score among the models considered. \n",
    "\n",
    "Comparing XGBoost to the base model, which is linear regression, the improvement in performance is striking. XGBoost exhibits an 18% increase in the R-squared score, indicating a better ability to explain the variance in the resale house prices compared to linear regression. Additionally, the RMSE score decreases by 32.7% when using XGBoost, indicating a substantial reduction in the average prediction error range. \n",
    "\n",
    "Considering the significant improvement in both the R-squared score and RMSE, it is reasonable to select XGBoost as the chosen model for predicting resale house prices. XGBoost demonstrates superior predictive power and provides more accurate and precise predictions compared to the base model and other models with hyperparameter tuning."
   ]
  },
  {
   "cell_type": "markdown",
   "id": "34af286c-9619-4567-a2c4-09252b20288b",
   "metadata": {},
   "source": [
    "## Future Works"
   ]
  },
  {
   "cell_type": "markdown",
   "id": "afc45080-af6e-4bee-a6cc-01fe4c48f881",
   "metadata": {},
   "source": [
    "For future work aimed at improving model predictions, several avenues can be explored. Firstly, with increased computational power, incorporating additional features could enhance the predictive performance. For instance, considering factors like the types of nearby malls or schools in relation to the resale house, as well as factors such as the number of sunshine hours and the direction the sunlight faces the house, could provide valuable insights. Furthermore, introducing additional feature engineering techniques, such as incorporating the distance to various amenities, might contribute to more accurate predictions.\n",
    "\n",
    "Moreover, considering the temporal nature of the data, incorporating time series models could be a promising direction for improvement. Comparing the performance of XGBoost with other time series models, such as ARIMA or LSTM, would allow for a thorough evaluation of XGBoost's effectiveness in capturing and predicting temporal patterns in resale house prices.\n",
    "\n",
    "Overall, by expanding the set of features and considering alternative modeling techniques, future research endeavors can strive to further enhance the predictive capabilities of the model, potentially leading to more accurate and robust predictions for resale house pricing."
   ]
  },
  {
   "cell_type": "markdown",
   "id": "ca9d4230-58a9-4723-ad6f-ae34d2f26609",
   "metadata": {},
   "source": [
    "## Conclusion"
   ]
  },
  {
   "cell_type": "markdown",
   "id": "69f376c9-1925-4223-a619-36f487bdf28f",
   "metadata": {},
   "source": [
    "In conclusion, the analysis of resale house price prediction has revealed the superiority of the XGBoost model in terms of its predictive performance. With its high R-squared scores and low RMSE score, the XGBoost model demonstrates its ability to capture the underlying patterns and accurately predict resale house prices. By utilizing this model, stakeholders in the housing market can make more informed decisions, whether they are buyers looking for affordable options or sellers determining the optimal pricing strategy.\n",
    "\n",
    "However, it is important to acknowledge that the prediction of housing prices is a complex task influenced by numerous factors beyond the scope of this analysis. Future research could explore additional features and data sources to further enhance the accuracy and robustness of the models. Furthermore, incorporating external factors such as economic indicators, policy changes, and market trends could provide a more comprehensive understanding of housing price dynamics.\n",
    "\n",
    "Overall, the utilization of advanced machine learning models, such as XGBoost, in resale house price prediction offers significant potential for improving decision-making processes and fostering a more transparent and efficient housing market. By leveraging the power of data and sophisticated modeling techniques, stakeholders can navigate the challenges of the housing market with greater confidence and optimize their outcomes."
   ]
  }
 ],
 "metadata": {
  "kernelspec": {
   "display_name": "Python 3 (ipykernel)",
   "language": "python",
   "name": "python3"
  },
  "language_info": {
   "codemirror_mode": {
    "name": "ipython",
    "version": 3
   },
   "file_extension": ".py",
   "mimetype": "text/x-python",
   "name": "python",
   "nbconvert_exporter": "python",
   "pygments_lexer": "ipython3",
   "version": "3.10.9"
  }
 },
 "nbformat": 4,
 "nbformat_minor": 5
}
